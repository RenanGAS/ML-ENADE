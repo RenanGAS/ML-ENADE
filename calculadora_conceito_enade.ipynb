{
 "cells": [
  {
   "cell_type": "code",
   "execution_count": null,
   "id": "1ff9dbfc-46d2-42eb-920f-8fd5f6a2622a",
   "metadata": {},
   "outputs": [],
   "source": [
    "import numpy as np\n",
    "import pandas as pd\n",
    "import math"
   ]
  },
  {
   "cell_type": "code",
   "execution_count": null,
   "id": "0be50eba-ea65-454a-8a5d-c6d113dd0ca9",
   "metadata": {},
   "outputs": [],
   "source": [
    "df_tabela_final = pd.read_csv('tabela_final.csv')"
   ]
  },
  {
   "cell_type": "code",
   "execution_count": null,
   "id": "d17ebe89-bfc0-41a1-ae29-257f9e11f464",
   "metadata": {},
   "outputs": [],
   "source": [
    "cursos_array = df_tabela_final[\"Curso\"].unique()\n",
    "\n",
    "cursos_lista = cursos_array.tolist()"
   ]
  },
  {
   "cell_type": "code",
   "execution_count": null,
   "id": "9d855c4c-5611-4396-a563-f2133efeb527",
   "metadata": {},
   "outputs": [],
   "source": [
    "transformacaoDadosEnade = []\n",
    "nome_das_novas_colunas = []\n",
    "definir_colunas = 1\n",
    "\n",
    "anos_enade = [2011, 2014, 2017, 2021]\n",
    "\n",
    "for ano in anos_enade:\n",
    "    df_ano = df_tabela_final.loc[df_tabela_final['Ano'] == ano]\n",
    "    \n",
    "    dados_do_curso = []\n",
    "    \n",
    "    for area in cursos_lista:\n",
    "        df_ano_area = df_ano.loc[df_tabela_final['Curso'] == area]\n",
    "        numero_ocorrencias_area = len(df_ano_area)\n",
    "        \n",
    "        if definir_colunas:\n",
    "            nome_colunas.append('Media_Nacional_FG')\n",
    "            \n",
    "        media_nacional_FG = df_ano_area[\"Media_FG\"].sum() / numero_ocorrencias_area\n",
    "        dados_do_curso.append(media_nacional_FG)\n",
    "        \n",
    "        if definir_colunas:\n",
    "            nome_colunas.append('Media_Nacional_CE')\n",
    "            \n",
    "        media_nacional_CE = df_ano_area[\"Media_CE\"].sum() / numero_ocorrencias_area\n",
    "        dados_do_curso.append(media_nacional_CE)\n",
    "        \n",
    "        if definir_colunas:\n",
    "            nome_colunas.append('Desvio_Padrao_FG')\n",
    "            \n",
    "        desvio_padrao_FG = sqrt(pow((df_ano_area[\"Media_FG\"].sum() - (len(df_ano_area) * df_ano_area.at[0, \"Media_Nacional_FG\"])), 2) / (numero_ocorrencias_area - 1))\n",
    "        dados_do_curso.append(desvio_padrao_FG)\n",
    "        \n",
    "        if definir_colunas:\n",
    "            nome_colunas.append('Desvio_Padrao_CE')\n",
    "            \n",
    "        desvio_padrao_CE = sqrt(pow((df_ano_area[\"Media_CE\"].sum() - (len(df_ano_area) * df_ano_area.at[0, \"Media_Nacional_CE\"])), 2) / (numero_ocorrencias_area - 1))\n",
    "        dados_do_curso.append(desvio_padrao_CE)\n",
    "    \n",
    "    transformacaoDadosEnade.append(dados_do_curso)\n",
    "    definir_colunas = 0\n",
    "\n",
    "dfDadosTransformados = pd.DataFrame(transformacaoDadosEnade)\n",
    "\n",
    "dfDadosTransformados.columns =[nome_das_novas_colunas]"
   ]
  }
 ],
 "metadata": {
  "kernelspec": {
   "display_name": "Python 3 (ipykernel)",
   "language": "python",
   "name": "python3"
  },
  "language_info": {
   "codemirror_mode": {
    "name": "ipython",
    "version": 3
   },
   "file_extension": ".py",
   "mimetype": "text/x-python",
   "name": "python",
   "nbconvert_exporter": "python",
   "pygments_lexer": "ipython3",
   "version": "3.10.9"
  }
 },
 "nbformat": 4,
 "nbformat_minor": 5
}
