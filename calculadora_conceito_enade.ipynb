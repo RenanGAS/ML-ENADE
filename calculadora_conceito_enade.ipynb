{
 "cells": [
  {
   "cell_type": "code",
   "execution_count": null,
   "id": "1ff9dbfc-46d2-42eb-920f-8fd5f6a2622a",
   "metadata": {},
   "outputs": [],
   "source": [
    "import numpy as np\n",
    "import pandas as pd"
   ]
  },
  {
   "cell_type": "code",
   "execution_count": null,
   "id": "9942811d-7043-4ce9-b268-526825441076",
   "metadata": {},
   "outputs": [],
   "source": []
  },
  {
   "cell_type": "code",
   "execution_count": null,
   "id": "0be50eba-ea65-454a-8a5d-c6d113dd0ca9",
   "metadata": {},
   "outputs": [],
   "source": [
    "codigoCursosArray = dados_do_enade[\"Codigo_do_Curso\"].unique()\n",
    "codigo_dos_cursos = codigoCursosArray.tolist()"
   ]
  },
  {
   "cell_type": "code",
   "execution_count": null,
   "id": "b3971dad-2535-418e-883b-f5131b4e3bdf",
   "metadata": {},
   "outputs": [],
   "source": [
    "numero_notas_invalidas = 0\n",
    "numero_faltantes = 0\n",
    "numero_participantes = 0\n",
    "\n",
    "for index, linha in dados_21.iterrows():\n",
    "    if data_frame_arquivo.at[index,\"TP_PRES\"] == 555:\n",
    "        numero_participantes += 1\n",
    "    else:\n",
    "        if data_frame_arquivo.at[index,\"TP_PRES\"] == 556:\n",
    "            numero_notas_invalidas += 1\n",
    "        numero_faltantes += 1\n",
    "        data_frame_arquivo.at[index,\"NT_FG\"] = 0\n",
    "        data_frame_arquivo.at[index,\"NT_CE\"] = 0"
   ]
  },
  {
   "cell_type": "code",
   "execution_count": null,
   "id": "a1db1951-bd74-429f-8a1c-f9c2ee8ecb87",
   "metadata": {},
   "outputs": [],
   "source": [
    "soma_FG = 0\n",
    "soma_CE = 0\n",
    "\n",
    "for index, linha in dados_21.iterrows():\n",
    "    soma_FG += data_frame_arquivo.at[index,\"NT_FG\"]\n",
    "    soma_CE += data_frame_arquivo.at[index,\"NT_CE\"]\n",
    "    \n",
    "media_FG = soma_FG / numero_participantes\n",
    "media_CE = soma_CE / numero_participantes"
   ]
  }
 ],
 "metadata": {
  "kernelspec": {
   "display_name": "Python 3 (ipykernel)",
   "language": "python",
   "name": "python3"
  },
  "language_info": {
   "codemirror_mode": {
    "name": "ipython",
    "version": 3
   },
   "file_extension": ".py",
   "mimetype": "text/x-python",
   "name": "python",
   "nbconvert_exporter": "python",
   "pygments_lexer": "ipython3",
   "version": "3.9.13"
  }
 },
 "nbformat": 4,
 "nbformat_minor": 5
}
