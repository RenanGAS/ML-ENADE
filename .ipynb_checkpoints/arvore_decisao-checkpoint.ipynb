{
 "cells": [
  {
   "cell_type": "code",
   "execution_count": 107,
   "id": "a417832e-bab2-46ed-b338-5d4b07ab0b40",
   "metadata": {},
   "outputs": [],
   "source": [
    "import pandas as pd\n",
    "import numpy as np\n",
    "from sklearn.model_selection import train_test_split\n",
    "from sklearn.tree import DecisionTreeClassifier\n",
    "from sklearn.pipeline import make_pipeline\n",
    "from sklearn.model_selection import cross_validate\n",
    "from sklearn.experimental import enable_halving_search_cv\n",
    "from sklearn.model_selection import HalvingGridSearchCV\n",
    "from sklearn import metrics\n",
    "from sklearn.model_selection import StratifiedKFold"
   ]
  },
  {
   "cell_type": "code",
   "execution_count": null,
   "id": "d3eb23d9-9776-45cc-90bf-8624917d67d0",
   "metadata": {},
   "outputs": [],
   "source": [
    "data = pd.read_csv(\"tabela_final_treinamento.csv\")\n",
    "\n",
    "X = data.iloc[:, 0:225]\n",
    "y = data.iloc[:, -1]"
   ]
  },
  {
   "cell_type": "code",
   "execution_count": null,
   "id": "bbb7761b-a1cc-494f-ba85-d68fefdb8690",
   "metadata": {},
   "outputs": [],
   "source": [
    "X"
   ]
  },
  {
   "cell_type": "code",
   "execution_count": null,
   "id": "52bc43f3-b69d-4f33-b0ff-62ebab442549",
   "metadata": {},
   "outputs": [],
   "source": [
    "y"
   ]
  },
  {
   "cell_type": "code",
   "execution_count": 124,
   "id": "dae080e0-3760-4474-bd6f-8b14488fa79c",
   "metadata": {},
   "outputs": [],
   "source": [
    "X_train, X_test, y_train, y_test = train_test_split(X, y, random_state=42)\n",
    "\n",
    "classifier = DecisionTreeClassifier()"
   ]
  },
  {
   "cell_type": "code",
   "execution_count": 125,
   "id": "f163f01f-6b86-43f8-858f-f9c2065a51d9",
   "metadata": {},
   "outputs": [],
   "source": [
    "param_grid = {\"max_depth\": [None],\n",
    "               \"min_samples_split\": [2, 30]}\n",
    "\n",
    "result = HalvingGridSearchCV(classifier, param_grid, cv=StratifiedKFold(n_splits=4))"
   ]
  },
  {
   "cell_type": "code",
   "execution_count": 126,
   "id": "2021670b-3458-4d85-b718-2fc0475b0817",
   "metadata": {},
   "outputs": [
    {
     "data": {
      "text/plain": [
       "HalvingGridSearchCV(cv=StratifiedKFold(n_splits=4, random_state=None, shuffle=False),\n",
       "                    estimator=DecisionTreeClassifier(),\n",
       "                    param_grid={'max_depth': [None],\n",
       "                                'min_samples_split': [2, 30]})"
      ]
     },
     "execution_count": 126,
     "metadata": {},
     "output_type": "execute_result"
    }
   ],
   "source": [
    "result.fit(X_train, y_train)"
   ]
  },
  {
   "cell_type": "code",
   "execution_count": 127,
   "id": "87c70bb3-e9e5-420b-b897-bb0f83b8d486",
   "metadata": {},
   "outputs": [],
   "source": [
    "ypredict = result.predict(X_test)"
   ]
  },
  {
   "cell_type": "code",
   "execution_count": 128,
   "id": "9c8bd731-6e77-4e5e-ae6b-8720d2c9ffe7",
   "metadata": {},
   "outputs": [
    {
     "name": "stdout",
     "output_type": "stream",
     "text": [
      "0.3835480118022754\n"
     ]
    }
   ],
   "source": [
    "print(metrics.f1_score(y_test, ypredict,average='weighted'))"
   ]
  },
  {
   "cell_type": "code",
   "execution_count": 130,
   "id": "1635324d-7930-48d4-b167-2e4909aee384",
   "metadata": {},
   "outputs": [
    {
     "name": "stdout",
     "output_type": "stream",
     "text": [
      "0.386986301369863\n"
     ]
    }
   ],
   "source": [
    "print(metrics.accuracy_score(y_test, ypredict))"
   ]
  },
  {
   "cell_type": "code",
   "execution_count": 96,
   "id": "c1cfb4bf-b5b6-4dcd-9dde-375f25c3e658",
   "metadata": {},
   "outputs": [],
   "source": [
    "best_estimator = result.best_estimator_  "
   ]
  },
  {
   "cell_type": "code",
   "execution_count": 97,
   "id": "9a973c6f-f1d4-483e-b3d6-9fd3d20395b7",
   "metadata": {},
   "outputs": [],
   "source": [
    "results = cross_validate(estimator=best_estimator,\n",
    "                               X=X_test,\n",
    "                               y=y_test,\n",
    "                               cv=4,\n",
    "                               scoring='f1_macro',\n",
    "                               return_train_score=True)"
   ]
  },
  {
   "cell_type": "code",
   "execution_count": 98,
   "id": "60b6b5af-3e76-4e7a-b3fa-fb692bd3bc21",
   "metadata": {},
   "outputs": [
    {
     "data": {
      "text/plain": [
       "{'fit_time': array([0.07862115, 0.07026148, 0.07195711, 0.0754869 , 0.07363153]),\n",
       " 'score_time': array([0.00309229, 0.00287366, 0.00284982, 0.00280809, 0.00283885]),\n",
       " 'test_score': array([0.30779494, 0.2542022 , 0.32315406, 0.25325822, 0.29494064]),\n",
       " 'train_score': array([0.67242319, 0.66389954, 0.63973442, 0.64426628, 0.68720547])}"
      ]
     },
     "execution_count": 98,
     "metadata": {},
     "output_type": "execute_result"
    }
   ],
   "source": [
    "results"
   ]
  },
  {
   "cell_type": "code",
   "execution_count": null,
   "id": "321a7791-e84e-4803-aa3b-d80e3000861b",
   "metadata": {},
   "outputs": [],
   "source": []
  }
 ],
 "metadata": {
  "kernelspec": {
   "display_name": "Python 3 (ipykernel)",
   "language": "python",
   "name": "python3"
  },
  "language_info": {
   "codemirror_mode": {
    "name": "ipython",
    "version": 3
   },
   "file_extension": ".py",
   "mimetype": "text/x-python",
   "name": "python",
   "nbconvert_exporter": "python",
   "pygments_lexer": "ipython3",
   "version": "3.9.13"
  }
 },
 "nbformat": 4,
 "nbformat_minor": 5
}
