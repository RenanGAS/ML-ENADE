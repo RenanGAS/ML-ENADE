{
 "cells": [
  {
   "cell_type": "code",
   "execution_count": null,
   "id": "4808711b-8e75-4eba-b00e-fb98f2fa1f24",
   "metadata": {},
   "outputs": [],
   "source": [
    "import pandas as pd"
   ]
  },
  {
   "cell_type": "code",
   "execution_count": null,
   "id": "90609a1d-3c9b-48a9-824e-350fe55d4942",
   "metadata": {},
   "outputs": [],
   "source": [
    "for i in range(43):\n",
    "    j = i + 1\n",
    "    origin = f'dados_21/microdados2021_arq{j}.txt'\n",
    "    destine = f'dados_21csv/arq{j}.csv'\n",
    "    file = pd.read_csv(origin, sep=';')\n",
    "    file.to_csv(destine, index = None)"
   ]
  },
  {
   "cell_type": "code",
   "execution_count": null,
   "id": "fbecc96d-2d6f-43af-bf02-3cea3b1097ed",
   "metadata": {},
   "outputs": [],
   "source": [
    "arq1 = pd.read_csv('dados_21_csv/arq1.csv')\n",
    "arq2 = pd.read_csv('dados_21_csv/arq2.csv')\n",
    "arq3 = pd.read_csv('dados_21_csv/arq3.csv')"
   ]
  },
  {
   "cell_type": "code",
   "execution_count": null,
   "id": "f0bb0209-bdd1-4a19-8d5e-95fb235aa5f1",
   "metadata": {},
   "outputs": [],
   "source": [
    "arq1.head(8)"
   ]
  },
  {
   "cell_type": "code",
   "execution_count": null,
   "id": "24cde96b-4a26-4976-9466-89a1efd37ad9",
   "metadata": {},
   "outputs": [],
   "source": [
    "arq2.head(8)"
   ]
  },
  {
   "cell_type": "code",
   "execution_count": null,
   "id": "b77eef02-7011-4c1a-8131-5fc07af5fecd",
   "metadata": {},
   "outputs": [],
   "source": [
    "arq3.head(8)"
   ]
  },
  {
   "cell_type": "code",
   "execution_count": null,
   "id": "3a43a189-c137-43ac-93bf-58eae1e2f486",
   "metadata": {},
   "outputs": [],
   "source": [
    "selectArq1 = arq1[arq1[\"CO_GRUPO\"].isin([72, 4004, 6409, 4005, 79, 4006])]"
   ]
  },
  {
   "cell_type": "code",
   "execution_count": null,
   "id": "d7f89514-3003-4d93-b925-8ab811990728",
   "metadata": {},
   "outputs": [],
   "source": [
    "selectArq1"
   ]
  },
  {
   "cell_type": "code",
   "execution_count": null,
   "id": "305353bb-bafa-4b17-b7a2-b43b0bd39412",
   "metadata": {},
   "outputs": [],
   "source": [
    "# result = pd.merge(arq2, arq3, how=\"outer\", on=[\"NU_ANO\", \"CO_CURSO\"])"
   ]
  }
 ],
 "metadata": {
  "kernelspec": {
   "display_name": "Python 3 (ipykernel)",
   "language": "python",
   "name": "python3"
  },
  "language_info": {
   "codemirror_mode": {
    "name": "ipython",
    "version": 3
   },
   "file_extension": ".py",
   "mimetype": "text/x-python",
   "name": "python",
   "nbconvert_exporter": "python",
   "pygments_lexer": "ipython3",
   "version": "3.9.13"
  }
 },
 "nbformat": 4,
 "nbformat_minor": 5
}
