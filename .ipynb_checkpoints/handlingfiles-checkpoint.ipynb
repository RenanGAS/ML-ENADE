{
 "cells": [
  {
   "cell_type": "code",
   "execution_count": null,
   "id": "4808711b-8e75-4eba-b00e-fb98f2fa1f24",
   "metadata": {},
   "outputs": [],
   "source": [
    "import pandas as pd"
   ]
  },
  {
   "cell_type": "code",
   "execution_count": null,
   "id": "90609a1d-3c9b-48a9-824e-350fe55d4942",
   "metadata": {},
   "outputs": [],
   "source": [
    "for i in range(43):\n",
    "    j = i + 1\n",
    "    origin = f'dados_21/microdados2021_arq{j}.txt'\n",
    "    destine = f'dados_21csv/arq{j}.csv'\n",
    "    file = pd.read_csv(origin, sep=';')\n",
    "    file.to_csv(destine, index = None)"
   ]
  },
  {
   "cell_type": "code",
   "execution_count": null,
   "id": "fbecc96d-2d6f-43af-bf02-3cea3b1097ed",
   "metadata": {},
   "outputs": [],
   "source": [
    "arq1 = pd.read_csv('dados_21_csv/arq1.csv')\n",
    "arq2 = pd.read_csv('dados_21_csv/arq2.csv')\n",
    "arq3 = pd.read_csv('dados_21_csv/arq3.csv')"
   ]
  },
  {
   "cell_type": "code",
   "execution_count": null,
   "id": "f0bb0209-bdd1-4a19-8d5e-95fb235aa5f1",
   "metadata": {},
   "outputs": [],
   "source": [
    "arq1.head(8)"
   ]
  },
  {
   "cell_type": "code",
   "execution_count": null,
   "id": "24cde96b-4a26-4976-9466-89a1efd37ad9",
   "metadata": {},
   "outputs": [],
   "source": [
    "arq2.head(8)"
   ]
  },
  {
   "cell_type": "code",
   "execution_count": null,
   "id": "b77eef02-7011-4c1a-8131-5fc07af5fecd",
   "metadata": {},
   "outputs": [],
   "source": [
    "arq3.head(8)"
   ]
  },
  {
   "cell_type": "code",
   "execution_count": 14,
   "id": "e628ac7c-11b7-4f6d-9566-6151cefc31ae",
   "metadata": {},
   "outputs": [],
   "source": [
    "selectCC = arq1[arq1[\"CO_GRUPO\"].isin([72, 4004, 6409, 4005, 79, 4006])]"
   ]
  },
  {
   "cell_type": "code",
   "execution_count": 15,
   "id": "46888a4d-dd64-4612-bf8b-c5bbe5f35197",
   "metadata": {},
   "outputs": [],
   "source": [
    "selectAtt = selectCC[['NU_ANO','CO_GRUPO', 'CO_UF_CURSO', 'CO_REGIAO_CURSO', 'CO_CATEGAD', 'CO_ORGACAD']]"
   ]
  },
  {
   "cell_type": "code",
   "execution_count": 16,
   "id": "d7f89514-3003-4d93-b925-8ab811990728",
   "metadata": {},
   "outputs": [
    {
     "data": {
      "text/html": [
       "<div>\n",
       "<style scoped>\n",
       "    .dataframe tbody tr th:only-of-type {\n",
       "        vertical-align: middle;\n",
       "    }\n",
       "\n",
       "    .dataframe tbody tr th {\n",
       "        vertical-align: top;\n",
       "    }\n",
       "\n",
       "    .dataframe thead th {\n",
       "        text-align: right;\n",
       "    }\n",
       "</style>\n",
       "<table border=\"1\" class=\"dataframe\">\n",
       "  <thead>\n",
       "    <tr style=\"text-align: right;\">\n",
       "      <th></th>\n",
       "      <th>NU_ANO</th>\n",
       "      <th>CO_GRUPO</th>\n",
       "      <th>CO_UF_CURSO</th>\n",
       "      <th>CO_REGIAO_CURSO</th>\n",
       "      <th>CO_CATEGAD</th>\n",
       "      <th>CO_ORGACAD</th>\n",
       "    </tr>\n",
       "  </thead>\n",
       "  <tbody>\n",
       "    <tr>\n",
       "      <th>215</th>\n",
       "      <td>2021</td>\n",
       "      <td>4004</td>\n",
       "      <td>51</td>\n",
       "      <td>5</td>\n",
       "      <td>1</td>\n",
       "      <td>10028</td>\n",
       "    </tr>\n",
       "    <tr>\n",
       "      <th>216</th>\n",
       "      <td>2021</td>\n",
       "      <td>4004</td>\n",
       "      <td>51</td>\n",
       "      <td>5</td>\n",
       "      <td>1</td>\n",
       "      <td>10028</td>\n",
       "    </tr>\n",
       "    <tr>\n",
       "      <th>217</th>\n",
       "      <td>2021</td>\n",
       "      <td>4004</td>\n",
       "      <td>51</td>\n",
       "      <td>5</td>\n",
       "      <td>1</td>\n",
       "      <td>10028</td>\n",
       "    </tr>\n",
       "    <tr>\n",
       "      <th>218</th>\n",
       "      <td>2021</td>\n",
       "      <td>4004</td>\n",
       "      <td>51</td>\n",
       "      <td>5</td>\n",
       "      <td>1</td>\n",
       "      <td>10028</td>\n",
       "    </tr>\n",
       "    <tr>\n",
       "      <th>219</th>\n",
       "      <td>2021</td>\n",
       "      <td>4004</td>\n",
       "      <td>51</td>\n",
       "      <td>5</td>\n",
       "      <td>1</td>\n",
       "      <td>10028</td>\n",
       "    </tr>\n",
       "    <tr>\n",
       "      <th>...</th>\n",
       "      <td>...</td>\n",
       "      <td>...</td>\n",
       "      <td>...</td>\n",
       "      <td>...</td>\n",
       "      <td>...</td>\n",
       "      <td>...</td>\n",
       "    </tr>\n",
       "    <tr>\n",
       "      <th>489861</th>\n",
       "      <td>2021</td>\n",
       "      <td>72</td>\n",
       "      <td>26</td>\n",
       "      <td>2</td>\n",
       "      <td>5</td>\n",
       "      <td>10022</td>\n",
       "    </tr>\n",
       "    <tr>\n",
       "      <th>489862</th>\n",
       "      <td>2021</td>\n",
       "      <td>72</td>\n",
       "      <td>26</td>\n",
       "      <td>2</td>\n",
       "      <td>5</td>\n",
       "      <td>10022</td>\n",
       "    </tr>\n",
       "    <tr>\n",
       "      <th>489863</th>\n",
       "      <td>2021</td>\n",
       "      <td>72</td>\n",
       "      <td>26</td>\n",
       "      <td>2</td>\n",
       "      <td>5</td>\n",
       "      <td>10022</td>\n",
       "    </tr>\n",
       "    <tr>\n",
       "      <th>489864</th>\n",
       "      <td>2021</td>\n",
       "      <td>72</td>\n",
       "      <td>26</td>\n",
       "      <td>2</td>\n",
       "      <td>5</td>\n",
       "      <td>10022</td>\n",
       "    </tr>\n",
       "    <tr>\n",
       "      <th>489865</th>\n",
       "      <td>2021</td>\n",
       "      <td>72</td>\n",
       "      <td>42</td>\n",
       "      <td>4</td>\n",
       "      <td>5</td>\n",
       "      <td>10022</td>\n",
       "    </tr>\n",
       "  </tbody>\n",
       "</table>\n",
       "<p>62031 rows × 6 columns</p>\n",
       "</div>"
      ],
      "text/plain": [
       "        NU_ANO  CO_GRUPO  CO_UF_CURSO  CO_REGIAO_CURSO  CO_CATEGAD  CO_ORGACAD\n",
       "215       2021      4004           51                5           1       10028\n",
       "216       2021      4004           51                5           1       10028\n",
       "217       2021      4004           51                5           1       10028\n",
       "218       2021      4004           51                5           1       10028\n",
       "219       2021      4004           51                5           1       10028\n",
       "...        ...       ...          ...              ...         ...         ...\n",
       "489861    2021        72           26                2           5       10022\n",
       "489862    2021        72           26                2           5       10022\n",
       "489863    2021        72           26                2           5       10022\n",
       "489864    2021        72           26                2           5       10022\n",
       "489865    2021        72           42                4           5       10022\n",
       "\n",
       "[62031 rows x 6 columns]"
      ]
     },
     "execution_count": 16,
     "metadata": {},
     "output_type": "execute_result"
    }
   ],
   "source": [
    "selectAtt"
   ]
  },
  {
   "cell_type": "code",
   "execution_count": null,
   "id": "305353bb-bafa-4b17-b7a2-b43b0bd39412",
   "metadata": {},
   "outputs": [],
   "source": [
    "# result = pd.merge(arq2, arq3, how=\"outer\", on=[\"NU_ANO\", \"CO_CURSO\"])"
   ]
  }
 ],
 "metadata": {
  "kernelspec": {
   "display_name": "Python 3 (ipykernel)",
   "language": "python",
   "name": "python3"
  },
  "language_info": {
   "codemirror_mode": {
    "name": "ipython",
    "version": 3
   },
   "file_extension": ".py",
   "mimetype": "text/x-python",
   "name": "python",
   "nbconvert_exporter": "python",
   "pygments_lexer": "ipython3",
   "version": "3.9.13"
  }
 },
 "nbformat": 4,
 "nbformat_minor": 5
}
