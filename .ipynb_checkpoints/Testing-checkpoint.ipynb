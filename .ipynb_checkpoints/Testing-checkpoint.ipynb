{
 "cells": [
  {
   "cell_type": "code",
   "execution_count": null,
   "id": "6ced60e7-43bf-4093-82d6-ca09c6cee6ff",
   "metadata": {},
   "outputs": [],
   "source": [
    "import pandas as pd\n",
    "import numpy as np"
   ]
  },
  {
   "cell_type": "code",
   "execution_count": null,
   "id": "b33a3d5b-6708-4155-9a87-0debfb0aad41",
   "metadata": {},
   "outputs": [],
   "source": [
    "dados_11 = pd.read_csv('computacao_enade_2011.csv')"
   ]
  },
  {
   "cell_type": "code",
   "execution_count": null,
   "id": "1d35b20a-f061-4ea9-8dc7-3be426b8201a",
   "metadata": {},
   "outputs": [],
   "source": [
    "dados_21 = pd.read_csv('pre-process_2021.csv')"
   ]
  },
  {
   "cell_type": "code",
   "execution_count": null,
   "id": "f5b9cab9-d71c-47fe-961f-199578d8f319",
   "metadata": {},
   "outputs": [],
   "source": [
    "dados = pd.read_csv('merge.csv')"
   ]
  },
  {
   "cell_type": "code",
   "execution_count": null,
   "id": "3e427439-a396-485d-889c-2375dc9c6007",
   "metadata": {},
   "outputs": [],
   "source": [
    "# Nenhuma renda familiar\n",
    "\n",
    "dados_11_Nenhum_Salario = dados_11[dados_11[\"QE_I05\"] == \"A\"]\n",
    "len_Tipo_EM_E = len(dados_11_Nenhum_Salario)\n",
    "\n",
    "len_Tipo_EM_E"
   ]
  },
  {
   "cell_type": "code",
   "execution_count": null,
   "id": "e6035fe5-faf9-4d60-8872-cf60657738ce",
   "metadata": {},
   "outputs": [],
   "source": [
    "# J = Mais de um dos tipos de bolsa ou financiamento citados.\n",
    "\n",
    "dados_11_Mais_de_um = dados_11[dados_11[\"QE_I10\"] == \"J\"]\n",
    "len_Mais_de_um = len(dados_11_Mais_de_um)\n",
    "\n",
    "len_Mais_de_um"
   ]
  },
  {
   "cell_type": "code",
   "execution_count": null,
   "id": "0be042ed-bb1c-42b6-94fa-f2f4c69fbaba",
   "metadata": {},
   "outputs": [],
   "source": [
    "# Repondeu \"Não se aplica\", \"Não\" ou apenas não respondeu a questão QE_I10\n",
    "\n",
    "dados_11_Sem_Bolsa = dados_11[dados_11[\"QE_I10\"].isnull()]\n",
    "len_Sem_Bolsa = len(dados_11_Sem_Bolsa)\n",
    "\n",
    "len_Sem_Bolsa"
   ]
  },
  {
   "cell_type": "code",
   "execution_count": null,
   "id": "8e34664c-3725-49ce-88b3-44a381c1fdb9",
   "metadata": {},
   "outputs": [],
   "source": [
    "# Repondeu \"Não se aplica\" ou \"Não\" em QE_I09\n",
    "\n",
    "dados_11_Nao_Bolsa = dados_11[(dados_11[\"QE_I09\"] == \"B\") | (dados_11[\"QE_I09\"] == \"C\") | (dados_11[\"QE_I09\"].isnull())]\n",
    "len_Nao_Bolsa = len(dados_11_Nao_Bolsa)\n",
    "\n",
    "len_Nao_Bolsa"
   ]
  },
  {
   "cell_type": "code",
   "execution_count": null,
   "id": "5db690de-402f-494e-a7d5-ba40c82b5e67",
   "metadata": {},
   "outputs": [],
   "source": [
    "df = pd.DataFrame(columns = [\"Atributo 1\", \"Atributo 2\", \"Atributo 3\"])\n",
    "\n",
    "df[\"Atributo 1\"] = \"Renan\"\n",
    "df[\"Atributo 2\"] = 0\n",
    "df[\"Atributo 3\"] = 2002\n",
    "\n",
    "df"
   ]
  },
  {
   "cell_type": "code",
   "execution_count": null,
   "id": "a4c88af7-5f71-475a-9798-61292e389707",
   "metadata": {},
   "outputs": [],
   "source": [
    "numpy_array = np.array([10,20,30,40,50])\n",
    "np.concatenate(numpy_array,[60,80,90])\n",
    "\n",
    "numpy_array"
   ]
  },
  {
   "cell_type": "code",
   "execution_count": null,
   "id": "2a46bfa9-936d-4d1e-833c-1c600432fda9",
   "metadata": {},
   "outputs": [],
   "source": [
    "# Mexendo com np array para colocar em posições especificas de acordo com a cópia do data frame"
   ]
  },
  {
   "cell_type": "code",
   "execution_count": null,
   "id": "aa912175-6f80-45ed-8df5-ee17be2a14f8",
   "metadata": {},
   "outputs": [],
   "source": [
    "numero_evasoes_IESes = pd.Series([], dtype=float)\n",
    "\n",
    "for i in range(10):\n",
    "    numero_evasoes_IESes = pd.concat([numero_evasoes_IESes, [9]])"
   ]
  },
  {
   "cell_type": "code",
   "execution_count": null,
   "id": "5f1fc588-cf1e-4cca-a13e-3d2739e26f10",
   "metadata": {},
   "outputs": [],
   "source": [
    "numero_evasoes_IESes"
   ]
  },
  {
   "cell_type": "code",
   "execution_count": null,
   "id": "1b2eeb9a-d25e-40e2-a433-a49e1e24c9ce",
   "metadata": {},
   "outputs": [],
   "source": []
  }
 ],
 "metadata": {
  "kernelspec": {
   "display_name": "Python 3 (ipykernel)",
   "language": "python",
   "name": "python3"
  },
  "language_info": {
   "codemirror_mode": {
    "name": "ipython",
    "version": 3
   },
   "file_extension": ".py",
   "mimetype": "text/x-python",
   "name": "python",
   "nbconvert_exporter": "python",
   "pygments_lexer": "ipython3",
   "version": "3.9.13"
  }
 },
 "nbformat": 4,
 "nbformat_minor": 5
}
