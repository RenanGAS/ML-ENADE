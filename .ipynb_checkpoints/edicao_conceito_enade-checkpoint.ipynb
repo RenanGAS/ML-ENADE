{
 "cells": [
  {
   "cell_type": "code",
   "execution_count": null,
   "id": "4eb5426c-9e12-4bed-b10d-3a6b19564a08",
   "metadata": {},
   "outputs": [],
   "source": [
    "import pandas as pd\n",
    "import numpy as np"
   ]
  },
  {
   "cell_type": "code",
   "execution_count": null,
   "id": "143e6830-47c4-4676-97a4-26433cfe145d",
   "metadata": {},
   "outputs": [],
   "source": [
    "conceito_2021 = pd.read_csv('Conceito_ENADE/conceito_enade_2021.csv')\n",
    "conceito_2017 = pd.read_csv('Conceito_ENADE/conceito_enade_2017.csv')\n",
    "conceito_2014 = pd.read_csv('Conceito_ENADE/conceito_enade_2014.csv')\n",
    "conceito_2011 = pd.read_csv('Conceito_ENADE/conceito_enade_2011.csv')\n",
    "\n",
    "# numero_evasoes_2011 = conceito_2011.iloc[:,4]"
   ]
  },
  {
   "cell_type": "code",
   "execution_count": null,
   "id": "922cdea7-954a-4b9f-944c-79536e223e91",
   "metadata": {},
   "outputs": [],
   "source": [
    "conceito_2021.drop([7997, 7998, 7999], axis=0, inplace=True)\n",
    "\n",
    "conceito_2021 = conceito_2021[[\"Código do Curso\", \"Código da Área\", \"Nº de Concluintes Inscritos\", \"Nº  de Concluintes Participantes\"]]\n",
    "\n",
    "conceito_2021 = conceito_2021[conceito_2021[\"Código da Área\"].isin([72, 4004, 6409, 4005, 79, 4006])]\n",
    "\n",
    "conceito_2021 = conceito_2021.sort_values('Código do Curso')\n",
    "conceito_2021 = conceito_2021.reset_index(drop=True)\n",
    "\n",
    "conceito_2021 = conceito_2021.astype({'Código do Curso':int, 'Nº de Concluintes Inscritos': int, 'Nº  de Concluintes Participantes': int})\n",
    "\n",
    "conceito_2021[\"Numero_Evasoes\"] = conceito_2021['Nº de Concluintes Inscritos'] - conceito_2021['Nº  de Concluintes Participantes']"
   ]
  },
  {
   "cell_type": "code",
   "execution_count": null,
   "id": "aba55c59-38dc-4b79-bbd8-fc0e63e08524",
   "metadata": {},
   "outputs": [],
   "source": [
    "conceito_2017 = conceito_2017[[\"Código do Curso\", \"Código da Área\", \"Nº de Concluintes Inscritos\", \"Nº  de Concluintes Participantes\"]]\n",
    "\n",
    "conceito_2017 = conceito_2017[conceito_2017[\"Código da Área\"].isin([72, 4004, 6409, 4003, 4005, 79, 4006])]\n",
    "\n",
    "conceito_2017 = conceito_2017.sort_values('Código do Curso')\n",
    "conceito_2017 = conceito_2017.reset_index(drop=True)\n",
    "\n",
    "conceito_2017 = conceito_2017.astype({'Código do Curso':int, 'Nº de Concluintes Inscritos': int, 'Nº  de Concluintes Participantes': int})\n",
    "\n",
    "conceito_2017[\"Numero_Evasoes\"] = conceito_2017['Nº de Concluintes Inscritos'] - conceito_2017['Nº  de Concluintes Participantes']"
   ]
  },
  {
   "cell_type": "code",
   "execution_count": null,
   "id": "648d710b-6015-46b9-8ccc-c675f5162b16",
   "metadata": {},
   "outputs": [],
   "source": [
    "conceito_2014 = conceito_2014[[\"Cód. IES\", \"Cód Area\", \"Inscritos\", \"Participantes\"]]\n",
    "\n",
    "conceito_2014 = conceito_2014[conceito_2014[\"Cód Area\"].isin([72, 4004, 5809, 4005, 79, 4006])]\n",
    "\n",
    "conceito_2014 = conceito_2014.sort_values('Cód. IES')\n",
    "conceito_2014 = conceito_2014.reset_index(drop=True)\n",
    "\n",
    "conceito_2014 = conceito_2014.astype({'Cód. IES':int, 'Inscritos': int, 'Participantes': int})\n",
    "\n",
    "conceito_2014[\"Numero_Evasoes\"] = conceito_2014['Inscritos'] - conceito_2014['Participantes']"
   ]
  },
  {
   "cell_type": "code",
   "execution_count": null,
   "id": "e9bd562f-4a9c-4fd6-a159-ed5469488ec3",
   "metadata": {},
   "outputs": [],
   "source": [
    "conceito_2011 = conceito_2011[[\"Código IES\", \"Código Área Agrupamento\", \"Número Concluintes Inscritos\", \"Número de Concluintes Participantes\"]]\n",
    "\n",
    "conceito_2011 = conceito_2011[conceito_2011[\"Código Área Agrupamento\"].isin([72, 4004, 5809, 4005, 79, 4006])]\n",
    "\n",
    "conceito_2011 = conceito_2011.sort_values('Código IES')\n",
    "conceito_2011 = conceito_2011.reset_index(drop=True)\n",
    "\n",
    "conceito_2011 = conceito_2011.astype({'Código IES':int, 'Número Concluintes Inscritos': int, 'Número de Concluintes Participantes': int})\n",
    "\n",
    "conceito_2011[\"Numero_Evasoes\"] = conceito_2011['Número Concluintes Inscritos'] - conceito_2011['Número de Concluintes Participantes']"
   ]
  },
  {
   "cell_type": "code",
   "execution_count": null,
   "id": "aad9ad53-79c0-498e-9425-346cb9e4895a",
   "metadata": {},
   "outputs": [],
   "source": [
    "conceito_2021.rename(columns = {'Código do Curso':'Codigo_do_Curso', 'Código da Área': 'Curso', 'Nº de Concluintes Inscritos': 'Numero_Inscritos', 'Nº  de Concluintes Participantes': 'Numero_Participantes'}, inplace = True)\n",
    "conceito_2017.rename(columns = {'Código do Curso':'Codigo_do_Curso', 'Código da Área': 'Curso', 'Nº de Concluintes Inscritos': 'Numero_Inscritos', 'Nº  de Concluintes Participantes': 'Numero_Participantes'}, inplace = True)\n",
    "conceito_2014.rename(columns = {'Cód. IES':'Codigo_do_Curso', 'Cód Area': 'Curso', 'Inscritos': 'Numero_Inscritos', 'Participantes': 'Numero_Participantes'}, inplace = True)\n",
    "conceito_2011.rename(columns = {'Código IES':'Codigo_do_Curso', 'Código Área Agrupamento': 'Curso', 'Número Concluintes Inscritos': 'Numero_Inscritos', 'Número de Concluintes Participantes': 'Numero_Participantes'}, inplace = True)"
   ]
  },
  {
   "cell_type": "code",
   "execution_count": null,
   "id": "b4c86e56-e425-47c2-a8d2-726109ff0af9",
   "metadata": {},
   "outputs": [],
   "source": [
    "conceitos = [conceito_2021, conceito_2017, conceito_2014, conceito_2011]\n",
    "  \n",
    "conceitos_concatenados = pd.concat(conceitos)\n",
    "conceitos_concatenados = conceitos_concatenados.reset_index(drop=True)"
   ]
  },
  {
   "cell_type": "code",
   "execution_count": null,
   "id": "71a59189-6038-44c5-87f7-07cc505af1ce",
   "metadata": {},
   "outputs": [],
   "source": [
    "conceitos_concatenados"
   ]
  },
  {
   "cell_type": "code",
   "execution_count": null,
   "id": "8119968a-a276-4b22-bcf2-e43154d4dce4",
   "metadata": {},
   "outputs": [],
   "source": [
    "array_de_codigo_dos_cursos = conceitos_concatenados[\"Codigo_do_Curso\"].unique()\n",
    "\n",
    "codigo_dos_cursos = array_de_codigo_dos_cursos.tolist()\n",
    "\n",
    "numero_evasoes_IESes = []\n",
    "\n",
    "for codigo in codigo_dos_cursos:\n",
    "    subconjunto_do_codigo = conceitos_concatenados.loc[conceitos_concatenados['Codigo_do_Curso'] == codigo]\n",
    "    subconjunto_do_codigo = subconjunto_do_codigo.reset_index(drop=True)\n",
    "        \n",
    "    media_de_evasoes = subconjunto_do_codigo[\"Numero_Evasoes\"].mean()\n",
    "    numero_evasoes_IESes.append(media_de_evasoes)"
   ]
  },
  {
   "cell_type": "code",
   "execution_count": 50,
   "id": "32f72680-a863-41e5-a5f3-6565df4f66eb",
   "metadata": {},
   "outputs": [
    {
     "data": {
      "text/plain": [
       "0        7\n",
       "1       24\n",
       "2       12\n",
       "3        7\n",
       "4        1\n",
       "        ..\n",
       "2987     7\n",
       "2988     2\n",
       "2989     1\n",
       "2990     0\n",
       "2991    11\n",
       "Length: 2992, dtype: int64"
      ]
     },
     "execution_count": 50,
     "metadata": {},
     "output_type": "execute_result"
    }
   ],
   "source": [
    "series_resultado_numero_evasoes = pd.Series(numero_evasoes_IESes)\n",
    "series_resultado_numero_evasoes = series_resultado_numero_evasoes.round(0).astype(int)\n",
    "\n",
    "series_resultado_numero_evasoes"
   ]
  },
  {
   "cell_type": "code",
   "execution_count": null,
   "id": "cb947174-350b-4c69-8b68-b9b272026028",
   "metadata": {},
   "outputs": [],
   "source": [
    "teste_insercao_coluna = pd.read_csv('testeTransformacaoDados.csv')"
   ]
  },
  {
   "cell_type": "code",
   "execution_count": null,
   "id": "5e8cc944-9708-4b4c-adbe-2cc7f800f020",
   "metadata": {},
   "outputs": [],
   "source": [
    "teste_insercao_coluna[\"Numero_Evasoes\"] = numero_evasoes"
   ]
  },
  {
   "cell_type": "code",
   "execution_count": null,
   "id": "373bde03-2127-44fd-8a72-bf7cc2b60513",
   "metadata": {},
   "outputs": [],
   "source": [
    "teste_insercao_coluna"
   ]
  },
  {
   "cell_type": "code",
   "execution_count": null,
   "id": "e1417aa7-7f8d-4c89-b863-63d586adc38e",
   "metadata": {},
   "outputs": [],
   "source": []
  }
 ],
 "metadata": {
  "kernelspec": {
   "display_name": "Python 3 (ipykernel)",
   "language": "python",
   "name": "python3"
  },
  "language_info": {
   "codemirror_mode": {
    "name": "ipython",
    "version": 3
   },
   "file_extension": ".py",
   "mimetype": "text/x-python",
   "name": "python",
   "nbconvert_exporter": "python",
   "pygments_lexer": "ipython3",
   "version": "3.9.13"
  }
 },
 "nbformat": 4,
 "nbformat_minor": 5
}
