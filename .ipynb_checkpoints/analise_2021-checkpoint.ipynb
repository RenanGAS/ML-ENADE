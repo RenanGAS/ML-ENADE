{
 "cells": [
  {
   "cell_type": "code",
   "execution_count": null,
   "id": "4808711b-8e75-4eba-b00e-fb98f2fa1f24",
   "metadata": {},
   "outputs": [],
   "source": [
    "import pandas as pd\n",
    "import os, shutil"
   ]
  },
  {
   "cell_type": "code",
   "execution_count": null,
   "id": "90609a1d-3c9b-48a9-824e-350fe55d4942",
   "metadata": {},
   "outputs": [],
   "source": [
    "for i in range(43):\n",
    "    j = i + 1\n",
    "    origin = f'dados_2021/microdados2021_arq{j}.txt'\n",
    "    destine = f'dados_21_csv/arq{j}.csv'\n",
    "    file = pd.read_csv(origin, sep=';')\n",
    "    file.to_csv(destine, index = None)"
   ]
  },
  {
   "cell_type": "code",
   "execution_count": null,
   "id": "fbecc96d-2d6f-43af-bf02-3cea3b1097ed",
   "metadata": {},
   "outputs": [],
   "source": [
    "arq1 = pd.read_csv('dados_21_csv/arq1.csv')"
   ]
  },
  {
   "cell_type": "code",
   "execution_count": null,
   "id": "f0bb0209-bdd1-4a19-8d5e-95fb235aa5f1",
   "metadata": {},
   "outputs": [],
   "source": [
    "arq1"
   ]
  },
  {
   "cell_type": "code",
   "execution_count": null,
   "id": "02386736-ea3e-4872-b17d-a1b2f5594d2b",
   "metadata": {},
   "outputs": [],
   "source": [
    "col1 = arq1.pop(\"CO_CURSO\")       # Muda \"CO_CURSO\" em arq1 para primeira posição\n",
    "arq1.insert(0, col1.name, col1)"
   ]
  },
  {
   "cell_type": "code",
   "execution_count": null,
   "id": "3e411397-8a24-46ba-b888-0d9ee9cdac95",
   "metadata": {},
   "outputs": [],
   "source": [
    "filesID = [2, 3, 4, 5, 6, 7, 8, 10, 11, 12, 13, 14, 16, 21, 23, 24, 28, 29]"
   ]
  },
  {
   "cell_type": "code",
   "execution_count": null,
   "id": "4d7d0e96-fd02-4cc0-aa0f-c529868a2ff1",
   "metadata": {},
   "outputs": [],
   "source": [
    "# Move os arquivos desejados para a pasta dados_21_Atributos\n",
    "\n",
    "for i in filesID:\n",
    "    original = f'dados_21_csv/arq{i}.csv'\n",
    "    target = f'dados_21_Atributos/arq{i}.csv'\n",
    "    shutil.copyfile(original, target)"
   ]
  },
  {
   "cell_type": "code",
   "execution_count": null,
   "id": "febdbc87-35fd-41c3-9fb2-89b75cde0338",
   "metadata": {},
   "outputs": [],
   "source": [
    "# Move a coluna CO_CURSO para a primeira posição e ordena os arquivos\n",
    "# por esse atributo. \n",
    "\n",
    "# Manda os arquivos ajustados para pasta dados_21_Ajustado\n",
    "\n",
    "for i in filesID:\n",
    "    arq = pd.read_csv(f'dados_21_Atributos/arq{i}.csv')\n",
    "    col = arq.pop(\"CO_CURSO\")       \n",
    "    arq.insert(0, col.name, col)\n",
    "    arqSorted = arq.sort_values('CO_CURSO')\n",
    "    arqSorted = arqSorted.reset_index(drop=True) \n",
    "    arqSorted.to_csv('dados_21_Ajustado/{}.csv'.format(f'arq{i}'),index=False)"
   ]
  },
  {
   "cell_type": "code",
   "execution_count": null,
   "id": "5b76cd03-d09a-4fbd-917f-d92f64261d0b",
   "metadata": {},
   "outputs": [],
   "source": [
    "arq2 = pd.read_csv('dados_21_Ajustado/arq2.csv')\n",
    "arq3 = pd.read_csv('dados_21_Ajustado/arq3.csv')\n",
    "arq4 = pd.read_csv('dados_21_Ajustado/arq4.csv')\n",
    "arq5 = pd.read_csv('dados_21_Ajustado/arq5.csv')\n",
    "arq6 = pd.read_csv('dados_21_Ajustado/arq6.csv')\n",
    "arq7 = pd.read_csv('dados_21_Ajustado/arq7.csv')\n",
    "arq8 = pd.read_csv('dados_21_Ajustado/arq8.csv')\n",
    "arq10 = pd.read_csv('dados_21_Ajustado/arq10.csv')\n",
    "arq11 = pd.read_csv('dados_21_Ajustado/arq11.csv')\n",
    "arq12 = pd.read_csv('dados_21_Ajustado/arq12.csv')\n",
    "arq13 = pd.read_csv('dados_21_Ajustado/arq13.csv')\n",
    "arq14 = pd.read_csv('dados_21_Ajustado/arq14.csv')\n",
    "arq16 = pd.read_csv('dados_21_Ajustado/arq16.csv')\n",
    "arq21 = pd.read_csv('dados_21_Ajustado/arq21.csv')\n",
    "arq23 = pd.read_csv('dados_21_Ajustado/arq23.csv')\n",
    "arq24 = pd.read_csv('dados_21_Ajustado/arq24.csv')\n",
    "arq28 = pd.read_csv('dados_21_Ajustado/arq28.csv')\n",
    "arq29 = pd.read_csv('dados_21_Ajustado/arq29.csv')"
   ]
  },
  {
   "cell_type": "code",
   "execution_count": null,
   "id": "3825ccaf-f590-4f90-9bd3-e620ff1e13e4",
   "metadata": {},
   "outputs": [],
   "source": [
    "concat1_all = pd.concat([arq1, arq2, arq3, arq4, arq5, arq6, arq7, arq8, arq10, arq11, arq12, arq13, arq14, arq16, arq21, arq23, arq24, arq28, arq29], axis=1)  # Concatena o arquivo arq1 com os outros"
   ]
  },
  {
   "cell_type": "code",
   "execution_count": null,
   "id": "3816c424-5c96-418d-86c8-a5c4f0ff1473",
   "metadata": {},
   "outputs": [],
   "source": [
    "concat1_all"
   ]
  },
  {
   "cell_type": "code",
   "execution_count": null,
   "id": "5bc2fcc4-a565-4bba-a6b0-ffe06e2e4ed2",
   "metadata": {},
   "outputs": [],
   "source": [
    "remDuplic = concat1_all.loc[:,~concat1_all.columns.duplicated()]   # Remove as colunas duplicadas da concatenação"
   ]
  },
  {
   "cell_type": "code",
   "execution_count": null,
   "id": "ce5d2162-611f-4921-a84c-cbb75310e64a",
   "metadata": {},
   "outputs": [],
   "source": [
    "remDuplic"
   ]
  },
  {
   "cell_type": "code",
   "execution_count": null,
   "id": "653e1c12-0ae2-49aa-a538-bbbec79934bc",
   "metadata": {},
   "outputs": [],
   "source": [
    "selecAtr = remDuplic[[\"NU_ANO\", \"TP_PRES\", \"CO_GRUPO\", \"CO_UF_CURSO\", \"CO_REGIAO_CURSO\", \"CO_CATEGAD\", \"CO_ORGACAD\", \"CO_TURNO_GRADUACAO\", \"NT_GER\", \"ANO_FIM_EM\", \"ANO_IN_GRAD\", \"QE_I17\", \"QE_I18\", \"NU_IDADE\", \"TP_SEXO\", \"QE_I02\", \"QE_I01\", \"QE_I04\", \"QE_I05\", \"QE_I08\", \"QE_I06\", \"QE_I07\", \"QE_I15\", \"QE_I10\", \"QE_I22\", \"QE_I23\", \"QE_I61\", \"QE_I62\", \"QE_I38\", \"QE_I27\"]]"
   ]
  },
  {
   "cell_type": "code",
   "execution_count": null,
   "id": "dda4e379-3e87-4663-a38d-7e6ca07d42e1",
   "metadata": {},
   "outputs": [],
   "source": [
    "selecAtr"
   ]
  },
  {
   "cell_type": "code",
   "execution_count": null,
   "id": "e628ac7c-11b7-4f6d-9566-6151cefc31ae",
   "metadata": {},
   "outputs": [],
   "source": [
    "cursosComputacao = selecAtr[selecAtr[\"CO_GRUPO\"].isin([72, 4004, 6409, 4005, 79, 4006])]"
   ]
  },
  {
   "cell_type": "code",
   "execution_count": null,
   "id": "7ccf9b20-f170-44b7-ad24-ee79a5382a87",
   "metadata": {},
   "outputs": [],
   "source": [
    "cursosComputacao"
   ]
  },
  {
   "cell_type": "code",
   "execution_count": null,
   "id": "4fdcb012-ca44-463a-873b-6fb239d8d265",
   "metadata": {},
   "outputs": [],
   "source": [
    "reset1_all = cursosComputacao.reset_index(drop=True)   # Organiza os indexes depois da seleção dos dados"
   ]
  },
  {
   "cell_type": "code",
   "execution_count": null,
   "id": "00fda5c4-de8c-4d34-ba70-5ee23780975d",
   "metadata": {},
   "outputs": [],
   "source": [
    "reset1_all"
   ]
  },
  {
   "cell_type": "code",
   "execution_count": null,
   "id": "4e8f478c-5ded-4550-9e78-c6e12e53b665",
   "metadata": {},
   "outputs": [],
   "source": [
    "dadosValidos = reset1_all[reset1_all[\"TP_PRES\"] == 555]"
   ]
  },
  {
   "cell_type": "code",
   "execution_count": null,
   "id": "72c9cbbc-9304-45ee-b79f-649c9311defb",
   "metadata": {},
   "outputs": [],
   "source": [
    "dadosInvalidos = reset1_all[reset1_all[\"TP_PRES\"] != 555]"
   ]
  },
  {
   "cell_type": "code",
   "execution_count": null,
   "id": "ee7e71f1-ebee-43c8-8017-84b45259fbc3",
   "metadata": {},
   "outputs": [],
   "source": [
    "dadosValidos"
   ]
  },
  {
   "cell_type": "code",
   "execution_count": null,
   "id": "8ada65ed-2171-40ce-bd34-cda3ca7bda50",
   "metadata": {},
   "outputs": [],
   "source": [
    "dadosInvalidos"
   ]
  },
  {
   "cell_type": "code",
   "execution_count": null,
   "id": "d475690d-9e9d-476b-bb3c-eddcfd0ecd95",
   "metadata": {},
   "outputs": [],
   "source": [
    "resetDados = dadosValidos.reset_index(drop=True) "
   ]
  },
  {
   "cell_type": "code",
   "execution_count": null,
   "id": "f8f3ac8a-b3a4-4b02-8c96-3ff096f3a6c3",
   "metadata": {},
   "outputs": [],
   "source": [
    "resetDados"
   ]
  },
  {
   "cell_type": "code",
   "execution_count": null,
   "id": "d427f499-679d-44bf-9667-ea3cf744cec0",
   "metadata": {},
   "outputs": [],
   "source": [
    "resetDados.drop(columns=['TP_PRES'],inplace=True)"
   ]
  },
  {
   "cell_type": "code",
   "execution_count": null,
   "id": "732c32c1-f461-4aca-8795-5f7ec9e83afd",
   "metadata": {},
   "outputs": [],
   "source": [
    "resetDados.to_csv('./{}.csv'.format('computacao_enade_2021'),index=False)"
   ]
  },
  {
   "cell_type": "code",
   "execution_count": null,
   "id": "dfa2cf94-c59e-4193-b89b-3161efbcf655",
   "metadata": {},
   "outputs": [],
   "source": [
    "# Para limpar o conteúdo de uma pasta\n",
    "\n",
    "folder = './dados_21_Ajustado'\n",
    "for filename in os.listdir(folder):\n",
    "    file_path = os.path.join(folder, filename)\n",
    "    try:\n",
    "        if os.path.isfile(file_path) or os.path.islink(file_path):\n",
    "            os.unlink(file_path)\n",
    "        elif os.path.isdir(file_path):\n",
    "            shutil.rmtree(file_path)\n",
    "    except Exception as e:\n",
    "        print('Failed to delete %s. Reason: %s' % (file_path, e))"
   ]
  },
  {
   "cell_type": "code",
   "execution_count": null,
   "id": "83dfe48b-d28d-4b5a-8123-59f7d7b98f75",
   "metadata": {},
   "outputs": [],
   "source": []
  }
 ],
 "metadata": {
  "kernelspec": {
   "display_name": "Python 3 (ipykernel)",
   "language": "python",
   "name": "python3"
  },
  "language_info": {
   "codemirror_mode": {
    "name": "ipython",
    "version": 3
   },
   "file_extension": ".py",
   "mimetype": "text/x-python",
   "name": "python",
   "nbconvert_exporter": "python",
   "pygments_lexer": "ipython3",
   "version": "3.9.13"
  }
 },
 "nbformat": 4,
 "nbformat_minor": 5
}
