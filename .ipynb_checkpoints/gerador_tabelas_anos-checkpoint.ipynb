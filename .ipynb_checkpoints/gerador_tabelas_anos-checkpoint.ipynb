{
 "cells": [
  {
   "cell_type": "markdown",
   "id": "d6875e29-10e3-446a-983f-d1bbe5fde69e",
   "metadata": {},
   "source": [
    "### **Seleção de características**\n",
    "\n",
    "* [**Parte 1**](#parte_1)\n",
    "    * Definição dos atributos da edição alvo\n",
    "* [**Parte 2**](#parte_2)\n",
    "    * Seleção dos dados de cursos desejados em cada arquivo desejado\n",
    "    * Seleção dos atributos desejados\n",
    "    * Concatenação dos atributos\n",
    "    * Ordenação por código do curso\n",
    "* [**Testes**](#parte_3)\n",
    "    * Instrospeção das características do conjunto obtido\n",
    "* [**Download dos microdados**](#download_micro)\n",
    "    * Função para download dos microdados"
   ]
  },
  {
   "cell_type": "code",
   "execution_count": 1,
   "id": "4808711b-8e75-4eba-b00e-fb98f2fa1f24",
   "metadata": {},
   "outputs": [],
   "source": [
    "import pandas as pd\n",
    "import os, shutil"
   ]
  },
  {
   "cell_type": "markdown",
   "id": "d565b37b-4372-4bd7-80d1-87465c9d4064",
   "metadata": {},
   "source": [
    "### <a name=\"parte_1\"></a> **Parte 1**"
   ]
  },
  {
   "cell_type": "markdown",
   "id": "6ce1ec6e-709b-4c23-897b-6e0ca23e986a",
   "metadata": {},
   "source": [
    "#### Edição de 2021"
   ]
  },
  {
   "cell_type": "code",
   "execution_count": 4,
   "id": "544d4831-250a-4f4a-a79b-76cb006586e4",
   "metadata": {},
   "outputs": [],
   "source": [
    "# Edição alvo\n",
    "edicao_enade = 2021\n",
    "\n",
    "# Número total de arquivos presentes nos microdados\n",
    "numero_total_arquivos = 43\n",
    "\n",
    "# Lista de números de arquivos desejados dessa edição\n",
    "# Esses são os arquivos que contém as questões do questionário socioeconômico desejadas\n",
    "# Para conferir, no zip baixado do site do Inep, na pasta LEIA-ME, há uma planilha com a localização de cada questão pelos arquivos\n",
    "lista_numeros_arquivos = [1, 2, 3, 4, 5, 6, 7, 8, 10, 11, 12, 13, 14, 15, 16, 17, 21, 22, 23, 24, 28, 29]\n",
    "\n",
    "# Lista de questões do questionário socioeconômico desejadas dessa edição \n",
    "lista_atributos = [\"NU_ANO\", \"CO_CURSO\", \"CO_GRUPO\", \"CO_UF_CURSO\", \"CO_REGIAO_CURSO\", \"CO_CATEGAD\", \"CO_ORGACAD\", \n",
    "                   \"CO_TURNO_GRADUACAO\", \"TP_PRES\", \"NT_FG\", \"NT_CE\", \"ANO_FIM_EM\", \"ANO_IN_GRAD\", \"QE_I17\", \"QE_I18\", \"NU_IDADE\", \n",
    "                   \"TP_SEXO\", \"QE_I02\", \"QE_I01\", \"QE_I04\", \"QE_I05\", \"QE_I08\", \"QE_I09\", \"QE_I06\", \"QE_I07\", \"QE_I15\", \"QE_I16\", \n",
    "                   \"QE_I10\", \"QE_I11\", \"QE_I22\", \"QE_I23\", \"QE_I56\", \"QE_I57\", \"QE_I61\", \"QE_I62\", \"QE_I38\", \"QE_I27\"]\n",
    "\n",
    "# Lista de códigos de áreas da computação dessa edição\n",
    "# 72: ADS\n",
    "# 4004: BCC\n",
    "# 6409: GTI\n",
    "# 4005: LCC\n",
    "# 79: RC\n",
    "# 4006: SI\n",
    "codigo_area_computacao = [72, 4004, 6409, 4005, 79, 4006]"
   ]
  },
  {
   "cell_type": "markdown",
   "id": "9e283e0a-5714-4990-8243-48b767853a92",
   "metadata": {},
   "source": [
    "########################################################################\n",
    "#### Seleção de atributos em comum entre as edições de 2014, 2017 e 2021"
   ]
  },
  {
   "cell_type": "code",
   "execution_count": 2,
   "id": "671125b4-769a-455a-be61-d8f0c8ac1fd5",
   "metadata": {},
   "outputs": [
    {
     "name": "stdout",
     "output_type": "stream",
     "text": [
      "\"QE_I27\", \"QE_I28\", \"QE_I29\", \"QE_I30\", \"QE_I31\", \"QE_I32\", \"QE_I33\", \"QE_I34\", \"QE_I35\", \"QE_I36\", \"QE_I37\", \"QE_I38\", \"QE_I39\", \"QE_I40\", \"QE_I41\", \"QE_I42\", \"QE_I43\", \"QE_I44\", \"QE_I45\", \"QE_I46\", \"QE_I47\", \"QE_I48\", \"QE_I49\", \"QE_I50\", \"QE_I51\", \"QE_I52\", \"QE_I53\", \"QE_I54\", \"QE_I55\", \"QE_I56\", \"QE_I57\", \"QE_I58\", \"QE_I59\", \"QE_I60\", \"QE_I61\", \"QE_I62\", \"QE_I63\", \"QE_I64\", \"QE_I65\", \"QE_I66\", \"QE_I67\", \"QE_I68\", "
     ]
    }
   ],
   "source": [
    "for i in range(27, 69):\n",
    "    print(f'\"QE_I{i}\", ', end=\"\")"
   ]
  },
  {
   "cell_type": "code",
   "execution_count": 12,
   "id": "2c104d64-1f15-4931-ad2b-bdb354431105",
   "metadata": {},
   "outputs": [],
   "source": [
    "lista_numeros_arquivos = [1, 2, 3, 4, 5, 6, 7, 8, 9, 10, 11, 12, 13, 14, 15, 16, 17, 18, 19, \n",
    "                                20, 21, 22, 23, 24, 25, 26, 27, 28, 29, 30, 31, 32]\n",
    "\n",
    "lista_atributos = [\"NU_ANO\", \"CO_CURSO\", \"CO_GRUPO\", \"CO_UF_CURSO\", \"CO_REGIAO_CURSO\", \"CO_CATEGAD\", \"CO_ORGACAD\", \n",
    "                   \"CO_TURNO_GRADUACAO\", \"TP_PRES\", \"NT_FG\", \"NT_CE\", \"ANO_FIM_EM\", \"ANO_IN_GRAD\", \"NU_IDADE\", \"TP_SEXO\",\n",
    "                   \"QE_I01\", \"QE_I02\", \"QE_I03\", \"QE_I04\", \"QE_I05\", \"QE_I06\", \"QE_I07\", \"QE_I08\", \"QE_I09\", \"QE_I10\", \"QE_I11\", \n",
    "                   \"QE_I12\", \"QE_I13\", \"QE_I14\", \"QE_I15\", \"QE_I16\", \"QE_I17\", \"QE_I18\", \"QE_I19\", \"QE_I20\", \"QE_I21\", \"QE_I22\", \n",
    "                   \"QE_I23\", \"QE_I24\", \"QE_I25\", \"QE_I26\", \"QE_I27\", \"QE_I28\", \"QE_I29\", \"QE_I30\", \"QE_I31\", \"QE_I32\", \"QE_I33\", \n",
    "                   \"QE_I34\", \"QE_I35\", \"QE_I36\", \"QE_I37\", \"QE_I38\", \"QE_I39\", \"QE_I40\", \"QE_I41\", \"QE_I42\", \"QE_I43\", \"QE_I44\", \n",
    "                   \"QE_I45\", \"QE_I46\", \"QE_I47\", \"QE_I48\", \"QE_I49\", \"QE_I50\", \"QE_I51\", \"QE_I52\", \"QE_I53\", \"QE_I54\", \"QE_I55\", \n",
    "                   \"QE_I56\", \"QE_I57\", \"QE_I58\", \"QE_I59\", \"QE_I60\", \"QE_I61\", \"QE_I62\",\"QE_I63\", \"QE_I64\", \"QE_I65\", \"QE_I66\", \n",
    "                   \"QE_I67\", \"QE_I68\"]"
   ]
  },
  {
   "cell_type": "code",
   "execution_count": 13,
   "id": "91bf9ec8-06e6-48d6-90a0-6af9c885dfca",
   "metadata": {},
   "outputs": [],
   "source": [
    "# Para 2014 por causa do atributo CO_TURNO_GRADUACAO: IN_MATUT, IN_VESPER, IN_NOTURNO\n",
    "lista_atributos = [\"NU_ANO\", \"CO_CURSO\", \"CO_GRUPO\", \"CO_UF_CURSO\", \"CO_REGIAO_CURSO\", \"CO_CATEGAD\", \"CO_ORGACAD\", \n",
    "                   \"IN_MATUT\", \"IN_VESPER\", \"IN_NOTURNO\", \"TP_PRES\", \"NT_FG\", \"NT_CE\", \"ANO_FIM_EM\", \"ANO_IN_GRAD\", \"NU_IDADE\", \"TP_SEXO\",\n",
    "                   \"QE_I01\", \"QE_I02\", \"QE_I03\", \"QE_I04\", \"QE_I05\", \"QE_I06\", \"QE_I07\", \"QE_I08\", \"QE_I09\", \"QE_I10\", \"QE_I11\", \n",
    "                   \"QE_I12\", \"QE_I13\", \"QE_I14\", \"QE_I15\", \"QE_I16\", \"QE_I17\", \"QE_I18\", \"QE_I19\", \"QE_I20\", \"QE_I21\", \"QE_I22\", \n",
    "                   \"QE_I23\", \"QE_I24\", \"QE_I25\", \"QE_I26\", \"QE_I27\", \"QE_I28\", \"QE_I29\", \"QE_I30\", \"QE_I31\", \"QE_I32\", \"QE_I33\", \n",
    "                   \"QE_I34\", \"QE_I35\", \"QE_I36\", \"QE_I37\", \"QE_I38\", \"QE_I39\", \"QE_I40\", \"QE_I41\", \"QE_I42\", \"QE_I43\", \"QE_I44\", \n",
    "                   \"QE_I45\", \"QE_I46\", \"QE_I47\", \"QE_I48\", \"QE_I49\", \"QE_I50\", \"QE_I51\", \"QE_I52\", \"QE_I53\", \"QE_I54\", \"QE_I55\", \n",
    "                   \"QE_I56\", \"QE_I57\", \"QE_I58\", \"QE_I59\", \"QE_I60\", \"QE_I61\", \"QE_I62\",\"QE_I63\", \"QE_I64\", \"QE_I65\", \"QE_I66\", \n",
    "                   \"QE_I67\", \"QE_I68\"]"
   ]
  },
  {
   "cell_type": "markdown",
   "id": "11dd4745-d6de-4be7-b098-843c8ea5f114",
   "metadata": {},
   "source": [
    "########################################################################"
   ]
  },
  {
   "cell_type": "markdown",
   "id": "1af3e544-71a3-4d31-b4ef-af667c1ceb08",
   "metadata": {},
   "source": [
    "#### Edição de 2017"
   ]
  },
  {
   "cell_type": "code",
   "execution_count": 6,
   "id": "d1dedaf9-30fc-415e-aca1-1a4578d7edf6",
   "metadata": {},
   "outputs": [],
   "source": [
    "edicao_enade = 2017\n",
    "\n",
    "numero_total_arquivos = 42\n",
    "\n",
    "lista_numeros_arquivos = [1, 2, 3, 4, 5, 6, 7, 8, 10, 11, 12, 13, 14, 15, 16, 17, 21, 22, 23, 24, 28, 29]\n",
    "\n",
    "lista_atributos = [\"NU_ANO\", \"CO_CURSO\", \"CO_GRUPO\", \"CO_UF_CURSO\", \"CO_REGIAO_CURSO\", \"CO_CATEGAD\", \"CO_ORGACAD\", \n",
    "                   \"CO_TURNO_GRADUACAO\", \"TP_PRES\", \"NT_FG\", \"NT_CE\", \"ANO_FIM_EM\", \"ANO_IN_GRAD\", \"QE_I17\", \"QE_I18\", \"NU_IDADE\", \n",
    "                   \"TP_SEXO\", \"QE_I02\", \"QE_I01\", \"QE_I04\", \"QE_I05\", \"QE_I08\", \"QE_I09\", \"QE_I06\", \"QE_I07\", \"QE_I15\", \"QE_I16\", \n",
    "                   \"QE_I10\", \"QE_I11\", \"QE_I22\", \"QE_I23\", \"QE_I56\", \"QE_I57\", \"QE_I61\", \"QE_I62\", \"QE_I38\", \"QE_I27\"]\n",
    "\n",
    "# Lista de códigos de áreas da computação dessa edição\n",
    "# 72: ADS\n",
    "# 4004: BCC\n",
    "# 6409: GTI\n",
    "# 4003: EC\n",
    "# 4005: LCC\n",
    "# 79: RC\n",
    "# 4006: SI\n",
    "codigo_area_computacao = [72, 4004, 6409, 4003, 4005, 79, 4006]"
   ]
  },
  {
   "cell_type": "markdown",
   "id": "e5cdb6e9-2b93-4716-8c43-83757f743d65",
   "metadata": {},
   "source": [
    "#### Edição de 2014"
   ]
  },
  {
   "cell_type": "code",
   "execution_count": 8,
   "id": "dcb5888c-2415-4574-a9ec-4906a6b70919",
   "metadata": {},
   "outputs": [],
   "source": [
    "edicao_enade = 2014\n",
    "    \n",
    "numero_total_arquivos = 42\n",
    "\n",
    "lista_numeros_arquivos = [1, 2, 3, 4, 5, 6, 7, 8, 10, 11, 12, 13, 14, 15, 16, 17, 21, 22, 23, 24, 28, 29]\n",
    "\n",
    "lista_atributos = [\"NU_ANO\", \"CO_CURSO\", \"CO_GRUPO\", \"CO_IES\", \"CO_MUNIC_CURSO\", \"CO_UF_CURSO\", \"CO_REGIAO_CURSO\", \"CO_CATEGAD\", \n",
    "                   \"CO_ORGACAD\", \"IN_MATUT\", \"IN_VESPER\", \"IN_NOTURNO\", \"TP_PRES\", \"NT_FG\", \"NT_CE\", \"ANO_FIM_EM\", \"ANO_IN_GRAD\", \n",
    "                   \"QE_I17\", \"QE_I18\", \"NU_IDADE\", \"TP_SEXO\", \"QE_I02\", \"QE_I01\", \"QE_I04\", \"QE_I05\", \"QE_I08\", \"QE_I09\", \"QE_I06\", \n",
    "                   \"QE_I07\", \"QE_I15\", \"QE_I16\", \"QE_I10\", \"QE_I11\", \"QE_I22\", \"QE_I23\", \"QE_I56\", \"QE_I57\", \"QE_I61\", \"QE_I62\", \n",
    "                   \"QE_I38\", \"QE_I27\"]\n",
    "\n",
    "# Lista de códigos de áreas da computação dessa edição\n",
    "# 72: ADS\n",
    "# 4004: BCC\n",
    "# 5809: EC\n",
    "# 4005: LCC\n",
    "# 79: RC\n",
    "# 4006: SI\n",
    "codigo_area_computacao = [72, 4004, 5809, 4005, 79, 4006]"
   ]
  },
  {
   "cell_type": "markdown",
   "id": "20b1fad6-8ee4-42cb-98b0-36b0b25c5975",
   "metadata": {},
   "source": [
    "#### Edição de 2011"
   ]
  },
  {
   "cell_type": "code",
   "execution_count": 10,
   "id": "449a4b1d-e814-42c9-ae7d-05a61637c5cc",
   "metadata": {},
   "outputs": [],
   "source": [
    "edicao_enade = 2011\n",
    "\n",
    "numero_total_arquivos = 27\n",
    "\n",
    "lista_numeros_arquivos = [1, 2, 3, 4, 5, 6, 7, 8, 9, 10, 11, 12, 13, 15, 16, 18, 19, 20, 21, 23, 24, 25, 26]\n",
    "\n",
    "lista_atributos = [\"NU_ANO\", \"CO_CURSO\", \"CO_GRUPO\", \"CO_UF_CURSO\", \"CO_REGIAO_CURSO\", \"CO_CATEGAD\", \"CO_ORGACAD\", \"IN_MATUT\", \n",
    "                   \"IN_VESPER\", \"IN_NOTURNO\", \"TP_PRES\", \"NT_FG\", \"NT_CE\", \"ANO_FIM_EM\", \"ANO_IN_GRAD\", \"QE_I17\", \"QE_I18\", \n",
    "                   \"NU_IDADE\", \"TP_SEXO\", \"QE_I02\", \"QE_I01\", \"QE_I09\", \"QE_I10\", \"QE_I13\", \"QE_I14\", \"QE_I15\", \"QE_I05\", \"QE_I06\", \n",
    "                   \"QE_I03\", \"QE_I04\", \"QE_I12\", \"QE_I07\", \"QE_I19\", \"QE_I20\", \"QE_I22\", \"QE_I26\", \"QE_I41\", \"QE_I42\", \"QE_I52\", \n",
    "                   \"QE_I54\"]\n",
    "\n",
    "# Lista de códigos de áreas da computação dessa edição\n",
    "# 72: ADS\n",
    "# 4004: BCC\n",
    "# 5809: EC\n",
    "# 4005: LCC\n",
    "# 79: RC\n",
    "# 4006: SI\n",
    "codigo_area_computacao = [72, 4004, 5809, 4005, 79, 4006]"
   ]
  },
  {
   "cell_type": "markdown",
   "id": "27af815d-088f-486f-ad5f-6ecc79f230a9",
   "metadata": {},
   "source": [
    "### <a name=\"parte_2\"></a> **Parte 2**"
   ]
  },
  {
   "cell_type": "code",
   "execution_count": 11,
   "id": "c0925b9d-8333-4f2d-8eb2-97d169bcbab6",
   "metadata": {},
   "outputs": [
    {
     "name": "stderr",
     "output_type": "stream",
     "text": [
      "/tmp/ipykernel_10443/2721854027.py:7: DtypeWarning: Columns (6,8,9,33,34,35,36,37,38,39,40,41) have mixed types. Specify dtype option on import or set low_memory=False.\n",
      "  df_arquivo = pd.read_csv(caminho_arquivo_txt, sep=';')\n",
      "/tmp/ipykernel_10443/2721854027.py:7: DtypeWarning: Columns (2) have mixed types. Specify dtype option on import or set low_memory=False.\n",
      "  df_arquivo = pd.read_csv(caminho_arquivo_txt, sep=';')\n",
      "/tmp/ipykernel_10443/2721854027.py:7: DtypeWarning: Columns (2) have mixed types. Specify dtype option on import or set low_memory=False.\n",
      "  df_arquivo = pd.read_csv(caminho_arquivo_txt, sep=';')\n"
     ]
    }
   ],
   "source": [
    "lista_df_arquivos = []\n",
    "\n",
    "# Percorre cada arquivo\n",
    "for numero_arquivo in lista_numeros_arquivos:\n",
    "    \n",
    "    caminho_arquivo_txt = f'microdados_Enade_{edicao_enade}_LGPD/2.DADOS/microdados{edicao_enade}_arq{numero_arquivo}.txt'\n",
    "    df_arquivo = pd.read_csv(caminho_arquivo_txt, sep=';')\n",
    "    \n",
    "    # Tratamento de erros\n",
    "    df_arquivo = df_arquivo[df_arquivo[\"CO_CURSO\"] != \"DJ1\"]\n",
    "    \n",
    "    # Ordena arquivo por código de curso\n",
    "    df_arquivo = df_arquivo.astype({'CO_CURSO':'int'})\n",
    "    df_arquivo.sort_values(\"CO_CURSO\", inplace = True)\n",
    "    df_arquivo.reset_index(drop=True, inplace = True)\n",
    "    \n",
    "    lista_df_arquivos.append(df_arquivo)\n",
    "    \n",
    "# Concatenação dos arquivos\n",
    "df_arquivos_concatenados = pd.concat(lista_df_arquivos, axis=1)\n",
    "\n",
    "# Remoção de atributos duplicados\n",
    "df_arquivos_concatenados = df_arquivos_concatenados.loc[:,~df_arquivos_concatenados.columns.duplicated()]\n",
    "\n",
    "# Seleção das instâncias de áreas de computação\n",
    "df_arquivos_concatenados = df_arquivos_concatenados[df_arquivos_concatenados[\"CO_GRUPO\"].isin(codigo_area_computacao)]\n",
    "\n",
    "# Seleção dos atributos desejados\n",
    "df_arquivos_concatenados = df_arquivos_concatenados[lista_atributos]\n",
    "\n",
    "df_arquivos_concatenados.to_csv('./{}.csv'.format(f'computacao_enade_{edicao_enade}'),index=False)"
   ]
  },
  {
   "cell_type": "markdown",
   "id": "34d7ef12-2ca8-409b-aa2f-8612aaba4f8c",
   "metadata": {},
   "source": [
    "### <a name=\"parte_3\"></a> **Testes**"
   ]
  },
  {
   "cell_type": "markdown",
   "id": "3c6c51fa-fc20-470c-bd38-e2a0f123a6ef",
   "metadata": {},
   "source": [
    "### <a name=\"download_micro\"></a> **Download dos microdados**"
   ]
  },
  {
   "cell_type": "code",
   "execution_count": null,
   "id": "dafcc367-5714-474d-87ba-db761160aa8a",
   "metadata": {},
   "outputs": [],
   "source": [
    "import requests\n",
    "from zipfile import ZipFile"
   ]
  },
  {
   "cell_type": "code",
   "execution_count": null,
   "id": "7beca612-2052-41e3-83fb-bfcb276f0c0e",
   "metadata": {},
   "outputs": [],
   "source": [
    "def baixar_microdados(self, ano_prova_enade):\n",
    "    url = \"\"\n",
    "    arquivo_zip = \"\"\n",
    "\n",
    "    if ano_prova_enade == 2021 or ano_prova_enade == 2011:\n",
    "        url = f\"https://download.inep.gov.br/microdados/microdados_enade_{ano_prova_enade}.zip\"\n",
    "        arquivo_zip = f\"microdados_enade_{ano_prova_enade}.zip\"\n",
    "    else:\n",
    "        url = f\"https://download.inep.gov.br/microdados/microdados_enade_{ano_prova_enade}_LGPD.zip\"\n",
    "        arquivo_zip = f\"microdados_enade_{ano_prova_enade}_LGPD.zip\"\n",
    "\n",
    "    if os.path.exists(arquivo_zip):\n",
    "        with ZipFile(arquivo_zip, 'r') as zObject:\n",
    "            zObject.extractall()\n",
    "        return\n",
    "\n",
    "    zip_microdados = requests.get(url, verify=False)\n",
    "\n",
    "    with open(arquivo_zip, 'wb') as arquivo:\n",
    "        arquivo.write(zip_microdados.content)\n",
    "\n",
    "    with ZipFile(arquivo_zip, 'r') as zObject:\n",
    "        zObject.extractall()"
   ]
  },
  {
   "cell_type": "code",
   "execution_count": null,
   "id": "b6ed1258-3b5b-4729-86be-13cc6cd522ba",
   "metadata": {},
   "outputs": [],
   "source": [
    "def limpar_pasta(self, caminho_pasta):\n",
    "        for nome_arquivo in os.listdir(caminho_pasta):\n",
    "            caminho_arquivo = os.path.join(caminho_pasta, nome_arquivo)\n",
    "            try:\n",
    "                if os.path.isfile(caminho_arquivo) or os.path.islink(caminho_arquivo):\n",
    "                    os.unlink(caminho_arquivo)\n",
    "                elif os.path.isdir(caminho_arquivo):\n",
    "                    shutil.rmtree(caminho_arquivo)\n",
    "            except Exception as e:\n",
    "                print('Failed to delete %s. Reason: %s' % (caminho_arquivo, e))"
   ]
  }
 ],
 "metadata": {
  "kernelspec": {
   "display_name": "Python 3 (ipykernel)",
   "language": "python",
   "name": "python3"
  },
  "language_info": {
   "codemirror_mode": {
    "name": "ipython",
    "version": 3
   },
   "file_extension": ".py",
   "mimetype": "text/x-python",
   "name": "python",
   "nbconvert_exporter": "python",
   "pygments_lexer": "ipython3",
   "version": "3.10.9"
  }
 },
 "nbformat": 4,
 "nbformat_minor": 5
}
