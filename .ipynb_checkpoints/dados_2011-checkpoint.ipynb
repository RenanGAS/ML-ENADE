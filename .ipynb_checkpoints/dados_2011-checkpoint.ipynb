{
 "cells": [
  {
   "cell_type": "code",
   "execution_count": null,
   "id": "4808711b-8e75-4eba-b00e-fb98f2fa1f24",
   "metadata": {},
   "outputs": [],
   "source": [
    "import pandas as pd\n",
    "import os, shutil"
   ]
  },
  {
   "cell_type": "code",
   "execution_count": null,
   "id": "aec3f8e3-78ce-4173-a5fe-ee612edf9df8",
   "metadata": {},
   "outputs": [],
   "source": [
    "class DataFrame:\n",
    "    indice_txt = 0\n",
    "    indice_CSV = 1\n",
    "    indice_origem = 0\n",
    "    indice_destino = 1\n",
    "    \n",
    "class DataFrame_2021(DataFrame):\n",
    "    pass\n",
    "    \n",
    "class DataFrame_2017(DataFrame):\n",
    "    pass\n",
    "    \n",
    "class DataFrame_2014(DataFrame):\n",
    "    pass\n",
    "    \n",
    "class DataFrame_2011(DataFrame):\n",
    "    ano_prova_enade = 2011\n",
    "    numero_arquivos_txt = 27\n",
    "    lista_numeros_arquivos = [1, 2, 3, 4, 5, 6, 7, 8, 9, 10, 11, 12, 13, 15, 16, 18, 19, 20, 21, 23, 24, 25, 26]\n",
    "    lista_atributos = [\"NU_ANO\", \"CO_CURSO\", \"CO_GRUPO\", \"CO_UF_CURSO\", \"CO_REGIAO_CURSO\", \"CO_CATEGAD\", \"CO_ORGACAD\", \"IN_MATUT\", \"IN_VESPER\", \"IN_NOTURNO\", \"NT_GER\", \"ANO_FIM_EM\", \"ANO_IN_GRAD\", \"QE_I17\", \"QE_I18\", \"NU_IDADE\", \"TP_SEXO\", \"QE_I02\", \"QE_I01\", \"QE_I09\", \"QE_I10\", \"QE_I13\", \"QE_I14\", \"QE_I15\", \"QE_I05\", \"QE_I06\", \"QE_I03\", \"QE_I04\", \"QE_I12\", \"QE_I07\", \"QE_I19\", \"QE_I20\", \"QE_I22\", \"QE_I26\", \"QE_I41\", \"QE_I42\", \"QE_I52\", \"QE_I54\"]\n",
    "    lista_numero_cursos_de_computacao = [72, 4004, 5809, 4005, 79, 4006]\n",
    "    "
   ]
  },
  {
   "cell_type": "code",
   "execution_count": null,
   "id": "ca0385f7-cb26-44c4-abf1-220262d87c1a",
   "metadata": {},
   "outputs": [],
   "source": [
    "class Gerenciador_DataFrame:        \n",
    "    def gerar_tabela_dados():\n",
    "        transformar_arquivos_Txt_para_CSV()\n",
    "        mover_arquivos_desejados()\n",
    "        ajustar_arquivos_para_concatenacao()\n",
    "        \n",
    "    def transformar_arquivos_Txt_para_CSV():\n",
    "        for numero_arquivo in range(1, numero_arquivos_txt + 1, 1):\n",
    "            caminhos_arquivos = definir_caminhos_arquivo_Txt_CSV(numero_arquivo)\n",
    "            data_frame_arquivo = converter_arquivo_txt_para_dataFrame(caminhos_arquivos[indice_txt])\n",
    "            gerar_CSV_a_partir_de_dataFrame(data_frame_arquivo, caminhos_arquivos[indice_CSV])\n",
    "            \n",
    "    def definir_caminhos_arquivo_Txt_CSV(numero_arquivo):\n",
    "        caminho_arquivo_txt = f'dados_{ano_prova_enade}/microdados{ano_prova_enade}_arq{numero_arquivo}.txt'\n",
    "        caminho_arquivo_CSV = f'dados_{ano_prova_enade}_csv/arq{numero_arquivo}.csv'\n",
    "        return caminho_arquivo_txt, caminho_arquivo_CSV\n",
    "    \n",
    "    def converter_arquivo_txt_para_dataFrame(caminho_arquivo_txt):\n",
    "        data_frame = pd.read_csv(caminho_arquivo_txt, sep=';')\n",
    "        return data_frame\n",
    "    \n",
    "    def gerar_CSV_a_partir_de_dataFrame(data_frame, caminho_arquivo_CSV):\n",
    "        data_frame.to_csv(caminho_arquivo_CSV, index = None)\n",
    "            \n",
    "    def mover_arquivos_desejados():\n",
    "        for numero_arquivo in lista_numeros_arquivos:\n",
    "            caminhos_arquivos = definir_caminhos_origem_destino(numero_arquivo)\n",
    "            copiar_arquivos_para_destino(caminhos_arquivos)\n",
    "            \n",
    "    def definir_caminhos_origem_destino(numero_arquivo):\n",
    "        origem = f'dados_11_csv/arq{numero_arquivo}.csv'\n",
    "        destino = f'dados_11_Atributos/arq{numero_arquivo}.csv'\n",
    "        return origem, destino\n",
    "    \n",
    "    def copiar_arquivos_para_destino(caminhos_arquivos):\n",
    "        shutil.copyfile(caminhos_arquivos[indice_origem], caminhos_arquivos[indice_destino])\n",
    "            \n",
    "    def ajustar_arquivos_para_concatenacao():\n",
    "        for numero_arquivo in lista_numeros_arquivos:\n",
    "            data_frame_arquivo = pd.read_csv(f'dados_11_Atributos/arq{i}.csv')\n",
    "            mover_codigo_do_curso_para_primeira_posicao(data_frame_arquivo)\n",
    "            remover_erros_percebidos(data_frame_arquivo)\n",
    "            ordenar_data_frame_por_codigo_do_curso(data_frame_arquivo)\n",
    "            gerar_arquivo_ajustado(data_frame_arquivo, numero_arquivo)\n",
    "            \n",
    "    def mover_codigo_do_curso_para_primeira_posicao(data_frame_arquivo):\n",
    "        series_da_coluna_removida = data_frame_arquivo.pop(\"CO_CURSO\")       \n",
    "        data_frame_arquivo.insert(0, series_da_coluna_removida.name, series_da_coluna_removida)\n",
    "        \n",
    "    def remover_erros_percebidos(data_frame_arquivo):\n",
    "        # Remove linhas com CO_CURSO == 'DJ1'\n",
    "        data_frame_arquivo.drop(data_frame_arquivo[data_frame_arquivo['CO_CURSO'] == 'DJ1'].index, inplace = True) \n",
    "        \n",
    "    def ordenar_data_frame_por_codigo_do_curso(data_frame_arquivo):\n",
    "        data_frame_arquivo = data_frame_arquivo.astype({'CO_CURSO':'int'})\n",
    "        data_frame_arquivo.sort_values(\"CO_CURSO\", inplace = True)\n",
    "        data_frame_arquivo.reset_index(drop=True, inplace = True)\n",
    "        \n",
    "    def gerar_arquivo_ajustado(data_frame_arquivo, numero_arquivo):\n",
    "        data_frame_arquivo.to_csv('dados_11_Ajustado/{}.csv'.format(f'arq{numero_arquivo}'),index=False)"
   ]
  },
  {
   "cell_type": "code",
   "execution_count": null,
   "id": "5b76cd03-d09a-4fbd-917f-d92f64261d0b",
   "metadata": {},
   "outputs": [],
   "source": [
    "arq1 = pd.read_csv('dados_11_Ajustado/arq1.csv')\n",
    "arq2 = pd.read_csv('dados_11_Ajustado/arq2.csv')\n",
    "arq3 = pd.read_csv('dados_11_Ajustado/arq3.csv')\n",
    "arq4 = pd.read_csv('dados_11_Ajustado/arq4.csv')\n",
    "arq5 = pd.read_csv('dados_11_Ajustado/arq5.csv')\n",
    "arq6 = pd.read_csv('dados_11_Ajustado/arq6.csv')\n",
    "arq7 = pd.read_csv('dados_11_Ajustado/arq7.csv')\n",
    "arq8 = pd.read_csv('dados_11_Ajustado/arq8.csv')\n",
    "arq9 = pd.read_csv('dados_11_Ajustado/arq9.csv')\n",
    "arq10 = pd.read_csv('dados_11_Ajustado/arq10.csv')\n",
    "arq11 = pd.read_csv('dados_11_Ajustado/arq11.csv')\n",
    "arq12 = pd.read_csv('dados_11_Ajustado/arq12.csv')\n",
    "arq13 = pd.read_csv('dados_11_Ajustado/arq13.csv')\n",
    "arq15 = pd.read_csv('dados_11_Ajustado/arq15.csv')\n",
    "arq16 = pd.read_csv('dados_11_Ajustado/arq16.csv')\n",
    "arq18 = pd.read_csv('dados_11_Ajustado/arq18.csv')\n",
    "arq19 = pd.read_csv('dados_11_Ajustado/arq19.csv')\n",
    "arq20 = pd.read_csv('dados_11_Ajustado/arq20.csv')\n",
    "arq21 = pd.read_csv('dados_11_Ajustado/arq21.csv')\n",
    "arq23 = pd.read_csv('dados_11_Ajustado/arq23.csv')\n",
    "arq24 = pd.read_csv('dados_11_Ajustado/arq24.csv')\n",
    "arq25 = pd.read_csv('dados_11_Ajustado/arq25.csv')\n",
    "arq26 = pd.read_csv('dados_11_Ajustado/arq26.csv')"
   ]
  },
  {
   "cell_type": "code",
   "execution_count": null,
   "id": "3825ccaf-f590-4f90-9bd3-e620ff1e13e4",
   "metadata": {},
   "outputs": [],
   "source": [
    "arquivos_concatenados = pd.concat([arq1, arq2, arq3, arq4, arq5, arq6, arq7, arq8, arq9, arq10, arq11, arq12, arq13, arq15, arq16, arq18, arq19, arq20, arq21, arq23, arq24, arq25, arq26], axis=1)\n",
    "remocao_de_atributos_duplicados = resultado_da_concatenacao.loc[:,~resultado_da_concatenacao.columns.duplicated()]"
   ]
  },
  {
   "cell_type": "code",
   "execution_count": null,
   "id": "475d1045-771d-4462-9acd-d550f476cf7a",
   "metadata": {},
   "outputs": [],
   "source": [
    "def selecionar_atributos_desejados(lista_atributos):\n",
    "    resultado = remocao_de_atributos_duplicados[lista_atributos]\n",
    "    return resultado"
   ]
  },
  {
   "cell_type": "code",
   "execution_count": null,
   "id": "659cc8e3-e829-4086-8156-c066bc2b2c28",
   "metadata": {},
   "outputs": [],
   "source": [
    "def selecionar_cursos_alvos(atributos_selecionados):\n",
    "    resultado = atributos_selecionados[atributos_selecionados[\"CO_GRUPO\"].isin(lista_numero_cursos_de_computacao)]\n",
    "    resultado.reset_index(drop=True, inplace = True) \n",
    "    return resultado"
   ]
  },
  {
   "cell_type": "code",
   "execution_count": null,
   "id": "836ca7df-4e1e-4e99-8b63-fd01e52994f7",
   "metadata": {},
   "outputs": [],
   "source": [
    "def gerar_data_frame_final(cursos_selecionados):\n",
    "    cursos_selecionados.to_csv('./{}.csv'.format(f'computacao_enade_{ano_prova_enade}'),index=False)"
   ]
  },
  {
   "cell_type": "code",
   "execution_count": null,
   "id": "5bc2fcc4-a565-4bba-a6b0-ffe06e2e4ed2",
   "metadata": {},
   "outputs": [],
   "source": [
    "def preparar_data_frame_para_processamento():\n",
    "    atributos_selecionados = selecionar_atributos_desejados(lista_atributos)\n",
    "    cursos_selecionados = selecionar_cursos_alvos(atributos_selecionados)\n",
    "    gerar_data_frame_final(cursos_selecionados)"
   ]
  },
  {
   "cell_type": "code",
   "execution_count": null,
   "id": "dfa2cf94-c59e-4193-b89b-3161efbcf655",
   "metadata": {},
   "outputs": [],
   "source": [
    "def limpar_pasta(caminho):\n",
    "    for nome_arquivo in os.listdir(caminho):\n",
    "        caminho_arquivo = os.path.join(caminho, nome_arquivo)\n",
    "        try:\n",
    "            if os.path.isfile(caminho_arquivo) or os.path.islink(caminho_arquivo):\n",
    "                os.unlink(caminho_arquivo)\n",
    "            elif os.path.isdir(caminho_arquivo):\n",
    "                shutil.rmtree(caminho_arquivo)\n",
    "        except Exception as e:\n",
    "            print('Failed to delete %s. Reason: %s' % (caminho_arquivo, e))"
   ]
  },
  {
   "cell_type": "code",
   "execution_count": null,
   "id": "83dfe48b-d28d-4b5a-8123-59f7d7b98f75",
   "metadata": {},
   "outputs": [],
   "source": []
  }
 ],
 "metadata": {
  "kernelspec": {
   "display_name": "Python 3 (ipykernel)",
   "language": "python",
   "name": "python3"
  },
  "language_info": {
   "codemirror_mode": {
    "name": "ipython",
    "version": 3
   },
   "file_extension": ".py",
   "mimetype": "text/x-python",
   "name": "python",
   "nbconvert_exporter": "python",
   "pygments_lexer": "ipython3",
   "version": "3.9.13"
  }
 },
 "nbformat": 4,
 "nbformat_minor": 5
}
