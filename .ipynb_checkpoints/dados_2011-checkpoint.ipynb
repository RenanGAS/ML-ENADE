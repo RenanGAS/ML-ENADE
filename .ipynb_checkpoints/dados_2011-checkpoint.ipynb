{
 "cells": [
  {
   "cell_type": "code",
   "execution_count": null,
   "id": "4808711b-8e75-4eba-b00e-fb98f2fa1f24",
   "metadata": {},
   "outputs": [],
   "source": [
    "import pandas as pd\n",
    "import os, shutil"
   ]
  },
  {
   "cell_type": "code",
   "execution_count": 6,
   "id": "90609a1d-3c9b-48a9-824e-350fe55d4942",
   "metadata": {},
   "outputs": [
    {
     "name": "stderr",
     "output_type": "stream",
     "text": [
      "/tmp/ipykernel_6776/3024675865.py:5: DtypeWarning: Columns (6,8,9,33,34,35,36,37,38,39,40,41) have mixed types. Specify dtype option on import or set low_memory=False.\n",
      "  file = pd.read_csv(origin, sep=';')\n",
      "/tmp/ipykernel_6776/3024675865.py:5: DtypeWarning: Columns (2) have mixed types. Specify dtype option on import or set low_memory=False.\n",
      "  file = pd.read_csv(origin, sep=';')\n",
      "/tmp/ipykernel_6776/3024675865.py:5: DtypeWarning: Columns (2) have mixed types. Specify dtype option on import or set low_memory=False.\n",
      "  file = pd.read_csv(origin, sep=';')\n"
     ]
    }
   ],
   "source": [
    "for i in range(27):\n",
    "    j = i + 1\n",
    "    origin = f'dados_2011/microdados2011_arq{j}.txt'\n",
    "    destine = f'dados_11_csv/arq{j}.csv'\n",
    "    file = pd.read_csv(origin, sep=';')\n",
    "    file.to_csv(destine, index = None)"
   ]
  },
  {
   "cell_type": "code",
   "execution_count": 7,
   "id": "fbecc96d-2d6f-43af-bf02-3cea3b1097ed",
   "metadata": {},
   "outputs": [],
   "source": [
    "arq1 = pd.read_csv('dados_11_csv/arq1.csv')"
   ]
  },
  {
   "cell_type": "code",
   "execution_count": null,
   "id": "03d88800-1bc7-40bc-b6d3-396007889f25",
   "metadata": {},
   "outputs": [],
   "source": [
    "arq1"
   ]
  },
  {
   "cell_type": "code",
   "execution_count": 8,
   "id": "02386736-ea3e-4872-b17d-a1b2f5594d2b",
   "metadata": {},
   "outputs": [],
   "source": [
    "col1 = arq1.pop('CO_CURSO')       # Muda \"CO_CURSO\" em arq1 para primeira posição\n",
    "arq1.insert(0, col1.name, col1)\n",
    "arq1.drop(arq1[arq1['CO_CURSO'] == 'DJ1'].index, inplace = True)"
   ]
  },
  {
   "cell_type": "code",
   "execution_count": 9,
   "id": "3e411397-8a24-46ba-b888-0d9ee9cdac95",
   "metadata": {},
   "outputs": [],
   "source": [
    "filesID = [2, 3, 4, 5, 6, 7, 8, 9, 10, 11, 13, 18, 19, 20, 23, 24, 25, 26]"
   ]
  },
  {
   "cell_type": "code",
   "execution_count": 10,
   "id": "4d7d0e96-fd02-4cc0-aa0f-c529868a2ff1",
   "metadata": {},
   "outputs": [],
   "source": [
    "# Move os arquivos desejados para a pasta dados_11_Atributos\n",
    "\n",
    "for i in filesID:\n",
    "    original = f'dados_11_csv/arq{i}.csv'\n",
    "    target = f'dados_11_Atributos/arq{i}.csv'\n",
    "    shutil.copyfile(original, target)"
   ]
  },
  {
   "cell_type": "code",
   "execution_count": null,
   "id": "40eaea5a-c2a8-4bc9-b395-0d41cef6747f",
   "metadata": {},
   "outputs": [],
   "source": [
    "# CO_CURSO em 2011 tem valores 'DJ1'. Isso impede de transformar para inteiro e ordenar\n",
    "\n",
    "# arq2 = pd.read_csv('dados_11_csv/arq2.csv')\n",
    "\n",
    "# arq2[arq2['CO_CURSO'].astype(str).str.contains(\"DJ1\")]\n",
    "\n",
    "# dj1_values = arq2[arq2['CO_CURSO'] == 'DJ1']\n",
    "# dj1_values\n",
    "\n",
    "# origin = 'dados_2011/microdados2011_arq1.txt'\n",
    "# destine = 'dados_11_csv/arq1.csv'\n",
    "# file = pd.read_csv(origin, sep=';')\n",
    "# file.to_csv(destine, index = None)"
   ]
  },
  {
   "cell_type": "code",
   "execution_count": null,
   "id": "7630037a-ef3c-463d-9eda-1eb79a903a95",
   "metadata": {},
   "outputs": [],
   "source": [
    "# Em 2011, os valores de CO_CURSO são strings\n",
    "# Devemos transformar para inteiros para ordená-los\n",
    "\n",
    "#arq2['CO_CURSO'].dtype\n",
    "#arq2['CO_CURSO'] = arq1['CO_CURSO'].str.strip()\n",
    "#arq2 = arq2.astype({'CO_CURSO':float})\n",
    "#arq2 = arq2.astype({'CO_CURSO':int})\n",
    "#arq2['CO_CURSO'].dtype"
   ]
  },
  {
   "cell_type": "code",
   "execution_count": 11,
   "id": "febdbc87-35fd-41c3-9fb2-89b75cde0338",
   "metadata": {},
   "outputs": [
    {
     "name": "stderr",
     "output_type": "stream",
     "text": [
      "/tmp/ipykernel_6776/38686967.py:7: DtypeWarning: Columns (6,8,9,33,34,35,36,37,38,39,40,41) have mixed types. Specify dtype option on import or set low_memory=False.\n",
      "  arq = pd.read_csv(f'dados_11_Atributos/arq{i}.csv')\n",
      "/tmp/ipykernel_6776/38686967.py:7: DtypeWarning: Columns (2) have mixed types. Specify dtype option on import or set low_memory=False.\n",
      "  arq = pd.read_csv(f'dados_11_Atributos/arq{i}.csv')\n"
     ]
    }
   ],
   "source": [
    "# Move a coluna CO_CURSO para a primeira posição e ordena os arquivos\n",
    "# por esse atributo. \n",
    "\n",
    "# Manda os arquivos ajustados para pasta dados_21_Ajustado\n",
    "\n",
    "for i in filesID:\n",
    "    arq = pd.read_csv(f'dados_11_Atributos/arq{i}.csv')\n",
    "    col = arq.pop(\"CO_CURSO\")       \n",
    "    arq.insert(0, col.name, col)\n",
    "    arq.drop(arq[arq['CO_CURSO'] == 'DJ1'].index, inplace = True) # Remove linhas com CO_CURSO = DJ1\n",
    "    arq = arq.astype({'CO_CURSO':'int'}) # Converte os valores de CO_CURSO para inteiro para poder ordená-los\n",
    "    arqSorted = arq.sort_values(\"CO_CURSO\")\n",
    "    arqSorted = arqSorted.reset_index(drop=True) \n",
    "    arqSorted.to_csv('dados_11_Ajustado/{}.csv'.format(f'arq{i}'),index=False)"
   ]
  },
  {
   "cell_type": "code",
   "execution_count": 12,
   "id": "5b76cd03-d09a-4fbd-917f-d92f64261d0b",
   "metadata": {},
   "outputs": [],
   "source": [
    "arq2 = pd.read_csv('dados_11_Ajustado/arq2.csv')\n",
    "arq3 = pd.read_csv('dados_11_Ajustado/arq3.csv')\n",
    "arq4 = pd.read_csv('dados_11_Ajustado/arq4.csv')\n",
    "arq5 = pd.read_csv('dados_11_Ajustado/arq5.csv')\n",
    "arq6 = pd.read_csv('dados_11_Ajustado/arq6.csv')\n",
    "arq7 = pd.read_csv('dados_11_Ajustado/arq7.csv')\n",
    "arq8 = pd.read_csv('dados_11_Ajustado/arq8.csv')\n",
    "arq9 = pd.read_csv('dados_11_Ajustado/arq9.csv')\n",
    "arq10 = pd.read_csv('dados_11_Ajustado/arq10.csv')\n",
    "arq11 = pd.read_csv('dados_11_Ajustado/arq11.csv')\n",
    "arq13 = pd.read_csv('dados_11_Ajustado/arq13.csv')\n",
    "arq18 = pd.read_csv('dados_11_Ajustado/arq18.csv')\n",
    "arq19 = pd.read_csv('dados_11_Ajustado/arq19.csv')\n",
    "arq20 = pd.read_csv('dados_11_Ajustado/arq20.csv')\n",
    "arq23 = pd.read_csv('dados_11_Ajustado/arq23.csv')\n",
    "arq24 = pd.read_csv('dados_11_Ajustado/arq24.csv')\n",
    "arq25 = pd.read_csv('dados_11_Ajustado/arq25.csv')\n",
    "arq26 = pd.read_csv('dados_11_Ajustado/arq26.csv')"
   ]
  },
  {
   "cell_type": "code",
   "execution_count": 13,
   "id": "3825ccaf-f590-4f90-9bd3-e620ff1e13e4",
   "metadata": {},
   "outputs": [],
   "source": [
    "concat1_all = pd.concat([arq1, arq2, arq3, arq4, arq5, arq6, arq7, arq8, arq9, arq10, arq11, arq13, arq18, arq19, arq20, arq23, arq24, arq25, arq26], axis=1)  # Concatena o arquivo arq1 com os outros"
   ]
  },
  {
   "cell_type": "code",
   "execution_count": null,
   "id": "3816c424-5c96-418d-86c8-a5c4f0ff1473",
   "metadata": {},
   "outputs": [],
   "source": [
    "concat1_all"
   ]
  },
  {
   "cell_type": "code",
   "execution_count": 14,
   "id": "5bc2fcc4-a565-4bba-a6b0-ffe06e2e4ed2",
   "metadata": {},
   "outputs": [],
   "source": [
    "remDuplic = concat1_all.loc[:,~concat1_all.columns.duplicated()]   # Remove as colunas duplicadas da concatenação"
   ]
  },
  {
   "cell_type": "code",
   "execution_count": null,
   "id": "ce5d2162-611f-4921-a84c-cbb75310e64a",
   "metadata": {},
   "outputs": [],
   "source": [
    "remDuplic"
   ]
  },
  {
   "cell_type": "code",
   "execution_count": 15,
   "id": "653e1c12-0ae2-49aa-a538-bbbec79934bc",
   "metadata": {},
   "outputs": [],
   "source": [
    "# \"TP_PRES\", \"TP_PR_GER\", \"TP_PR_OB_FG\", \"TP_PR_DI_FG\", \"TP_PR_OB_CE\", \"TP_PR_DI_CE\"\n",
    "\n",
    "selecAtr = remDuplic[[\"NU_ANO\", \"CO_GRUPO\", \"CO_UF_CURSO\", \"CO_REGIAO_CURSO\", \"CO_CATEGAD\", \"CO_ORGACAD\", \"IN_MATUT\", \"IN_VESPER\", \"IN_NOTURNO\", \"NT_GER\", \"ANO_FIM_EM\", \"ANO_IN_GRAD\", \"QE_I17\", \"QE_I18\", \"NU_IDADE\", \"TP_SEXO\", \"QE_I02\", \"QE_I01\", \"QE_I13\", \"QE_I14\", \"QE_I05\", \"QE_I03\", \"QE_I04\", \"QE_I12\", \"QE_I07\", \"QE_I19\", \"QE_I20\", \"QE_I22\", \"QE_I26\", \"QE_I52\", \"QE_I54\"]]"
   ]
  },
  {
   "cell_type": "code",
   "execution_count": null,
   "id": "dda4e379-3e87-4663-a38d-7e6ca07d42e1",
   "metadata": {},
   "outputs": [],
   "source": [
    "selecAtr"
   ]
  },
  {
   "cell_type": "code",
   "execution_count": 16,
   "id": "e628ac7c-11b7-4f6d-9566-6151cefc31ae",
   "metadata": {},
   "outputs": [],
   "source": [
    "computerCourses = selecAtr[selecAtr[\"CO_GRUPO\"].isin([72, 4004, 5809, 4005, 79, 4006])]"
   ]
  },
  {
   "cell_type": "code",
   "execution_count": null,
   "id": "7ccf9b20-f170-44b7-ad24-ee79a5382a87",
   "metadata": {},
   "outputs": [],
   "source": [
    "computerCourses"
   ]
  },
  {
   "cell_type": "code",
   "execution_count": null,
   "id": "4e8f478c-5ded-4550-9e78-c6e12e53b665",
   "metadata": {},
   "outputs": [],
   "source": [
    "# validData = computerCourses.query('TP_PRES == 555 & TP_PR_GER == 555 & TP_PR_OB_FG == 555 & TP_PR_DI_FG == 555 & TP_PR_OB_CE == 555 & TP_PR_DI_CE == 555')"
   ]
  },
  {
   "cell_type": "code",
   "execution_count": null,
   "id": "ee7e71f1-ebee-43c8-8017-84b45259fbc3",
   "metadata": {},
   "outputs": [],
   "source": [
    "# validData"
   ]
  },
  {
   "cell_type": "code",
   "execution_count": null,
   "id": "d427f499-679d-44bf-9667-ea3cf744cec0",
   "metadata": {},
   "outputs": [],
   "source": [
    "# validData.drop(columns=['TP_PRES','TP_PR_GER', 'TP_PR_OB_FG', 'TP_PR_DI_FG', 'TP_PR_OB_CE', 'TP_PR_DI_CE'],inplace=True)"
   ]
  },
  {
   "cell_type": "code",
   "execution_count": 17,
   "id": "d475690d-9e9d-476b-bb3c-eddcfd0ecd95",
   "metadata": {},
   "outputs": [],
   "source": [
    "reindexData = computerCourses.reset_index(drop=True) "
   ]
  },
  {
   "cell_type": "code",
   "execution_count": null,
   "id": "f8f3ac8a-b3a4-4b02-8c96-3ff096f3a6c3",
   "metadata": {},
   "outputs": [],
   "source": [
    "reindexData"
   ]
  },
  {
   "cell_type": "code",
   "execution_count": 18,
   "id": "732c32c1-f461-4aca-8795-5f7ec9e83afd",
   "metadata": {},
   "outputs": [],
   "source": [
    "reindexData.to_csv('./{}.csv'.format('computacao_enade_2011'),index=False)"
   ]
  },
  {
   "cell_type": "code",
   "execution_count": 5,
   "id": "dfa2cf94-c59e-4193-b89b-3161efbcf655",
   "metadata": {},
   "outputs": [],
   "source": [
    "# Para limpar o conteúdo de uma pasta\n",
    "\n",
    "folder = './dados_11_csv'\n",
    "for filename in os.listdir(folder):\n",
    "    file_path = os.path.join(folder, filename)\n",
    "    try:\n",
    "        if os.path.isfile(file_path) or os.path.islink(file_path):\n",
    "            os.unlink(file_path)\n",
    "        elif os.path.isdir(file_path):\n",
    "            shutil.rmtree(file_path)\n",
    "    except Exception as e:\n",
    "        print('Failed to delete %s. Reason: %s' % (file_path, e))"
   ]
  },
  {
   "cell_type": "code",
   "execution_count": null,
   "id": "83dfe48b-d28d-4b5a-8123-59f7d7b98f75",
   "metadata": {},
   "outputs": [],
   "source": []
  }
 ],
 "metadata": {
  "kernelspec": {
   "display_name": "Python 3 (ipykernel)",
   "language": "python",
   "name": "python3"
  },
  "language_info": {
   "codemirror_mode": {
    "name": "ipython",
    "version": 3
   },
   "file_extension": ".py",
   "mimetype": "text/x-python",
   "name": "python",
   "nbconvert_exporter": "python",
   "pygments_lexer": "ipython3",
   "version": "3.9.13"
  }
 },
 "nbformat": 4,
 "nbformat_minor": 5
}
