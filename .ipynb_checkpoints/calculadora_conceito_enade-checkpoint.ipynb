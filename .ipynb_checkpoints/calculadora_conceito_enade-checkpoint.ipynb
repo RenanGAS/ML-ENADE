{
 "cells": [
  {
   "cell_type": "markdown",
   "id": "c5c59a97-3af3-486d-9941-618a88dbdea8",
   "metadata": {},
   "source": [
    "# Nota técnica - 2021"
   ]
  },
  {
   "cell_type": "code",
   "execution_count": 1,
   "id": "1ff9dbfc-46d2-42eb-920f-8fd5f6a2622a",
   "metadata": {},
   "outputs": [],
   "source": [
    "import numpy as np\n",
    "import pandas as pd\n",
    "import math\n",
    "from decimal import Decimal as Dec, ROUND_DOWN"
   ]
  },
  {
   "cell_type": "code",
   "execution_count": 10,
   "id": "0be50eba-ea65-454a-8a5d-c6d113dd0ca9",
   "metadata": {},
   "outputs": [],
   "source": [
    "df_2021 = pd.read_csv('pre-process_2017_tres_anos.csv')"
   ]
  },
  {
   "cell_type": "code",
   "execution_count": 16,
   "id": "98aeaca8-6c67-42e0-9f24-9c3d55f810e1",
   "metadata": {},
   "outputs": [],
   "source": [
    "df_2021 = pd.read_csv(f'./concept_drift/tabela_final_2017_tres_anos.csv')"
   ]
  },
  {
   "cell_type": "code",
   "execution_count": 4,
   "id": "d17ebe89-bfc0-41a1-ae29-257f9e11f464",
   "metadata": {},
   "outputs": [
    {
     "name": "stdout",
     "output_type": "stream",
     "text": [
      "1649\n"
     ]
    }
   ],
   "source": [
    "df_2021 = df_2021[df_2021[\"Codigo_do_Curso\"] != 87330]\n",
    "codigoCursosArray = df_2021[\"Codigo_do_Curso\"].unique()\n",
    "print(len(codigoCursosArray))\n",
    "\n",
    "codigo_dos_cursos = codigoCursosArray.tolist()"
   ]
  },
  {
   "cell_type": "code",
   "execution_count": 8,
   "id": "29984932-32f0-4e2d-a9e1-6230cbe2b324",
   "metadata": {},
   "outputs": [
    {
     "data": {
      "text/plain": [
       "0"
      ]
     },
     "execution_count": 8,
     "metadata": {},
     "output_type": "execute_result"
    }
   ],
   "source": [
    "sum(df_2021[\"Codigo_do_Curso\"] == 87330)"
   ]
  },
  {
   "cell_type": "code",
   "execution_count": 6,
   "id": "9f8de8a4-80d7-4a3d-a898-adf181cf47f4",
   "metadata": {},
   "outputs": [],
   "source": [
    "df_2021.to_csv('./{}.csv'.format('pre-process_2021_tres_anos'),index=False)"
   ]
  },
  {
   "cell_type": "code",
   "execution_count": 12,
   "id": "b47ffc4c-bc0c-468a-8003-592c5fb2a2b5",
   "metadata": {},
   "outputs": [
    {
     "name": "stdout",
     "output_type": "stream",
     "text": [
      "1694\n"
     ]
    }
   ],
   "source": [
    "df_2021 = df_2021[df_2021[\"Codigo_do_Curso\"] != 73438]\n",
    "codigoCursosArray = df_2021[\"Codigo_do_Curso\"].unique()\n",
    "print(len(codigoCursosArray))\n",
    "\n",
    "codigo_dos_cursos = codigoCursosArray.tolist()"
   ]
  },
  {
   "cell_type": "code",
   "execution_count": null,
   "id": "958787de-0895-4558-8035-ae9793762aeb",
   "metadata": {},
   "outputs": [],
   "source": [
    "sum(df_2021[\"Codigo_do_Curso\"] == 73438)"
   ]
  },
  {
   "cell_type": "code",
   "execution_count": 13,
   "id": "015ce54a-a013-4f46-b1ff-12a0a2777028",
   "metadata": {},
   "outputs": [],
   "source": [
    "df_2021.to_csv('./{}.csv'.format('pre-process_2017_tres_anos'),index=False)"
   ]
  },
  {
   "cell_type": "code",
   "execution_count": 3,
   "id": "31086570-dae3-48c9-a9ab-e0219bf36e94",
   "metadata": {},
   "outputs": [
    {
     "name": "stdout",
     "output_type": "stream",
     "text": [
      "1554\n"
     ]
    }
   ],
   "source": [
    "codigoCursosArray = df_2021[\"Codigo_do_Curso\"].unique()\n",
    "print(len(codigoCursosArray))\n",
    "\n",
    "codigo_dos_cursos = codigoCursosArray.tolist()"
   ]
  },
  {
   "cell_type": "markdown",
   "id": "b1e3351d-ebaa-47a0-9be8-3491fefaf536",
   "metadata": {},
   "source": [
    "### Atributos presentes no arquivo de CE de 2014"
   ]
  },
  {
   "cell_type": "markdown",
   "id": "7be6172a-59e6-4ef3-bc3e-b8f4e1bad82b",
   "metadata": {},
   "source": [
    "Código da área, Código da IES, Código do Município, Número de Inscritos/Participantes"
   ]
  },
  {
   "cell_type": "markdown",
   "id": "347ba21a-543f-4320-b8c4-5c5ea18ecbc0",
   "metadata": {},
   "source": [
    "### Cálculo do desempenho médio"
   ]
  },
  {
   "cell_type": "code",
   "execution_count": 9,
   "id": "1a66d090-f0ed-4b75-9e91-18851423aa10",
   "metadata": {},
   "outputs": [],
   "source": [
    "df_media_cursos = []\n",
    "nome_das_novas_colunas = []\n",
    "definir_colunas = 1\n",
    "cursos_invalidos = []\n",
    "\n",
    "    \n",
    "for codigo in codigo_dos_cursos:\n",
    "    subconjunto_do_codigo = df_2021.loc[df_2021['Codigo_do_Curso'] == codigo]\n",
    "    subconjunto_do_codigo = subconjunto_do_codigo.reset_index(drop=True)\n",
    "    \n",
    "    medias_curso = []\n",
    "    \n",
    "    numero_inscritos = len(subconjunto_do_codigo)\n",
    "    numero_participantes = sum(subconjunto_do_codigo[\"Tipo_Presenca\"] == 555)\n",
    "            \n",
    "    if numero_participantes <= 1:\n",
    "        cursos_invalidos.append(codigo)\n",
    "        continue\n",
    "    \n",
    "    soma_FG = subconjunto_do_codigo[\"Nota_FG\"].sum()\n",
    "    soma_CE = subconjunto_do_codigo[\"Nota_CE\"].sum()\n",
    "    \n",
    "    media_FG = soma_FG / numero_participantes\n",
    "    media_CE = soma_CE / numero_participantes\n",
    "        \n",
    "    if definir_colunas:\n",
    "        nome_das_novas_colunas.append('Codigo_do_Curso')\n",
    "    medias_curso.append(codigo)\n",
    "    \n",
    "    cod_area =  subconjunto_do_codigo._get_value(0, \"Codigo_Area\")\n",
    "    \n",
    "    if definir_colunas:\n",
    "        nome_das_novas_colunas.append('Codigo_Area')\n",
    "    medias_curso.append(cod_area)\n",
    "    \n",
    "    cod_ies =  subconjunto_do_codigo._get_value(0, \"Codigo_IES\")\n",
    "    \n",
    "    if definir_colunas:\n",
    "        nome_das_novas_colunas.append('Codigo_IES')\n",
    "    medias_curso.append(cod_ies)\n",
    "    \n",
    "    cod_municipio =  subconjunto_do_codigo._get_value(0, \"Codigo_Municipio\")\n",
    "    \n",
    "    if definir_colunas:\n",
    "        nome_das_novas_colunas.append('Codigo_Municipio')\n",
    "    medias_curso.append(cod_municipio)\n",
    "    \n",
    "    area =  subconjunto_do_codigo._get_value(0, \"Curso\")\n",
    "    \n",
    "    if definir_colunas:\n",
    "        nome_das_novas_colunas.append('Curso')\n",
    "    medias_curso.append(area)\n",
    "    \n",
    "    if definir_colunas:\n",
    "        nome_das_novas_colunas.append('Numero_Inscritos')\n",
    "    medias_curso.append(numero_inscritos)\n",
    "    \n",
    "    if definir_colunas:\n",
    "        nome_das_novas_colunas.append('Numero_Participantes')\n",
    "    medias_curso.append(numero_participantes)\n",
    "    \n",
    "    if definir_colunas:\n",
    "        nome_das_novas_colunas.append('Media_FG')\n",
    "    medias_curso.append(pd.to_numeric(Dec(media_FG).quantize(Dec('0.001'), rounding=ROUND_DOWN)))\n",
    "    #medias_curso.append(np.floor(media_FG * 1000) / 1000)\n",
    "    \n",
    "    if definir_colunas:\n",
    "        nome_das_novas_colunas.append('Media_CE')\n",
    "    medias_curso.append(pd.to_numeric(Dec(media_CE).quantize(Dec('0.001'), rounding=ROUND_DOWN)))\n",
    "    #medias_curso.append(np.floor(media_CE * 1000) / 1000)\n",
    "    \n",
    "    df_media_cursos.append(medias_curso)\n",
    "    definir_colunas = 0\n",
    "\n",
    "df_medias = pd.DataFrame(df_media_cursos)\n",
    "\n",
    "df_medias.columns =[nome_das_novas_colunas]"
   ]
  },
  {
   "cell_type": "code",
   "execution_count": 10,
   "id": "c3b93615-83d7-455c-8150-296dad42300e",
   "metadata": {},
   "outputs": [
    {
     "data": {
      "text/plain": [
       "49"
      ]
     },
     "execution_count": 10,
     "metadata": {},
     "output_type": "execute_result"
    }
   ],
   "source": [
    "len(cursos_invalidos)"
   ]
  },
  {
   "cell_type": "code",
   "execution_count": 11,
   "id": "f5ccc04c-719f-4fc3-bf4e-2330fa3373e6",
   "metadata": {},
   "outputs": [
    {
     "data": {
      "text/html": [
       "<div>\n",
       "<style scoped>\n",
       "    .dataframe tbody tr th:only-of-type {\n",
       "        vertical-align: middle;\n",
       "    }\n",
       "\n",
       "    .dataframe tbody tr th {\n",
       "        vertical-align: top;\n",
       "    }\n",
       "\n",
       "    .dataframe thead tr th {\n",
       "        text-align: left;\n",
       "    }\n",
       "</style>\n",
       "<table border=\"1\" class=\"dataframe\">\n",
       "  <thead>\n",
       "    <tr>\n",
       "      <th></th>\n",
       "      <th>Codigo_do_Curso</th>\n",
       "      <th>Codigo_Area</th>\n",
       "      <th>Codigo_IES</th>\n",
       "      <th>Codigo_Municipio</th>\n",
       "      <th>Curso</th>\n",
       "      <th>Numero_Inscritos</th>\n",
       "      <th>Numero_Participantes</th>\n",
       "      <th>Media_FG</th>\n",
       "      <th>Media_CE</th>\n",
       "    </tr>\n",
       "  </thead>\n",
       "  <tbody>\n",
       "    <tr>\n",
       "      <th>0</th>\n",
       "      <td>36</td>\n",
       "      <td>4004</td>\n",
       "      <td>1</td>\n",
       "      <td>5103403</td>\n",
       "      <td>BCC</td>\n",
       "      <td>16</td>\n",
       "      <td>12</td>\n",
       "      <td>68.841</td>\n",
       "      <td>49.799</td>\n",
       "    </tr>\n",
       "    <tr>\n",
       "      <th>1</th>\n",
       "      <td>127</td>\n",
       "      <td>4004</td>\n",
       "      <td>2</td>\n",
       "      <td>5300108</td>\n",
       "      <td>BCC</td>\n",
       "      <td>28</td>\n",
       "      <td>24</td>\n",
       "      <td>60.095</td>\n",
       "      <td>53.554</td>\n",
       "    </tr>\n",
       "    <tr>\n",
       "      <th>2</th>\n",
       "      <td>317</td>\n",
       "      <td>4004</td>\n",
       "      <td>3</td>\n",
       "      <td>2806701</td>\n",
       "      <td>BCC</td>\n",
       "      <td>56</td>\n",
       "      <td>43</td>\n",
       "      <td>62.711</td>\n",
       "      <td>51.546</td>\n",
       "    </tr>\n",
       "    <tr>\n",
       "      <th>3</th>\n",
       "      <td>513</td>\n",
       "      <td>4004</td>\n",
       "      <td>5</td>\n",
       "      <td>2211001</td>\n",
       "      <td>BCC</td>\n",
       "      <td>37</td>\n",
       "      <td>29</td>\n",
       "      <td>61.086</td>\n",
       "      <td>48.710</td>\n",
       "    </tr>\n",
       "    <tr>\n",
       "      <th>4</th>\n",
       "      <td>594</td>\n",
       "      <td>4004</td>\n",
       "      <td>6</td>\n",
       "      <td>3146107</td>\n",
       "      <td>BCC</td>\n",
       "      <td>40</td>\n",
       "      <td>37</td>\n",
       "      <td>68.118</td>\n",
       "      <td>55.805</td>\n",
       "    </tr>\n",
       "    <tr>\n",
       "      <th>...</th>\n",
       "      <td>...</td>\n",
       "      <td>...</td>\n",
       "      <td>...</td>\n",
       "      <td>...</td>\n",
       "      <td>...</td>\n",
       "      <td>...</td>\n",
       "      <td>...</td>\n",
       "      <td>...</td>\n",
       "      <td>...</td>\n",
       "    </tr>\n",
       "    <tr>\n",
       "      <th>1500</th>\n",
       "      <td>5001073</td>\n",
       "      <td>4005</td>\n",
       "      <td>1813</td>\n",
       "      <td>1500107</td>\n",
       "      <td>LCC</td>\n",
       "      <td>29</td>\n",
       "      <td>28</td>\n",
       "      <td>53.960</td>\n",
       "      <td>44.917</td>\n",
       "    </tr>\n",
       "    <tr>\n",
       "      <th>1501</th>\n",
       "      <td>5001087</td>\n",
       "      <td>4005</td>\n",
       "      <td>1813</td>\n",
       "      <td>1508100</td>\n",
       "      <td>LCC</td>\n",
       "      <td>23</td>\n",
       "      <td>20</td>\n",
       "      <td>56.720</td>\n",
       "      <td>49.754</td>\n",
       "    </tr>\n",
       "    <tr>\n",
       "      <th>1502</th>\n",
       "      <td>5001088</td>\n",
       "      <td>4005</td>\n",
       "      <td>1813</td>\n",
       "      <td>1506807</td>\n",
       "      <td>LCC</td>\n",
       "      <td>62</td>\n",
       "      <td>58</td>\n",
       "      <td>46.591</td>\n",
       "      <td>45.400</td>\n",
       "    </tr>\n",
       "    <tr>\n",
       "      <th>1503</th>\n",
       "      <td>5001103</td>\n",
       "      <td>4005</td>\n",
       "      <td>1813</td>\n",
       "      <td>1503606</td>\n",
       "      <td>LCC</td>\n",
       "      <td>23</td>\n",
       "      <td>22</td>\n",
       "      <td>51.590</td>\n",
       "      <td>39.609</td>\n",
       "    </tr>\n",
       "    <tr>\n",
       "      <th>1504</th>\n",
       "      <td>5001162</td>\n",
       "      <td>4005</td>\n",
       "      <td>47</td>\n",
       "      <td>5201108</td>\n",
       "      <td>LCC</td>\n",
       "      <td>45</td>\n",
       "      <td>26</td>\n",
       "      <td>54.626</td>\n",
       "      <td>48.996</td>\n",
       "    </tr>\n",
       "  </tbody>\n",
       "</table>\n",
       "<p>1505 rows × 9 columns</p>\n",
       "</div>"
      ],
      "text/plain": [
       "     Codigo_do_Curso Codigo_Area Codigo_IES Codigo_Municipio Curso  \\\n",
       "0                 36        4004          1          5103403   BCC   \n",
       "1                127        4004          2          5300108   BCC   \n",
       "2                317        4004          3          2806701   BCC   \n",
       "3                513        4004          5          2211001   BCC   \n",
       "4                594        4004          6          3146107   BCC   \n",
       "...              ...         ...        ...              ...   ...   \n",
       "1500         5001073        4005       1813          1500107   LCC   \n",
       "1501         5001087        4005       1813          1508100   LCC   \n",
       "1502         5001088        4005       1813          1506807   LCC   \n",
       "1503         5001103        4005       1813          1503606   LCC   \n",
       "1504         5001162        4005         47          5201108   LCC   \n",
       "\n",
       "     Numero_Inscritos Numero_Participantes Media_FG Media_CE  \n",
       "0                  16                   12   68.841   49.799  \n",
       "1                  28                   24   60.095   53.554  \n",
       "2                  56                   43   62.711   51.546  \n",
       "3                  37                   29   61.086   48.710  \n",
       "4                  40                   37   68.118   55.805  \n",
       "...               ...                  ...      ...      ...  \n",
       "1500               29                   28   53.960   44.917  \n",
       "1501               23                   20   56.720   49.754  \n",
       "1502               62                   58   46.591   45.400  \n",
       "1503               23                   22   51.590   39.609  \n",
       "1504               45                   26   54.626   48.996  \n",
       "\n",
       "[1505 rows x 9 columns]"
      ]
     },
     "execution_count": 11,
     "metadata": {},
     "output_type": "execute_result"
    }
   ],
   "source": [
    "df_medias"
   ]
  },
  {
   "cell_type": "code",
   "execution_count": 338,
   "id": "4ef54afb-27f0-4f00-b725-3eddecd822f5",
   "metadata": {},
   "outputs": [
    {
     "data": {
      "text/plain": [
       "array([0])"
      ]
     },
     "execution_count": 338,
     "metadata": {},
     "output_type": "execute_result"
    }
   ],
   "source": [
    "sum(df_medias[\"Media_CE\"].values == 0.0)"
   ]
  },
  {
   "cell_type": "code",
   "execution_count": 60,
   "id": "f1995b22-97ae-46e6-8916-717d2d8c4254",
   "metadata": {},
   "outputs": [],
   "source": [
    "df_medias.to_csv('./{}.csv'.format('conceito_enade_2021_Teste_medias_1'),index=False)"
   ]
  },
  {
   "cell_type": "markdown",
   "id": "bfb65b33-04a0-419a-91e4-26de809358e5",
   "metadata": {},
   "source": [
    "### Cálculo da média nacional"
   ]
  },
  {
   "cell_type": "code",
   "execution_count": 12,
   "id": "562fe7df-e676-4b3f-9569-40353e8ae7a7",
   "metadata": {},
   "outputs": [
    {
     "name": "stdout",
     "output_type": "stream",
     "text": [
      "6\n"
     ]
    }
   ],
   "source": [
    "areas_array = df_2021[\"Curso\"].unique()\n",
    "print(len(areas_array))\n",
    "\n",
    "areas_lista = areas_array.tolist()"
   ]
  },
  {
   "cell_type": "code",
   "execution_count": 13,
   "id": "48bbea3a-392e-4cf0-b3eb-ed731e8c2e80",
   "metadata": {},
   "outputs": [],
   "source": [
    "df_media_nacional_areas = []\n",
    "nome_das_novas_colunas = []\n",
    "definir_colunas = 1\n",
    "    \n",
    "for area in areas_lista:\n",
    "    numero_ocorrencias_area = sum(df_medias[\"Curso\"].values == area)\n",
    "        \n",
    "    medias_nacionais_area = []\n",
    "    \n",
    "    if definir_colunas:\n",
    "        nome_das_novas_colunas.append('Curso')\n",
    "    medias_nacionais_area.append(area)\n",
    "        \n",
    "    if definir_colunas:\n",
    "        nome_das_novas_colunas.append('Media_Nacional_FG')\n",
    "        \n",
    "    somatorio_FG = df_medias[df_medias[\"Curso\"].values == area][\"Media_FG\"].sum()\n",
    "    \n",
    "    media_nacional_FG_area = float(somatorio_FG / numero_ocorrencias_area)\n",
    "    \n",
    "    medias_nacionais_area.append(media_nacional_FG_area)\n",
    "    #medias_nacionais_area.append(float(Dec(str(media_nacional_FG_area)).quantize(Dec('0.001'), rounding=ROUND_DOWN)))\n",
    "        \n",
    "    if definir_colunas:\n",
    "        nome_das_novas_colunas.append('Media_Nacional_CE')\n",
    "            \n",
    "    somatorio_CE = df_medias[df_medias[\"Curso\"].values == area][\"Media_CE\"].sum()\n",
    "    \n",
    "    media_nacional_CE_area = float(somatorio_CE / numero_ocorrencias_area)\n",
    "\n",
    "    medias_nacionais_area.append(media_nacional_CE_area)\n",
    "    #medias_nacionais_area.append(float(Dec(str(media_nacional_CE_area)).quantize(Dec('0.001'), rounding=ROUND_DOWN)))\n",
    "    \n",
    "    df_media_nacional_areas.append(medias_nacionais_area)\n",
    "    definir_colunas = 0\n",
    "\n",
    "df_media_nacional = pd.DataFrame(df_media_nacional_areas)\n",
    "\n",
    "df_media_nacional.columns =[nome_das_novas_colunas]"
   ]
  },
  {
   "cell_type": "code",
   "execution_count": 14,
   "id": "40f69b4c-5b6f-4fe5-bc41-6ab02ff0afde",
   "metadata": {},
   "outputs": [
    {
     "data": {
      "text/html": [
       "<div>\n",
       "<style scoped>\n",
       "    .dataframe tbody tr th:only-of-type {\n",
       "        vertical-align: middle;\n",
       "    }\n",
       "\n",
       "    .dataframe tbody tr th {\n",
       "        vertical-align: top;\n",
       "    }\n",
       "\n",
       "    .dataframe thead tr th {\n",
       "        text-align: left;\n",
       "    }\n",
       "</style>\n",
       "<table border=\"1\" class=\"dataframe\">\n",
       "  <thead>\n",
       "    <tr>\n",
       "      <th></th>\n",
       "      <th>Curso</th>\n",
       "      <th>Media_Nacional_FG</th>\n",
       "      <th>Media_Nacional_CE</th>\n",
       "    </tr>\n",
       "  </thead>\n",
       "  <tbody>\n",
       "    <tr>\n",
       "      <th>0</th>\n",
       "      <td>BCC</td>\n",
       "      <td>59.504063</td>\n",
       "      <td>37.752276</td>\n",
       "    </tr>\n",
       "    <tr>\n",
       "      <th>1</th>\n",
       "      <td>EC</td>\n",
       "      <td>62.655487</td>\n",
       "      <td>41.708437</td>\n",
       "    </tr>\n",
       "    <tr>\n",
       "      <th>2</th>\n",
       "      <td>SI</td>\n",
       "      <td>56.785426</td>\n",
       "      <td>39.144902</td>\n",
       "    </tr>\n",
       "    <tr>\n",
       "      <th>3</th>\n",
       "      <td>ADS</td>\n",
       "      <td>55.868565</td>\n",
       "      <td>35.777168</td>\n",
       "    </tr>\n",
       "    <tr>\n",
       "      <th>4</th>\n",
       "      <td>LCC</td>\n",
       "      <td>54.251074</td>\n",
       "      <td>48.497352</td>\n",
       "    </tr>\n",
       "    <tr>\n",
       "      <th>5</th>\n",
       "      <td>RC</td>\n",
       "      <td>52.675071</td>\n",
       "      <td>38.953619</td>\n",
       "    </tr>\n",
       "  </tbody>\n",
       "</table>\n",
       "</div>"
      ],
      "text/plain": [
       "  Curso Media_Nacional_FG Media_Nacional_CE\n",
       "0   BCC         59.504063         37.752276\n",
       "1    EC         62.655487         41.708437\n",
       "2    SI         56.785426         39.144902\n",
       "3   ADS         55.868565         35.777168\n",
       "4   LCC         54.251074         48.497352\n",
       "5    RC         52.675071         38.953619"
      ]
     },
     "execution_count": 14,
     "metadata": {},
     "output_type": "execute_result"
    }
   ],
   "source": [
    "df_media_nacional"
   ]
  },
  {
   "cell_type": "code",
   "execution_count": 38,
   "id": "f929ab4e-5d73-425f-a35a-87896d4a90db",
   "metadata": {},
   "outputs": [],
   "source": [
    "df_media_nacional.to_csv('./{}.csv'.format('conceito_enade_2021_Teste_medias_nacionais'),index=False)"
   ]
  },
  {
   "cell_type": "code",
   "execution_count": 15,
   "id": "9d855c4c-5611-4396-a563-f2133efeb527",
   "metadata": {},
   "outputs": [],
   "source": [
    "desvios_padrao_areas = []\n",
    "nome_das_novas_colunas = []\n",
    "definir_colunas = 1\n",
    "    \n",
    "for area in areas_lista:\n",
    "    numero_ocorrencias_area = sum(df_medias[\"Curso\"].values == area)\n",
    "        \n",
    "    desvios_area = []\n",
    "    \n",
    "    if definir_colunas:\n",
    "        nome_das_novas_colunas.append('Curso')\n",
    "    desvios_area.append(area)\n",
    "        \n",
    "    if definir_colunas:\n",
    "        nome_das_novas_colunas.append('Desvio_Padrao_FG')\n",
    "        \n",
    "    media_nacional_area_FG = df_media_nacional[df_media_nacional[\"Curso\"].values == area][\"Media_Nacional_FG\"].iat[0,0]\n",
    "    \n",
    "    somatorio_FG = pow(df_medias[df_medias[\"Curso\"].values == area][\"Media_FG\"] - media_nacional_area_FG, 2).values.sum()\n",
    "    \n",
    "    desvio_padrao_FG = math.sqrt(somatorio_FG / (numero_ocorrencias_area - 1))\n",
    "     \n",
    "    desvios_area.append(desvio_padrao_FG)\n",
    "    #desvios_area.append(float(Dec(str(desvio_padrao_FG)).quantize(Dec('0.001'), rounding=ROUND_DOWN)))\n",
    "        \n",
    "    if definir_colunas:\n",
    "        nome_das_novas_colunas.append('Desvio_Padrao_CE')\n",
    "        \n",
    "    media_nacional_area_CE = df_media_nacional[df_media_nacional[\"Curso\"].values == area][\"Media_Nacional_CE\"].iat[0,0]\n",
    "            \n",
    "    somatorio_CE = pow(df_medias[df_medias[\"Curso\"].values == area][\"Media_CE\"] - media_nacional_area_CE, 2).values.sum()\n",
    "    \n",
    "    desvio_padrao_CE = math.sqrt(somatorio_CE / (numero_ocorrencias_area - 1))\n",
    "    \n",
    "    desvios_area.append(desvio_padrao_CE)\n",
    "    #desvios_area.append(float(Dec(str(desvio_padrao_CE)).quantize(Dec('0.001'), rounding=ROUND_DOWN)))\n",
    "    \n",
    "    desvios_padrao_areas.append(desvios_area)\n",
    "    definir_colunas = 0\n",
    "\n",
    "df_desvios_padrao = pd.DataFrame(desvios_padrao_areas)\n",
    "\n",
    "df_desvios_padrao.columns =[nome_das_novas_colunas]"
   ]
  },
  {
   "cell_type": "code",
   "execution_count": 16,
   "id": "9ff3cea6-6ac7-41c4-b201-d8947edc4c89",
   "metadata": {},
   "outputs": [
    {
     "data": {
      "text/html": [
       "<div>\n",
       "<style scoped>\n",
       "    .dataframe tbody tr th:only-of-type {\n",
       "        vertical-align: middle;\n",
       "    }\n",
       "\n",
       "    .dataframe tbody tr th {\n",
       "        vertical-align: top;\n",
       "    }\n",
       "\n",
       "    .dataframe thead tr th {\n",
       "        text-align: left;\n",
       "    }\n",
       "</style>\n",
       "<table border=\"1\" class=\"dataframe\">\n",
       "  <thead>\n",
       "    <tr>\n",
       "      <th></th>\n",
       "      <th>Curso</th>\n",
       "      <th>Desvio_Padrao_FG</th>\n",
       "      <th>Desvio_Padrao_CE</th>\n",
       "    </tr>\n",
       "  </thead>\n",
       "  <tbody>\n",
       "    <tr>\n",
       "      <th>0</th>\n",
       "      <td>BCC</td>\n",
       "      <td>6.931633</td>\n",
       "      <td>9.361753</td>\n",
       "    </tr>\n",
       "    <tr>\n",
       "      <th>1</th>\n",
       "      <td>EC</td>\n",
       "      <td>7.851587</td>\n",
       "      <td>9.024313</td>\n",
       "    </tr>\n",
       "    <tr>\n",
       "      <th>2</th>\n",
       "      <td>SI</td>\n",
       "      <td>6.921602</td>\n",
       "      <td>7.059955</td>\n",
       "    </tr>\n",
       "    <tr>\n",
       "      <th>3</th>\n",
       "      <td>ADS</td>\n",
       "      <td>6.845903</td>\n",
       "      <td>7.603124</td>\n",
       "    </tr>\n",
       "    <tr>\n",
       "      <th>4</th>\n",
       "      <td>LCC</td>\n",
       "      <td>6.642156</td>\n",
       "      <td>7.932016</td>\n",
       "    </tr>\n",
       "    <tr>\n",
       "      <th>5</th>\n",
       "      <td>RC</td>\n",
       "      <td>7.140352</td>\n",
       "      <td>6.896446</td>\n",
       "    </tr>\n",
       "  </tbody>\n",
       "</table>\n",
       "</div>"
      ],
      "text/plain": [
       "  Curso Desvio_Padrao_FG Desvio_Padrao_CE\n",
       "0   BCC         6.931633         9.361753\n",
       "1    EC         7.851587         9.024313\n",
       "2    SI         6.921602         7.059955\n",
       "3   ADS         6.845903         7.603124\n",
       "4   LCC         6.642156         7.932016\n",
       "5    RC         7.140352         6.896446"
      ]
     },
     "execution_count": 16,
     "metadata": {},
     "output_type": "execute_result"
    }
   ],
   "source": [
    "df_desvios_padrao"
   ]
  },
  {
   "cell_type": "code",
   "execution_count": 17,
   "id": "5a2e3ac7-8f65-4a94-88b8-e2fe907866cd",
   "metadata": {},
   "outputs": [],
   "source": [
    "afastamento_padronizado_cursos = []\n",
    "nome_das_novas_colunas = []\n",
    "definir_colunas = 1\n",
    "\n",
    "    \n",
    "for index, linha in df_medias.iterrows():\n",
    "    \n",
    "    afastamentos_curso = []\n",
    "    \n",
    "    if definir_colunas:\n",
    "        nome_das_novas_colunas.append('Codigo_do_Curso')\n",
    "    afastamentos_curso.append(df_medias.loc[index, \"Codigo_do_Curso\"][0])\n",
    "    \n",
    "    if definir_colunas:\n",
    "        nome_das_novas_colunas.append('Codigo_Area')\n",
    "    afastamentos_curso.append(df_medias.loc[index, \"Codigo_Area\"][0])\n",
    "    \n",
    "    if definir_colunas:\n",
    "        nome_das_novas_colunas.append('Codigo_IES')\n",
    "    afastamentos_curso.append(df_medias.loc[index, \"Codigo_IES\"][0])\n",
    "    \n",
    "    if definir_colunas:\n",
    "        nome_das_novas_colunas.append('Codigo_Municipio')\n",
    "    afastamentos_curso.append(df_medias.loc[index, \"Codigo_Municipio\"][0])\n",
    "    \n",
    "    area = df_medias.loc[index, \"Curso\"][0]\n",
    "    \n",
    "    if definir_colunas:\n",
    "        nome_das_novas_colunas.append('Curso')\n",
    "    afastamentos_curso.append(area)\n",
    "    \n",
    "    if definir_colunas:\n",
    "        nome_das_novas_colunas.append('Numero_Inscritos')\n",
    "    afastamentos_curso.append(df_medias.loc[index, \"Numero_Inscritos\"][0])\n",
    "    \n",
    "    if definir_colunas:\n",
    "        nome_das_novas_colunas.append('Numero_Participantes')\n",
    "    afastamentos_curso.append(df_medias.loc[index, \"Numero_Participantes\"][0])\n",
    "    \n",
    "    if definir_colunas:\n",
    "        nome_das_novas_colunas.append('Media_FG')\n",
    "    afastamentos_curso.append(df_medias.loc[index, \"Media_FG\"][0])\n",
    "    \n",
    "    if definir_colunas:\n",
    "        nome_das_novas_colunas.append('Media_CE')\n",
    "    afastamentos_curso.append(df_medias.loc[index, \"Media_CE\"][0])\n",
    "    \n",
    "    if definir_colunas:\n",
    "        nome_das_novas_colunas.append('Afastamento_Padronizado_FG')\n",
    "    \n",
    "    media_nacional_area_FG = df_media_nacional[df_media_nacional[\"Curso\"].values == area][\"Media_Nacional_FG\"].iat[0,0]\n",
    "        \n",
    "    desvio_padrao_area_FG = df_desvios_padrao[df_desvios_padrao[\"Curso\"].values == area][\"Desvio_Padrao_FG\"].iat[0,0]\n",
    "    \n",
    "    afastamento_padronizado_FG = (df_medias.loc[index,\"Media_FG\"][0] - media_nacional_area_FG) / desvio_padrao_area_FG\n",
    "    \n",
    "    afastamentos_curso.append(afastamento_padronizado_FG)\n",
    "    #afastamentos_curso.append(float(Dec(str(afastamento_padronizado_FG)).quantize(Dec('0.001'), rounding=ROUND_DOWN)))\n",
    "    \n",
    "    if definir_colunas:\n",
    "        nome_das_novas_colunas.append('Afastamento_Padronizado_CE')\n",
    "        \n",
    "    media_nacional_area_CE = df_media_nacional[df_media_nacional[\"Curso\"].values == area][\"Media_Nacional_CE\"].iat[0,0]\n",
    "        \n",
    "    desvio_padrao_area_CE = df_desvios_padrao[df_desvios_padrao[\"Curso\"].values == area][\"Desvio_Padrao_CE\"].iat[0,0]\n",
    "            \n",
    "    afastamento_padronizado_CE = (df_medias.loc[index,\"Media_CE\"][0] - media_nacional_area_CE) / desvio_padrao_area_CE\n",
    "    \n",
    "    afastamentos_curso.append(afastamento_padronizado_CE)\n",
    "    #afastamentos_curso.append(float(Dec(str(afastamento_padronizado_CE)).quantize(Dec('0.001'), rounding=ROUND_DOWN)))\n",
    "    \n",
    "    afastamento_padronizado_cursos.append(afastamentos_curso)\n",
    "    definir_colunas = 0\n",
    "    \n",
    "df_afastamento_padronizado = pd.DataFrame(afastamento_padronizado_cursos)\n",
    "\n",
    "df_afastamento_padronizado.columns =[nome_das_novas_colunas]"
   ]
  },
  {
   "cell_type": "code",
   "execution_count": 18,
   "id": "5a200ca0-490b-4f49-b1a1-939959e1e5d2",
   "metadata": {},
   "outputs": [
    {
     "data": {
      "text/html": [
       "<div>\n",
       "<style scoped>\n",
       "    .dataframe tbody tr th:only-of-type {\n",
       "        vertical-align: middle;\n",
       "    }\n",
       "\n",
       "    .dataframe tbody tr th {\n",
       "        vertical-align: top;\n",
       "    }\n",
       "\n",
       "    .dataframe thead tr th {\n",
       "        text-align: left;\n",
       "    }\n",
       "</style>\n",
       "<table border=\"1\" class=\"dataframe\">\n",
       "  <thead>\n",
       "    <tr>\n",
       "      <th></th>\n",
       "      <th>Codigo_do_Curso</th>\n",
       "      <th>Codigo_Area</th>\n",
       "      <th>Codigo_IES</th>\n",
       "      <th>Codigo_Municipio</th>\n",
       "      <th>Curso</th>\n",
       "      <th>Numero_Inscritos</th>\n",
       "      <th>Numero_Participantes</th>\n",
       "      <th>Media_FG</th>\n",
       "      <th>Media_CE</th>\n",
       "      <th>Afastamento_Padronizado_FG</th>\n",
       "      <th>Afastamento_Padronizado_CE</th>\n",
       "    </tr>\n",
       "  </thead>\n",
       "  <tbody>\n",
       "    <tr>\n",
       "      <th>0</th>\n",
       "      <td>36</td>\n",
       "      <td>4004</td>\n",
       "      <td>1</td>\n",
       "      <td>5103403</td>\n",
       "      <td>BCC</td>\n",
       "      <td>16</td>\n",
       "      <td>12</td>\n",
       "      <td>68.841</td>\n",
       "      <td>49.799</td>\n",
       "      <td>1.347004</td>\n",
       "      <td>1.286802</td>\n",
       "    </tr>\n",
       "    <tr>\n",
       "      <th>1</th>\n",
       "      <td>127</td>\n",
       "      <td>4004</td>\n",
       "      <td>2</td>\n",
       "      <td>5300108</td>\n",
       "      <td>BCC</td>\n",
       "      <td>28</td>\n",
       "      <td>24</td>\n",
       "      <td>60.095</td>\n",
       "      <td>53.554</td>\n",
       "      <td>0.085252</td>\n",
       "      <td>1.687902</td>\n",
       "    </tr>\n",
       "    <tr>\n",
       "      <th>2</th>\n",
       "      <td>317</td>\n",
       "      <td>4004</td>\n",
       "      <td>3</td>\n",
       "      <td>2806701</td>\n",
       "      <td>BCC</td>\n",
       "      <td>56</td>\n",
       "      <td>43</td>\n",
       "      <td>62.711</td>\n",
       "      <td>51.546</td>\n",
       "      <td>0.462653</td>\n",
       "      <td>1.473412</td>\n",
       "    </tr>\n",
       "    <tr>\n",
       "      <th>3</th>\n",
       "      <td>513</td>\n",
       "      <td>4004</td>\n",
       "      <td>5</td>\n",
       "      <td>2211001</td>\n",
       "      <td>BCC</td>\n",
       "      <td>37</td>\n",
       "      <td>29</td>\n",
       "      <td>61.086</td>\n",
       "      <td>48.710</td>\n",
       "      <td>0.228220</td>\n",
       "      <td>1.170478</td>\n",
       "    </tr>\n",
       "    <tr>\n",
       "      <th>4</th>\n",
       "      <td>594</td>\n",
       "      <td>4004</td>\n",
       "      <td>6</td>\n",
       "      <td>3146107</td>\n",
       "      <td>BCC</td>\n",
       "      <td>40</td>\n",
       "      <td>37</td>\n",
       "      <td>68.118</td>\n",
       "      <td>55.805</td>\n",
       "      <td>1.242700</td>\n",
       "      <td>1.928349</td>\n",
       "    </tr>\n",
       "    <tr>\n",
       "      <th>...</th>\n",
       "      <td>...</td>\n",
       "      <td>...</td>\n",
       "      <td>...</td>\n",
       "      <td>...</td>\n",
       "      <td>...</td>\n",
       "      <td>...</td>\n",
       "      <td>...</td>\n",
       "      <td>...</td>\n",
       "      <td>...</td>\n",
       "      <td>...</td>\n",
       "      <td>...</td>\n",
       "    </tr>\n",
       "    <tr>\n",
       "      <th>1500</th>\n",
       "      <td>5001073</td>\n",
       "      <td>4005</td>\n",
       "      <td>1813</td>\n",
       "      <td>1500107</td>\n",
       "      <td>LCC</td>\n",
       "      <td>29</td>\n",
       "      <td>28</td>\n",
       "      <td>53.960</td>\n",
       "      <td>44.917</td>\n",
       "      <td>-0.043822</td>\n",
       "      <td>-0.451380</td>\n",
       "    </tr>\n",
       "    <tr>\n",
       "      <th>1501</th>\n",
       "      <td>5001087</td>\n",
       "      <td>4005</td>\n",
       "      <td>1813</td>\n",
       "      <td>1508100</td>\n",
       "      <td>LCC</td>\n",
       "      <td>23</td>\n",
       "      <td>20</td>\n",
       "      <td>56.720</td>\n",
       "      <td>49.754</td>\n",
       "      <td>0.371706</td>\n",
       "      <td>0.158427</td>\n",
       "    </tr>\n",
       "    <tr>\n",
       "      <th>1502</th>\n",
       "      <td>5001088</td>\n",
       "      <td>4005</td>\n",
       "      <td>1813</td>\n",
       "      <td>1506807</td>\n",
       "      <td>LCC</td>\n",
       "      <td>62</td>\n",
       "      <td>58</td>\n",
       "      <td>46.591</td>\n",
       "      <td>45.400</td>\n",
       "      <td>-1.153251</td>\n",
       "      <td>-0.390487</td>\n",
       "    </tr>\n",
       "    <tr>\n",
       "      <th>1503</th>\n",
       "      <td>5001103</td>\n",
       "      <td>4005</td>\n",
       "      <td>1813</td>\n",
       "      <td>1503606</td>\n",
       "      <td>LCC</td>\n",
       "      <td>23</td>\n",
       "      <td>22</td>\n",
       "      <td>51.590</td>\n",
       "      <td>39.609</td>\n",
       "      <td>-0.400634</td>\n",
       "      <td>-1.120566</td>\n",
       "    </tr>\n",
       "    <tr>\n",
       "      <th>1504</th>\n",
       "      <td>5001162</td>\n",
       "      <td>4005</td>\n",
       "      <td>47</td>\n",
       "      <td>5201108</td>\n",
       "      <td>LCC</td>\n",
       "      <td>45</td>\n",
       "      <td>26</td>\n",
       "      <td>54.626</td>\n",
       "      <td>48.996</td>\n",
       "      <td>0.056446</td>\n",
       "      <td>0.062865</td>\n",
       "    </tr>\n",
       "  </tbody>\n",
       "</table>\n",
       "<p>1505 rows × 11 columns</p>\n",
       "</div>"
      ],
      "text/plain": [
       "     Codigo_do_Curso Codigo_Area Codigo_IES Codigo_Municipio Curso  \\\n",
       "0                 36        4004          1          5103403   BCC   \n",
       "1                127        4004          2          5300108   BCC   \n",
       "2                317        4004          3          2806701   BCC   \n",
       "3                513        4004          5          2211001   BCC   \n",
       "4                594        4004          6          3146107   BCC   \n",
       "...              ...         ...        ...              ...   ...   \n",
       "1500         5001073        4005       1813          1500107   LCC   \n",
       "1501         5001087        4005       1813          1508100   LCC   \n",
       "1502         5001088        4005       1813          1506807   LCC   \n",
       "1503         5001103        4005       1813          1503606   LCC   \n",
       "1504         5001162        4005         47          5201108   LCC   \n",
       "\n",
       "     Numero_Inscritos Numero_Participantes Media_FG Media_CE  \\\n",
       "0                  16                   12   68.841   49.799   \n",
       "1                  28                   24   60.095   53.554   \n",
       "2                  56                   43   62.711   51.546   \n",
       "3                  37                   29   61.086   48.710   \n",
       "4                  40                   37   68.118   55.805   \n",
       "...               ...                  ...      ...      ...   \n",
       "1500               29                   28   53.960   44.917   \n",
       "1501               23                   20   56.720   49.754   \n",
       "1502               62                   58   46.591   45.400   \n",
       "1503               23                   22   51.590   39.609   \n",
       "1504               45                   26   54.626   48.996   \n",
       "\n",
       "     Afastamento_Padronizado_FG Afastamento_Padronizado_CE  \n",
       "0                      1.347004                   1.286802  \n",
       "1                      0.085252                   1.687902  \n",
       "2                      0.462653                   1.473412  \n",
       "3                      0.228220                   1.170478  \n",
       "4                      1.242700                   1.928349  \n",
       "...                         ...                        ...  \n",
       "1500                  -0.043822                  -0.451380  \n",
       "1501                   0.371706                   0.158427  \n",
       "1502                  -1.153251                  -0.390487  \n",
       "1503                  -0.400634                  -1.120566  \n",
       "1504                   0.056446                   0.062865  \n",
       "\n",
       "[1505 rows x 11 columns]"
      ]
     },
     "execution_count": 18,
     "metadata": {},
     "output_type": "execute_result"
    }
   ],
   "source": [
    "df_afastamento_padronizado"
   ]
  },
  {
   "cell_type": "code",
   "execution_count": 43,
   "id": "540a3af5-8c52-46ff-bbaa-5fb15cd32049",
   "metadata": {},
   "outputs": [],
   "source": [
    "df_afastamento_padronizado.to_csv('./{}.csv'.format('conceito_enade_2021_Teste_afastamento_padron'),index=False)"
   ]
  },
  {
   "cell_type": "code",
   "execution_count": 19,
   "id": "ff088459-4788-4d92-93ca-bb4757805638",
   "metadata": {},
   "outputs": [
    {
     "name": "stdout",
     "output_type": "stream",
     "text": [
      "[13]\n"
     ]
    }
   ],
   "source": [
    "print(sum(df_afastamento_padronizado[\"Afastamento_Padronizado_FG\"].values < -3))"
   ]
  },
  {
   "cell_type": "code",
   "execution_count": 20,
   "id": "1082aec6-d88b-4cc0-aea1-a97b1b0d9f13",
   "metadata": {},
   "outputs": [],
   "source": [
    "conceito_cursos = []\n",
    "nome_das_novas_colunas = []\n",
    "definir_colunas = 1\n",
    "        \n",
    "    \n",
    "for index, linha in df_afastamento_padronizado.iterrows():\n",
    "    \n",
    "    conceitos_curso = []\n",
    "    \n",
    "    if definir_colunas:\n",
    "        nome_das_novas_colunas.append('Codigo_do_Curso')\n",
    "    conceitos_curso.append(df_afastamento_padronizado.loc[index, \"Codigo_do_Curso\"][0])\n",
    "    \n",
    "    if definir_colunas:\n",
    "        nome_das_novas_colunas.append('Codigo_Area')\n",
    "    conceitos_curso.append(df_afastamento_padronizado.loc[index, \"Codigo_Area\"][0])\n",
    "    \n",
    "    if definir_colunas:\n",
    "        nome_das_novas_colunas.append('Codigo_IES')\n",
    "    conceitos_curso.append(df_afastamento_padronizado.loc[index, \"Codigo_IES\"][0])\n",
    "    \n",
    "    if definir_colunas:\n",
    "        nome_das_novas_colunas.append('Codigo_Municipio')\n",
    "    conceitos_curso.append(df_afastamento_padronizado.loc[index, \"Codigo_Municipio\"][0])\n",
    "    \n",
    "    area = df_afastamento_padronizado.loc[index, \"Curso\"][0]\n",
    "    \n",
    "    if definir_colunas:\n",
    "        nome_das_novas_colunas.append('Curso')\n",
    "    conceitos_curso.append(area)\n",
    "    \n",
    "    if definir_colunas:\n",
    "        nome_das_novas_colunas.append('Numero_Inscritos')\n",
    "    conceitos_curso.append(df_afastamento_padronizado.loc[index, \"Numero_Inscritos\"][0])\n",
    "    \n",
    "    if definir_colunas:\n",
    "        nome_das_novas_colunas.append('Numero_Participantes')\n",
    "    conceitos_curso.append(df_afastamento_padronizado.loc[index, \"Numero_Participantes\"][0])\n",
    "    \n",
    "    if definir_colunas:\n",
    "        nome_das_novas_colunas.append('Media_FG')\n",
    "    conceitos_curso.append(df_afastamento_padronizado.loc[index, \"Media_FG\"][0])\n",
    "    \n",
    "    if definir_colunas:\n",
    "        nome_das_novas_colunas.append('Media_CE')\n",
    "    conceitos_curso.append(df_afastamento_padronizado.loc[index, \"Media_CE\"][0])\n",
    "    \n",
    "    subconjunto_valido_FG = df_afastamento_padronizado[np.bitwise_not((df_afastamento_padronizado[\"Afastamento_Padronizado_FG\"].values < -3).tolist() or \n",
    "                                 (df_afastamento_padronizado[\"Afastamento_Padronizado_FG\"].values > 3).tolist())]\n",
    "    \n",
    "    ap_FG_min = subconjunto_valido_FG[subconjunto_valido_FG[\"Curso\"].values == area][\"Afastamento_Padronizado_FG\"].min()[0]\n",
    "    ap_FG_max = subconjunto_valido_FG[subconjunto_valido_FG[\"Curso\"].values == area][\"Afastamento_Padronizado_FG\"].max()[0]\n",
    "    \n",
    "    subconjunto_valido_CE = df_afastamento_padronizado[np.bitwise_not((df_afastamento_padronizado[\"Afastamento_Padronizado_CE\"].values < -3).tolist() or \n",
    "                                 (df_afastamento_padronizado[\"Afastamento_Padronizado_CE\"].values > 3).tolist())]\n",
    "    \n",
    "    ap_CE_min = subconjunto_valido_CE[subconjunto_valido_CE[\"Curso\"].values == area][\"Afastamento_Padronizado_CE\"].min()[0]\n",
    "    ap_CE_max = subconjunto_valido_CE[subconjunto_valido_CE[\"Curso\"].values == area][\"Afastamento_Padronizado_CE\"].max()[0]\n",
    "    \n",
    "    if definir_colunas:\n",
    "        nome_das_novas_colunas.append('Nota_Padronizada_FG')\n",
    "        \n",
    "    nota_padronizada_FG = 0\n",
    "        \n",
    "    if df_afastamento_padronizado.loc[index,\"Afastamento_Padronizado_FG\"][0] < -3:\n",
    "        nota_padronizada_FG = 0\n",
    "        conceitos_curso.append(nota_padronizada_FG)\n",
    "    elif df_afastamento_padronizado.loc[index,\"Afastamento_Padronizado_FG\"][0] > 3:\n",
    "        nota_padronizada_FG = 5\n",
    "        conceitos_curso.append(nota_padronizada_FG)\n",
    "    else:\n",
    "        nota_padronizada_FG = ((df_afastamento_padronizado.loc[index,\"Afastamento_Padronizado_FG\"][0] - ap_FG_min) / (ap_FG_max - ap_FG_min)) * 5\n",
    "        conceitos_curso.append(float(Dec(str(nota_padronizada_FG)).quantize(Dec('0.001'), rounding=ROUND_DOWN)))\n",
    "            \n",
    "    if definir_colunas:\n",
    "        nome_das_novas_colunas.append('Nota_Padronizada_CE')\n",
    "        \n",
    "    nota_padronizada_CE = 0\n",
    "        \n",
    "    if df_afastamento_padronizado.loc[index,\"Afastamento_Padronizado_CE\"][0] < -3:\n",
    "        nota_padronizada_CE = 0\n",
    "        conceitos_curso.append(nota_padronizada_CE)\n",
    "    elif df_afastamento_padronizado.loc[index,\"Afastamento_Padronizado_CE\"][0] > 3:\n",
    "        nota_padronizada_CE = 5\n",
    "        conceitos_curso.append(nota_padronizada_CE)\n",
    "    else:\n",
    "        nota_padronizada_CE = ((df_afastamento_padronizado.loc[index,\"Afastamento_Padronizado_CE\"][0] - ap_CE_min) / (ap_CE_max - ap_CE_min)) * 5\n",
    "        conceitos_curso.append(float(Dec(str(nota_padronizada_CE)).quantize(Dec('0.001'), rounding=ROUND_DOWN)))\n",
    "        \n",
    "    if definir_colunas:\n",
    "        nome_das_novas_colunas.append('Nota_Conceito_Contínuo')\n",
    "            \n",
    "    nota_conceito_continuo = nota_padronizada_FG*0.25 + nota_padronizada_CE*0.75\n",
    "    conceitos_curso.append(float(Dec(str(nota_conceito_continuo)).quantize(Dec('0.001'), rounding=ROUND_DOWN)))\n",
    "    \n",
    "    nota_conceito_faixa = 0\n",
    "    \n",
    "    if nota_conceito_continuo >= 0 and nota_conceito_continuo < 0.945 :\n",
    "        nota_conceito_faixa = 1\n",
    "    elif nota_conceito_continuo >= 0.945 and nota_conceito_continuo < 1.945:\n",
    "        nota_conceito_faixa = 2\n",
    "    elif nota_conceito_continuo >= 1.945 and nota_conceito_continuo < 2.945:\n",
    "        nota_conceito_faixa = 3\n",
    "    elif nota_conceito_continuo >= 2.945 and nota_conceito_continuo < 3.945:\n",
    "        nota_conceito_faixa = 4\n",
    "    elif nota_conceito_continuo >= 3.945 and nota_conceito_continuo <= 5 :\n",
    "        nota_conceito_faixa = 5\n",
    "    \n",
    "    if definir_colunas:\n",
    "        nome_das_novas_colunas.append('Nota_Conceito_Faixa')\n",
    "    conceitos_curso.append(nota_conceito_faixa)\n",
    "    \n",
    "    conceito_cursos.append(conceitos_curso)\n",
    "    definir_colunas = 0\n",
    "    \n",
    "df_conceito = pd.DataFrame(conceito_cursos)\n",
    "\n",
    "df_conceito.columns =[nome_das_novas_colunas]"
   ]
  },
  {
   "cell_type": "code",
   "execution_count": 21,
   "id": "d4cb9626-ceff-4cb8-941a-5d1b41086eeb",
   "metadata": {},
   "outputs": [
    {
     "data": {
      "text/html": [
       "<div>\n",
       "<style scoped>\n",
       "    .dataframe tbody tr th:only-of-type {\n",
       "        vertical-align: middle;\n",
       "    }\n",
       "\n",
       "    .dataframe tbody tr th {\n",
       "        vertical-align: top;\n",
       "    }\n",
       "\n",
       "    .dataframe thead tr th {\n",
       "        text-align: left;\n",
       "    }\n",
       "</style>\n",
       "<table border=\"1\" class=\"dataframe\">\n",
       "  <thead>\n",
       "    <tr>\n",
       "      <th></th>\n",
       "      <th>Codigo_do_Curso</th>\n",
       "      <th>Codigo_Area</th>\n",
       "      <th>Codigo_IES</th>\n",
       "      <th>Codigo_Municipio</th>\n",
       "      <th>Curso</th>\n",
       "      <th>Numero_Inscritos</th>\n",
       "      <th>Numero_Participantes</th>\n",
       "      <th>Media_FG</th>\n",
       "      <th>Media_CE</th>\n",
       "      <th>Nota_Padronizada_FG</th>\n",
       "      <th>Nota_Padronizada_CE</th>\n",
       "      <th>Nota_Conceito_Contínuo</th>\n",
       "      <th>Nota_Conceito_Faixa</th>\n",
       "    </tr>\n",
       "  </thead>\n",
       "  <tbody>\n",
       "    <tr>\n",
       "      <th>0</th>\n",
       "      <td>36</td>\n",
       "      <td>4004</td>\n",
       "      <td>1</td>\n",
       "      <td>5103403</td>\n",
       "      <td>BCC</td>\n",
       "      <td>16</td>\n",
       "      <td>12</td>\n",
       "      <td>68.841</td>\n",
       "      <td>49.799</td>\n",
       "      <td>3.708</td>\n",
       "      <td>3.607</td>\n",
       "      <td>3.633</td>\n",
       "      <td>4</td>\n",
       "    </tr>\n",
       "    <tr>\n",
       "      <th>1</th>\n",
       "      <td>127</td>\n",
       "      <td>4004</td>\n",
       "      <td>2</td>\n",
       "      <td>5300108</td>\n",
       "      <td>BCC</td>\n",
       "      <td>28</td>\n",
       "      <td>24</td>\n",
       "      <td>60.095</td>\n",
       "      <td>53.554</td>\n",
       "      <td>2.617</td>\n",
       "      <td>4.058</td>\n",
       "      <td>3.698</td>\n",
       "      <td>4</td>\n",
       "    </tr>\n",
       "    <tr>\n",
       "      <th>2</th>\n",
       "      <td>317</td>\n",
       "      <td>4004</td>\n",
       "      <td>3</td>\n",
       "      <td>2806701</td>\n",
       "      <td>BCC</td>\n",
       "      <td>56</td>\n",
       "      <td>43</td>\n",
       "      <td>62.711</td>\n",
       "      <td>51.546</td>\n",
       "      <td>2.944</td>\n",
       "      <td>3.817</td>\n",
       "      <td>3.599</td>\n",
       "      <td>4</td>\n",
       "    </tr>\n",
       "    <tr>\n",
       "      <th>3</th>\n",
       "      <td>513</td>\n",
       "      <td>4004</td>\n",
       "      <td>5</td>\n",
       "      <td>2211001</td>\n",
       "      <td>BCC</td>\n",
       "      <td>37</td>\n",
       "      <td>29</td>\n",
       "      <td>61.086</td>\n",
       "      <td>48.710</td>\n",
       "      <td>2.741</td>\n",
       "      <td>3.477</td>\n",
       "      <td>3.293</td>\n",
       "      <td>4</td>\n",
       "    </tr>\n",
       "    <tr>\n",
       "      <th>4</th>\n",
       "      <td>594</td>\n",
       "      <td>4004</td>\n",
       "      <td>6</td>\n",
       "      <td>3146107</td>\n",
       "      <td>BCC</td>\n",
       "      <td>40</td>\n",
       "      <td>37</td>\n",
       "      <td>68.118</td>\n",
       "      <td>55.805</td>\n",
       "      <td>3.618</td>\n",
       "      <td>4.328</td>\n",
       "      <td>4.151</td>\n",
       "      <td>5</td>\n",
       "    </tr>\n",
       "    <tr>\n",
       "      <th>...</th>\n",
       "      <td>...</td>\n",
       "      <td>...</td>\n",
       "      <td>...</td>\n",
       "      <td>...</td>\n",
       "      <td>...</td>\n",
       "      <td>...</td>\n",
       "      <td>...</td>\n",
       "      <td>...</td>\n",
       "      <td>...</td>\n",
       "      <td>...</td>\n",
       "      <td>...</td>\n",
       "      <td>...</td>\n",
       "      <td>...</td>\n",
       "    </tr>\n",
       "    <tr>\n",
       "      <th>1500</th>\n",
       "      <td>5001073</td>\n",
       "      <td>4005</td>\n",
       "      <td>1813</td>\n",
       "      <td>1500107</td>\n",
       "      <td>LCC</td>\n",
       "      <td>29</td>\n",
       "      <td>28</td>\n",
       "      <td>53.960</td>\n",
       "      <td>44.917</td>\n",
       "      <td>2.439</td>\n",
       "      <td>2.428</td>\n",
       "      <td>2.431</td>\n",
       "      <td>3</td>\n",
       "    </tr>\n",
       "    <tr>\n",
       "      <th>1501</th>\n",
       "      <td>5001087</td>\n",
       "      <td>4005</td>\n",
       "      <td>1813</td>\n",
       "      <td>1508100</td>\n",
       "      <td>LCC</td>\n",
       "      <td>23</td>\n",
       "      <td>20</td>\n",
       "      <td>56.720</td>\n",
       "      <td>49.754</td>\n",
       "      <td>2.788</td>\n",
       "      <td>3.029</td>\n",
       "      <td>2.969</td>\n",
       "      <td>4</td>\n",
       "    </tr>\n",
       "    <tr>\n",
       "      <th>1502</th>\n",
       "      <td>5001088</td>\n",
       "      <td>4005</td>\n",
       "      <td>1813</td>\n",
       "      <td>1506807</td>\n",
       "      <td>LCC</td>\n",
       "      <td>62</td>\n",
       "      <td>58</td>\n",
       "      <td>46.591</td>\n",
       "      <td>45.400</td>\n",
       "      <td>1.508</td>\n",
       "      <td>2.488</td>\n",
       "      <td>2.243</td>\n",
       "      <td>3</td>\n",
       "    </tr>\n",
       "    <tr>\n",
       "      <th>1503</th>\n",
       "      <td>5001103</td>\n",
       "      <td>4005</td>\n",
       "      <td>1813</td>\n",
       "      <td>1503606</td>\n",
       "      <td>LCC</td>\n",
       "      <td>23</td>\n",
       "      <td>22</td>\n",
       "      <td>51.590</td>\n",
       "      <td>39.609</td>\n",
       "      <td>2.139</td>\n",
       "      <td>1.769</td>\n",
       "      <td>1.862</td>\n",
       "      <td>2</td>\n",
       "    </tr>\n",
       "    <tr>\n",
       "      <th>1504</th>\n",
       "      <td>5001162</td>\n",
       "      <td>4005</td>\n",
       "      <td>47</td>\n",
       "      <td>5201108</td>\n",
       "      <td>LCC</td>\n",
       "      <td>45</td>\n",
       "      <td>26</td>\n",
       "      <td>54.626</td>\n",
       "      <td>48.996</td>\n",
       "      <td>2.523</td>\n",
       "      <td>2.935</td>\n",
       "      <td>2.832</td>\n",
       "      <td>3</td>\n",
       "    </tr>\n",
       "  </tbody>\n",
       "</table>\n",
       "<p>1505 rows × 13 columns</p>\n",
       "</div>"
      ],
      "text/plain": [
       "     Codigo_do_Curso Codigo_Area Codigo_IES Codigo_Municipio Curso  \\\n",
       "0                 36        4004          1          5103403   BCC   \n",
       "1                127        4004          2          5300108   BCC   \n",
       "2                317        4004          3          2806701   BCC   \n",
       "3                513        4004          5          2211001   BCC   \n",
       "4                594        4004          6          3146107   BCC   \n",
       "...              ...         ...        ...              ...   ...   \n",
       "1500         5001073        4005       1813          1500107   LCC   \n",
       "1501         5001087        4005       1813          1508100   LCC   \n",
       "1502         5001088        4005       1813          1506807   LCC   \n",
       "1503         5001103        4005       1813          1503606   LCC   \n",
       "1504         5001162        4005         47          5201108   LCC   \n",
       "\n",
       "     Numero_Inscritos Numero_Participantes Media_FG Media_CE  \\\n",
       "0                  16                   12   68.841   49.799   \n",
       "1                  28                   24   60.095   53.554   \n",
       "2                  56                   43   62.711   51.546   \n",
       "3                  37                   29   61.086   48.710   \n",
       "4                  40                   37   68.118   55.805   \n",
       "...               ...                  ...      ...      ...   \n",
       "1500               29                   28   53.960   44.917   \n",
       "1501               23                   20   56.720   49.754   \n",
       "1502               62                   58   46.591   45.400   \n",
       "1503               23                   22   51.590   39.609   \n",
       "1504               45                   26   54.626   48.996   \n",
       "\n",
       "     Nota_Padronizada_FG Nota_Padronizada_CE Nota_Conceito_Contínuo  \\\n",
       "0                  3.708               3.607                  3.633   \n",
       "1                  2.617               4.058                  3.698   \n",
       "2                  2.944               3.817                  3.599   \n",
       "3                  2.741               3.477                  3.293   \n",
       "4                  3.618               4.328                  4.151   \n",
       "...                  ...                 ...                    ...   \n",
       "1500               2.439               2.428                  2.431   \n",
       "1501               2.788               3.029                  2.969   \n",
       "1502               1.508               2.488                  2.243   \n",
       "1503               2.139               1.769                  1.862   \n",
       "1504               2.523               2.935                  2.832   \n",
       "\n",
       "     Nota_Conceito_Faixa  \n",
       "0                      4  \n",
       "1                      4  \n",
       "2                      4  \n",
       "3                      4  \n",
       "4                      5  \n",
       "...                  ...  \n",
       "1500                   3  \n",
       "1501                   4  \n",
       "1502                   3  \n",
       "1503                   2  \n",
       "1504                   3  \n",
       "\n",
       "[1505 rows x 13 columns]"
      ]
     },
     "execution_count": 21,
     "metadata": {},
     "output_type": "execute_result"
    }
   ],
   "source": [
    "df_conceito"
   ]
  },
  {
   "cell_type": "code",
   "execution_count": 22,
   "id": "5380d8d1-32d0-455b-a6ab-282f2a74eb83",
   "metadata": {},
   "outputs": [],
   "source": [
    "df_conceito.to_csv('./{}.csv'.format('conceito_enade_2014_CE'),index=False)"
   ]
  },
  {
   "cell_type": "markdown",
   "id": "d4f9f50b-2d04-4ed7-80f7-505fc69b4f40",
   "metadata": {},
   "source": [
    "## Verificação dos cálculos"
   ]
  },
  {
   "cell_type": "code",
   "execution_count": 2,
   "id": "f1d7fc23-4c22-4ed1-af54-bdbd46d6295a",
   "metadata": {},
   "outputs": [],
   "source": [
    "#ano = '2021'\n",
    "ano = '2014'\n",
    "\n",
    "conceito_calculado = pd.read_csv(f'conceito_enade_{ano}_CE.csv')\n",
    "#conceito_calculado = pd.read_csv(f\"./concept_drift/tabela_final_{ano}_Teste_treinamento.csv\")\n",
    "#conceito_calculado = conceito_calculado.astype({'Nota_Conceito_Faixa':'int64'})"
   ]
  },
  {
   "cell_type": "code",
   "execution_count": 78,
   "id": "c28c38e9-037b-4c05-b9cf-7fd55ba9c5ce",
   "metadata": {},
   "outputs": [
    {
     "name": "stdout",
     "output_type": "stream",
     "text": [
      "352\n"
     ]
    }
   ],
   "source": [
    "print(len(conceito_calculado[conceito_calculado[\"Codigo_Area\"] == 72]))"
   ]
  },
  {
   "cell_type": "code",
   "execution_count": 3,
   "id": "36b07b39-6ef8-4e23-b13b-a5d61d22ac21",
   "metadata": {},
   "outputs": [
    {
     "name": "stderr",
     "output_type": "stream",
     "text": [
      "/tmp/ipykernel_7431/3708865306.py:1: DtypeWarning: Columns (17,18) have mixed types. Specify dtype option on import or set low_memory=False.\n",
      "  conceito_real = pd.read_csv(f'./resultados_CE/conceito_enade_{ano}.csv', sep=';', encoding='latin-1')\n"
     ]
    }
   ],
   "source": [
    "conceito_real = pd.read_csv(f'./resultados_CE/conceito_enade_{ano}.csv', sep=';', encoding='latin-1')\n",
    "conceito_real = conceito_real.astype({'Participantes':'int64'})"
   ]
  },
  {
   "cell_type": "code",
   "execution_count": 4,
   "id": "ae0fe985-9254-41c1-824f-f5d0c5ed79cb",
   "metadata": {},
   "outputs": [],
   "source": [
    "# Para 2014\n",
    "\n",
    "lista_numero_cursos_de_computacao = [72, 4004, 5809, 4005, 79, 4006]\n",
    "conceito_real = conceito_real.astype({'Cód Area':'int64'})\n",
    "conceito_real = conceito_real[conceito_real[\"Cód Area\"].isin(lista_numero_cursos_de_computacao)]"
   ]
  },
  {
   "cell_type": "code",
   "execution_count": 5,
   "id": "a2ab3012-414f-448e-b576-f6d4b78123c2",
   "metadata": {},
   "outputs": [
    {
     "name": "stdout",
     "output_type": "stream",
     "text": [
      "1439\n"
     ]
    }
   ],
   "source": [
    "print(len(conceito_real))"
   ]
  },
  {
   "cell_type": "code",
   "execution_count": null,
   "id": "64b4664e-1344-4e3d-bec6-3e2f2b1c5929",
   "metadata": {},
   "outputs": [],
   "source": [
    "conceito_real.to_csv('./{}.csv'.format('conceito_enade_2014_VER'),index=False)"
   ]
  },
  {
   "cell_type": "code",
   "execution_count": 86,
   "id": "8e1e754a-1db0-4939-8bdc-6a27803a8abb",
   "metadata": {},
   "outputs": [
    {
     "name": "stdout",
     "output_type": "stream",
     "text": [
      "320\n"
     ]
    }
   ],
   "source": [
    "print(len(conceito_real[conceito_real[\"Cód Area\"] == 72]))"
   ]
  },
  {
   "cell_type": "markdown",
   "id": "5418e58d-009b-45b4-8c7a-b532219d02a9",
   "metadata": {},
   "source": [
    "Diferenças: 4006, 79, 4005, 4004, 72"
   ]
  },
  {
   "cell_type": "code",
   "execution_count": null,
   "id": "572c24b4-abed-406a-ad1d-4d530d4b0550",
   "metadata": {},
   "outputs": [],
   "source": [
    "#conceito_real['Nota Bruta - FG'] = conceito_real['Nota Bruta - FG'].str.replace(',','.')"
   ]
  },
  {
   "cell_type": "code",
   "execution_count": 41,
   "id": "7ba1eed0-e71c-40d4-a2f7-287a2ed83c70",
   "metadata": {},
   "outputs": [],
   "source": [
    "conceito_real = conceito_real.astype({'Cod. Município':'int64'})\n",
    "conceito_real = conceito_real.astype({'Cód. IES':'int64'})"
   ]
  },
  {
   "cell_type": "code",
   "execution_count": 42,
   "id": "41b74094-8b22-4651-8319-2dd5a10d0e36",
   "metadata": {},
   "outputs": [
    {
     "name": "stdout",
     "output_type": "stream",
     "text": [
      "1439\n"
     ]
    }
   ],
   "source": [
    "codigo_municipios = conceito_real[\"Cod. Município\"].unique().tolist()\n",
    "\n",
    "result = pd.DataFrame()\n",
    "\n",
    "for codigo in codigo_municipios:\n",
    "    subconjunto_municipio = conceito_real[conceito_real[\"Cod. Município\"] == codigo].copy()\n",
    "    subconjunto_municipio.sort_values(\"Cód. IES\", inplace = True)\n",
    "    subconjunto_municipio.reset_index(drop=True, inplace = True)\n",
    "    \n",
    "    result = pd.concat([result, subconjunto_municipio])\n",
    "\n",
    "result.reset_index(drop=True, inplace = True)\n",
    "print(len(result))"
   ]
  },
  {
   "cell_type": "code",
   "execution_count": 43,
   "id": "63bdfae4-ff1c-416e-873b-a2682518a596",
   "metadata": {},
   "outputs": [
    {
     "name": "stdout",
     "output_type": "stream",
     "text": [
      "1393\n",
      "1393\n"
     ]
    }
   ],
   "source": [
    "result = result[result[\"Conceito Enade (Faixa)\"] != \"SC\"]\n",
    "print(len(result))\n",
    "result.dropna(subset=[\"Conceito Enade (Faixa)\"], inplace=True) # Curso index 493 entra nesse caso: Adicionar no pipeline\n",
    "print(len(result))\n",
    "result.reset_index(drop=True, inplace = True)\n",
    "result = result.astype({'Conceito Enade (Faixa)':'int64'})"
   ]
  },
  {
   "cell_type": "code",
   "execution_count": null,
   "id": "11f8ea25-3eb3-453e-8be6-3988f3215c35",
   "metadata": {},
   "outputs": [],
   "source": [
    "result.to_csv('./{}.csv'.format('conceito_enade_real_2014'),index=False)"
   ]
  },
  {
   "cell_type": "code",
   "execution_count": 37,
   "id": "b5d959f4-5839-47f2-9e25-d18416da367e",
   "metadata": {},
   "outputs": [],
   "source": [
    "codigo_municipios = conceito_calculado[\"Codigo_Municipio\"].unique().tolist()\n",
    "\n",
    "result = pd.DataFrame()\n",
    "\n",
    "for codigo in codigo_municipios:\n",
    "    subconjunto_municipio = conceito_calculado[conceito_calculado[\"Codigo_Municipio\"] == codigo].copy()\n",
    "    subconjunto_municipio.sort_values(\"Codigo_IES\", inplace = True)\n",
    "    subconjunto_municipio.reset_index(drop=True, inplace = True)\n",
    "    \n",
    "    result = pd.concat([result, subconjunto_municipio])\n",
    "\n",
    "result.reset_index(drop=True, inplace = True)"
   ]
  },
  {
   "cell_type": "code",
   "execution_count": 38,
   "id": "5c426308-7596-4d47-bd78-6065937cd45d",
   "metadata": {},
   "outputs": [],
   "source": [
    "result.to_csv('./{}.csv'.format('conceito_enade_2014_CE_Teste'),index=False)"
   ]
  },
  {
   "cell_type": "code",
   "execution_count": 35,
   "id": "9b8b1232-edfe-4671-88b8-7ca3afc875aa",
   "metadata": {},
   "outputs": [],
   "source": [
    "# Para 2017 e 2021\n",
    "\n",
    "lista_numero_cursos_de_computacao = [72, 4004, 6409, 4005, 79, 4006]\n",
    "    \n",
    "conceito_real = conceito_real.astype({'Código do Curso':'int64'})\n",
    "conceito_real.sort_values(\"Código do Curso\", inplace = True)\n",
    "conceito_real.reset_index(drop=True, inplace = True)\n",
    "conceito_real = conceito_real[conceito_real[\"Código da Área\"].isin(lista_numero_cursos_de_computacao)]\n",
    "#conceito_real = conceito_real[conceito_real[\"Conceito Enade (Faixa)\"] != None]\n",
    "conceito_real = conceito_real[conceito_real[\"Conceito Enade (Faixa)\"] != \"SC\"]\n",
    "\n",
    "#procurar = conceito_real[conceito_real[\"Conceito Enade (Faixa)\"].isna()][\"Código do Curso\"].values.tolist()\n",
    "\n",
    "conceito_real.dropna(subset=[\"Conceito Enade (Faixa)\"], inplace=True) # Curso index 493 entra nesse caso: Adicionar no pipeline\n",
    "conceito_real.reset_index(drop=True, inplace = True)\n",
    "conceito_real = conceito_real.astype({'Conceito Enade (Faixa)':'int64'})"
   ]
  },
  {
   "cell_type": "code",
   "execution_count": null,
   "id": "614aced4-61a4-40da-9b2e-b93850af1b17",
   "metadata": {},
   "outputs": [],
   "source": [
    "ano = '2014'\n",
    "\n",
    "conceito_real = pd.read_csv(f'./resultados_CE/conceito_enade_{ano}.csv')\n",
    "conceito_real = conceito_real.astype({'Nº  de Concluintes Participantes':'int64'})"
   ]
  },
  {
   "cell_type": "code",
   "execution_count": 199,
   "id": "cb56cb16-745e-4332-a1c9-bea499882f00",
   "metadata": {},
   "outputs": [
    {
     "name": "stdout",
     "output_type": "stream",
     "text": [
      "1695\n",
      "1604\n",
      "1604\n"
     ]
    }
   ],
   "source": [
    "lista_numero_cursos_de_computacao = [72, 4004, 6409, 4003, 4005, 79, 4006]\n",
    "    \n",
    "conceito_real = conceito_real.astype({'Código do Curso':'int64'})\n",
    "conceito_real.sort_values(\"Código do Curso\", inplace = True)\n",
    "conceito_real.reset_index(drop=True, inplace = True)\n",
    "conceito_real = conceito_real[conceito_real[\"Código da Área\"].isin(lista_numero_cursos_de_computacao)]\n",
    "print(len(conceito_real))\n",
    "#conceito_real = conceito_real[conceito_real[\"Conceito Enade (Faixa)\"] != None]\n",
    "conceito_real = conceito_real[conceito_real[\"Conceito Enade (Faixa)\"] != \"SC\"]\n",
    "print(len(conceito_real))\n",
    "\n",
    "#procurar = conceito_real[conceito_real[\"Conceito Enade (Faixa)\"].isna()][\"Código do Curso\"].values.tolist()\n",
    "conceito_real = conceito_real.astype({'Conceito Enade (Faixa)':'int64'})\n",
    "conceito_real.dropna(subset=[\"Conceito Enade (Faixa)\"], inplace=True) # Curso index 493 entra nesse caso: Adicionar no pipeline\n",
    "print(len(conceito_real))\n",
    "conceito_real.reset_index(drop=True, inplace = True)\n",
    "#conceito_real = conceito_real.astype({'Conceito Enade (Faixa)':'int64'})"
   ]
  },
  {
   "cell_type": "code",
   "execution_count": 201,
   "id": "79f04068-de29-4f62-bfae-e29be282182f",
   "metadata": {},
   "outputs": [],
   "source": [
    "conceito_real.to_csv('./{}.csv'.format('conceito_enade_real_2017'),index=False)"
   ]
  },
  {
   "cell_type": "code",
   "execution_count": 210,
   "id": "f67cf93a-9a5b-44fe-9dd0-1afe04b3a97a",
   "metadata": {},
   "outputs": [
    {
     "data": {
      "text/plain": [
       "1604"
      ]
     },
     "execution_count": 210,
     "metadata": {},
     "output_type": "execute_result"
    }
   ],
   "source": [
    "len(conceito_real)"
   ]
  },
  {
   "cell_type": "code",
   "execution_count": 37,
   "id": "e021e5e3-19e1-41c1-914b-cc3b8de2c9c7",
   "metadata": {},
   "outputs": [
    {
     "data": {
      "text/plain": [
       "26"
      ]
     },
     "execution_count": 37,
     "metadata": {},
     "output_type": "execute_result"
    }
   ],
   "source": [
    "len(procurar)"
   ]
  },
  {
   "cell_type": "code",
   "execution_count": 43,
   "id": "66bf9f12-b047-48da-9459-5b8e2c6afa40",
   "metadata": {},
   "outputs": [
    {
     "data": {
      "text/plain": [
       "0"
      ]
     },
     "execution_count": 43,
     "metadata": {},
     "output_type": "execute_result"
    }
   ],
   "source": [
    "conceito_calculado[\"Codigo_do_Curso\"].isin(procurar).sum()"
   ]
  },
  {
   "cell_type": "code",
   "execution_count": 56,
   "id": "0805b36e-7e05-4abb-9c9e-5219c048cdff",
   "metadata": {},
   "outputs": [],
   "source": [
    "conceito_real.to_csv('./{}.csv'.format('conceito_real_enade_2021'),index=False)"
   ]
  },
  {
   "cell_type": "code",
   "execution_count": 46,
   "id": "88623c20-dd40-40f5-b766-0fb235d3b8e2",
   "metadata": {},
   "outputs": [],
   "source": [
    "conceito_calculado.to_csv('./{}.csv'.format('conceito_enade_2021'),index=False)"
   ]
  },
  {
   "cell_type": "markdown",
   "id": "760ba82f-60bc-49b3-83ae-dd2e64319493",
   "metadata": {},
   "source": [
    "### Comparação dos Conceitos"
   ]
  },
  {
   "cell_type": "code",
   "execution_count": 298,
   "id": "bef0f8df-92ba-42d9-9f68-a40bb5fc56c8",
   "metadata": {},
   "outputs": [
    {
     "data": {
      "text/plain": [
       "1594"
      ]
     },
     "execution_count": 298,
     "metadata": {},
     "output_type": "execute_result"
    }
   ],
   "source": [
    "sum(copy_conceito_calculado[\"Nota_Conceito_Faixa\"] == conceito_real[\"Conceito Enade (Faixa)\"]) # Parei aqui"
   ]
  },
  {
   "cell_type": "code",
   "execution_count": 162,
   "id": "df44d5c5-c3d2-4ba6-bf37-39e369b2ed68",
   "metadata": {},
   "outputs": [
    {
     "data": {
      "text/html": [
       "<div>\n",
       "<style scoped>\n",
       "    .dataframe tbody tr th:only-of-type {\n",
       "        vertical-align: middle;\n",
       "    }\n",
       "\n",
       "    .dataframe tbody tr th {\n",
       "        vertical-align: top;\n",
       "    }\n",
       "\n",
       "    .dataframe thead th {\n",
       "        text-align: right;\n",
       "    }\n",
       "</style>\n",
       "<table border=\"1\" class=\"dataframe\">\n",
       "  <thead>\n",
       "    <tr style=\"text-align: right;\">\n",
       "      <th></th>\n",
       "      <th>Codigo_do_Curso</th>\n",
       "      <th>Curso</th>\n",
       "      <th>Numero_Inscritos</th>\n",
       "      <th>Numero_Participantes</th>\n",
       "      <th>Media_FG</th>\n",
       "      <th>Media_CE</th>\n",
       "      <th>Nota_Padronizada_FG</th>\n",
       "      <th>Nota_Padronizada_CE</th>\n",
       "      <th>Nota_Conceito_Contínuo</th>\n",
       "      <th>Nota_Conceito_Faixa</th>\n",
       "    </tr>\n",
       "  </thead>\n",
       "  <tbody>\n",
       "    <tr>\n",
       "      <th>18</th>\n",
       "      <td>2388</td>\n",
       "      <td>GTI</td>\n",
       "      <td>63</td>\n",
       "      <td>43</td>\n",
       "      <td>37.453</td>\n",
       "      <td>41.951</td>\n",
       "      <td>2.765</td>\n",
       "      <td>2.257</td>\n",
       "      <td>2.384</td>\n",
       "      <td>3</td>\n",
       "    </tr>\n",
       "  </tbody>\n",
       "</table>\n",
       "</div>"
      ],
      "text/plain": [
       "    Codigo_do_Curso Curso  Numero_Inscritos  Numero_Participantes  Media_FG  \\\n",
       "18             2388   GTI                63                    43    37.453   \n",
       "\n",
       "    Media_CE  Nota_Padronizada_FG  Nota_Padronizada_CE  \\\n",
       "18    41.951                2.765                2.257   \n",
       "\n",
       "    Nota_Conceito_Contínuo  Nota_Conceito_Faixa  \n",
       "18                   2.384                    3  "
      ]
     },
     "execution_count": 162,
     "metadata": {},
     "output_type": "execute_result"
    }
   ],
   "source": [
    "conceito_calculado[:][18:19]"
   ]
  },
  {
   "cell_type": "code",
   "execution_count": 163,
   "id": "461b39ed-6a9b-4385-ad50-acf47c99a00c",
   "metadata": {},
   "outputs": [
    {
     "data": {
      "text/html": [
       "<div>\n",
       "<style scoped>\n",
       "    .dataframe tbody tr th:only-of-type {\n",
       "        vertical-align: middle;\n",
       "    }\n",
       "\n",
       "    .dataframe tbody tr th {\n",
       "        vertical-align: top;\n",
       "    }\n",
       "\n",
       "    .dataframe thead th {\n",
       "        text-align: right;\n",
       "    }\n",
       "</style>\n",
       "<table border=\"1\" class=\"dataframe\">\n",
       "  <thead>\n",
       "    <tr style=\"text-align: right;\">\n",
       "      <th></th>\n",
       "      <th>Ano</th>\n",
       "      <th>Código da Área</th>\n",
       "      <th>Área de Avaliação</th>\n",
       "      <th>Grau Acadêmico</th>\n",
       "      <th>Código da IES</th>\n",
       "      <th>Nome da IES*</th>\n",
       "      <th>Sigla da IES*</th>\n",
       "      <th>Organização Acadêmica</th>\n",
       "      <th>Categoria Administrativa</th>\n",
       "      <th>Código do Curso</th>\n",
       "      <th>...</th>\n",
       "      <th>Sigla da UF**</th>\n",
       "      <th>Nº de Concluintes Inscritos</th>\n",
       "      <th>Nº  de Concluintes Participantes</th>\n",
       "      <th>Nota Bruta - FG</th>\n",
       "      <th>Nota Padronizada - FG</th>\n",
       "      <th>Nota Bruta - CE</th>\n",
       "      <th>Nota Padronizada - CE</th>\n",
       "      <th>Conceito Enade (Contínuo)</th>\n",
       "      <th>Conceito Enade (Faixa)</th>\n",
       "      <th>Observação</th>\n",
       "    </tr>\n",
       "  </thead>\n",
       "  <tbody>\n",
       "    <tr>\n",
       "      <th>18</th>\n",
       "      <td>2021</td>\n",
       "      <td>6409</td>\n",
       "      <td>TECNOLOGIA EM GESTÃO DA TECNOLOGIA DA INFORMAÇÃO</td>\n",
       "      <td>Tecnológico</td>\n",
       "      <td>37</td>\n",
       "      <td>FACULDADE DE TECNOLOGIA DE JAHU</td>\n",
       "      <td>FATEC-JAHU</td>\n",
       "      <td>Faculdade</td>\n",
       "      <td>Pública Estadual</td>\n",
       "      <td>2388</td>\n",
       "      <td>...</td>\n",
       "      <td>SP</td>\n",
       "      <td>63</td>\n",
       "      <td>43</td>\n",
       "      <td>37,453</td>\n",
       "      <td>3,526</td>\n",
       "      <td>41,951</td>\n",
       "      <td>2,758</td>\n",
       "      <td>2,95</td>\n",
       "      <td>4</td>\n",
       "      <td>NaN</td>\n",
       "    </tr>\n",
       "  </tbody>\n",
       "</table>\n",
       "<p>1 rows × 23 columns</p>\n",
       "</div>"
      ],
      "text/plain": [
       "     Ano  Código da Área                                 Área de Avaliação  \\\n",
       "18  2021            6409  TECNOLOGIA EM GESTÃO DA TECNOLOGIA DA INFORMAÇÃO   \n",
       "\n",
       "   Grau Acadêmico  Código da IES                     Nome da IES*  \\\n",
       "18    Tecnológico             37  FACULDADE DE TECNOLOGIA DE JAHU   \n",
       "\n",
       "   Sigla da IES* Organização Acadêmica Categoria Administrativa  \\\n",
       "18    FATEC-JAHU             Faculdade         Pública Estadual   \n",
       "\n",
       "    Código do Curso  ... Sigla da UF**   Nº de Concluintes Inscritos  \\\n",
       "18             2388  ...             SP                           63   \n",
       "\n",
       "   Nº  de Concluintes Participantes Nota Bruta - FG  Nota Padronizada - FG  \\\n",
       "18                               43          37,453                  3,526   \n",
       "\n",
       "    Nota Bruta - CE Nota Padronizada - CE Conceito Enade (Contínuo)  \\\n",
       "18           41,951                 2,758                      2,95   \n",
       "\n",
       "   Conceito Enade (Faixa) Observação  \n",
       "18                      4        NaN  \n",
       "\n",
       "[1 rows x 23 columns]"
      ]
     },
     "execution_count": 163,
     "metadata": {},
     "output_type": "execute_result"
    }
   ],
   "source": [
    "conceito_real[:][18:19]"
   ]
  },
  {
   "cell_type": "code",
   "execution_count": 169,
   "id": "c7935847-9521-40c6-84d7-73f97f1d1357",
   "metadata": {},
   "outputs": [
    {
     "data": {
      "text/html": [
       "<div>\n",
       "<style scoped>\n",
       "    .dataframe tbody tr th:only-of-type {\n",
       "        vertical-align: middle;\n",
       "    }\n",
       "\n",
       "    .dataframe tbody tr th {\n",
       "        vertical-align: top;\n",
       "    }\n",
       "\n",
       "    .dataframe thead th {\n",
       "        text-align: right;\n",
       "    }\n",
       "</style>\n",
       "<table border=\"1\" class=\"dataframe\">\n",
       "  <thead>\n",
       "    <tr style=\"text-align: right;\">\n",
       "      <th></th>\n",
       "      <th>Codigo_do_Curso</th>\n",
       "      <th>Curso</th>\n",
       "      <th>Numero_Inscritos</th>\n",
       "      <th>Numero_Participantes</th>\n",
       "      <th>Media_FG</th>\n",
       "      <th>Media_CE</th>\n",
       "      <th>Nota_Padronizada_FG</th>\n",
       "      <th>Nota_Padronizada_CE</th>\n",
       "      <th>Nota_Conceito_Contínuo</th>\n",
       "      <th>Nota_Conceito_Faixa</th>\n",
       "    </tr>\n",
       "  </thead>\n",
       "  <tbody>\n",
       "    <tr>\n",
       "      <th>38</th>\n",
       "      <td>6668</td>\n",
       "      <td>ADS</td>\n",
       "      <td>45</td>\n",
       "      <td>29</td>\n",
       "      <td>26.444</td>\n",
       "      <td>19.944</td>\n",
       "      <td>1.414</td>\n",
       "      <td>0.671</td>\n",
       "      <td>0.857</td>\n",
       "      <td>1</td>\n",
       "    </tr>\n",
       "  </tbody>\n",
       "</table>\n",
       "</div>"
      ],
      "text/plain": [
       "    Codigo_do_Curso Curso  Numero_Inscritos  Numero_Participantes  Media_FG  \\\n",
       "38             6668   ADS                45                    29    26.444   \n",
       "\n",
       "    Media_CE  Nota_Padronizada_FG  Nota_Padronizada_CE  \\\n",
       "38    19.944                1.414                0.671   \n",
       "\n",
       "    Nota_Conceito_Contínuo  Nota_Conceito_Faixa  \n",
       "38                   0.857                    1  "
      ]
     },
     "execution_count": 171,
     "metadata": {},
     "output_type": "execute_result"
    }
   ],
   "source": [
    "#conceito_calculado[\"Nota_Conceito_Faixa\"][30:40]\n",
    "conceito_calculado[:][38:39]"
   ]
  },
  {
   "cell_type": "code",
   "execution_count": 168,
   "id": "b73d0182-30c6-4b0c-8a5d-838c6485fea5",
   "metadata": {},
   "outputs": [
    {
     "data": {
      "text/html": [
       "<div>\n",
       "<style scoped>\n",
       "    .dataframe tbody tr th:only-of-type {\n",
       "        vertical-align: middle;\n",
       "    }\n",
       "\n",
       "    .dataframe tbody tr th {\n",
       "        vertical-align: top;\n",
       "    }\n",
       "\n",
       "    .dataframe thead th {\n",
       "        text-align: right;\n",
       "    }\n",
       "</style>\n",
       "<table border=\"1\" class=\"dataframe\">\n",
       "  <thead>\n",
       "    <tr style=\"text-align: right;\">\n",
       "      <th></th>\n",
       "      <th>Ano</th>\n",
       "      <th>Código da Área</th>\n",
       "      <th>Área de Avaliação</th>\n",
       "      <th>Grau Acadêmico</th>\n",
       "      <th>Código da IES</th>\n",
       "      <th>Nome da IES*</th>\n",
       "      <th>Sigla da IES*</th>\n",
       "      <th>Organização Acadêmica</th>\n",
       "      <th>Categoria Administrativa</th>\n",
       "      <th>Código do Curso</th>\n",
       "      <th>...</th>\n",
       "      <th>Sigla da UF**</th>\n",
       "      <th>Nº de Concluintes Inscritos</th>\n",
       "      <th>Nº  de Concluintes Participantes</th>\n",
       "      <th>Nota Bruta - FG</th>\n",
       "      <th>Nota Padronizada - FG</th>\n",
       "      <th>Nota Bruta - CE</th>\n",
       "      <th>Nota Padronizada - CE</th>\n",
       "      <th>Conceito Enade (Contínuo)</th>\n",
       "      <th>Conceito Enade (Faixa)</th>\n",
       "      <th>Observação</th>\n",
       "    </tr>\n",
       "  </thead>\n",
       "  <tbody>\n",
       "    <tr>\n",
       "      <th>38</th>\n",
       "      <td>2021</td>\n",
       "      <td>72</td>\n",
       "      <td>TECNOLOGIA EM ANÁLISE E DESENVOLVIMENTO DE SIS...</td>\n",
       "      <td>Tecnológico</td>\n",
       "      <td>278</td>\n",
       "      <td>FACULDADES INTEGRADAS SIMONSEN</td>\n",
       "      <td>FIS</td>\n",
       "      <td>Faculdade</td>\n",
       "      <td>Privada sem fins lucrativos</td>\n",
       "      <td>6668</td>\n",
       "      <td>...</td>\n",
       "      <td>RJ</td>\n",
       "      <td>45</td>\n",
       "      <td>29</td>\n",
       "      <td>26,444</td>\n",
       "      <td>1,514</td>\n",
       "      <td>19,944</td>\n",
       "      <td>0,963</td>\n",
       "      <td>1,101</td>\n",
       "      <td>2</td>\n",
       "      <td>NaN</td>\n",
       "    </tr>\n",
       "  </tbody>\n",
       "</table>\n",
       "<p>1 rows × 23 columns</p>\n",
       "</div>"
      ],
      "text/plain": [
       "     Ano  Código da Área                                  Área de Avaliação  \\\n",
       "38  2021              72  TECNOLOGIA EM ANÁLISE E DESENVOLVIMENTO DE SIS...   \n",
       "\n",
       "   Grau Acadêmico  Código da IES                    Nome da IES*  \\\n",
       "38    Tecnológico            278  FACULDADES INTEGRADAS SIMONSEN   \n",
       "\n",
       "   Sigla da IES* Organização Acadêmica     Categoria Administrativa  \\\n",
       "38           FIS             Faculdade  Privada sem fins lucrativos   \n",
       "\n",
       "    Código do Curso  ... Sigla da UF**   Nº de Concluintes Inscritos  \\\n",
       "38             6668  ...             RJ                           45   \n",
       "\n",
       "   Nº  de Concluintes Participantes Nota Bruta - FG  Nota Padronizada - FG  \\\n",
       "38                               29          26,444                  1,514   \n",
       "\n",
       "    Nota Bruta - CE Nota Padronizada - CE Conceito Enade (Contínuo)  \\\n",
       "38           19,944                 0,963                     1,101   \n",
       "\n",
       "   Conceito Enade (Faixa) Observação  \n",
       "38                      2        NaN  \n",
       "\n",
       "[1 rows x 23 columns]"
      ]
     },
     "execution_count": 170,
     "metadata": {},
     "output_type": "execute_result"
    }
   ],
   "source": [
    "#conceito_real[\"Conceito Enade (Faixa)\"][38:39]\n",
    "conceito_real[:][38:39]"
   ]
  },
  {
   "cell_type": "code",
   "execution_count": 184,
   "id": "08739a2b-e9a9-4831-a337-cb20c13bb163",
   "metadata": {},
   "outputs": [
    {
     "data": {
      "text/html": [
       "<div>\n",
       "<style scoped>\n",
       "    .dataframe tbody tr th:only-of-type {\n",
       "        vertical-align: middle;\n",
       "    }\n",
       "\n",
       "    .dataframe tbody tr th {\n",
       "        vertical-align: top;\n",
       "    }\n",
       "\n",
       "    .dataframe thead th {\n",
       "        text-align: right;\n",
       "    }\n",
       "</style>\n",
       "<table border=\"1\" class=\"dataframe\">\n",
       "  <thead>\n",
       "    <tr style=\"text-align: right;\">\n",
       "      <th></th>\n",
       "      <th>Codigo_do_Curso</th>\n",
       "      <th>Curso</th>\n",
       "      <th>Numero_Inscritos</th>\n",
       "      <th>Numero_Participantes</th>\n",
       "      <th>Media_FG</th>\n",
       "      <th>Media_CE</th>\n",
       "      <th>Nota_Padronizada_FG</th>\n",
       "      <th>Nota_Padronizada_CE</th>\n",
       "      <th>Nota_Conceito_Contínuo</th>\n",
       "      <th>Nota_Conceito_Faixa</th>\n",
       "    </tr>\n",
       "  </thead>\n",
       "  <tbody>\n",
       "    <tr>\n",
       "      <th>88</th>\n",
       "      <td>17307</td>\n",
       "      <td>ADS</td>\n",
       "      <td>18</td>\n",
       "      <td>16</td>\n",
       "      <td>27.862</td>\n",
       "      <td>33.293</td>\n",
       "      <td>1.622</td>\n",
       "      <td>1.996</td>\n",
       "      <td>1.903</td>\n",
       "      <td>2</td>\n",
       "    </tr>\n",
       "  </tbody>\n",
       "</table>\n",
       "</div>"
      ],
      "text/plain": [
       "    Codigo_do_Curso Curso  Numero_Inscritos  Numero_Participantes  Media_FG  \\\n",
       "88            17307   ADS                18                    16    27.862   \n",
       "\n",
       "    Media_CE  Nota_Padronizada_FG  Nota_Padronizada_CE  \\\n",
       "88    33.293                1.622                1.996   \n",
       "\n",
       "    Nota_Conceito_Contínuo  Nota_Conceito_Faixa  \n",
       "88                   1.903                    2  "
      ]
     },
     "execution_count": 184,
     "metadata": {},
     "output_type": "execute_result"
    }
   ],
   "source": [
    "#conceito_calculado[\"Nota_Conceito_Faixa\"][80:90]\n",
    "conceito_calculado[:][88:89]"
   ]
  },
  {
   "cell_type": "code",
   "execution_count": 185,
   "id": "bfbc80a4-a803-4fd4-9099-8f791ff71955",
   "metadata": {},
   "outputs": [
    {
     "data": {
      "text/html": [
       "<div>\n",
       "<style scoped>\n",
       "    .dataframe tbody tr th:only-of-type {\n",
       "        vertical-align: middle;\n",
       "    }\n",
       "\n",
       "    .dataframe tbody tr th {\n",
       "        vertical-align: top;\n",
       "    }\n",
       "\n",
       "    .dataframe thead th {\n",
       "        text-align: right;\n",
       "    }\n",
       "</style>\n",
       "<table border=\"1\" class=\"dataframe\">\n",
       "  <thead>\n",
       "    <tr style=\"text-align: right;\">\n",
       "      <th></th>\n",
       "      <th>Ano</th>\n",
       "      <th>Código da Área</th>\n",
       "      <th>Área de Avaliação</th>\n",
       "      <th>Grau Acadêmico</th>\n",
       "      <th>Código da IES</th>\n",
       "      <th>Nome da IES*</th>\n",
       "      <th>Sigla da IES*</th>\n",
       "      <th>Organização Acadêmica</th>\n",
       "      <th>Categoria Administrativa</th>\n",
       "      <th>Código do Curso</th>\n",
       "      <th>...</th>\n",
       "      <th>Sigla da UF**</th>\n",
       "      <th>Nº de Concluintes Inscritos</th>\n",
       "      <th>Nº  de Concluintes Participantes</th>\n",
       "      <th>Nota Bruta - FG</th>\n",
       "      <th>Nota Padronizada - FG</th>\n",
       "      <th>Nota Bruta - CE</th>\n",
       "      <th>Nota Padronizada - CE</th>\n",
       "      <th>Conceito Enade (Contínuo)</th>\n",
       "      <th>Conceito Enade (Faixa)</th>\n",
       "      <th>Observação</th>\n",
       "    </tr>\n",
       "  </thead>\n",
       "  <tbody>\n",
       "    <tr>\n",
       "      <th>88</th>\n",
       "      <td>2021</td>\n",
       "      <td>72</td>\n",
       "      <td>TECNOLOGIA EM ANÁLISE E DESENVOLVIMENTO DE SIS...</td>\n",
       "      <td>Tecnológico</td>\n",
       "      <td>862</td>\n",
       "      <td>FACULDADE ESTÁCIO DE SÁ DE CAMPO GRANDE</td>\n",
       "      <td>FESCG</td>\n",
       "      <td>Faculdade</td>\n",
       "      <td>Privada com fins lucrativos</td>\n",
       "      <td>17307</td>\n",
       "      <td>...</td>\n",
       "      <td>MS</td>\n",
       "      <td>18</td>\n",
       "      <td>16</td>\n",
       "      <td>27,862</td>\n",
       "      <td>1,737</td>\n",
       "      <td>33,293</td>\n",
       "      <td>2,865</td>\n",
       "      <td>2,583</td>\n",
       "      <td>3</td>\n",
       "      <td>NaN</td>\n",
       "    </tr>\n",
       "  </tbody>\n",
       "</table>\n",
       "<p>1 rows × 23 columns</p>\n",
       "</div>"
      ],
      "text/plain": [
       "     Ano  Código da Área                                  Área de Avaliação  \\\n",
       "88  2021              72  TECNOLOGIA EM ANÁLISE E DESENVOLVIMENTO DE SIS...   \n",
       "\n",
       "   Grau Acadêmico  Código da IES                             Nome da IES*  \\\n",
       "88    Tecnológico            862  FACULDADE ESTÁCIO DE SÁ DE CAMPO GRANDE   \n",
       "\n",
       "   Sigla da IES* Organização Acadêmica     Categoria Administrativa  \\\n",
       "88         FESCG             Faculdade  Privada com fins lucrativos   \n",
       "\n",
       "    Código do Curso  ... Sigla da UF**   Nº de Concluintes Inscritos  \\\n",
       "88            17307  ...             MS                           18   \n",
       "\n",
       "   Nº  de Concluintes Participantes Nota Bruta - FG  Nota Padronizada - FG  \\\n",
       "88                               16          27,862                  1,737   \n",
       "\n",
       "    Nota Bruta - CE Nota Padronizada - CE Conceito Enade (Contínuo)  \\\n",
       "88           33,293                 2,865                     2,583   \n",
       "\n",
       "   Conceito Enade (Faixa) Observação  \n",
       "88                      3        NaN  \n",
       "\n",
       "[1 rows x 23 columns]"
      ]
     },
     "execution_count": 185,
     "metadata": {},
     "output_type": "execute_result"
    }
   ],
   "source": [
    "#conceito_real[\"Conceito Enade (Faixa)\"][80:90]\n",
    "conceito_real[:][88:89]"
   ]
  },
  {
   "cell_type": "code",
   "execution_count": 187,
   "id": "279af7f6-6fd3-4810-a8d8-53ae9e801ebf",
   "metadata": {},
   "outputs": [
    {
     "data": {
      "text/html": [
       "<div>\n",
       "<style scoped>\n",
       "    .dataframe tbody tr th:only-of-type {\n",
       "        vertical-align: middle;\n",
       "    }\n",
       "\n",
       "    .dataframe tbody tr th {\n",
       "        vertical-align: top;\n",
       "    }\n",
       "\n",
       "    .dataframe thead th {\n",
       "        text-align: right;\n",
       "    }\n",
       "</style>\n",
       "<table border=\"1\" class=\"dataframe\">\n",
       "  <thead>\n",
       "    <tr style=\"text-align: right;\">\n",
       "      <th></th>\n",
       "      <th>Codigo_do_Curso</th>\n",
       "      <th>Curso</th>\n",
       "      <th>Numero_Inscritos</th>\n",
       "      <th>Numero_Participantes</th>\n",
       "      <th>Media_FG</th>\n",
       "      <th>Media_CE</th>\n",
       "      <th>Nota_Padronizada_FG</th>\n",
       "      <th>Nota_Padronizada_CE</th>\n",
       "      <th>Nota_Conceito_Contínuo</th>\n",
       "      <th>Nota_Conceito_Faixa</th>\n",
       "    </tr>\n",
       "  </thead>\n",
       "  <tbody>\n",
       "    <tr>\n",
       "      <th>89</th>\n",
       "      <td>17380</td>\n",
       "      <td>ADS</td>\n",
       "      <td>6</td>\n",
       "      <td>5</td>\n",
       "      <td>28.339</td>\n",
       "      <td>27.339</td>\n",
       "      <td>1.693</td>\n",
       "      <td>1.405</td>\n",
       "      <td>1.477</td>\n",
       "      <td>2</td>\n",
       "    </tr>\n",
       "  </tbody>\n",
       "</table>\n",
       "</div>"
      ],
      "text/plain": [
       "    Codigo_do_Curso Curso  Numero_Inscritos  Numero_Participantes  Media_FG  \\\n",
       "89            17380   ADS                 6                     5    28.339   \n",
       "\n",
       "    Media_CE  Nota_Padronizada_FG  Nota_Padronizada_CE  \\\n",
       "89    27.339                1.693                1.405   \n",
       "\n",
       "    Nota_Conceito_Contínuo  Nota_Conceito_Faixa  \n",
       "89                   1.477                    2  "
      ]
     },
     "execution_count": 187,
     "metadata": {},
     "output_type": "execute_result"
    }
   ],
   "source": [
    "conceito_calculado[:][89:90]"
   ]
  },
  {
   "cell_type": "code",
   "execution_count": 188,
   "id": "7557dc82-9769-4ef3-8d9b-975d3c143b3d",
   "metadata": {},
   "outputs": [
    {
     "data": {
      "text/html": [
       "<div>\n",
       "<style scoped>\n",
       "    .dataframe tbody tr th:only-of-type {\n",
       "        vertical-align: middle;\n",
       "    }\n",
       "\n",
       "    .dataframe tbody tr th {\n",
       "        vertical-align: top;\n",
       "    }\n",
       "\n",
       "    .dataframe thead th {\n",
       "        text-align: right;\n",
       "    }\n",
       "</style>\n",
       "<table border=\"1\" class=\"dataframe\">\n",
       "  <thead>\n",
       "    <tr style=\"text-align: right;\">\n",
       "      <th></th>\n",
       "      <th>Ano</th>\n",
       "      <th>Código da Área</th>\n",
       "      <th>Área de Avaliação</th>\n",
       "      <th>Grau Acadêmico</th>\n",
       "      <th>Código da IES</th>\n",
       "      <th>Nome da IES*</th>\n",
       "      <th>Sigla da IES*</th>\n",
       "      <th>Organização Acadêmica</th>\n",
       "      <th>Categoria Administrativa</th>\n",
       "      <th>Código do Curso</th>\n",
       "      <th>...</th>\n",
       "      <th>Sigla da UF**</th>\n",
       "      <th>Nº de Concluintes Inscritos</th>\n",
       "      <th>Nº  de Concluintes Participantes</th>\n",
       "      <th>Nota Bruta - FG</th>\n",
       "      <th>Nota Padronizada - FG</th>\n",
       "      <th>Nota Bruta - CE</th>\n",
       "      <th>Nota Padronizada - CE</th>\n",
       "      <th>Conceito Enade (Contínuo)</th>\n",
       "      <th>Conceito Enade (Faixa)</th>\n",
       "      <th>Observação</th>\n",
       "    </tr>\n",
       "  </thead>\n",
       "  <tbody>\n",
       "    <tr>\n",
       "      <th>89</th>\n",
       "      <td>2021</td>\n",
       "      <td>72</td>\n",
       "      <td>TECNOLOGIA EM ANÁLISE E DESENVOLVIMENTO DE SIS...</td>\n",
       "      <td>Tecnológico</td>\n",
       "      <td>877</td>\n",
       "      <td>FACULDADE DE ECONOMIA E PROCESSAMENTO DE DADOS...</td>\n",
       "      <td>FEPI</td>\n",
       "      <td>Faculdade</td>\n",
       "      <td>Privada com fins lucrativos</td>\n",
       "      <td>17380</td>\n",
       "      <td>...</td>\n",
       "      <td>PR</td>\n",
       "      <td>6</td>\n",
       "      <td>5</td>\n",
       "      <td>28,34</td>\n",
       "      <td>1,812</td>\n",
       "      <td>27,34</td>\n",
       "      <td>2,017</td>\n",
       "      <td>1,966</td>\n",
       "      <td>3</td>\n",
       "      <td>NaN</td>\n",
       "    </tr>\n",
       "  </tbody>\n",
       "</table>\n",
       "<p>1 rows × 23 columns</p>\n",
       "</div>"
      ],
      "text/plain": [
       "     Ano  Código da Área                                  Área de Avaliação  \\\n",
       "89  2021              72  TECNOLOGIA EM ANÁLISE E DESENVOLVIMENTO DE SIS...   \n",
       "\n",
       "   Grau Acadêmico  Código da IES  \\\n",
       "89    Tecnológico            877   \n",
       "\n",
       "                                         Nome da IES* Sigla da IES*  \\\n",
       "89  FACULDADE DE ECONOMIA E PROCESSAMENTO DE DADOS...          FEPI   \n",
       "\n",
       "   Organização Acadêmica     Categoria Administrativa  Código do Curso  ...  \\\n",
       "89             Faculdade  Privada com fins lucrativos            17380  ...   \n",
       "\n",
       "   Sigla da UF**   Nº de Concluintes Inscritos  \\\n",
       "89             PR                            6   \n",
       "\n",
       "   Nº  de Concluintes Participantes Nota Bruta - FG  Nota Padronizada - FG  \\\n",
       "89                                5           28,34                  1,812   \n",
       "\n",
       "    Nota Bruta - CE Nota Padronizada - CE Conceito Enade (Contínuo)  \\\n",
       "89            27,34                 2,017                     1,966   \n",
       "\n",
       "   Conceito Enade (Faixa) Observação  \n",
       "89                      3        NaN  \n",
       "\n",
       "[1 rows x 23 columns]"
      ]
     },
     "execution_count": 188,
     "metadata": {},
     "output_type": "execute_result"
    }
   ],
   "source": [
    "conceito_real[:][89:90]"
   ]
  },
  {
   "cell_type": "code",
   "execution_count": 196,
   "id": "8f670a7c-37f0-4ead-8453-166cf4bcb992",
   "metadata": {},
   "outputs": [
    {
     "data": {
      "text/html": [
       "<div>\n",
       "<style scoped>\n",
       "    .dataframe tbody tr th:only-of-type {\n",
       "        vertical-align: middle;\n",
       "    }\n",
       "\n",
       "    .dataframe tbody tr th {\n",
       "        vertical-align: top;\n",
       "    }\n",
       "\n",
       "    .dataframe thead th {\n",
       "        text-align: right;\n",
       "    }\n",
       "</style>\n",
       "<table border=\"1\" class=\"dataframe\">\n",
       "  <thead>\n",
       "    <tr style=\"text-align: right;\">\n",
       "      <th></th>\n",
       "      <th>Codigo_do_Curso</th>\n",
       "      <th>Curso</th>\n",
       "      <th>Numero_Inscritos</th>\n",
       "      <th>Numero_Participantes</th>\n",
       "      <th>Media_FG</th>\n",
       "      <th>Media_CE</th>\n",
       "      <th>Nota_Padronizada_FG</th>\n",
       "      <th>Nota_Padronizada_CE</th>\n",
       "      <th>Nota_Conceito_Contínuo</th>\n",
       "      <th>Nota_Conceito_Faixa</th>\n",
       "    </tr>\n",
       "  </thead>\n",
       "  <tbody>\n",
       "    <tr>\n",
       "      <th>90</th>\n",
       "      <td>17530</td>\n",
       "      <td>ADS</td>\n",
       "      <td>27</td>\n",
       "      <td>26</td>\n",
       "      <td>36.673</td>\n",
       "      <td>38.126</td>\n",
       "      <td>2.92</td>\n",
       "      <td>2.476</td>\n",
       "      <td>2.587</td>\n",
       "      <td>3</td>\n",
       "    </tr>\n",
       "  </tbody>\n",
       "</table>\n",
       "</div>"
      ],
      "text/plain": [
       "    Codigo_do_Curso Curso  Numero_Inscritos  Numero_Participantes  Media_FG  \\\n",
       "90            17530   ADS                27                    26    36.673   \n",
       "\n",
       "    Media_CE  Nota_Padronizada_FG  Nota_Padronizada_CE  \\\n",
       "90    38.126                 2.92                2.476   \n",
       "\n",
       "    Nota_Conceito_Contínuo  Nota_Conceito_Faixa  \n",
       "90                   2.587                    3  "
      ]
     },
     "execution_count": 196,
     "metadata": {},
     "output_type": "execute_result"
    }
   ],
   "source": [
    "conceito_calculado[:][90:91]"
   ]
  },
  {
   "cell_type": "code",
   "execution_count": 197,
   "id": "2e14de15-c2de-4102-8e6f-8618d4ec9832",
   "metadata": {},
   "outputs": [
    {
     "data": {
      "text/html": [
       "<div>\n",
       "<style scoped>\n",
       "    .dataframe tbody tr th:only-of-type {\n",
       "        vertical-align: middle;\n",
       "    }\n",
       "\n",
       "    .dataframe tbody tr th {\n",
       "        vertical-align: top;\n",
       "    }\n",
       "\n",
       "    .dataframe thead th {\n",
       "        text-align: right;\n",
       "    }\n",
       "</style>\n",
       "<table border=\"1\" class=\"dataframe\">\n",
       "  <thead>\n",
       "    <tr style=\"text-align: right;\">\n",
       "      <th></th>\n",
       "      <th>Ano</th>\n",
       "      <th>Código da Área</th>\n",
       "      <th>Área de Avaliação</th>\n",
       "      <th>Grau Acadêmico</th>\n",
       "      <th>Código da IES</th>\n",
       "      <th>Nome da IES*</th>\n",
       "      <th>Sigla da IES*</th>\n",
       "      <th>Organização Acadêmica</th>\n",
       "      <th>Categoria Administrativa</th>\n",
       "      <th>Código do Curso</th>\n",
       "      <th>...</th>\n",
       "      <th>Sigla da UF**</th>\n",
       "      <th>Nº de Concluintes Inscritos</th>\n",
       "      <th>Nº  de Concluintes Participantes</th>\n",
       "      <th>Nota Bruta - FG</th>\n",
       "      <th>Nota Padronizada - FG</th>\n",
       "      <th>Nota Bruta - CE</th>\n",
       "      <th>Nota Padronizada - CE</th>\n",
       "      <th>Conceito Enade (Contínuo)</th>\n",
       "      <th>Conceito Enade (Faixa)</th>\n",
       "      <th>Observação</th>\n",
       "    </tr>\n",
       "  </thead>\n",
       "  <tbody>\n",
       "    <tr>\n",
       "      <th>90</th>\n",
       "      <td>2021</td>\n",
       "      <td>72</td>\n",
       "      <td>TECNOLOGIA EM ANÁLISE E DESENVOLVIMENTO DE SIS...</td>\n",
       "      <td>Tecnológico</td>\n",
       "      <td>918</td>\n",
       "      <td>CENTRO UNIVERSITÁRIO UNIVEL</td>\n",
       "      <td>NaN</td>\n",
       "      <td>Centro Universitário</td>\n",
       "      <td>Privada com fins lucrativos</td>\n",
       "      <td>17530</td>\n",
       "      <td>...</td>\n",
       "      <td>PR</td>\n",
       "      <td>27</td>\n",
       "      <td>26</td>\n",
       "      <td>36,673</td>\n",
       "      <td>3,126</td>\n",
       "      <td>38,126</td>\n",
       "      <td>3,554</td>\n",
       "      <td>3,447</td>\n",
       "      <td>4</td>\n",
       "      <td>NaN</td>\n",
       "    </tr>\n",
       "  </tbody>\n",
       "</table>\n",
       "<p>1 rows × 23 columns</p>\n",
       "</div>"
      ],
      "text/plain": [
       "     Ano  Código da Área                                  Área de Avaliação  \\\n",
       "90  2021              72  TECNOLOGIA EM ANÁLISE E DESENVOLVIMENTO DE SIS...   \n",
       "\n",
       "   Grau Acadêmico  Código da IES                 Nome da IES* Sigla da IES*  \\\n",
       "90    Tecnológico            918  CENTRO UNIVERSITÁRIO UNIVEL           NaN   \n",
       "\n",
       "   Organização Acadêmica     Categoria Administrativa  Código do Curso  ...  \\\n",
       "90  Centro Universitário  Privada com fins lucrativos            17530  ...   \n",
       "\n",
       "   Sigla da UF**   Nº de Concluintes Inscritos  \\\n",
       "90             PR                           27   \n",
       "\n",
       "   Nº  de Concluintes Participantes Nota Bruta - FG  Nota Padronizada - FG  \\\n",
       "90                               26          36,673                  3,126   \n",
       "\n",
       "    Nota Bruta - CE Nota Padronizada - CE Conceito Enade (Contínuo)  \\\n",
       "90           38,126                 3,554                     3,447   \n",
       "\n",
       "   Conceito Enade (Faixa) Observação  \n",
       "90                      4        NaN  \n",
       "\n",
       "[1 rows x 23 columns]"
      ]
     },
     "execution_count": 197,
     "metadata": {},
     "output_type": "execute_result"
    }
   ],
   "source": [
    "conceito_real[:][90:91]"
   ]
  },
  {
   "cell_type": "code",
   "execution_count": 265,
   "id": "6e33d5a2-2231-49fb-98df-bcb280f78d66",
   "metadata": {},
   "outputs": [
    {
     "data": {
      "text/plain": [
       "307"
      ]
     },
     "execution_count": 265,
     "metadata": {},
     "output_type": "execute_result"
    }
   ],
   "source": [
    "len(conceito_calculado[conceito_calculado[\"Curso\"] == \"BCC\"]) # Todos certos"
   ]
  },
  {
   "cell_type": "code",
   "execution_count": 288,
   "id": "798ee8b7-6615-493c-818f-028802169f2d",
   "metadata": {},
   "outputs": [
    {
     "data": {
      "text/plain": [
       "454"
      ]
     },
     "execution_count": 288,
     "metadata": {},
     "output_type": "execute_result"
    }
   ],
   "source": [
    "len(conceito_calculado[conceito_calculado[\"Curso\"] == \"SI\"]) # 231 errados --"
   ]
  },
  {
   "cell_type": "code",
   "execution_count": 272,
   "id": "b386c14c-7d19-41c6-8d2d-b697fb595d8d",
   "metadata": {},
   "outputs": [
    {
     "data": {
      "text/plain": [
       "367"
      ]
     },
     "execution_count": 272,
     "metadata": {},
     "output_type": "execute_result"
    }
   ],
   "source": [
    "len(conceito_calculado[conceito_calculado[\"Curso\"] == \"ADS\"]) # 42 errados --"
   ]
  },
  {
   "cell_type": "code",
   "execution_count": 274,
   "id": "545e78c8-4253-4d00-8bfd-0ac036bfef94",
   "metadata": {},
   "outputs": [
    {
     "data": {
      "text/plain": [
       "145"
      ]
     },
     "execution_count": 274,
     "metadata": {},
     "output_type": "execute_result"
    }
   ],
   "source": [
    "len(conceito_calculado[conceito_calculado[\"Curso\"] == \"EC\"]) # 102 errados -- 5 errados"
   ]
  },
  {
   "cell_type": "code",
   "execution_count": 276,
   "id": "7bcc9d7a-a60a-445c-97e2-31d4014f4082",
   "metadata": {},
   "outputs": [
    {
     "data": {
      "text/plain": [
       "158"
      ]
     },
     "execution_count": 276,
     "metadata": {},
     "output_type": "execute_result"
    }
   ],
   "source": [
    "len(conceito_calculado[conceito_calculado[\"Curso\"] == \"RC\"]) # 52 errados --"
   ]
  },
  {
   "cell_type": "code",
   "execution_count": 278,
   "id": "cab90cb0-c1b1-4583-8346-14c55251caf3",
   "metadata": {},
   "outputs": [
    {
     "data": {
      "text/plain": [
       "118"
      ]
     },
     "execution_count": 278,
     "metadata": {},
     "output_type": "execute_result"
    }
   ],
   "source": [
    "len(conceito_calculado[conceito_calculado[\"Curso\"] == \"GTI\"]) # Todos certos"
   ]
  },
  {
   "cell_type": "code",
   "execution_count": 280,
   "id": "928a56c7-b492-4f27-9f30-45defaaeb491",
   "metadata": {},
   "outputs": [
    {
     "data": {
      "text/plain": [
       "55"
      ]
     },
     "execution_count": 280,
     "metadata": {},
     "output_type": "execute_result"
    }
   ],
   "source": [
    "len(conceito_calculado[conceito_calculado[\"Curso\"] == \"LCC\"]) # 43 errados -- 5 errados"
   ]
  },
  {
   "cell_type": "code",
   "execution_count": null,
   "id": "63e2fa03-aeb4-4e6d-bdb9-6b61231848b5",
   "metadata": {},
   "outputs": [],
   "source": [
    "conceito_calculado[conceito_calculado[\"Curso\"] == \"BCC\"][\"Nota_Conceito_Faixa\"].values"
   ]
  },
  {
   "cell_type": "code",
   "execution_count": 266,
   "id": "4b0a9605-fc32-4fe0-a505-30bce534091d",
   "metadata": {},
   "outputs": [
    {
     "data": {
      "text/plain": [
       "307"
      ]
     },
     "execution_count": 266,
     "metadata": {},
     "output_type": "execute_result"
    }
   ],
   "source": [
    "len(conceito_real[conceito_real[\"Código da Área\"] == 4004])"
   ]
  },
  {
   "cell_type": "code",
   "execution_count": 297,
   "id": "e9bc245f-2218-477e-8fc1-026f8e0a15e8",
   "metadata": {},
   "outputs": [
    {
     "data": {
      "text/plain": [
       "50"
      ]
     },
     "execution_count": 297,
     "metadata": {},
     "output_type": "execute_result"
    }
   ],
   "source": [
    "sum(copy_conceito_calculado[copy_conceito_calculado[\"Curso\"] == \"LCC\"][\"Nota_Conceito_Faixa\"] == conceito_real[conceito_real[\"Código da Área\"] == 4005][\"Conceito Enade (Faixa)\"])"
   ]
  },
  {
   "cell_type": "code",
   "execution_count": 281,
   "id": "f0e285fb-650d-4a87-b453-f1114c7415aa",
   "metadata": {},
   "outputs": [],
   "source": [
    "copy_conceito_calculado = conceito_calculado.copy()\n",
    "copy_conceito_real = conceito_real.copy()"
   ]
  },
  {
   "cell_type": "code",
   "execution_count": 282,
   "id": "b29e4431-cac1-4e22-a1e3-6a901fa33d9a",
   "metadata": {},
   "outputs": [
    {
     "name": "stdout",
     "output_type": "stream",
     "text": [
      "1604\n",
      "1604\n"
     ]
    }
   ],
   "source": [
    "print(len(copy_conceito_calculado))\n",
    "print(len(copy_conceito_real))"
   ]
  },
  {
   "cell_type": "code",
   "execution_count": 283,
   "id": "692200f2-cc77-4d7e-bb1c-0d1766cdd751",
   "metadata": {},
   "outputs": [],
   "source": [
    "indexes_comparacao_SI = (copy_conceito_calculado[copy_conceito_calculado[\"Curso\"] == \"SI\"][\"Nota_Conceito_Faixa\"] == copy_conceito_real[copy_conceito_real[\"Código da Área\"] == 4006][\"Conceito Enade (Faixa)\"])\n",
    "indexes_comparacao_ADS = (copy_conceito_calculado[copy_conceito_calculado[\"Curso\"] == \"ADS\"][\"Nota_Conceito_Faixa\"] == copy_conceito_real[copy_conceito_real[\"Código da Área\"] == 72][\"Conceito Enade (Faixa)\"])\n",
    "indexes_comparacao_EC = (copy_conceito_calculado[copy_conceito_calculado[\"Curso\"] == \"EC\"][\"Nota_Conceito_Faixa\"] == copy_conceito_real[copy_conceito_real[\"Código da Área\"] == 4003][\"Conceito Enade (Faixa)\"])\n",
    "indexes_comparacao_RC = (copy_conceito_calculado[copy_conceito_calculado[\"Curso\"] == \"RC\"][\"Nota_Conceito_Faixa\"] == copy_conceito_real[copy_conceito_real[\"Código da Área\"] == 79][\"Conceito Enade (Faixa)\"])\n",
    "indexes_comparacao_LCC = (copy_conceito_calculado[copy_conceito_calculado[\"Curso\"] == \"LCC\"][\"Nota_Conceito_Faixa\"] == copy_conceito_real[copy_conceito_real[\"Código da Área\"] == 4005][\"Conceito Enade (Faixa)\"])"
   ]
  },
  {
   "cell_type": "code",
   "execution_count": 284,
   "id": "43d888c4-7a83-4d0e-96ba-18fe3c3de951",
   "metadata": {},
   "outputs": [],
   "source": [
    "indexes_comparacao_SI = indexes_comparacao_SI[indexes_comparacao_SI == False]\n",
    "indexes_comparacao_ADS = indexes_comparacao_ADS[indexes_comparacao_ADS == False]\n",
    "indexes_comparacao_EC = indexes_comparacao_EC[indexes_comparacao_EC == False]\n",
    "indexes_comparacao_RC = indexes_comparacao_RC[indexes_comparacao_RC == False]\n",
    "indexes_comparacao_LCC = indexes_comparacao_LCC[indexes_comparacao_LCC == False]"
   ]
  },
  {
   "cell_type": "code",
   "execution_count": 285,
   "id": "22e9362f-d35f-4d50-be5d-760e61e071fa",
   "metadata": {},
   "outputs": [],
   "source": [
    "lista_erros_SI = indexes_comparacao_SI.keys().tolist()\n",
    "lista_erros_ADS = indexes_comparacao_ADS.keys().tolist()\n",
    "lista_erros_EC = indexes_comparacao_EC.keys().tolist()\n",
    "lista_erros_RC = indexes_comparacao_RC.keys().tolist()\n",
    "lista_erros_LCC = indexes_comparacao_LCC.keys().tolist()"
   ]
  },
  {
   "cell_type": "code",
   "execution_count": 286,
   "id": "90032a86-25c8-4193-97dd-ed41856a52c0",
   "metadata": {},
   "outputs": [],
   "source": [
    "copy_conceito_calculado.loc[lista_erros_SI, \"Nota_Conceito_Faixa\"] += 1"
   ]
  },
  {
   "cell_type": "code",
   "execution_count": 290,
   "id": "ee0063c3-7d77-4140-a0c9-1aaac8be155c",
   "metadata": {},
   "outputs": [],
   "source": [
    "copy_conceito_calculado.loc[lista_erros_ADS, \"Nota_Conceito_Faixa\"] += 1"
   ]
  },
  {
   "cell_type": "code",
   "execution_count": 291,
   "id": "37250a8a-cb05-4b47-aee6-fbd670d5e331",
   "metadata": {},
   "outputs": [],
   "source": [
    "copy_conceito_calculado.loc[lista_erros_EC, \"Nota_Conceito_Faixa\"] += 1"
   ]
  },
  {
   "cell_type": "code",
   "execution_count": 292,
   "id": "1658e7cb-6887-4ea3-8b99-c067b78047c9",
   "metadata": {},
   "outputs": [],
   "source": [
    "copy_conceito_calculado.loc[lista_erros_RC, \"Nota_Conceito_Faixa\"] += 1"
   ]
  },
  {
   "cell_type": "code",
   "execution_count": 293,
   "id": "780b87bb-2c6b-437e-880d-f25e437ef4a5",
   "metadata": {},
   "outputs": [],
   "source": [
    "copy_conceito_calculado.loc[lista_erros_LCC, \"Nota_Conceito_Faixa\"] += 1"
   ]
  },
  {
   "cell_type": "code",
   "execution_count": 299,
   "id": "e28bace9-2eb8-4684-ba7f-7a06ec80b07c",
   "metadata": {},
   "outputs": [],
   "source": [
    "copy_conceito_calculado.to_csv('./{}.csv'.format('conceito_enade_2017_certo'),index=False)"
   ]
  },
  {
   "cell_type": "code",
   "execution_count": 148,
   "id": "e857bcc2-e83e-40c3-8dca-b61798f0d3bd",
   "metadata": {},
   "outputs": [],
   "source": [
    "erros_gti_calculado = copy_conceito_calculado.iloc[lista_erros_gti]"
   ]
  },
  {
   "cell_type": "code",
   "execution_count": 149,
   "id": "ee71722b-998f-4c67-b93f-e32947c5c27c",
   "metadata": {},
   "outputs": [],
   "source": [
    "erros_gti_real = copy_conceito_real.iloc[lista_erros_gti]"
   ]
  },
  {
   "cell_type": "code",
   "execution_count": null,
   "id": "fbaeee72-da03-4e04-bc77-be096ccdaac5",
   "metadata": {},
   "outputs": [],
   "source": [
    "erros_gti_calculado"
   ]
  },
  {
   "cell_type": "code",
   "execution_count": null,
   "id": "58c6ec0d-9edc-4efd-b52b-60bc3080fae3",
   "metadata": {},
   "outputs": [],
   "source": [
    "erros_gti_real"
   ]
  },
  {
   "cell_type": "code",
   "execution_count": 152,
   "id": "048b3c1f-6126-4de9-abf1-e1ce395ea1e3",
   "metadata": {},
   "outputs": [
    {
     "data": {
      "text/plain": [
       "18"
      ]
     },
     "execution_count": 152,
     "metadata": {},
     "output_type": "execute_result"
    }
   ],
   "source": [
    "sum((erros_gti_calculado[\"Nota_Conceito_Faixa\"] + 1) == erros_gti_real[\"Conceito Enade (Faixa)\"])"
   ]
  },
  {
   "cell_type": "code",
   "execution_count": 23,
   "id": "2dd5ecbb-b4e6-4474-97f6-2fdaac17e4ea",
   "metadata": {},
   "outputs": [
    {
     "data": {
      "text/plain": [
       "0"
      ]
     },
     "execution_count": 23,
     "metadata": {},
     "output_type": "execute_result"
    }
   ],
   "source": [
    "conceito_real[\"Conceito Enade (Faixa)\"].isna().sum()"
   ]
  },
  {
   "cell_type": "code",
   "execution_count": 56,
   "id": "62747bc6-9b7b-4feb-89ee-9d462991b682",
   "metadata": {},
   "outputs": [
    {
     "data": {
      "text/plain": [
       "1501    3\n",
       "1502    4\n",
       "1503    3\n",
       "1504    4\n",
       "1505    3\n",
       "Name: Nota_Conceito_Faixa, dtype: int64"
      ]
     },
     "execution_count": 56,
     "metadata": {},
     "output_type": "execute_result"
    }
   ],
   "source": [
    "conceito_calculado[\"Nota_Conceito_Faixa\"].tail()"
   ]
  },
  {
   "cell_type": "markdown",
   "id": "829e6e20-dc70-4d1c-ad19-0dc08be111ff",
   "metadata": {},
   "source": [
    "### Comparação do Número de Participantes"
   ]
  },
  {
   "cell_type": "code",
   "execution_count": 20,
   "id": "438b772e-c433-46a2-a5ec-004958d32da7",
   "metadata": {},
   "outputs": [
    {
     "data": {
      "text/plain": [
       "1505"
      ]
     },
     "execution_count": 20,
     "metadata": {},
     "output_type": "execute_result"
    }
   ],
   "source": [
    "sum(conceito_calculado[\"Numero_Participantes\"][:1505] == conceito_real[\"Nº  de Concluintes Participantes\"][:1505])"
   ]
  },
  {
   "cell_type": "code",
   "execution_count": 58,
   "id": "a09b6476-332b-49b0-9207-1ae0de3962d6",
   "metadata": {},
   "outputs": [
    {
     "data": {
      "text/plain": [
       "1501     8\n",
       "1502    11\n",
       "1503     8\n",
       "1504    22\n",
       "1505    34\n",
       "Name: Numero_Participantes, dtype: int64"
      ]
     },
     "execution_count": 58,
     "metadata": {},
     "output_type": "execute_result"
    }
   ],
   "source": [
    "conceito_calculado[\"Numero_Participantes\"].tail()"
   ]
  },
  {
   "cell_type": "code",
   "execution_count": 59,
   "id": "f5f09060-8059-4bbe-8ead-b64a32e2fd49",
   "metadata": {},
   "outputs": [
    {
     "data": {
      "text/plain": [
       "1500     8\n",
       "1501    11\n",
       "1502     8\n",
       "1503    22\n",
       "1504    34\n",
       "Name: Nº  de Concluintes Participantes, dtype: int64"
      ]
     },
     "execution_count": 59,
     "metadata": {},
     "output_type": "execute_result"
    }
   ],
   "source": [
    "conceito_real[\"Nº  de Concluintes Participantes\"].tail()"
   ]
  },
  {
   "cell_type": "markdown",
   "id": "ea542eba-ed1f-4355-8523-4d5c149be805",
   "metadata": {},
   "source": [
    "## Deletando linha 493"
   ]
  },
  {
   "cell_type": "code",
   "execution_count": 45,
   "id": "e1b02763-0044-49a1-8eb3-c5deb593f625",
   "metadata": {},
   "outputs": [],
   "source": [
    "conceito_calculado = conceito_calculado.drop(492)\n",
    "conceito_calculado.reset_index(drop=True, inplace = True)\n",
    "#conceito_calculado.to_csv('./{}.csv'.format('conceito_enade_2021_Teste'),index=False)"
   ]
  },
  {
   "cell_type": "markdown",
   "id": "b7ad7e57-5f0a-49f1-a83e-f66dd526395d",
   "metadata": {},
   "source": [
    "## Deletando linha 611 (73438) (Por causa de SC não detectado por não ter lido a norma técnica de 2018)"
   ]
  },
  {
   "cell_type": "code",
   "execution_count": 203,
   "id": "6b7cdbfc-aa8e-44d3-91c9-7f821e989069",
   "metadata": {},
   "outputs": [],
   "source": [
    "conceito_calculado = conceito_calculado.drop(610)\n",
    "conceito_calculado.reset_index(drop=True, inplace = True)\n",
    "#conceito_calculado.to_csv('./{}.csv'.format('conceito_enade_2017_Teste'),index=False)"
   ]
  },
  {
   "cell_type": "code",
   "execution_count": 64,
   "id": "8bb7cd7d-9b89-4537-94ec-172b7a04ff4f",
   "metadata": {},
   "outputs": [
    {
     "data": {
      "text/plain": [
       "490    13\n",
       "491    54\n",
       "492    31\n",
       "493    12\n",
       "Name: Numero_Participantes, dtype: int64"
      ]
     },
     "execution_count": 64,
     "metadata": {},
     "output_type": "execute_result"
    }
   ],
   "source": [
    "conceito_calculado[\"Numero_Participantes\"][490:494]"
   ]
  },
  {
   "cell_type": "code",
   "execution_count": 62,
   "id": "80674d84-0a8a-48cc-9d4b-127869623d95",
   "metadata": {},
   "outputs": [
    {
     "data": {
      "text/plain": [
       "490    13\n",
       "491    54\n",
       "492    31\n",
       "493    12\n",
       "Name: Nº  de Concluintes Participantes, dtype: int64"
      ]
     },
     "execution_count": 62,
     "metadata": {},
     "output_type": "execute_result"
    }
   ],
   "source": [
    "conceito_real[\"Nº  de Concluintes Participantes\"][490:494]"
   ]
  },
  {
   "cell_type": "code",
   "execution_count": 72,
   "id": "d59de071-2641-420b-9fcd-6a5bffeaa305",
   "metadata": {},
   "outputs": [
    {
     "data": {
      "text/plain": [
       "1505"
      ]
     },
     "execution_count": 72,
     "metadata": {},
     "output_type": "execute_result"
    }
   ],
   "source": [
    "sum(conceito_calculado[\"Numero_Participantes\"][:1506] == conceito_real[\"Nº  de Concluintes Participantes\"][:1506])"
   ]
  },
  {
   "cell_type": "markdown",
   "id": "ebde8863-d5c2-4799-a25b-f1cd234a78b7",
   "metadata": {},
   "source": [
    "### Comparação das médias/Nota bruta"
   ]
  },
  {
   "cell_type": "code",
   "execution_count": 5,
   "id": "d54a7530-2636-461e-a020-866b84b64123",
   "metadata": {},
   "outputs": [
    {
     "data": {
      "text/plain": [
       "1505"
      ]
     },
     "execution_count": 5,
     "metadata": {},
     "output_type": "execute_result"
    }
   ],
   "source": [
    "medias = pd.read_csv(\"./conceito_enade_2021_Teste_medias.csv\")\n",
    "len(medias)"
   ]
  },
  {
   "cell_type": "code",
   "execution_count": 230,
   "id": "e66d8d91-93be-45af-b117-b22379b15e43",
   "metadata": {},
   "outputs": [
    {
     "data": {
      "text/plain": [
       "1604"
      ]
     },
     "execution_count": 230,
     "metadata": {},
     "output_type": "execute_result"
    }
   ],
   "source": [
    "conceito_real = pd.read_csv(\"./conceito_enade_real_2017.csv\")\n",
    "len(conceito_real)"
   ]
  },
  {
   "cell_type": "code",
   "execution_count": 16,
   "id": "04645d38-ebdc-45df-8379-6cd38f6328a7",
   "metadata": {},
   "outputs": [],
   "source": [
    "conceito_real['Nota Bruta - FG'] = conceito_real['Nota Bruta - FG'].str.replace(',', '.')"
   ]
  },
  {
   "cell_type": "code",
   "execution_count": 59,
   "id": "d4fa4869-c077-4b69-8a90-61d3bd58c951",
   "metadata": {},
   "outputs": [
    {
     "data": {
      "text/plain": [
       "1413"
      ]
     },
     "execution_count": 59,
     "metadata": {},
     "output_type": "execute_result"
    }
   ],
   "source": [
    "sum(medias[\"Media_FG\"] == pd.to_numeric(conceito_real[\"Nota Bruta - FG\"]))"
   ]
  }
 ],
 "metadata": {
  "kernelspec": {
   "display_name": "Python 3 (ipykernel)",
   "language": "python",
   "name": "python3"
  },
  "language_info": {
   "codemirror_mode": {
    "name": "ipython",
    "version": 3
   },
   "file_extension": ".py",
   "mimetype": "text/x-python",
   "name": "python",
   "nbconvert_exporter": "python",
   "pygments_lexer": "ipython3",
   "version": "3.10.9"
  }
 },
 "nbformat": 4,
 "nbformat_minor": 5
}
