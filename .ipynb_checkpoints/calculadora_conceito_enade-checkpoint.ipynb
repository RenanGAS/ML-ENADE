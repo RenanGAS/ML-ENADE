{
 "cells": [
  {
   "cell_type": "code",
   "execution_count": null,
   "id": "1ff9dbfc-46d2-42eb-920f-8fd5f6a2622a",
   "metadata": {},
   "outputs": [],
   "source": [
    "import numpy as np\n",
    "import pandas as pd"
   ]
  },
  {
   "cell_type": "code",
   "execution_count": null,
   "id": "0be50eba-ea65-454a-8a5d-c6d113dd0ca9",
   "metadata": {},
   "outputs": [],
   "source": [
    "data_frame = pd.read_csv('computacao_enade_2011.csv')"
   ]
  },
  {
   "cell_type": "code",
   "execution_count": null,
   "id": "a1db1951-bd74-429f-8a1c-f9c2ee8ecb87",
   "metadata": {},
   "outputs": [],
   "source": [
    "\n",
    "\n",
    "for index, linha in data_frame.iterrows():\n",
    "    \n",
    "    \n"
   ]
  }
 ],
 "metadata": {
  "kernelspec": {
   "display_name": "Python 3 (ipykernel)",
   "language": "python",
   "name": "python3"
  },
  "language_info": {
   "codemirror_mode": {
    "name": "ipython",
    "version": 3
   },
   "file_extension": ".py",
   "mimetype": "text/x-python",
   "name": "python",
   "nbconvert_exporter": "python",
   "pygments_lexer": "ipython3",
   "version": "3.10.9"
  }
 },
 "nbformat": 4,
 "nbformat_minor": 5
}
