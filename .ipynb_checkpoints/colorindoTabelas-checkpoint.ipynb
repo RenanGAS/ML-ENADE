{
 "cells": [
  {
   "cell_type": "code",
   "execution_count": null,
   "id": "a5c470c0-8710-46e3-8e0b-b046ab6236c5",
   "metadata": {},
   "outputs": [],
   "source": [
    "import pandas as pd\n",
    "import numpy as np"
   ]
  },
  {
   "cell_type": "code",
   "execution_count": null,
   "id": "6b86cbce-621d-4939-a65f-c1cae6ec8b43",
   "metadata": {},
   "outputs": [],
   "source": [
    "tabela_21 = pd.read_csv('pre-process_2021.csv').head(10)\n",
    "\n",
    "# Arq1 (Amarelo): Ano, Curso, UF, Regiao, Cat_Administrativa, Cat_Org_Academica;\n",
    "# Arq2 (Verde): Turno, Conclusao_Ensino_Medio, Inicio_Graduacao;\n",
    "# Arq4 (Azul): Formacao, Plano_de_Ensino, Condicao_Salas, Condicao_Praticas;"
   ]
  },
  {
   "cell_type": "code",
   "execution_count": null,
   "id": "f500548d-e9ea-40aa-bbf8-bfb3dfb87830",
   "metadata": {},
   "outputs": [],
   "source": [
    "def color_21_arq1(s):\n",
    "    return np.where(s.isin(['Ano', 'Curso', 'UF', 'Regiao', 'Cat_Administrativa', 'Cat_Org_Academica']), \"background-color: yellow;\", \"\")\n",
    "def color_21_arq2(s):\n",
    "    return np.where(s.isin(['Turno', 'Conclusao_Ensino_Medio', 'Inicio_Graduacao']), \"background-color: chartreuse;\", \"\")\n",
    "def color_21_arq4(s):\n",
    "    return np.where(s.isin(['Formacao', 'Plano_de_Ensino', 'Condicao_Salas', 'Condicao_Praticas']), \"background-color: deepskyblue;\", \"\")"
   ]
  },
  {
   "cell_type": "code",
   "execution_count": null,
   "id": "286b7be6-f284-453f-9208-87626b135b6a",
   "metadata": {},
   "outputs": [],
   "source": [
    "tabela_21.style.apply_index(color_21_arq1, axis=\"columns\")"
   ]
  },
  {
   "cell_type": "code",
   "execution_count": null,
   "id": "1c62f0c9-3168-415d-81ad-d4f5b08af968",
   "metadata": {},
   "outputs": [],
   "source": [
    "tabela_21.style.apply_index(color_21_arq2, axis=\"columns\")"
   ]
  },
  {
   "cell_type": "code",
   "execution_count": null,
   "id": "ba1fa58c-72dc-4056-b634-8df55f8e9410",
   "metadata": {},
   "outputs": [],
   "source": [
    "tabela_21.style.apply_index(color_21_arq4, axis=\"columns\")"
   ]
  },
  {
   "cell_type": "code",
   "execution_count": null,
   "id": "ae9a0b67-09ab-4e06-8302-86e3b930cde7",
   "metadata": {},
   "outputs": [],
   "source": []
  }
 ],
 "metadata": {
  "kernelspec": {
   "display_name": "Python 3 (ipykernel)",
   "language": "python",
   "name": "python3"
  },
  "language_info": {
   "codemirror_mode": {
    "name": "ipython",
    "version": 3
   },
   "file_extension": ".py",
   "mimetype": "text/x-python",
   "name": "python",
   "nbconvert_exporter": "python",
   "pygments_lexer": "ipython3",
   "version": "3.9.13"
  }
 },
 "nbformat": 4,
 "nbformat_minor": 5
}
