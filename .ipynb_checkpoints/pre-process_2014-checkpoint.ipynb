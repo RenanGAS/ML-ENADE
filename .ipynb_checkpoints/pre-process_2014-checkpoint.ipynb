{
 "cells": [
  {
   "cell_type": "code",
   "execution_count": 1,
   "id": "22f4a66e-05dd-47f9-8cd3-d27349640c96",
   "metadata": {},
   "outputs": [],
   "source": [
    "import pandas as pd\n",
    "import numpy as np"
   ]
  },
  {
   "cell_type": "code",
   "execution_count": 2,
   "id": "23852f68-ccb4-453a-a7a3-c91ec492f002",
   "metadata": {},
   "outputs": [],
   "source": [
    "dados_14 = pd.read_csv('computacao_enade_2014.csv')"
   ]
  },
  {
   "cell_type": "code",
   "execution_count": null,
   "id": "2a9085f9-afa8-4af6-bed7-8f2539a4627d",
   "metadata": {},
   "outputs": [],
   "source": [
    "dados_14"
   ]
  },
  {
   "cell_type": "code",
   "execution_count": null,
   "id": "3b609b53-7eaf-4ee0-8303-1aeae50762f4",
   "metadata": {},
   "outputs": [],
   "source": [
    "dados_14['CO_GRUPO'].dtype # Ver se o formato Object pra string é válido"
   ]
  },
  {
   "cell_type": "code",
   "execution_count": 3,
   "id": "b536e8c4-4aa9-4f38-81da-00a36840e84d",
   "metadata": {},
   "outputs": [],
   "source": [
    "dados_14.replace({'CO_GRUPO': {72: 'ADS', 4004: 'BCC', 5809: 'EC', 4005: 'LCC', 79: 'RC', 4006: 'SI'}}, inplace=True) # inplace=True permite que o df seja modificado diretamente\n",
    "\n",
    "# dft1 = dft1.astype({\"a\": np.bool_, \"c\": np.float64})\n",
    "dados_14 = dados_14.astype({'CO_GRUPO':str})"
   ]
  },
  {
   "cell_type": "code",
   "execution_count": 4,
   "id": "3b28d855-2d35-4b48-b2b3-a1ef2e21ae0c",
   "metadata": {},
   "outputs": [],
   "source": [
    "estado_dict = {\n",
    "11 : 'RO',12 : 'AC', \n",
    "13 : 'AM',14 : 'RR',\n",
    "15 : 'PA',16 : 'AP',\n",
    "17 : 'TO',21 : 'MA',\n",
    "22 : 'PI',23 : 'CE',\n",
    "24 : 'RN',25 : 'PB',\n",
    "26 : 'PE',27 : 'AL',\n",
    "28 : 'SE',29 : 'BA',\n",
    "31 : 'MG',32 : 'ES',\n",
    "33 : 'RJ',35 : 'SP',\n",
    "41 : 'PR',42 : 'SC',\n",
    "43 : 'RS',50 : 'MS',\n",
    "51 : 'MT',52 : 'GO', \n",
    "53 : 'DF'\n",
    "}"
   ]
  },
  {
   "cell_type": "code",
   "execution_count": 5,
   "id": "bbae9d32-dae5-4fae-a0a3-185f6da17af2",
   "metadata": {},
   "outputs": [],
   "source": [
    "dados_14['CO_UF_CURSO'].replace(estado_dict,inplace=True)\n",
    "dados_14 = dados_14.astype({'CO_UF_CURSO':str})"
   ]
  },
  {
   "cell_type": "code",
   "execution_count": 6,
   "id": "8e8596db-aaab-4300-864e-65ff0b6d343c",
   "metadata": {},
   "outputs": [],
   "source": [
    "regiao_dict = {\n",
    "1 : 'N',2 : 'NE', \n",
    "3 : 'SE',4 : 'SUL',\n",
    "5 : 'CO'\n",
    "}"
   ]
  },
  {
   "cell_type": "code",
   "execution_count": 7,
   "id": "688b991e-69da-47e0-ab27-1be9a6129e57",
   "metadata": {},
   "outputs": [],
   "source": [
    "dados_14['CO_REGIAO_CURSO'].replace(regiao_dict,inplace=True)\n",
    "dados_14 = dados_14.astype({'CO_REGIAO_CURSO':str})"
   ]
  },
  {
   "cell_type": "code",
   "execution_count": null,
   "id": "434c0fbc-1e7e-412b-a652-0d628d12edc0",
   "metadata": {},
   "outputs": [],
   "source": [
    "# Não há IESes do tipo especial\n",
    "\n",
    "# ies_especial = dados_14[dados_14[\"CO_CATEGAD\"] == 7]\n",
    "# ies_especial"
   ]
  },
  {
   "cell_type": "code",
   "execution_count": 8,
   "id": "eab60198-6314-48d1-a740-3419c3eb0588",
   "metadata": {},
   "outputs": [],
   "source": [
    "cat_adm_dict = {\n",
    "1 : 'Pública Federal',2 : 'Pública Estadual', \n",
    "3 : 'Pública Municipal',4 : 'Privada CFL',\n",
    "5 : 'Privada SFL'\n",
    "}"
   ]
  },
  {
   "cell_type": "code",
   "execution_count": 9,
   "id": "3ac1afe4-4fa6-45d9-bb34-0a4a41b14cd3",
   "metadata": {},
   "outputs": [],
   "source": [
    "dados_14['CO_CATEGAD'].replace(cat_adm_dict,inplace=True)\n",
    "dados_14 = dados_14.astype({'CO_CATEGAD':str})"
   ]
  },
  {
   "cell_type": "code",
   "execution_count": 10,
   "id": "91d3f1c1-61b8-4266-bc49-24eb363c08a2",
   "metadata": {},
   "outputs": [],
   "source": [
    "# cefet = dados_14[dados_14['CO_ORGACAD'] == 10019]\n",
    "# cefet\n",
    "\n",
    "cat_org_dict = {\n",
    "10019 : 'CEFET',10020 : 'Centro Universitário', \n",
    "10022 : 'Faculdade',10026 : 'IFECT',\n",
    "10028 : 'Universidade'\n",
    "}"
   ]
  },
  {
   "cell_type": "code",
   "execution_count": 11,
   "id": "4218d162-7293-4c48-9a24-969cfb639f90",
   "metadata": {},
   "outputs": [],
   "source": [
    "dados_14['CO_ORGACAD'].replace(cat_org_dict,inplace=True)\n",
    "dados_14 = dados_14.astype({'CO_ORGACAD':str})"
   ]
  },
  {
   "cell_type": "code",
   "execution_count": 12,
   "id": "a0f6f343-c353-447a-a47b-a99c373d5696",
   "metadata": {},
   "outputs": [],
   "source": [
    "dados_14[\"CO_TURNO_GRADUACAO\"] = dados_14['IN_MATUT'] * 1 + dados_14['IN_VESPER'] * 3 + dados_14['IN_NOTURNO'] * 5"
   ]
  },
  {
   "cell_type": "code",
   "execution_count": 13,
   "id": "541f576b-db78-4b89-b2e0-f11e681c6d18",
   "metadata": {},
   "outputs": [],
   "source": [
    "turno_dict = {\n",
    "1 : 'Matutino', 3 : 'Vespertino', \n",
    "5 : 'Noturno', 4 : 'Integral',\n",
    "8 : 'Integral', 6 : 'Integral',\n",
    "9 : 'Integral'\n",
    "}\n",
    "\n",
    "dados_14['CO_TURNO_GRADUACAO'].replace(turno_dict,inplace=True)\n",
    "dados_14 = dados_14.astype({'CO_TURNO_GRADUACAO':str})"
   ]
  },
  {
   "cell_type": "code",
   "execution_count": 14,
   "id": "2704916d-4211-476f-bd51-8368fef777ff",
   "metadata": {},
   "outputs": [],
   "source": [
    "dados_14.drop(columns=['IN_MATUT', 'IN_VESPER', 'IN_NOTURNO'], inplace=True)"
   ]
  },
  {
   "cell_type": "code",
   "execution_count": 15,
   "id": "d7f9ff0f-b0e2-45a6-a7f8-7e49a601e92c",
   "metadata": {},
   "outputs": [],
   "source": [
    "col_turno = dados_14.pop('CO_TURNO_GRADUACAO')       # Muda \"CO_TURNO_GRADUACAO\" para sétima posição\n",
    "dados_14.insert(6, col_turno.name, col_turno)"
   ]
  },
  {
   "cell_type": "code",
   "execution_count": null,
   "id": "f9748f74-1ed4-427f-b0cc-711a919b03a6",
   "metadata": {},
   "outputs": [],
   "source": [
    "# dados_14[[\"CO_TURNO_GRADUACAO\"]]\n",
    "\n",
    "# noturno = dados_14[dados_14[\"CO_TURNO_GRADUACAO\"] == \"Noturno\"]\n",
    "# noturno"
   ]
  },
  {
   "cell_type": "code",
   "execution_count": null,
   "id": "1a789640-6c9e-4012-a052-3f31135521e1",
   "metadata": {},
   "outputs": [],
   "source": [
    "# Análise dos atributos ANO_FIM_EM e ANO_IN_GRAD"
   ]
  },
  {
   "cell_type": "code",
   "execution_count": null,
   "id": "bbf6a1b5-ca0c-4ffa-8c59-638946e74d54",
   "metadata": {},
   "outputs": [],
   "source": [
    "outliers_afem = dados_14[(dados_14['ANO_FIM_EM'] < 1955) | (dados_14['ANO_FIM_EM'] > 2014)]\n",
    "outliers_afem\n",
    "\n",
    "outliers_aig = dados_14[(dados_14['ANO_IN_GRAD'] < 1977) | (dados_14['ANO_IN_GRAD'] > 2014)]\n",
    "outliers_aig"
   ]
  },
  {
   "cell_type": "code",
   "execution_count": null,
   "id": "d34947d9-cbe6-4249-a124-1d5ab33ce671",
   "metadata": {},
   "outputs": [],
   "source": [
    "media_afem = dados_14['ANO_FIM_EM'].mean()\n",
    "media_afem\n",
    "\n",
    "media_aig = dados_14['ANO_IN_GRAD'].mean()\n",
    "media_aig"
   ]
  },
  {
   "cell_type": "code",
   "execution_count": null,
   "id": "7b8cbbda-823b-4fa4-a225-27fbfd81488e",
   "metadata": {},
   "outputs": [],
   "source": [
    "#-------------------------------#"
   ]
  },
  {
   "cell_type": "code",
   "execution_count": null,
   "id": "85133fb4-e5d0-458d-879b-868703a34c5c",
   "metadata": {},
   "outputs": [],
   "source": [
    "# Atributo derivado 1 - DIF_GRAD_EM"
   ]
  },
  {
   "cell_type": "code",
   "execution_count": 16,
   "id": "7a610eaa-2f87-4d46-8841-a86bf69637bc",
   "metadata": {},
   "outputs": [],
   "source": [
    "dados_14[\"DIF_GRAD_EM\"] = dados_14['ANO_IN_GRAD'] - dados_14['ANO_FIM_EM']"
   ]
  },
  {
   "cell_type": "code",
   "execution_count": null,
   "id": "8167f1d8-24fc-4cd2-ba8b-14b4d89e1a24",
   "metadata": {},
   "outputs": [],
   "source": [
    "# Atributo derivado 2 - DIF_ANO_GRAD"
   ]
  },
  {
   "cell_type": "code",
   "execution_count": 17,
   "id": "865df593-27e6-4434-a792-2363b752b0f0",
   "metadata": {},
   "outputs": [],
   "source": [
    "dados_14[\"DIF_ANO_GRAD\"] = (dados_14['NU_ANO'] - dados_14['ANO_IN_GRAD']) + 1"
   ]
  },
  {
   "cell_type": "code",
   "execution_count": null,
   "id": "3a90d8e8-0a90-4edb-b1e5-050bf39687b0",
   "metadata": {},
   "outputs": [],
   "source": [
    "# Ajuste dos valores em \"ANO_FIM_EM\"\n",
    "\n",
    "dados_14"
   ]
  },
  {
   "cell_type": "code",
   "execution_count": null,
   "id": "3d85f9ea-2d65-4ae7-8423-bfe272d221c3",
   "metadata": {},
   "outputs": [],
   "source": [
    "dados_14[\"ANO_FIM_EM\"] = dados_14['NU_ANO'] - dados_14['ANO_FIM_EM']\n",
    "\n",
    "dados_14"
   ]
  },
  {
   "cell_type": "code",
   "execution_count": null,
   "id": "aeb5f521-705f-4876-9efa-9438e5162af4",
   "metadata": {},
   "outputs": [],
   "source": [
    "#-------------------------------#"
   ]
  },
  {
   "cell_type": "code",
   "execution_count": 18,
   "id": "1b1ef8ca-6282-458b-8fcb-edd4707402b0",
   "metadata": {},
   "outputs": [],
   "source": [
    "tipo_em_dict = {\n",
    "'A' : 'Pública','B' : 'Privada', \n",
    "'C' : 'Exterior', 'D' : 'Pública',\n",
    "'E' :'Privada', 'F': 'Brasil e exterior'\n",
    "}"
   ]
  },
  {
   "cell_type": "code",
   "execution_count": 19,
   "id": "cbc0c413-59fa-448d-b1fc-b40581d9a37c",
   "metadata": {},
   "outputs": [],
   "source": [
    "dados_14['QE_I17'].replace(tipo_em_dict,inplace=True)\n",
    "dados_14 = dados_14.astype({'QE_I17':str})"
   ]
  },
  {
   "cell_type": "code",
   "execution_count": 20,
   "id": "f92916e0-1653-4f8d-8724-5bf51d818d02",
   "metadata": {},
   "outputs": [],
   "source": [
    "mod_em_dict = {\n",
    "'A' : 'Tradicional','B' : 'Técnico', \n",
    "'C' : 'Magistério', 'D' : 'Supletivo',\n",
    "'E':'Outra'\n",
    "}"
   ]
  },
  {
   "cell_type": "code",
   "execution_count": 21,
   "id": "8e3a583b-b918-407d-9dcf-7809c85d77ae",
   "metadata": {},
   "outputs": [],
   "source": [
    "dados_14['QE_I18'].replace(mod_em_dict,inplace=True)\n",
    "dados_14 = dados_14.astype({'QE_I18':str})"
   ]
  },
  {
   "cell_type": "code",
   "execution_count": null,
   "id": "14a1dced-9827-49e2-96b0-678523e2538a",
   "metadata": {},
   "outputs": [],
   "source": [
    "dados_14[['QE_I17', 'QE_I18', 'QE_I02']]"
   ]
  },
  {
   "cell_type": "code",
   "execution_count": null,
   "id": "10e60f40-a67a-4cfa-953e-0d31861b1ca4",
   "metadata": {},
   "outputs": [],
   "source": [
    "dados_14"
   ]
  },
  {
   "cell_type": "code",
   "execution_count": 22,
   "id": "b2717bd4-f67b-4fd4-a814-20ff02d4b267",
   "metadata": {},
   "outputs": [],
   "source": [
    "raca_dict = {\n",
    "'A' : 'Branca','B' : 'Preta', \n",
    "'C' : 'Parda', 'D' : 'Amarela',\n",
    "'E': 'Indígena', 'nan': 'Não declarado'\n",
    "}"
   ]
  },
  {
   "cell_type": "code",
   "execution_count": 23,
   "id": "5c5d94b2-8bb0-47b8-b91d-25b011acd98d",
   "metadata": {},
   "outputs": [],
   "source": [
    "dados_14['QE_I02'].replace(raca_dict,inplace=True)\n",
    "dados_14 = dados_14.astype({'QE_I02':str})"
   ]
  },
  {
   "cell_type": "code",
   "execution_count": 24,
   "id": "b6657c30-4739-4555-b695-c7148c536c2b",
   "metadata": {},
   "outputs": [],
   "source": [
    "est_civil_dict = {\n",
    "'A' : 'Solteiro','B' : 'Casado', \n",
    "'C' : 'Separado', 'D' : 'Viúvo',\n",
    "'E': 'Outro'\n",
    "}"
   ]
  },
  {
   "cell_type": "code",
   "execution_count": 25,
   "id": "f3336c8a-899b-47ba-a80d-3c2d851dd86d",
   "metadata": {},
   "outputs": [],
   "source": [
    "dados_14['QE_I01'].replace(est_civil_dict,inplace=True)\n",
    "dados_14 = dados_14.astype({'QE_I01':str})"
   ]
  },
  {
   "cell_type": "code",
   "execution_count": 26,
   "id": "36306703-5fab-4ec3-ba28-6cc3d3b94a73",
   "metadata": {},
   "outputs": [],
   "source": [
    "nl_pai_mae_dict = {\n",
    "'A' : 'Nenhuma','B' : 'Fundamental 1-5', \n",
    "'C' : 'Fundamental 6-9', 'D' : 'Médio',\n",
    "'E': 'Superior', 'F': 'Pós-graduação'\n",
    "}"
   ]
  },
  {
   "cell_type": "code",
   "execution_count": 27,
   "id": "8a5c4eb6-9c6c-4a9c-9330-3754be67ce10",
   "metadata": {},
   "outputs": [],
   "source": [
    "dados_14['QE_I04'].replace(nl_pai_mae_dict,inplace=True)\n",
    "dados_14 = dados_14.astype({'QE_I04':str})"
   ]
  },
  {
   "cell_type": "code",
   "execution_count": 28,
   "id": "34431163-926c-4463-832f-4edde0480b50",
   "metadata": {},
   "outputs": [],
   "source": [
    "dados_14['QE_I05'].replace(nl_pai_mae_dict,inplace=True)\n",
    "dados_14 = dados_14.astype({'QE_I05':str})"
   ]
  },
  {
   "cell_type": "code",
   "execution_count": 29,
   "id": "8809d9b2-7e63-4f3d-94ef-1631b3b94cfc",
   "metadata": {},
   "outputs": [],
   "source": [
    "renda_dict = {\n",
    "'A' : 'Até 1,5 SM','B' : 'De 1,5 a 3 SM', \n",
    "'C' : 'De 3 a 4,5 SM', 'D' : 'De 4,5 a 6 SM',\n",
    "'E': 'De 6 a 10 SM', 'F': 'De 10 a 30 SM',\n",
    "'G': 'Acima de 30 SM'\n",
    "}"
   ]
  },
  {
   "cell_type": "code",
   "execution_count": 30,
   "id": "85ad9199-610c-4e39-b568-17853be7becd",
   "metadata": {},
   "outputs": [],
   "source": [
    "dados_14['QE_I08'].replace(renda_dict,inplace=True)\n",
    "dados_14 = dados_14.astype({'QE_I08':str})"
   ]
  },
  {
   "cell_type": "code",
   "execution_count": null,
   "id": "754ac11b-9029-458f-8bd7-2c51c2e0d49c",
   "metadata": {},
   "outputs": [],
   "source": [
    "status_financ_dict = {\n",
    "'A' : 'Sem renda/Outros','B' : 'Sem renda/Outros', \n",
    "'C' : 'Tem renda/Outros', 'D' : 'Tem renda/Independente',\n",
    "'E': 'Tem renda/Sustenta', 'F': 'Tem renda/Principal'\n",
    "}"
   ]
  },
  {
   "cell_type": "code",
   "execution_count": null,
   "id": "6ca3a105-445c-4456-87d4-5d4e7af02543",
   "metadata": {},
   "outputs": [],
   "source": [
    "dados_14['QE_I09'].replace(status_financ_dict,inplace=True)\n",
    "dados_14 = dados_14.astype({'QE_I09':str})"
   ]
  },
  {
   "cell_type": "code",
   "execution_count": 31,
   "id": "4d2f2be1-c3ad-4d63-9179-3a67888a065e",
   "metadata": {},
   "outputs": [],
   "source": [
    "moradia_dict = {\n",
    "'A' : 'Sozinho','B' : 'Parentes', \n",
    "'C' : 'Cônjuge/Filhos', 'D' : 'Outras pessoas',\n",
    "'E': 'Universidade', 'F': 'Habitação individual/coletiva'\n",
    "}"
   ]
  },
  {
   "cell_type": "code",
   "execution_count": 32,
   "id": "c8050cff-2252-4a4b-a493-70d53551d326",
   "metadata": {},
   "outputs": [],
   "source": [
    "dados_14['QE_I06'].replace(moradia_dict,inplace=True)\n",
    "dados_14 = dados_14.astype({'QE_I06':str})"
   ]
  },
  {
   "cell_type": "code",
   "execution_count": 33,
   "id": "d7039dd7-6f61-4a57-9291-2f92da0a83db",
   "metadata": {},
   "outputs": [],
   "source": [
    "qtde_moradia_dict = {\n",
    "'A' : 'Nenhuma','B' : 'Uma', \n",
    "'C' : 'Duas', 'D' : 'Três',\n",
    "'E': 'Quatro', 'F': 'Cinco',\n",
    "'G': 'Seis', 'H': 'Sete ou mais'\n",
    "}"
   ]
  },
  {
   "cell_type": "code",
   "execution_count": 34,
   "id": "692d95dc-c7f5-44a2-8491-650f76939161",
   "metadata": {},
   "outputs": [],
   "source": [
    "dados_14['QE_I07'].replace(qtde_moradia_dict,inplace=True)\n",
    "dados_14 = dados_14.astype({'QE_I07':str})"
   ]
  },
  {
   "cell_type": "code",
   "execution_count": 35,
   "id": "73c46ce2-1f1f-41e1-bb9c-e4d8b16404f5",
   "metadata": {},
   "outputs": [],
   "source": [
    "politica_dict = {\n",
    "'A' : 'Não','B' : 'Critério étnico-racial',\n",
    "'C' : 'Critério de renda', 'D' : 'Bolsa de estudos',\n",
    "'E': 'Combinação de critérios', 'F': 'Critérios diferentes'\n",
    "}"
   ]
  },
  {
   "cell_type": "code",
   "execution_count": 36,
   "id": "30a0b924-8d67-4cee-b38a-ccc5038e78b3",
   "metadata": {},
   "outputs": [],
   "source": [
    "dados_14['QE_I15'].replace(politica_dict,inplace=True)\n",
    "dados_14 = dados_14.astype({'QE_I15':str})"
   ]
  },
  {
   "cell_type": "code",
   "execution_count": null,
   "id": "b4c95180-b6ca-4815-b6cc-d4f55cb5cc00",
   "metadata": {},
   "outputs": [],
   "source": [
    "uf_em_dict = {\n",
    "11 : 'RO',12 : 'AC', \n",
    "13 : 'AM',14 : 'RR',\n",
    "15 : 'PA',16 : 'AP',\n",
    "17 : 'TO',21 : 'MA',\n",
    "22 : 'PI',23 : 'CE',\n",
    "24 : 'RN',25 : 'PB',\n",
    "26 : 'PE',27 : 'AL',\n",
    "28 : 'SE',29 : 'BA',\n",
    "31 : 'MG',32 : 'ES',\n",
    "33 : 'RJ',35 : 'SP',\n",
    "41 : 'PR',42 : 'SC',\n",
    "43 : 'RS',50 : 'MS',\n",
    "51 : 'MT',52 : 'GO', \n",
    "53 : 'DF',99 : 'Não se aplica'\n",
    "}"
   ]
  },
  {
   "cell_type": "code",
   "execution_count": null,
   "id": "92245b32-f31c-481a-a9b6-ea120907c366",
   "metadata": {},
   "outputs": [],
   "source": [
    "dados_14['QE_I16'].replace(uf_em_dict,inplace=True)\n",
    "dados_14 = dados_14.astype({'QE_I16':str})"
   ]
  },
  {
   "cell_type": "code",
   "execution_count": 37,
   "id": "e8ccbcf4-acad-45b1-b7b6-a5ca722e3e88",
   "metadata": {},
   "outputs": [],
   "source": [
    "trabalho_dict = {\n",
    "'A' : 'Não','B' : 'Eventualmente',\n",
    "'C' : 'Até 20 horas', 'D' : '21 a 39 horas',\n",
    "'E': '40 horas ou mais'\n",
    "}"
   ]
  },
  {
   "cell_type": "code",
   "execution_count": 38,
   "id": "85d9ee23-db9f-4d5d-9c51-a9a0593c874a",
   "metadata": {},
   "outputs": [],
   "source": [
    "dados_14['QE_I10'].replace(trabalho_dict,inplace=True)\n",
    "dados_14 = dados_14.astype({'QE_I10':str})"
   ]
  },
  {
   "cell_type": "code",
   "execution_count": 39,
   "id": "7ede056b-04e9-40f0-8c15-9d9692d22745",
   "metadata": {},
   "outputs": [],
   "source": [
    "qtde_livros_dict = {\n",
    "'A' : 'Nenhum','B' : '1 ou 2',\n",
    "'C' : '3-5', 'D' : '6-8',\n",
    "'E': '+8'\n",
    "}"
   ]
  },
  {
   "cell_type": "code",
   "execution_count": 40,
   "id": "ae22162f-47ee-4e5f-8b88-07aeb89c6116",
   "metadata": {},
   "outputs": [],
   "source": [
    "dados_14['QE_I22'].replace(qtde_livros_dict,inplace=True)\n",
    "dados_14 = dados_14.astype({'QE_I22':str})"
   ]
  },
  {
   "cell_type": "code",
   "execution_count": 41,
   "id": "ce6bfa48-d18c-4f5f-a609-d9ccd9ad3186",
   "metadata": {},
   "outputs": [],
   "source": [
    "horas_estudo_dict = {\n",
    "'A' : 'Nenhum','B' : '1-3',\n",
    "'C' : '4-7', 'D' : '8-12',\n",
    "'E': '+12'\n",
    "}"
   ]
  },
  {
   "cell_type": "code",
   "execution_count": 42,
   "id": "874a67f7-e975-494a-8b71-39061423372c",
   "metadata": {},
   "outputs": [],
   "source": [
    "dados_14['QE_I23'].replace(horas_estudo_dict,inplace=True)\n",
    "dados_14 = dados_14.astype({'QE_I23':str})"
   ]
  },
  {
   "cell_type": "code",
   "execution_count": 43,
   "id": "27329947-64ac-41e5-8d87-b3f6c4aab459",
   "metadata": {},
   "outputs": [],
   "source": [
    "cond_salas_dict = {\n",
    "    1 : 'Discordo totalmente',\n",
    "    2 : 'Discordo',\n",
    "    3 : 'Discordo parcialmente',\n",
    "    4 : 'Concordo parcialmente',\n",
    "    5 : 'Concordo',\n",
    "    6 : 'Concordo totalmente',\n",
    "    7 : 'Não sei responder',\n",
    "    8 : 'Não se aplica'\n",
    "}"
   ]
  },
  {
   "cell_type": "code",
   "execution_count": 44,
   "id": "1b13293f-7927-41fa-a6f6-e204db8cddb7",
   "metadata": {},
   "outputs": [],
   "source": [
    "dados_14['QE_I61'].replace(cond_salas_dict,inplace=True)\n",
    "dados_14 = dados_14.astype({'QE_I61':str})"
   ]
  },
  {
   "cell_type": "code",
   "execution_count": 45,
   "id": "9894d0b9-0c0b-477a-aeb1-f474986bee50",
   "metadata": {},
   "outputs": [],
   "source": [
    "cond_praticas_dict = {\n",
    "    1 : 'Discordo totalmente',\n",
    "    2 : 'Discordo',\n",
    "    3 : 'Discordo parcialmente',\n",
    "    4 : 'Concordo parcialmente',\n",
    "    5 : 'Concordo',\n",
    "    6 : 'Concordo totalmente',\n",
    "    7 : 'Não sei responder',\n",
    "    8 : 'Não se aplica'\n",
    "}"
   ]
  },
  {
   "cell_type": "code",
   "execution_count": 46,
   "id": "55926fd8-e185-4a0b-8a79-ecd612c84345",
   "metadata": {},
   "outputs": [],
   "source": [
    "dados_14['QE_I62'].replace(cond_praticas_dict,inplace=True)\n",
    "dados_14 = dados_14.astype({'QE_I62':str})"
   ]
  },
  {
   "cell_type": "code",
   "execution_count": 47,
   "id": "c3daa74c-4a4c-4b4a-bcb7-8d4dbd695f85",
   "metadata": {},
   "outputs": [],
   "source": [
    "plano_ensino_dict = {\n",
    "    1 : 'Discordo totalmente',\n",
    "    2 : 'Discordo',\n",
    "    3 : 'Discordo parcialmente',\n",
    "    4 : 'Concordo parcialmente',\n",
    "    5 : 'Concordo',\n",
    "    6 : 'Concordo totalmente',\n",
    "    7 : 'Não sei responder',\n",
    "    8 : 'Não se aplica'\n",
    "}"
   ]
  },
  {
   "cell_type": "code",
   "execution_count": 48,
   "id": "fce75daa-d103-4beb-a3cb-f18be0c484cb",
   "metadata": {},
   "outputs": [],
   "source": [
    "dados_14['QE_I38'].replace(plano_ensino_dict,inplace=True)\n",
    "dados_14 = dados_14.astype({'QE_I38':str})"
   ]
  },
  {
   "cell_type": "code",
   "execution_count": 49,
   "id": "5aad9468-a850-4e38-b5b5-f6baf84a3434",
   "metadata": {},
   "outputs": [],
   "source": [
    "formacao_dict = {\n",
    "    1 : 'Discordo totalmente',\n",
    "    2 : 'Discordo',\n",
    "    3 : 'Discordo parcialmente',\n",
    "    4 : 'Concordo parcialmente',\n",
    "    5 : 'Concordo',\n",
    "    6 : 'Concordo totalmente',\n",
    "    7 : 'Não sei responder',\n",
    "    8 : 'Não se aplica'\n",
    "}"
   ]
  },
  {
   "cell_type": "code",
   "execution_count": 50,
   "id": "195b9d3f-7a06-4efa-8bb1-9a4121ded7ed",
   "metadata": {},
   "outputs": [],
   "source": [
    "dados_14['QE_I27'].replace(formacao_dict,inplace=True)\n",
    "dados_14 = dados_14.astype({'QE_I27':str})"
   ]
  },
  {
   "cell_type": "code",
   "execution_count": null,
   "id": "53186cb9-75cd-4ada-9181-18105165436d",
   "metadata": {},
   "outputs": [],
   "source": [
    "dados_14"
   ]
  },
  {
   "cell_type": "code",
   "execution_count": 51,
   "id": "900a6074-f2b5-4c14-b805-46f56e3375ea",
   "metadata": {},
   "outputs": [],
   "source": [
    "columns_dict = {\n",
    "    \"NU_ANO\": \"Ano\",\n",
    "    \"CO_CURSO\": \"Codigo_do_Curso\",\n",
    "    \"CO_GRUPO\": \"Curso\",\n",
    "    \"CO_UF_CURSO\": \"UF\",\n",
    "    \"CO_REGIAO_CURSO\": \"Regiao\",\n",
    "    \"CO_CATEGAD\": \"Cat_Administrativa\",\n",
    "    \"CO_ORGACAD\": \"Cat_Org_Academica\",\n",
    "    \"CO_TURNO_GRADUACAO\": \"Turno\",\n",
    "    \"DIF_GRAD_EM\": \"Anos_Preparacao\",\n",
    "    \"DIF_ANO_GRAD\": \"Anos_Graduacao\",\n",
    "    \"NT_GER\": \"Nota_Geral\",\n",
    "    \"ANO_FIM_EM\": \"Conclusao_Ensino_Medio\",\n",
    "    \"ANO_IN_GRAD\": \"Inicio_Graduacao\",\n",
    "    \"QE_I17\": \"Tipo_Escola_EM\",\n",
    "    \"QE_I18\": \"Modalidade_EM\",\n",
    "    \"NU_IDADE\": \"Idade\",\n",
    "    \"TP_SEXO\": \"Sexo\",\n",
    "    \"QE_I02\": \"Cor_Raca\",\n",
    "    \"QE_I01\": \"Estado_Civil\",\n",
    "    \"QE_I04\": \"Nl_Pai\",\n",
    "    \"QE_I05\": \"Nl_Mae\",\n",
    "    \"QE_I08\": \"Renda\",\n",
    "    \"QE_I09\": \"Situacao_Financeira\",\n",
    "    \"QE_I06\": \"Moradia\",\n",
    "    \"QE_I07\": \"Qtde_Pessoas\",\n",
    "    \"QE_I15\": \"Politica_de_Ingresso\",\n",
    "    \"QE_I16\": \"UF_Ensino_Medio\",\n",
    "    \"QE_I10\": \"Situacao_Trabalho\",\n",
    "    \"QE_I22\": \"Qtde_Livros\",\n",
    "    \"QE_I23\": \"Horas_de_Estudo\",\n",
    "    \"QE_I61\": \"Condicao_Salas\",\n",
    "    \"QE_I62\": \"Condicao_Praticas\",\n",
    "    \"QE_I38\": \"Plano_de_Ensino\",\n",
    "    \"QE_I27\": \"Formacao\"\n",
    "}"
   ]
  },
  {
   "cell_type": "code",
   "execution_count": 52,
   "id": "110807ac-d3b7-49c3-ae9f-e74ce3444e65",
   "metadata": {},
   "outputs": [],
   "source": [
    "dados_14.rename(columns = columns_dict, inplace = True)"
   ]
  },
  {
   "cell_type": "code",
   "execution_count": null,
   "id": "ba26ce97-a1a7-4fd5-a273-7ee8f5dc768f",
   "metadata": {},
   "outputs": [],
   "source": [
    "dados_14"
   ]
  },
  {
   "cell_type": "code",
   "execution_count": null,
   "id": "06ae1448-952e-4d4f-938b-cd83a1ef1f38",
   "metadata": {},
   "outputs": [],
   "source": [
    "# Colorindo a tabela de acordo com atributos de mesmos arquivos\n",
    "\n",
    "# headers = {\n",
    "    # 'selector': 'th:not(.index_name)',\n",
    "    # 'props': 'background-color: #000066; color: white;'\n",
    "# }\n",
    "\n",
    "# dados_14.set_table_styles([headers])\n",
    "\n",
    "#def highlight_col(x):\n",
    "    #df1 = pd.DataFrame('', index=x.index, columns=x.columns)\n",
    "    #df1.style.set_table_styles(\n",
    "   #[{\n",
    "       #'selector': 'th',\n",
    "       #'props': [('background-color', '#add8e6')]\n",
    "   #}])\n",
    "    #return df1    \n",
    "#dados_14.style.apply(highlight_col, axis=None)\n",
    "\n",
    "# dados_14.style.set_properties(**{'background-color': 'red'}, subset=['Ano'])\n",
    "\n",
    "# def highlight_col(x):\n",
    "    # r = 'background-color: red'\n",
    "    # df1 = pd.DataFrame('', index=x.index, columns=x.columns)\n",
    "    # df1.iloc[:, 1] = r // Coluna 1\n",
    "    # return df1    \n",
    "# dados_14.style.apply(highlight_col, axis=None, inplace=True)"
   ]
  },
  {
   "cell_type": "code",
   "execution_count": 53,
   "id": "75691cf8-3aa6-4a8b-855d-13b3b7340791",
   "metadata": {},
   "outputs": [],
   "source": [
    "dados_14.to_csv('./{}.csv'.format('pre-process_2014'),index=False)"
   ]
  },
  {
   "cell_type": "code",
   "execution_count": null,
   "id": "d33ee41e-5207-4ff1-aebe-b7746a9477c7",
   "metadata": {},
   "outputs": [],
   "source": [
    "# Gráfico do número de alunos de cada curso"
   ]
  },
  {
   "cell_type": "code",
   "execution_count": null,
   "id": "962a1aa9-6c64-47bb-8a54-85f28598d716",
   "metadata": {},
   "outputs": [],
   "source": [
    "count_bcc = dados_14[dados_14['Curso'] == 'BCC']['Curso'].count()\n",
    "count_ads = dados_14[dados_14['Curso'] == 'ADS']['Curso'].count()\n",
    "count_gti = dados_14[dados_14['Curso'] == 'GTI']['Curso'].count()\n",
    "count_ec = dados_14[dados_14['Curso'] == 'EC']['Curso'].count()\n",
    "count_lcc = dados_14[dados_14['Curso'] == 'LCC']['Curso'].count()\n",
    "count_rc = dados_14[dados_14['Curso'] == 'RC']['Curso'].count()\n",
    "count_si = dados_14[dados_14['Curso'] == 'SI']['Curso'].count()"
   ]
  },
  {
   "cell_type": "code",
   "execution_count": null,
   "id": "e7c22705-62cc-4f11-a9c8-df5d9b5722c0",
   "metadata": {},
   "outputs": [],
   "source": [
    "count_array = [count_bcc,count_ads, count_gti, count_ec, \n",
    "               count_lcc, count_rc, count_si]"
   ]
  },
  {
   "cell_type": "code",
   "execution_count": null,
   "id": "c95b6bba-d3a5-46d3-94aa-dd79e1e7d048",
   "metadata": {},
   "outputs": [],
   "source": [
    "count_courses = pd.DataFrame({'Número de alunos': count_array}, index=['BCC', 'ADS', 'GTI', 'EC', 'LCC', 'RC', 'SI'])\n",
    "\n",
    "count_courses.plot.bar();"
   ]
  },
  {
   "cell_type": "code",
   "execution_count": null,
   "id": "7d8a2500-5a27-44f8-b552-1bd859104fba",
   "metadata": {},
   "outputs": [],
   "source": []
  }
 ],
 "metadata": {
  "kernelspec": {
   "display_name": "Python 3 (ipykernel)",
   "language": "python",
   "name": "python3"
  },
  "language_info": {
   "codemirror_mode": {
    "name": "ipython",
    "version": 3
   },
   "file_extension": ".py",
   "mimetype": "text/x-python",
   "name": "python",
   "nbconvert_exporter": "python",
   "pygments_lexer": "ipython3",
   "version": "3.9.13"
  }
 },
 "nbformat": 4,
 "nbformat_minor": 5
}
