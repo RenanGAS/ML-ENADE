{
 "cells": [
  {
   "cell_type": "code",
   "execution_count": 1,
   "id": "8ce1b438-a475-451e-acdc-9df0a2c5d54c",
   "metadata": {},
   "outputs": [],
   "source": [
    "import pandas as pd\n",
    "import numpy as np"
   ]
  },
  {
   "cell_type": "code",
   "execution_count": 2,
   "id": "6761bd2d-664a-40f7-af9b-9d25e0e037cb",
   "metadata": {},
   "outputs": [],
   "source": [
    "uniaoDadosEnade = pd.read_csv('merge.csv')"
   ]
  },
  {
   "cell_type": "code",
   "execution_count": 3,
   "id": "71ab6dea-cd29-495f-b7be-67d4204ec8c3",
   "metadata": {},
   "outputs": [],
   "source": [
    "codigoCursosArray = uniaoDadosEnade[\"Codigo_do_Curso\"].unique()"
   ]
  },
  {
   "cell_type": "code",
   "execution_count": null,
   "id": "154a7223-ea30-4563-b1b2-7bb81b810242",
   "metadata": {},
   "outputs": [],
   "source": [
    "codigoCursosArray"
   ]
  },
  {
   "cell_type": "code",
   "execution_count": 4,
   "id": "2e3ef58e-0b23-419a-825a-94440a1827cf",
   "metadata": {},
   "outputs": [
    {
     "data": {
      "text/plain": [
       "2594"
      ]
     },
     "execution_count": 4,
     "metadata": {},
     "output_type": "execute_result"
    }
   ],
   "source": [
    "len(codigoCursosArray)"
   ]
  },
  {
   "cell_type": "code",
   "execution_count": 5,
   "id": "702d34fc-be0d-4cbf-9223-309b6f56d443",
   "metadata": {},
   "outputs": [],
   "source": [
    "codigoCursos = codigoCursosArray.tolist()"
   ]
  },
  {
   "cell_type": "code",
   "execution_count": null,
   "id": "596690a0-2994-4a55-98a9-0564a50c1afd",
   "metadata": {},
   "outputs": [],
   "source": [
    "codigoCursos"
   ]
  },
  {
   "cell_type": "code",
   "execution_count": 54,
   "id": "6924116d-bc69-4725-a219-85065c06647c",
   "metadata": {},
   "outputs": [],
   "source": [
    "# Conta o número de linhas de cada Curso\n",
    "\n",
    "matrizParaConverterEmDf = []\n",
    "numeroLinhasCursos = []\n",
    "\n",
    "for codigo in codigoCursos:\n",
    "    subconjuntoCurso = uniaoDadosEnade.loc[uniaoDadosEnade['Codigo_do_Curso'] == codigo]\n",
    "    numeroLinhasCursos.append(len(subconjuntoCurso))\n",
    "\n",
    "matrizParaConverterEmDf.append(numeroLinhasCursos)\n",
    "dfNumeroLinhasCursos = pd.DataFrame(matrizParaConverterEmDf)\n",
    "dfNumeroLinhasCursos.columns = codigoCursos"
   ]
  },
  {
   "cell_type": "code",
   "execution_count": 55,
   "id": "b6b4751a-2627-489b-82fb-f269b87b7b36",
   "metadata": {},
   "outputs": [
    {
     "data": {
      "text/html": [
       "<div>\n",
       "<style scoped>\n",
       "    .dataframe tbody tr th:only-of-type {\n",
       "        vertical-align: middle;\n",
       "    }\n",
       "\n",
       "    .dataframe tbody tr th {\n",
       "        vertical-align: top;\n",
       "    }\n",
       "\n",
       "    .dataframe thead th {\n",
       "        text-align: right;\n",
       "    }\n",
       "</style>\n",
       "<table border=\"1\" class=\"dataframe\">\n",
       "  <thead>\n",
       "    <tr style=\"text-align: right;\">\n",
       "      <th></th>\n",
       "      <th>36</th>\n",
       "      <th>127</th>\n",
       "      <th>317</th>\n",
       "      <th>513</th>\n",
       "      <th>594</th>\n",
       "      <th>614</th>\n",
       "      <th>703</th>\n",
       "      <th>778</th>\n",
       "      <th>865</th>\n",
       "      <th>968</th>\n",
       "      <th>...</th>\n",
       "      <th>121415</th>\n",
       "      <th>150211</th>\n",
       "      <th>1002397</th>\n",
       "      <th>1126609</th>\n",
       "      <th>1126612</th>\n",
       "      <th>1126641</th>\n",
       "      <th>1126655</th>\n",
       "      <th>1129605</th>\n",
       "      <th>1133236</th>\n",
       "      <th>1152809</th>\n",
       "    </tr>\n",
       "  </thead>\n",
       "  <tbody>\n",
       "    <tr>\n",
       "      <th>0</th>\n",
       "      <td>120</td>\n",
       "      <td>260</td>\n",
       "      <td>236</td>\n",
       "      <td>187</td>\n",
       "      <td>126</td>\n",
       "      <td>247</td>\n",
       "      <td>101</td>\n",
       "      <td>122</td>\n",
       "      <td>130</td>\n",
       "      <td>311</td>\n",
       "      <td>...</td>\n",
       "      <td>4</td>\n",
       "      <td>2</td>\n",
       "      <td>15</td>\n",
       "      <td>13</td>\n",
       "      <td>3</td>\n",
       "      <td>24</td>\n",
       "      <td>87</td>\n",
       "      <td>6</td>\n",
       "      <td>25</td>\n",
       "      <td>36</td>\n",
       "    </tr>\n",
       "  </tbody>\n",
       "</table>\n",
       "<p>1 rows × 2594 columns</p>\n",
       "</div>"
      ],
      "text/plain": [
       "   36       127      317      513      594      614      703      778      \\\n",
       "0      120      260      236      187      126      247      101      122   \n",
       "\n",
       "   865      968      ...  121415   150211   1002397  1126609  1126612  \\\n",
       "0      130      311  ...        4        2       15       13        3   \n",
       "\n",
       "   1126641  1126655  1129605  1133236  1152809  \n",
       "0       24       87        6       25       36  \n",
       "\n",
       "[1 rows x 2594 columns]"
      ]
     },
     "execution_count": 55,
     "metadata": {},
     "output_type": "execute_result"
    }
   ],
   "source": [
    "dfNumeroLinhasCursos"
   ]
  },
  {
   "cell_type": "code",
   "execution_count": 6,
   "id": "dcb72031-2c94-427b-8056-dd5def1df36f",
   "metadata": {},
   "outputs": [],
   "source": [
    "transformacaoDadosEnade = []\n",
    "\n",
    "df_para_contagem_de_valores = pd.DataFrame()\n",
    "\n",
    "# Fazer usando um data frame para evitar o problema de ordenação dos valores dos atributos e criação de colunas\n",
    "\n",
    "for codigo in codigoCursos:\n",
    "    subconjuntoCurso = uniaoDadosEnade.loc[uniaoDadosEnade['Codigo_do_Curso'] == codigo]\n",
    "    subconjuntoCurso = subconjuntoCurso.reset_index(drop=True)\n",
    "    \n",
    "    dadosCurso = []\n",
    "    \n",
    "    # Atributos do curso\n",
    "    \n",
    "    areaEnquadramento = subconjuntoCurso._get_value(0, 'Curso')\n",
    "    unidadeFederacaoCurso = subconjuntoCurso._get_value(0, 'UF')\n",
    "    regiao = subconjuntoCurso._get_value(0, 'Regiao')\n",
    "    categoriaAdministrativa = subconjuntoCurso._get_value(0, 'Cat_Administrativa')\n",
    "    categoriaOrganizacaoAcademica = subconjuntoCurso._get_value(0, 'Cat_Org_Academica')\n",
    "    turno = subconjuntoCurso._get_value(0, 'Turno')\n",
    "    \n",
    "    dadosCurso.extend([codigo, areaEnquadramento, unidadeFederacaoCurso, regiao, \n",
    "                       categoriaAdministrativa, categoriaOrganizacaoAcademica, turno])\n",
    "    \n",
    "    # Atributos dos estudantes\n",
    "    \n",
    "    atributosQualitativos = ['Tipo_Escola_EM', 'Modalidade_EM', 'Sexo', 'Cor_Raca', 'Estado_Civil', 'Nl_Pai', 'Nl_Mae', 'Renda', \n",
    "                             'Situacao_Financeira', 'Moradia', 'Qtde_Pessoas', 'Politica_de_Ingresso', 'Situacao_Trabalho', 'Bolsa_de_Estudos', 'Qtde_Livros', \n",
    "                             'Horas_de_Estudo', 'Disponibilidade_Professores', 'Dominio_Professores', 'Condicao_Salas', 'Condicao_Praticas', 'Plano_de_Ensino',\n",
    "                             'Formacao']\n",
    "    \n",
    "    # Tentar um por um pra debugar\n",
    "    \n",
    "    for atributo in atributosQualitativos:\n",
    "        numero_de_valores_nulos = subconjuntoCurso[atributo].isna().sum()\n",
    "        dadosCurso.append(numero_de_valores_nulos)\n",
    "        \n",
    "        valoresAtributo = subconjuntoCurso[atributo].dropna().unique()\n",
    "        for valor in valoresAtributo:\n",
    "            numeroOcorrencias = subconjuntoCurso[atributo].value_counts()[valor]\n",
    "            dadosCurso.append(numeroOcorrencias)\n",
    "    \n",
    "    atributosQuantitativos = ['Nota_Geral', 'Conclusao_Ensino_Medio', 'Anos_Preparacao', 'Anos_Graduacao', 'Idade']\n",
    "    \n",
    "    for atributo in atributosQuantitativos:\n",
    "        mediaValores = subconjuntoCurso[atributo].mean()\n",
    "        dadosCurso.append(mediaValores)\n",
    "        \n",
    "    transformacaoDadosEnade.append(dadosCurso)\n",
    "\n",
    "dfDadosTransformados = pd.DataFrame(transformacaoDadosEnade)\n",
    "\n",
    "dfDadosTransformados.columns =['Codigo_do_Curso', 'Curso', 'UF', 'Regiao', 'Cat_Administrativa', 'Cat_Org_Academica', 'Turno',\n",
    "                              'Nulos_Tipo_Escola_EM', 'Pública', 'Privada', 'Exterior',\n",
    "                              'Nulos_Modalidade_EM', 'Tradicional', 'Técnico', 'Magistério', 'Supletivo', 'Outra', \n",
    "                              'Nulos_Sexo', 'Masculino', 'Feminino',\n",
    "                              'Nulos_Cor_Raca', 'Branca', 'Preta', 'Amarela', 'Parda', 'Indígena', 'Não declarado',\n",
    "                              ]\n",
    "    "
   ]
  },
  {
   "cell_type": "code",
   "execution_count": null,
   "id": "c55de4f8-5502-46b0-9439-17aa31e1f20e",
   "metadata": {},
   "outputs": [],
   "source": [
    "dfDadosTransformados"
   ]
  },
  {
   "cell_type": "code",
   "execution_count": 7,
   "id": "be6cf277-bdc7-4c3a-8942-ad48f6d9aec8",
   "metadata": {},
   "outputs": [],
   "source": [
    "dfDadosTransformados.to_csv('./{}.csv'.format('testeTransformacaoDados'),index=False)"
   ]
  },
  {
   "cell_type": "code",
   "execution_count": null,
   "id": "c195cd79-d9fe-4e10-8177-f5dbf229f54f",
   "metadata": {},
   "outputs": [],
   "source": []
  }
 ],
 "metadata": {
  "kernelspec": {
   "display_name": "Python 3 (ipykernel)",
   "language": "python",
   "name": "python3"
  },
  "language_info": {
   "codemirror_mode": {
    "name": "ipython",
    "version": 3
   },
   "file_extension": ".py",
   "mimetype": "text/x-python",
   "name": "python",
   "nbconvert_exporter": "python",
   "pygments_lexer": "ipython3",
   "version": "3.9.13"
  }
 },
 "nbformat": 4,
 "nbformat_minor": 5
}
