{
 "cells": [
  {
   "cell_type": "code",
   "execution_count": 8,
   "id": "8ce1b438-a475-451e-acdc-9df0a2c5d54c",
   "metadata": {},
   "outputs": [],
   "source": [
    "import pandas as pd\n",
    "import numpy as np"
   ]
  },
  {
   "cell_type": "code",
   "execution_count": 9,
   "id": "6761bd2d-664a-40f7-af9b-9d25e0e037cb",
   "metadata": {},
   "outputs": [],
   "source": [
    "dados_do_enade = pd.read_csv('merge.csv')"
   ]
  },
  {
   "cell_type": "code",
   "execution_count": 10,
   "id": "71ab6dea-cd29-495f-b7be-67d4204ec8c3",
   "metadata": {},
   "outputs": [],
   "source": [
    "codigoCursosArray = dados_do_enade[\"Codigo_do_Curso\"].unique()"
   ]
  },
  {
   "cell_type": "code",
   "execution_count": null,
   "id": "154a7223-ea30-4563-b1b2-7bb81b810242",
   "metadata": {},
   "outputs": [],
   "source": [
    "codigoCursosArray"
   ]
  },
  {
   "cell_type": "code",
   "execution_count": null,
   "id": "2e3ef58e-0b23-419a-825a-94440a1827cf",
   "metadata": {},
   "outputs": [],
   "source": [
    "len(codigoCursosArray)"
   ]
  },
  {
   "cell_type": "code",
   "execution_count": 11,
   "id": "702d34fc-be0d-4cbf-9223-309b6f56d443",
   "metadata": {},
   "outputs": [],
   "source": [
    "codigoCursos = codigoCursosArray.tolist()"
   ]
  },
  {
   "cell_type": "code",
   "execution_count": null,
   "id": "596690a0-2994-4a55-98a9-0564a50c1afd",
   "metadata": {},
   "outputs": [],
   "source": [
    "codigoCursos"
   ]
  },
  {
   "cell_type": "code",
   "execution_count": null,
   "id": "6924116d-bc69-4725-a219-85065c06647c",
   "metadata": {},
   "outputs": [],
   "source": [
    "# Conta o número de linhas de cada Curso\n",
    "\n",
    "matrizParaConverterEmDf = []\n",
    "numeroLinhasCursos = []\n",
    "\n",
    "for codigo in codigoCursos:\n",
    "    subconjuntoCurso = dados_do_enade.loc[dados_do_enade['Codigo_do_Curso'] == codigo]\n",
    "    numeroLinhasCursos.append(len(subconjuntoCurso))\n",
    "\n",
    "matrizParaConverterEmDf.append(numeroLinhasCursos)\n",
    "dfNumeroLinhasCursos = pd.DataFrame(matrizParaConverterEmDf)\n",
    "dfNumeroLinhasCursos.columns = codigoCursos"
   ]
  },
  {
   "cell_type": "code",
   "execution_count": null,
   "id": "b6b4751a-2627-489b-82fb-f269b87b7b36",
   "metadata": {},
   "outputs": [],
   "source": [
    "dfNumeroLinhasCursos"
   ]
  },
  {
   "cell_type": "code",
   "execution_count": null,
   "id": "36c5f660-0e16-419b-8a53-7ff1fffb0cfc",
   "metadata": {},
   "outputs": [],
   "source": [
    "df_para_contagem_de_valores = pd.DataFrame()\n",
    "\n",
    "atributos_do_curso = ['Curso', 'UF', 'Regiao', 'Cat_Administrativa', 'Cat_Org_Academica', 'Turno']\n",
    "\n",
    "atributos_qualitativos = ['Tipo_Escola_EM', 'Modalidade_EM', 'Sexo', 'Cor_Raca', 'Estado_Civil', 'Nl_Pai', 'Nl_Mae', 'Renda', \n",
    "                             'Situacao_Financeira', 'Moradia', 'Qtde_Pessoas', 'Politica_de_Ingresso', 'Situacao_Trabalho', 'Bolsa_de_Estudos', 'Qtde_Livros', \n",
    "                             'Horas_de_Estudo', 'Disponibilidade_Professores', 'Dominio_Professores', 'Condicao_Salas', 'Condicao_Praticas', 'Plano_de_Ensino',\n",
    "                             'Formacao']\n",
    "\n",
    "atributos_quantitativos = ['Nota_Geral', 'Conclusao_Ensino_Medio', 'Anos_Preparacao', 'Anos_Graduacao', 'Idade']\n",
    "\n",
    "valores_UF_Ensino_Medio = ['RO','AC', 'AM','RR','PA','AP','TO','MA','PI','CE','RN','PB','PE','AL','SE','BA','MG','ES','RJ','SP','PR','SC','RS','MS','MT','GO', 'DF','Não se aplica']\n",
    "\n",
    "for nome_coluna in dados_do_enade:\n",
    "    \n",
    "    if nome_coluna in atributos_do_curso:\n",
    "        df_para_contagem_de_valores[nome_coluna] = ''\n",
    "        \n",
    "    elif nome_coluna in atributos_quantitativos:\n",
    "        df_para_contagem_de_valores[nome_coluna] = 0\n",
    "        \n",
    "    elif nome_coluna in atributos_qualitativos:\n",
    "        df_para_contagem_de_valores['nulos_' + nome_coluna] = 0\n",
    "        valores_unicos_do_atributo = dados_do_enade[nome_coluna].dropna().unique()\n",
    "            \n",
    "        for valor in valores_unicos_do_atributo:\n",
    "            df_para_contagem_de_valores[valor] = 0\n",
    "\n",
    "for valor in valores_UF_Ensino_Medio:\n",
    "    df_para_contagem_de_valores['EM_' + valor] = 0\n",
    "\n",
    "df_para_contagem_de_valores\n",
    "\n",
    "#for codigo in codigo_dos_cursos:\n",
    "    #subconjunto_do_codigo = dados_do_enade.loc[dados_do_enade['Codigo_do_Curso'] == codigo]\n",
    "    #subconjunto_do_codigo = subconjunto_do_codigo.reset_index(drop=True)\n",
    "        \n",
    "    "
   ]
  },
  {
   "cell_type": "code",
   "execution_count": null,
   "id": "dcb72031-2c94-427b-8056-dd5def1df36f",
   "metadata": {},
   "outputs": [],
   "source": [
    "transformacaoDadosEnade = []\n",
    "\n",
    "# Fazer usando um data frame para evitar o problema de ordenação dos valores dos atributos e criação de colunas\n",
    "\n",
    "for codigo in codigoCursos:\n",
    "    subconjuntoCurso = uniaoDadosEnade.loc[uniaoDadosEnade['Codigo_do_Curso'] == codigo]\n",
    "    subconjuntoCurso = subconjuntoCurso.reset_index(drop=True)\n",
    "    \n",
    "    dadosCurso = []\n",
    "    \n",
    "    # Atributos do curso\n",
    "    \n",
    "    areaEnquadramento = subconjuntoCurso._get_value(0, 'Curso')\n",
    "    unidadeFederacaoCurso = subconjuntoCurso._get_value(0, 'UF')\n",
    "    regiao = subconjuntoCurso._get_value(0, 'Regiao')\n",
    "    categoriaAdministrativa = subconjuntoCurso._get_value(0, 'Cat_Administrativa')\n",
    "    categoriaOrganizacaoAcademica = subconjuntoCurso._get_value(0, 'Cat_Org_Academica')\n",
    "    turno = subconjuntoCurso._get_value(0, 'Turno')\n",
    "    \n",
    "    dadosCurso.extend([codigo, areaEnquadramento, unidadeFederacaoCurso, regiao, \n",
    "                       categoriaAdministrativa, categoriaOrganizacaoAcademica, turno])\n",
    "    \n",
    "    # Atributos dos estudantes\n",
    "    \n",
    "    atributosQualitativos = ['Tipo_Escola_EM', 'Modalidade_EM', 'Sexo', 'Cor_Raca', 'Estado_Civil', 'Nl_Pai', 'Nl_Mae', 'Renda', \n",
    "                             'Situacao_Financeira', 'Moradia', 'Qtde_Pessoas', 'Politica_de_Ingresso', 'Situacao_Trabalho', 'Bolsa_de_Estudos', 'Qtde_Livros', \n",
    "                             'Horas_de_Estudo', 'Disponibilidade_Professores', 'Dominio_Professores', 'Condicao_Salas', 'Condicao_Praticas', 'Plano_de_Ensino',\n",
    "                             'Formacao']\n",
    "    \n",
    "    # Tentar um por um pra debugar\n",
    "    \n",
    "    for atributo in atributosQualitativos:\n",
    "        numero_de_valores_nulos = subconjuntoCurso[atributo].isna().sum()\n",
    "        dadosCurso.append(numero_de_valores_nulos)\n",
    "        \n",
    "        valoresAtributo = subconjuntoCurso[atributo].dropna().unique()\n",
    "        for valor in valoresAtributo:\n",
    "            numeroOcorrencias = subconjuntoCurso[atributo].value_counts()[valor]\n",
    "            dadosCurso.append(numeroOcorrencias)\n",
    "    \n",
    "    atributosQuantitativos = ['Nota_Geral', 'Conclusao_Ensino_Medio', 'Anos_Preparacao', 'Anos_Graduacao', 'Idade']\n",
    "    \n",
    "    for atributo in atributosQuantitativos:\n",
    "        mediaValores = subconjuntoCurso[atributo].mean()\n",
    "        dadosCurso.append(mediaValores)\n",
    "        \n",
    "    transformacaoDadosEnade.append(dadosCurso)\n",
    "\n",
    "dfDadosTransformados = pd.DataFrame(transformacaoDadosEnade)\n",
    "\n",
    "dfDadosTransformados.columns =['Codigo_do_Curso', 'Curso', 'UF', 'Regiao', 'Cat_Administrativa', 'Cat_Org_Academica', 'Turno',\n",
    "                              'Nulos_Tipo_Escola_EM', 'Pública', 'Privada', 'Exterior',\n",
    "                              'Nulos_Modalidade_EM', 'Tradicional', 'Técnico', 'Magistério', 'Supletivo', 'Outra', \n",
    "                              'Nulos_Sexo', 'Masculino', 'Feminino',\n",
    "                              'Nulos_Cor_Raca', 'Branca', 'Preta', 'Amarela', 'Parda', 'Indígena', 'Não declarado',\n",
    "                              ]\n",
    "    "
   ]
  },
  {
   "cell_type": "code",
   "execution_count": null,
   "id": "c55de4f8-5502-46b0-9439-17aa31e1f20e",
   "metadata": {},
   "outputs": [],
   "source": [
    "dfDadosTransformados"
   ]
  },
  {
   "cell_type": "code",
   "execution_count": null,
   "id": "be6cf277-bdc7-4c3a-8942-ad48f6d9aec8",
   "metadata": {},
   "outputs": [],
   "source": [
    "dfDadosTransformados.to_csv('./{}.csv'.format('testeTransformacaoDados'),index=False)"
   ]
  },
  {
   "cell_type": "code",
   "execution_count": null,
   "id": "c195cd79-d9fe-4e10-8177-f5dbf229f54f",
   "metadata": {},
   "outputs": [],
   "source": []
  }
 ],
 "metadata": {
  "kernelspec": {
   "display_name": "Python 3 (ipykernel)",
   "language": "python",
   "name": "python3"
  },
  "language_info": {
   "codemirror_mode": {
    "name": "ipython",
    "version": 3
   },
   "file_extension": ".py",
   "mimetype": "text/x-python",
   "name": "python",
   "nbconvert_exporter": "python",
   "pygments_lexer": "ipython3",
   "version": "3.9.13"
  }
 },
 "nbformat": 4,
 "nbformat_minor": 5
}
