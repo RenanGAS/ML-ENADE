{
 "cells": [
  {
   "cell_type": "code",
   "execution_count": 1,
   "id": "eea121f5-1ed8-4c0e-8b7c-e2c290536600",
   "metadata": {},
   "outputs": [],
   "source": [
    "import pandas as pd\n",
    "import numpy as np"
   ]
  },
  {
   "cell_type": "code",
   "execution_count": 6,
   "id": "7f64ea08-388c-4685-b863-90a2870c1019",
   "metadata": {},
   "outputs": [],
   "source": [
    "dados_enade = pd.read_csv('../concept_drift/tabela_final_2014_treinamento.csv')"
   ]
  },
  {
   "cell_type": "code",
   "execution_count": 7,
   "id": "596ba626-302c-477c-b0f9-eebfef6de287",
   "metadata": {},
   "outputs": [],
   "source": [
    "subconjunto_cuso = dados_enade.loc[dados_enade['BCC'] == 1]\n",
    "subconjunto_cuso.reset_index(drop=True, inplace = True)"
   ]
  },
  {
   "cell_type": "code",
   "execution_count": 8,
   "id": "a14c821d-8377-490a-8be0-23efebd181c1",
   "metadata": {},
   "outputs": [
    {
     "data": {
      "text/plain": [
       "(304, 226)"
      ]
     },
     "execution_count": 8,
     "metadata": {},
     "output_type": "execute_result"
    }
   ],
   "source": [
    "subconjunto_cuso.shape"
   ]
  },
  {
   "cell_type": "code",
   "execution_count": 9,
   "id": "73b3b11f-d53a-4bf0-8308-bbbf4daa7d7b",
   "metadata": {},
   "outputs": [],
   "source": [
    "subconjunto_cuso.to_csv(f'./tabela_final_BCC_2014_treinamento.csv',index=False)"
   ]
  },
  {
   "cell_type": "code",
   "execution_count": null,
   "id": "3d1ee2f0-cbf9-40ad-ae3f-42024b7f3c15",
   "metadata": {},
   "outputs": [],
   "source": []
  }
 ],
 "metadata": {
  "kernelspec": {
   "display_name": "Python 3 (ipykernel)",
   "language": "python",
   "name": "python3"
  },
  "language_info": {
   "codemirror_mode": {
    "name": "ipython",
    "version": 3
   },
   "file_extension": ".py",
   "mimetype": "text/x-python",
   "name": "python",
   "nbconvert_exporter": "python",
   "pygments_lexer": "ipython3",
   "version": "3.10.9"
  }
 },
 "nbformat": 4,
 "nbformat_minor": 5
}
