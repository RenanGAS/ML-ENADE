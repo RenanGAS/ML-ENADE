{
 "cells": [
  {
   "cell_type": "code",
   "execution_count": 6,
   "id": "a0e0d46f-ad06-40f9-8fa1-3d81f4fa3058",
   "metadata": {},
   "outputs": [
    {
     "name": "stderr",
     "output_type": "stream",
     "text": [
      "/home/renangas/miniconda3/lib/python3.10/sre_parse.py:434: RuntimeWarning: coroutine 'main' was never awaited\n",
      "  return list(dict.fromkeys(items))\n",
      "RuntimeWarning: Enable tracemalloc to get the object allocation traceback\n"
     ]
    }
   ],
   "source": [
    "import aiohttp\n",
    "import asyncio\n",
    "from bs4 import BeautifulSoup"
   ]
  },
  {
   "cell_type": "code",
   "execution_count": 18,
   "id": "00db54ba-9ddf-4a41-ac08-00c8c4f97563",
   "metadata": {},
   "outputs": [],
   "source": [
    "result = \"\"\n",
    "\n",
    "async def main():\n",
    "    async with aiohttp.ClientSession() as session:\n",
    "        async with session.get('https://emec.mec.gov.br/emec/consulta-curso/listar-historico-indicadores-curso/c1999930082674af6577f0c513f05a96/NDQ%3D/list/10') as resp:\n",
    "            print(resp.status)\n",
    "            result = await resp.text()\n",
    "            soup = BeautifulSoup(result, 'html.parser')\n",
    "\n",
    "            rows = soup.find('tbody').find_all('tr')\n",
    "\n",
    "            # Find the row corresponding to the year 2014\n",
    "            row_2014 = None\n",
    "            for row in rows:\n",
    "                if row.find('td', text='2014'):\n",
    "                    row_2014 = row\n",
    "                    break\n",
    "\n",
    "            # Extract the ENADE measure for the year 2014\n",
    "            if row_2014:\n",
    "                enade_2014 = row_2014.find_all('td')[1].text\n",
    "                print(\"ENADE measure for 2014:\", enade_2014)\n",
    "            else:\n",
    "                print(\"Year 2014 data not found.\")"
   ]
  },
  {
   "cell_type": "code",
   "execution_count": 19,
   "id": "8047d7ed-8625-4050-9877-4c4ca385d144",
   "metadata": {},
   "outputs": [
    {
     "name": "stdout",
     "output_type": "stream",
     "text": [
      "200\n",
      "ENADE measure for 2014: 5\n"
     ]
    }
   ],
   "source": [
    "await main()"
   ]
  }
 ],
 "metadata": {
  "kernelspec": {
   "display_name": "Python 3 (ipykernel)",
   "language": "python",
   "name": "python3"
  },
  "language_info": {
   "codemirror_mode": {
    "name": "ipython",
    "version": 3
   },
   "file_extension": ".py",
   "mimetype": "text/x-python",
   "name": "python",
   "nbconvert_exporter": "python",
   "pygments_lexer": "ipython3",
   "version": "3.10.9"
  }
 },
 "nbformat": 4,
 "nbformat_minor": 5
}
