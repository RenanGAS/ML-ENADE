{
 "cells": [
  {
   "cell_type": "code",
   "execution_count": null,
   "id": "4808711b-8e75-4eba-b00e-fb98f2fa1f24",
   "metadata": {},
   "outputs": [],
   "source": [
    "import pandas as pd"
   ]
  },
  {
   "cell_type": "code",
   "execution_count": null,
   "id": "90609a1d-3c9b-48a9-824e-350fe55d4942",
   "metadata": {},
   "outputs": [],
   "source": [
    "for i in range(43):\n",
    "    j = i + 1\n",
    "    origin = f'dados_21/microdados2021_arq{j}.txt'\n",
    "    destine = f'dados_21csv/arq{j}.csv'\n",
    "    file = pd.read_csv(origin, sep=';')\n",
    "    file.to_csv(destine, index = None)"
   ]
  },
  {
   "cell_type": "code",
   "execution_count": null,
   "id": "fbecc96d-2d6f-43af-bf02-3cea3b1097ed",
   "metadata": {},
   "outputs": [],
   "source": [
    "arq1 = pd.read_csv('dados_21_csv/arq1.csv')\n",
    "arq2 = pd.read_csv('dados_21_csv/arq2.csv')"
   ]
  },
  {
   "cell_type": "code",
   "execution_count": null,
   "id": "f0bb0209-bdd1-4a19-8d5e-95fb235aa5f1",
   "metadata": {},
   "outputs": [],
   "source": [
    "arq1"
   ]
  },
  {
   "cell_type": "code",
   "execution_count": null,
   "id": "02386736-ea3e-4872-b17d-a1b2f5594d2b",
   "metadata": {},
   "outputs": [],
   "source": [
    "col1 = arq1.pop(\"CO_CURSO\")       # Muda \"CO_CURSO\" em arq1 para primeira posição\n",
    "arq1.insert(0, col1.name, col1)"
   ]
  },
  {
   "cell_type": "code",
   "execution_count": null,
   "id": "24cde96b-4a26-4976-9466-89a1efd37ad9",
   "metadata": {},
   "outputs": [],
   "source": [
    "arq2"
   ]
  },
  {
   "cell_type": "code",
   "execution_count": null,
   "id": "7a9ef2c1-e199-4cb8-9212-0fac930cf8ed",
   "metadata": {},
   "outputs": [],
   "source": [
    "col2 = arq2.pop(\"CO_CURSO\")       # Muda \"CO_CURSO\" em arq2 para primeira posição\n",
    "arq2.insert(0, col2.name, col2)"
   ]
  },
  {
   "cell_type": "code",
   "execution_count": null,
   "id": "97c46002-6ba4-44bf-8a22-ac0dfcb46858",
   "metadata": {},
   "outputs": [],
   "source": [
    "arq2Sorted = arq2.sort_values('CO_CURSO')  # Ordena arq2 pela coluna \"CO_CURSO\""
   ]
  },
  {
   "cell_type": "code",
   "execution_count": null,
   "id": "489453bf-a16d-4ea8-8432-76a3e715a596",
   "metadata": {},
   "outputs": [],
   "source": [
    "arq2Sorted"
   ]
  },
  {
   "cell_type": "code",
   "execution_count": null,
   "id": "1b6c11dc-a88e-4f35-be9b-65f1d3387bbe",
   "metadata": {},
   "outputs": [],
   "source": [
    "arq2Sorted = arq2Sorted.reset_index(drop=True)  # Organiza os indexes após a ordenação"
   ]
  },
  {
   "cell_type": "code",
   "execution_count": null,
   "id": "3825ccaf-f590-4f90-9bd3-e620ff1e13e4",
   "metadata": {},
   "outputs": [],
   "source": [
    "concat1_2 = pd.concat([arq1, arq2Sorted], axis=1)  # Concatena os arquivos arq1 e arq2"
   ]
  },
  {
   "cell_type": "code",
   "execution_count": null,
   "id": "b90a1f48-4bac-4033-bc20-4eb725de3993",
   "metadata": {},
   "outputs": [],
   "source": [
    "concat1_2"
   ]
  },
  {
   "cell_type": "code",
   "execution_count": null,
   "id": "5bc2fcc4-a565-4bba-a6b0-ffe06e2e4ed2",
   "metadata": {},
   "outputs": [],
   "source": [
    "remDuplic = concat1_2.loc[:,~concat1_2.columns.duplicated()]   # Remove as colunas duplicadas da concatenação"
   ]
  },
  {
   "cell_type": "code",
   "execution_count": null,
   "id": "ce5d2162-611f-4921-a84c-cbb75310e64a",
   "metadata": {},
   "outputs": [],
   "source": [
    "remDuplic"
   ]
  },
  {
   "cell_type": "code",
   "execution_count": null,
   "id": "e628ac7c-11b7-4f6d-9566-6151cefc31ae",
   "metadata": {},
   "outputs": [],
   "source": [
    "cursosComputacao = remDuplic[remDuplic[\"CO_GRUPO\"].isin([72, 4004, 6409, 4005, 79, 4006])]   # Seleciona apenas os dados referentes a alunos de computação"
   ]
  },
  {
   "cell_type": "code",
   "execution_count": null,
   "id": "7ccf9b20-f170-44b7-ad24-ee79a5382a87",
   "metadata": {},
   "outputs": [],
   "source": [
    "cursosComputacao"
   ]
  },
  {
   "cell_type": "code",
   "execution_count": null,
   "id": "4fdcb012-ca44-463a-873b-6fb239d8d265",
   "metadata": {},
   "outputs": [],
   "source": [
    "reset1_2 = cursosComputacao.reset_index(drop=True)   # Organiza os indexes depois da seleção dos dados"
   ]
  },
  {
   "cell_type": "code",
   "execution_count": null,
   "id": "00fda5c4-de8c-4d34-ba70-5ee23780975d",
   "metadata": {},
   "outputs": [],
   "source": [
    "reset1_2"
   ]
  },
  {
   "cell_type": "code",
   "execution_count": null,
   "id": "46888a4d-dd64-4612-bf8b-c5bbe5f35197",
   "metadata": {},
   "outputs": [],
   "source": [
    "# Seleciona os atributos desejados dos arquivos arq1 e arq2\n",
    "atrs1_2 = reset1_2[['NU_ANO','CO_CURSO','CO_GRUPO', 'CO_UF_CURSO', 'CO_REGIAO_CURSO', 'CO_CATEGAD', 'CO_ORGACAD', 'CO_TURNO_GRADUACAO', 'ANO_FIM_EM', 'ANO_IN_GRAD']]"
   ]
  },
  {
   "cell_type": "code",
   "execution_count": null,
   "id": "d7f89514-3003-4d93-b925-8ab811990728",
   "metadata": {},
   "outputs": [],
   "source": [
    "atrs1_2"
   ]
  },
  {
   "cell_type": "code",
   "execution_count": null,
   "id": "bb477bf0-a528-4be7-a579-aef631e3160d",
   "metadata": {},
   "outputs": [],
   "source": []
  }
 ],
 "metadata": {
  "kernelspec": {
   "display_name": "Python 3 (ipykernel)",
   "language": "python",
   "name": "python3"
  },
  "language_info": {
   "codemirror_mode": {
    "name": "ipython",
    "version": 3
   },
   "file_extension": ".py",
   "mimetype": "text/x-python",
   "name": "python",
   "nbconvert_exporter": "python",
   "pygments_lexer": "ipython3",
   "version": "3.9.13"
  }
 },
 "nbformat": 4,
 "nbformat_minor": 5
}
