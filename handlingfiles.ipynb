{
 "cells": [
  {
   "cell_type": "code",
   "execution_count": 12,
   "id": "4808711b-8e75-4eba-b00e-fb98f2fa1f24",
   "metadata": {},
   "outputs": [],
   "source": [
    "import pandas as pd\n",
    "\n",
    "# 2014 - 2017"
   ]
  },
  {
   "cell_type": "code",
   "execution_count": null,
   "id": "90609a1d-3c9b-48a9-824e-350fe55d4942",
   "metadata": {},
   "outputs": [],
   "source": [
    "for i in range(43):\n",
    "    j = i + 1\n",
    "    origin = f'dados_21/microdados2021_arq{j}.txt'\n",
    "    destine = f'dados_21csv/arq{j}.csv'\n",
    "    file = pd.read_csv(origin, sep=';')\n",
    "    file.to_csv(destine, index = None)"
   ]
  },
  {
   "cell_type": "code",
   "execution_count": 13,
   "id": "fbecc96d-2d6f-43af-bf02-3cea3b1097ed",
   "metadata": {},
   "outputs": [],
   "source": [
    "arq1 = pd.read_csv('dados_21_csv/arq1.csv')"
   ]
  },
  {
   "cell_type": "code",
   "execution_count": 15,
   "id": "f0bb0209-bdd1-4a19-8d5e-95fb235aa5f1",
   "metadata": {},
   "outputs": [
    {
     "data": {
      "text/html": [
       "<div>\n",
       "<style scoped>\n",
       "    .dataframe tbody tr th:only-of-type {\n",
       "        vertical-align: middle;\n",
       "    }\n",
       "\n",
       "    .dataframe tbody tr th {\n",
       "        vertical-align: top;\n",
       "    }\n",
       "\n",
       "    .dataframe thead th {\n",
       "        text-align: right;\n",
       "    }\n",
       "</style>\n",
       "<table border=\"1\" class=\"dataframe\">\n",
       "  <thead>\n",
       "    <tr style=\"text-align: right;\">\n",
       "      <th></th>\n",
       "      <th>CO_CURSO</th>\n",
       "      <th>NU_ANO</th>\n",
       "      <th>CO_IES</th>\n",
       "      <th>CO_CATEGAD</th>\n",
       "      <th>CO_ORGACAD</th>\n",
       "      <th>CO_GRUPO</th>\n",
       "      <th>CO_MODALIDADE</th>\n",
       "      <th>CO_MUNIC_CURSO</th>\n",
       "      <th>CO_UF_CURSO</th>\n",
       "      <th>CO_REGIAO_CURSO</th>\n",
       "    </tr>\n",
       "  </thead>\n",
       "  <tbody>\n",
       "    <tr>\n",
       "      <th>0</th>\n",
       "      <td>6</td>\n",
       "      <td>2021</td>\n",
       "      <td>1</td>\n",
       "      <td>1</td>\n",
       "      <td>10028</td>\n",
       "      <td>2001</td>\n",
       "      <td>1</td>\n",
       "      <td>5103403</td>\n",
       "      <td>51</td>\n",
       "      <td>5</td>\n",
       "    </tr>\n",
       "    <tr>\n",
       "      <th>1</th>\n",
       "      <td>6</td>\n",
       "      <td>2021</td>\n",
       "      <td>1</td>\n",
       "      <td>1</td>\n",
       "      <td>10028</td>\n",
       "      <td>2001</td>\n",
       "      <td>1</td>\n",
       "      <td>5103403</td>\n",
       "      <td>51</td>\n",
       "      <td>5</td>\n",
       "    </tr>\n",
       "    <tr>\n",
       "      <th>2</th>\n",
       "      <td>6</td>\n",
       "      <td>2021</td>\n",
       "      <td>1</td>\n",
       "      <td>1</td>\n",
       "      <td>10028</td>\n",
       "      <td>2001</td>\n",
       "      <td>1</td>\n",
       "      <td>5103403</td>\n",
       "      <td>51</td>\n",
       "      <td>5</td>\n",
       "    </tr>\n",
       "    <tr>\n",
       "      <th>3</th>\n",
       "      <td>6</td>\n",
       "      <td>2021</td>\n",
       "      <td>1</td>\n",
       "      <td>1</td>\n",
       "      <td>10028</td>\n",
       "      <td>2001</td>\n",
       "      <td>1</td>\n",
       "      <td>5103403</td>\n",
       "      <td>51</td>\n",
       "      <td>5</td>\n",
       "    </tr>\n",
       "    <tr>\n",
       "      <th>4</th>\n",
       "      <td>6</td>\n",
       "      <td>2021</td>\n",
       "      <td>1</td>\n",
       "      <td>1</td>\n",
       "      <td>10028</td>\n",
       "      <td>2001</td>\n",
       "      <td>1</td>\n",
       "      <td>5103403</td>\n",
       "      <td>51</td>\n",
       "      <td>5</td>\n",
       "    </tr>\n",
       "    <tr>\n",
       "      <th>...</th>\n",
       "      <td>...</td>\n",
       "      <td>...</td>\n",
       "      <td>...</td>\n",
       "      <td>...</td>\n",
       "      <td>...</td>\n",
       "      <td>...</td>\n",
       "      <td>...</td>\n",
       "      <td>...</td>\n",
       "      <td>...</td>\n",
       "      <td>...</td>\n",
       "    </tr>\n",
       "    <tr>\n",
       "      <th>489861</th>\n",
       "      <td>5001459</td>\n",
       "      <td>2021</td>\n",
       "      <td>3996</td>\n",
       "      <td>5</td>\n",
       "      <td>10022</td>\n",
       "      <td>72</td>\n",
       "      <td>1</td>\n",
       "      <td>2611606</td>\n",
       "      <td>26</td>\n",
       "      <td>2</td>\n",
       "    </tr>\n",
       "    <tr>\n",
       "      <th>489862</th>\n",
       "      <td>5001459</td>\n",
       "      <td>2021</td>\n",
       "      <td>3996</td>\n",
       "      <td>5</td>\n",
       "      <td>10022</td>\n",
       "      <td>72</td>\n",
       "      <td>1</td>\n",
       "      <td>2611606</td>\n",
       "      <td>26</td>\n",
       "      <td>2</td>\n",
       "    </tr>\n",
       "    <tr>\n",
       "      <th>489863</th>\n",
       "      <td>5001459</td>\n",
       "      <td>2021</td>\n",
       "      <td>3996</td>\n",
       "      <td>5</td>\n",
       "      <td>10022</td>\n",
       "      <td>72</td>\n",
       "      <td>1</td>\n",
       "      <td>2611606</td>\n",
       "      <td>26</td>\n",
       "      <td>2</td>\n",
       "    </tr>\n",
       "    <tr>\n",
       "      <th>489864</th>\n",
       "      <td>5001459</td>\n",
       "      <td>2021</td>\n",
       "      <td>3996</td>\n",
       "      <td>5</td>\n",
       "      <td>10022</td>\n",
       "      <td>72</td>\n",
       "      <td>1</td>\n",
       "      <td>2611606</td>\n",
       "      <td>26</td>\n",
       "      <td>2</td>\n",
       "    </tr>\n",
       "    <tr>\n",
       "      <th>489865</th>\n",
       "      <td>5001487</td>\n",
       "      <td>2021</td>\n",
       "      <td>3948</td>\n",
       "      <td>5</td>\n",
       "      <td>10022</td>\n",
       "      <td>72</td>\n",
       "      <td>1</td>\n",
       "      <td>4209102</td>\n",
       "      <td>42</td>\n",
       "      <td>4</td>\n",
       "    </tr>\n",
       "  </tbody>\n",
       "</table>\n",
       "<p>489866 rows × 10 columns</p>\n",
       "</div>"
      ],
      "text/plain": [
       "        CO_CURSO  NU_ANO  CO_IES  CO_CATEGAD  CO_ORGACAD  CO_GRUPO  \\\n",
       "0              6    2021       1           1       10028      2001   \n",
       "1              6    2021       1           1       10028      2001   \n",
       "2              6    2021       1           1       10028      2001   \n",
       "3              6    2021       1           1       10028      2001   \n",
       "4              6    2021       1           1       10028      2001   \n",
       "...          ...     ...     ...         ...         ...       ...   \n",
       "489861   5001459    2021    3996           5       10022        72   \n",
       "489862   5001459    2021    3996           5       10022        72   \n",
       "489863   5001459    2021    3996           5       10022        72   \n",
       "489864   5001459    2021    3996           5       10022        72   \n",
       "489865   5001487    2021    3948           5       10022        72   \n",
       "\n",
       "        CO_MODALIDADE  CO_MUNIC_CURSO  CO_UF_CURSO  CO_REGIAO_CURSO  \n",
       "0                   1         5103403           51                5  \n",
       "1                   1         5103403           51                5  \n",
       "2                   1         5103403           51                5  \n",
       "3                   1         5103403           51                5  \n",
       "4                   1         5103403           51                5  \n",
       "...               ...             ...          ...              ...  \n",
       "489861              1         2611606           26                2  \n",
       "489862              1         2611606           26                2  \n",
       "489863              1         2611606           26                2  \n",
       "489864              1         2611606           26                2  \n",
       "489865              1         4209102           42                4  \n",
       "\n",
       "[489866 rows x 10 columns]"
      ]
     },
     "execution_count": 15,
     "metadata": {},
     "output_type": "execute_result"
    }
   ],
   "source": [
    "arq1"
   ]
  },
  {
   "cell_type": "code",
   "execution_count": 14,
   "id": "02386736-ea3e-4872-b17d-a1b2f5594d2b",
   "metadata": {},
   "outputs": [],
   "source": [
    "col1 = arq1.pop(\"CO_CURSO\")       # Muda \"CO_CURSO\" em arq1 para primeira posição\n",
    "arq1.insert(0, col1.name, col1)"
   ]
  },
  {
   "cell_type": "code",
   "execution_count": 17,
   "id": "febdbc87-35fd-41c3-9fb2-89b75cde0338",
   "metadata": {},
   "outputs": [
    {
     "name": "stderr",
     "output_type": "stream",
     "text": [
      "/tmp/ipykernel_8977/374007805.py:3: DtypeWarning: Columns (12,14,15,43,44,45,46,47,48,49,50,51) have mixed types. Specify dtype option on import or set low_memory=False.\n",
      "  arq = pd.read_csv(f'dados_21_Atributos/arq{i}.csv')\n"
     ]
    }
   ],
   "source": [
    "filesID = [2, 3, 4, 5, 6, 7, 8, 10, 11, 12, 13, 14, 16, 17, 23, 24, 28, 29]\n",
    "for i in filesID:\n",
    "    arq = pd.read_csv(f'dados_21_Atributos/arq{i}.csv')\n",
    "    col = arq.pop(\"CO_CURSO\")       \n",
    "    arq.insert(0, col.name, col)\n",
    "    arqSorted = arq.sort_values('CO_CURSO')\n",
    "    arqSorted = arqSorted.reset_index(drop=True) \n",
    "    arqSorted.to_csv('dados_21_Ajustado/{}.csv'.format(f'arq{i}'),index=False)"
   ]
  },
  {
   "cell_type": "code",
   "execution_count": 18,
   "id": "5b76cd03-d09a-4fbd-917f-d92f64261d0b",
   "metadata": {},
   "outputs": [],
   "source": [
    "# Parei aqui: ler todos os arquivos ajustados e concatenar todos com o arq1\n",
    "arq1 = pd.read_csv('dados_21_csv/arq1.csv')\n",
    "arq1 = pd.read_csv('dados_21_csv/arq1.csv')\n",
    "arq1 = pd.read_csv('dados_21_csv/arq1.csv')\n",
    "arq1 = pd.read_csv('dados_21_csv/arq1.csv')\n",
    "arq1 = pd.read_csv('dados_21_csv/arq1.csv')\n",
    "arq1 = pd.read_csv('dados_21_csv/arq1.csv')\n",
    "arq1 = pd.read_csv('dados_21_csv/arq1.csv')"
   ]
  },
  {
   "cell_type": "code",
   "execution_count": null,
   "id": "3825ccaf-f590-4f90-9bd3-e620ff1e13e4",
   "metadata": {},
   "outputs": [],
   "source": [
    "concat1_2 = pd.concat([arq1, arq2Sorted], axis=1)  # Concatena os arquivos arq1 e arq2"
   ]
  },
  {
   "cell_type": "code",
   "execution_count": null,
   "id": "b90a1f48-4bac-4033-bc20-4eb725de3993",
   "metadata": {},
   "outputs": [],
   "source": [
    "concat1_2"
   ]
  },
  {
   "cell_type": "code",
   "execution_count": null,
   "id": "5bc2fcc4-a565-4bba-a6b0-ffe06e2e4ed2",
   "metadata": {},
   "outputs": [],
   "source": [
    "remDuplic = concat1_2.loc[:,~concat1_2.columns.duplicated()]   # Remove as colunas duplicadas da concatenação"
   ]
  },
  {
   "cell_type": "code",
   "execution_count": null,
   "id": "ce5d2162-611f-4921-a84c-cbb75310e64a",
   "metadata": {},
   "outputs": [],
   "source": [
    "remDuplic"
   ]
  },
  {
   "cell_type": "code",
   "execution_count": null,
   "id": "e628ac7c-11b7-4f6d-9566-6151cefc31ae",
   "metadata": {},
   "outputs": [],
   "source": [
    "cursosComputacao = remDuplic[remDuplic[\"CO_GRUPO\"].isin([72, 4004, 6409, 4005, 79, 4006])]"
   ]
  },
  {
   "cell_type": "code",
   "execution_count": null,
   "id": "7ccf9b20-f170-44b7-ad24-ee79a5382a87",
   "metadata": {},
   "outputs": [],
   "source": [
    "cursosComputacao"
   ]
  },
  {
   "cell_type": "code",
   "execution_count": null,
   "id": "4fdcb012-ca44-463a-873b-6fb239d8d265",
   "metadata": {},
   "outputs": [],
   "source": [
    "reset1_2 = cursosComputacao.reset_index(drop=True)   # Organiza os indexes depois da seleção dos dados"
   ]
  },
  {
   "cell_type": "code",
   "execution_count": null,
   "id": "00fda5c4-de8c-4d34-ba70-5ee23780975d",
   "metadata": {},
   "outputs": [],
   "source": [
    "reset1_2"
   ]
  },
  {
   "cell_type": "code",
   "execution_count": null,
   "id": "46888a4d-dd64-4612-bf8b-c5bbe5f35197",
   "metadata": {},
   "outputs": [],
   "source": [
    "# Seleciona os atributos desejados dos arquivos arq1 e arq2\n",
    "atrs1_2 = reset1_2[['NU_ANO','CO_CURSO','CO_GRUPO', 'CO_UF_CURSO', 'CO_REGIAO_CURSO', 'CO_CATEGAD', 'CO_ORGACAD', 'CO_TURNO_GRADUACAO', 'ANO_FIM_EM', 'ANO_IN_GRAD']]"
   ]
  },
  {
   "cell_type": "code",
   "execution_count": null,
   "id": "d7f89514-3003-4d93-b925-8ab811990728",
   "metadata": {},
   "outputs": [],
   "source": [
    "atrs1_2"
   ]
  },
  {
   "cell_type": "code",
   "execution_count": null,
   "id": "4e8f478c-5ded-4550-9e78-c6e12e53b665",
   "metadata": {},
   "outputs": [],
   "source": [
    "#validScores = arq3[arq3[\"TP_PRES\"] == 555]"
   ]
  }
 ],
 "metadata": {
  "kernelspec": {
   "display_name": "Python 3 (ipykernel)",
   "language": "python",
   "name": "python3"
  },
  "language_info": {
   "codemirror_mode": {
    "name": "ipython",
    "version": 3
   },
   "file_extension": ".py",
   "mimetype": "text/x-python",
   "name": "python",
   "nbconvert_exporter": "python",
   "pygments_lexer": "ipython3",
   "version": "3.9.13"
  }
 },
 "nbformat": 4,
 "nbformat_minor": 5
}
