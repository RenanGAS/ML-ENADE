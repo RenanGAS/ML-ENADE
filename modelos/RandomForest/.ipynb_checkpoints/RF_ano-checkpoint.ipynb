{
 "cells": [
  {
   "cell_type": "code",
   "execution_count": 1,
   "id": "6b3f8b68-0501-43f6-b611-f61786612442",
   "metadata": {},
   "outputs": [],
   "source": [
    "import pandas as pd\n",
    "import numpy as np\n",
    "\n",
    "from sklearn.model_selection import train_test_split\n",
    "from sklearn.ensemble import RandomForestClassifier\n",
    "\n",
    "from sklearn.experimental import enable_halving_search_cv\n",
    "from sklearn.model_selection import HalvingGridSearchCV\n",
    "\n",
    "import graphviz\n",
    "import matplotlib.pyplot as plt\n",
    "from sklearn.metrics import confusion_matrix, ConfusionMatrixDisplay\n",
    "\n",
    "from sklearn.metrics import top_k_accuracy_score\n",
    "from sklearn.preprocessing import StandardScaler, MinMaxScaler\n",
    "\n",
    "from sklearn.model_selection import KFold\n",
    "from sklearn.model_selection import cross_val_score\n",
    "\n",
    "from sklearn.metrics import f1_score"
   ]
  },
  {
   "cell_type": "markdown",
   "id": "41ead6fb-adda-4d6c-a6ac-eb1dbba73e68",
   "metadata": {},
   "source": [
    "### Carregamento do conjunto de dados de todos os anos"
   ]
  },
  {
   "cell_type": "code",
   "execution_count": 2,
   "id": "ddd88b2f-bdc8-4165-9ed3-5665a1321b71",
   "metadata": {},
   "outputs": [],
   "source": [
    "ano = 2021\n",
    "enade_ano = pd.read_csv(f\"../../concept_drift/tabela_final_{ano}_treinamento.csv\")"
   ]
  },
  {
   "cell_type": "markdown",
   "id": "a612f85a-f4a7-489f-a489-e38ffaadd90f",
   "metadata": {},
   "source": [
    "### Cross-validation (k = 5)"
   ]
  },
  {
   "cell_type": "code",
   "execution_count": 3,
   "id": "56db07f9-f65b-48b4-9299-5a4bef02b6d5",
   "metadata": {},
   "outputs": [],
   "source": [
    "k = 5"
   ]
  },
  {
   "cell_type": "code",
   "execution_count": 4,
   "id": "222fd652-8e47-42d1-8e8f-084f31d9fa7d",
   "metadata": {},
   "outputs": [],
   "source": [
    "array_folds = np.array_split(enade_ano, k)"
   ]
  },
  {
   "cell_type": "code",
   "execution_count": 5,
   "id": "93762281-dd89-40bf-b76b-ac6ed813c052",
   "metadata": {},
   "outputs": [
    {
     "name": "stdout",
     "output_type": "stream",
     "text": [
      "Teste: fold 0\n",
      "Classificador: \n",
      "\n",
      "RandomForestClassifier(ccp_alpha=0.001, criterion='entropy',\n",
      "                       min_samples_leaf=10, n_estimators=60)\n",
      "\n",
      "Resultado: 0.5015981624974305\n",
      "\n",
      "Teste: fold 1\n",
      "Classificador: \n",
      "\n",
      "RandomForestClassifier(ccp_alpha=0.0015, criterion='entropy',\n",
      "                       min_samples_leaf=10, n_estimators=200)\n",
      "\n",
      "Resultado: 0.45965273129363704\n",
      "\n",
      "Teste: fold 2\n",
      "Classificador: \n",
      "\n",
      "RandomForestClassifier(ccp_alpha=0.001, criterion='entropy',\n",
      "                       min_samples_leaf=10)\n",
      "\n",
      "Resultado: 0.4701135731094308\n",
      "\n",
      "Teste: fold 3\n",
      "Classificador: \n",
      "\n",
      "RandomForestClassifier(ccp_alpha=0.001, criterion='entropy',\n",
      "                       min_samples_leaf=10)\n",
      "\n",
      "Resultado: 0.4590075520915507\n",
      "\n",
      "Teste: fold 4\n",
      "Classificador: \n",
      "\n",
      "RandomForestClassifier(ccp_alpha=0.001, criterion='entropy',\n",
      "                       min_samples_leaf=10)\n",
      "\n",
      "Resultado: 0.5128348417863583\n",
      "\n"
     ]
    }
   ],
   "source": [
    "for i_fold in range(k):\n",
    "    \n",
    "    # Separação dos folds\n",
    "    \n",
    "    folds_treinamento = array_folds.copy()\n",
    "    fold_teste = array_folds[i_fold]\n",
    "    \n",
    "    del folds_treinamento[i_fold]\n",
    "    \n",
    "    folds_treinamento = pd.concat(folds_treinamento, sort=False)\n",
    "    \n",
    "    # Separação em X e y\n",
    "    \n",
    "    numero_caracteristicas = enade_ano.shape[1] - 1\n",
    "    \n",
    "    X_folds_treinamento = folds_treinamento.iloc[:, 0:numero_caracteristicas]\n",
    "    y_folds_treinamento = folds_treinamento.iloc[:, -1]\n",
    "    \n",
    "    X_fold_teste = fold_teste.iloc[:, 0:numero_caracteristicas]\n",
    "    y_fold_teste = fold_teste.iloc[:, -1]\n",
    "    \n",
    "    # Normalização de treino e teste\n",
    "    \n",
    "    normalizador_treinamento = StandardScaler()\n",
    "    \n",
    "    normalizador_treinamento.fit(X_folds_treinamento)\n",
    "    treinamento_normalizado = normalizador_treinamento.transform(X_folds_treinamento)\n",
    "    \n",
    "    normalizador_teste = StandardScaler()\n",
    "    \n",
    "    normalizador_teste.fit(X_fold_teste)\n",
    "    teste_normalizado = normalizador_teste.transform(X_fold_teste)\n",
    "    \n",
    "    # Busca por hyperparâmetros\n",
    "    \n",
    "    parametros_para_busca = {\"n_estimators\": [60, 100, 200],\n",
    "                              \"criterion\":['gini', 'entropy'],\n",
    "                              \"min_samples_leaf\": [10, 30, 50],\n",
    "                              \"ccp_alpha\": [0.001, 0.0015, 0.0017, 0.002]}\n",
    "    \n",
    "    classificador = RandomForestClassifier()\n",
    "    \n",
    "    busca = HalvingGridSearchCV(classificador, parametros_para_busca, scoring=\"f1_weighted\").fit(treinamento_normalizado, y_folds_treinamento)\n",
    "    \n",
    "    busca.best_estimator_.fit(treinamento_normalizado, y_folds_treinamento)\n",
    "    y_predito = busca.best_estimator_.predict(teste_normalizado)\n",
    "    \n",
    "    melhor_classificador = str(busca.best_estimator_)\n",
    "    resultado = f1_score(y_fold_teste, y_predito, average='weighted')\n",
    "    \n",
    "    print(f\"Teste: fold {i_fold}\")\n",
    "    print(f\"Classificador: \\n\\n{melhor_classificador}\\n\")\n",
    "    print(f\"Resultado: {resultado}\\n\")"
   ]
  },
  {
   "cell_type": "markdown",
   "id": "5b784e8e-657c-4cfd-9885-61bf709d49e6",
   "metadata": {},
   "source": [
    "### Matriz de Confusão"
   ]
  },
  {
   "cell_type": "code",
   "execution_count": 14,
   "id": "3e010b3e-2e96-4883-b7f7-2a3fdac9aa68",
   "metadata": {},
   "outputs": [],
   "source": [
    "y_pred = search.predict(X_test)"
   ]
  },
  {
   "cell_type": "code",
   "execution_count": null,
   "id": "0e869b83-1dac-4988-90d5-540a6187c443",
   "metadata": {},
   "outputs": [],
   "source": [
    "cm = confusion_matrix(y_test, y_pred, labels=search.classes_)\n",
    "disp = ConfusionMatrixDisplay(confusion_matrix=cm,\n",
    "                              display_labels=search.classes_)\n",
    "disp.plot()\n",
    "plt.show()"
   ]
  }
 ],
 "metadata": {
  "kernelspec": {
   "display_name": "Python 3 (ipykernel)",
   "language": "python",
   "name": "python3"
  },
  "language_info": {
   "codemirror_mode": {
    "name": "ipython",
    "version": 3
   },
   "file_extension": ".py",
   "mimetype": "text/x-python",
   "name": "python",
   "nbconvert_exporter": "python",
   "pygments_lexer": "ipython3",
   "version": "3.9.13"
  }
 },
 "nbformat": 4,
 "nbformat_minor": 5
}
