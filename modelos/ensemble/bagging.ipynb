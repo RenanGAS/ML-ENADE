{
 "cells": [
  {
   "cell_type": "code",
   "execution_count": 1,
   "id": "0f9d4865-cb3d-469d-afea-f63b553db964",
   "metadata": {},
   "outputs": [],
   "source": [
    "import pandas as pd\n",
    "import numpy as np\n",
    "\n",
    "from sklearn.neighbors import (NeighborhoodComponentsAnalysis, KNeighborsClassifier)\n",
    "from sklearn.neural_network import MLPClassifier\n",
    "from sklearn.svm import SVC\n",
    "from sklearn import tree\n",
    "from sklearn.ensemble import RandomForestClassifier\n",
    "\n",
    "from sklearn.model_selection import train_test_split\n",
    "from sklearn.experimental import enable_halving_search_cv\n",
    "from sklearn.model_selection import HalvingGridSearchCV\n",
    "from sklearn.preprocessing import StandardScaler, MinMaxScaler\n",
    "from sklearn.model_selection import KFold\n",
    "from sklearn.model_selection import cross_val_score\n",
    "from sklearn.metrics import f1_score\n",
    "\n",
    "import warnings"
   ]
  },
  {
   "cell_type": "code",
   "execution_count": 2,
   "id": "2ef6453e-8f91-4764-9fd0-a79069da669b",
   "metadata": {},
   "outputs": [],
   "source": [
    "from sklearn.ensemble import BaggingClassifier"
   ]
  },
  {
   "cell_type": "code",
   "execution_count": 3,
   "id": "df743a87-c4d0-4355-8644-d1d301a194ce",
   "metadata": {},
   "outputs": [],
   "source": [
    "warnings.filterwarnings('ignore')"
   ]
  },
  {
   "cell_type": "code",
   "execution_count": 4,
   "id": "cf19692e-d903-41a1-8ce7-be9a411fbe3b",
   "metadata": {},
   "outputs": [],
   "source": [
    "dtClassifier = tree.DecisionTreeClassifier()\n",
    "knnClassifier = KNeighborsClassifier()\n",
    "rfClassifier = RandomForestClassifier()\n",
    "svmClassifier = SVC(probability=True)\n",
    "mlpClassifier = MLPClassifier()"
   ]
  },
  {
   "cell_type": "code",
   "execution_count": 7,
   "id": "21060fca-6763-4358-be30-1e31d9b8de29",
   "metadata": {},
   "outputs": [],
   "source": [
    "enade_todos_anos = pd.read_csv(\"../../teste_OHE_curso_treinamento.csv\")"
   ]
  },
  {
   "cell_type": "code",
   "execution_count": 10,
   "id": "58b99877-2f9f-48a9-aad5-53ec39e78041",
   "metadata": {},
   "outputs": [
    {
     "name": "stdout",
     "output_type": "stream",
     "text": [
      "0.5096477646393963 0.47095918725074065 0.4567084547090056 0.43593542176789374 0.43775497449438955 "
     ]
    }
   ],
   "source": [
    "k = 5\n",
    "\n",
    "array_folds = np.array_split(enade_todos_anos, k)\n",
    "\n",
    "for i_fold in range(k):\n",
    "    \n",
    "    # Separação dos folds\n",
    "    \n",
    "    folds_treinamento = array_folds.copy()\n",
    "    fold_teste = array_folds[i_fold]\n",
    "    \n",
    "    del folds_treinamento[i_fold]\n",
    "    \n",
    "    folds_treinamento = pd.concat(folds_treinamento, sort=False)\n",
    "    \n",
    "    # Separação em X e y\n",
    "    \n",
    "    numero_caracteristicas = enade_todos_anos.shape[1] - 1\n",
    "    \n",
    "    X_folds_treinamento = folds_treinamento.iloc[:, 0:numero_caracteristicas]\n",
    "    y_folds_treinamento = folds_treinamento.iloc[:, -1]\n",
    "    \n",
    "    X_fold_teste = fold_teste.iloc[:, 0:numero_caracteristicas]\n",
    "    y_fold_teste = fold_teste.iloc[:, -1]\n",
    "    \n",
    "    # Normalização de treino e teste\n",
    "    \n",
    "    normalizador_treinamento = StandardScaler()\n",
    "    \n",
    "    normalizador_treinamento.fit(X_folds_treinamento)\n",
    "    treinamento_normalizado = normalizador_treinamento.transform(X_folds_treinamento)\n",
    "    \n",
    "    normalizador_teste = StandardScaler()\n",
    "    \n",
    "    normalizador_teste.fit(X_fold_teste)\n",
    "    teste_normalizado = normalizador_teste.transform(X_fold_teste)\n",
    "    \n",
    "    parametros_para_busca = {\"C\": [0.01, 0.1, 1, 10, 100], \n",
    "                              \"kernel\": [\"linear\", \"poly\", \"rbf\"],\n",
    "                              \"gamma\": [0.1, 1, 10],\n",
    "                              \"tol\": [0.1, 0.001, 0.00001]}\n",
    "    \n",
    "    buscaParam = HalvingGridSearchCV(svmClassifier, parametros_para_busca, scoring=\"f1_weighted\").fit(treinamento_normalizado, y_folds_treinamento)\n",
    "    \n",
    "    baggingClassifier = BaggingClassifier(buscaParam.best_estimator_)\n",
    "    baggingClassifier.fit(treinamento_normalizado, y_folds_treinamento)\n",
    "    \n",
    "    y_predito = baggingClassifier.predict(teste_normalizado)\n",
    "    \n",
    "    resultado = f1_score(y_fold_teste, y_predito, average='weighted')\n",
    "    \n",
    "    # print(f\"Teste: fold {i_fold}\")\n",
    "    # print(f\"Classificador: \\n\\n{melhor_classificador}\\n\")\n",
    "    print(f\"{resultado} \", end=\"\")"
   ]
  },
  {
   "cell_type": "code",
   "execution_count": null,
   "id": "42d99a96-d970-4ef5-bc4f-10337f77df18",
   "metadata": {},
   "outputs": [],
   "source": []
  }
 ],
 "metadata": {
  "kernelspec": {
   "display_name": "Python 3 (ipykernel)",
   "language": "python",
   "name": "python3"
  },
  "language_info": {
   "codemirror_mode": {
    "name": "ipython",
    "version": 3
   },
   "file_extension": ".py",
   "mimetype": "text/x-python",
   "name": "python",
   "nbconvert_exporter": "python",
   "pygments_lexer": "ipython3",
   "version": "3.9.13"
  }
 },
 "nbformat": 4,
 "nbformat_minor": 5
}
