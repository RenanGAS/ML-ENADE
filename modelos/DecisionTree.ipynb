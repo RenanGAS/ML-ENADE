{
 "cells": [
  {
   "cell_type": "code",
   "execution_count": 1,
   "id": "a417832e-bab2-46ed-b338-5d4b07ab0b40",
   "metadata": {},
   "outputs": [],
   "source": [
    "import pandas as pd\n",
    "import numpy as np\n",
    "from sklearn import tree\n",
    "from sklearn.model_selection import train_test_split\n",
    "import graphviz \n",
    "\n",
    "from sklearn.experimental import enable_halving_search_cv\n",
    "from sklearn.model_selection import HalvingGridSearchCV\n",
    "from sklearn.model_selection import HalvingRandomSearchCV\n",
    "\n",
    "import matplotlib.pyplot as plt\n",
    "\n",
    "from sklearn.metrics import confusion_matrix, ConfusionMatrixDisplay\n",
    "\n",
    "from sklearn.metrics import top_k_accuracy_score\n",
    "from sklearn.preprocessing import StandardScaler\n",
    "from sklearn.manifold import TSNE\n",
    "from sklearn.decomposition import PCA"
   ]
  },
  {
   "cell_type": "code",
   "execution_count": 2,
   "id": "d3eb23d9-9776-45cc-90bf-8624917d67d0",
   "metadata": {},
   "outputs": [],
   "source": [
    "data = pd.read_csv(\"../tabela_final_treinamento.csv\")\n",
    "\n",
    "X = data.iloc[:, 0:225]\n",
    "Y = data.iloc[:, -1]"
   ]
  },
  {
   "cell_type": "code",
   "execution_count": null,
   "id": "ba370078-bc22-4e20-9f0e-2d1f11948780",
   "metadata": {},
   "outputs": [],
   "source": [
    "mostrar_distribuicao(data, [1,2,3,4,5])"
   ]
  },
  {
   "cell_type": "code",
   "execution_count": 3,
   "id": "74e5043b-d342-474d-ab0b-6c885de6e211",
   "metadata": {},
   "outputs": [],
   "source": [
    "X_train, X_test, y_train, y_test = train_test_split(X, Y, test_size=0.20, random_state=42)"
   ]
  },
  {
   "cell_type": "code",
   "execution_count": 12,
   "id": "ce91e257-41c0-4058-9aa9-046c2dc04158",
   "metadata": {},
   "outputs": [],
   "source": [
    "pca = PCA(n_components=2)\n",
    "pca.fit(X_test)\n",
    "X_transformado = pca.transform(X_train)"
   ]
  },
  {
   "cell_type": "code",
   "execution_count": 13,
   "id": "a6839f28-e5e5-425e-8d51-09d90a96fcb3",
   "metadata": {},
   "outputs": [],
   "source": [
    "X_embedded = TSNE(n_components=2, learning_rate='auto',\n",
    "                  init='random', perplexity=3).fit_transform(X_transformado)"
   ]
  },
  {
   "cell_type": "code",
   "execution_count": 17,
   "id": "84d2f486-002d-4ae8-a579-9ed10b09f35d",
   "metadata": {},
   "outputs": [
    {
     "data": {
      "text/plain": [
       "(4670, 2)"
      ]
     },
     "execution_count": 17,
     "metadata": {},
     "output_type": "execute_result"
    }
   ],
   "source": [
    "X_embedded.shape"
   ]
  },
  {
   "cell_type": "code",
   "execution_count": 4,
   "id": "12f2e9e1-1b9d-4bf7-afbf-f0d40493db95",
   "metadata": {},
   "outputs": [],
   "source": [
    "scaler_train = StandardScaler()"
   ]
  },
  {
   "cell_type": "code",
   "execution_count": 5,
   "id": "6f7575d2-1bc5-475f-8e28-f0753cbbb7f9",
   "metadata": {},
   "outputs": [
    {
     "data": {
      "text/plain": [
       "array([[-0.04968617,  0.61027643,  4.1178212 , ...,  1.86206751,\n",
       "         0.54685336,  1.2805709 ],\n",
       "       [-0.04968617, -0.12847786,  0.3729866 , ..., -0.43265614,\n",
       "        -0.33926919, -0.0528784 ],\n",
       "       [-0.04968617, -0.15925929, -0.62563597, ..., -0.43265614,\n",
       "        -0.33926919, -0.11637598],\n",
       "       ...,\n",
       "       [-0.04968617, -0.22082215, -0.32050129, ..., -0.43265614,\n",
       "        -0.33926919, -0.0528784 ],\n",
       "       [-0.04968617, -0.25160358, -0.18180372, ...,  0.71470569,\n",
       "        -0.33926919, -0.0528784 ],\n",
       "       [-0.04968617, -0.19004072, -0.04310614, ...,  0.14102477,\n",
       "        -0.33926919, -0.0528784 ]])"
      ]
     },
     "execution_count": 5,
     "metadata": {},
     "output_type": "execute_result"
    }
   ],
   "source": [
    "scaler_train.fit(X_train)\n",
    "normalized_train = scaler_train.transform(X_train)\n",
    "normalized_train"
   ]
  },
  {
   "cell_type": "code",
   "execution_count": 6,
   "id": "c618946a-8a88-474a-b671-e96963c39500",
   "metadata": {},
   "outputs": [],
   "source": [
    "scaler_test = StandardScaler()"
   ]
  },
  {
   "cell_type": "code",
   "execution_count": 7,
   "id": "dc2ffcc6-3f00-47a6-b362-2084e12f495f",
   "metadata": {},
   "outputs": [
    {
     "data": {
      "text/plain": [
       "array([[-0.06447249, -0.34951667, -0.54319949, ..., -0.41814327,\n",
       "        -0.28680791, -0.30093008],\n",
       "       [-0.06447249, -0.13693831,  0.04523689, ...,  0.16051945,\n",
       "        -0.28680791, -0.30093008],\n",
       "       [-0.06447249, -0.22196966, -0.5186813 , ..., -0.41814327,\n",
       "        -0.28680791, -0.30093008],\n",
       "       ...,\n",
       "       [-0.06447249,  0.16067138,  0.48656416, ...,  0.73918218,\n",
       "        -0.28680791, -0.12964044],\n",
       "       [-0.06447249, -0.307001  , -0.49416312, ..., -0.41814327,\n",
       "        -0.28680791, -0.30093008],\n",
       "       [-0.06447249, -0.17945399, -0.59223585, ..., -0.41814327,\n",
       "        -0.28680791, -0.30093008]])"
      ]
     },
     "execution_count": 7,
     "metadata": {},
     "output_type": "execute_result"
    }
   ],
   "source": [
    "scaler_test.fit(X_test)\n",
    "normalized_test = scaler_test.transform(X_test)\n",
    "normalized_test"
   ]
  },
  {
   "cell_type": "code",
   "execution_count": null,
   "id": "80455968-e66e-4ca0-b7dc-e5dd1ac78a19",
   "metadata": {},
   "outputs": [],
   "source": [
    "df_concat_X_y_train = pd.concat([X_train, y_train], axis=1)"
   ]
  },
  {
   "cell_type": "code",
   "execution_count": null,
   "id": "2a1217bc-6c11-4e58-9839-b95b041e25f9",
   "metadata": {},
   "outputs": [],
   "source": [
    "def contar_classes(dataset, classes):\n",
    "    dict_ocorrencias = {}\n",
    "    for classe in classes:\n",
    "        numero_de_ocorrencias = dataset[\"Nota_Conceito_Faixa\"].value_counts()[classe]\n",
    "        dict_ocorrencias[f\"{classe}\"] = numero_de_ocorrencias\n",
    "    return dict_ocorrencias\n",
    "\n",
    "def mostrar_distribuicao(dataset, classes):\n",
    "    dict_ocorrencias = contar_classes(dataset, classes)\n",
    "    \n",
    "    plt.style.use('_mpl-gallery')\n",
    "    \n",
    "    x = dict_ocorrencias.keys()\n",
    "   \n",
    "    y = dict_ocorrencias.values()\n",
    "    \n",
    "    fig, ax = plt.subplots(figsize=(5,3))\n",
    "\n",
    "    ax.bar(x, y, width=1, edgecolor=\"white\")\n",
    "\n",
    "    ax.set(xlim=(-1, 5), xticks=np.arange(0, 5, 1),\n",
    "           ylim=(0, 3500), yticks=np.arange(0, 3500, 500))\n",
    "    \n",
    "    plt.show()"
   ]
  },
  {
   "cell_type": "code",
   "execution_count": null,
   "id": "d9994058-a406-4c4e-92b1-ecab6d4b7e8c",
   "metadata": {},
   "outputs": [],
   "source": [
    "mostrar_distribuicao(df_concat_X_y_train, [1,2,3,4,5])"
   ]
  },
  {
   "cell_type": "code",
   "execution_count": null,
   "id": "ff67aa59-67b3-4c62-8b3e-4d73d4bbbf60",
   "metadata": {},
   "outputs": [],
   "source": [
    "df_concat_X_y_test = pd.concat([X_test, y_test], axis=1)"
   ]
  },
  {
   "cell_type": "code",
   "execution_count": null,
   "id": "02b7db3c-1fe8-4981-af6b-a92d6378edac",
   "metadata": {},
   "outputs": [],
   "source": [
    "mostrar_distribuicao(df_concat_X_y_test, [1,2,3,4,5])"
   ]
  },
  {
   "cell_type": "code",
   "execution_count": 8,
   "id": "45ab1e53-1a10-4743-a272-6d5db664b2ed",
   "metadata": {},
   "outputs": [],
   "source": [
    "classfier = tree.DecisionTreeClassifier(random_state = 42)"
   ]
  },
  {
   "cell_type": "code",
   "execution_count": null,
   "id": "77008b4d-e6a9-4375-9fae-5611ece52d2d",
   "metadata": {},
   "outputs": [],
   "source": [
    "# Visualização das mudanças nas características da árvore conforme aumentamos o valor de ccp_alpha"
   ]
  },
  {
   "cell_type": "code",
   "execution_count": null,
   "id": "d2256b45-e860-4f46-b341-0ab3fdfeabc7",
   "metadata": {},
   "outputs": [],
   "source": [
    "path = classfier.cost_complexity_pruning_path(X_train, y_train)\n",
    "ccp_alphas, impurities = path.ccp_alphas, path.impurities"
   ]
  },
  {
   "cell_type": "code",
   "execution_count": null,
   "id": "8c1c4411-4c4b-42a3-911f-55d6cdf31b3e",
   "metadata": {},
   "outputs": [],
   "source": [
    "fig, ax = plt.subplots()\n",
    "ax.plot(ccp_alphas[:-1], impurities[:-1], marker=\"o\", drawstyle=\"steps-post\")\n",
    "ax.set_xlabel(\"effective alpha\")\n",
    "ax.set_ylabel(\"total impurity of leaves\")\n",
    "ax.set_title(\"Total Impurity vs effective alpha for training set\")"
   ]
  },
  {
   "cell_type": "code",
   "execution_count": null,
   "id": "55afdc07-93dd-4391-af04-6cb40387c289",
   "metadata": {},
   "outputs": [],
   "source": [
    "clfs = []\n",
    "for ccp_alpha in ccp_alphas:\n",
    "    clf = tree.DecisionTreeClassifier(random_state=0, ccp_alpha=ccp_alpha)\n",
    "    clf.fit(X_train, y_train)\n",
    "    clfs.append(clf)\n",
    "print(\n",
    "    \"Number of nodes in the last tree is: {} with ccp_alpha: {}\".format(\n",
    "        clfs[-1].tree_.node_count, ccp_alphas[-1]\n",
    "    )\n",
    ")"
   ]
  },
  {
   "cell_type": "code",
   "execution_count": null,
   "id": "50803f93-0f31-469e-bf39-af2cf03eaaa1",
   "metadata": {},
   "outputs": [],
   "source": [
    "clfs = clfs[:-1]\n",
    "ccp_alphas = ccp_alphas[:-1]\n",
    "\n",
    "node_counts = [clf.tree_.node_count for clf in clfs]\n",
    "depth = [clf.tree_.max_depth for clf in clfs]\n",
    "fig, ax = plt.subplots(2, 1)\n",
    "ax[0].plot(ccp_alphas, node_counts, marker=\"o\", drawstyle=\"steps-post\")\n",
    "ax[0].set_xlabel(\"alpha\")\n",
    "ax[0].set_ylabel(\"number of nodes\")\n",
    "ax[0].set_title(\"Number of nodes vs alpha\")\n",
    "ax[1].plot(ccp_alphas, depth, marker=\"o\", drawstyle=\"steps-post\")\n",
    "ax[1].set_xlabel(\"alpha\")\n",
    "ax[1].set_ylabel(\"depth of tree\")\n",
    "ax[1].set_title(\"Depth vs alpha\")\n",
    "fig.tight_layout()"
   ]
  },
  {
   "cell_type": "code",
   "execution_count": null,
   "id": "b436426c-85c7-4624-beae-440fe7a08ce1",
   "metadata": {},
   "outputs": [],
   "source": [
    "train_scores = [clf.score(X_train, y_train) for clf in clfs]\n",
    "test_scores = [clf.score(X_test, y_test) for clf in clfs]\n",
    "\n",
    "fig, ax = plt.subplots()\n",
    "ax.set_xlabel(\"alpha\")\n",
    "ax.set_ylabel(\"accuracy\")\n",
    "ax.set_title(\"Accuracy vs alpha for training and testing sets\")\n",
    "ax.plot(ccp_alphas, train_scores, marker=\"o\", label=\"train\", drawstyle=\"steps-post\")\n",
    "ax.plot(ccp_alphas, test_scores, marker=\"o\", label=\"test\", drawstyle=\"steps-post\")\n",
    "ax.legend()\n",
    "plt.show()"
   ]
  },
  {
   "cell_type": "code",
   "execution_count": null,
   "id": "11c6869f-752b-4453-931b-f00eae43dbc8",
   "metadata": {},
   "outputs": [],
   "source": [
    "# Término do experimento"
   ]
  },
  {
   "cell_type": "code",
   "execution_count": null,
   "id": "9965d71d-c2c6-4ea9-ba57-9263a1857827",
   "metadata": {},
   "outputs": [],
   "source": [
    "classfier.get_params()"
   ]
  },
  {
   "cell_type": "code",
   "execution_count": null,
   "id": "24c95c60-a9eb-4c5e-a95a-725f93c8e9a9",
   "metadata": {},
   "outputs": [],
   "source": [
    "# Important parameters for HalvingGridSearchCV: param_grid (parameter's values of the estimator to test over the dataset), factor (3 -> selects the best 3 candidates parameters), agressive_elimination (True -> garantees that we will end up with factor candidates) and min_resources ('exhaust')\n",
    "# Candidate = a parameter combination\n",
    "# scoring = 'f1_score' ('accuracy_score' is set by default)\n",
    "# Separate data to the HalvingGridSearchCV and for the test of the result of it\n",
    "# error_score=0 -> prevents the search to fail during the process\n",
    "# cv is set to 5 by default, using StratifiedKFold (used Kfold keeping the classes percentage in each fold)\n",
    "# parm_grid = {\"criterion\":['gini', 'entropy'],\n",
    "#               \"random_state\": 42,\n",
    "#               \"min_impurity_decrease\": [0.1, 0.2, 0.25]\n",
    "#               \"min_samples_leaf\": [10, 30, 50],\n",
    "#               \"ccp_alpha\": [0.001, 0.0015, 0.0017, 0.002]\n",
    "                "
   ]
  },
  {
   "cell_type": "code",
   "execution_count": null,
   "id": "89a8396f-33b5-4436-97ec-fb8ae441ecc5",
   "metadata": {},
   "outputs": [],
   "source": [
    "# 0 -> score: 0.23~0.24\n",
    "#param_grid = {\"criterion\":['gini', 'entropy'],\n",
    "#              \"random_state\": [42],\n",
    "#              \"min_impurity_decrease\": [0.1, 0.2, 0.25],\n",
    "#              \"min_samples_leaf\": [10, 30, 50],\n",
    "#              \"ccp_alpha\": [0.001, 0.0015, 0.0017, 0.002]}"
   ]
  },
  {
   "cell_type": "code",
   "execution_count": 9,
   "id": "31611a81-7744-4159-bc61-4da21114af8a",
   "metadata": {},
   "outputs": [],
   "source": [
    "# 1 -> score: 0.42(train) 0.44(test)\n",
    "param_grid = {\"criterion\":['gini', 'entropy'],\n",
    "              \"min_samples_leaf\": [10, 30, 50],\n",
    "              \"ccp_alpha\": [0.001, 0.0015, 0.0017, 0.002]}"
   ]
  },
  {
   "cell_type": "code",
   "execution_count": null,
   "id": "05cd2c81-2bf9-456a-8832-28cce1e78338",
   "metadata": {},
   "outputs": [],
   "source": [
    "# 2 -> score: 0.42(train e test)\n",
    "param_grid = {\"criterion\":['gini', 'entropy'],\n",
    "              \"min_samples_leaf\": [10, 30, 50]}"
   ]
  },
  {
   "cell_type": "code",
   "execution_count": 10,
   "id": "262ff731-13d6-4c91-b267-57a09fd6602e",
   "metadata": {},
   "outputs": [],
   "source": [
    "search = HalvingGridSearchCV(classfier, param_grid, scoring=\"f1_weighted\").fit(X_train, y_train) "
   ]
  },
  {
   "cell_type": "code",
   "execution_count": 19,
   "id": "fdb52959-718d-4062-88c8-c97232a5f1b7",
   "metadata": {},
   "outputs": [],
   "source": [
    "search_normalized = HalvingGridSearchCV(classfier, param_grid, scoring=\"f1_weighted\").fit(normalized_train, y_train) "
   ]
  },
  {
   "cell_type": "code",
   "execution_count": null,
   "id": "20ba3f98-4244-4356-b1a7-90e9e81af2c6",
   "metadata": {},
   "outputs": [],
   "source": [
    "search.best_params_ "
   ]
  },
  {
   "cell_type": "code",
   "execution_count": null,
   "id": "22bc58c3-bda9-4399-973e-c613c29bdaf6",
   "metadata": {},
   "outputs": [],
   "source": [
    "search.best_estimator_"
   ]
  },
  {
   "cell_type": "code",
   "execution_count": null,
   "id": "de18b1b7-efc2-4cf6-94eb-9fa2906e17dc",
   "metadata": {},
   "outputs": [],
   "source": [
    "search.best_score_"
   ]
  },
  {
   "cell_type": "code",
   "execution_count": 11,
   "id": "c8bc09e7-0d0a-44bf-a567-be4f4b4cec86",
   "metadata": {},
   "outputs": [
    {
     "data": {
      "text/plain": [
       "0.4405753176951499"
      ]
     },
     "execution_count": 11,
     "metadata": {},
     "output_type": "execute_result"
    }
   ],
   "source": [
    "search.score(X_test, y_test)"
   ]
  },
  {
   "cell_type": "code",
   "execution_count": 20,
   "id": "2e0b3ba2-d76e-442f-94f4-9593311fb968",
   "metadata": {},
   "outputs": [
    {
     "data": {
      "text/plain": [
       "0.4143875282104836"
      ]
     },
     "execution_count": 20,
     "metadata": {},
     "output_type": "execute_result"
    }
   ],
   "source": [
    "search_normalized.score(normalized_test, y_test)"
   ]
  },
  {
   "cell_type": "code",
   "execution_count": 21,
   "id": "b0a71c32-68bc-4e1b-96ea-db9d4b9ef9ed",
   "metadata": {},
   "outputs": [],
   "source": [
    "y_score = search.predict_proba(X_test)"
   ]
  },
  {
   "cell_type": "code",
   "execution_count": null,
   "id": "256c3622-4fc0-4fcb-a65d-c8d4db42998b",
   "metadata": {},
   "outputs": [],
   "source": [
    "y_score"
   ]
  },
  {
   "cell_type": "code",
   "execution_count": 23,
   "id": "a90b0a9c-293d-472f-a63e-6b83eb860c90",
   "metadata": {},
   "outputs": [
    {
     "data": {
      "text/plain": [
       "0.9058219178082192"
      ]
     },
     "execution_count": 23,
     "metadata": {},
     "output_type": "execute_result"
    }
   ],
   "source": [
    "top_k_accuracy_score(y_test, y_score, k=3, labels=[1, 2, 3, 4, 5])"
   ]
  },
  {
   "cell_type": "code",
   "execution_count": null,
   "id": "fd1ca2de-2d71-4f77-8fbc-c742a43d0208",
   "metadata": {},
   "outputs": [],
   "source": [
    "# Matriz de Confusão"
   ]
  },
  {
   "cell_type": "code",
   "execution_count": 12,
   "id": "2c5bd0df-94c2-4af6-8b69-08322e71c353",
   "metadata": {},
   "outputs": [],
   "source": [
    "y_pred = search.predict(X_test)"
   ]
  },
  {
   "cell_type": "code",
   "execution_count": 13,
   "id": "f5831514-b0e5-4393-b73e-fd791cd07b16",
   "metadata": {},
   "outputs": [
    {
     "data": {
      "text/plain": [
       "array([5, 3, 2, ..., 2, 5, 2])"
      ]
     },
     "execution_count": 13,
     "metadata": {},
     "output_type": "execute_result"
    }
   ],
   "source": [
    "y_pred"
   ]
  },
  {
   "cell_type": "code",
   "execution_count": 18,
   "id": "72a6f1dd-6006-4a23-9df6-16dc7039a36c",
   "metadata": {},
   "outputs": [
    {
     "data": {
      "image/png": "[encoded data removed]",
      "text/plain": [
       "<Figure size 640x480 with 2 Axes>"
      ]
     },
     "metadata": {},
     "output_type": "display_data"
    }
   ],
   "source": [
    "cm = confusion_matrix(y_test, y_pred, labels=search.classes_)\n",
    "disp = ConfusionMatrixDisplay(confusion_matrix=cm,\n",
    "                              display_labels=search.classes_)\n",
    "disp.plot()\n",
    "plt.savefig('sample.png')\n",
    "plt.show()"
   ]
  },
  {
   "cell_type": "code",
   "execution_count": null,
   "id": "8fade89f-7320-41e3-b28d-4471cde720fb",
   "metadata": {},
   "outputs": [],
   "source": []
  }
 ],
 "metadata": {
  "kernelspec": {
   "display_name": "Python 3 (ipykernel)",
   "language": "python",
   "name": "python3"
  },
  "language_info": {
   "codemirror_mode": {
    "name": "ipython",
    "version": 3
   },
   "file_extension": ".py",
   "mimetype": "text/x-python",
   "name": "python",
   "nbconvert_exporter": "python",
   "pygments_lexer": "ipython3",
   "version": "3.9.13"
  }
 },
 "nbformat": 4,
 "nbformat_minor": 5
}
