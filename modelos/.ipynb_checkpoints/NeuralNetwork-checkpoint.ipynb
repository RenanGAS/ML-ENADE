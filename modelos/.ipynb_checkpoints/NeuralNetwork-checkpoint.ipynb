{
 "cells": [
  {
   "cell_type": "code",
   "execution_count": 1,
   "id": "86af9735-8464-4023-a48b-eaa5e85ad425",
   "metadata": {},
   "outputs": [],
   "source": [
    "import pandas as pd\n",
    "import numpy as np\n",
    "\n",
    "from sklearn.neural_network import MLPClassifier\n",
    "from sklearn.model_selection import train_test_split\n",
    "\n",
    "from sklearn.experimental import enable_halving_search_cv\n",
    "from sklearn.model_selection import HalvingGridSearchCV\n",
    "\n",
    "import graphviz \n",
    "import matplotlib.pyplot as plt\n",
    "from sklearn.metrics import confusion_matrix, ConfusionMatrixDisplay"
   ]
  },
  {
   "cell_type": "code",
   "execution_count": 2,
   "id": "25db4a6b-5068-441a-9e65-9f471f863755",
   "metadata": {},
   "outputs": [],
   "source": [
    "data = pd.read_csv(\"../tabela_final_treinamento.csv\")\n",
    "\n",
    "X = data.iloc[:, 0:225]\n",
    "Y = data.iloc[:, -1]"
   ]
  },
  {
   "cell_type": "code",
   "execution_count": 3,
   "id": "3646efa3-059e-41fc-9a75-c245a10a638c",
   "metadata": {},
   "outputs": [],
   "source": [
    "X_train, X_test, y_train, y_test = train_test_split(X, Y, stratify=Y, test_size=0.20, random_state=42)"
   ]
  },
  {
   "cell_type": "code",
   "execution_count": 9,
   "id": "bfb80c13-6a1c-4efe-883d-319097a6e713",
   "metadata": {},
   "outputs": [],
   "source": [
    "param_grid = {\"hidden_layer_sizes\": [10, 20, 10], \n",
    "              \"activation\": [\"relu\", \"tanh\"],\n",
    "              \"solver\": [\"adam\", \"sgd\", \"lbfgs\"],\n",
    "              \"learning_rate_init\": [0.001, 0.01, 0.1],\n",
    "              \"tol\": [0.1, 0.001, 0.0001],\n",
    "              \"alpha\": [0.0001, 0.01, 0.1],\n",
    "              \"batch_size\": [32, 60, 100]\n",
    "             }\n",
    "\n",
    "# \"max_iter\": [100, 200, 500],"
   ]
  },
  {
   "cell_type": "code",
   "execution_count": null,
   "id": "3df5ae1f-794f-46bf-a97f-ef3b5553101a",
   "metadata": {},
   "outputs": [],
   "source": [
    "classifier = MLPClassifier()\n",
    "search = HalvingGridSearchCV(classifier, param_grid, scoring=\"f1_weighted\").fit(X_train, y_train) "
   ]
  },
  {
   "cell_type": "code",
   "execution_count": null,
   "id": "ff99d08b-2aca-4e18-9d64-00a16beabfec",
   "metadata": {},
   "outputs": [],
   "source": [
    "search.best_params_"
   ]
  },
  {
   "cell_type": "code",
   "execution_count": null,
   "id": "839cfd35-573d-48b9-9c2f-54b7b3768f5c",
   "metadata": {},
   "outputs": [],
   "source": [
    "search.score(X_test, y_test)"
   ]
  },
  {
   "cell_type": "code",
   "execution_count": null,
   "id": "4874047e-9e49-43c9-a287-0cbbb01b8636",
   "metadata": {},
   "outputs": [],
   "source": [
    "y_pred = search.predict(X_test)"
   ]
  },
  {
   "cell_type": "code",
   "execution_count": null,
   "id": "0c8b8788-c712-4634-9e58-b070fad46328",
   "metadata": {},
   "outputs": [],
   "source": [
    "cm = confusion_matrix(y_test, y_pred, labels=search.classes_)\n",
    "disp = ConfusionMatrixDisplay(confusion_matrix=cm,\n",
    "                              display_labels=search.classes_)\n",
    "disp.plot()\n",
    "plt.show()"
   ]
  }
 ],
 "metadata": {
  "kernelspec": {
   "display_name": "Python 3 (ipykernel)",
   "language": "python",
   "name": "python3"
  },
  "language_info": {
   "codemirror_mode": {
    "name": "ipython",
    "version": 3
   },
   "file_extension": ".py",
   "mimetype": "text/x-python",
   "name": "python",
   "nbconvert_exporter": "python",
   "pygments_lexer": "ipython3",
   "version": "3.9.13"
  }
 },
 "nbformat": 4,
 "nbformat_minor": 5
}
