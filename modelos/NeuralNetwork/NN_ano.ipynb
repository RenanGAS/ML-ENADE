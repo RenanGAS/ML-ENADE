{
 "cells": [
  {
   "cell_type": "code",
   "execution_count": 13,
   "id": "86af9735-8464-4023-a48b-eaa5e85ad425",
   "metadata": {},
   "outputs": [],
   "source": [
    "import pandas as pd\n",
    "import numpy as np\n",
    "\n",
    "from sklearn.neural_network import MLPClassifier\n",
    "from sklearn.model_selection import train_test_split\n",
    "\n",
    "from sklearn.experimental import enable_halving_search_cv\n",
    "from sklearn.model_selection import HalvingGridSearchCV\n",
    "\n",
    "import graphviz \n",
    "import matplotlib.pyplot as plt\n",
    "from sklearn.metrics import confusion_matrix, ConfusionMatrixDisplay\n",
    "import seaborn as sns\n",
    "\n",
    "from sklearn.metrics import top_k_accuracy_score\n",
    "from sklearn.preprocessing import StandardScaler, MinMaxScaler\n",
    "\n",
    "from sklearn.model_selection import KFold\n",
    "from sklearn.model_selection import cross_val_score\n",
    "\n",
    "from sklearn.metrics import f1_score\n",
    "import warnings"
   ]
  },
  {
   "cell_type": "code",
   "execution_count": 14,
   "id": "5b5698f0-aa49-4bee-9f0e-68fd41af9749",
   "metadata": {},
   "outputs": [],
   "source": [
    "warnings.filterwarnings('ignore')"
   ]
  },
  {
   "cell_type": "markdown",
   "id": "3b95fd22-f71f-4ebc-8152-43585d8dd3a0",
   "metadata": {},
   "source": [
    "### Carregamento do conjunto de dados de todos os anos"
   ]
  },
  {
   "cell_type": "code",
   "execution_count": 15,
   "id": "25db4a6b-5068-441a-9e65-9f471f863755",
   "metadata": {},
   "outputs": [],
   "source": [
    "ano = 2011\n",
    "enade_ano = pd.read_csv(f\"../../concept_drift/tabela_final_{ano}_treinamento.csv\")"
   ]
  },
  {
   "cell_type": "markdown",
   "id": "49d88e9e-0c1b-433c-8e16-2c9ab05e930c",
   "metadata": {},
   "source": [
    "### Cross-validation (k = 5)"
   ]
  },
  {
   "cell_type": "code",
   "execution_count": 16,
   "id": "fab39a4f-91c7-4737-898b-6691928928da",
   "metadata": {},
   "outputs": [],
   "source": [
    "k = 5"
   ]
  },
  {
   "cell_type": "code",
   "execution_count": 17,
   "id": "41328527-9dd4-46b2-ac01-86f0f688480c",
   "metadata": {},
   "outputs": [],
   "source": [
    "array_folds = np.array_split(enade_ano, k)"
   ]
  },
  {
   "cell_type": "code",
   "execution_count": 18,
   "id": "d0fec724-a60e-4bd9-8f86-e658e73cd29c",
   "metadata": {},
   "outputs": [
    {
     "name": "stdout",
     "output_type": "stream",
     "text": [
      "Teste: fold 0\n",
      "Classificador: \n",
      "\n",
      "MLPClassifier(activation='tanh', batch_size=32, hidden_layer_sizes=10,\n",
      "              learning_rate_init=0.01, solver='sgd', tol=0.1)\n",
      "\n",
      "Resultado: 0.46759350091968116\n",
      "\n",
      "Teste: fold 1\n",
      "Classificador: \n",
      "\n",
      "MLPClassifier(alpha=0.01, batch_size=60, hidden_layer_sizes=20, solver='sgd')\n",
      "\n",
      "Resultado: 0.47587927238925554\n",
      "\n",
      "Teste: fold 2\n",
      "Classificador: \n",
      "\n",
      "MLPClassifier(alpha=0.01, batch_size=100, hidden_layer_sizes=20,\n",
      "              learning_rate_init=0.1, solver='sgd', tol=0.001)\n",
      "\n",
      "Resultado: 0.41171609707129786\n",
      "\n",
      "Teste: fold 3\n",
      "Classificador: \n",
      "\n",
      "MLPClassifier(activation='tanh', batch_size=100, hidden_layer_sizes=20,\n",
      "              solver='sgd', tol=0.001)\n",
      "\n",
      "Resultado: 0.4311749345158515\n",
      "\n",
      "Teste: fold 4\n",
      "Classificador: \n",
      "\n",
      "MLPClassifier(alpha=0.1, batch_size=100, hidden_layer_sizes=10,\n",
      "              learning_rate_init=0.1, tol=0.001)\n",
      "\n",
      "Resultado: 0.33012568001730463\n",
      "\n"
     ]
    }
   ],
   "source": [
    "for i_fold in range(k):\n",
    "    \n",
    "    # Separação dos folds\n",
    "    \n",
    "    folds_treinamento = array_folds.copy()\n",
    "    fold_teste = array_folds[i_fold]\n",
    "    \n",
    "    del folds_treinamento[i_fold]\n",
    "    \n",
    "    folds_treinamento = pd.concat(folds_treinamento, sort=False)\n",
    "    \n",
    "    # Separação em X e y\n",
    "    \n",
    "    numero_caracteristicas = enade_ano.shape[1] - 1\n",
    "    \n",
    "    X_folds_treinamento = folds_treinamento.iloc[:, 0:numero_caracteristicas]\n",
    "    y_folds_treinamento = folds_treinamento.iloc[:, -1]\n",
    "    \n",
    "    X_fold_teste = fold_teste.iloc[:, 0:numero_caracteristicas]\n",
    "    y_fold_teste = fold_teste.iloc[:, -1]\n",
    "    \n",
    "    # Normalização de treino e teste\n",
    "    \n",
    "    normalizador_treinamento = StandardScaler()\n",
    "    \n",
    "    normalizador_treinamento.fit(X_folds_treinamento)\n",
    "    treinamento_normalizado = normalizador_treinamento.transform(X_folds_treinamento)\n",
    "    \n",
    "    normalizador_teste = StandardScaler()\n",
    "    \n",
    "    normalizador_teste.fit(X_fold_teste)\n",
    "    teste_normalizado = normalizador_teste.transform(X_fold_teste)\n",
    "    \n",
    "    # Busca por hyperparâmetros\n",
    "    \n",
    "    parametros_para_busca = {\"hidden_layer_sizes\": [10, 20, 10], \n",
    "              \"activation\": [\"relu\", \"tanh\"],\n",
    "              \"solver\": [\"adam\", \"sgd\"],\n",
    "              \"learning_rate_init\": [0.001, 0.01, 0.1],\n",
    "              \"tol\": [0.1, 0.001, 0.0001],\n",
    "              \"alpha\": [0.0001, 0.01, 0.1],\n",
    "              \"batch_size\": [32, 60, 100]\n",
    "             }\n",
    "    \n",
    "    classificador = MLPClassifier()\n",
    "    \n",
    "    busca = HalvingGridSearchCV(classificador, parametros_para_busca, scoring=\"f1_weighted\").fit(treinamento_normalizado, y_folds_treinamento)\n",
    "    \n",
    "    busca.best_estimator_.fit(treinamento_normalizado, y_folds_treinamento)\n",
    "    y_predito = busca.best_estimator_.predict(teste_normalizado)\n",
    "    \n",
    "    melhor_classificador = str(busca.best_estimator_)\n",
    "    resultado = f1_score(y_fold_teste, y_predito, average='weighted')\n",
    "    \n",
    "    print(f\"Teste: fold {i_fold}\")\n",
    "    print(f\"Classificador: \\n\\n{melhor_classificador}\\n\")\n",
    "    print(f\"Resultado: {resultado}\\n\")"
   ]
  },
  {
   "cell_type": "code",
   "execution_count": null,
   "id": "5b74e62a-f35f-4049-bad8-e9d89cb67eee",
   "metadata": {},
   "outputs": [],
   "source": []
  },
  {
   "cell_type": "code",
   "execution_count": null,
   "id": "3725d0c0-74e3-4549-8090-a4e18be5bc86",
   "metadata": {},
   "outputs": [],
   "source": []
  },
  {
   "cell_type": "code",
   "execution_count": 3,
   "id": "3646efa3-059e-41fc-9a75-c245a10a638c",
   "metadata": {},
   "outputs": [],
   "source": [
    "X_train, X_test, y_train, y_test = train_test_split(X, Y, stratify=Y, test_size=0.20, random_state=42)"
   ]
  },
  {
   "cell_type": "code",
   "execution_count": null,
   "id": "21564b33-4e4f-4c42-9976-11b4c88ee35e",
   "metadata": {},
   "outputs": [],
   "source": [
    "X_train"
   ]
  },
  {
   "cell_type": "code",
   "execution_count": null,
   "id": "eeeb2379-4e3a-4ff1-9cae-1d39995b3331",
   "metadata": {},
   "outputs": [],
   "source": [
    "X_test"
   ]
  },
  {
   "cell_type": "code",
   "execution_count": 9,
   "id": "98a1bbdd-2acf-436c-aa9f-9470cfda376e",
   "metadata": {},
   "outputs": [],
   "source": [
    "scaler_data = StandardScaler()"
   ]
  },
  {
   "cell_type": "code",
   "execution_count": 10,
   "id": "83ba1c01-a943-40f9-8d9f-a4fd4b16abd2",
   "metadata": {},
   "outputs": [
    {
     "data": {
      "text/plain": [
       "array([[ 1.8131576 , -0.50787961,  0.36201069, ...,  2.34859998,\n",
       "         0.51150057, -0.18578479],\n",
       "       [-0.0410567 ,  0.36295767, -0.35854812, ...,  0.55946021,\n",
       "         0.28219971, -0.15839745],\n",
       "       [-0.0410567 , -0.05789162,  0.06097617, ..., -0.23993834,\n",
       "        -0.34455599, -0.46463773],\n",
       "       ...,\n",
       "       [-0.0410567 , -0.42565589,  0.42758257, ..., -0.47370501,\n",
       "         3.55525724,  0.80569231],\n",
       "       [-0.0410567 , -1.09989038,  1.0996943 , ..., -0.47370501,\n",
       "        -0.34455599, -0.46463773],\n",
       "       [-0.0410567 , -0.77188441,  0.77272103, ...,  1.40274642,\n",
       "        -0.34455599, -0.46463773]])"
      ]
     },
     "execution_count": 10,
     "metadata": {},
     "output_type": "execute_result"
    }
   ],
   "source": [
    "scaler_data.fit(X)\n",
    "normalized_data = scaler_data.transform(X)\n",
    "normalized_data"
   ]
  },
  {
   "cell_type": "code",
   "execution_count": 5,
   "id": "821fbfb5-d597-4933-996b-c6cb1f14e8c7",
   "metadata": {},
   "outputs": [],
   "source": [
    "scaler_train = StandardScaler()"
   ]
  },
  {
   "cell_type": "code",
   "execution_count": 6,
   "id": "7236752d-bde3-40f6-9a24-628a6aad93b7",
   "metadata": {},
   "outputs": [
    {
     "data": {
      "text/plain": [
       "array([[-0.08027672, -0.29334662,  0.29531551, ..., -0.46837411,\n",
       "        -0.34416482, -0.4658279 ],\n",
       "       [-0.08027672,  0.44627242, -0.44347653, ...,  0.81611907,\n",
       "        -0.34416482, -0.4658279 ],\n",
       "       [-0.08027672, -1.08985944,  1.09093771, ..., -0.46837411,\n",
       "        -0.34416482, -0.4658279 ],\n",
       "       ...,\n",
       "       [-0.08027672,  1.43753699, -1.43363273, ..., -0.46837411,\n",
       "        -0.34416482,  0.38981472],\n",
       "       [-0.08027672, -0.38705401,  0.38891812, ..., -0.46837411,\n",
       "        -0.34416482, -0.4658279 ],\n",
       "       [-0.08027672,  1.1005508 , -1.09702334, ..., -0.46837411,\n",
       "        -0.34416482, -0.09504943]])"
      ]
     },
     "execution_count": 6,
     "metadata": {},
     "output_type": "execute_result"
    }
   ],
   "source": [
    "scaler_train.fit(X_train)\n",
    "normalized_train = scaler_train.transform(X_train)\n",
    "normalized_train"
   ]
  },
  {
   "cell_type": "code",
   "execution_count": 7,
   "id": "f89cf3ea-3f7d-405c-b932-ca5c140c7a13",
   "metadata": {},
   "outputs": [],
   "source": [
    "scaler_test = StandardScaler()"
   ]
  },
  {
   "cell_type": "code",
   "execution_count": 8,
   "id": "ccbfc35b-3758-450f-877d-7e77359c6da5",
   "metadata": {},
   "outputs": [
    {
     "data": {
      "text/plain": [
       "array([[-0.04174983, -1.14730257,  1.14013857, ..., -0.5047609 ,\n",
       "        -0.34625718, -0.46490577],\n",
       "       [-0.04174983, -0.01704307,  0.02427105, ...,  0.072816  ,\n",
       "        -0.34625718, -0.46490577],\n",
       "       [-0.04174983, -0.17245375,  0.17770283, ...,  0.82366597,\n",
       "        -0.34625718, -0.46490577],\n",
       "       ...,\n",
       "       [-0.04174983, -0.60571989,  0.60545205, ..., -0.5047609 ,\n",
       "        -0.34625718, -0.46490577],\n",
       "       [-0.04174983, -0.60571989,  0.60545205, ..., -0.5047609 ,\n",
       "        -0.34625718, -0.46490577],\n",
       "       [-0.04174983, -1.14730257,  1.14013857, ..., -0.5047609 ,\n",
       "        -0.34625718, -0.46490577]])"
      ]
     },
     "execution_count": 8,
     "metadata": {},
     "output_type": "execute_result"
    }
   ],
   "source": [
    "scaler_test.fit(X_test)\n",
    "normalized_test = scaler_test.transform(X_test)\n",
    "normalized_test"
   ]
  },
  {
   "cell_type": "code",
   "execution_count": 18,
   "id": "9dc81f95-4cfd-4119-9c1a-0e616502e31b",
   "metadata": {},
   "outputs": [
    {
     "data": {
      "text/plain": [
       "array([[0.        , 0.00187617, 0.00930626, ..., 0.        , 0.        ,\n",
       "        0.        ],\n",
       "       [0.        , 0.00844278, 0.02030457, ..., 0.05      , 0.        ,\n",
       "        0.        ],\n",
       "       [0.        , 0.        , 0.00592217, ..., 0.        , 0.        ,\n",
       "        0.        ],\n",
       "       ...,\n",
       "       [0.        , 0.01031895, 0.01099831, ..., 0.        , 0.        ,\n",
       "        0.00197044],\n",
       "       [0.        , 0.00187617, 0.01099831, ..., 0.        , 0.        ,\n",
       "        0.        ],\n",
       "       [0.        , 0.01031895, 0.0143824 , ..., 0.        , 0.        ,\n",
       "        0.00098522]])"
      ]
     },
     "execution_count": 18,
     "metadata": {},
     "output_type": "execute_result"
    }
   ],
   "source": [
    "scaler_train_MM = MinMaxScaler()\n",
    "\n",
    "normalized_train_MM = scaler_train_MM.fit_transform(X_train)\n",
    "normalized_train_MM"
   ]
  },
  {
   "cell_type": "code",
   "execution_count": 19,
   "id": "3317b86f-6f21-4bbb-a703-a3a064d7d9a9",
   "metadata": {},
   "outputs": [
    {
     "data": {
      "text/plain": [
       "array([[0.        , 0.        , 0.00145773, ..., 0.        , 0.        ,\n",
       "        0.        ],\n",
       "       [0.        , 0.01869159, 0.05247813, ..., 0.05882353, 0.        ,\n",
       "        0.        ],\n",
       "       [0.        , 0.00700935, 0.02186589, ..., 0.05882353, 0.        ,\n",
       "        0.        ],\n",
       "       ...,\n",
       "       [0.        , 0.00233645, 0.01311953, ..., 0.        , 0.        ,\n",
       "        0.        ],\n",
       "       [0.        , 0.00233645, 0.01311953, ..., 0.        , 0.        ,\n",
       "        0.        ],\n",
       "       [0.        , 0.        , 0.00874636, ..., 0.        , 0.        ,\n",
       "        0.        ]])"
      ]
     },
     "execution_count": 19,
     "metadata": {},
     "output_type": "execute_result"
    }
   ],
   "source": [
    "scaler_test_MM = MinMaxScaler()\n",
    "\n",
    "normalized_test_MM = scaler_test_MM.fit_transform(X_test)\n",
    "normalized_test_MM"
   ]
  },
  {
   "cell_type": "code",
   "execution_count": 11,
   "id": "bfb80c13-6a1c-4efe-883d-319097a6e713",
   "metadata": {},
   "outputs": [],
   "source": [
    "param_grid = {\"hidden_layer_sizes\": [10, 20, 10], \n",
    "              \"activation\": [\"relu\", \"tanh\"],\n",
    "              \"solver\": [\"adam\", \"sgd\"],\n",
    "              \"learning_rate_init\": [0.001, 0.01, 0.1],\n",
    "              \"tol\": [0.1, 0.001, 0.0001],\n",
    "              \"alpha\": [0.0001, 0.01, 0.1],\n",
    "              \"batch_size\": [32, 60, 100]\n",
    "             }\n",
    "\n",
    "# \"max_iter\": [100, 200, 500],"
   ]
  },
  {
   "cell_type": "code",
   "execution_count": 12,
   "id": "3df5ae1f-794f-46bf-a97f-ef3b5553101a",
   "metadata": {},
   "outputs": [],
   "source": [
    "classifier_HGS = MLPClassifier()"
   ]
  },
  {
   "cell_type": "code",
   "execution_count": null,
   "id": "105584d1-a74a-42ed-a038-5bc348f47659",
   "metadata": {},
   "outputs": [],
   "source": [
    "search_normalized = HalvingGridSearchCV(classifier_HGS, param_grid, scoring=\"f1_weighted\").fit(normalized_train, y_train) "
   ]
  },
  {
   "cell_type": "code",
   "execution_count": 15,
   "id": "ff99d08b-2aca-4e18-9d64-00a16beabfec",
   "metadata": {},
   "outputs": [
    {
     "data": {
      "text/plain": [
       "{'activation': 'relu',\n",
       " 'alpha': 0.1,\n",
       " 'batch_size': 100,\n",
       " 'hidden_layer_sizes': 20,\n",
       " 'learning_rate_init': 0.01,\n",
       " 'solver': 'sgd',\n",
       " 'tol': 0.1}"
      ]
     },
     "execution_count": 15,
     "metadata": {},
     "output_type": "execute_result"
    }
   ],
   "source": [
    "search_normalized.best_params_"
   ]
  },
  {
   "cell_type": "code",
   "execution_count": null,
   "id": "fc58398f-2820-489b-b65c-466d8e904398",
   "metadata": {},
   "outputs": [],
   "source": [
    "search_normalized.score(normalized_test, y_test)"
   ]
  },
  {
   "cell_type": "code",
   "execution_count": 16,
   "id": "4f879d20-a599-46c6-9996-756e29b8e1f9",
   "metadata": {},
   "outputs": [],
   "source": [
    "classfier = MLPClassifier(activation='relu', alpha=0.1, batch_size=100, hidden_layer_sizes=20, learning_rate_init=0.01, solver='sgd', tol=0.1)"
   ]
  },
  {
   "cell_type": "code",
   "execution_count": 17,
   "id": "f8b0bbd8-70fe-427d-a311-8a7773efd552",
   "metadata": {},
   "outputs": [],
   "source": [
    "cv = KFold(n_splits=5)\n",
    "nn_cv = cross_val_score(classfier, normalized_data, Y, cv=cv, scoring='f1_macro')"
   ]
  },
  {
   "cell_type": "code",
   "execution_count": 18,
   "id": "96ebfbf0-0399-428b-b981-5ec6ce7c5cb8",
   "metadata": {},
   "outputs": [
    {
     "data": {
      "text/plain": [
       "array([0.34031834, 0.38077065, 0.35101548, 0.33015849, 0.30719845])"
      ]
     },
     "execution_count": 18,
     "metadata": {},
     "output_type": "execute_result"
    }
   ],
   "source": [
    "nn_cv"
   ]
  },
  {
   "cell_type": "code",
   "execution_count": 19,
   "id": "f485e948-985b-4a18-85d4-14edcf1ccba0",
   "metadata": {},
   "outputs": [
    {
     "data": {
      "text/plain": [
       "0.3418922815498293"
      ]
     },
     "execution_count": 19,
     "metadata": {},
     "output_type": "execute_result"
    }
   ],
   "source": [
    "nn_cv.mean()"
   ]
  },
  {
   "cell_type": "code",
   "execution_count": 18,
   "id": "97332044-29e0-49ce-ba96-569faf6134e4",
   "metadata": {},
   "outputs": [],
   "source": [
    "y_score = search_normalized.predict_proba(normalized_test)"
   ]
  },
  {
   "cell_type": "code",
   "execution_count": 19,
   "id": "d444d5f0-3e7c-48bb-9ac2-5b487ff9614a",
   "metadata": {},
   "outputs": [
    {
     "data": {
      "text/plain": [
       "0.997431506849315"
      ]
     },
     "execution_count": 19,
     "metadata": {},
     "output_type": "execute_result"
    }
   ],
   "source": [
    "top_k_accuracy_score(y_test, y_score, k=1, labels=[1, 2, 3, 4, 5])"
   ]
  },
  {
   "cell_type": "code",
   "execution_count": 20,
   "id": "4874047e-9e49-43c9-a287-0cbbb01b8636",
   "metadata": {},
   "outputs": [],
   "source": [
    "y_pred = search_normalized.predict(normalized_test)"
   ]
  },
  {
   "cell_type": "code",
   "execution_count": 21,
   "id": "0c8b8788-c712-4634-9e58-b070fad46328",
   "metadata": {},
   "outputs": [
    {
     "data": {
      "image/png": "[encoded data removed]",
      "text/plain": [
       "<Figure size 640x480 with 2 Axes>"
      ]
     },
     "metadata": {},
     "output_type": "display_data"
    }
   ],
   "source": [
    "cm = confusion_matrix(y_test, y_pred, labels=search_normalized.classes_)\n",
    "disp = ConfusionMatrixDisplay(confusion_matrix=cm,\n",
    "                              display_labels=search_normalized.classes_)\n",
    "disp.plot()\n",
    "plt.savefig('MC_NN.png')\n",
    "plt.show()"
   ]
  },
  {
   "cell_type": "code",
   "execution_count": 29,
   "id": "c7042d26-e5a1-4742-bd9f-f4dc27c4d93c",
   "metadata": {},
   "outputs": [
    {
     "data": {
      "image/png": "[encoded data removed]",
      "text/plain": [
       "<Figure size 800x500 with 2 Axes>"
      ]
     },
     "metadata": {},
     "output_type": "display_data"
    }
   ],
   "source": [
    "cm = confusion_matrix(y_test, y_pred, labels=search_normalized.classes_)\n",
    "cm_normalized = cm.astype('float') / cm.sum(axis=1)[:, np.newaxis]\n",
    "fig, ax = plt.subplots(figsize=(8,5))\n",
    "sns.heatmap(cm_normalized, annot=True, fmt='.2f', xticklabels=[1,2,3,4,5], yticklabels=[1,2,3,4,5], cmap=\"viridis\")\n",
    "plt.ylabel('True label')\n",
    "plt.xlabel('Predicted label')\n",
    "\n",
    "plt.savefig('MC_NN_Normalized.png')\n",
    "plt.show(block=False)"
   ]
  },
  {
   "cell_type": "code",
   "execution_count": null,
   "id": "f59e7b64-db31-4de0-a405-33749c67b89f",
   "metadata": {},
   "outputs": [],
   "source": []
  }
 ],
 "metadata": {
  "kernelspec": {
   "display_name": "Python 3 (ipykernel)",
   "language": "python",
   "name": "python3"
  },
  "language_info": {
   "codemirror_mode": {
    "name": "ipython",
    "version": 3
   },
   "file_extension": ".py",
   "mimetype": "text/x-python",
   "name": "python",
   "nbconvert_exporter": "python",
   "pygments_lexer": "ipython3",
   "version": "3.9.13"
  }
 },
 "nbformat": 4,
 "nbformat_minor": 5
}
