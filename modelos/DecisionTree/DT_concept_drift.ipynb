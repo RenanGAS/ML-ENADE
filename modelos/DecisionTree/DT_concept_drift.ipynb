{
 "cells": [
  {
   "cell_type": "code",
   "execution_count": 57,
   "id": "a417832e-bab2-46ed-b338-5d4b07ab0b40",
   "metadata": {},
   "outputs": [],
   "source": [
    "import pandas as pd\n",
    "import numpy as np\n",
    "from sklearn import tree\n",
    "from sklearn.model_selection import train_test_split\n",
    "import graphviz \n",
    "\n",
    "from sklearn.experimental import enable_halving_search_cv\n",
    "from sklearn.model_selection import HalvingGridSearchCV\n",
    "from sklearn.model_selection import HalvingRandomSearchCV\n",
    "\n",
    "import matplotlib.pyplot as plt\n",
    "\n",
    "from sklearn.metrics import confusion_matrix, ConfusionMatrixDisplay\n",
    "\n",
    "from sklearn.metrics import top_k_accuracy_score\n",
    "from sklearn.preprocessing import StandardScaler, MinMaxScaler\n",
    "from sklearn.manifold import TSNE\n",
    "from sklearn.decomposition import PCA\n",
    "\n",
    "from sklearn.model_selection import KFold\n",
    "from sklearn.model_selection import cross_val_score\n",
    "\n",
    "from sklearn.metrics import f1_score"
   ]
  },
  {
   "cell_type": "code",
   "execution_count": 58,
   "id": "d3eb23d9-9776-45cc-90bf-8624917d67d0",
   "metadata": {},
   "outputs": [],
   "source": [
    "enade_treino = pd.read_csv(\"../../concept_drift/tabela_final_11-14-17_treinamento.csv\")\n",
    "\n",
    "numero_caracteristicas = enade_treino.shape[1] - 1\n",
    "X_enade_treino = enade_treino.iloc[:, 0:numero_caracteristicas]\n",
    "y_enade_treino = enade_treino.iloc[:, -1]"
   ]
  },
  {
   "cell_type": "code",
   "execution_count": 59,
   "id": "1e3cb784-35bc-40c6-93a2-f61441dfe171",
   "metadata": {},
   "outputs": [],
   "source": [
    "enade_teste = pd.read_csv(\"../../concept_drift/tabela_final_2021_treinamento.csv\")\n",
    "\n",
    "numero_caracteristicas = enade_teste.shape[1] - 1\n",
    "X_enade_teste = enade_teste.iloc[:, 0:numero_caracteristicas]\n",
    "y_enade_teste = enade_teste.iloc[:, -1]"
   ]
  },
  {
   "cell_type": "code",
   "execution_count": 60,
   "id": "6f7575d2-1bc5-475f-8e28-f0753cbbb7f9",
   "metadata": {},
   "outputs": [],
   "source": [
    "normalizador_treinamento = StandardScaler()\n",
    "\n",
    "normalizador_treinamento.fit(X_enade_treino)\n",
    "treinamento_normalizado = normalizador_treinamento.transform(X_enade_treino)"
   ]
  },
  {
   "cell_type": "code",
   "execution_count": 61,
   "id": "dc2ffcc6-3f00-47a6-b362-2084e12f495f",
   "metadata": {},
   "outputs": [],
   "source": [
    "normalizador_teste = StandardScaler()\n",
    "\n",
    "normalizador_teste.fit(X_enade_teste)\n",
    "teste_normalizado = normalizador_teste.transform(X_enade_teste)"
   ]
  },
  {
   "cell_type": "code",
   "execution_count": 62,
   "id": "45ab1e53-1a10-4743-a272-6d5db664b2ed",
   "metadata": {},
   "outputs": [],
   "source": [
    "classifier = tree.DecisionTreeClassifier()"
   ]
  },
  {
   "cell_type": "code",
   "execution_count": 63,
   "id": "31611a81-7744-4159-bc61-4da21114af8a",
   "metadata": {},
   "outputs": [],
   "source": [
    "parametros_para_busca = {\"criterion\":['gini', 'entropy'],\n",
    "              \"min_samples_leaf\": [10, 30, 50],\n",
    "              \"ccp_alpha\": [0.001, 0.0015, 0.0017, 0.002]}"
   ]
  },
  {
   "cell_type": "code",
   "execution_count": 64,
   "id": "fdb52959-718d-4062-88c8-c97232a5f1b7",
   "metadata": {},
   "outputs": [],
   "source": [
    "busca = HalvingGridSearchCV(classifier, parametros_para_busca, scoring=\"f1_weighted\").fit(treinamento_normalizado, y_enade_treino) "
   ]
  },
  {
   "cell_type": "code",
   "execution_count": 65,
   "id": "784aedb4-4959-43ec-8cb3-a9facf681694",
   "metadata": {},
   "outputs": [
    {
     "data": {
      "text/plain": [
       "DecisionTreeClassifier(ccp_alpha=0.002, criterion='entropy',\n",
       "                       min_samples_leaf=30)"
      ]
     },
     "execution_count": 65,
     "metadata": {},
     "output_type": "execute_result"
    }
   ],
   "source": [
    "busca.best_estimator_.fit(treinamento_normalizado, y_enade_treino)"
   ]
  },
  {
   "cell_type": "code",
   "execution_count": 66,
   "id": "a52bf726-21ba-4ea7-9427-661d06341df4",
   "metadata": {},
   "outputs": [],
   "source": [
    "y_predito = busca.best_estimator_.predict(teste_normalizado)"
   ]
  },
  {
   "cell_type": "code",
   "execution_count": 67,
   "id": "cb019f0f-bb10-4bc9-9a86-41cb6264b296",
   "metadata": {},
   "outputs": [
    {
     "data": {
      "text/plain": [
       "0.4509713620563877"
      ]
     },
     "execution_count": 67,
     "metadata": {},
     "output_type": "execute_result"
    }
   ],
   "source": [
    "f1_score(y_enade_teste, y_predito, average='weighted')"
   ]
  },
  {
   "cell_type": "code",
   "execution_count": null,
   "id": "034710e7-ae2f-46db-b28a-74434f7cb74c",
   "metadata": {},
   "outputs": [],
   "source": []
  }
 ],
 "metadata": {
  "kernelspec": {
   "display_name": "Python 3 (ipykernel)",
   "language": "python",
   "name": "python3"
  },
  "language_info": {
   "codemirror_mode": {
    "name": "ipython",
    "version": 3
   },
   "file_extension": ".py",
   "mimetype": "text/x-python",
   "name": "python",
   "nbconvert_exporter": "python",
   "pygments_lexer": "ipython3",
   "version": "3.10.9"
  }
 },
 "nbformat": 4,
 "nbformat_minor": 5
}
