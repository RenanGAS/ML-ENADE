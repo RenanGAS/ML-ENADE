{
 "cells": [
  {
   "cell_type": "code",
   "execution_count": 1,
   "id": "a417832e-bab2-46ed-b338-5d4b07ab0b40",
   "metadata": {},
   "outputs": [],
   "source": [
    "import pandas as pd\n",
    "import numpy as np\n",
    "from sklearn import tree\n",
    "from sklearn.model_selection import train_test_split\n",
    "import graphviz \n",
    "\n",
    "from sklearn.experimental import enable_halving_search_cv\n",
    "from sklearn.model_selection import HalvingGridSearchCV\n",
    "from sklearn.model_selection import HalvingRandomSearchCV\n",
    "\n",
    "import matplotlib.pyplot as plt\n",
    "\n",
    "from sklearn.metrics import confusion_matrix, ConfusionMatrixDisplay\n",
    "\n",
    "from sklearn.metrics import top_k_accuracy_score\n",
    "from sklearn.preprocessing import StandardScaler, MinMaxScaler\n",
    "from sklearn.manifold import TSNE\n",
    "from sklearn.decomposition import PCA\n",
    "\n",
    "from sklearn.model_selection import KFold\n",
    "from sklearn.model_selection import cross_val_score\n",
    "\n",
    "from sklearn.metrics import f1_score"
   ]
  },
  {
   "cell_type": "markdown",
   "id": "b6e9d184-31f0-4cd5-99b7-fe332d06aad1",
   "metadata": {},
   "source": [
    "### Carregamento do conjunto de dados de todos os anos"
   ]
  },
  {
   "cell_type": "code",
   "execution_count": 2,
   "id": "d3eb23d9-9776-45cc-90bf-8624917d67d0",
   "metadata": {},
   "outputs": [],
   "source": [
    "ano = 2021\n",
    "enade_ano = pd.read_csv(f\"../../concept_drift/tabela_final_{ano}_treinamento.csv\")"
   ]
  },
  {
   "cell_type": "markdown",
   "id": "a79b6d1e-ae0b-4118-a92b-1f57e54518c3",
   "metadata": {},
   "source": [
    "### Cross-validation (k = 5)"
   ]
  },
  {
   "cell_type": "code",
   "execution_count": 3,
   "id": "7ed82dbd-6e95-4dfc-b800-de58194c5b80",
   "metadata": {},
   "outputs": [],
   "source": [
    "k = 5"
   ]
  },
  {
   "cell_type": "code",
   "execution_count": 4,
   "id": "a5a480f5-d0ee-48d2-b738-4eb79161ab15",
   "metadata": {},
   "outputs": [],
   "source": [
    "array_folds = np.array_split(enade_ano, k)"
   ]
  },
  {
   "cell_type": "code",
   "execution_count": 10,
   "id": "ba21fd40-a67f-4125-a3ce-c26141d019b0",
   "metadata": {
    "tags": []
   },
   "outputs": [
    {
     "name": "stdout",
     "output_type": "stream",
     "text": [
      "Teste: fold 0\n",
      "Classificador: \n",
      "\n",
      "DecisionTreeClassifier(ccp_alpha=0.0015, min_samples_leaf=10)\n",
      "\n",
      "Resultado: 0.41401074702546015\n",
      "\n",
      "Características importantes: [('Numero_Notas_Invalidas', 0.0), ('nulos_UF_Ensino_Medio', 0.0), ('RO', 0.0), ('AC', 0.0), ('AM', 0.0), ('RR', 0.0), ('PA', 0.0), ('AP', 0.0), ('TO', 0.0), ('MA', 0.0), ('PI', 0.0), ('CE', 0.0), ('RN', 0.0), ('PB', 0.0), ('PE', 0.0), ('AL', 0.0), ('SE', 0.0), ('BA', 0.0), ('MG', 0.0), ('ES', 0.0), ('RJ', 0.0), ('PR', 0.0), ('SC', 0.0), ('RS', 0.0), ('MS', 0.0), ('MT', 0.0), ('GO', 0.0), ('DF', 0.0), ('Não se aplica', 0.0), ('nulos_Tipo_Escola_EM', 0.0), ('Pública', 0.0), ('Exterior', 0.0), ('nulos_Modalidade_EM', 0.0), ('Tradicional', 0.0), ('Magistério', 0.0), ('Outra', 0.0), ('nulos_Sexo', 0.0), ('M', 0.0), ('F', 0.0), ('nulos_Cor_Raca', 0.0), ('Preta', 0.0), ('Amarela', 0.0), ('Indígena', 0.0), ('nulos_Estado_Civil', 0.0), ('Solteiro', 0.0), ('Casado', 0.0), ('Separado', 0.0), ('Viúvo', 0.0), ('nulos_Nl_Pai', 0.0), ('Nenhuma', 0.0), ('Superior', 0.0), ('Pós-graduação', 0.0), ('nulos_Nl_Mae', 0.0), ('Nenhuma.1', 0.0), ('Fundamental 1-5.1', 0.0), ('Médio.1', 0.0), ('Superior.1', 0.0), ('Pós-graduação.1', 0.0), ('nulos_Renda', 0.0), ('Até 1,5 SM', 0.0), ('De 4,5 a 6 SM', 0.0), ('Acima de 30 SM', 0.0), ('nulos_Situacao_Financeira', 0.0), ('Sem renda/Outros', 0.0), ('Tem renda/Outros', 0.0), ('Tem renda/Principal', 0.0), ('nulos_Moradia', 0.0), ('Outras pessoas', 0.0), ('Universidade', 0.0), ('Habitação individual/coletiva', 0.0), ('nulos_Qtde_Pessoas', 0.0), ('Duas', 0.0), ('Quatro', 0.0), ('Sete ou mais', 0.0), ('nulos_Politica_de_Ingresso', 0.0), ('Não', 0.0), ('Critério étnico-racial', 0.0), ('Critério de renda', 0.0), ('Bolsa de estudos', 0.0), ('Critérios diferentes', 0.0), ('nulos_Situacao_Trabalho', 0.0), ('Não.1', 0.0), ('Eventualmente', 0.0), ('Até 20 horas', 0.0), ('40 horas ou mais', 0.0), ('nulos_Bolsa_de_Estudos', 0.0), ('Sim', 0.0), ('Não.2', 0.0), ('nulos_Qtde_Livros', 0.0), ('+8', 0.0), ('nulos_Horas_de_Estudo', 0.0), ('Nenhuma.3', 0.0), ('nulos_Disponibilidade_Professores', 0.0), ('Todos', 0.0), ('Maior parte', 0.0), ('Não sei responder', 0.0), ('nulos_Dominio_Professores', 0.0), ('Todos.1', 0.0), ('Maior parte.1', 0.0), ('Nenhum.2', 0.0), ('Não sei responder.1', 0.0), ('nulos_Condicao_Salas', 0.0), ('Maior parte.2', 0.0), ('Todas', 0.0), ('Não sei responder.2', 0.0), ('nulos_Condicao_Praticas', 0.0), ('Nenhuma.5', 0.0), ('Algumas.1', 0.0), ('Maior parte.3', 0.0), ('Todas.1', 0.0), ('Não sei responder.3', 0.0), ('nulos_Plano_de_Ensino', 0.0), ('Amplamente', 0.0), ('Muito pouco', 0.0), ('Não sei responder.4', 0.0), ('nulos_Formacao', 0.0), ('Muito boa', 0.0), ('Fraca', 0.0), ('Muito fraca', 0.0), ('Não sei responder.5', 0.0), ('Numero_Faltantes', 0.006), ('Outro', 0.006), ('Tem renda/Independente', 0.007), ('Três', 0.007), ('Cinco', 0.007), ('+12', 0.007), ('Cônjuge/Filhos', 0.008), ('Seis', 0.008), ('3-5', 0.008), ('Nenhum.1', 0.008), ('Boa', 0.008), ('Uma', 0.009), ('Tem renda/Sustenta', 0.01), ('Nenhuma.2', 0.01), ('Sozinho', 0.011), ('1 ou 2', 0.011), ('Supletivo', 0.012), ('4-7', 0.012), ('Nenhuma.4', 0.012), ('Parcialmente', 0.012), ('Fundamental 6-9', 0.013), ('Combinação de critérios', 0.013), ('Nenhum', 0.013), ('1-3', 0.013), ('Parentes', 0.014), ('6-8', 0.014), ('Não contribui', 0.014), ('Regular', 0.015), ('Médio', 0.016), ('Fundamental 6-9.1', 0.016), ('Numero_Participantes', 0.017), ('Algumas', 0.017), ('21 a 39 horas', 0.019), ('Técnico', 0.021), ('De 1,5 a 3 SM', 0.023), ('Branca', 0.025), ('De 10 a 30 SM', 0.026), ('Não declarado', 0.03), ('Alguns.1', 0.035), ('De 3 a 4,5 SM', 0.037), ('Alguns', 0.037), ('8-12', 0.039), ('Privada', 0.042), ('Parda', 0.043), ('Fundamental 1-5', 0.048), ('SP', 0.05), ('De 6 a 10 SM', 0.083), ('Não se aplica.1', 0.09)]\n",
      "\n",
      "Teste: fold 1\n",
      "Classificador: \n",
      "\n",
      "DecisionTreeClassifier(ccp_alpha=0.0015, criterion='entropy',\n",
      "                       min_samples_leaf=30)\n",
      "\n",
      "Resultado: 0.43638340964434597\n",
      "\n",
      "Características importantes: [('Numero_Notas_Invalidas', 0.0), ('Numero_Faltantes', 0.0), ('Numero_Participantes', 0.0), ('nulos_UF_Ensino_Medio', 0.0), ('RO', 0.0), ('AC', 0.0), ('AM', 0.0), ('RR', 0.0), ('PA', 0.0), ('AP', 0.0), ('TO', 0.0), ('MA', 0.0), ('PI', 0.0), ('CE', 0.0), ('RN', 0.0), ('PB', 0.0), ('PE', 0.0), ('AL', 0.0), ('SE', 0.0), ('BA', 0.0), ('MG', 0.0), ('ES', 0.0), ('RJ', 0.0), ('PR', 0.0), ('SC', 0.0), ('RS', 0.0), ('MS', 0.0), ('MT', 0.0), ('GO', 0.0), ('DF', 0.0), ('Não se aplica', 0.0), ('nulos_Tipo_Escola_EM', 0.0), ('Pública', 0.0), ('Privada', 0.0), ('Exterior', 0.0), ('nulos_Modalidade_EM', 0.0), ('Tradicional', 0.0), ('Técnico', 0.0), ('Magistério', 0.0), ('Supletivo', 0.0), ('Outra', 0.0), ('nulos_Sexo', 0.0), ('M', 0.0), ('F', 0.0), ('nulos_Cor_Raca', 0.0), ('Branca', 0.0), ('Preta', 0.0), ('Amarela', 0.0), ('Indígena', 0.0), ('Não declarado', 0.0), ('nulos_Estado_Civil', 0.0), ('Solteiro', 0.0), ('Separado', 0.0), ('Viúvo', 0.0), ('Outro', 0.0), ('nulos_Nl_Pai', 0.0), ('Nenhuma', 0.0), ('Fundamental 1-5', 0.0), ('Fundamental 6-9', 0.0), ('Médio', 0.0), ('Superior', 0.0), ('nulos_Nl_Mae', 0.0), ('Nenhuma.1', 0.0), ('Fundamental 1-5.1', 0.0), ('Fundamental 6-9.1', 0.0), ('Médio.1', 0.0), ('Superior.1', 0.0), ('nulos_Renda', 0.0), ('De 4,5 a 6 SM', 0.0), ('Acima de 30 SM', 0.0), ('nulos_Situacao_Financeira', 0.0), ('Sem renda/Outros', 0.0), ('Tem renda/Outros', 0.0), ('Tem renda/Independente', 0.0), ('Tem renda/Sustenta', 0.0), ('Tem renda/Principal', 0.0), ('nulos_Moradia', 0.0), ('Sozinho', 0.0), ('Outras pessoas', 0.0), ('Universidade', 0.0), ('Habitação individual/coletiva', 0.0), ('nulos_Qtde_Pessoas', 0.0), ('Nenhuma.2', 0.0), ('Uma', 0.0), ('Duas', 0.0), ('Três', 0.0), ('Quatro', 0.0), ('Cinco', 0.0), ('Seis', 0.0), ('Sete ou mais', 0.0), ('nulos_Politica_de_Ingresso', 0.0), ('Critério étnico-racial', 0.0), ('Critério de renda', 0.0), ('Bolsa de estudos', 0.0), ('Combinação de critérios', 0.0), ('Critérios diferentes', 0.0), ('nulos_Situacao_Trabalho', 0.0), ('Não.1', 0.0), ('Até 20 horas', 0.0), ('21 a 39 horas', 0.0), ('40 horas ou mais', 0.0), ('nulos_Bolsa_de_Estudos', 0.0), ('Sim', 0.0), ('Não.2', 0.0), ('nulos_Qtde_Livros', 0.0), ('Nenhum', 0.0), ('1 ou 2', 0.0), ('3-5', 0.0), ('6-8', 0.0), ('+8', 0.0), ('nulos_Horas_de_Estudo', 0.0), ('Nenhuma.3', 0.0), ('1-3', 0.0), ('4-7', 0.0), ('nulos_Disponibilidade_Professores', 0.0), ('Maior parte', 0.0), ('Alguns', 0.0), ('Nenhum.1', 0.0), ('nulos_Dominio_Professores', 0.0), ('Todos.1', 0.0), ('Maior parte.1', 0.0), ('Nenhum.2', 0.0), ('Não sei responder.1', 0.0), ('nulos_Condicao_Salas', 0.0), ('Nenhuma.4', 0.0), ('Maior parte.2', 0.0), ('Todas', 0.0), ('Não sei responder.2', 0.0), ('nulos_Condicao_Praticas', 0.0), ('Nenhuma.5', 0.0), ('Algumas.1', 0.0), ('Maior parte.3', 0.0), ('Todas.1', 0.0), ('Não sei responder.3', 0.0), ('nulos_Plano_de_Ensino', 0.0), ('Amplamente', 0.0), ('Parcialmente', 0.0), ('Muito pouco', 0.0), ('Não contribui', 0.0), ('Não sei responder.4', 0.0), ('nulos_Formacao', 0.0), ('Boa', 0.0), ('Regular', 0.0), ('Muito fraca', 0.0), ('Pós-graduação', 0.011), ('Algumas', 0.011), ('Não sei responder', 0.013), ('8-12', 0.018), ('Casado', 0.019), ('Pós-graduação.1', 0.019), ('Eventualmente', 0.019), ('Não', 0.02), ('SP', 0.021), ('De 3 a 4,5 SM', 0.024), ('+12', 0.024), ('Parentes', 0.025), ('Todos', 0.027), ('Fraca', 0.027), ('Alguns.1', 0.031), ('Não sei responder.5', 0.033), ('Cônjuge/Filhos', 0.042), ('De 1,5 a 3 SM', 0.047), ('Parda', 0.056), ('Até 1,5 SM', 0.065), ('De 6 a 10 SM', 0.079), ('Muito boa', 0.087), ('De 10 a 30 SM', 0.108), ('Não se aplica.1', 0.177)]\n",
      "\n",
      "Teste: fold 2\n",
      "Classificador: \n",
      "\n",
      "DecisionTreeClassifier(ccp_alpha=0.002, min_samples_leaf=50)\n",
      "\n",
      "Resultado: 0.4006534128608656\n",
      "\n",
      "Características importantes: [('Numero_Notas_Invalidas', 0.0), ('Numero_Faltantes', 0.0), ('Numero_Participantes', 0.0), ('nulos_UF_Ensino_Medio', 0.0), ('RO', 0.0), ('AC', 0.0), ('AM', 0.0), ('RR', 0.0), ('PA', 0.0), ('AP', 0.0), ('TO', 0.0), ('MA', 0.0), ('PI', 0.0), ('CE', 0.0), ('RN', 0.0), ('PB', 0.0), ('PE', 0.0), ('AL', 0.0), ('SE', 0.0), ('BA', 0.0), ('MG', 0.0), ('ES', 0.0), ('RJ', 0.0), ('PR', 0.0), ('SC', 0.0), ('RS', 0.0), ('MS', 0.0), ('MT', 0.0), ('GO', 0.0), ('DF', 0.0), ('Não se aplica', 0.0), ('nulos_Tipo_Escola_EM', 0.0), ('Pública', 0.0), ('Privada', 0.0), ('Exterior', 0.0), ('nulos_Modalidade_EM', 0.0), ('Tradicional', 0.0), ('Técnico', 0.0), ('Magistério', 0.0), ('Supletivo', 0.0), ('Outra', 0.0), ('nulos_Sexo', 0.0), ('M', 0.0), ('F', 0.0), ('nulos_Cor_Raca', 0.0), ('Branca', 0.0), ('Preta', 0.0), ('Amarela', 0.0), ('Indígena', 0.0), ('Não declarado', 0.0), ('nulos_Estado_Civil', 0.0), ('Solteiro', 0.0), ('Casado', 0.0), ('Separado', 0.0), ('Viúvo', 0.0), ('Outro', 0.0), ('nulos_Nl_Pai', 0.0), ('Nenhuma', 0.0), ('Fundamental 1-5', 0.0), ('Fundamental 6-9', 0.0), ('Médio', 0.0), ('Superior', 0.0), ('Pós-graduação', 0.0), ('nulos_Nl_Mae', 0.0), ('Nenhuma.1', 0.0), ('Fundamental 1-5.1', 0.0), ('Fundamental 6-9.1', 0.0), ('Médio.1', 0.0), ('Superior.1', 0.0), ('nulos_Renda', 0.0), ('Até 1,5 SM', 0.0), ('De 1,5 a 3 SM', 0.0), ('De 4,5 a 6 SM', 0.0), ('Acima de 30 SM', 0.0), ('nulos_Situacao_Financeira', 0.0), ('Sem renda/Outros', 0.0), ('Tem renda/Outros', 0.0), ('Tem renda/Independente', 0.0), ('Tem renda/Sustenta', 0.0), ('Tem renda/Principal', 0.0), ('nulos_Moradia', 0.0), ('Sozinho', 0.0), ('Parentes', 0.0), ('Outras pessoas', 0.0), ('Universidade', 0.0), ('Habitação individual/coletiva', 0.0), ('nulos_Qtde_Pessoas', 0.0), ('Nenhuma.2', 0.0), ('Uma', 0.0), ('Três', 0.0), ('Quatro', 0.0), ('Cinco', 0.0), ('Seis', 0.0), ('Sete ou mais', 0.0), ('nulos_Politica_de_Ingresso', 0.0), ('Não', 0.0), ('Critério étnico-racial', 0.0), ('Critério de renda', 0.0), ('Bolsa de estudos', 0.0), ('Combinação de critérios', 0.0), ('Critérios diferentes', 0.0), ('nulos_Situacao_Trabalho', 0.0), ('Não.1', 0.0), ('Até 20 horas', 0.0), ('21 a 39 horas', 0.0), ('nulos_Bolsa_de_Estudos', 0.0), ('Sim', 0.0), ('Não.2', 0.0), ('nulos_Qtde_Livros', 0.0), ('Nenhum', 0.0), ('1 ou 2', 0.0), ('3-5', 0.0), ('6-8', 0.0), ('+8', 0.0), ('nulos_Horas_de_Estudo', 0.0), ('Nenhuma.3', 0.0), ('4-7', 0.0), ('+12', 0.0), ('nulos_Disponibilidade_Professores', 0.0), ('Todos', 0.0), ('Maior parte', 0.0), ('Alguns', 0.0), ('Nenhum.1', 0.0), ('Não sei responder', 0.0), ('nulos_Dominio_Professores', 0.0), ('Todos.1', 0.0), ('Maior parte.1', 0.0), ('Nenhum.2', 0.0), ('Não sei responder.1', 0.0), ('nulos_Condicao_Salas', 0.0), ('Nenhuma.4', 0.0), ('Algumas', 0.0), ('Maior parte.2', 0.0), ('Todas', 0.0), ('Não sei responder.2', 0.0), ('nulos_Condicao_Praticas', 0.0), ('Nenhuma.5', 0.0), ('Algumas.1', 0.0), ('Maior parte.3', 0.0), ('Todas.1', 0.0), ('Não sei responder.3', 0.0), ('nulos_Plano_de_Ensino', 0.0), ('Amplamente', 0.0), ('Parcialmente', 0.0), ('Muito pouco', 0.0), ('Não contribui', 0.0), ('Não sei responder.4', 0.0), ('nulos_Formacao', 0.0), ('Regular', 0.0), ('Fraca', 0.0), ('Muito fraca', 0.0), ('Não sei responder.5', 0.0), ('1-3', 0.016), ('De 3 a 4,5 SM', 0.018), ('8-12', 0.028), ('Alguns.1', 0.029), ('Boa', 0.031), ('Pós-graduação.1', 0.036), ('Duas', 0.036), ('Eventualmente', 0.04), ('Cônjuge/Filhos', 0.045), ('40 horas ou mais', 0.045), ('SP', 0.05), ('De 6 a 10 SM', 0.068), ('Parda', 0.089), ('Muito boa', 0.127), ('De 10 a 30 SM', 0.151), ('Não se aplica.1', 0.191)]\n",
      "\n",
      "Teste: fold 3\n",
      "Classificador: \n",
      "\n",
      "DecisionTreeClassifier(ccp_alpha=0.001, criterion='entropy',\n",
      "                       min_samples_leaf=10)\n",
      "\n",
      "Resultado: 0.4634127097669675\n",
      "\n",
      "Características importantes: [('Numero_Notas_Invalidas', 0.0), ('Numero_Participantes', 0.0), ('nulos_UF_Ensino_Medio', 0.0), ('RO', 0.0), ('AC', 0.0), ('AM', 0.0), ('RR', 0.0), ('PA', 0.0), ('AP', 0.0), ('TO', 0.0), ('MA', 0.0), ('PI', 0.0), ('CE', 0.0), ('RN', 0.0), ('PB', 0.0), ('PE', 0.0), ('AL', 0.0), ('SE', 0.0), ('BA', 0.0), ('ES', 0.0), ('RJ', 0.0), ('PR', 0.0), ('SC', 0.0), ('RS', 0.0), ('MS', 0.0), ('MT', 0.0), ('GO', 0.0), ('DF', 0.0), ('Não se aplica', 0.0), ('nulos_Tipo_Escola_EM', 0.0), ('Exterior', 0.0), ('nulos_Modalidade_EM', 0.0), ('Tradicional', 0.0), ('Magistério', 0.0), ('Supletivo', 0.0), ('Outra', 0.0), ('nulos_Sexo', 0.0), ('F', 0.0), ('nulos_Cor_Raca', 0.0), ('Preta', 0.0), ('Amarela', 0.0), ('Indígena', 0.0), ('Não declarado', 0.0), ('nulos_Estado_Civil', 0.0), ('Separado', 0.0), ('Viúvo', 0.0), ('nulos_Nl_Pai', 0.0), ('Fundamental 6-9', 0.0), ('Superior', 0.0), ('Pós-graduação', 0.0), ('nulos_Nl_Mae', 0.0), ('Médio.1', 0.0), ('Pós-graduação.1', 0.0), ('nulos_Renda', 0.0), ('De 3 a 4,5 SM', 0.0), ('Acima de 30 SM', 0.0), ('nulos_Situacao_Financeira', 0.0), ('Tem renda/Sustenta', 0.0), ('nulos_Moradia', 0.0), ('Parentes', 0.0), ('Cônjuge/Filhos', 0.0), ('Universidade', 0.0), ('Habitação individual/coletiva', 0.0), ('nulos_Qtde_Pessoas', 0.0), ('Três', 0.0), ('Seis', 0.0), ('Sete ou mais', 0.0), ('nulos_Politica_de_Ingresso', 0.0), ('Critério étnico-racial', 0.0), ('Critério de renda', 0.0), ('Bolsa de estudos', 0.0), ('Critérios diferentes', 0.0), ('nulos_Situacao_Trabalho', 0.0), ('nulos_Bolsa_de_Estudos', 0.0), ('nulos_Qtde_Livros', 0.0), ('Nenhum', 0.0), ('3-5', 0.0), ('+8', 0.0), ('nulos_Horas_de_Estudo', 0.0), ('Nenhuma.3', 0.0), ('1-3', 0.0), ('8-12', 0.0), ('+12', 0.0), ('nulos_Disponibilidade_Professores', 0.0), ('Todos', 0.0), ('Nenhum.1', 0.0), ('Não sei responder', 0.0), ('nulos_Dominio_Professores', 0.0), ('Todos.1', 0.0), ('Maior parte.1', 0.0), ('Nenhum.2', 0.0), ('Não sei responder.1', 0.0), ('nulos_Condicao_Salas', 0.0), ('Nenhuma.4', 0.0), ('Todas', 0.0), ('Não sei responder.2', 0.0), ('nulos_Condicao_Praticas', 0.0), ('Nenhuma.5', 0.0), ('Algumas.1', 0.0), ('Não sei responder.3', 0.0), ('nulos_Plano_de_Ensino', 0.0), ('Amplamente', 0.0), ('Não contribui', 0.0), ('Não sei responder.4', 0.0), ('nulos_Formacao', 0.0), ('Boa', 0.0), ('Regular', 0.0), ('Fraca', 0.0), ('Muito fraca', 0.0), ('Não sei responder.5', 0.0), ('Maior parte.2', 0.001), ('Muito pouco', 0.002), ('4-7', 0.004), ('Superior.1', 0.005), ('Tem renda/Outros', 0.005), ('Tem renda/Principal', 0.005), ('1 ou 2', 0.005), ('Outro', 0.006), ('Fundamental 1-5', 0.006), ('Tem renda/Independente', 0.006), ('Cinco', 0.006), ('Numero_Faltantes', 0.007), ('MG', 0.007), ('M', 0.007), ('Nenhuma', 0.007), ('Fundamental 6-9.1', 0.007), ('Casado', 0.008), ('Médio', 0.008), ('Até 20 horas', 0.008), ('Solteiro', 0.009), ('Duas', 0.009), ('40 horas ou mais', 0.009), ('Fundamental 1-5.1', 0.01), ('Outras pessoas', 0.01), ('21 a 39 horas', 0.01), ('De 10 a 30 SM', 0.011), ('Sem renda/Outros', 0.011), ('Não', 0.012), ('Nenhuma.1', 0.013), ('Algumas', 0.013), ('Pública', 0.014), ('Quatro', 0.014), ('Alguns', 0.014), ('Maior parte.3', 0.015), ('De 4,5 a 6 SM', 0.016), ('Não.1', 0.017), ('Maior parte', 0.017), ('Uma', 0.019), ('Alguns.1', 0.019), ('Parcialmente', 0.019), ('Nenhuma.2', 0.02), ('Combinação de critérios', 0.02), ('Eventualmente', 0.02), ('Sim', 0.02), ('Branca', 0.021), ('6-8', 0.021), ('Não.2', 0.022), ('Muito boa', 0.022), ('Sozinho', 0.025), ('Até 1,5 SM', 0.027), ('Técnico', 0.029), ('De 6 a 10 SM', 0.031), ('Parda', 0.034), ('Todas.1', 0.041), ('De 1,5 a 3 SM', 0.048), ('Privada', 0.049), ('SP', 0.056), ('Não se aplica.1', 0.105)]\n",
      "\n",
      "Teste: fold 4\n",
      "Classificador: \n",
      "\n",
      "DecisionTreeClassifier(ccp_alpha=0.002, criterion='entropy',\n",
      "                       min_samples_leaf=10)\n",
      "\n",
      "Resultado: 0.4423957425904275\n",
      "\n",
      "Características importantes: [('Numero_Notas_Invalidas', 0.0), ('Numero_Faltantes', 0.0), ('Numero_Participantes', 0.0), ('nulos_UF_Ensino_Medio', 0.0), ('RO', 0.0), ('AC', 0.0), ('AM', 0.0), ('RR', 0.0), ('PA', 0.0), ('AP', 0.0), ('TO', 0.0), ('MA', 0.0), ('PI', 0.0), ('CE', 0.0), ('RN', 0.0), ('PB', 0.0), ('PE', 0.0), ('AL', 0.0), ('SE', 0.0), ('BA', 0.0), ('MG', 0.0), ('ES', 0.0), ('RJ', 0.0), ('PR', 0.0), ('SC', 0.0), ('RS', 0.0), ('MS', 0.0), ('MT', 0.0), ('GO', 0.0), ('DF', 0.0), ('Não se aplica', 0.0), ('nulos_Tipo_Escola_EM', 0.0), ('Privada', 0.0), ('Exterior', 0.0), ('nulos_Modalidade_EM', 0.0), ('Magistério', 0.0), ('Supletivo', 0.0), ('Outra', 0.0), ('nulos_Sexo', 0.0), ('F', 0.0), ('nulos_Cor_Raca', 0.0), ('Amarela', 0.0), ('Indígena', 0.0), ('Não declarado', 0.0), ('nulos_Estado_Civil', 0.0), ('Solteiro', 0.0), ('Casado', 0.0), ('Separado', 0.0), ('Viúvo', 0.0), ('Outro', 0.0), ('nulos_Nl_Pai', 0.0), ('Nenhuma', 0.0), ('Médio', 0.0), ('nulos_Nl_Mae', 0.0), ('Fundamental 1-5.1', 0.0), ('Médio.1', 0.0), ('Superior.1', 0.0), ('nulos_Renda', 0.0), ('De 4,5 a 6 SM', 0.0), ('Acima de 30 SM', 0.0), ('nulos_Situacao_Financeira', 0.0), ('nulos_Moradia', 0.0), ('Sozinho', 0.0), ('Cônjuge/Filhos', 0.0), ('Outras pessoas', 0.0), ('Universidade', 0.0), ('Habitação individual/coletiva', 0.0), ('nulos_Qtde_Pessoas', 0.0), ('Duas', 0.0), ('Seis', 0.0), ('Sete ou mais', 0.0), ('nulos_Politica_de_Ingresso', 0.0), ('Critério étnico-racial', 0.0), ('Critério de renda', 0.0), ('Bolsa de estudos', 0.0), ('nulos_Situacao_Trabalho', 0.0), ('Eventualmente', 0.0), ('Até 20 horas', 0.0), ('40 horas ou mais', 0.0), ('nulos_Bolsa_de_Estudos', 0.0), ('nulos_Qtde_Livros', 0.0), ('Nenhum', 0.0), ('6-8', 0.0), ('+8', 0.0), ('nulos_Horas_de_Estudo', 0.0), ('Nenhuma.3', 0.0), ('8-12', 0.0), ('nulos_Disponibilidade_Professores', 0.0), ('Todos', 0.0), ('Não sei responder', 0.0), ('nulos_Dominio_Professores', 0.0), ('Maior parte.1', 0.0), ('Não sei responder.1', 0.0), ('nulos_Condicao_Salas', 0.0), ('Nenhuma.4', 0.0), ('Algumas', 0.0), ('Todas', 0.0), ('Não sei responder.2', 0.0), ('nulos_Condicao_Praticas', 0.0), ('Não sei responder.3', 0.0), ('nulos_Plano_de_Ensino', 0.0), ('Muito pouco', 0.0), ('Não contribui', 0.0), ('nulos_Formacao', 0.0), ('Fraca', 0.0), ('Muito fraca', 0.0), ('Não sei responder.5', 0.0), ('Tem renda/Independente', 0.002), ('M', 0.003), ('Tem renda/Sustenta', 0.004), ('+12', 0.004), ('Fundamental 6-9.1', 0.005), ('1 ou 2', 0.005), ('Preta', 0.006), ('Parda', 0.006), ('Nenhuma.2', 0.006), ('Não.1', 0.006), ('Maior parte.2', 0.007), ('Não sei responder.4', 0.007), ('Boa', 0.007), ('Regular', 0.007), ('Tradicional', 0.008), ('Branca', 0.008), ('Fundamental 1-5', 0.008), ('4-7', 0.008), ('Nenhum.1', 0.008), ('Tem renda/Principal', 0.009), ('Não', 0.009), ('Combinação de critérios', 0.009), ('Nenhum.2', 0.009), ('Algumas.1', 0.009), ('Superior', 0.01), ('Nenhuma.5', 0.01), ('Amplamente', 0.01), ('Não.2', 0.011), ('Maior parte.3', 0.011), ('Parcialmente', 0.011), ('Pública', 0.012), ('Pós-graduação.1', 0.012), ('Cinco', 0.012), ('De 1,5 a 3 SM', 0.014), ('3-5', 0.014), ('Tem renda/Outros', 0.015), ('Alguns', 0.015), ('Todas.1', 0.015), ('Critérios diferentes', 0.016), ('Todos.1', 0.016), ('Técnico', 0.017), ('Fundamental 6-9', 0.017), ('Nenhuma.1', 0.017), ('Sem renda/Outros', 0.018), ('Três', 0.019), ('21 a 39 horas', 0.02), ('Maior parte', 0.021), ('De 6 a 10 SM', 0.022), ('Sim', 0.022), ('Pós-graduação', 0.024), ('Uma', 0.025), ('SP', 0.026), ('De 3 a 4,5 SM', 0.028), ('Parentes', 0.028), ('Alguns.1', 0.028), ('Quatro', 0.029), ('Até 1,5 SM', 0.032), ('1-3', 0.038), ('De 10 a 30 SM', 0.049), ('Muito boa', 0.051), ('Não se aplica.1', 0.108)]\n",
      "\n"
     ]
    }
   ],
   "source": [
    "for i_fold in range(k):\n",
    "    \n",
    "    # Separação dos folds\n",
    "    \n",
    "    folds_treinamento = array_folds.copy()\n",
    "    fold_teste = array_folds[i_fold]\n",
    "    \n",
    "    del folds_treinamento[i_fold]\n",
    "    \n",
    "    folds_treinamento = pd.concat(folds_treinamento, sort=False)\n",
    "    \n",
    "    # Separação em X e y\n",
    "    \n",
    "    numero_caracteristicas = enade_ano.shape[1] - 1\n",
    "    \n",
    "    X_folds_treinamento = folds_treinamento.iloc[:, 0:numero_caracteristicas]\n",
    "    y_folds_treinamento = folds_treinamento.iloc[:, -1]\n",
    "    \n",
    "    X_fold_teste = fold_teste.iloc[:, 0:numero_caracteristicas]\n",
    "    y_fold_teste = fold_teste.iloc[:, -1]\n",
    "    \n",
    "    # Normalização de treino e teste\n",
    "    \n",
    "    normalizador_treinamento = StandardScaler()\n",
    "    \n",
    "    normalizador_treinamento.fit(X_folds_treinamento)\n",
    "    treinamento_normalizado = normalizador_treinamento.transform(X_folds_treinamento)\n",
    "    \n",
    "    normalizador_teste = StandardScaler()\n",
    "    \n",
    "    normalizador_teste.fit(X_fold_teste)\n",
    "    teste_normalizado = normalizador_teste.transform(X_fold_teste)\n",
    "    \n",
    "    # Busca por hyperparâmetros\n",
    "    \n",
    "    parametros_para_busca = {\"criterion\":['gini', 'entropy'],\n",
    "                              \"min_samples_leaf\": [10, 30, 50],\n",
    "                              \"ccp_alpha\": [0.001, 0.0015, 0.0017, 0.002]}\n",
    "    \n",
    "    classificador = tree.DecisionTreeClassifier()\n",
    "    \n",
    "    busca = HalvingGridSearchCV(classificador, parametros_para_busca, scoring=\"f1_weighted\").fit(treinamento_normalizado, y_folds_treinamento)\n",
    "    \n",
    "    busca.best_estimator_.fit(treinamento_normalizado, y_folds_treinamento)\n",
    "    y_predito = busca.best_estimator_.predict(teste_normalizado)\n",
    "    \n",
    "    melhor_classificador = str(busca.best_estimator_)\n",
    "    importancia_features = busca.best_estimator_.feature_importances_\n",
    "    resultado = f1_score(y_fold_teste, y_predito, average='weighted')\n",
    "    \n",
    "    lista_features = X_folds_treinamento.columns.tolist()\n",
    "    \n",
    "    df_importanca_feature = {}\n",
    "    for i, feature in enumerate(lista_features):\n",
    "        df_importanca_feature[feature] = round(importancia_features[i], 3)\n",
    "    \n",
    "    sorted_df = sorted(df_importanca_feature.items(), key=lambda x:x[1])\n",
    "    \n",
    "    print(f\"Teste: fold {i_fold}\")\n",
    "    print(f\"Classificador: \\n\\n{melhor_classificador}\\n\")\n",
    "    print(f\"Resultado: {resultado}\\n\")\n",
    "    print(f\"Características importantes: {sorted_df}\\n\")"
   ]
  },
  {
   "cell_type": "markdown",
   "id": "ef4d33e6-1190-4498-bccd-a4a37d887f95",
   "metadata": {},
   "source": [
    "### Visualização das mudanças nas características da árvore conforme aumentamos o valor de ccp_alpha"
   ]
  },
  {
   "cell_type": "code",
   "execution_count": null,
   "id": "d2256b45-e860-4f46-b341-0ab3fdfeabc7",
   "metadata": {},
   "outputs": [],
   "source": [
    "path = classfier.cost_complexity_pruning_path(X_train, y_train)\n",
    "ccp_alphas, impurities = path.ccp_alphas, path.impurities"
   ]
  },
  {
   "cell_type": "code",
   "execution_count": null,
   "id": "8c1c4411-4c4b-42a3-911f-55d6cdf31b3e",
   "metadata": {},
   "outputs": [],
   "source": [
    "fig, ax = plt.subplots()\n",
    "ax.plot(ccp_alphas[:-1], impurities[:-1], marker=\"o\", drawstyle=\"steps-post\")\n",
    "ax.set_xlabel(\"effective alpha\")\n",
    "ax.set_ylabel(\"total impurity of leaves\")\n",
    "ax.set_title(\"Total Impurity vs effective alpha for training set\")"
   ]
  },
  {
   "cell_type": "code",
   "execution_count": null,
   "id": "55afdc07-93dd-4391-af04-6cb40387c289",
   "metadata": {},
   "outputs": [],
   "source": [
    "clfs = []\n",
    "for ccp_alpha in ccp_alphas:\n",
    "    clf = tree.DecisionTreeClassifier(random_state=0, ccp_alpha=ccp_alpha)\n",
    "    clf.fit(X_train, y_train)\n",
    "    clfs.append(clf)\n",
    "print(\n",
    "    \"Number of nodes in the last tree is: {} with ccp_alpha: {}\".format(\n",
    "        clfs[-1].tree_.node_count, ccp_alphas[-1]\n",
    "    )\n",
    ")"
   ]
  },
  {
   "cell_type": "code",
   "execution_count": null,
   "id": "50803f93-0f31-469e-bf39-af2cf03eaaa1",
   "metadata": {},
   "outputs": [],
   "source": [
    "clfs = clfs[:-1]\n",
    "ccp_alphas = ccp_alphas[:-1]\n",
    "\n",
    "node_counts = [clf.tree_.node_count for clf in clfs]\n",
    "depth = [clf.tree_.max_depth for clf in clfs]\n",
    "fig, ax = plt.subplots(2, 1)\n",
    "ax[0].plot(ccp_alphas, node_counts, marker=\"o\", drawstyle=\"steps-post\")\n",
    "ax[0].set_xlabel(\"alpha\")\n",
    "ax[0].set_ylabel(\"number of nodes\")\n",
    "ax[0].set_title(\"Number of nodes vs alpha\")\n",
    "ax[1].plot(ccp_alphas, depth, marker=\"o\", drawstyle=\"steps-post\")\n",
    "ax[1].set_xlabel(\"alpha\")\n",
    "ax[1].set_ylabel(\"depth of tree\")\n",
    "ax[1].set_title(\"Depth vs alpha\")\n",
    "fig.tight_layout()"
   ]
  },
  {
   "cell_type": "code",
   "execution_count": null,
   "id": "b436426c-85c7-4624-beae-440fe7a08ce1",
   "metadata": {},
   "outputs": [],
   "source": [
    "train_scores = [clf.score(X_train, y_train) for clf in clfs]\n",
    "test_scores = [clf.score(X_test, y_test) for clf in clfs]\n",
    "\n",
    "fig, ax = plt.subplots()\n",
    "ax.set_xlabel(\"alpha\")\n",
    "ax.set_ylabel(\"accuracy\")\n",
    "ax.set_title(\"Accuracy vs alpha for training and testing sets\")\n",
    "ax.plot(ccp_alphas, train_scores, marker=\"o\", label=\"train\", drawstyle=\"steps-post\")\n",
    "ax.plot(ccp_alphas, test_scores, marker=\"o\", label=\"test\", drawstyle=\"steps-post\")\n",
    "ax.legend()\n",
    "plt.show()"
   ]
  },
  {
   "cell_type": "markdown",
   "id": "c052d48b-b6fb-4927-a800-f273e77ba316",
   "metadata": {},
   "source": [
    "### Matriz de Confusão"
   ]
  },
  {
   "cell_type": "code",
   "execution_count": null,
   "id": "2c5bd0df-94c2-4af6-8b69-08322e71c353",
   "metadata": {},
   "outputs": [],
   "source": [
    "y_pred = search.predict(X_test)"
   ]
  },
  {
   "cell_type": "code",
   "execution_count": null,
   "id": "f5831514-b0e5-4393-b73e-fd791cd07b16",
   "metadata": {},
   "outputs": [],
   "source": [
    "y_pred"
   ]
  },
  {
   "cell_type": "code",
   "execution_count": null,
   "id": "72a6f1dd-6006-4a23-9df6-16dc7039a36c",
   "metadata": {},
   "outputs": [],
   "source": [
    "cm = confusion_matrix(y_test, y_pred, labels=search.classes_)\n",
    "disp = ConfusionMatrixDisplay(confusion_matrix=cm,\n",
    "                              display_labels=search.classes_)\n",
    "disp.plot()\n",
    "plt.savefig('sample.png')\n",
    "plt.show()"
   ]
  }
 ],
 "metadata": {
  "kernelspec": {
   "display_name": "Python 3 (ipykernel)",
   "language": "python",
   "name": "python3"
  },
  "language_info": {
   "codemirror_mode": {
    "name": "ipython",
    "version": 3
   },
   "file_extension": ".py",
   "mimetype": "text/x-python",
   "name": "python",
   "nbconvert_exporter": "python",
   "pygments_lexer": "ipython3",
   "version": "3.9.13"
  }
 },
 "nbformat": 4,
 "nbformat_minor": 5
}
