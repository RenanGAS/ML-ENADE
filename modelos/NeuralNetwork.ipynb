{
 "cells": [
  {
   "cell_type": "code",
   "execution_count": 9,
   "id": "86af9735-8464-4023-a48b-eaa5e85ad425",
   "metadata": {},
   "outputs": [],
   "source": [
    "import pandas as pd\n",
    "import numpy as np\n",
    "\n",
    "from sklearn.neural_network import MLPClassifier\n",
    "from sklearn.model_selection import train_test_split\n",
    "\n",
    "from sklearn.experimental import enable_halving_search_cv\n",
    "from sklearn.model_selection import HalvingGridSearchCV\n",
    "\n",
    "import graphviz \n",
    "import matplotlib.pyplot as plt\n",
    "from sklearn.metrics import confusion_matrix, ConfusionMatrixDisplay\n",
    "\n",
    "from sklearn.metrics import top_k_accuracy_score\n",
    "from sklearn.preprocessing import StandardScaler"
   ]
  },
  {
   "cell_type": "code",
   "execution_count": 10,
   "id": "25db4a6b-5068-441a-9e65-9f471f863755",
   "metadata": {},
   "outputs": [],
   "source": [
    "data = pd.read_csv(\"../tabela_final_treinamento.csv\")\n",
    "\n",
    "X = data.iloc[:, 0:225]\n",
    "Y = data.iloc[:, -1]"
   ]
  },
  {
   "cell_type": "code",
   "execution_count": 11,
   "id": "3646efa3-059e-41fc-9a75-c245a10a638c",
   "metadata": {},
   "outputs": [],
   "source": [
    "X_train, X_test, y_train, y_test = train_test_split(X, Y, stratify=Y, test_size=0.20, random_state=42)"
   ]
  },
  {
   "cell_type": "code",
   "execution_count": 12,
   "id": "821fbfb5-d597-4933-996b-c6cb1f14e8c7",
   "metadata": {},
   "outputs": [],
   "source": [
    "scaler_train = StandardScaler()"
   ]
  },
  {
   "cell_type": "code",
   "execution_count": 13,
   "id": "7236752d-bde3-40f6-9a24-628a6aad93b7",
   "metadata": {},
   "outputs": [
    {
     "data": {
      "text/plain": [
       "array([[-0.05492008, -0.19108476, -0.36056737, ..., -0.41935759,\n",
       "        -0.31903784, -0.1211944 ],\n",
       "       [-0.05492008,  0.01865806, -0.0199829 , ...,  0.67472059,\n",
       "        -0.31903784, -0.1211944 ],\n",
       "       [-0.05492008, -0.25101129, -0.46536259, ..., -0.41935759,\n",
       "        -0.31903784, -0.1211944 ],\n",
       "       ...,\n",
       "       [-0.05492008,  0.07858459, -0.30816976, ..., -0.41935759,\n",
       "        -0.31903784,  0.00455051],\n",
       "       [-0.05492008, -0.19108476, -0.30816976, ..., -0.41935759,\n",
       "        -0.31903784, -0.1211944 ],\n",
       "       [-0.05492008,  0.07858459, -0.20337454, ..., -0.41935759,\n",
       "        -0.31903784, -0.05832194]])"
      ]
     },
     "execution_count": 13,
     "metadata": {},
     "output_type": "execute_result"
    }
   ],
   "source": [
    "scaler_train.fit(X_train)\n",
    "normalized_train = scaler_train.transform(X_train)\n",
    "normalized_train"
   ]
  },
  {
   "cell_type": "code",
   "execution_count": 14,
   "id": "f89cf3ea-3f7d-405c-b932-ca5c140c7a13",
   "metadata": {},
   "outputs": [],
   "source": [
    "scaler_test = StandardScaler()"
   ]
  },
  {
   "cell_type": "code",
   "execution_count": 15,
   "id": "ccbfc35b-3758-450f-877d-7e77359c6da5",
   "metadata": {},
   "outputs": [
    {
     "data": {
      "text/plain": [
       "array([[-0.05381314, -0.41482246, -0.72504254, ..., -0.50609757,\n",
       "        -0.3808215 , -0.36780542],\n",
       "       [-0.05381314,  0.03317813,  0.3631335 , ...,  0.245966  ,\n",
       "        -0.3808215 , -0.36780542],\n",
       "       [-0.05381314, -0.24682224, -0.28977212, ...,  0.245966  ,\n",
       "        -0.3808215 , -0.36780542],\n",
       "       ...,\n",
       "       [-0.05381314, -0.35882238, -0.47631659, ..., -0.50609757,\n",
       "        -0.3808215 , -0.36780542],\n",
       "       [-0.05381314, -0.35882238, -0.47631659, ..., -0.50609757,\n",
       "        -0.3808215 , -0.36780542],\n",
       "       [-0.05381314, -0.41482246, -0.56958882, ..., -0.50609757,\n",
       "        -0.3808215 , -0.36780542]])"
      ]
     },
     "execution_count": 15,
     "metadata": {},
     "output_type": "execute_result"
    }
   ],
   "source": [
    "scaler_test.fit(X_test)\n",
    "normalized_test = scaler_test.transform(X_test)\n",
    "normalized_test"
   ]
  },
  {
   "cell_type": "code",
   "execution_count": 16,
   "id": "bfb80c13-6a1c-4efe-883d-319097a6e713",
   "metadata": {},
   "outputs": [],
   "source": [
    "param_grid = {\"hidden_layer_sizes\": [10, 20, 10], \n",
    "              \"activation\": [\"relu\", \"tanh\"],\n",
    "              \"solver\": [\"adam\", \"sgd\"],\n",
    "              \"learning_rate_init\": [0.001, 0.01, 0.1],\n",
    "              \"tol\": [0.1, 0.001, 0.0001],\n",
    "              \"alpha\": [0.0001, 0.01, 0.1],\n",
    "              \"batch_size\": [32, 60, 100]\n",
    "             }\n",
    "\n",
    "# \"max_iter\": [100, 200, 500],"
   ]
  },
  {
   "cell_type": "code",
   "execution_count": 17,
   "id": "3df5ae1f-794f-46bf-a97f-ef3b5553101a",
   "metadata": {},
   "outputs": [],
   "source": [
    "classifier = MLPClassifier()"
   ]
  },
  {
   "cell_type": "code",
   "execution_count": null,
   "id": "91a8b7bb-3f01-4062-9473-0a4b81429f15",
   "metadata": {},
   "outputs": [],
   "source": [
    "search = HalvingGridSearchCV(classifier, param_grid, scoring=\"f1_weighted\").fit(X_train, y_train) "
   ]
  },
  {
   "cell_type": "code",
   "execution_count": null,
   "id": "105584d1-a74a-42ed-a038-5bc348f47659",
   "metadata": {},
   "outputs": [],
   "source": [
    "search_normalized = HalvingGridSearchCV(classifier, param_grid, scoring=\"f1_weighted\").fit(normalized_train, y_train) "
   ]
  },
  {
   "cell_type": "code",
   "execution_count": null,
   "id": "ff99d08b-2aca-4e18-9d64-00a16beabfec",
   "metadata": {},
   "outputs": [],
   "source": [
    "search.best_params_"
   ]
  },
  {
   "cell_type": "code",
   "execution_count": 6,
   "id": "839cfd35-573d-48b9-9c2f-54b7b3768f5c",
   "metadata": {},
   "outputs": [
    {
     "data": {
      "text/plain": [
       "0.4952981362068486"
      ]
     },
     "execution_count": 6,
     "metadata": {},
     "output_type": "execute_result"
    }
   ],
   "source": [
    "search.score(X_test, y_test)"
   ]
  },
  {
   "cell_type": "code",
   "execution_count": 20,
   "id": "fc58398f-2820-489b-b65c-466d8e904398",
   "metadata": {},
   "outputs": [
    {
     "data": {
      "text/plain": [
       "0.48821463050293956"
      ]
     },
     "execution_count": 20,
     "metadata": {},
     "output_type": "execute_result"
    }
   ],
   "source": [
    "search_normalized.score(normalized_test, y_test)"
   ]
  },
  {
   "cell_type": "code",
   "execution_count": 21,
   "id": "97332044-29e0-49ce-ba96-569faf6134e4",
   "metadata": {},
   "outputs": [],
   "source": [
    "y_score = search.predict_proba(X_test)"
   ]
  },
  {
   "cell_type": "code",
   "execution_count": 22,
   "id": "d444d5f0-3e7c-48bb-9ac2-5b487ff9614a",
   "metadata": {},
   "outputs": [
    {
     "data": {
      "text/plain": [
       "0.8304794520547946"
      ]
     },
     "execution_count": 22,
     "metadata": {},
     "output_type": "execute_result"
    }
   ],
   "source": [
    "top_k_accuracy_score(y_test, y_score, k=2, labels=[1, 2, 3, 4, 5])"
   ]
  },
  {
   "cell_type": "code",
   "execution_count": 7,
   "id": "4874047e-9e49-43c9-a287-0cbbb01b8636",
   "metadata": {},
   "outputs": [],
   "source": [
    "y_pred = search.predict(X_test)"
   ]
  },
  {
   "cell_type": "code",
   "execution_count": 8,
   "id": "0c8b8788-c712-4634-9e58-b070fad46328",
   "metadata": {},
   "outputs": [
    {
     "data": {
      "image/png": "[encoded data removed]",
      "text/plain": [
       "<Figure size 640x480 with 2 Axes>"
      ]
     },
     "metadata": {},
     "output_type": "display_data"
    }
   ],
   "source": [
    "cm = confusion_matrix(y_test, y_pred, labels=search.classes_)\n",
    "disp = ConfusionMatrixDisplay(confusion_matrix=cm,\n",
    "                              display_labels=search.classes_)\n",
    "disp.plot()\n",
    "plt.show()"
   ]
  },
  {
   "cell_type": "code",
   "execution_count": null,
   "id": "f59e7b64-db31-4de0-a405-33749c67b89f",
   "metadata": {},
   "outputs": [],
   "source": []
  }
 ],
 "metadata": {
  "kernelspec": {
   "display_name": "Python 3 (ipykernel)",
   "language": "python",
   "name": "python3"
  },
  "language_info": {
   "codemirror_mode": {
    "name": "ipython",
    "version": 3
   },
   "file_extension": ".py",
   "mimetype": "text/x-python",
   "name": "python",
   "nbconvert_exporter": "python",
   "pygments_lexer": "ipython3",
   "version": "3.9.13"
  }
 },
 "nbformat": 4,
 "nbformat_minor": 5
}
