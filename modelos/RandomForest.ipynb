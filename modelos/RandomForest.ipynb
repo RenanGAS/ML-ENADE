{
 "cells": [
  {
   "cell_type": "code",
   "execution_count": 1,
   "id": "6b3f8b68-0501-43f6-b611-f61786612442",
   "metadata": {},
   "outputs": [],
   "source": [
    "import pandas as pd\n",
    "import numpy as np\n",
    "\n",
    "from sklearn.model_selection import train_test_split\n",
    "from sklearn.ensemble import RandomForestClassifier\n",
    "\n",
    "from sklearn.experimental import enable_halving_search_cv\n",
    "from sklearn.model_selection import HalvingGridSearchCV\n",
    "\n",
    "import graphviz\n",
    "import matplotlib.pyplot as plt\n",
    "from sklearn.metrics import confusion_matrix, ConfusionMatrixDisplay\n",
    "\n",
    "from sklearn.metrics import top_k_accuracy_score\n",
    "from sklearn.preprocessing import StandardScaler, MinMaxScaler"
   ]
  },
  {
   "cell_type": "code",
   "execution_count": 2,
   "id": "ddd88b2f-bdc8-4165-9ed3-5665a1321b71",
   "metadata": {},
   "outputs": [],
   "source": [
    "data = pd.read_csv(\"../teste_OHE_curso_treinamento.csv\")\n",
    "\n",
    "X = data.iloc[:, 0:225]\n",
    "Y = data.iloc[:, -1]"
   ]
  },
  {
   "cell_type": "code",
   "execution_count": 3,
   "id": "e9476ea0-f55f-4d1a-96e5-69f03ffe2e74",
   "metadata": {},
   "outputs": [],
   "source": [
    "X_train, X_test, y_train, y_test = train_test_split(X, Y, test_size=0.30, random_state=42)"
   ]
  },
  {
   "cell_type": "code",
   "execution_count": 4,
   "id": "fef2458f-f466-4fa9-9fb4-585aa0f3ec0c",
   "metadata": {},
   "outputs": [],
   "source": [
    "scaler_train = StandardScaler()"
   ]
  },
  {
   "cell_type": "code",
   "execution_count": 5,
   "id": "57e5e49c-7aeb-4ee0-b877-6accba743e05",
   "metadata": {},
   "outputs": [
    {
     "data": {
      "text/plain": [
       "array([[-0.0356979 ,  1.40318206, -1.39441362, ..., -0.47660326,\n",
       "        -0.35151679,  0.28797977],\n",
       "       [-0.0356979 , -0.60157525,  0.60254008, ..., -0.47660326,\n",
       "        -0.35151679,  1.01759169],\n",
       "       [-0.0356979 , -0.1272201 ,  0.13003137, ..., -0.19973614,\n",
       "         0.51704332, -0.04531348],\n",
       "       ...,\n",
       "       [-0.0356979 , -0.71207844,  0.71261313, ..., -0.47660326,\n",
       "        -0.35151679,  0.2526392 ],\n",
       "       [-0.0356979 , -1.09270053,  1.09175363, ...,  1.79370712,\n",
       "        -0.35151679,  0.10892085],\n",
       "       [-0.0356979 , -0.64159286,  0.64240192, ...,  0.36425244,\n",
       "        -0.35151679, -0.0401204 ]])"
      ]
     },
     "execution_count": 5,
     "metadata": {},
     "output_type": "execute_result"
    }
   ],
   "source": [
    "scaler_train.fit(X_train)\n",
    "normalized_train = scaler_train.transform(X_train)\n",
    "normalized_train"
   ]
  },
  {
   "cell_type": "code",
   "execution_count": 6,
   "id": "faa8eece-3be7-41cc-8bcd-43dcced915c5",
   "metadata": {},
   "outputs": [],
   "source": [
    "scaler_test = StandardScaler()"
   ]
  },
  {
   "cell_type": "code",
   "execution_count": 7,
   "id": "95a0b7c8-10f2-4b8b-81ef-891ca9833725",
   "metadata": {},
   "outputs": [
    {
     "data": {
      "text/plain": [
       "array([[-0.0922025 , -1.11704161,  1.11859718, ..., -0.46753094,\n",
       "        -0.32932818, -0.46168587],\n",
       "       [-0.0922025 , -0.23161393,  0.23445452, ...,  0.24694206,\n",
       "        -0.32932818, -0.46168587],\n",
       "       [-0.0922025 ,  0.88992781, -0.88545951, ..., -0.46753094,\n",
       "        -0.32932818, -0.46168587],\n",
       "       ...,\n",
       "       [-0.0922025 , -0.14592738,  0.14889233, ..., -0.46753094,\n",
       "         1.8632069 , -0.09759741],\n",
       "       [-0.0922025 ,  0.84629804, -0.84189306, ...,  1.64482403,\n",
       "         0.04006632, -0.21632191],\n",
       "       [-0.0922025 , -1.11704161,  1.11859718, ...,  1.55680924,\n",
       "        -0.32932818, -0.46168587]])"
      ]
     },
     "execution_count": 7,
     "metadata": {},
     "output_type": "execute_result"
    }
   ],
   "source": [
    "scaler_test.fit(X_test)\n",
    "normalized_test = scaler_test.transform(X_test)\n",
    "normalized_test"
   ]
  },
  {
   "cell_type": "code",
   "execution_count": 19,
   "id": "058a9489-2bd5-4686-93ae-0898ef69e2cb",
   "metadata": {},
   "outputs": [
    {
     "data": {
      "text/plain": [
       "array([[0.        , 0.02626642, 0.1463621 , ..., 0.1       , 0.03333333,\n",
       "        0.02167488],\n",
       "       [0.        , 0.00375235, 0.0321489 , ..., 0.        , 0.        ,\n",
       "        0.00098522],\n",
       "       [0.        , 0.00281426, 0.00169205, ..., 0.        , 0.        ,\n",
       "        0.        ],\n",
       "       ...,\n",
       "       [0.        , 0.00093809, 0.01099831, ..., 0.        , 0.        ,\n",
       "        0.00098522],\n",
       "       [0.        , 0.        , 0.01522843, ..., 0.05      , 0.        ,\n",
       "        0.00098522],\n",
       "       [0.        , 0.00187617, 0.01945854, ..., 0.025     , 0.        ,\n",
       "        0.00098522]])"
      ]
     },
     "execution_count": 19,
     "metadata": {},
     "output_type": "execute_result"
    }
   ],
   "source": [
    "scaler_train_MM = MinMaxScaler()\n",
    "\n",
    "normalized_train_MM = scaler_train_MM.fit_transform(X_train)\n",
    "normalized_train_MM"
   ]
  },
  {
   "cell_type": "code",
   "execution_count": 20,
   "id": "e18e0ff5-7e5b-44a4-92aa-9ebab86be4a6",
   "metadata": {},
   "outputs": [
    {
     "data": {
      "text/plain": [
       "array([[0.        , 0.        , 0.00377834, ..., 0.        , 0.        ,\n",
       "        0.        ],\n",
       "       [0.        , 0.00965251, 0.03400504, ..., 0.02857143, 0.        ,\n",
       "        0.        ],\n",
       "       [0.        , 0.00579151, 0.00503778, ..., 0.        , 0.        ,\n",
       "        0.        ],\n",
       "       ...,\n",
       "       [0.        , 0.02316602, 0.05667506, ..., 0.05714286, 0.        ,\n",
       "        0.00847458],\n",
       "       [0.        , 0.0019305 , 0.00629723, ..., 0.        , 0.        ,\n",
       "        0.        ],\n",
       "       [0.        , 0.00772201, 0.00125945, ..., 0.        , 0.        ,\n",
       "        0.        ]])"
      ]
     },
     "execution_count": 20,
     "metadata": {},
     "output_type": "execute_result"
    }
   ],
   "source": [
    "scaler_test_MM = MinMaxScaler()\n",
    "\n",
    "normalized_test_MM = scaler_test_MM.fit_transform(X_test)\n",
    "normalized_test_MM"
   ]
  },
  {
   "cell_type": "code",
   "execution_count": 8,
   "id": "4907b72b-df4a-48d8-8506-1d2eee213b2c",
   "metadata": {},
   "outputs": [],
   "source": [
    "classifier = RandomForestClassifier()"
   ]
  },
  {
   "cell_type": "code",
   "execution_count": 9,
   "id": "92214bda-fff3-44f4-8b6d-d94a0f93fa3d",
   "metadata": {},
   "outputs": [],
   "source": [
    "param_grid = {\"n_estimators\": [60, 100, 200],\n",
    "            \"criterion\":['gini', 'entropy'],\n",
    "              \"min_samples_leaf\": [10, 30, 50],\n",
    "              \"ccp_alpha\": [0.001, 0.0015, 0.0017, 0.002]}"
   ]
  },
  {
   "cell_type": "code",
   "execution_count": 6,
   "id": "1bd923f8-ff16-43d2-8e03-011640fe1683",
   "metadata": {},
   "outputs": [],
   "source": [
    "search = HalvingGridSearchCV(classifier, param_grid, scoring=\"f1_weighted\").fit(X_train, y_train) "
   ]
  },
  {
   "cell_type": "code",
   "execution_count": 10,
   "id": "fa923acc-07bf-4fc1-bcfc-8f641c40f07d",
   "metadata": {},
   "outputs": [],
   "source": [
    "search_normalized = HalvingGridSearchCV(classifier, param_grid, scoring=\"f1_weighted\").fit(normalized_train, y_train) "
   ]
  },
  {
   "cell_type": "code",
   "execution_count": 7,
   "id": "89252c11-b62f-47be-b270-39ff17e304da",
   "metadata": {},
   "outputs": [
    {
     "data": {
      "text/plain": [
       "{'ccp_alpha': 0.0017,\n",
       " 'criterion': 'entropy',\n",
       " 'min_samples_leaf': 10,\n",
       " 'n_estimators': 100}"
      ]
     },
     "execution_count": 7,
     "metadata": {},
     "output_type": "execute_result"
    }
   ],
   "source": [
    "search.best_params_ "
   ]
  },
  {
   "cell_type": "code",
   "execution_count": 13,
   "id": "298f2039-4151-4299-b366-10cd4499d259",
   "metadata": {},
   "outputs": [
    {
     "data": {
      "text/plain": [
       "0.4437857173167798"
      ]
     },
     "execution_count": 13,
     "metadata": {},
     "output_type": "execute_result"
    }
   ],
   "source": [
    "search.score(X_test, y_test)"
   ]
  },
  {
   "cell_type": "code",
   "execution_count": 11,
   "id": "2f1692c2-2569-42e8-a92b-3b06e07f455e",
   "metadata": {},
   "outputs": [
    {
     "data": {
      "text/plain": [
       "0.4472537887574527"
      ]
     },
     "execution_count": 11,
     "metadata": {},
     "output_type": "execute_result"
    }
   ],
   "source": [
    "search_normalized.score(normalized_test, y_test)"
   ]
  },
  {
   "cell_type": "code",
   "execution_count": 8,
   "id": "355a79a3-10a3-4eb2-9974-64608d904992",
   "metadata": {},
   "outputs": [],
   "source": [
    "y_score = search.predict_proba(X_test)"
   ]
  },
  {
   "cell_type": "code",
   "execution_count": 25,
   "id": "b363cea6-1b3d-410b-8958-e9d34f02531e",
   "metadata": {},
   "outputs": [],
   "source": [
    "y_score = search_normalized.predict_proba(normalized_test_MM)"
   ]
  },
  {
   "cell_type": "code",
   "execution_count": 27,
   "id": "fd94a182-0ca3-40e1-8665-e6f7892123b4",
   "metadata": {},
   "outputs": [
    {
     "data": {
      "text/plain": [
       "0.9263698630136986"
      ]
     },
     "execution_count": 27,
     "metadata": {},
     "output_type": "execute_result"
    }
   ],
   "source": [
    "top_k_accuracy_score(y_test, y_score, k=3, labels=[1, 2, 3, 4, 5])"
   ]
  },
  {
   "cell_type": "code",
   "execution_count": 14,
   "id": "3e010b3e-2e96-4883-b7f7-2a3fdac9aa68",
   "metadata": {},
   "outputs": [],
   "source": [
    "y_pred = search.predict(X_test)"
   ]
  },
  {
   "cell_type": "code",
   "execution_count": 16,
   "id": "0e869b83-1dac-4988-90d5-540a6187c443",
   "metadata": {},
   "outputs": [
    {
     "data": {
      "image/png": "[encoded data removed]",
      "text/plain": [
       "<Figure size 640x480 with 2 Axes>"
      ]
     },
     "metadata": {},
     "output_type": "display_data"
    }
   ],
   "source": [
    "cm = confusion_matrix(y_test, y_pred, labels=search.classes_)\n",
    "disp = ConfusionMatrixDisplay(confusion_matrix=cm,\n",
    "                              display_labels=search.classes_)\n",
    "disp.plot()\n",
    "plt.show()"
   ]
  },
  {
   "cell_type": "code",
   "execution_count": null,
   "id": "13bd4ea4-e290-4eb7-9513-9e60eec8931b",
   "metadata": {},
   "outputs": [],
   "source": []
  }
 ],
 "metadata": {
  "kernelspec": {
   "display_name": "Python 3 (ipykernel)",
   "language": "python",
   "name": "python3"
  },
  "language_info": {
   "codemirror_mode": {
    "name": "ipython",
    "version": 3
   },
   "file_extension": ".py",
   "mimetype": "text/x-python",
   "name": "python",
   "nbconvert_exporter": "python",
   "pygments_lexer": "ipython3",
   "version": "3.9.13"
  }
 },
 "nbformat": 4,
 "nbformat_minor": 5
}
