{
 "cells": [
  {
   "cell_type": "code",
   "execution_count": 21,
   "id": "14a4cda1-16de-46e2-880f-b1cbad889949",
   "metadata": {},
   "outputs": [],
   "source": [
    "import pandas as pd\n",
    "import numpy as np\n",
    "\n",
    "from sklearn.svm import SVC\n",
    "from sklearn.model_selection import train_test_split\n",
    "\n",
    "from sklearn.experimental import enable_halving_search_cv\n",
    "from sklearn.model_selection import HalvingGridSearchCV\n",
    "\n",
    "import graphviz \n",
    "import matplotlib.pyplot as plt\n",
    "from sklearn.metrics import confusion_matrix, ConfusionMatrixDisplay\n",
    "\n",
    "from sklearn.metrics import top_k_accuracy_score\n",
    "from sklearn.preprocessing import StandardScaler, MinMaxScaler\n",
    "\n",
    "from sklearn.decomposition import PCA\n",
    "\n",
    "from sklearn.model_selection import KFold\n",
    "from sklearn.model_selection import cross_val_score\n",
    "\n",
    "from sklearn.metrics import f1_score"
   ]
  },
  {
   "cell_type": "markdown",
   "id": "85be8409-3ca3-4cac-811b-b703a1071e00",
   "metadata": {},
   "source": [
    "### Carregamento do conjunto de dados de todos os anos"
   ]
  },
  {
   "cell_type": "code",
   "execution_count": 22,
   "id": "9de169d5-f7b9-4bd0-9ea7-75bf5b5c2530",
   "metadata": {},
   "outputs": [],
   "source": [
    "enade_todos_anos = pd.read_csv(\"../teste_OHE_curso_treinamento.csv\")"
   ]
  },
  {
   "cell_type": "markdown",
   "id": "12e018fe-30d9-42f0-8f50-cf87353c6b3a",
   "metadata": {},
   "source": [
    "### Cross-validation (k = 5)"
   ]
  },
  {
   "cell_type": "code",
   "execution_count": 23,
   "id": "7fb9984c-c915-4cc8-aac3-328f1fa586dd",
   "metadata": {},
   "outputs": [],
   "source": [
    "k = 5"
   ]
  },
  {
   "cell_type": "code",
   "execution_count": 24,
   "id": "b598791a-1656-4022-b61f-92888e7a836b",
   "metadata": {},
   "outputs": [],
   "source": [
    "array_folds = np.array_split(enade_todos_anos, k)"
   ]
  },
  {
   "cell_type": "code",
   "execution_count": 25,
   "id": "6a03e9c3-c996-41a1-b284-be5dbd3a4089",
   "metadata": {},
   "outputs": [
    {
     "name": "stdout",
     "output_type": "stream",
     "text": [
      "Teste: fold 0\n",
      "Classificador: \n",
      "\n",
      "SVC(C=0.1, gamma=0.1, kernel='linear', probability=True, tol=1e-05)\n",
      "\n",
      "Resultado: 0.5199365127119691\n",
      "\n",
      "Teste: fold 1\n",
      "Classificador: \n",
      "\n",
      "SVC(C=0.01, gamma=1, kernel='linear', probability=True, tol=0.1)\n",
      "\n",
      "Resultado: 0.4782876615620517\n",
      "\n",
      "Teste: fold 2\n",
      "Classificador: \n",
      "\n",
      "SVC(C=10, gamma=10, kernel='linear', probability=True, tol=0.1)\n",
      "\n",
      "Resultado: 0.4458703365480332\n",
      "\n",
      "Teste: fold 3\n",
      "Classificador: \n",
      "\n",
      "SVC(C=0.1, gamma=0.1, kernel='linear', probability=True)\n",
      "\n",
      "Resultado: 0.4502946130400957\n",
      "\n",
      "Teste: fold 4\n",
      "Classificador: \n",
      "\n",
      "SVC(C=0.01, gamma=1, kernel='linear', probability=True)\n",
      "\n",
      "Resultado: 0.44753042331424303\n",
      "\n"
     ]
    }
   ],
   "source": [
    "for i_fold in range(k):\n",
    "    \n",
    "    # Separação dos folds\n",
    "    \n",
    "    folds_treinamento = array_folds.copy()\n",
    "    fold_teste = array_folds[i_fold]\n",
    "    \n",
    "    del folds_treinamento[i_fold]\n",
    "    \n",
    "    folds_treinamento = pd.concat(folds_treinamento, sort=False)\n",
    "    \n",
    "    # Separação em X e y\n",
    "    \n",
    "    numero_caracteristicas = enade_todos_anos.shape[1] - 1\n",
    "    \n",
    "    X_folds_treinamento = folds_treinamento.iloc[:, 0:numero_caracteristicas]\n",
    "    y_folds_treinamento = folds_treinamento.iloc[:, -1]\n",
    "    \n",
    "    X_fold_teste = fold_teste.iloc[:, 0:numero_caracteristicas]\n",
    "    y_fold_teste = fold_teste.iloc[:, -1]\n",
    "    \n",
    "    # Normalização de treino e teste\n",
    "    \n",
    "    normalizador_treinamento = StandardScaler()\n",
    "    \n",
    "    normalizador_treinamento.fit(X_folds_treinamento)\n",
    "    treinamento_normalizado = normalizador_treinamento.transform(X_folds_treinamento)\n",
    "    \n",
    "    normalizador_teste = StandardScaler()\n",
    "    \n",
    "    normalizador_teste.fit(X_fold_teste)\n",
    "    teste_normalizado = normalizador_teste.transform(X_fold_teste)\n",
    "    \n",
    "    # Busca por hyperparâmetros\n",
    "    \n",
    "    parametros_para_busca = {\"C\": [0.01, 0.1, 1, 10, 100], \n",
    "              \"kernel\": [\"linear\", \"poly\", \"rbf\"],\n",
    "              \"gamma\": [0.1, 1, 10],\n",
    "              \"tol\": [0.1, 0.001, 0.00001]\n",
    "             }\n",
    "    \n",
    "    classificador = SVC(probability=True)\n",
    "    \n",
    "    busca = HalvingGridSearchCV(classificador, parametros_para_busca, scoring=\"f1_weighted\").fit(treinamento_normalizado, y_folds_treinamento)\n",
    "    \n",
    "    busca.best_estimator_.fit(treinamento_normalizado, y_folds_treinamento)\n",
    "    y_predito = busca.best_estimator_.predict(teste_normalizado)\n",
    "    \n",
    "    melhor_classificador = str(busca.best_estimator_)\n",
    "    resultado = f1_score(y_fold_teste, y_predito, average='weighted')\n",
    "    \n",
    "    print(f\"Teste: fold {i_fold}\")\n",
    "    print(f\"Classificador: \\n\\n{melhor_classificador}\\n\")\n",
    "    print(f\"Resultado: {resultado}\\n\")"
   ]
  },
  {
   "cell_type": "markdown",
   "id": "8d6e1575-e2d0-4dad-bdd2-12f36921fc8f",
   "metadata": {},
   "source": [
    "### Matriz de Confusão"
   ]
  },
  {
   "cell_type": "code",
   "execution_count": null,
   "id": "4c360dc3-c9e3-45a8-8271-9448bf26e0aa",
   "metadata": {},
   "outputs": [],
   "source": [
    "y_pred_HGS = search.predict(X_test)"
   ]
  },
  {
   "cell_type": "code",
   "execution_count": null,
   "id": "5d6a64ad-e324-4a7b-a985-db40c7a27835",
   "metadata": {},
   "outputs": [],
   "source": [
    "cm_HGS = confusion_matrix(y_test, y_pred_HGS, labels=search.classes_)\n",
    "disp_HGS = ConfusionMatrixDisplay(confusion_matrix=cm_HGS,\n",
    "                              display_labels=search.classes_)\n",
    "disp_HGS.plot()\n",
    "plt.show()"
   ]
  },
  {
   "cell_type": "code",
   "execution_count": null,
   "id": "1e7cd5fb-f68c-416a-b239-50b7f9b89e69",
   "metadata": {},
   "outputs": [],
   "source": []
  }
 ],
 "metadata": {
  "kernelspec": {
   "display_name": "Python 3 (ipykernel)",
   "language": "python",
   "name": "python3"
  },
  "language_info": {
   "codemirror_mode": {
    "name": "ipython",
    "version": 3
   },
   "file_extension": ".py",
   "mimetype": "text/x-python",
   "name": "python",
   "nbconvert_exporter": "python",
   "pygments_lexer": "ipython3",
   "version": "3.10.9"
  }
 },
 "nbformat": 4,
 "nbformat_minor": 5
}
