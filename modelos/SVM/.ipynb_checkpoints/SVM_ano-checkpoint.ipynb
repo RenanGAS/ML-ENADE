{
 "cells": [
  {
   "cell_type": "code",
   "execution_count": 1,
   "id": "14a4cda1-16de-46e2-880f-b1cbad889949",
   "metadata": {},
   "outputs": [],
   "source": [
    "import pandas as pd\n",
    "import numpy as np\n",
    "\n",
    "from sklearn.svm import SVC\n",
    "from sklearn.model_selection import train_test_split\n",
    "\n",
    "from sklearn.experimental import enable_halving_search_cv\n",
    "from sklearn.model_selection import HalvingGridSearchCV\n",
    "\n",
    "import graphviz \n",
    "import matplotlib.pyplot as plt\n",
    "from sklearn.metrics import confusion_matrix, ConfusionMatrixDisplay\n",
    "\n",
    "from sklearn.metrics import top_k_accuracy_score\n",
    "from sklearn.preprocessing import StandardScaler, MinMaxScaler\n",
    "\n",
    "from sklearn.decomposition import PCA\n",
    "\n",
    "from sklearn.model_selection import KFold\n",
    "from sklearn.model_selection import cross_val_score\n",
    "\n",
    "from sklearn.metrics import f1_score"
   ]
  },
  {
   "cell_type": "markdown",
   "id": "2cf7183a-10ab-4b2d-9f44-e39657efac04",
   "metadata": {},
   "source": [
    "### Carregamento do conjunto de dados de um curso"
   ]
  },
  {
   "cell_type": "code",
   "execution_count": 26,
   "id": "abfa78e4-1113-4de0-84c2-c1c842b56ab4",
   "metadata": {},
   "outputs": [],
   "source": [
    "curso = \"SI\"\n",
    "\n",
    "enade_curso = pd.read_csv(f\"../../tabelas_cursos/tabela_final_{curso}_treinamento.csv\")\n",
    "enade_curso = enade_curso.sample(frac = 1)\n",
    "enade_curso.reset_index(drop=True, inplace = True)"
   ]
  },
  {
   "cell_type": "markdown",
   "id": "85be8409-3ca3-4cac-811b-b703a1071e00",
   "metadata": {},
   "source": [
    "### Carregamento do conjunto de dados de um ano"
   ]
  },
  {
   "cell_type": "code",
   "execution_count": 2,
   "id": "9de169d5-f7b9-4bd0-9ea7-75bf5b5c2530",
   "metadata": {},
   "outputs": [],
   "source": [
    "ano = 2021\n",
    "\n",
    "enade_curso = pd.read_csv(f\"../../concept_drift/tabela_final_{ano}_tres_anos_treinamento.csv\")"
   ]
  },
  {
   "cell_type": "markdown",
   "id": "5c466cdd-9d6d-499d-a64b-6464868a0c92",
   "metadata": {},
   "source": [
    "### Carregamento do conjunto de dados de IESes públicas/privadas"
   ]
  },
  {
   "cell_type": "code",
   "execution_count": 6,
   "id": "13488ab1-b3bf-4aff-b67d-e86f8cbad3c2",
   "metadata": {},
   "outputs": [],
   "source": [
    "cat_adm = \"Privada\"\n",
    "\n",
    "enade_curso = pd.read_csv(f\"../../tabelas_catADM/tabela_final_{cat_adm}_treinamento.csv\")"
   ]
  },
  {
   "cell_type": "markdown",
   "id": "12e018fe-30d9-42f0-8f50-cf87353c6b3a",
   "metadata": {},
   "source": [
    "### Cross-validation (k = 5)"
   ]
  },
  {
   "cell_type": "code",
   "execution_count": 3,
   "id": "7fb9984c-c915-4cc8-aac3-328f1fa586dd",
   "metadata": {},
   "outputs": [],
   "source": [
    "k = 5"
   ]
  },
  {
   "cell_type": "code",
   "execution_count": 4,
   "id": "b598791a-1656-4022-b61f-92888e7a836b",
   "metadata": {},
   "outputs": [],
   "source": [
    "array_folds = np.array_split(enade_curso, k)"
   ]
  },
  {
   "cell_type": "code",
   "execution_count": 5,
   "id": "6a03e9c3-c996-41a1-b284-be5dbd3a4089",
   "metadata": {},
   "outputs": [
    {
     "name": "stdout",
     "output_type": "stream",
     "text": [
      "0.5031040348218918 0.4285623509265841 0.47196910750275833 0.45604038345661024 0.4321619196624026 "
     ]
    }
   ],
   "source": [
    "for i_fold in range(k):\n",
    "    \n",
    "    # Separação dos folds\n",
    "    \n",
    "    folds_treinamento = array_folds.copy()\n",
    "    fold_teste = array_folds[i_fold]\n",
    "    \n",
    "    del folds_treinamento[i_fold]\n",
    "    \n",
    "    folds_treinamento = pd.concat(folds_treinamento, sort=False)\n",
    "    \n",
    "    # Separação em X e y\n",
    "    \n",
    "    numero_caracteristicas = enade_curso.shape[1] - 1\n",
    "    \n",
    "    X_folds_treinamento = folds_treinamento.iloc[:, 0:numero_caracteristicas]\n",
    "    y_folds_treinamento = folds_treinamento.iloc[:, -1]\n",
    "    \n",
    "    X_fold_teste = fold_teste.iloc[:, 0:numero_caracteristicas]\n",
    "    y_fold_teste = fold_teste.iloc[:, -1]\n",
    "    \n",
    "    # Normalização de treino e teste\n",
    "    \n",
    "    normalizador_treinamento = StandardScaler()\n",
    "    \n",
    "    normalizador_treinamento.fit(X_folds_treinamento)\n",
    "    treinamento_normalizado = normalizador_treinamento.transform(X_folds_treinamento)\n",
    "    \n",
    "    normalizador_teste = StandardScaler()\n",
    "    \n",
    "    normalizador_teste.fit(X_fold_teste)\n",
    "    teste_normalizado = normalizador_teste.transform(X_fold_teste)\n",
    "    \n",
    "    # Busca por hyperparâmetros\n",
    "    \n",
    "    parametros_para_busca = {\"C\": [0.01, 0.1, 1, 10, 100], \n",
    "              \"kernel\": [\"linear\", \"poly\", \"rbf\"],\n",
    "              \"gamma\": [0.1, 1, 10],\n",
    "              \"tol\": [0.1, 0.001, 0.00001]\n",
    "             }\n",
    "    \n",
    "    classificador = SVC(probability=True)\n",
    "    \n",
    "    busca = HalvingGridSearchCV(classificador, parametros_para_busca, scoring=\"f1_weighted\").fit(treinamento_normalizado, y_folds_treinamento)\n",
    "    \n",
    "    busca.best_estimator_.fit(treinamento_normalizado, y_folds_treinamento)\n",
    "    y_predito = busca.best_estimator_.predict(teste_normalizado)\n",
    "    \n",
    "    melhor_classificador = str(busca.best_estimator_)\n",
    "    resultado = f1_score(y_fold_teste, y_predito, average='weighted')\n",
    "    \n",
    "    # print(f\"Teste: fold {i_fold}\")\n",
    "    # print(f\"Classificador: \\n\\n{melhor_classificador}\\n\")\n",
    "    print(f\"{resultado} \", end=\"\")"
   ]
  },
  {
   "cell_type": "markdown",
   "id": "8d6e1575-e2d0-4dad-bdd2-12f36921fc8f",
   "metadata": {},
   "source": [
    "### Matriz de Confusão"
   ]
  },
  {
   "cell_type": "code",
   "execution_count": null,
   "id": "4c360dc3-c9e3-45a8-8271-9448bf26e0aa",
   "metadata": {},
   "outputs": [],
   "source": [
    "y_pred_HGS = search.predict(X_test)"
   ]
  },
  {
   "cell_type": "code",
   "execution_count": null,
   "id": "5d6a64ad-e324-4a7b-a985-db40c7a27835",
   "metadata": {},
   "outputs": [],
   "source": [
    "cm_HGS = confusion_matrix(y_test, y_pred_HGS, labels=search.classes_)\n",
    "disp_HGS = ConfusionMatrixDisplay(confusion_matrix=cm_HGS,\n",
    "                              display_labels=search.classes_)\n",
    "disp_HGS.plot()\n",
    "plt.show()"
   ]
  },
  {
   "cell_type": "code",
   "execution_count": null,
   "id": "1e7cd5fb-f68c-416a-b239-50b7f9b89e69",
   "metadata": {},
   "outputs": [],
   "source": []
  }
 ],
 "metadata": {
  "kernelspec": {
   "display_name": "Python 3 (ipykernel)",
   "language": "python",
   "name": "python3"
  },
  "language_info": {
   "codemirror_mode": {
    "name": "ipython",
    "version": 3
   },
   "file_extension": ".py",
   "mimetype": "text/x-python",
   "name": "python",
   "nbconvert_exporter": "python",
   "pygments_lexer": "ipython3",
   "version": "3.10.9"
  }
 },
 "nbformat": 4,
 "nbformat_minor": 5
}
