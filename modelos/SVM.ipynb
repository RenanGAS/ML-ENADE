{
 "cells": [
  {
   "cell_type": "code",
   "execution_count": 1,
   "id": "14a4cda1-16de-46e2-880f-b1cbad889949",
   "metadata": {},
   "outputs": [],
   "source": [
    "import pandas as pd\n",
    "import numpy as np\n",
    "\n",
    "from sklearn.svm import SVC\n",
    "from sklearn.model_selection import train_test_split\n",
    "\n",
    "from sklearn.experimental import enable_halving_search_cv\n",
    "from sklearn.model_selection import HalvingGridSearchCV\n",
    "\n",
    "import graphviz \n",
    "import matplotlib.pyplot as plt\n",
    "from sklearn.metrics import confusion_matrix, ConfusionMatrixDisplay\n",
    "\n",
    "from sklearn.metrics import top_k_accuracy_score\n",
    "from sklearn.preprocessing import StandardScaler"
   ]
  },
  {
   "cell_type": "code",
   "execution_count": 2,
   "id": "9de169d5-f7b9-4bd0-9ea7-75bf5b5c2530",
   "metadata": {},
   "outputs": [],
   "source": [
    "data = pd.read_csv(\"../tabela_final_treinamento.csv\")\n",
    "\n",
    "X = data.iloc[:, 0:225]\n",
    "Y = data.iloc[:, -1]"
   ]
  },
  {
   "cell_type": "code",
   "execution_count": 3,
   "id": "e2a4922e-66ba-4cfe-9e04-321a82d1216c",
   "metadata": {},
   "outputs": [],
   "source": [
    "X_train, X_test, y_train, y_test = train_test_split(X, Y, stratify=Y, test_size=0.20, random_state=42)"
   ]
  },
  {
   "cell_type": "code",
   "execution_count": 4,
   "id": "82f95d58-cfbe-493f-a6ec-aa5335d18303",
   "metadata": {},
   "outputs": [],
   "source": [
    "scaler_train = StandardScaler()"
   ]
  },
  {
   "cell_type": "code",
   "execution_count": 5,
   "id": "8d3a8f24-e70b-48a2-a4e1-cab56fe07ced",
   "metadata": {},
   "outputs": [
    {
     "data": {
      "text/plain": [
       "array([[-0.05492008, -0.19108476, -0.36056737, ..., -0.41935759,\n",
       "        -0.31903784, -0.1211944 ],\n",
       "       [-0.05492008,  0.01865806, -0.0199829 , ...,  0.67472059,\n",
       "        -0.31903784, -0.1211944 ],\n",
       "       [-0.05492008, -0.25101129, -0.46536259, ..., -0.41935759,\n",
       "        -0.31903784, -0.1211944 ],\n",
       "       ...,\n",
       "       [-0.05492008,  0.07858459, -0.30816976, ..., -0.41935759,\n",
       "        -0.31903784,  0.00455051],\n",
       "       [-0.05492008, -0.19108476, -0.30816976, ..., -0.41935759,\n",
       "        -0.31903784, -0.1211944 ],\n",
       "       [-0.05492008,  0.07858459, -0.20337454, ..., -0.41935759,\n",
       "        -0.31903784, -0.05832194]])"
      ]
     },
     "execution_count": 5,
     "metadata": {},
     "output_type": "execute_result"
    }
   ],
   "source": [
    "scaler_train.fit(X_train)\n",
    "normalized_train = scaler_train.transform(X_train)\n",
    "normalized_train"
   ]
  },
  {
   "cell_type": "code",
   "execution_count": 6,
   "id": "5c4fcbd0-6e62-406c-85c2-5773783372e6",
   "metadata": {},
   "outputs": [],
   "source": [
    "scaler_test = StandardScaler()"
   ]
  },
  {
   "cell_type": "code",
   "execution_count": 7,
   "id": "54f5f8d3-b125-436e-99f6-13e6efde94e0",
   "metadata": {},
   "outputs": [
    {
     "data": {
      "text/plain": [
       "array([[-0.05381314, -0.41482246, -0.72504254, ..., -0.50609757,\n",
       "        -0.3808215 , -0.36780542],\n",
       "       [-0.05381314,  0.03317813,  0.3631335 , ...,  0.245966  ,\n",
       "        -0.3808215 , -0.36780542],\n",
       "       [-0.05381314, -0.24682224, -0.28977212, ...,  0.245966  ,\n",
       "        -0.3808215 , -0.36780542],\n",
       "       ...,\n",
       "       [-0.05381314, -0.35882238, -0.47631659, ..., -0.50609757,\n",
       "        -0.3808215 , -0.36780542],\n",
       "       [-0.05381314, -0.35882238, -0.47631659, ..., -0.50609757,\n",
       "        -0.3808215 , -0.36780542],\n",
       "       [-0.05381314, -0.41482246, -0.56958882, ..., -0.50609757,\n",
       "        -0.3808215 , -0.36780542]])"
      ]
     },
     "execution_count": 7,
     "metadata": {},
     "output_type": "execute_result"
    }
   ],
   "source": [
    "scaler_test.fit(X_test)\n",
    "normalized_test = scaler_test.transform(X_test)\n",
    "normalized_test"
   ]
  },
  {
   "cell_type": "code",
   "execution_count": 8,
   "id": "84fb3ba4-c969-4ccf-856b-6dc88e4393cc",
   "metadata": {},
   "outputs": [],
   "source": [
    "param_grid = {\"C\": [0.01, 0.1, 1, 10, 100], \n",
    "              \"kernel\": [\"linear\", \"poly\", \"rbf\"],\n",
    "              \"gamma\": [0.1, 1, 10],\n",
    "              \"tol\": [0.1, 0.001, 0.00001]\n",
    "             }"
   ]
  },
  {
   "cell_type": "code",
   "execution_count": 9,
   "id": "e02b402a-3bf6-4445-8c01-cc5a7a2b34e5",
   "metadata": {},
   "outputs": [],
   "source": [
    "classfier = SVC(probability=True)"
   ]
  },
  {
   "cell_type": "code",
   "execution_count": 10,
   "id": "8853242d-d4e9-45fa-8681-d2ccbb16b517",
   "metadata": {},
   "outputs": [],
   "source": [
    "search = HalvingGridSearchCV(classfier, param_grid, scoring=\"f1_weighted\").fit(X_train, y_train) "
   ]
  },
  {
   "cell_type": "code",
   "execution_count": 10,
   "id": "0a0257fc-821d-46ea-9435-f07fad5497a2",
   "metadata": {},
   "outputs": [],
   "source": [
    "search_normalized = HalvingGridSearchCV(classfier, param_grid, scoring=\"f1_weighted\").fit(normalized_train, y_train) "
   ]
  },
  {
   "cell_type": "code",
   "execution_count": 16,
   "id": "feb23117-56db-4abc-8f70-d1f978733bfa",
   "metadata": {},
   "outputs": [
    {
     "data": {
      "text/plain": [
       "{'C': 0.01, 'gamma': 10, 'kernel': 'linear', 'tol': 0.001}"
      ]
     },
     "execution_count": 16,
     "metadata": {},
     "output_type": "execute_result"
    }
   ],
   "source": [
    "search.best_params_"
   ]
  },
  {
   "cell_type": "code",
   "execution_count": 17,
   "id": "503712d2-e985-4ee0-baae-65fa1a32a523",
   "metadata": {},
   "outputs": [
    {
     "data": {
      "text/plain": [
       "0.46676929977071857"
      ]
     },
     "execution_count": 17,
     "metadata": {},
     "output_type": "execute_result"
    }
   ],
   "source": [
    "search.score(X_test, y_test)"
   ]
  },
  {
   "cell_type": "code",
   "execution_count": 11,
   "id": "3cbf3b2d-b283-4eff-aac4-ebfbd604d8b7",
   "metadata": {},
   "outputs": [
    {
     "data": {
      "text/plain": [
       "0.4421676297037091"
      ]
     },
     "execution_count": 11,
     "metadata": {},
     "output_type": "execute_result"
    }
   ],
   "source": [
    "search_normalized.score(normalized_test, y_test)"
   ]
  },
  {
   "cell_type": "code",
   "execution_count": 12,
   "id": "0b642cc3-0531-4150-81d5-abc2a7cfd379",
   "metadata": {},
   "outputs": [],
   "source": [
    "y_score = search.predict_proba(X_test)"
   ]
  },
  {
   "cell_type": "code",
   "execution_count": 15,
   "id": "174cae1d-8185-4ae6-b057-fecf7cf4d2e5",
   "metadata": {},
   "outputs": [
    {
     "data": {
      "text/plain": [
       "0.8373287671232876"
      ]
     },
     "execution_count": 15,
     "metadata": {},
     "output_type": "execute_result"
    }
   ],
   "source": [
    "top_k_accuracy_score(y_test, y_score, k=2, labels=[1, 2, 3, 4, 5])"
   ]
  },
  {
   "cell_type": "code",
   "execution_count": 18,
   "id": "4c360dc3-c9e3-45a8-8271-9448bf26e0aa",
   "metadata": {},
   "outputs": [],
   "source": [
    "y_pred_HGS = search.predict(X_test)"
   ]
  },
  {
   "cell_type": "code",
   "execution_count": 19,
   "id": "5d6a64ad-e324-4a7b-a985-db40c7a27835",
   "metadata": {},
   "outputs": [
    {
     "data": {
      "image/png": "[encoded data removed]",
      "text/plain": [
       "<Figure size 640x480 with 2 Axes>"
      ]
     },
     "metadata": {},
     "output_type": "display_data"
    }
   ],
   "source": [
    "cm_HGS = confusion_matrix(y_test, y_pred_HGS, labels=search.classes_)\n",
    "disp_HGS = ConfusionMatrixDisplay(confusion_matrix=cm_HGS,\n",
    "                              display_labels=search.classes_)\n",
    "disp_HGS.plot()\n",
    "plt.show()"
   ]
  },
  {
   "cell_type": "code",
   "execution_count": null,
   "id": "1e7cd5fb-f68c-416a-b239-50b7f9b89e69",
   "metadata": {},
   "outputs": [],
   "source": []
  }
 ],
 "metadata": {
  "kernelspec": {
   "display_name": "Python 3 (ipykernel)",
   "language": "python",
   "name": "python3"
  },
  "language_info": {
   "codemirror_mode": {
    "name": "ipython",
    "version": 3
   },
   "file_extension": ".py",
   "mimetype": "text/x-python",
   "name": "python",
   "nbconvert_exporter": "python",
   "pygments_lexer": "ipython3",
   "version": "3.9.13"
  }
 },
 "nbformat": 4,
 "nbformat_minor": 5
}
