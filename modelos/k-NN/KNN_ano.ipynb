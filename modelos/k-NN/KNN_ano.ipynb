{
 "cells": [
  {
   "cell_type": "code",
   "execution_count": 1,
   "id": "41e29867-dc91-44b1-bae0-cae8a72353a9",
   "metadata": {},
   "outputs": [],
   "source": [
    "from sklearn.neighbors import (NeighborhoodComponentsAnalysis, KNeighborsClassifier)\n",
    "from sklearn.model_selection import train_test_split\n",
    "from sklearn.pipeline import Pipeline\n",
    "\n",
    "import pandas as pd\n",
    "import numpy as np\n",
    "\n",
    "from sklearn.experimental import enable_halving_search_cv\n",
    "from sklearn.model_selection import HalvingGridSearchCV\n",
    "\n",
    "import graphviz \n",
    "import matplotlib.pyplot as plt\n",
    "from sklearn.metrics import confusion_matrix, ConfusionMatrixDisplay\n",
    "\n",
    "from sklearn.metrics import top_k_accuracy_score\n",
    "from sklearn.preprocessing import StandardScaler, MinMaxScaler\n",
    "\n",
    "from sklearn.model_selection import KFold\n",
    "from sklearn.model_selection import cross_val_score\n",
    "\n",
    "from sklearn.metrics import f1_score\n",
    "import warnings"
   ]
  },
  {
   "cell_type": "code",
   "execution_count": 2,
   "id": "f249f1bf-ed22-4ae6-8e05-86806785bc76",
   "metadata": {},
   "outputs": [],
   "source": [
    "warnings.filterwarnings('ignore')"
   ]
  },
  {
   "cell_type": "markdown",
   "id": "fc38a7c0-362c-40fe-916c-c8b7d89decf7",
   "metadata": {},
   "source": [
    "### Carregamento do conjunto de dados de todos os anos"
   ]
  },
  {
   "cell_type": "code",
   "execution_count": 3,
   "id": "e0748206-ddb1-43d3-86a6-99a7c267cb96",
   "metadata": {},
   "outputs": [],
   "source": [
    "ano = 2021\n",
    "enade_ano = pd.read_csv(f\"../../concept_drift/tabela_final_{ano}_treinamento.csv\")"
   ]
  },
  {
   "cell_type": "markdown",
   "id": "1950db68-1bbd-411e-b90c-91511f56627b",
   "metadata": {},
   "source": [
    "### Cross-validation (k = 5)"
   ]
  },
  {
   "cell_type": "code",
   "execution_count": 4,
   "id": "a9d5f158-44d5-4665-b051-41894cea7e03",
   "metadata": {},
   "outputs": [],
   "source": [
    "k = 5"
   ]
  },
  {
   "cell_type": "code",
   "execution_count": 5,
   "id": "440a976c-5b64-4bf3-8f5a-ec8ef73b84b6",
   "metadata": {},
   "outputs": [],
   "source": [
    "array_folds = np.array_split(enade_ano, k)"
   ]
  },
  {
   "cell_type": "code",
   "execution_count": 6,
   "id": "2dba7279-20ef-424a-8dde-49d5975834c7",
   "metadata": {},
   "outputs": [
    {
     "name": "stdout",
     "output_type": "stream",
     "text": [
      "Teste: fold 0\n",
      "Classificador: \n",
      "\n",
      "KNeighborsClassifier(metric='manhattan', n_neighbors=10, weights='distance')\n",
      "\n",
      "Resultado: 0.4758245646977258\n",
      "\n",
      "Teste: fold 1\n",
      "Classificador: \n",
      "\n",
      "KNeighborsClassifier(metric='euclidean', n_neighbors=10, weights='distance')\n",
      "\n",
      "Resultado: 0.44899458211946\n",
      "\n",
      "Teste: fold 2\n",
      "Classificador: \n",
      "\n",
      "KNeighborsClassifier(metric='euclidean', weights='distance')\n",
      "\n",
      "Resultado: 0.419559297837378\n",
      "\n",
      "Teste: fold 3\n",
      "Classificador: \n",
      "\n",
      "KNeighborsClassifier(metric='euclidean', n_neighbors=10, weights='distance')\n",
      "\n",
      "Resultado: 0.47359977299320716\n",
      "\n",
      "Teste: fold 4\n",
      "Classificador: \n",
      "\n",
      "KNeighborsClassifier(metric='nan_euclidean', n_neighbors=10, weights='distance')\n",
      "\n",
      "Resultado: 0.48471198121899384\n",
      "\n"
     ]
    }
   ],
   "source": [
    "for i_fold in range(k):\n",
    "    \n",
    "    # Separação dos folds\n",
    "    \n",
    "    folds_treinamento = array_folds.copy()\n",
    "    fold_teste = array_folds[i_fold]\n",
    "    \n",
    "    del folds_treinamento[i_fold]\n",
    "    \n",
    "    folds_treinamento = pd.concat(folds_treinamento, sort=False)\n",
    "    \n",
    "    # Separação em X e y\n",
    "    \n",
    "    numero_caracteristicas = enade_ano.shape[1] - 1\n",
    "    \n",
    "    X_folds_treinamento = folds_treinamento.iloc[:, 0:numero_caracteristicas]\n",
    "    y_folds_treinamento = folds_treinamento.iloc[:, -1]\n",
    "    \n",
    "    X_fold_teste = fold_teste.iloc[:, 0:numero_caracteristicas]\n",
    "    y_fold_teste = fold_teste.iloc[:, -1]\n",
    "    \n",
    "    # Normalização de treino e teste\n",
    "    \n",
    "    normalizador_treinamento = StandardScaler()\n",
    "    \n",
    "    normalizador_treinamento.fit(X_folds_treinamento)\n",
    "    treinamento_normalizado = normalizador_treinamento.transform(X_folds_treinamento)\n",
    "    \n",
    "    normalizador_teste = StandardScaler()\n",
    "    \n",
    "    normalizador_teste.fit(X_fold_teste)\n",
    "    teste_normalizado = normalizador_teste.transform(X_fold_teste)\n",
    "    \n",
    "    # Busca por hyperparâmetros\n",
    "    \n",
    "    parametros_para_busca = {\"n_neighbors\": [3, 5, 10], \n",
    "                              \"weights\": [\"uniform\", \"distance\"],\n",
    "                              \"metric\": [\"euclidean\", \"manhattan\", \"nan_euclidean\"]}\n",
    "    \n",
    "    classificador = KNeighborsClassifier()\n",
    "    \n",
    "    busca = HalvingGridSearchCV(classificador, parametros_para_busca, scoring=\"f1_weighted\").fit(treinamento_normalizado, y_folds_treinamento)\n",
    "    \n",
    "    busca.best_estimator_.fit(treinamento_normalizado, y_folds_treinamento)\n",
    "    y_predito = busca.best_estimator_.predict(teste_normalizado)\n",
    "    \n",
    "    melhor_classificador = str(busca.best_estimator_)\n",
    "    resultado = f1_score(y_fold_teste, y_predito, average='weighted')\n",
    "    \n",
    "    print(f\"Teste: fold {i_fold}\")\n",
    "    print(f\"Classificador: \\n\\n{melhor_classificador}\\n\")\n",
    "    print(f\"Resultado: {resultado}\\n\")"
   ]
  },
  {
   "cell_type": "markdown",
   "id": "b03a3fee-aba6-46f6-b3f7-2b6c8a9045cb",
   "metadata": {},
   "source": [
    "### Matriz de Confusão"
   ]
  },
  {
   "cell_type": "code",
   "execution_count": 31,
   "id": "f8ef43e4-8779-41f0-9b03-d3a10d65e642",
   "metadata": {},
   "outputs": [],
   "source": [
    "y_pred_HGS = search.predict(X_test)"
   ]
  },
  {
   "cell_type": "code",
   "execution_count": null,
   "id": "79022e0e-f204-4bd4-8428-312ec3ba6376",
   "metadata": {},
   "outputs": [],
   "source": [
    "cm_HGS = confusion_matrix(y_test, y_pred_HGS, labels=search.classes_)\n",
    "disp_HGS = ConfusionMatrixDisplay(confusion_matrix=cm_HGS,\n",
    "                              display_labels=search.classes_)\n",
    "disp_HGS.plot()\n",
    "plt.show()"
   ]
  }
 ],
 "metadata": {
  "kernelspec": {
   "display_name": "Python 3 (ipykernel)",
   "language": "python",
   "name": "python3"
  },
  "language_info": {
   "codemirror_mode": {
    "name": "ipython",
    "version": 3
   },
   "file_extension": ".py",
   "mimetype": "text/x-python",
   "name": "python",
   "nbconvert_exporter": "python",
   "pygments_lexer": "ipython3",
   "version": "3.9.13"
  }
 },
 "nbformat": 4,
 "nbformat_minor": 5
}
