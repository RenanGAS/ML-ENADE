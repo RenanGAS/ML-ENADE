{
 "cells": [
  {
   "cell_type": "code",
   "execution_count": null,
   "id": "4808711b-8e75-4eba-b00e-fb98f2fa1f24",
   "metadata": {},
   "outputs": [],
   "source": [
    "import pandas as pd\n",
    "import os, shutil"
   ]
  },
  {
   "cell_type": "code",
   "execution_count": null,
   "id": "4aecca6a-9558-4501-a063-a61e37bf3734",
   "metadata": {},
   "outputs": [],
   "source": [
    "ano_prova_enade = 2011\n",
    "numero_arquivos_txt = 27\n",
    "indice_txt = 0\n",
    "indice_CSV = 1\n",
    "\n",
    "lista_numeros_arquivos = [1, 2, 3, 4, 5, 6, 7, 8, 9, 10, 11, 12, 13, 15, 16, 18, 19, 20, 21, 23, 24, 25, 26]\n",
    "indice_origem = 0\n",
    "indice_destino = 1"
   ]
  },
  {
   "cell_type": "code",
   "execution_count": null,
   "id": "d2ec5ad8-257f-4446-8fe1-c34cf2c2d290",
   "metadata": {},
   "outputs": [],
   "source": [
    "def definir_caminhos_arquivo_Txt_CSV(numero_arquivo):\n",
    "    caminho_arquivo_txt = f'dados_{ano_prova_enade}/microdados{ano_prova_enade}_arq{numero_arquivo}.txt'\n",
    "    caminho_arquivo_CSV = f'dados_{ano_prova_enade}_csv/arq{numero_arquivo}.csv'\n",
    "    return caminho_arquivo_txt, caminho_arquivo_CSV"
   ]
  },
  {
   "cell_type": "code",
   "execution_count": null,
   "id": "6b1c41af-dd31-4a3f-8d0e-aa5afee1473d",
   "metadata": {},
   "outputs": [],
   "source": [
    "def converter_arquivo_txt_para_dataFrame(caminho_arquivo_txt):\n",
    "    data_frame = pd.read_csv(caminho_arquivo_txt, sep=';')\n",
    "    return data_frame"
   ]
  },
  {
   "cell_type": "code",
   "execution_count": null,
   "id": "6538b87c-395b-4ae8-90ff-6b15f3c6e801",
   "metadata": {},
   "outputs": [],
   "source": [
    "def gerar_CSV_a_partir_de_dataFrame(data_frame, caminho_arquivo_CSV):\n",
    "    data_frame.to_csv(caminho_arquivo_CSV, index = None)"
   ]
  },
  {
   "cell_type": "code",
   "execution_count": null,
   "id": "e780ebf5-dfc8-45c0-b2d2-69bfcb7c8306",
   "metadata": {},
   "outputs": [],
   "source": [
    "def transformar_arquivos_Txt_para_CSV():\n",
    "    for numero_arquivo in range(1, numero_arquivos_txt + 1, 1):\n",
    "        caminhos_arquivos = definir_caminhos_arquivo_Txt_CSV(numero_arquivo)\n",
    "        data_frame_arquivo = converter_arquivo_txt_para_dataFrame(caminhos_arquivos[indice_txt])\n",
    "        gerar_CSV_a_partir_de_dataFrame(data_frame_arquivo, caminhos_arquivos[indice_CSV])"
   ]
  },
  {
   "cell_type": "code",
   "execution_count": null,
   "id": "24816d32-a84d-4af7-a957-f20b2fb68906",
   "metadata": {},
   "outputs": [],
   "source": [
    "def definir_caminhos_origem_destino(numero_arquivo):\n",
    "    origem = f'dados_11_csv/arq{numero_arquivo}.csv'\n",
    "    destino = f'dados_11_Atributos/arq{numero_arquivo}.csv'\n",
    "    return origem, destino"
   ]
  },
  {
   "cell_type": "code",
   "execution_count": null,
   "id": "faede38d-0e2a-4fe6-8b1d-f6889c45cf03",
   "metadata": {},
   "outputs": [],
   "source": [
    "def copiar_arquivos_para_destino(caminhos_arquivos):\n",
    "    shutil.copyfile(caminhos_arquivos[indice_origem], caminhos_arquivos[indice_destino])"
   ]
  },
  {
   "cell_type": "code",
   "execution_count": null,
   "id": "b1e7a799-f1c9-49e3-b20b-92b439e91c8a",
   "metadata": {},
   "outputs": [],
   "source": [
    "def mover_arquivos_desejados():\n",
    "    for numero_arquivo in lista_numeros_arquivos:\n",
    "        caminhos_arquivos = definir_caminhos_origem_destino(numero_arquivo)\n",
    "        copiar_arquivos_para_destino(caminhos_arquivos)"
   ]
  },
  {
   "cell_type": "code",
   "execution_count": null,
   "id": "9d19aeab-869f-4734-8fd2-ee19e1868bd1",
   "metadata": {},
   "outputs": [],
   "source": [
    "def gerar_tabela_dados():\n",
    "    transformar_arquivos_Txt_para_CSV()\n",
    "    mover_arquivos_desejados()\n",
    "    "
   ]
  },
  {
   "cell_type": "code",
   "execution_count": null,
   "id": "febdbc87-35fd-41c3-9fb2-89b75cde0338",
   "metadata": {},
   "outputs": [],
   "source": [
    "# Move a coluna CO_CURSO para a primeira posição e ordena os arquivos\n",
    "# por esse atributo. \n",
    "\n",
    "# Manda os arquivos ajustados para pasta dados_21_Ajustado\n",
    "\n",
    "for i in filesID:\n",
    "    arq = pd.read_csv(f'dados_11_Atributos/arq{i}.csv')\n",
    "    col = arq.pop(\"CO_CURSO\")       \n",
    "    arq.insert(0, col.name, col)\n",
    "    arq.drop(arq[arq['CO_CURSO'] == 'DJ1'].index, inplace = True) # Remove linhas com CO_CURSO = DJ1\n",
    "    arq = arq.astype({'CO_CURSO':'int'}) # Converte os valores de CO_CURSO para inteiro para poder ordená-los\n",
    "    arqSorted = arq.sort_values(\"CO_CURSO\")\n",
    "    arqSorted = arqSorted.reset_index(drop=True) \n",
    "    arqSorted.to_csv('dados_11_Ajustado/{}.csv'.format(f'arq{i}'),index=False)"
   ]
  },
  {
   "cell_type": "code",
   "execution_count": null,
   "id": "5b76cd03-d09a-4fbd-917f-d92f64261d0b",
   "metadata": {},
   "outputs": [],
   "source": [
    "arq1 = pd.read_csv('dados_11_Ajustado/arq1.csv')\n",
    "arq2 = pd.read_csv('dados_11_Ajustado/arq2.csv')\n",
    "arq3 = pd.read_csv('dados_11_Ajustado/arq3.csv')\n",
    "arq4 = pd.read_csv('dados_11_Ajustado/arq4.csv')\n",
    "arq5 = pd.read_csv('dados_11_Ajustado/arq5.csv')\n",
    "arq6 = pd.read_csv('dados_11_Ajustado/arq6.csv')\n",
    "arq7 = pd.read_csv('dados_11_Ajustado/arq7.csv')\n",
    "arq8 = pd.read_csv('dados_11_Ajustado/arq8.csv')\n",
    "arq9 = pd.read_csv('dados_11_Ajustado/arq9.csv')\n",
    "arq10 = pd.read_csv('dados_11_Ajustado/arq10.csv')\n",
    "arq11 = pd.read_csv('dados_11_Ajustado/arq11.csv')\n",
    "arq12 = pd.read_csv('dados_11_Ajustado/arq12.csv')\n",
    "arq13 = pd.read_csv('dados_11_Ajustado/arq13.csv')\n",
    "arq15 = pd.read_csv('dados_11_Ajustado/arq15.csv')\n",
    "arq16 = pd.read_csv('dados_11_Ajustado/arq16.csv')\n",
    "arq18 = pd.read_csv('dados_11_Ajustado/arq18.csv')\n",
    "arq19 = pd.read_csv('dados_11_Ajustado/arq19.csv')\n",
    "arq20 = pd.read_csv('dados_11_Ajustado/arq20.csv')\n",
    "arq21 = pd.read_csv('dados_11_Ajustado/arq21.csv')\n",
    "arq23 = pd.read_csv('dados_11_Ajustado/arq23.csv')\n",
    "arq24 = pd.read_csv('dados_11_Ajustado/arq24.csv')\n",
    "arq25 = pd.read_csv('dados_11_Ajustado/arq25.csv')\n",
    "arq26 = pd.read_csv('dados_11_Ajustado/arq26.csv')"
   ]
  },
  {
   "cell_type": "code",
   "execution_count": null,
   "id": "3825ccaf-f590-4f90-9bd3-e620ff1e13e4",
   "metadata": {},
   "outputs": [],
   "source": [
    "concat1_all = pd.concat([arq1, arq2, arq3, arq4, arq5, arq6, arq7, arq8, arq9, arq10, arq11, arq12, arq13, arq15, arq16, arq18, arq19, arq20, arq21, arq23, arq24, arq25, arq26], axis=1)  # Concatena o arquivo arq1 com os outros"
   ]
  },
  {
   "cell_type": "code",
   "execution_count": null,
   "id": "3816c424-5c96-418d-86c8-a5c4f0ff1473",
   "metadata": {},
   "outputs": [],
   "source": [
    "concat1_all"
   ]
  },
  {
   "cell_type": "code",
   "execution_count": null,
   "id": "5bc2fcc4-a565-4bba-a6b0-ffe06e2e4ed2",
   "metadata": {},
   "outputs": [],
   "source": [
    "remDuplic = concat1_all.loc[:,~concat1_all.columns.duplicated()]   # Remove as colunas duplicadas da concatenação"
   ]
  },
  {
   "cell_type": "code",
   "execution_count": null,
   "id": "ce5d2162-611f-4921-a84c-cbb75310e64a",
   "metadata": {},
   "outputs": [],
   "source": [
    "remDuplic"
   ]
  },
  {
   "cell_type": "code",
   "execution_count": null,
   "id": "653e1c12-0ae2-49aa-a538-bbbec79934bc",
   "metadata": {},
   "outputs": [],
   "source": [
    "# \"TP_PRES\", \"TP_PR_GER\", \"TP_PR_OB_FG\", \"TP_PR_DI_FG\", \"TP_PR_OB_CE\", \"TP_PR_DI_CE\"\n",
    "# Tem atributos QE_I09 e QE_I10 (se referem a uma mesma questão)\n",
    "\n",
    "selecAtr = remDuplic[[\"NU_ANO\", \"CO_CURSO\", \"CO_GRUPO\", \"CO_UF_CURSO\", \"CO_REGIAO_CURSO\", \"CO_CATEGAD\", \"CO_ORGACAD\", \"IN_MATUT\", \"IN_VESPER\", \"IN_NOTURNO\", \"NT_GER\", \"ANO_FIM_EM\", \"ANO_IN_GRAD\", \"QE_I17\", \"QE_I18\", \"NU_IDADE\", \"TP_SEXO\", \"QE_I02\", \"QE_I01\", \"QE_I09\", \"QE_I10\", \"QE_I13\", \"QE_I14\", \"QE_I15\", \"QE_I05\", \"QE_I06\", \"QE_I03\", \"QE_I04\", \"QE_I12\", \"QE_I07\", \"QE_I19\", \"QE_I20\", \"QE_I22\", \"QE_I26\", \"QE_I41\", \"QE_I42\", \"QE_I52\", \"QE_I54\"]]"
   ]
  },
  {
   "cell_type": "code",
   "execution_count": null,
   "id": "dda4e379-3e87-4663-a38d-7e6ca07d42e1",
   "metadata": {},
   "outputs": [],
   "source": [
    "selecAtr"
   ]
  },
  {
   "cell_type": "code",
   "execution_count": null,
   "id": "e628ac7c-11b7-4f6d-9566-6151cefc31ae",
   "metadata": {},
   "outputs": [],
   "source": [
    "computerCourses = selecAtr[selecAtr[\"CO_GRUPO\"].isin([72, 4004, 5809, 4005, 79, 4006])]"
   ]
  },
  {
   "cell_type": "code",
   "execution_count": null,
   "id": "7ccf9b20-f170-44b7-ad24-ee79a5382a87",
   "metadata": {},
   "outputs": [],
   "source": [
    "computerCourses"
   ]
  },
  {
   "cell_type": "code",
   "execution_count": null,
   "id": "d475690d-9e9d-476b-bb3c-eddcfd0ecd95",
   "metadata": {},
   "outputs": [],
   "source": [
    "reindexData = computerCourses.reset_index(drop=True) "
   ]
  },
  {
   "cell_type": "code",
   "execution_count": null,
   "id": "f8f3ac8a-b3a4-4b02-8c96-3ff096f3a6c3",
   "metadata": {},
   "outputs": [],
   "source": [
    "reindexData"
   ]
  },
  {
   "cell_type": "code",
   "execution_count": null,
   "id": "732c32c1-f461-4aca-8795-5f7ec9e83afd",
   "metadata": {},
   "outputs": [],
   "source": [
    "reindexData.to_csv('./{}.csv'.format('computacao_enade_2011'),index=False)"
   ]
  },
  {
   "cell_type": "code",
   "execution_count": null,
   "id": "dfa2cf94-c59e-4193-b89b-3161efbcf655",
   "metadata": {},
   "outputs": [],
   "source": [
    "# Para limpar o conteúdo de uma pasta\n",
    "\n",
    "folder = './dados_14_Ajustado'\n",
    "for filename in os.listdir(folder):\n",
    "    file_path = os.path.join(folder, filename)\n",
    "    try:\n",
    "        if os.path.isfile(file_path) or os.path.islink(file_path):\n",
    "            os.unlink(file_path)\n",
    "        elif os.path.isdir(file_path):\n",
    "            shutil.rmtree(file_path)\n",
    "    except Exception as e:\n",
    "        print('Failed to delete %s. Reason: %s' % (file_path, e))"
   ]
  },
  {
   "cell_type": "code",
   "execution_count": null,
   "id": "83dfe48b-d28d-4b5a-8123-59f7d7b98f75",
   "metadata": {},
   "outputs": [],
   "source": []
  }
 ],
 "metadata": {
  "kernelspec": {
   "display_name": "Python 3 (ipykernel)",
   "language": "python",
   "name": "python3"
  },
  "language_info": {
   "codemirror_mode": {
    "name": "ipython",
    "version": 3
   },
   "file_extension": ".py",
   "mimetype": "text/x-python",
   "name": "python",
   "nbconvert_exporter": "python",
   "pygments_lexer": "ipython3",
   "version": "3.9.13"
  }
 },
 "nbformat": 4,
 "nbformat_minor": 5
}
