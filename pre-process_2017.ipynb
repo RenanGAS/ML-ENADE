{
 "cells": [
  {
   "cell_type": "code",
   "execution_count": 1,
   "id": "22f4a66e-05dd-47f9-8cd3-d27349640c96",
   "metadata": {},
   "outputs": [],
   "source": [
    "import pandas as pd\n",
    "import numpy as np"
   ]
  },
  {
   "cell_type": "code",
   "execution_count": 2,
   "id": "23852f68-ccb4-453a-a7a3-c91ec492f002",
   "metadata": {},
   "outputs": [],
   "source": [
    "dados_17 = pd.read_csv('computacao_enade_2017.csv')"
   ]
  },
  {
   "cell_type": "code",
   "execution_count": null,
   "id": "2a9085f9-afa8-4af6-bed7-8f2539a4627d",
   "metadata": {},
   "outputs": [],
   "source": [
    "dados_17"
   ]
  },
  {
   "cell_type": "code",
   "execution_count": null,
   "id": "3b609b53-7eaf-4ee0-8303-1aeae50762f4",
   "metadata": {},
   "outputs": [],
   "source": [
    "dados_17['CO_GRUPO'].dtype # Ver se o formato Object pra string é válido"
   ]
  },
  {
   "cell_type": "code",
   "execution_count": 3,
   "id": "b536e8c4-4aa9-4f38-81da-00a36840e84d",
   "metadata": {},
   "outputs": [],
   "source": [
    "dados_17.replace({'CO_GRUPO': {72: 'ADS', 4004: 'BCC', 4003: 'EC', 6409: 'GTI', 4005: 'LCC', 79: 'RC', 4006: 'SI'}}, inplace=True) # inplace=True permite que o df seja modificado diretamente\n",
    "\n",
    "# dft1 = dft1.astype({\"a\": np.bool_, \"c\": np.float64})\n",
    "dados_17 = dados_17.astype({'CO_GRUPO':str})"
   ]
  },
  {
   "cell_type": "code",
   "execution_count": 4,
   "id": "3b28d855-2d35-4b48-b2b3-a1ef2e21ae0c",
   "metadata": {},
   "outputs": [],
   "source": [
    "estado_dict = {\n",
    "11 : 'RO',12 : 'AC', \n",
    "13 : 'AM',14 : 'RR',\n",
    "15 : 'PA',16 : 'AP',\n",
    "17 : 'TO',21 : 'MA',\n",
    "22 : 'PI',23 : 'CE',\n",
    "24 : 'RN',25 : 'PB',\n",
    "26 : 'PE',27 : 'AL',\n",
    "28 : 'SE',29 : 'BA',\n",
    "31 : 'MG',32 : 'ES',\n",
    "33 : 'RJ',35 : 'SP',\n",
    "41 : 'PR',42 : 'SC',\n",
    "43 : 'RS',50 : 'MS',\n",
    "51 : 'MT',52 : 'GO', \n",
    "53 : 'DF'\n",
    "}"
   ]
  },
  {
   "cell_type": "code",
   "execution_count": 5,
   "id": "bbae9d32-dae5-4fae-a0a3-185f6da17af2",
   "metadata": {},
   "outputs": [],
   "source": [
    "dados_17['CO_UF_CURSO'].replace(estado_dict,inplace=True)\n",
    "dados_17 = dados_17.astype({'CO_UF_CURSO':str})"
   ]
  },
  {
   "cell_type": "code",
   "execution_count": 6,
   "id": "8e8596db-aaab-4300-864e-65ff0b6d343c",
   "metadata": {},
   "outputs": [],
   "source": [
    "regiao_dict = {\n",
    "1 : 'N',2 : 'NE', \n",
    "3 : 'SE',4 : 'SUL',\n",
    "5 : 'CO'\n",
    "}"
   ]
  },
  {
   "cell_type": "code",
   "execution_count": 7,
   "id": "688b991e-69da-47e0-ab27-1be9a6129e57",
   "metadata": {},
   "outputs": [],
   "source": [
    "dados_17['CO_REGIAO_CURSO'].replace(regiao_dict,inplace=True)\n",
    "dados_17 = dados_17.astype({'CO_REGIAO_CURSO':str})"
   ]
  },
  {
   "cell_type": "code",
   "execution_count": 8,
   "id": "434c0fbc-1e7e-412b-a652-0d628d12edc0",
   "metadata": {},
   "outputs": [],
   "source": [
    "# Há IESes do tipo especial\n",
    "\n",
    "ies_especial = dados_17[dados_17[\"CO_CATEGAD\"] == 7]\n",
    "ies_especial.to_csv('./{}.csv'.format('IESes_Especiais_2017'),index=False)"
   ]
  },
  {
   "cell_type": "code",
   "execution_count": 9,
   "id": "eab60198-6314-48d1-a740-3419c3eb0588",
   "metadata": {},
   "outputs": [],
   "source": [
    "cat_adm_dict = {\n",
    "1 : 'Pública Federal',2 : 'Pública Estadual', \n",
    "3 : 'Pública Municipal',4 : 'Privada CFL',\n",
    "5 : 'Privada SFL', 7 : 'Pública Municipal'\n",
    "}"
   ]
  },
  {
   "cell_type": "code",
   "execution_count": 10,
   "id": "3ac1afe4-4fa6-45d9-bb34-0a4a41b14cd3",
   "metadata": {},
   "outputs": [],
   "source": [
    "dados_17['CO_CATEGAD'].replace(cat_adm_dict,inplace=True)\n",
    "dados_17 = dados_17.astype({'CO_CATEGAD':str})"
   ]
  },
  {
   "cell_type": "code",
   "execution_count": 11,
   "id": "91d3f1c1-61b8-4266-bc49-24eb363c08a2",
   "metadata": {},
   "outputs": [],
   "source": [
    "# cefet = dados_17[dados_17['CO_ORGACAD'] == 10019]\n",
    "# cefet\n",
    "\n",
    "cat_org_dict = {\n",
    "10019 : 'CEFET',10020 : 'Centro Universitário', \n",
    "10022 : 'Faculdade',10026 : 'IFECT',\n",
    "10028 : 'Universidade'\n",
    "}"
   ]
  },
  {
   "cell_type": "code",
   "execution_count": 12,
   "id": "4218d162-7293-4c48-9a24-969cfb639f90",
   "metadata": {},
   "outputs": [],
   "source": [
    "dados_17['CO_ORGACAD'].replace(cat_org_dict,inplace=True)\n",
    "dados_17 = dados_17.astype({'CO_ORGACAD':str})"
   ]
  },
  {
   "cell_type": "code",
   "execution_count": 13,
   "id": "6d5780a3-9bee-47d8-822a-22288cc314e0",
   "metadata": {},
   "outputs": [],
   "source": [
    "turno_dict = {\n",
    "1 : 'Matutino',2 : 'Vespertino', \n",
    "3 : 'Integral',4 : 'Noturno'\n",
    "}"
   ]
  },
  {
   "cell_type": "code",
   "execution_count": 14,
   "id": "a0f6f343-c353-447a-a47b-a99c373d5696",
   "metadata": {},
   "outputs": [],
   "source": [
    "dados_17['CO_TURNO_GRADUACAO'].replace(turno_dict,inplace=True)\n",
    "dados_17 = dados_17.astype({'CO_TURNO_GRADUACAO':str})"
   ]
  },
  {
   "cell_type": "code",
   "execution_count": null,
   "id": "1a789640-6c9e-4012-a052-3f31135521e1",
   "metadata": {},
   "outputs": [],
   "source": [
    "# Análise dos atributos ANO_FIM_EM e ANO_IN_GRAD"
   ]
  },
  {
   "cell_type": "code",
   "execution_count": null,
   "id": "bbf6a1b5-ca0c-4ffa-8c59-638946e74d54",
   "metadata": {},
   "outputs": [],
   "source": [
    "outliers_afem = dados_17[(dados_17['ANO_FIM_EM'] < 1951) | (dados_17['ANO_FIM_EM'] > 2021)]\n",
    "outliers_afem\n",
    "\n",
    "outliers_aig = dados_17[(dados_17['ANO_IN_GRAD'] < 1971) | (dados_17['ANO_IN_GRAD'] > 2017)]\n",
    "outliers_aig"
   ]
  },
  {
   "cell_type": "code",
   "execution_count": null,
   "id": "d34947d9-cbe6-4249-a124-1d5ab33ce671",
   "metadata": {},
   "outputs": [],
   "source": [
    "media_afem = dados_17['ANO_FIM_EM'].mean()\n",
    "media_afem\n",
    "\n",
    "media_aig = dados_17['ANO_IN_GRAD'].mean()\n",
    "media_aig"
   ]
  },
  {
   "cell_type": "code",
   "execution_count": null,
   "id": "7b8cbbda-823b-4fa4-a225-27fbfd81488e",
   "metadata": {},
   "outputs": [],
   "source": [
    "#-------------------------------#"
   ]
  },
  {
   "cell_type": "code",
   "execution_count": null,
   "id": "86a0294f-8819-4675-970c-13d54b2b7a56",
   "metadata": {},
   "outputs": [],
   "source": [
    "# Atributo derivado 1 - DIF_GRAD_EM"
   ]
  },
  {
   "cell_type": "code",
   "execution_count": 15,
   "id": "0e1a77ba-cb3b-46d1-a2e0-8969513d2391",
   "metadata": {},
   "outputs": [],
   "source": [
    "dados_17[\"DIF_GRAD_EM\"] = dados_17['ANO_IN_GRAD'] - dados_17['ANO_FIM_EM']"
   ]
  },
  {
   "cell_type": "code",
   "execution_count": null,
   "id": "20425d0e-a8cf-4a94-b5a0-42e8391a98fd",
   "metadata": {},
   "outputs": [],
   "source": [
    "# Atributo derivado 2 - DIF_ANO_GRAD"
   ]
  },
  {
   "cell_type": "code",
   "execution_count": 16,
   "id": "65003262-a333-4ca5-a9d8-e849a279c61b",
   "metadata": {},
   "outputs": [],
   "source": [
    "dados_17[\"DIF_ANO_GRAD\"] = (dados_17['NU_ANO'] - dados_17['ANO_IN_GRAD']) + 1"
   ]
  },
  {
   "cell_type": "code",
   "execution_count": null,
   "id": "d87d8ae3-dccd-42b2-b471-125b5bf02dec",
   "metadata": {},
   "outputs": [],
   "source": [
    "# Ajuste dos valores em \"ANO_FIM_EM\"\n",
    "\n",
    "dados_17"
   ]
  },
  {
   "cell_type": "code",
   "execution_count": 17,
   "id": "bb1821f9-947a-4e52-bded-ed1c67f154a8",
   "metadata": {},
   "outputs": [
    {
     "data": {
      "text/html": [
       "<div>\n",
       "<style scoped>\n",
       "    .dataframe tbody tr th:only-of-type {\n",
       "        vertical-align: middle;\n",
       "    }\n",
       "\n",
       "    .dataframe tbody tr th {\n",
       "        vertical-align: top;\n",
       "    }\n",
       "\n",
       "    .dataframe thead th {\n",
       "        text-align: right;\n",
       "    }\n",
       "</style>\n",
       "<table border=\"1\" class=\"dataframe\">\n",
       "  <thead>\n",
       "    <tr style=\"text-align: right;\">\n",
       "      <th></th>\n",
       "      <th>NU_ANO</th>\n",
       "      <th>CO_CURSO</th>\n",
       "      <th>CO_GRUPO</th>\n",
       "      <th>CO_UF_CURSO</th>\n",
       "      <th>CO_REGIAO_CURSO</th>\n",
       "      <th>CO_CATEGAD</th>\n",
       "      <th>CO_ORGACAD</th>\n",
       "      <th>CO_TURNO_GRADUACAO</th>\n",
       "      <th>TP_PRES</th>\n",
       "      <th>NT_FG</th>\n",
       "      <th>...</th>\n",
       "      <th>QE_I22</th>\n",
       "      <th>QE_I23</th>\n",
       "      <th>QE_I56</th>\n",
       "      <th>QE_I57</th>\n",
       "      <th>QE_I61</th>\n",
       "      <th>QE_I62</th>\n",
       "      <th>QE_I38</th>\n",
       "      <th>QE_I27</th>\n",
       "      <th>DIF_GRAD_EM</th>\n",
       "      <th>DIF_ANO_GRAD</th>\n",
       "    </tr>\n",
       "  </thead>\n",
       "  <tbody>\n",
       "    <tr>\n",
       "      <th>0</th>\n",
       "      <td>2017</td>\n",
       "      <td>36</td>\n",
       "      <td>BCC</td>\n",
       "      <td>MT</td>\n",
       "      <td>CO</td>\n",
       "      <td>Pública Federal</td>\n",
       "      <td>Universidade</td>\n",
       "      <td>Integral</td>\n",
       "      <td>555</td>\n",
       "      <td>27.2</td>\n",
       "      <td>...</td>\n",
       "      <td>A</td>\n",
       "      <td>NaN</td>\n",
       "      <td>5.0</td>\n",
       "      <td>5.0</td>\n",
       "      <td>5.0</td>\n",
       "      <td>5.0</td>\n",
       "      <td>4.0</td>\n",
       "      <td>6.0</td>\n",
       "      <td>2.0</td>\n",
       "      <td>4.0</td>\n",
       "    </tr>\n",
       "    <tr>\n",
       "      <th>1</th>\n",
       "      <td>2017</td>\n",
       "      <td>36</td>\n",
       "      <td>BCC</td>\n",
       "      <td>MT</td>\n",
       "      <td>CO</td>\n",
       "      <td>Pública Federal</td>\n",
       "      <td>Universidade</td>\n",
       "      <td>Integral</td>\n",
       "      <td>555</td>\n",
       "      <td>43.5</td>\n",
       "      <td>...</td>\n",
       "      <td>B</td>\n",
       "      <td>C</td>\n",
       "      <td>6.0</td>\n",
       "      <td>6.0</td>\n",
       "      <td>6.0</td>\n",
       "      <td>6.0</td>\n",
       "      <td>6.0</td>\n",
       "      <td>6.0</td>\n",
       "      <td>2.0</td>\n",
       "      <td>4.0</td>\n",
       "    </tr>\n",
       "    <tr>\n",
       "      <th>2</th>\n",
       "      <td>2017</td>\n",
       "      <td>36</td>\n",
       "      <td>BCC</td>\n",
       "      <td>MT</td>\n",
       "      <td>CO</td>\n",
       "      <td>Pública Federal</td>\n",
       "      <td>Universidade</td>\n",
       "      <td>Integral</td>\n",
       "      <td>555</td>\n",
       "      <td>28.1</td>\n",
       "      <td>...</td>\n",
       "      <td>D</td>\n",
       "      <td>C</td>\n",
       "      <td>5.0</td>\n",
       "      <td>3.0</td>\n",
       "      <td>4.0</td>\n",
       "      <td>5.0</td>\n",
       "      <td>3.0</td>\n",
       "      <td>3.0</td>\n",
       "      <td>0.0</td>\n",
       "      <td>4.0</td>\n",
       "    </tr>\n",
       "    <tr>\n",
       "      <th>3</th>\n",
       "      <td>2017</td>\n",
       "      <td>36</td>\n",
       "      <td>BCC</td>\n",
       "      <td>MT</td>\n",
       "      <td>CO</td>\n",
       "      <td>Pública Federal</td>\n",
       "      <td>Universidade</td>\n",
       "      <td>Integral</td>\n",
       "      <td>555</td>\n",
       "      <td>82.7</td>\n",
       "      <td>...</td>\n",
       "      <td>C</td>\n",
       "      <td>C</td>\n",
       "      <td>6.0</td>\n",
       "      <td>5.0</td>\n",
       "      <td>1.0</td>\n",
       "      <td>1.0</td>\n",
       "      <td>5.0</td>\n",
       "      <td>6.0</td>\n",
       "      <td>1.0</td>\n",
       "      <td>5.0</td>\n",
       "    </tr>\n",
       "    <tr>\n",
       "      <th>4</th>\n",
       "      <td>2017</td>\n",
       "      <td>36</td>\n",
       "      <td>BCC</td>\n",
       "      <td>MT</td>\n",
       "      <td>CO</td>\n",
       "      <td>Pública Federal</td>\n",
       "      <td>Universidade</td>\n",
       "      <td>Integral</td>\n",
       "      <td>555</td>\n",
       "      <td>32.9</td>\n",
       "      <td>...</td>\n",
       "      <td>NaN</td>\n",
       "      <td>C</td>\n",
       "      <td>4.0</td>\n",
       "      <td>5.0</td>\n",
       "      <td>5.0</td>\n",
       "      <td>4.0</td>\n",
       "      <td>4.0</td>\n",
       "      <td>4.0</td>\n",
       "      <td>1.0</td>\n",
       "      <td>5.0</td>\n",
       "    </tr>\n",
       "    <tr>\n",
       "      <th>...</th>\n",
       "      <td>...</td>\n",
       "      <td>...</td>\n",
       "      <td>...</td>\n",
       "      <td>...</td>\n",
       "      <td>...</td>\n",
       "      <td>...</td>\n",
       "      <td>...</td>\n",
       "      <td>...</td>\n",
       "      <td>...</td>\n",
       "      <td>...</td>\n",
       "      <td>...</td>\n",
       "      <td>...</td>\n",
       "      <td>...</td>\n",
       "      <td>...</td>\n",
       "      <td>...</td>\n",
       "      <td>...</td>\n",
       "      <td>...</td>\n",
       "      <td>...</td>\n",
       "      <td>...</td>\n",
       "      <td>...</td>\n",
       "      <td>...</td>\n",
       "    </tr>\n",
       "    <tr>\n",
       "      <th>51004</th>\n",
       "      <td>2017</td>\n",
       "      <td>5001211</td>\n",
       "      <td>ADS</td>\n",
       "      <td>SC</td>\n",
       "      <td>SUL</td>\n",
       "      <td>Privada SFL</td>\n",
       "      <td>Faculdade</td>\n",
       "      <td>Matutino</td>\n",
       "      <td>555</td>\n",
       "      <td>49.5</td>\n",
       "      <td>...</td>\n",
       "      <td>A</td>\n",
       "      <td>B</td>\n",
       "      <td>6.0</td>\n",
       "      <td>5.0</td>\n",
       "      <td>6.0</td>\n",
       "      <td>6.0</td>\n",
       "      <td>5.0</td>\n",
       "      <td>6.0</td>\n",
       "      <td>18.0</td>\n",
       "      <td>4.0</td>\n",
       "    </tr>\n",
       "    <tr>\n",
       "      <th>51005</th>\n",
       "      <td>2017</td>\n",
       "      <td>5001211</td>\n",
       "      <td>ADS</td>\n",
       "      <td>SC</td>\n",
       "      <td>SUL</td>\n",
       "      <td>Privada SFL</td>\n",
       "      <td>Faculdade</td>\n",
       "      <td>Matutino</td>\n",
       "      <td>555</td>\n",
       "      <td>39.1</td>\n",
       "      <td>...</td>\n",
       "      <td>A</td>\n",
       "      <td>B</td>\n",
       "      <td>5.0</td>\n",
       "      <td>4.0</td>\n",
       "      <td>6.0</td>\n",
       "      <td>6.0</td>\n",
       "      <td>2.0</td>\n",
       "      <td>4.0</td>\n",
       "      <td>10.0</td>\n",
       "      <td>3.0</td>\n",
       "    </tr>\n",
       "    <tr>\n",
       "      <th>51006</th>\n",
       "      <td>2017</td>\n",
       "      <td>5001211</td>\n",
       "      <td>ADS</td>\n",
       "      <td>SC</td>\n",
       "      <td>SUL</td>\n",
       "      <td>Privada SFL</td>\n",
       "      <td>Faculdade</td>\n",
       "      <td>Matutino</td>\n",
       "      <td>555</td>\n",
       "      <td>79.0</td>\n",
       "      <td>...</td>\n",
       "      <td>B</td>\n",
       "      <td>D</td>\n",
       "      <td>4.0</td>\n",
       "      <td>4.0</td>\n",
       "      <td>5.0</td>\n",
       "      <td>6.0</td>\n",
       "      <td>5.0</td>\n",
       "      <td>4.0</td>\n",
       "      <td>8.0</td>\n",
       "      <td>3.0</td>\n",
       "    </tr>\n",
       "    <tr>\n",
       "      <th>51007</th>\n",
       "      <td>2017</td>\n",
       "      <td>5001284</td>\n",
       "      <td>LCC</td>\n",
       "      <td>SC</td>\n",
       "      <td>SUL</td>\n",
       "      <td>Privada SFL</td>\n",
       "      <td>Universidade</td>\n",
       "      <td>Integral</td>\n",
       "      <td>555</td>\n",
       "      <td>85.7</td>\n",
       "      <td>...</td>\n",
       "      <td>E</td>\n",
       "      <td>C</td>\n",
       "      <td>6.0</td>\n",
       "      <td>6.0</td>\n",
       "      <td>6.0</td>\n",
       "      <td>6.0</td>\n",
       "      <td>6.0</td>\n",
       "      <td>6.0</td>\n",
       "      <td>6.0</td>\n",
       "      <td>3.0</td>\n",
       "    </tr>\n",
       "    <tr>\n",
       "      <th>51008</th>\n",
       "      <td>2017</td>\n",
       "      <td>5001284</td>\n",
       "      <td>LCC</td>\n",
       "      <td>SC</td>\n",
       "      <td>SUL</td>\n",
       "      <td>Privada SFL</td>\n",
       "      <td>Universidade</td>\n",
       "      <td>Integral</td>\n",
       "      <td>555</td>\n",
       "      <td>54.8</td>\n",
       "      <td>...</td>\n",
       "      <td>C</td>\n",
       "      <td>C</td>\n",
       "      <td>6.0</td>\n",
       "      <td>6.0</td>\n",
       "      <td>7.0</td>\n",
       "      <td>6.0</td>\n",
       "      <td>6.0</td>\n",
       "      <td>6.0</td>\n",
       "      <td>15.0</td>\n",
       "      <td>3.0</td>\n",
       "    </tr>\n",
       "  </tbody>\n",
       "</table>\n",
       "<p>51009 rows × 39 columns</p>\n",
       "</div>"
      ],
      "text/plain": [
       "       NU_ANO  CO_CURSO CO_GRUPO CO_UF_CURSO CO_REGIAO_CURSO       CO_CATEGAD  \\\n",
       "0        2017        36      BCC          MT              CO  Pública Federal   \n",
       "1        2017        36      BCC          MT              CO  Pública Federal   \n",
       "2        2017        36      BCC          MT              CO  Pública Federal   \n",
       "3        2017        36      BCC          MT              CO  Pública Federal   \n",
       "4        2017        36      BCC          MT              CO  Pública Federal   \n",
       "...       ...       ...      ...         ...             ...              ...   \n",
       "51004    2017   5001211      ADS          SC             SUL      Privada SFL   \n",
       "51005    2017   5001211      ADS          SC             SUL      Privada SFL   \n",
       "51006    2017   5001211      ADS          SC             SUL      Privada SFL   \n",
       "51007    2017   5001284      LCC          SC             SUL      Privada SFL   \n",
       "51008    2017   5001284      LCC          SC             SUL      Privada SFL   \n",
       "\n",
       "         CO_ORGACAD CO_TURNO_GRADUACAO  TP_PRES  NT_FG  ...  QE_I22  QE_I23  \\\n",
       "0      Universidade           Integral      555   27.2  ...       A     NaN   \n",
       "1      Universidade           Integral      555   43.5  ...       B       C   \n",
       "2      Universidade           Integral      555   28.1  ...       D       C   \n",
       "3      Universidade           Integral      555   82.7  ...       C       C   \n",
       "4      Universidade           Integral      555   32.9  ...     NaN       C   \n",
       "...             ...                ...      ...    ...  ...     ...     ...   \n",
       "51004     Faculdade           Matutino      555   49.5  ...       A       B   \n",
       "51005     Faculdade           Matutino      555   39.1  ...       A       B   \n",
       "51006     Faculdade           Matutino      555   79.0  ...       B       D   \n",
       "51007  Universidade           Integral      555   85.7  ...       E       C   \n",
       "51008  Universidade           Integral      555   54.8  ...       C       C   \n",
       "\n",
       "       QE_I56 QE_I57 QE_I61  QE_I62 QE_I38 QE_I27 DIF_GRAD_EM DIF_ANO_GRAD  \n",
       "0         5.0    5.0    5.0     5.0    4.0    6.0         2.0          4.0  \n",
       "1         6.0    6.0    6.0     6.0    6.0    6.0         2.0          4.0  \n",
       "2         5.0    3.0    4.0     5.0    3.0    3.0         0.0          4.0  \n",
       "3         6.0    5.0    1.0     1.0    5.0    6.0         1.0          5.0  \n",
       "4         4.0    5.0    5.0     4.0    4.0    4.0         1.0          5.0  \n",
       "...       ...    ...    ...     ...    ...    ...         ...          ...  \n",
       "51004     6.0    5.0    6.0     6.0    5.0    6.0        18.0          4.0  \n",
       "51005     5.0    4.0    6.0     6.0    2.0    4.0        10.0          3.0  \n",
       "51006     4.0    4.0    5.0     6.0    5.0    4.0         8.0          3.0  \n",
       "51007     6.0    6.0    6.0     6.0    6.0    6.0         6.0          3.0  \n",
       "51008     6.0    6.0    7.0     6.0    6.0    6.0        15.0          3.0  \n",
       "\n",
       "[51009 rows x 39 columns]"
      ]
     },
     "execution_count": 17,
     "metadata": {},
     "output_type": "execute_result"
    }
   ],
   "source": [
    "dados_17[\"ANO_FIM_EM\"] = dados_17['NU_ANO'] - dados_17['ANO_FIM_EM']\n",
    "\n",
    "dados_17"
   ]
  },
  {
   "cell_type": "code",
   "execution_count": null,
   "id": "bc35c4f4-61a4-4888-adf3-6b918b8fbcbc",
   "metadata": {},
   "outputs": [],
   "source": [
    "#-------------------------------#"
   ]
  },
  {
   "cell_type": "code",
   "execution_count": 18,
   "id": "1b1ef8ca-6282-458b-8fcb-edd4707402b0",
   "metadata": {},
   "outputs": [],
   "source": [
    "tipo_em_dict = {\n",
    "'A' : 'Pública','B' : 'Privada', \n",
    "'C' : 'Exterior', 'D' : 'Pública',\n",
    "'E' : 'Privada', 'F': 'Exterior'\n",
    "}"
   ]
  },
  {
   "cell_type": "code",
   "execution_count": 19,
   "id": "cbc0c413-59fa-448d-b1fc-b40581d9a37c",
   "metadata": {},
   "outputs": [],
   "source": [
    "dados_17['QE_I17'].replace(tipo_em_dict,inplace=True)\n",
    "dados_17 = dados_17.astype({'QE_I17':str})"
   ]
  },
  {
   "cell_type": "code",
   "execution_count": 20,
   "id": "f92916e0-1653-4f8d-8724-5bf51d818d02",
   "metadata": {},
   "outputs": [],
   "source": [
    "mod_em_dict = {\n",
    "'A' : 'Tradicional','B' : 'Técnico', \n",
    "'C' : 'Magistério', 'D' : 'Supletivo',\n",
    "'E':'Outra'\n",
    "}"
   ]
  },
  {
   "cell_type": "code",
   "execution_count": 21,
   "id": "8e3a583b-b918-407d-9dcf-7809c85d77ae",
   "metadata": {},
   "outputs": [],
   "source": [
    "dados_17['QE_I18'].replace(mod_em_dict,inplace=True)\n",
    "dados_17 = dados_17.astype({'QE_I18':str})"
   ]
  },
  {
   "cell_type": "code",
   "execution_count": null,
   "id": "14a1dced-9827-49e2-96b0-678523e2538a",
   "metadata": {},
   "outputs": [],
   "source": [
    "dados_17[['QE_I17', 'QE_I18', 'QE_I02']]"
   ]
  },
  {
   "cell_type": "code",
   "execution_count": null,
   "id": "10e60f40-a67a-4cfa-953e-0d31861b1ca4",
   "metadata": {},
   "outputs": [],
   "source": [
    "dados_17"
   ]
  },
  {
   "cell_type": "code",
   "execution_count": 22,
   "id": "b2717bd4-f67b-4fd4-a814-20ff02d4b267",
   "metadata": {},
   "outputs": [],
   "source": [
    "raca_dict = {\n",
    "'A' : 'Branca','B' : 'Preta', \n",
    "'C' : 'Amarela', 'D' : 'Parda',\n",
    "'E': 'Indígena', 'F': 'Não declarado'\n",
    "}"
   ]
  },
  {
   "cell_type": "code",
   "execution_count": 23,
   "id": "5c5d94b2-8bb0-47b8-b91d-25b011acd98d",
   "metadata": {},
   "outputs": [],
   "source": [
    "dados_17['QE_I02'].replace(raca_dict,inplace=True)\n",
    "dados_17 = dados_17.astype({'QE_I02':str})"
   ]
  },
  {
   "cell_type": "code",
   "execution_count": 24,
   "id": "b6657c30-4739-4555-b695-c7148c536c2b",
   "metadata": {},
   "outputs": [],
   "source": [
    "est_civil_dict = {\n",
    "'A' : 'Solteiro','B' : 'Casado', \n",
    "'C' : 'Separado', 'D' : 'Viúvo',\n",
    "'E': 'Outro'\n",
    "}"
   ]
  },
  {
   "cell_type": "code",
   "execution_count": 25,
   "id": "f3336c8a-899b-47ba-a80d-3c2d851dd86d",
   "metadata": {},
   "outputs": [],
   "source": [
    "dados_17['QE_I01'].replace(est_civil_dict,inplace=True)\n",
    "dados_17 = dados_17.astype({'QE_I01':str})"
   ]
  },
  {
   "cell_type": "code",
   "execution_count": 26,
   "id": "36306703-5fab-4ec3-ba28-6cc3d3b94a73",
   "metadata": {},
   "outputs": [],
   "source": [
    "nl_pai_mae_dict = {\n",
    "'A' : 'Nenhuma','B' : 'Fundamental 1-5', \n",
    "'C' : 'Fundamental 6-9', 'D' : 'Médio',\n",
    "'E': 'Superior', 'F': 'Pós-graduação'\n",
    "}"
   ]
  },
  {
   "cell_type": "code",
   "execution_count": 27,
   "id": "8a5c4eb6-9c6c-4a9c-9330-3754be67ce10",
   "metadata": {},
   "outputs": [],
   "source": [
    "dados_17['QE_I04'].replace(nl_pai_mae_dict,inplace=True)\n",
    "dados_17 = dados_17.astype({'QE_I04':str})"
   ]
  },
  {
   "cell_type": "code",
   "execution_count": 28,
   "id": "34431163-926c-4463-832f-4edde0480b50",
   "metadata": {},
   "outputs": [],
   "source": [
    "dados_17['QE_I05'].replace(nl_pai_mae_dict,inplace=True)\n",
    "dados_17 = dados_17.astype({'QE_I05':str})"
   ]
  },
  {
   "cell_type": "code",
   "execution_count": 29,
   "id": "8809d9b2-7e63-4f3d-94ef-1631b3b94cfc",
   "metadata": {},
   "outputs": [],
   "source": [
    "renda_dict = {\n",
    "'A' : 'Até 1,5 SM','B' : 'De 1,5 a 3 SM', \n",
    "'C' : 'De 3 a 4,5 SM', 'D' : 'De 4,5 a 6 SM',\n",
    "'E': 'De 6 a 10 SM', 'F': 'De 10 a 30 SM',\n",
    "'G': 'Acima de 30 SM'\n",
    "}"
   ]
  },
  {
   "cell_type": "code",
   "execution_count": 30,
   "id": "85ad9199-610c-4e39-b568-17853be7becd",
   "metadata": {},
   "outputs": [],
   "source": [
    "dados_17['QE_I08'].replace(renda_dict,inplace=True)\n",
    "dados_17 = dados_17.astype({'QE_I08':str})"
   ]
  },
  {
   "cell_type": "code",
   "execution_count": 31,
   "id": "d8770c50-83e9-4367-ad31-7218dab1f673",
   "metadata": {},
   "outputs": [],
   "source": [
    "status_financ_dict = {\n",
    "'A' : 'Sem renda/Outros','B' : 'Sem renda/Outros', \n",
    "'C' : 'Tem renda/Outros', 'D' : 'Tem renda/Independente',\n",
    "'E': 'Tem renda/Sustenta', 'F': 'Tem renda/Principal'\n",
    "}"
   ]
  },
  {
   "cell_type": "code",
   "execution_count": 32,
   "id": "c76d0ee7-b804-40da-9477-8b84669243e2",
   "metadata": {},
   "outputs": [],
   "source": [
    "dados_17['QE_I09'].replace(status_financ_dict,inplace=True)\n",
    "dados_17 = dados_17.astype({'QE_I09':str})"
   ]
  },
  {
   "cell_type": "code",
   "execution_count": 33,
   "id": "4d2f2be1-c3ad-4d63-9179-3a67888a065e",
   "metadata": {},
   "outputs": [],
   "source": [
    "moradia_dict = {\n",
    "'A' : 'Sozinho','B' : 'Parentes', \n",
    "'C' : 'Cônjuge/Filhos', 'D' : 'Outras pessoas',\n",
    "'E': 'Universidade', 'F': 'Habitação individual/coletiva'\n",
    "}"
   ]
  },
  {
   "cell_type": "code",
   "execution_count": 34,
   "id": "c8050cff-2252-4a4b-a493-70d53551d326",
   "metadata": {},
   "outputs": [],
   "source": [
    "dados_17['QE_I06'].replace(moradia_dict,inplace=True)\n",
    "dados_17 = dados_17.astype({'QE_I06':str})"
   ]
  },
  {
   "cell_type": "code",
   "execution_count": 35,
   "id": "d7039dd7-6f61-4a57-9291-2f92da0a83db",
   "metadata": {},
   "outputs": [],
   "source": [
    "qtde_moradia_dict = {\n",
    "'A' : 'Nenhuma','B' : 'Uma', \n",
    "'C' : 'Duas', 'D' : 'Três',\n",
    "'E': 'Quatro', 'F': 'Cinco',\n",
    "'G': 'Seis', 'H': 'Sete ou mais'\n",
    "}"
   ]
  },
  {
   "cell_type": "code",
   "execution_count": 36,
   "id": "692d95dc-c7f5-44a2-8491-650f76939161",
   "metadata": {},
   "outputs": [],
   "source": [
    "dados_17['QE_I07'].replace(qtde_moradia_dict,inplace=True)\n",
    "dados_17 = dados_17.astype({'QE_I07':str})"
   ]
  },
  {
   "cell_type": "code",
   "execution_count": 37,
   "id": "73c46ce2-1f1f-41e1-bb9c-e4d8b16404f5",
   "metadata": {},
   "outputs": [],
   "source": [
    "politica_dict = {\n",
    "'A' : 'Não','B' : 'Critério étnico-racial',\n",
    "'C' : 'Critério de renda', 'D' : 'Bolsa de estudos',\n",
    "'E': 'Combinação de critérios', 'F': 'Critérios diferentes'\n",
    "}"
   ]
  },
  {
   "cell_type": "code",
   "execution_count": 38,
   "id": "30a0b924-8d67-4cee-b38a-ccc5038e78b3",
   "metadata": {},
   "outputs": [],
   "source": [
    "dados_17['QE_I15'].replace(politica_dict,inplace=True)\n",
    "dados_17 = dados_17.astype({'QE_I15':str})"
   ]
  },
  {
   "cell_type": "code",
   "execution_count": 39,
   "id": "a33b2f39-c460-4878-bcc2-c5115496580a",
   "metadata": {},
   "outputs": [],
   "source": [
    "uf_em_dict = {\n",
    "11 : 'RO',12 : 'AC', \n",
    "13 : 'AM',14 : 'RR',\n",
    "15 : 'PA',16 : 'AP',\n",
    "17 : 'TO',21 : 'MA',\n",
    "22 : 'PI',23 : 'CE',\n",
    "24 : 'RN',25 : 'PB',\n",
    "26 : 'PE',27 : 'AL',\n",
    "28 : 'SE',29 : 'BA',\n",
    "31 : 'MG',32 : 'ES',\n",
    "33 : 'RJ',35 : 'SP',\n",
    "41 : 'PR',42 : 'SC',\n",
    "43 : 'RS',50 : 'MS',\n",
    "51 : 'MT',52 : 'GO', \n",
    "53 : 'DF',99 : 'Não se aplica'\n",
    "}"
   ]
  },
  {
   "cell_type": "code",
   "execution_count": 40,
   "id": "915dff9b-0fc5-41f8-b52a-0fcab5a61436",
   "metadata": {},
   "outputs": [],
   "source": [
    "dados_17['QE_I16'].replace(uf_em_dict,inplace=True)\n",
    "dados_17 = dados_17.astype({'QE_I16':str})"
   ]
  },
  {
   "cell_type": "code",
   "execution_count": 41,
   "id": "e8ccbcf4-acad-45b1-b7b6-a5ca722e3e88",
   "metadata": {},
   "outputs": [],
   "source": [
    "trabalho_dict = {\n",
    "'A' : 'Não','B' : 'Eventualmente',\n",
    "'C' : 'Até 20 horas', 'D' : '21 a 39 horas',\n",
    "'E': '40 horas ou mais'\n",
    "}"
   ]
  },
  {
   "cell_type": "code",
   "execution_count": 42,
   "id": "85d9ee23-db9f-4d5d-9c51-a9a0593c874a",
   "metadata": {},
   "outputs": [],
   "source": [
    "dados_17['QE_I10'].replace(trabalho_dict,inplace=True)\n",
    "dados_17 = dados_17.astype({'QE_I10':str})"
   ]
  },
  {
   "cell_type": "code",
   "execution_count": 43,
   "id": "2cabbd16-7cb0-4233-a766-427ce61926d2",
   "metadata": {},
   "outputs": [],
   "source": [
    "recebeu_bolsa_dict = {\n",
    "'A' : 'Não se aplica','B' : 'Não',\n",
    "'C' : 'Sim', 'D' : 'Sim',\n",
    "'E': 'Sim', 'F' : 'Sim',\n",
    "'G' : 'Sim', 'H' : 'Sim',\n",
    "'I': 'Sim', 'J' : 'Sim',\n",
    "'K' : 'Sim'\n",
    "}"
   ]
  },
  {
   "cell_type": "code",
   "execution_count": 44,
   "id": "b103dcc4-41cc-4739-812d-9ac7b3a53354",
   "metadata": {},
   "outputs": [],
   "source": [
    "dados_17['QE_I11'].replace(recebeu_bolsa_dict,inplace=True)\n",
    "dados_17 = dados_17.astype({'QE_I11':str})"
   ]
  },
  {
   "cell_type": "code",
   "execution_count": 45,
   "id": "7ede056b-04e9-40f0-8c15-9d9692d22745",
   "metadata": {},
   "outputs": [],
   "source": [
    "qtde_livros_dict = {\n",
    "'A' : 'Nenhum','B' : '1 ou 2',\n",
    "'C' : '3-5', 'D' : '6-8',\n",
    "'E': '+8'\n",
    "}"
   ]
  },
  {
   "cell_type": "code",
   "execution_count": 46,
   "id": "ae22162f-47ee-4e5f-8b88-07aeb89c6116",
   "metadata": {},
   "outputs": [],
   "source": [
    "dados_17['QE_I22'].replace(qtde_livros_dict,inplace=True)\n",
    "dados_17 = dados_17.astype({'QE_I22':str})"
   ]
  },
  {
   "cell_type": "code",
   "execution_count": 47,
   "id": "ce6bfa48-d18c-4f5f-a609-d9ccd9ad3186",
   "metadata": {},
   "outputs": [],
   "source": [
    "horas_estudo_dict = {\n",
    "'A' : 'Nenhum','B' : '1-3',\n",
    "'C' : '4-7', 'D' : '8-12',\n",
    "'E': '+12'\n",
    "}"
   ]
  },
  {
   "cell_type": "code",
   "execution_count": 48,
   "id": "874a67f7-e975-494a-8b71-39061423372c",
   "metadata": {},
   "outputs": [],
   "source": [
    "dados_17['QE_I23'].replace(horas_estudo_dict,inplace=True)\n",
    "dados_17 = dados_17.astype({'QE_I23':str})"
   ]
  },
  {
   "cell_type": "code",
   "execution_count": 49,
   "id": "c3c12775-927d-4643-9a76-f3bdfb8a1c29",
   "metadata": {},
   "outputs": [],
   "source": [
    "disp_professores_dict = {\n",
    "    1 : 'Nenhum',\n",
    "    2 : 'Nenhum',\n",
    "    3 : 'Alguns',\n",
    "    4 : 'Alguns',\n",
    "    5 : 'Maior parte',\n",
    "    6 : 'Todos',\n",
    "    7 : 'Não sei responder',\n",
    "    8 : 'Não sei responder'\n",
    "}"
   ]
  },
  {
   "cell_type": "code",
   "execution_count": 50,
   "id": "da83b19a-b2d3-4537-b893-669d72490135",
   "metadata": {},
   "outputs": [],
   "source": [
    "dados_17['QE_I56'].replace(disp_professores_dict,inplace=True)\n",
    "dados_17 = dados_17.astype({'QE_I56':str})"
   ]
  },
  {
   "cell_type": "code",
   "execution_count": 51,
   "id": "8424ce6f-4399-485c-81cd-af19666dcd08",
   "metadata": {},
   "outputs": [],
   "source": [
    "dominio_professores_dict = {\n",
    "    1 : 'Nenhum',\n",
    "    2 : 'Nenhum',\n",
    "    3 : 'Alguns',\n",
    "    4 : 'Alguns',\n",
    "    5 : 'Maior parte',\n",
    "    6 : 'Todos',\n",
    "    7 : 'Não sei responder',\n",
    "    8 : 'Não sei responder'\n",
    "}"
   ]
  },
  {
   "cell_type": "code",
   "execution_count": 52,
   "id": "e07733b4-91a4-446d-a95a-e3f7bf63c9fc",
   "metadata": {},
   "outputs": [],
   "source": [
    "dados_17['QE_I57'].replace(dominio_professores_dict,inplace=True)\n",
    "dados_17 = dados_17.astype({'QE_I57':str})"
   ]
  },
  {
   "cell_type": "code",
   "execution_count": 53,
   "id": "27329947-64ac-41e5-8d87-b3f6c4aab459",
   "metadata": {},
   "outputs": [],
   "source": [
    "cond_salas_dict = {\n",
    "    1 : 'Nenhuma',\n",
    "    2 : 'Nenhuma',\n",
    "    3 : 'Algumas',\n",
    "    4 : 'Algumas',\n",
    "    5 : 'Maior parte',\n",
    "    6 : 'Todas',\n",
    "    7 : 'Não sei responder',\n",
    "    8 : 'Não sei responder'\n",
    "}"
   ]
  },
  {
   "cell_type": "code",
   "execution_count": 54,
   "id": "1b13293f-7927-41fa-a6f6-e204db8cddb7",
   "metadata": {},
   "outputs": [],
   "source": [
    "dados_17['QE_I61'].replace(cond_salas_dict,inplace=True)\n",
    "dados_17 = dados_17.astype({'QE_I61':str})"
   ]
  },
  {
   "cell_type": "code",
   "execution_count": 55,
   "id": "9894d0b9-0c0b-477a-aeb1-f474986bee50",
   "metadata": {},
   "outputs": [],
   "source": [
    "cond_praticas_dict = {\n",
    "    1 : 'Nenhuma',\n",
    "    2 : 'Nenhuma',\n",
    "    3 : 'Algumas',\n",
    "    4 : 'Algumas',\n",
    "    5 : 'Maior parte',\n",
    "    6 : 'Todas',\n",
    "    7 : 'Não sei responder',\n",
    "    8 : 'Não sei responder'\n",
    "}"
   ]
  },
  {
   "cell_type": "code",
   "execution_count": 56,
   "id": "55926fd8-e185-4a0b-8a79-ecd612c84345",
   "metadata": {},
   "outputs": [],
   "source": [
    "dados_17['QE_I62'].replace(cond_praticas_dict,inplace=True)\n",
    "dados_17 = dados_17.astype({'QE_I62':str})"
   ]
  },
  {
   "cell_type": "code",
   "execution_count": 57,
   "id": "c3daa74c-4a4c-4b4a-bcb7-8d4dbd695f85",
   "metadata": {},
   "outputs": [],
   "source": [
    "plano_ensino_dict = {\n",
    "    1 : 'Não contribui',\n",
    "    2 : 'Não contribui',\n",
    "    3 : 'Muito pouco',\n",
    "    4 : 'Parcialmente',\n",
    "    5 : 'Amplamente',\n",
    "    6 : 'Amplamente',\n",
    "    7 : 'Não sei responder',\n",
    "    8 : 'Não sei responder'\n",
    "}"
   ]
  },
  {
   "cell_type": "code",
   "execution_count": 58,
   "id": "fce75daa-d103-4beb-a3cb-f18be0c484cb",
   "metadata": {},
   "outputs": [],
   "source": [
    "dados_17['QE_I38'].replace(plano_ensino_dict,inplace=True)\n",
    "dados_17 = dados_17.astype({'QE_I38':str})"
   ]
  },
  {
   "cell_type": "code",
   "execution_count": 59,
   "id": "5aad9468-a850-4e38-b5b5-f6baf84a3434",
   "metadata": {},
   "outputs": [],
   "source": [
    "formacao_dict = {\n",
    "    1 : 'Muito fraca',\n",
    "    2 : 'Fraca',\n",
    "    3 : 'Regular',\n",
    "    4 : 'Regular',\n",
    "    5 : 'Boa',\n",
    "    6 : 'Muito boa',\n",
    "    7 : 'Não sei responder',\n",
    "    8 : 'Não sei responder'\n",
    "}"
   ]
  },
  {
   "cell_type": "code",
   "execution_count": 60,
   "id": "195b9d3f-7a06-4efa-8bb1-9a4121ded7ed",
   "metadata": {},
   "outputs": [],
   "source": [
    "dados_17['QE_I27'].replace(formacao_dict,inplace=True)\n",
    "dados_17 = dados_17.astype({'QE_I27':str})"
   ]
  },
  {
   "cell_type": "code",
   "execution_count": null,
   "id": "53186cb9-75cd-4ada-9181-18105165436d",
   "metadata": {},
   "outputs": [],
   "source": [
    "dados_17"
   ]
  },
  {
   "cell_type": "code",
   "execution_count": 61,
   "id": "900a6074-f2b5-4c14-b805-46f56e3375ea",
   "metadata": {},
   "outputs": [],
   "source": [
    "columns_dict = {\n",
    "    \"NU_ANO\": \"Ano\",\n",
    "    \"CO_CURSO\": \"Codigo_do_Curso\",\n",
    "    \"CO_GRUPO\": \"Curso\",\n",
    "    \"CO_UF_CURSO\": \"UF\",\n",
    "    \"CO_REGIAO_CURSO\": \"Regiao\",\n",
    "    \"CO_CATEGAD\": \"Cat_Administrativa\",\n",
    "    \"CO_ORGACAD\": \"Cat_Org_Academica\",\n",
    "    \"CO_TURNO_GRADUACAO\": \"Turno\",\n",
    "    \"TP_PRES\": \"Tipo_Presenca\",\n",
    "    \"NT_FG\": \"Nota_FG\",\n",
    "    \"NT_CE\": \"Nota_CE\",\n",
    "    \"DIF_GRAD_EM\": \"Anos_Preparacao\",\n",
    "    \"DIF_ANO_GRAD\": \"Anos_Graduacao\",\n",
    "    \"ANO_FIM_EM\": \"Conclusao_Ensino_Medio\",\n",
    "    \"ANO_IN_GRAD\": \"Inicio_Graduacao\",\n",
    "    \"QE_I17\": \"Tipo_Escola_EM\",\n",
    "    \"QE_I18\": \"Modalidade_EM\",\n",
    "    \"NU_IDADE\": \"Idade\",\n",
    "    \"TP_SEXO\": \"Sexo\",\n",
    "    \"QE_I02\": \"Cor_Raca\",\n",
    "    \"QE_I01\": \"Estado_Civil\",\n",
    "    \"QE_I04\": \"Nl_Pai\",\n",
    "    \"QE_I05\": \"Nl_Mae\",\n",
    "    \"QE_I08\": \"Renda\",\n",
    "    \"QE_I09\": \"Situacao_Financeira\",\n",
    "    \"QE_I06\": \"Moradia\",\n",
    "    \"QE_I07\": \"Qtde_Pessoas\",\n",
    "    \"QE_I15\": \"Politica_de_Ingresso\",\n",
    "    \"QE_I16\": \"UF_Ensino_Medio\",\n",
    "    \"QE_I10\": \"Situacao_Trabalho\",\n",
    "    \"QE_I11\": \"Bolsa_de_Estudos\",\n",
    "    \"QE_I22\": \"Qtde_Livros\",\n",
    "    \"QE_I23\": \"Horas_de_Estudo\",\n",
    "    \"QE_I56\": \"Disponibilidade_Professores\",\n",
    "    \"QE_I57\": \"Dominio_Professores\",\n",
    "    \"QE_I61\": \"Condicao_Salas\",\n",
    "    \"QE_I62\": \"Condicao_Praticas\",\n",
    "    \"QE_I38\": \"Plano_de_Ensino\",\n",
    "    \"QE_I27\": \"Formacao\"\n",
    "}"
   ]
  },
  {
   "cell_type": "code",
   "execution_count": 62,
   "id": "110807ac-d3b7-49c3-ae9f-e74ce3444e65",
   "metadata": {},
   "outputs": [],
   "source": [
    "dados_17.rename(columns = columns_dict, inplace = True)"
   ]
  },
  {
   "cell_type": "code",
   "execution_count": 63,
   "id": "6f050ef1-1c30-409c-a82d-1379f34949df",
   "metadata": {},
   "outputs": [],
   "source": [
    "dados_17 = dados_17.reindex(columns=[\"Ano\",\"Codigo_do_Curso\",\"Curso\",\"UF\",\"UF_Ensino_Medio\",\"Regiao\",\"Cat_Administrativa\",\"Cat_Org_Academica\",\"Turno\",\n",
    "                                     \"Tipo_Presenca\",\"Nota_FG\",\"Nota_CE\",\"Conclusao_Ensino_Medio\",\"Inicio_Graduacao\",\"Anos_Preparacao\",\"Anos_Graduacao\",\"Tipo_Escola_EM\",\"Modalidade_EM\",\n",
    "                                     \"Idade\",\"Sexo\",\"Cor_Raca\",\"Estado_Civil\",\"Nl_Pai\",\"Nl_Mae\",\"Renda\",\"Situacao_Financeira\",\"Moradia\",\"Qtde_Pessoas\",\n",
    "                                     \"Politica_de_Ingresso\",\"Situacao_Trabalho\",\"Bolsa_de_Estudos\",\"Qtde_Livros\",\"Horas_de_Estudo\",\"Disponibilidade_Professores\",\n",
    "                                     \"Dominio_Professores\",\"Condicao_Salas\",\"Condicao_Praticas\",\"Plano_de_Ensino\",\"Formacao\"])"
   ]
  },
  {
   "cell_type": "code",
   "execution_count": null,
   "id": "ba26ce97-a1a7-4fd5-a273-7ee8f5dc768f",
   "metadata": {},
   "outputs": [],
   "source": [
    "dados_17"
   ]
  },
  {
   "cell_type": "code",
   "execution_count": 64,
   "id": "75691cf8-3aa6-4a8b-855d-13b3b7340791",
   "metadata": {},
   "outputs": [],
   "source": [
    "dados_17.to_csv('./{}.csv'.format('pre-process_2017'),index=False)"
   ]
  },
  {
   "cell_type": "code",
   "execution_count": null,
   "id": "d33ee41e-5207-4ff1-aebe-b7746a9477c7",
   "metadata": {},
   "outputs": [],
   "source": [
    "# Gráfico do número de alunos de cada curso"
   ]
  },
  {
   "cell_type": "code",
   "execution_count": null,
   "id": "962a1aa9-6c64-47bb-8a54-85f28598d716",
   "metadata": {},
   "outputs": [],
   "source": [
    "count_bcc = dados_17[dados_17['Curso'] == 'BCC']['Curso'].count()\n",
    "count_ads = dados_17[dados_17['Curso'] == 'ADS']['Curso'].count()\n",
    "count_gti = dados_17[dados_17['Curso'] == 'GTI']['Curso'].count()\n",
    "count_ec = dados_17[dados_17['Curso'] == 'EC']['Curso'].count()\n",
    "count_lcc = dados_17[dados_17['Curso'] == 'LCC']['Curso'].count()\n",
    "count_rc = dados_17[dados_17['Curso'] == 'RC']['Curso'].count()\n",
    "count_si = dados_17[dados_17['Curso'] == 'SI']['Curso'].count()"
   ]
  },
  {
   "cell_type": "code",
   "execution_count": null,
   "id": "e7c22705-62cc-4f11-a9c8-df5d9b5722c0",
   "metadata": {},
   "outputs": [],
   "source": [
    "count_array = [count_bcc,count_ads, count_gti, count_ec, \n",
    "               count_lcc, count_rc, count_si]"
   ]
  },
  {
   "cell_type": "code",
   "execution_count": null,
   "id": "c95b6bba-d3a5-46d3-94aa-dd79e1e7d048",
   "metadata": {},
   "outputs": [],
   "source": [
    "count_courses = pd.DataFrame({'Número de alunos': count_array}, index=['BCC', 'ADS', 'GTI', 'EC', 'LCC', 'RC', 'SI'])\n",
    "\n",
    "count_courses.plot.bar();"
   ]
  },
  {
   "cell_type": "code",
   "execution_count": null,
   "id": "7d8a2500-5a27-44f8-b552-1bd859104fba",
   "metadata": {},
   "outputs": [],
   "source": []
  }
 ],
 "metadata": {
  "kernelspec": {
   "display_name": "Python 3 (ipykernel)",
   "language": "python",
   "name": "python3"
  },
  "language_info": {
   "codemirror_mode": {
    "name": "ipython",
    "version": 3
   },
   "file_extension": ".py",
   "mimetype": "text/x-python",
   "name": "python",
   "nbconvert_exporter": "python",
   "pygments_lexer": "ipython3",
   "version": "3.9.13"
  }
 },
 "nbformat": 4,
 "nbformat_minor": 5
}
