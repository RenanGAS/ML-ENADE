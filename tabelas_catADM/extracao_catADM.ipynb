{
 "cells": [
  {
   "cell_type": "code",
   "execution_count": 7,
   "id": "eea121f5-1ed8-4c0e-8b7c-e2c290536600",
   "metadata": {},
   "outputs": [],
   "source": [
    "import pandas as pd\n",
    "import numpy as np"
   ]
  },
  {
   "cell_type": "code",
   "execution_count": 8,
   "id": "7f64ea08-388c-4685-b863-90a2870c1019",
   "metadata": {},
   "outputs": [],
   "source": [
    "dados_enade = pd.read_csv('../teste_OHE_curso_treinamento.csv')"
   ]
  },
  {
   "cell_type": "markdown",
   "id": "886413ba-13e9-44f2-a43b-449e675eac9e",
   "metadata": {},
   "source": [
    "### Privada"
   ]
  },
  {
   "cell_type": "code",
   "execution_count": 9,
   "id": "596ba626-302c-477c-b0f9-eebfef6de287",
   "metadata": {},
   "outputs": [],
   "source": [
    "privada_CFL = dados_enade.loc[dados_enade['Privada CFL'] == 1]\n",
    "privada_CFL.reset_index(drop=True, inplace = True)"
   ]
  },
  {
   "cell_type": "code",
   "execution_count": 10,
   "id": "1ac8f6f8-a11f-48be-9f69-bf679d671291",
   "metadata": {},
   "outputs": [],
   "source": [
    "privada_SFL = dados_enade.loc[dados_enade['Privada SFL'] == 1]\n",
    "privada_SFL.reset_index(drop=True, inplace = True)"
   ]
  },
  {
   "cell_type": "code",
   "execution_count": 11,
   "id": "ecc451c8-8347-4425-9258-5e83c0ddc102",
   "metadata": {},
   "outputs": [],
   "source": [
    "dados_enade_privada = [privada_CFL, privada_SFL]\n",
    "  \n",
    "result_privada = pd.concat(dados_enade_privada)"
   ]
  },
  {
   "cell_type": "code",
   "execution_count": 12,
   "id": "73b3b11f-d53a-4bf0-8308-bbbf4daa7d7b",
   "metadata": {},
   "outputs": [],
   "source": [
    "result_privada.to_csv('./tabela_final_Privada_treinamento.csv',index=False)"
   ]
  },
  {
   "cell_type": "markdown",
   "id": "05949bbb-60f1-42d8-9f2d-d8ea59a18dab",
   "metadata": {},
   "source": [
    "### Pública"
   ]
  },
  {
   "cell_type": "code",
   "execution_count": 13,
   "id": "35846d2a-822d-4aa2-856a-569a120be562",
   "metadata": {},
   "outputs": [],
   "source": [
    "publica_federal = dados_enade.loc[dados_enade['Pública Federal'] == 1]\n",
    "publica_federal.reset_index(drop=True, inplace = True)"
   ]
  },
  {
   "cell_type": "code",
   "execution_count": 14,
   "id": "e1ef03cf-f151-4d21-9e6c-f0dc8c28ad97",
   "metadata": {},
   "outputs": [],
   "source": [
    "publica_estadual = dados_enade.loc[dados_enade['Pública Estadual'] == 1]\n",
    "publica_estadual.reset_index(drop=True, inplace = True)"
   ]
  },
  {
   "cell_type": "code",
   "execution_count": 15,
   "id": "3c247d9e-3984-488b-9fb6-fe37a3790537",
   "metadata": {},
   "outputs": [],
   "source": [
    "publica_municipal = dados_enade.loc[dados_enade['Pública Municipal'] == 1]\n",
    "publica_municipal.reset_index(drop=True, inplace = True)"
   ]
  },
  {
   "cell_type": "code",
   "execution_count": 16,
   "id": "1c6d1f53-2f51-4e57-81f1-e7b049c292fa",
   "metadata": {},
   "outputs": [],
   "source": [
    "dados_enade_publica = [publica_federal, publica_estadual, publica_municipal]\n",
    "  \n",
    "result_publica = pd.concat(dados_enade_publica)"
   ]
  },
  {
   "cell_type": "code",
   "execution_count": 17,
   "id": "3d6d7dda-f386-42f8-a881-7333a739bc11",
   "metadata": {},
   "outputs": [],
   "source": [
    "result_publica.to_csv('./tabela_final_Publica_treinamento.csv',index=False)"
   ]
  },
  {
   "cell_type": "code",
   "execution_count": null,
   "id": "9ec97a8d-d8d0-4de0-9def-18240a242875",
   "metadata": {},
   "outputs": [],
   "source": []
  }
 ],
 "metadata": {
  "kernelspec": {
   "display_name": "Python 3 (ipykernel)",
   "language": "python",
   "name": "python3"
  },
  "language_info": {
   "codemirror_mode": {
    "name": "ipython",
    "version": 3
   },
   "file_extension": ".py",
   "mimetype": "text/x-python",
   "name": "python",
   "nbconvert_exporter": "python",
   "pygments_lexer": "ipython3",
   "version": "3.9.13"
  }
 },
 "nbformat": 4,
 "nbformat_minor": 5
}
