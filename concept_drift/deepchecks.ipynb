{
 "cells": [
  {
   "cell_type": "markdown",
   "id": "04303fd3-a0ca-409a-b8d6-481f8e876486",
   "metadata": {},
   "source": [
    "## Label Drift"
   ]
  },
  {
   "cell_type": "code",
   "execution_count": 1,
   "id": "b1d0cbc0-edfd-42ce-96bd-49dd8154a962",
   "metadata": {},
   "outputs": [
    {
     "name": "stderr",
     "output_type": "stream",
     "text": [
      "deepchecks - WARNING - You are using deepchecks version 0.17.5, however a newer version is available. Deepchecks is frequently updated with major improvements. You should consider upgrading via the \"python -m pip install --upgrade deepchecks\" command.\n"
     ]
    }
   ],
   "source": [
    "import numpy as np\n",
    "import pandas as pd\n",
    "import matplotlib.pyplot as plt\n",
    "import seaborn as sns\n",
    "from deepchecks.tabular import Dataset\n",
    "from deepchecks.tabular.checks import LabelDrift"
   ]
  },
  {
   "cell_type": "code",
   "execution_count": 2,
   "id": "4cab65dc-e8c5-482c-91d7-59831298d895",
   "metadata": {},
   "outputs": [],
   "source": [
    "#cat_features_in_natura = [\"Curso\",\"UF\",\"UF_Ensino_Medio\",\"Regiao\",\"Cat_Administrativa\",\"Cat_Org_Academica\", \"Tipo_Escola_EM\",\n",
    "#                          \"Modalidade_EM\", \"Sexo\", \"Estado_Civil\",\"Nl_Pai\",\"Nl_Mae\", \"Moradia\",\"Qtde_Pessoas\", \"Politica_de_Ingresso\",\n",
    "#                          \"Situacao_Trabalho\", \"Qtde_Livros\",\"Horas_de_Estudo\"]\n",
    "#cat_features_modificadas = [\"Turno\",\"Cor_Raca\",\"Renda\", \"Situacao_Financeira\", \"Bolsa_de_Estudos\",\"Disponibilidade_Professores\", \"Dominio_Professores\",\n",
    " #                            \"Condicao_Salas\",\"Condicao_Praticas\",\"Plano_de_Ensino\",\"Formacao\"]\n",
    "cat_features_modificadas = [\"Cor_Raca\", \"Renda\", \"Politica_de_Ingresso\"]"
   ]
  },
  {
   "cell_type": "code",
   "execution_count": 64,
   "id": "00932ecb-32b4-4c62-b9c3-3d377c55c4c8",
   "metadata": {},
   "outputs": [],
   "source": [
    "ano_alvo = 2017\n",
    "#enade_treino = pd.read_csv(f\"../pre-process_{ano_alvo}_tres_anos.csv\")\n",
    "enade_treino = pd.read_csv(f\"../pre-process_{ano_alvo}.csv\")\n",
    "enade_treino = enade_treino[[\"Cor_Raca\"]]\n",
    "labels_treino = pd.DataFrame(0, index=np.arange(enade_treino.shape[0]), columns=[\"dummy\"]) \n",
    "enade_treino = pd.concat([enade_treino, labels_treino], axis=1)\n",
    "#print(enade_treino.head(5))\n",
    "#print(enade_treino.tail(5))"
   ]
  },
  {
   "cell_type": "code",
   "execution_count": 65,
   "id": "e29f11e8-aab1-4212-b69f-796704d9e8e7",
   "metadata": {},
   "outputs": [
    {
     "data": {
      "text/html": [
       "<div>\n",
       "<style scoped>\n",
       "    .dataframe tbody tr th:only-of-type {\n",
       "        vertical-align: middle;\n",
       "    }\n",
       "\n",
       "    .dataframe tbody tr th {\n",
       "        vertical-align: top;\n",
       "    }\n",
       "\n",
       "    .dataframe thead th {\n",
       "        text-align: right;\n",
       "    }\n",
       "</style>\n",
       "<table border=\"1\" class=\"dataframe\">\n",
       "  <thead>\n",
       "    <tr style=\"text-align: right;\">\n",
       "      <th></th>\n",
       "      <th>Cor_Raca</th>\n",
       "      <th>dummy</th>\n",
       "    </tr>\n",
       "  </thead>\n",
       "  <tbody>\n",
       "    <tr>\n",
       "      <th>0</th>\n",
       "      <td>Parda</td>\n",
       "      <td>0</td>\n",
       "    </tr>\n",
       "    <tr>\n",
       "      <th>1</th>\n",
       "      <td>Parda</td>\n",
       "      <td>0</td>\n",
       "    </tr>\n",
       "    <tr>\n",
       "      <th>2</th>\n",
       "      <td>Parda</td>\n",
       "      <td>0</td>\n",
       "    </tr>\n",
       "    <tr>\n",
       "      <th>3</th>\n",
       "      <td>Branca</td>\n",
       "      <td>0</td>\n",
       "    </tr>\n",
       "    <tr>\n",
       "      <th>4</th>\n",
       "      <td>Parda</td>\n",
       "      <td>0</td>\n",
       "    </tr>\n",
       "    <tr>\n",
       "      <th>...</th>\n",
       "      <td>...</td>\n",
       "      <td>...</td>\n",
       "    </tr>\n",
       "    <tr>\n",
       "      <th>51004</th>\n",
       "      <td>Branca</td>\n",
       "      <td>0</td>\n",
       "    </tr>\n",
       "    <tr>\n",
       "      <th>51005</th>\n",
       "      <td>Branca</td>\n",
       "      <td>0</td>\n",
       "    </tr>\n",
       "    <tr>\n",
       "      <th>51006</th>\n",
       "      <td>Branca</td>\n",
       "      <td>0</td>\n",
       "    </tr>\n",
       "    <tr>\n",
       "      <th>51007</th>\n",
       "      <td>Branca</td>\n",
       "      <td>0</td>\n",
       "    </tr>\n",
       "    <tr>\n",
       "      <th>51008</th>\n",
       "      <td>Branca</td>\n",
       "      <td>0</td>\n",
       "    </tr>\n",
       "  </tbody>\n",
       "</table>\n",
       "<p>51009 rows × 2 columns</p>\n",
       "</div>"
      ],
      "text/plain": [
       "      Cor_Raca  dummy\n",
       "0        Parda      0\n",
       "1        Parda      0\n",
       "2        Parda      0\n",
       "3       Branca      0\n",
       "4        Parda      0\n",
       "...        ...    ...\n",
       "51004   Branca      0\n",
       "51005   Branca      0\n",
       "51006   Branca      0\n",
       "51007   Branca      0\n",
       "51008   Branca      0\n",
       "\n",
       "[51009 rows x 2 columns]"
      ]
     },
     "execution_count": 65,
     "metadata": {},
     "output_type": "execute_result"
    }
   ],
   "source": [
    "enade_treino"
   ]
  },
  {
   "cell_type": "code",
   "execution_count": 66,
   "id": "38b94565-5478-4edf-9e80-67b18e8166f7",
   "metadata": {},
   "outputs": [],
   "source": [
    "#result_comparacao = pd.DataFrame()\n",
    "\n",
    "#handle_latex_form = [\n",
    "#    feature_name.replace(\"_\", \"\\_\")\n",
    "#    for feature_name\n",
    "#    in cat_features_modificadas\n",
    "#]\n",
    "\n",
    "#result_comparacao[\"Caracteristicas\"] = handle_latex_form\n",
    "\n",
    "#for ano in [2014]:\n",
    "ano_teste = 2021\n",
    "enade_teste = pd.read_csv(f\"../pre-process_{ano_teste}.csv\")\n",
    "enade_teste = enade_teste[[\"Cor_Raca\"]]\n",
    "labels_teste = pd.DataFrame(1, index=np.arange(enade_teste.shape[0]), columns=[\"dummy\"]) \n",
    "enade_teste = pd.concat([enade_teste, labels_teste], axis=1)"
   ]
  },
  {
   "cell_type": "code",
   "execution_count": 67,
   "id": "4766fa09-f281-4541-b863-ae146a84870c",
   "metadata": {},
   "outputs": [
    {
     "data": {
      "text/html": [
       "<div>\n",
       "<style scoped>\n",
       "    .dataframe tbody tr th:only-of-type {\n",
       "        vertical-align: middle;\n",
       "    }\n",
       "\n",
       "    .dataframe tbody tr th {\n",
       "        vertical-align: top;\n",
       "    }\n",
       "\n",
       "    .dataframe thead th {\n",
       "        text-align: right;\n",
       "    }\n",
       "</style>\n",
       "<table border=\"1\" class=\"dataframe\">\n",
       "  <thead>\n",
       "    <tr style=\"text-align: right;\">\n",
       "      <th></th>\n",
       "      <th>Cor_Raca</th>\n",
       "      <th>dummy</th>\n",
       "    </tr>\n",
       "  </thead>\n",
       "  <tbody>\n",
       "    <tr>\n",
       "      <th>0</th>\n",
       "      <td>Não declarado</td>\n",
       "      <td>1</td>\n",
       "    </tr>\n",
       "    <tr>\n",
       "      <th>1</th>\n",
       "      <td>Branca</td>\n",
       "      <td>1</td>\n",
       "    </tr>\n",
       "    <tr>\n",
       "      <th>2</th>\n",
       "      <td>Branca</td>\n",
       "      <td>1</td>\n",
       "    </tr>\n",
       "    <tr>\n",
       "      <th>3</th>\n",
       "      <td>Amarela</td>\n",
       "      <td>1</td>\n",
       "    </tr>\n",
       "    <tr>\n",
       "      <th>4</th>\n",
       "      <td>Branca</td>\n",
       "      <td>1</td>\n",
       "    </tr>\n",
       "    <tr>\n",
       "      <th>...</th>\n",
       "      <td>...</td>\n",
       "      <td>...</td>\n",
       "    </tr>\n",
       "    <tr>\n",
       "      <th>62026</th>\n",
       "      <td>Parda</td>\n",
       "      <td>1</td>\n",
       "    </tr>\n",
       "    <tr>\n",
       "      <th>62027</th>\n",
       "      <td>Branca</td>\n",
       "      <td>1</td>\n",
       "    </tr>\n",
       "    <tr>\n",
       "      <th>62028</th>\n",
       "      <td>Preta</td>\n",
       "      <td>1</td>\n",
       "    </tr>\n",
       "    <tr>\n",
       "      <th>62029</th>\n",
       "      <td>Parda</td>\n",
       "      <td>1</td>\n",
       "    </tr>\n",
       "    <tr>\n",
       "      <th>62030</th>\n",
       "      <td>NaN</td>\n",
       "      <td>1</td>\n",
       "    </tr>\n",
       "  </tbody>\n",
       "</table>\n",
       "<p>62031 rows × 2 columns</p>\n",
       "</div>"
      ],
      "text/plain": [
       "            Cor_Raca  dummy\n",
       "0      Não declarado      1\n",
       "1             Branca      1\n",
       "2             Branca      1\n",
       "3            Amarela      1\n",
       "4             Branca      1\n",
       "...              ...    ...\n",
       "62026          Parda      1\n",
       "62027         Branca      1\n",
       "62028          Preta      1\n",
       "62029          Parda      1\n",
       "62030            NaN      1\n",
       "\n",
       "[62031 rows x 2 columns]"
      ]
     },
     "execution_count": 67,
     "metadata": {},
     "output_type": "execute_result"
    }
   ],
   "source": [
    "enade_teste"
   ]
  },
  {
   "cell_type": "code",
   "execution_count": 68,
   "id": "fef6cdc7-ae30-4268-9413-f73a54958885",
   "metadata": {},
   "outputs": [
    {
     "data": {
      "application/vnd.jupyter.widget-view+json": {
       "model_id": "01e58bd236014b9eb90be829650e734c",
       "version_major": 2,
       "version_minor": 0
      },
      "text/plain": [
       "VBox(children=(HTML(value='<h4><b>Label Drift</b></h4>'), HTML(value='<p>    Calculate label drift between tra…"
      ]
     },
     "metadata": {},
     "output_type": "display_data"
    }
   ],
   "source": [
    "#    list_drift_score_ano_comp = []\n",
    "\n",
    "#    for feature in cat_features_modificadas:\n",
    "train_dataset = Dataset(enade_treino, label=\"dummy\", cat_features=[\"Cor_Raca\"])\n",
    "test_dataset = Dataset(enade_teste, label=\"dummy\", cat_features=[\"Cor_Raca\"])\n",
    "\n",
    "check = LabelDrift(ignore_na=True, balance_classes=True)\n",
    "result = check.run(train_dataset=train_dataset, test_dataset=test_dataset)\n",
    "result\n",
    "#        break\n",
    "    \n",
    "#        list_drift_score_ano_comp.append(round(result.value[\"Drift score\"], 5))\n",
    "        \n",
    "#    result_comparacao[str(ano)] = list_drift_score_ano_comp"
   ]
  },
  {
   "cell_type": "code",
   "execution_count": 17,
   "id": "269521a5-5594-45d8-bd57-7b1172f5a5c4",
   "metadata": {},
   "outputs": [
    {
     "data": {
      "text/html": [
       "<div>\n",
       "<style scoped>\n",
       "    .dataframe tbody tr th:only-of-type {\n",
       "        vertical-align: middle;\n",
       "    }\n",
       "\n",
       "    .dataframe tbody tr th {\n",
       "        vertical-align: top;\n",
       "    }\n",
       "\n",
       "    .dataframe thead th {\n",
       "        text-align: right;\n",
       "    }\n",
       "</style>\n",
       "<table border=\"1\" class=\"dataframe\">\n",
       "  <thead>\n",
       "    <tr style=\"text-align: right;\">\n",
       "      <th></th>\n",
       "      <th>Caracteristicas</th>\n",
       "      <th>2014</th>\n",
       "    </tr>\n",
       "  </thead>\n",
       "  <tbody>\n",
       "    <tr>\n",
       "      <th>0</th>\n",
       "      <td>Cor\\_Raca</td>\n",
       "      <td>0.99998</td>\n",
       "    </tr>\n",
       "    <tr>\n",
       "      <th>1</th>\n",
       "      <td>Renda</td>\n",
       "      <td>0.99998</td>\n",
       "    </tr>\n",
       "    <tr>\n",
       "      <th>2</th>\n",
       "      <td>Politica\\_de\\_Ingresso</td>\n",
       "      <td>0.99998</td>\n",
       "    </tr>\n",
       "  </tbody>\n",
       "</table>\n",
       "</div>"
      ],
      "text/plain": [
       "          Caracteristicas     2014\n",
       "0               Cor\\_Raca  0.99998\n",
       "1                   Renda  0.99998\n",
       "2  Politica\\_de\\_Ingresso  0.99998"
      ]
     },
     "execution_count": 17,
     "metadata": {},
     "output_type": "execute_result"
    }
   ],
   "source": [
    "result_comparacao"
   ]
  },
  {
   "cell_type": "code",
   "execution_count": 135,
   "id": "da3c1039-9f2a-4ff6-961b-aca273c3114c",
   "metadata": {},
   "outputs": [],
   "source": [
    "result_comparacao.to_csv(f'./relatorio_drift/label_drift_{ano_alvo}_in_natura.csv',index=False)"
   ]
  },
  {
   "cell_type": "code",
   "execution_count": 137,
   "id": "85785626-94e8-4613-85fa-d25bdcd0849e",
   "metadata": {},
   "outputs": [],
   "source": [
    "result_comparacao.to_csv(f'./relatorio_drift/label_drift_{ano_alvo}_modificado.csv',index=False)"
   ]
  },
  {
   "cell_type": "markdown",
   "id": "91f93bd8-a67f-4c89-a5e3-36069cbe4b51",
   "metadata": {},
   "source": [
    "## Feature Drift"
   ]
  },
  {
   "cell_type": "code",
   "execution_count": 1,
   "id": "1466f9d6-4123-405f-89d6-d25bc749aa86",
   "metadata": {},
   "outputs": [
    {
     "name": "stderr",
     "output_type": "stream",
     "text": [
      "deepchecks - WARNING - You are using deepchecks version 0.17.5, however a newer version is available. Deepchecks is frequently updated with major improvements. You should consider upgrading via the \"python -m pip install --upgrade deepchecks\" command.\n"
     ]
    }
   ],
   "source": [
    "from deepchecks.tabular.checks import FeatureDrift\n",
    "from sklearn.svm import SVC\n",
    "from scipy import stats\n",
    "import scipy"
   ]
  },
  {
   "cell_type": "markdown",
   "id": "cb9ebedb-6bd5-4190-8e2c-762c320f21ad",
   "metadata": {},
   "source": [
    "### Carregamento dos dados de 2017 e 2021"
   ]
  },
  {
   "cell_type": "code",
   "execution_count": 37,
   "id": "8fc310dc-e693-4468-9d54-d55321a84c4c",
   "metadata": {},
   "outputs": [],
   "source": [
    "#enade_treino = pd.read_csv(\"../concept_drift/tabela_final_2011_tres_anos_treinamento.csv\")\n",
    "#enade_treino = pd.read_csv(\"../pre-process_2017.csv\")\n",
    "enade_treino = pd.read_csv(\"../concept_drift/tabela_final_2017_treinamento.csv\")\n",
    "\n",
    "numero_caracteristicas = enade_treino.shape[1] - 1\n",
    "X_enade_treino = enade_treino.iloc[:, 0:numero_caracteristicas]\n",
    "y_enade_treino = enade_treino.iloc[:, -1]\n",
    "\n",
    "#enade_teste = pd.read_csv(\"../pre-process_2021.csv\")\n",
    "#enade_teste = pd.read_csv(\"../concept_drift/tabela_final_2021_tres_anos_treinamento.csv\")\n",
    "enade_teste = pd.read_csv(\"../concept_drift/tabela_final_2021_treinamento.csv\")"
   ]
  },
  {
   "cell_type": "code",
   "execution_count": 38,
   "id": "03bc0049-c478-4ea1-88bb-9627f91b2cee",
   "metadata": {},
   "outputs": [
    {
     "ename": "NameError",
     "evalue": "name 'SVC' is not defined",
     "output_type": "error",
     "traceback": [
      "\u001b[0;31m---------------------------------------------------------------------------\u001b[0m",
      "\u001b[0;31mNameError\u001b[0m                                 Traceback (most recent call last)",
      "\u001b[0;32m/tmp/ipykernel_33928/1652617938.py\u001b[0m in \u001b[0;36m<cell line: 4>\u001b[0;34m()\u001b[0m\n\u001b[1;32m      2\u001b[0m \u001b[0mtest_dataset\u001b[0m \u001b[0;34m=\u001b[0m \u001b[0mDataset\u001b[0m\u001b[0;34m(\u001b[0m\u001b[0menade_teste\u001b[0m\u001b[0;34m,\u001b[0m \u001b[0mlabel\u001b[0m\u001b[0;34m=\u001b[0m\u001b[0;34m'Nota_Conceito_Faixa'\u001b[0m\u001b[0;34m,\u001b[0m \u001b[0mcat_features\u001b[0m\u001b[0;34m=\u001b[0m\u001b[0;34m[\u001b[0m\u001b[0;34m]\u001b[0m\u001b[0;34m)\u001b[0m\u001b[0;34m\u001b[0m\u001b[0;34m\u001b[0m\u001b[0m\n\u001b[1;32m      3\u001b[0m \u001b[0;34m\u001b[0m\u001b[0m\n\u001b[0;32m----> 4\u001b[0;31m \u001b[0mmodel\u001b[0m \u001b[0;34m=\u001b[0m \u001b[0mSVC\u001b[0m\u001b[0;34m(\u001b[0m\u001b[0mprobability\u001b[0m\u001b[0;34m=\u001b[0m\u001b[0;32mTrue\u001b[0m\u001b[0;34m)\u001b[0m\u001b[0;34m\u001b[0m\u001b[0;34m\u001b[0m\u001b[0m\n\u001b[0m\u001b[1;32m      5\u001b[0m \u001b[0mmodel\u001b[0m\u001b[0;34m.\u001b[0m\u001b[0mfit\u001b[0m\u001b[0;34m(\u001b[0m\u001b[0mX_enade_treino\u001b[0m\u001b[0;34m,\u001b[0m \u001b[0my_enade_treino\u001b[0m\u001b[0;34m)\u001b[0m\u001b[0;34m\u001b[0m\u001b[0;34m\u001b[0m\u001b[0m\n\u001b[1;32m      6\u001b[0m \u001b[0;34m\u001b[0m\u001b[0m\n",
      "\u001b[0;31mNameError\u001b[0m: name 'SVC' is not defined"
     ]
    }
   ],
   "source": [
    "train_dataset = Dataset(enade_treino, label='Nota_Conceito_Faixa', cat_features=[])\n",
    "test_dataset = Dataset(enade_teste, label='Nota_Conceito_Faixa', cat_features=[])\n",
    "\n",
    "model = SVC(probability=True)\n",
    "model.fit(X_enade_treino, y_enade_treino)\n",
    "\n",
    "check = FeatureDrift()\n",
    "result = check.run(train_dataset=train_dataset, test_dataset=test_dataset, model=model, feature_importance_force_permutation=True)"
   ]
  },
  {
   "cell_type": "code",
   "execution_count": 5,
   "id": "5761211e-46fa-48fa-bc13-727e86a48f33",
   "metadata": {},
   "outputs": [
    {
     "data": {
      "application/vnd.jupyter.widget-view+json": {
       "model_id": "1e5eaeaa392f4db88d5f0143e7a10b83",
       "version_major": 2,
       "version_minor": 0
      },
      "text/plain": [
       "VBox(children=(HTML(value='<h4><b>Feature Drift</b></h4>'), HTML(value='<p>    Calculate drift between train d…"
      ]
     },
     "metadata": {},
     "output_type": "display_data"
    }
   ],
   "source": [
    "result"
   ]
  },
  {
   "cell_type": "code",
   "execution_count": 72,
   "id": "6c33a196-f5e5-426a-9781-5da3f9c838f7",
   "metadata": {},
   "outputs": [],
   "source": [
    "dict_feature_scores = result.value\n",
    "list_rank_feature_scores = sorted(dict_feature_scores.items(), key = lambda entry: entry[1][\"Drift score\"])"
   ]
  },
  {
   "cell_type": "code",
   "execution_count": 8,
   "id": "00144432-6b6e-46f1-a105-34a9da5df91d",
   "metadata": {},
   "outputs": [],
   "source": [
    "labels = []\n",
    "scores = []\n",
    "\n",
    "#for feature in list_rank_feature_scores[-1000:]:\n",
    "for feature in list_rank_feature_scores:\n",
    "    labels.append(feature[0])\n",
    "    scores.append(round(feature[1][\"Drift score\"], 3))\n",
    "\n",
    "#print(labels)\n",
    "#print(scores)"
   ]
  },
  {
   "cell_type": "code",
   "execution_count": null,
   "id": "05f5bd4c-fb68-416e-bd56-88bc3e814030",
   "metadata": {},
   "outputs": [],
   "source": [
    "scores"
   ]
  },
  {
   "cell_type": "code",
   "execution_count": 12,
   "id": "8cb73cc3-7bdd-4b97-b643-003ea3770050",
   "metadata": {},
   "outputs": [
    {
     "data": {
      "text/html": [
       "<div>\n",
       "<style scoped>\n",
       "    .dataframe tbody tr th:only-of-type {\n",
       "        vertical-align: middle;\n",
       "    }\n",
       "\n",
       "    .dataframe tbody tr th {\n",
       "        vertical-align: top;\n",
       "    }\n",
       "\n",
       "    .dataframe thead th {\n",
       "        text-align: right;\n",
       "    }\n",
       "</style>\n",
       "<table border=\"1\" class=\"dataframe\">\n",
       "  <thead>\n",
       "    <tr style=\"text-align: right;\">\n",
       "      <th></th>\n",
       "      <th>Valores</th>\n",
       "      <th>Drift score</th>\n",
       "    </tr>\n",
       "  </thead>\n",
       "  <tbody>\n",
       "    <tr>\n",
       "      <th>0</th>\n",
       "      <td>Não sei responder.33</td>\n",
       "      <td>0.190</td>\n",
       "    </tr>\n",
       "    <tr>\n",
       "      <th>1</th>\n",
       "      <td>Tem renda/Sustenta</td>\n",
       "      <td>0.193</td>\n",
       "    </tr>\n",
       "    <tr>\n",
       "      <th>2</th>\n",
       "      <td>Não sei responder.25</td>\n",
       "      <td>0.199</td>\n",
       "    </tr>\n",
       "    <tr>\n",
       "      <th>3</th>\n",
       "      <td>Não sei responder.32</td>\n",
       "      <td>0.206</td>\n",
       "    </tr>\n",
       "    <tr>\n",
       "      <th>4</th>\n",
       "      <td>Não sei responder.41</td>\n",
       "      <td>0.209</td>\n",
       "    </tr>\n",
       "    <tr>\n",
       "      <th>5</th>\n",
       "      <td>Numero\\_Faltantes</td>\n",
       "      <td>0.215</td>\n",
       "    </tr>\n",
       "    <tr>\n",
       "      <th>6</th>\n",
       "      <td>Numero\\_Participantes</td>\n",
       "      <td>0.216</td>\n",
       "    </tr>\n",
       "    <tr>\n",
       "      <th>7</th>\n",
       "      <td>Não sei responder.37</td>\n",
       "      <td>0.233</td>\n",
       "    </tr>\n",
       "    <tr>\n",
       "      <th>8</th>\n",
       "      <td>Nenhum.2</td>\n",
       "      <td>0.250</td>\n",
       "    </tr>\n",
       "    <tr>\n",
       "      <th>9</th>\n",
       "      <td>Não sei responder.26</td>\n",
       "      <td>0.290</td>\n",
       "    </tr>\n",
       "  </tbody>\n",
       "</table>\n",
       "</div>"
      ],
      "text/plain": [
       "                 Valores  Drift score\n",
       "0   Não sei responder.33        0.190\n",
       "1     Tem renda/Sustenta        0.193\n",
       "2   Não sei responder.25        0.199\n",
       "3   Não sei responder.32        0.206\n",
       "4   Não sei responder.41        0.209\n",
       "5      Numero\\_Faltantes        0.215\n",
       "6  Numero\\_Participantes        0.216\n",
       "7   Não sei responder.37        0.233\n",
       "8               Nenhum.2        0.250\n",
       "9   Não sei responder.26        0.290"
      ]
     },
     "execution_count": 12,
     "metadata": {},
     "output_type": "execute_result"
    }
   ],
   "source": [
    "result_comparacao = pd.DataFrame()\n",
    "\n",
    "handle_latex_form = [\n",
    "    feature_name.replace(\"_\", \"\\_\")\n",
    "    for feature_name\n",
    "    in labels\n",
    "]\n",
    "\n",
    "result_comparacao[\"Valores\"] = handle_latex_form\n",
    "result_comparacao[\"Drift score\"] = scores\n",
    "result_comparacao"
   ]
  },
  {
   "cell_type": "code",
   "execution_count": 185,
   "id": "b76d1b29-5404-4cba-8ecd-57bd2a3bc617",
   "metadata": {},
   "outputs": [],
   "source": [
    "result_comparacao.to_csv(f'./relatorio_drift/feature_drift_11_21.csv',index=False)"
   ]
  },
  {
   "cell_type": "code",
   "execution_count": 73,
   "id": "1ebce595-85b0-44bf-8b62-9dd86ba906fd",
   "metadata": {},
   "outputs": [
    {
     "data": {
      "text/plain": [
       "('nulos_Politica_de_Ingresso',\n",
       " {'Drift score': 0.06870462076925937,\n",
       "  'Method': 'Kolmogorov-Smirnov',\n",
       "  'Importance': None})"
      ]
     },
     "execution_count": 73,
     "metadata": {},
     "output_type": "execute_result"
    }
   ],
   "source": [
    "list(dict_feature_scores.items())[102]"
   ]
  },
  {
   "cell_type": "code",
   "execution_count": 74,
   "id": "5f3f181d-a52e-4019-a9ac-b04888bb9d96",
   "metadata": {},
   "outputs": [
    {
     "name": "stdout",
     "output_type": "stream",
     "text": [
      "('nulos_Politica_de_Ingresso', {'Drift score': 0.06870462076925937, 'Method': 'Kolmogorov-Smirnov', 'Importance': None})\n",
      "('Não', {'Drift score': 0.096405654640007, 'Method': 'Kolmogorov-Smirnov', 'Importance': None})\n",
      "('Critério étnico-racial', {'Drift score': 0.08199724466619507, 'Method': 'Kolmogorov-Smirnov', 'Importance': None})\n",
      "('Critério de renda', {'Drift score': 0.02729145722406323, 'Method': 'Kolmogorov-Smirnov', 'Importance': None})\n",
      "('Bolsa de estudos', {'Drift score': 0.028450683248315123, 'Method': 'Kolmogorov-Smirnov', 'Importance': None})\n",
      "('Combinação de critérios', {'Drift score': 0.08201834406920605, 'Method': 'Kolmogorov-Smirnov', 'Importance': None})\n",
      "('Critérios diferentes', {'Drift score': 0.045803080512839656, 'Method': 'Kolmogorov-Smirnov', 'Importance': None})\n",
      "('nulos_Situacao_Trabalho', {'Drift score': 0.06870462076925937, 'Method': 'Kolmogorov-Smirnov', 'Importance': None})\n"
     ]
    }
   ],
   "source": [
    "# Forma Ingresso\n",
    "for i in range(102,110):\n",
    "    print(list(dict_feature_scores.items())[i])"
   ]
  },
  {
   "cell_type": "code",
   "execution_count": 54,
   "id": "4e9a523a-556c-4585-afd5-07b97060b9d2",
   "metadata": {},
   "outputs": [
    {
     "data": {
      "text/plain": [
       "('Até 1,5 SM',\n",
       " {'Drift score': 0.059373720072979086,\n",
       "  'Method': 'Kolmogorov-Smirnov',\n",
       "  'Importance': None})"
      ]
     },
     "execution_count": 54,
     "metadata": {},
     "output_type": "execute_result"
    }
   ],
   "source": [
    "list(dict_feature_scores.items())[73]"
   ]
  },
  {
   "cell_type": "code",
   "execution_count": 55,
   "id": "bdd2d5ba-0a42-414a-803e-7922875007a4",
   "metadata": {},
   "outputs": [
    {
     "name": "stdout",
     "output_type": "stream",
     "text": [
      "('Até 1,5 SM', {'Drift score': 0.059373720072979086, 'Method': 'Kolmogorov-Smirnov', 'Importance': None})\n",
      "('De 1,5 a 3 SM', {'Drift score': 0.03716101326780108, 'Method': 'Kolmogorov-Smirnov', 'Importance': None})\n",
      "('De 3 a 4,5 SM', {'Drift score': 0.15518983257003138, 'Method': 'Kolmogorov-Smirnov', 'Importance': None})\n",
      "('De 4,5 a 6 SM', {'Drift score': 0.07208548981643514, 'Method': 'Kolmogorov-Smirnov', 'Importance': None})\n",
      "('De 6 a 10 SM', {'Drift score': 0.06009606434076775, 'Method': 'Kolmogorov-Smirnov', 'Importance': None})\n",
      "('De 10 a 30 SM', {'Drift score': 0.03184396370902687, 'Method': 'Kolmogorov-Smirnov', 'Importance': None})\n",
      "('Acima de 30 SM', {'Drift score': 0.01882439090988075, 'Method': 'Kolmogorov-Smirnov', 'Importance': None})\n",
      "('nulos_Situacao_Financeira', {'Drift score': 0.06870462076925937, 'Method': 'Kolmogorov-Smirnov', 'Importance': None})\n"
     ]
    }
   ],
   "source": [
    "# Renda\n",
    "for i in range(73,81):\n",
    "    print(list(dict_feature_scores.items())[i])"
   ]
  },
  {
   "cell_type": "code",
   "execution_count": 38,
   "id": "4c4d1b97-317a-4a97-ab01-fdaa57953a01",
   "metadata": {},
   "outputs": [
    {
     "data": {
      "text/plain": [
       "('nulos_Cor_Raca',\n",
       " {'Drift score': 0.06870462076925937,\n",
       "  'Method': 'Kolmogorov-Smirnov',\n",
       "  'Importance': None})"
      ]
     },
     "execution_count": 38,
     "metadata": {},
     "output_type": "execute_result"
    }
   ],
   "source": [
    "list(dict_feature_scores.items())[45]"
   ]
  },
  {
   "cell_type": "code",
   "execution_count": 39,
   "id": "071dc9b4-5f91-4114-b03e-54f9eb7676bc",
   "metadata": {},
   "outputs": [
    {
     "name": "stdout",
     "output_type": "stream",
     "text": [
      "('Branca', {'Drift score': 0.041259262017351195, 'Method': 'Kolmogorov-Smirnov', 'Importance': None})\n",
      "('Preta', {'Drift score': 0.04047610182323669, 'Method': 'Kolmogorov-Smirnov', 'Importance': None})\n",
      "('Amarela', {'Drift score': 0.08332898933859578, 'Method': 'Kolmogorov-Smirnov', 'Importance': None})\n",
      "('Parda', {'Drift score': 0.04589368383165157, 'Method': 'Kolmogorov-Smirnov', 'Importance': None})\n",
      "('Indígena', {'Drift score': 0.03704062255650298, 'Method': 'Kolmogorov-Smirnov', 'Importance': None})\n",
      "('Não declarado', {'Drift score': 0.06958707227166094, 'Method': 'Kolmogorov-Smirnov', 'Importance': None})\n"
     ]
    }
   ],
   "source": [
    "# Raça\n",
    "for i in range(46,52):\n",
    "    print(list(dict_feature_scores.items())[i])"
   ]
  },
  {
   "cell_type": "markdown",
   "id": "9d7052df-4ece-4be2-8151-a895b2e8a2e1",
   "metadata": {},
   "source": [
    "## Multivariate Drift"
   ]
  },
  {
   "cell_type": "code",
   "execution_count": 5,
   "id": "92ecd271-4fdd-400e-9ddf-ce8480fe1d01",
   "metadata": {},
   "outputs": [],
   "source": [
    "from deepchecks.tabular.checks import MultivariateDrift"
   ]
  },
  {
   "cell_type": "code",
   "execution_count": 33,
   "id": "76ff8635-b953-4425-9cbe-bae50862f442",
   "metadata": {},
   "outputs": [],
   "source": [
    "enade_treino = pd.read_csv(\"../concept_drift/tabela_final_2011_treinamento.csv\")\n",
    "#enade_treino = pd.read_csv(\"../pre-process_2011.csv\")\n",
    "#enade_treino = pd.read_csv(\"../concept_drift/tabela_final_2017_tres_anos_treinamento.csv\")\n",
    "\n",
    "numero_caracteristicas = enade_treino.shape[1] - 1\n",
    "X_enade_treino = enade_treino.iloc[:, 0:numero_caracteristicas]\n",
    "y_enade_treino = enade_treino.iloc[:, -1]\n",
    "\n",
    "enade_teste = pd.read_csv(\"../concept_drift/tabela_final_2014_treinamento.csv\")\n",
    "#enade_teste = pd.read_csv(\"../concept_drift/tabela_final_2021_tres_anos_treinamento.csv\")\n",
    "#enade_teste = pd.read_csv(\"../pre-process_2021.csv\")"
   ]
  },
  {
   "cell_type": "code",
   "execution_count": 34,
   "id": "9305d8cf-e76c-4ece-8a69-490271b49cc4",
   "metadata": {},
   "outputs": [],
   "source": [
    "train_dataset = Dataset(enade_treino, label='Nota_Conceito_Faixa', cat_features=[])\n",
    "test_dataset = Dataset(enade_teste, label='Nota_Conceito_Faixa', cat_features=[])"
   ]
  },
  {
   "cell_type": "code",
   "execution_count": 35,
   "id": "e61f1f86-fc27-40c3-b37e-34d7fa03ac0b",
   "metadata": {},
   "outputs": [],
   "source": [
    "check = MultivariateDrift(n_top_columns=10)\n",
    "result = check.run(train_dataset=train_dataset, test_dataset=test_dataset, feature_importance_timeout=200)"
   ]
  },
  {
   "cell_type": "code",
   "execution_count": 36,
   "id": "2de5284a-91e8-4424-8606-3660d771919d",
   "metadata": {},
   "outputs": [
    {
     "data": {
      "application/vnd.jupyter.widget-view+json": {
       "model_id": "81277850ea7e4a6b865c4862323e4c6c",
       "version_major": 2,
       "version_minor": 0
      },
      "text/plain": [
       "VBox(children=(HTML(value='<h4><b>Multivariate Drift</b></h4>'), HTML(value='<p>    Calculate drift between th…"
      ]
     },
     "metadata": {},
     "output_type": "display_data"
    }
   ],
   "source": [
    "result"
   ]
  },
  {
   "cell_type": "code",
   "execution_count": 10,
   "id": "bad0f901-0641-40e0-9526-bfd99bcdabb7",
   "metadata": {},
   "outputs": [],
   "source": [
    "dict_result = result.value"
   ]
  },
  {
   "cell_type": "code",
   "execution_count": 11,
   "id": "81f44c95-aefc-446b-9c7c-dc4cd80993ad",
   "metadata": {},
   "outputs": [
    {
     "data": {
      "text/plain": [
       "{'domain_classifier_auc': 0.9707251520168685,\n",
       " 'domain_classifier_drift_score': 0.941450304033737,\n",
       " 'domain_classifier_feature_importance': {'nulos_Condicao_Salas': 0.6476831478125807,\n",
       "  'nulos_Politica_de_Ingresso': 0.11778410561739584,\n",
       "  'Todos': 0.11778410561739583,\n",
       "  'nulos_Qtde_Livros': 0.11674864095262749,\n",
       "  'Numero_Notas_Invalidas': 0.0,\n",
       "  '40 horas ou mais': 0.0,\n",
       "  'Critérios diferentes': 0.0,\n",
       "  'nulos_Situacao_Trabalho': 0.0,\n",
       "  'Não.1': 0.0,\n",
       "  'Eventualmente': 0.0,\n",
       "  'Até 20 horas': 0.0,\n",
       "  '21 a 39 horas': 0.0,\n",
       "  'nulos_Bolsa_de_Estudos': 0.0,\n",
       "  'Bolsa de estudos': 0.0,\n",
       "  'Sim': 0.0,\n",
       "  'Não.2': 0.0,\n",
       "  'Não se aplica.1': 0.0,\n",
       "  'Nenhum': 0.0,\n",
       "  '1 ou 2': 0.0,\n",
       "  '3-5': 0.0,\n",
       "  '6-8': 0.0,\n",
       "  'Combinação de critérios': 0.0,\n",
       "  'Critério de renda': 0.0,\n",
       "  'nulos_Horas_de_Estudo': -0.0,\n",
       "  'Critério étnico-racial': 0.0,\n",
       "  'nulos_Moradia': 0.0,\n",
       "  'Sozinho': 0.0,\n",
       "  'Parentes': 0.0,\n",
       "  'Cônjuge/Filhos': 0.0,\n",
       "  'Outras pessoas': 0.0,\n",
       "  'Universidade': 0.0,\n",
       "  'Habitação individual/coletiva': 0.0,\n",
       "  'nulos_Qtde_Pessoas': 0.0,\n",
       "  'Nenhuma.2': 0.0,\n",
       "  'Uma': 0.0,\n",
       "  'Duas': 0.0,\n",
       "  'Três': 0.0,\n",
       "  'Quatro': 0.0,\n",
       "  'Cinco': 0.0,\n",
       "  'Seis': 0.0,\n",
       "  'Sete ou mais': 0.0,\n",
       "  'Não': 0.0,\n",
       "  '+8': 0.0,\n",
       "  'Nenhuma.3': 0.0,\n",
       "  'Numero_Faltantes': 0.0,\n",
       "  '1-3': 0.0,\n",
       "  'Nenhuma.5': 0.0,\n",
       "  'Algumas.1': 0.0,\n",
       "  'Maior parte.3': 0.0,\n",
       "  'Todas.1': 0.0,\n",
       "  'Não sei responder.3': 0.0,\n",
       "  'nulos_Plano_de_Ensino': 0.0,\n",
       "  'Amplamente': 0.0,\n",
       "  'Parcialmente': 0.0,\n",
       "  'Muito pouco': 0.0,\n",
       "  'Não contribui': 0.0,\n",
       "  'Não sei responder.4': 0.0,\n",
       "  'nulos_Formacao': 0.0,\n",
       "  'Muito boa': 0.0,\n",
       "  'Boa': 0.0,\n",
       "  'Regular': 0.0,\n",
       "  'Fraca': 0.0,\n",
       "  'Muito fraca': 0.0,\n",
       "  'nulos_Condicao_Praticas': 0.0,\n",
       "  'Não sei responder.2': 0.0,\n",
       "  'Todas': 0.0,\n",
       "  'Não sei responder': 0.0,\n",
       "  '4-7': 0.0,\n",
       "  '8-12': 0.0,\n",
       "  '+12': 0.0,\n",
       "  'nulos_Disponibilidade_Professores': 0.0,\n",
       "  'Maior parte': 0.0,\n",
       "  'Alguns': 0.0,\n",
       "  'Nenhum.1': 0.0,\n",
       "  'nulos_Dominio_Professores': 0.0,\n",
       "  'Maior parte.2': 0.0,\n",
       "  'Todos.1': 0.0,\n",
       "  'Maior parte.1': 0.0,\n",
       "  'Alguns.1': 0.0,\n",
       "  'Nenhum.2': 0.0,\n",
       "  'Não sei responder.1': 0.0,\n",
       "  'Nenhuma.4': 0.0,\n",
       "  'Algumas': 0.0,\n",
       "  'Tem renda/Principal': 0.0,\n",
       "  'Tem renda/Sustenta': 0.0,\n",
       "  'Tem renda/Independente': 0.0,\n",
       "  'ES': 0.0,\n",
       "  'SP': 0.0,\n",
       "  'PR': 0.0,\n",
       "  'SC': 0.0,\n",
       "  'RS': 0.0,\n",
       "  'MS': 0.0,\n",
       "  'MT': 0.0,\n",
       "  'GO': 0.0,\n",
       "  'DF': 0.0,\n",
       "  'Não se aplica': 0.0,\n",
       "  'nulos_Tipo_Escola_EM': -0.0,\n",
       "  'Pública': 0.0,\n",
       "  'Privada': 0.0,\n",
       "  'Exterior': 0.0,\n",
       "  'nulos_Modalidade_EM': 0.0,\n",
       "  'Tradicional': 0.0,\n",
       "  'Técnico': 0.0,\n",
       "  'Magistério': 0.0,\n",
       "  'RJ': 0.0,\n",
       "  'MG': 0.0,\n",
       "  'Outra': 0.0,\n",
       "  'BA': 0.0,\n",
       "  'Numero_Participantes': 0.0,\n",
       "  'nulos_UF_Ensino_Medio': 0.0,\n",
       "  'RO': 0.0,\n",
       "  'AC': 0.0,\n",
       "  'AM': 0.0,\n",
       "  'RR': 0.0,\n",
       "  'PA': 0.0,\n",
       "  'AP': 0.0,\n",
       "  'TO': 0.0,\n",
       "  'MA': 0.0,\n",
       "  'PI': 0.0,\n",
       "  'CE': 0.0,\n",
       "  'RN': 0.0,\n",
       "  'PB': 0.0,\n",
       "  'PE': 0.0,\n",
       "  'AL': 0.0,\n",
       "  'SE': 0.0,\n",
       "  'Supletivo': 0.0,\n",
       "  'nulos_Sexo': 0.0,\n",
       "  'Tem renda/Outros': 0.0,\n",
       "  'Superior': 0.0,\n",
       "  'nulos_Nl_Mae': 0.0,\n",
       "  'Nenhuma.1': 0.0,\n",
       "  'Fundamental 1-5.1': 0.0,\n",
       "  'Fundamental 6-9.1': 0.0,\n",
       "  'Médio.1': 0.0,\n",
       "  'Superior.1': 0.0,\n",
       "  'Pós-graduação.1': 0.0,\n",
       "  'nulos_Renda': 0.0,\n",
       "  'Até 1,5 SM': 0.0,\n",
       "  'De 1,5 a 3 SM': 0.0,\n",
       "  'De 3 a 4,5 SM': 0.0,\n",
       "  'De 4,5 a 6 SM': 0.0,\n",
       "  'De 6 a 10 SM': 0.0,\n",
       "  'De 10 a 30 SM': 0.0,\n",
       "  'Acima de 30 SM': 0.0,\n",
       "  'nulos_Situacao_Financeira': 0.0,\n",
       "  'Sem renda/Outros': 0.0,\n",
       "  'Pós-graduação': 0.0,\n",
       "  'Médio': 0.0,\n",
       "  'M': 0.0,\n",
       "  'Fundamental 6-9': 0.0,\n",
       "  'F': 0.0,\n",
       "  'nulos_Cor_Raca': 0.0,\n",
       "  'Branca': 0.0,\n",
       "  'Preta': 0.0,\n",
       "  'Amarela': 0.0,\n",
       "  'Parda': 0.0,\n",
       "  'Indígena': 0.0,\n",
       "  'Não declarado': 0.0,\n",
       "  'nulos_Estado_Civil': 0.0,\n",
       "  'Solteiro': 0.0,\n",
       "  'Casado': 0.0,\n",
       "  'Separado': 0.0,\n",
       "  'Viúvo': 0.0,\n",
       "  'Outro': 0.0,\n",
       "  'nulos_Nl_Pai': 0.0,\n",
       "  'Nenhuma': 0.0,\n",
       "  'Fundamental 1-5': 0.0,\n",
       "  'Não sei responder.5': 0.0}}"
      ]
     },
     "execution_count": 11,
     "metadata": {},
     "output_type": "execute_result"
    }
   ],
   "source": [
    "dict_result"
   ]
  },
  {
   "cell_type": "code",
   "execution_count": 12,
   "id": "cdebfec6-e38b-4654-af27-dbdbb4c6a999",
   "metadata": {},
   "outputs": [],
   "source": [
    "result_comparacao = pd.DataFrame()\n",
    "\n",
    "result_comparacao[\"AUC score\"] = [round(dict_result[\"domain_classifier_auc\"], 3)]\n",
    "result_comparacao[\"Drift score\"] = [round(dict_result[\"domain_classifier_drift_score\"], 3)]"
   ]
  },
  {
   "cell_type": "code",
   "execution_count": 13,
   "id": "d19b540b-12bf-4421-bee6-bc4d26314e3d",
   "metadata": {},
   "outputs": [
    {
     "data": {
      "text/html": [
       "<div>\n",
       "<style scoped>\n",
       "    .dataframe tbody tr th:only-of-type {\n",
       "        vertical-align: middle;\n",
       "    }\n",
       "\n",
       "    .dataframe tbody tr th {\n",
       "        vertical-align: top;\n",
       "    }\n",
       "\n",
       "    .dataframe thead th {\n",
       "        text-align: right;\n",
       "    }\n",
       "</style>\n",
       "<table border=\"1\" class=\"dataframe\">\n",
       "  <thead>\n",
       "    <tr style=\"text-align: right;\">\n",
       "      <th></th>\n",
       "      <th>AUC score</th>\n",
       "      <th>Drift score</th>\n",
       "    </tr>\n",
       "  </thead>\n",
       "  <tbody>\n",
       "    <tr>\n",
       "      <th>0</th>\n",
       "      <td>0.971</td>\n",
       "      <td>0.941</td>\n",
       "    </tr>\n",
       "  </tbody>\n",
       "</table>\n",
       "</div>"
      ],
      "text/plain": [
       "   AUC score  Drift score\n",
       "0      0.971        0.941"
      ]
     },
     "execution_count": 13,
     "metadata": {},
     "output_type": "execute_result"
    }
   ],
   "source": [
    "result_comparacao"
   ]
  },
  {
   "cell_type": "code",
   "execution_count": 9,
   "id": "3d41e24e-464e-437d-971a-804817867fd7",
   "metadata": {},
   "outputs": [],
   "source": [
    "result_comparacao.to_csv(f'./relatorio_drift/mlt_drift_17_21.csv',index=False)"
   ]
  },
  {
   "cell_type": "code",
   "execution_count": 35,
   "id": "145edee8-464e-48ce-a30a-fc85f5874b7c",
   "metadata": {},
   "outputs": [],
   "source": [
    "dict_feature_importances = dict_result[\"domain_classifier_feature_importance\"]"
   ]
  },
  {
   "cell_type": "code",
   "execution_count": null,
   "id": "baa7dce3-cba3-4efc-be19-8b54bf1c00c8",
   "metadata": {},
   "outputs": [],
   "source": [
    "dict_feature_importances"
   ]
  },
  {
   "cell_type": "code",
   "execution_count": 36,
   "id": "ad8a7bb6-cad3-47a1-9bbb-575a9956c612",
   "metadata": {},
   "outputs": [
    {
     "name": "stdout",
     "output_type": "stream",
     "text": [
      "['Concordo Total..38', 'Não se aplica.36', 'Não sei responder.37', 'Tem renda/Sustenta', 'EC', 'Prog CSF', 'Numero_Participantes', 'Disc. totalmente.38', 'Nenhum.2', 'Não sei responder.26']\n",
      "[0.014, 0.017, 0.027, 0.035, 0.044, 0.062, 0.084, 0.109, 0.253, 0.356]\n"
     ]
    }
   ],
   "source": [
    "list_rank_feature_scores = sorted(dict_feature_importances.items(), key = lambda entry: entry[1])\n",
    "\n",
    "labels = []\n",
    "scores = []\n",
    "\n",
    "for feature in list_rank_feature_scores[-10:]:\n",
    "    labels.append(feature[0])\n",
    "    scores.append(round(feature[1], 3))\n",
    "\n",
    "print(labels)\n",
    "print(scores)"
   ]
  },
  {
   "cell_type": "code",
   "execution_count": 37,
   "id": "d460221e-8c2a-4fdb-8737-89da66297cc5",
   "metadata": {},
   "outputs": [
    {
     "data": {
      "text/html": [
       "<div>\n",
       "<style scoped>\n",
       "    .dataframe tbody tr th:only-of-type {\n",
       "        vertical-align: middle;\n",
       "    }\n",
       "\n",
       "    .dataframe tbody tr th {\n",
       "        vertical-align: top;\n",
       "    }\n",
       "\n",
       "    .dataframe thead th {\n",
       "        text-align: right;\n",
       "    }\n",
       "</style>\n",
       "<table border=\"1\" class=\"dataframe\">\n",
       "  <thead>\n",
       "    <tr style=\"text-align: right;\">\n",
       "      <th></th>\n",
       "      <th>Valores</th>\n",
       "      <th>Importance score</th>\n",
       "    </tr>\n",
       "  </thead>\n",
       "  <tbody>\n",
       "    <tr>\n",
       "      <th>0</th>\n",
       "      <td>Concordo Total..38</td>\n",
       "      <td>0.014</td>\n",
       "    </tr>\n",
       "    <tr>\n",
       "      <th>1</th>\n",
       "      <td>Não se aplica.36</td>\n",
       "      <td>0.017</td>\n",
       "    </tr>\n",
       "    <tr>\n",
       "      <th>2</th>\n",
       "      <td>Não sei responder.37</td>\n",
       "      <td>0.027</td>\n",
       "    </tr>\n",
       "    <tr>\n",
       "      <th>3</th>\n",
       "      <td>Tem renda/Sustenta</td>\n",
       "      <td>0.035</td>\n",
       "    </tr>\n",
       "    <tr>\n",
       "      <th>4</th>\n",
       "      <td>EC</td>\n",
       "      <td>0.044</td>\n",
       "    </tr>\n",
       "    <tr>\n",
       "      <th>5</th>\n",
       "      <td>Prog CSF</td>\n",
       "      <td>0.062</td>\n",
       "    </tr>\n",
       "    <tr>\n",
       "      <th>6</th>\n",
       "      <td>Numero\\_Participantes</td>\n",
       "      <td>0.084</td>\n",
       "    </tr>\n",
       "    <tr>\n",
       "      <th>7</th>\n",
       "      <td>Disc. totalmente.38</td>\n",
       "      <td>0.109</td>\n",
       "    </tr>\n",
       "    <tr>\n",
       "      <th>8</th>\n",
       "      <td>Nenhum.2</td>\n",
       "      <td>0.253</td>\n",
       "    </tr>\n",
       "    <tr>\n",
       "      <th>9</th>\n",
       "      <td>Não sei responder.26</td>\n",
       "      <td>0.356</td>\n",
       "    </tr>\n",
       "  </tbody>\n",
       "</table>\n",
       "</div>"
      ],
      "text/plain": [
       "                 Valores  Importance score\n",
       "0     Concordo Total..38             0.014\n",
       "1       Não se aplica.36             0.017\n",
       "2   Não sei responder.37             0.027\n",
       "3     Tem renda/Sustenta             0.035\n",
       "4                     EC             0.044\n",
       "5               Prog CSF             0.062\n",
       "6  Numero\\_Participantes             0.084\n",
       "7    Disc. totalmente.38             0.109\n",
       "8               Nenhum.2             0.253\n",
       "9   Não sei responder.26             0.356"
      ]
     },
     "execution_count": 37,
     "metadata": {},
     "output_type": "execute_result"
    }
   ],
   "source": [
    "result_feature_importances = pd.DataFrame()\n",
    "\n",
    "handle_latex_form = [\n",
    "    feature_name.replace(\"_\", \"\\_\")\n",
    "    for feature_name\n",
    "    in labels\n",
    "]\n",
    "\n",
    "result_feature_importances[\"Valores\"] = handle_latex_form\n",
    "result_feature_importances[\"Importance score\"] = scores\n",
    "result_feature_importances"
   ]
  },
  {
   "cell_type": "code",
   "execution_count": 272,
   "id": "cda29004-9fec-4042-aaf1-0f5de6516128",
   "metadata": {},
   "outputs": [],
   "source": [
    "result_feature_importances.to_csv(f'./relatorio_drift/mlt_drift_17_21_feat_imp.csv',index=False)"
   ]
  }
 ],
 "metadata": {
  "kernelspec": {
   "display_name": "Python 3 (ipykernel)",
   "language": "python",
   "name": "python3"
  },
  "language_info": {
   "codemirror_mode": {
    "name": "ipython",
    "version": 3
   },
   "file_extension": ".py",
   "mimetype": "text/x-python",
   "name": "python",
   "nbconvert_exporter": "python",
   "pygments_lexer": "ipython3",
   "version": "3.10.9"
  }
 },
 "nbformat": 4,
 "nbformat_minor": 5
}
