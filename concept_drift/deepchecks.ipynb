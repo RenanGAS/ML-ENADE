{
 "cells": [
  {
   "cell_type": "markdown",
   "id": "04303fd3-a0ca-409a-b8d6-481f8e876486",
   "metadata": {},
   "source": [
    "## Label Drift"
   ]
  },
  {
   "cell_type": "code",
   "execution_count": 1,
   "id": "b1d0cbc0-edfd-42ce-96bd-49dd8154a962",
   "metadata": {},
   "outputs": [],
   "source": [
    "import numpy as np\n",
    "import pandas as pd\n",
    "\n",
    "from deepchecks.tabular import Dataset\n",
    "from deepchecks.tabular.checks import LabelDrift"
   ]
  },
  {
   "cell_type": "markdown",
   "id": "ae4a6362-4afa-4d21-b451-35d9eb2079b0",
   "metadata": {},
   "source": [
    "### Carregamento dos dados de 2017 e 2021"
   ]
  },
  {
   "cell_type": "code",
   "execution_count": 5,
   "id": "36cfe564-3745-456f-a5c4-51a8355a0157",
   "metadata": {},
   "outputs": [],
   "source": [
    "enade_treino = pd.read_csv(\"../concept_drift/tabela_final_2017_treinamento.csv\")\n",
    "enade_teste = pd.read_csv(\"../concept_drift/tabela_final_2021_treinamento.csv\")"
   ]
  },
  {
   "cell_type": "code",
   "execution_count": 6,
   "id": "00932ecb-32b4-4c62-b9c3-3d377c55c4c8",
   "metadata": {},
   "outputs": [],
   "source": [
    "train_dataset = Dataset(enade_treino, label='Nota_Conceito_Faixa', cat_features=[])\n",
    "test_dataset = Dataset(enade_teste, label='Nota_Conceito_Faixa', cat_features=[])"
   ]
  },
  {
   "cell_type": "markdown",
   "id": "0e37f6dc-d90e-4e58-af7e-f664b1bcfa60",
   "metadata": {},
   "source": [
    "### Uso do método LabelDrift da biblioteca"
   ]
  },
  {
   "cell_type": "code",
   "execution_count": 7,
   "id": "b41b85cc-e7ef-482e-bfcd-bde85ccade4a",
   "metadata": {},
   "outputs": [],
   "source": [
    "check = LabelDrift()\n",
    "result = check.run(train_dataset=train_dataset, test_dataset=test_dataset)"
   ]
  },
  {
   "cell_type": "code",
   "execution_count": 8,
   "id": "d1ea8d9b-c93d-47d0-b9a9-6c0fa91322a4",
   "metadata": {},
   "outputs": [
    {
     "data": {
      "application/vnd.jupyter.widget-view+json": {
       "model_id": "c1cb1f17886a4b8dab89e6d97496c803",
       "version_major": 2,
       "version_minor": 0
      },
      "text/plain": [
       "VBox(children=(HTML(value='<h4><b>Label Drift</b></h4>'), HTML(value='<p>    Calculate label drift between tra…"
      ]
     },
     "metadata": {},
     "output_type": "display_data"
    }
   ],
   "source": [
    "result"
   ]
  },
  {
   "cell_type": "markdown",
   "id": "91f93bd8-a67f-4c89-a5e3-36069cbe4b51",
   "metadata": {},
   "source": [
    "## Feature Drift"
   ]
  },
  {
   "cell_type": "code",
   "execution_count": 2,
   "id": "1466f9d6-4123-405f-89d6-d25bc749aa86",
   "metadata": {},
   "outputs": [],
   "source": [
    "from deepchecks.tabular.checks import FeatureDrift\n",
    "from sklearn.svm import SVC"
   ]
  },
  {
   "cell_type": "markdown",
   "id": "cb9ebedb-6bd5-4190-8e2c-762c320f21ad",
   "metadata": {},
   "source": [
    "### Carregamento dos dados de 2017 e 2021"
   ]
  },
  {
   "cell_type": "code",
   "execution_count": 3,
   "id": "8fc310dc-e693-4468-9d54-d55321a84c4c",
   "metadata": {},
   "outputs": [],
   "source": [
    "enade_treino = pd.read_csv(\"../concept_drift/tabela_final_2017_treinamento.csv\")\n",
    "\n",
    "numero_caracteristicas = enade_treino.shape[1] - 1\n",
    "X_enade_treino = enade_treino.iloc[:, 0:numero_caracteristicas]\n",
    "y_enade_treino = enade_treino.iloc[:, -1]\n",
    "\n",
    "enade_teste = pd.read_csv(\"../concept_drift/tabela_final_2021_treinamento.csv\")"
   ]
  },
  {
   "cell_type": "code",
   "execution_count": 4,
   "id": "03bc0049-c478-4ea1-88bb-9627f91b2cee",
   "metadata": {},
   "outputs": [],
   "source": [
    "train_dataset = Dataset(enade_treino, label='Nota_Conceito_Faixa', cat_features=[])\n",
    "test_dataset = Dataset(enade_teste, label='Nota_Conceito_Faixa', cat_features=[])"
   ]
  },
  {
   "cell_type": "markdown",
   "id": "234a9b67-c812-4d54-8319-5757b9d9d6cc",
   "metadata": {},
   "source": [
    "### Uso do método FeatureDrift da biblioteca"
   ]
  },
  {
   "cell_type": "markdown",
   "id": "372d5166-c68d-4763-bb2a-52cedf96e54a",
   "metadata": {},
   "source": [
    "#### Instanciação do modelo de preferência"
   ]
  },
  {
   "cell_type": "code",
   "execution_count": 9,
   "id": "40e31471-558f-458e-8ac6-b5bcd07bfcc8",
   "metadata": {},
   "outputs": [
    {
     "data": {
      "text/html": [
       "<style>#sk-container-id-1 {color: black;background-color: white;}#sk-container-id-1 pre{padding: 0;}#sk-container-id-1 div.sk-toggleable {background-color: white;}#sk-container-id-1 label.sk-toggleable__label {cursor: pointer;display: block;width: 100%;margin-bottom: 0;padding: 0.3em;box-sizing: border-box;text-align: center;}#sk-container-id-1 label.sk-toggleable__label-arrow:before {content: \"▸\";float: left;margin-right: 0.25em;color: #696969;}#sk-container-id-1 label.sk-toggleable__label-arrow:hover:before {color: black;}#sk-container-id-1 div.sk-estimator:hover label.sk-toggleable__label-arrow:before {color: black;}#sk-container-id-1 div.sk-toggleable__content {max-height: 0;max-width: 0;overflow: hidden;text-align: left;background-color: #f0f8ff;}#sk-container-id-1 div.sk-toggleable__content pre {margin: 0.2em;color: black;border-radius: 0.25em;background-color: #f0f8ff;}#sk-container-id-1 input.sk-toggleable__control:checked~div.sk-toggleable__content {max-height: 200px;max-width: 100%;overflow: auto;}#sk-container-id-1 input.sk-toggleable__control:checked~label.sk-toggleable__label-arrow:before {content: \"▾\";}#sk-container-id-1 div.sk-estimator input.sk-toggleable__control:checked~label.sk-toggleable__label {background-color: #d4ebff;}#sk-container-id-1 div.sk-label input.sk-toggleable__control:checked~label.sk-toggleable__label {background-color: #d4ebff;}#sk-container-id-1 input.sk-hidden--visually {border: 0;clip: rect(1px 1px 1px 1px);clip: rect(1px, 1px, 1px, 1px);height: 1px;margin: -1px;overflow: hidden;padding: 0;position: absolute;width: 1px;}#sk-container-id-1 div.sk-estimator {font-family: monospace;background-color: #f0f8ff;border: 1px dotted black;border-radius: 0.25em;box-sizing: border-box;margin-bottom: 0.5em;}#sk-container-id-1 div.sk-estimator:hover {background-color: #d4ebff;}#sk-container-id-1 div.sk-parallel-item::after {content: \"\";width: 100%;border-bottom: 1px solid gray;flex-grow: 1;}#sk-container-id-1 div.sk-label:hover label.sk-toggleable__label {background-color: #d4ebff;}#sk-container-id-1 div.sk-serial::before {content: \"\";position: absolute;border-left: 1px solid gray;box-sizing: border-box;top: 0;bottom: 0;left: 50%;z-index: 0;}#sk-container-id-1 div.sk-serial {display: flex;flex-direction: column;align-items: center;background-color: white;padding-right: 0.2em;padding-left: 0.2em;position: relative;}#sk-container-id-1 div.sk-item {position: relative;z-index: 1;}#sk-container-id-1 div.sk-parallel {display: flex;align-items: stretch;justify-content: center;background-color: white;position: relative;}#sk-container-id-1 div.sk-item::before, #sk-container-id-1 div.sk-parallel-item::before {content: \"\";position: absolute;border-left: 1px solid gray;box-sizing: border-box;top: 0;bottom: 0;left: 50%;z-index: -1;}#sk-container-id-1 div.sk-parallel-item {display: flex;flex-direction: column;z-index: 1;position: relative;background-color: white;}#sk-container-id-1 div.sk-parallel-item:first-child::after {align-self: flex-end;width: 50%;}#sk-container-id-1 div.sk-parallel-item:last-child::after {align-self: flex-start;width: 50%;}#sk-container-id-1 div.sk-parallel-item:only-child::after {width: 0;}#sk-container-id-1 div.sk-dashed-wrapped {border: 1px dashed gray;margin: 0 0.4em 0.5em 0.4em;box-sizing: border-box;padding-bottom: 0.4em;background-color: white;}#sk-container-id-1 div.sk-label label {font-family: monospace;font-weight: bold;display: inline-block;line-height: 1.2em;}#sk-container-id-1 div.sk-label-container {text-align: center;}#sk-container-id-1 div.sk-container {/* jupyter's `normalize.less` sets `[hidden] { display: none; }` but bootstrap.min.css set `[hidden] { display: none !important; }` so we also need the `!important` here to be able to override the default hidden behavior on the sphinx rendered scikit-learn.org. See: https://github.com/scikit-learn/scikit-learn/issues/21755 */display: inline-block !important;position: relative;}#sk-container-id-1 div.sk-text-repr-fallback {display: none;}</style><div id=\"sk-container-id-1\" class=\"sk-top-container\"><div class=\"sk-text-repr-fallback\"><pre>SVC(probability=True)</pre><b>In a Jupyter environment, please rerun this cell to show the HTML representation or trust the notebook. <br />On GitHub, the HTML representation is unable to render, please try loading this page with nbviewer.org.</b></div><div class=\"sk-container\" hidden><div class=\"sk-item\"><div class=\"sk-estimator sk-toggleable\"><input class=\"sk-toggleable__control sk-hidden--visually\" id=\"sk-estimator-id-1\" type=\"checkbox\" checked><label for=\"sk-estimator-id-1\" class=\"sk-toggleable__label sk-toggleable__label-arrow\">SVC</label><div class=\"sk-toggleable__content\"><pre>SVC(probability=True)</pre></div></div></div></div></div>"
      ],
      "text/plain": [
       "SVC(probability=True)"
      ]
     },
     "execution_count": 9,
     "metadata": {},
     "output_type": "execute_result"
    }
   ],
   "source": [
    "model = SVC(probability=True)\n",
    "model.fit(X_enade_treino, y_enade_treino)"
   ]
  },
  {
   "cell_type": "markdown",
   "id": "09f24fcd-ee61-4de2-8e06-2e101408c7aa",
   "metadata": {},
   "source": [
    "#### Uso do método"
   ]
  },
  {
   "cell_type": "code",
   "execution_count": 10,
   "id": "130ddb9c-1ea0-421b-a2e6-fd23703e1f6c",
   "metadata": {},
   "outputs": [
    {
     "name": "stderr",
     "output_type": "stream",
     "text": [
      "deepchecks - WARNING - Features importance was not calculated:\n",
      "Skipping permutation importance calculation: calculation was projected to finish in 2443 seconds, but timeout was configured to 120 seconds\n"
     ]
    }
   ],
   "source": [
    "check = FeatureDrift()\n",
    "result = check.run(train_dataset=train_dataset, test_dataset=test_dataset, model=model, feature_importance_force_permutation=True)"
   ]
  },
  {
   "cell_type": "code",
   "execution_count": null,
   "id": "6c33a196-f5e5-426a-9781-5da3f9c838f7",
   "metadata": {},
   "outputs": [],
   "source": [
    "result.value"
   ]
  },
  {
   "cell_type": "code",
   "execution_count": 12,
   "id": "7cc2b43e-2f12-485e-8e72-b2b40dcf4136",
   "metadata": {},
   "outputs": [
    {
     "data": {
      "application/vnd.jupyter.widget-view+json": {
       "model_id": "34408c929071486d9208d48f2966364b",
       "version_major": 2,
       "version_minor": 0
      },
      "text/plain": [
       "VBox(children=(HTML(value='<h4><b>Feature Drift</b></h4>'), HTML(value='<p>    Calculate drift between train d…"
      ]
     },
     "metadata": {},
     "output_type": "display_data"
    }
   ],
   "source": [
    "result.show()"
   ]
  },
  {
   "cell_type": "markdown",
   "id": "9d7052df-4ece-4be2-8151-a895b2e8a2e1",
   "metadata": {},
   "source": [
    "## Multivariate Drift"
   ]
  },
  {
   "cell_type": "code",
   "execution_count": 13,
   "id": "92ecd271-4fdd-400e-9ddf-ce8480fe1d01",
   "metadata": {},
   "outputs": [],
   "source": [
    "from deepchecks.tabular.checks import MultivariateDrift"
   ]
  },
  {
   "cell_type": "code",
   "execution_count": 14,
   "id": "76ff8635-b953-4425-9cbe-bae50862f442",
   "metadata": {},
   "outputs": [],
   "source": [
    "enade_treino = pd.read_csv(\"../concept_drift/tabela_final_2017_treinamento.csv\")\n",
    "\n",
    "numero_caracteristicas = enade_treino.shape[1] - 1\n",
    "X_enade_treino = enade_treino.iloc[:, 0:numero_caracteristicas]\n",
    "y_enade_treino = enade_treino.iloc[:, -1]\n",
    "\n",
    "enade_teste = pd.read_csv(\"../concept_drift/tabela_final_2021_treinamento.csv\")"
   ]
  },
  {
   "cell_type": "code",
   "execution_count": 15,
   "id": "9305d8cf-e76c-4ece-8a69-490271b49cc4",
   "metadata": {},
   "outputs": [],
   "source": [
    "train_dataset = Dataset(enade_treino, label='Nota_Conceito_Faixa', cat_features=[])\n",
    "test_dataset = Dataset(enade_teste, label='Nota_Conceito_Faixa', cat_features=[])"
   ]
  },
  {
   "cell_type": "code",
   "execution_count": 16,
   "id": "e61f1f86-fc27-40c3-b37e-34d7fa03ac0b",
   "metadata": {},
   "outputs": [],
   "source": [
    "check = MultivariateDrift()\n",
    "result = check.run(train_dataset=train_dataset, test_dataset=test_dataset)"
   ]
  },
  {
   "cell_type": "code",
   "execution_count": null,
   "id": "3d41e24e-464e-437d-971a-804817867fd7",
   "metadata": {},
   "outputs": [],
   "source": [
    "result.value"
   ]
  },
  {
   "cell_type": "code",
   "execution_count": 17,
   "id": "e4757580-590e-4d03-bc36-96a69968dfd4",
   "metadata": {},
   "outputs": [
    {
     "data": {
      "application/vnd.jupyter.widget-view+json": {
       "model_id": "5b713eeec3394e369f0a505fba6e8084",
       "version_major": 2,
       "version_minor": 0
      },
      "text/plain": [
       "VBox(children=(HTML(value='<h4><b>Multivariate Drift</b></h4>'), HTML(value='<p>    Calculate drift between th…"
      ]
     },
     "metadata": {},
     "output_type": "display_data"
    }
   ],
   "source": [
    "result.show()"
   ]
  },
  {
   "cell_type": "code",
   "execution_count": null,
   "id": "80389cab-6dd4-4d42-81df-9af763ac83c1",
   "metadata": {},
   "outputs": [],
   "source": []
  }
 ],
 "metadata": {
  "kernelspec": {
   "display_name": "Python 3 (ipykernel)",
   "language": "python",
   "name": "python3"
  },
  "language_info": {
   "codemirror_mode": {
    "name": "ipython",
    "version": 3
   },
   "file_extension": ".py",
   "mimetype": "text/x-python",
   "name": "python",
   "nbconvert_exporter": "python",
   "pygments_lexer": "ipython3",
   "version": "3.10.9"
  }
 },
 "nbformat": 4,
 "nbformat_minor": 5
}
