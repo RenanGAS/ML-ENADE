{
 "cells": [
  {
   "cell_type": "code",
   "execution_count": 1,
   "id": "dad109de-9af1-42a4-a98c-bd2854e0132a",
   "metadata": {},
   "outputs": [],
   "source": [
    "import pandas as pd"
   ]
  },
  {
   "cell_type": "markdown",
   "id": "dc3f867f-f84d-4ea6-99ad-34b36ee78ef5",
   "metadata": {},
   "source": [
    "### Diferença de conjunto de características com Drift"
   ]
  },
  {
   "cell_type": "markdown",
   "id": "aafc3be9-7b97-43ec-ab91-0b8daaa5a830",
   "metadata": {},
   "source": [
    "#### Universidades Públicas"
   ]
  },
  {
   "cell_type": "code",
   "execution_count": 34,
   "id": "1b80a9f5-1dbf-4f81-b9c0-2d631350cc1b",
   "metadata": {},
   "outputs": [],
   "source": [
    "df_criterio_1 = pd.read_csv(\"./drift_results/div_criterio_pub_pub_17-21_sorted_drift_result.csv\")\n",
    "df_criterio_2 = pd.read_csv(\"./drift_results/div_criterio_pub_universidade_17-21_sorted_drift_result.csv\")"
   ]
  },
  {
   "cell_type": "code",
   "execution_count": 35,
   "id": "303009fd-ed5b-40f6-8ac2-c201bc7e38b6",
   "metadata": {},
   "outputs": [
    {
     "name": "stdout",
     "output_type": "stream",
     "text": [
      "\n",
      "len(set_1)\n",
      "97\n",
      "\n",
      "len(set_2)\n",
      "78\n",
      "\n",
      "set_1 - set_2\n",
      "{'Não se aplica_Bolsa_de_Estudos', '+8_Qtde_Livros', 'Maior parte_Condicao_Praticas', 'IFECT', 'Uma_Qtde_Pessoas', 'Bolsa de estudos_Politica_de_Ingresso', 'Duas_Qtde_Pessoas', 'Nenhum_Dominio_Professores', 'Anos_Preparacao', 'Universidade', 'Cinco_Qtde_Pessoas', 'De 4,5 a 6 SM_Renda', 'Codigo_do_Curso', '+12_Horas_de_Estudo', 'Não sei responder_Condicao_Salas', '8-12_Horas_de_Estudo', '6-8_Qtde_Livros', 'Maior parte_Disponibilidade_Professores', 'Habitação individual/coletiva_Moradia', 'Supletivo_Modalidade_EM', '21 a 39 horas_Situacao_Trabalho'}\n",
      "\n",
      "set_2 - set_1\n",
      "{'F_Sexo', 'M_Sexo'}\n"
     ]
    }
   ],
   "source": [
    "set_1 = set(df_criterio_1[df_criterio_1[\"Detected\"] == True][\"Alternativa\"].values)\n",
    "print(\"\\nlen(set_1)\")\n",
    "print(len(set_1))\n",
    "\n",
    "set_2 = set(df_criterio_2[df_criterio_2[\"Detected\"] == True][\"Alternativa\"].values)\n",
    "print(\"\\nlen(set_2)\")\n",
    "print(len(set_2))\n",
    "\n",
    "diff = set_1 - set_2\n",
    "print(\"\\nset_1 - set_2\")\n",
    "print(diff)\n",
    "\n",
    "diff = set_2 - set_1\n",
    "print(\"\\nset_2 - set_1\")\n",
    "print(diff)"
   ]
  },
  {
   "cell_type": "code",
   "execution_count": 8,
   "id": "3b120567-e24c-405b-ae7d-b414f9cb2144",
   "metadata": {},
   "outputs": [
    {
     "data": {
      "text/html": [
       "<div>\n",
       "<style scoped>\n",
       "    .dataframe tbody tr th:only-of-type {\n",
       "        vertical-align: middle;\n",
       "    }\n",
       "\n",
       "    .dataframe tbody tr th {\n",
       "        vertical-align: top;\n",
       "    }\n",
       "\n",
       "    .dataframe thead th {\n",
       "        text-align: right;\n",
       "    }\n",
       "</style>\n",
       "<table border=\"1\" class=\"dataframe\">\n",
       "  <thead>\n",
       "    <tr style=\"text-align: right;\">\n",
       "      <th></th>\n",
       "      <th>Alternativa</th>\n",
       "      <th>Drift_Score</th>\n",
       "      <th>P-value</th>\n",
       "      <th>Detected</th>\n",
       "    </tr>\n",
       "  </thead>\n",
       "  <tbody>\n",
       "    <tr>\n",
       "      <th>47</th>\n",
       "      <td>M_Sexo</td>\n",
       "      <td>0.142661</td>\n",
       "      <td>0.011974</td>\n",
       "      <td>True</td>\n",
       "    </tr>\n",
       "    <tr>\n",
       "      <th>48</th>\n",
       "      <td>F_Sexo</td>\n",
       "      <td>0.142661</td>\n",
       "      <td>0.011974</td>\n",
       "      <td>True</td>\n",
       "    </tr>\n",
       "  </tbody>\n",
       "</table>\n",
       "</div>"
      ],
      "text/plain": [
       "   Alternativa  Drift_Score   P-value  Detected\n",
       "47      M_Sexo     0.142661  0.011974      True\n",
       "48      F_Sexo     0.142661  0.011974      True"
      ]
     },
     "execution_count": 8,
     "metadata": {},
     "output_type": "execute_result"
    }
   ],
   "source": [
    "df_criterio_2.query('Alternativa  == \"F_Sexo\" | Alternativa == \"M_Sexo\"')"
   ]
  },
  {
   "cell_type": "markdown",
   "id": "2c226fa4-b667-447f-8cd5-1898cfd67d75",
   "metadata": {},
   "source": [
    "#### IFETEC Públicas"
   ]
  },
  {
   "cell_type": "code",
   "execution_count": 32,
   "id": "58881663-a1e3-490c-bbe9-ed564c82063c",
   "metadata": {},
   "outputs": [],
   "source": [
    "df_criterio_1 = pd.read_csv(\"./drift_results/div_criterio_pub_pub_17-21_sorted_drift_result.csv\")\n",
    "df_criterio_2 = pd.read_csv(\"./drift_results/div_criterio_pub_ifetec_17-21_sorted_drift_result.csv\")"
   ]
  },
  {
   "cell_type": "code",
   "execution_count": 33,
   "id": "eecd2e7f-b536-4d0f-b517-08c5ce63db7c",
   "metadata": {},
   "outputs": [
    {
     "name": "stdout",
     "output_type": "stream",
     "text": [
      "\n",
      "len(set_1)\n",
      "97\n",
      "\n",
      "len(set_2)\n",
      "44\n",
      "\n",
      "set_1 - set_2\n",
      "{'Cônjuge/Filhos_Moradia', 'nulos_Situacao_Financeira', 'Não se aplica_Bolsa_de_Estudos', 'nulos_Qtde_Livros', '+8_Qtde_Livros', 'Privada_Tipo_Escola_EM', 'nulos_Plano_de_Ensino', 'Tem renda/Principal_Situacao_Financeira', 'nulos_Situacao_Trabalho', 'Maior parte_Condicao_Praticas', 'IFECT', 'Uma_Qtde_Pessoas', 'nulos_Horas_de_Estudo', 'Até 20 horas_Situacao_Trabalho', 'Não sei responder_Condicao_Praticas', 'nulos_Condicao_Praticas', 'Não declarado_Cor_Raca', 'Bolsa de estudos_Politica_de_Ingresso', 'Casado_Estado_Civil', 'Não sei responder_Disponibilidade_Professores', 'nulos_Renda', 'Duas_Qtde_Pessoas', 'Solteiro_Estado_Civil', 'nulos_Bolsa_de_Estudos', 'Anos_Preparacao', 'Eventualmente_Situacao_Trabalho', 'Nenhuma_Condicao_Praticas', 'Universidade', 'EC', 'nulos_Nl_Mae', 'nulos_Qtde_Pessoas', 'nulos_Formacao', 'nulos_Tipo_Escola_EM', 'nulos_Cor_Raca', 'nulos_Estado_Civil', 'nulos_Politica_de_Ingresso', 'nulos_Dominio_Professores', 'nulos_Disponibilidade_Professores', 'Nenhuma_Nl_Pai', 'nulos_Moradia', 'Conclusao_Ensino_Medio', 'nulos_Nl_Pai', 'Tradicional_Modalidade_EM', 'Técnico_Modalidade_EM', 'Não sei responder_Condicao_Salas', '8-12_Horas_de_Estudo', 'Nenhuma_Qtde_Pessoas', 'Habitação individual/coletiva_Moradia', 'Supletivo_Modalidade_EM', 'nulos_Condicao_Salas', 'nulos_Modalidade_EM', 'Maior parte_Condicao_Salas', 'nulos_UF_Ensino_Medio'}\n",
      "\n",
      "set_2 - set_1\n",
      "set()\n"
     ]
    }
   ],
   "source": [
    "set_1 = set(df_criterio_1[df_criterio_1[\"Detected\"] == True][\"Alternativa\"].values)\n",
    "print(\"\\nlen(set_1)\")\n",
    "print(len(set_1))\n",
    "\n",
    "set_2 = set(df_criterio_2[df_criterio_2[\"Detected\"] == True][\"Alternativa\"].values)\n",
    "print(\"\\nlen(set_2)\")\n",
    "print(len(set_2))\n",
    "\n",
    "diff = set_1 - set_2\n",
    "print(\"\\nset_1 - set_2\")\n",
    "print(diff)\n",
    "\n",
    "diff = set_2 - set_1\n",
    "print(\"\\nset_2 - set_1\")\n",
    "print(diff)"
   ]
  },
  {
   "cell_type": "markdown",
   "id": "8242a1c6-ee4f-4e1d-a37c-c3ee431c55ac",
   "metadata": {},
   "source": [
    "#### Cursos Públicos BCC"
   ]
  },
  {
   "cell_type": "code",
   "execution_count": 37,
   "id": "e910670e-d3bb-4adc-816e-6c0af200665f",
   "metadata": {},
   "outputs": [],
   "source": [
    "df_criterio_1 = pd.read_csv(\"./drift_results/div_criterio_pub_pub_11-14_sorted_drift_result.csv\")\n",
    "df_criterio_2 = pd.read_csv(\"./drift_results/div_criterio_pub_BCC_11-14_sorted_drift_result.csv\")"
   ]
  },
  {
   "cell_type": "code",
   "execution_count": 38,
   "id": "523573c7-b291-4ce2-a02a-fec5b7e4ed6e",
   "metadata": {},
   "outputs": [
    {
     "name": "stdout",
     "output_type": "stream",
     "text": [
      "\n",
      "len(set_1)\n",
      "85\n",
      "\n",
      "len(set_2)\n",
      "47\n",
      "\n",
      "set_1 - set_2\n",
      "{'Todas_Condicao_Praticas', 'nulos_Situacao_Financeira', 'nulos_Qtde_Livros', 'nulos_Situacao_Trabalho', 'Uma_Qtde_Pessoas', 'nulos_Horas_de_Estudo', 'Muito boa_Formacao', 'Sozinho_Moradia', 'Até 20 horas_Situacao_Trabalho', 'Todos_Dominio_Professores', 'nulos_Renda', 'Algumas_Condicao_Praticas', 'Duas_Qtde_Pessoas', 'Todas_Condicao_Salas', 'Pública_Tipo_Escola_EM', 'Quatro_Qtde_Pessoas', 'nulos_Bolsa_de_Estudos', 'Combinação de critérios_Politica_de_Ingresso', 'Anos_Preparacao', 'nulos_Nl_Mae', 'nulos_Qtde_Pessoas', 'nulos_Tipo_Escola_EM', 'Idade', 'nulos_Cor_Raca', 'nulos_Estado_Civil', 'nulos_Politica_de_Ingresso', 'Tem renda/Sustenta_Situacao_Financeira', 'Preta_Cor_Raca', 'BCC', '1 ou 2_Qtde_Livros', 'nulos_Moradia', 'Conclusao_Ensino_Medio', 'nulos_Nl_Pai', 'Codigo_do_Curso', 'Fundamental 6-9_Nl_Pai', 'De 6 a 10 SM_Renda', 'nulos_Modalidade_EM', 'Fraca_Formacao', 'nulos_UF_Ensino_Medio'}\n",
      "\n",
      "set_2 - set_1\n",
      "{'Amplamente_Plano_de_Ensino'}\n"
     ]
    }
   ],
   "source": [
    "set_1 = set(df_criterio_1[df_criterio_1[\"Detected\"] == True][\"Alternativa\"].values)\n",
    "print(\"\\nlen(set_1)\")\n",
    "print(len(set_1))\n",
    "\n",
    "set_2 = set(df_criterio_2[df_criterio_2[\"Detected\"] == True][\"Alternativa\"].values)\n",
    "print(\"\\nlen(set_2)\")\n",
    "print(len(set_2))\n",
    "\n",
    "diff = set_1 - set_2\n",
    "print(\"\\nset_1 - set_2\")\n",
    "print(diff)\n",
    "\n",
    "diff = set_2 - set_1\n",
    "print(\"\\nset_2 - set_1\")\n",
    "print(diff)"
   ]
  },
  {
   "cell_type": "code",
   "execution_count": 39,
   "id": "6bff9b4e-97e5-4aa2-ade3-a8bf3c8eaf24",
   "metadata": {},
   "outputs": [
    {
     "data": {
      "text/html": [
       "<div>\n",
       "<style scoped>\n",
       "    .dataframe tbody tr th:only-of-type {\n",
       "        vertical-align: middle;\n",
       "    }\n",
       "\n",
       "    .dataframe tbody tr th {\n",
       "        vertical-align: top;\n",
       "    }\n",
       "\n",
       "    .dataframe thead th {\n",
       "        text-align: right;\n",
       "    }\n",
       "</style>\n",
       "<table border=\"1\" class=\"dataframe\">\n",
       "  <thead>\n",
       "    <tr style=\"text-align: right;\">\n",
       "      <th></th>\n",
       "      <th>Alternativa</th>\n",
       "      <th>Drift_Score</th>\n",
       "      <th>P-value</th>\n",
       "      <th>Detected</th>\n",
       "    </tr>\n",
       "  </thead>\n",
       "  <tbody>\n",
       "    <tr>\n",
       "      <th>32</th>\n",
       "      <td>Amplamente_Plano_de_Ensino</td>\n",
       "      <td>0.2774</td>\n",
       "      <td>0.000534</td>\n",
       "      <td>True</td>\n",
       "    </tr>\n",
       "  </tbody>\n",
       "</table>\n",
       "</div>"
      ],
      "text/plain": [
       "                   Alternativa  Drift_Score   P-value  Detected\n",
       "32  Amplamente_Plano_de_Ensino       0.2774  0.000534      True"
      ]
     },
     "execution_count": 39,
     "metadata": {},
     "output_type": "execute_result"
    }
   ],
   "source": [
    "df_criterio_2.query('Alternativa  == \"Amplamente_Plano_de_Ensino\"')"
   ]
  },
  {
   "cell_type": "markdown",
   "id": "b647be57-004d-4326-b812-0161a4912eda",
   "metadata": {},
   "source": [
    "#### Cursos Públicos"
   ]
  },
  {
   "cell_type": "code",
   "execution_count": 27,
   "id": "5fb18cde-cb77-468c-bc91-5c6c541bfbca",
   "metadata": {},
   "outputs": [],
   "source": [
    "df_criterio_1 = pd.read_csv(\"./drift_results/div_criterio_pub_pub_11-14_sorted_drift_result.csv\")\n",
    "df_criterio_2 = pd.read_csv(\"./drift_results/div_criterio_pub_pub_14-17_sorted_drift_result.csv\")"
   ]
  },
  {
   "cell_type": "code",
   "execution_count": 28,
   "id": "06e366ba-5f72-4d2b-ab7e-902be6ae78de",
   "metadata": {},
   "outputs": [
    {
     "name": "stdout",
     "output_type": "stream",
     "text": [
      "\n",
      "len(set_1)\n",
      "85\n",
      "\n",
      "len(set_2)\n",
      "33\n",
      "\n",
      "set_1 - set_2\n",
      "{'Todas_Condicao_Praticas', 'Muito pouco_Plano_de_Ensino', 'nulos_Situacao_Financeira', 'Não se aplica_Bolsa_de_Estudos', 'nulos_Qtde_Livros', 'nulos_Plano_de_Ensino', 'nulos_Situacao_Trabalho', 'Não_Bolsa_de_Estudos', 'nulos_UF_Ensino_Medio', 'Maior parte_Condicao_Praticas', 'Alguns_Disponibilidade_Professores', 'Não sei responder_Plano_de_Ensino', 'Uma_Qtde_Pessoas', 'nulos_Horas_de_Estudo', 'Muito boa_Formacao', 'Sozinho_Moradia', 'nulos_Condicao_Praticas', 'Não sei responder_Condicao_Praticas', 'Não sei responder_Formacao', 'Todos_Dominio_Professores', 'Não sei responder_Disponibilidade_Professores', 'Algumas_Condicao_Salas', 'Acima de 30 SM_Renda', 'nulos_Renda', 'Boa_Formacao', 'Algumas_Condicao_Praticas', 'Regular_Formacao', 'Duas_Qtde_Pessoas', 'Todas_Condicao_Salas', 'Pública_Tipo_Escola_EM', 'Quatro_Qtde_Pessoas', 'Não contribui_Plano_de_Ensino', 'nulos_Bolsa_de_Estudos', 'Não sei responder_Dominio_Professores', 'Eventualmente_Situacao_Trabalho', 'De 3 a 4,5 SM_Renda', 'nulos_Nl_Mae', 'nulos_Formacao', 'nulos_Qtde_Pessoas', 'nulos_Tipo_Escola_EM', 'Idade', 'nulos_Cor_Raca', 'nulos_Estado_Civil', 'nulos_Politica_de_Ingresso', 'Tem renda/Sustenta_Situacao_Financeira', 'Preta_Cor_Raca', 'nulos_Dominio_Professores', 'nulos_Disponibilidade_Professores', '1 ou 2_Qtde_Livros', 'BCC', 'nulos_Moradia', 'nulos_Nl_Pai', 'Fundamental 6-9_Nl_Pai', 'Todos_Disponibilidade_Professores', 'Exterior_Tipo_Escola_EM', '4-7_Horas_de_Estudo', 'Sim_Bolsa_de_Estudos', 'Parcialmente_Plano_de_Ensino', 'Maior parte_Dominio_Professores', 'Não sei responder_Condicao_Salas', 'Maior parte_Disponibilidade_Professores', 'nulos_Condicao_Salas', 'nulos_Modalidade_EM', 'Fraca_Formacao', '21 a 39 horas_Situacao_Trabalho'}\n",
      "\n",
      "set_2 - set_1\n",
      "{'Não declarado_Cor_Raca', 'Indígena_Cor_Raca', 'Tradicional_Modalidade_EM', 'Até 1,5 SM_Renda', 'Técnico_Modalidade_EM', 'Critério étnico-racial_Politica_de_Ingresso', '6-8_Qtde_Livros', 'Não_Situacao_Trabalho', 'Critério de renda_Politica_de_Ingresso', 'Amarela_Cor_Raca', '3-5_Qtde_Livros', 'Tem renda/Independente_Situacao_Financeira', 'Nenhum_Qtde_Livros'}\n",
      "\n",
      "set_1.intersection(set_2)\n",
      "{'Alguns_Dominio_Professores', 'De 10 a 30 SM_Renda', '+8_Qtde_Livros', 'Até 20 horas_Situacao_Trabalho', 'Bolsa de estudos_Politica_de_Ingresso', 'Nenhum_Disponibilidade_Professores', 'De 1,5 a 3 SM_Renda', 'Nenhum_Dominio_Professores', 'Combinação de critérios_Politica_de_Ingresso', 'Anos_Preparacao', 'Nenhuma_Condicao_Praticas', 'Sem renda/Outros_Situacao_Financeira', 'De 4,5 a 6 SM_Renda', 'Nenhuma_Condicao_Salas', 'Conclusao_Ensino_Medio', 'Codigo_do_Curso', 'Tem renda/Outros_Situacao_Financeira', 'Não_Politica_de_Ingresso', 'De 6 a 10 SM_Renda', 'Maior parte_Condicao_Salas'}\n"
     ]
    }
   ],
   "source": [
    "set_1 = set(df_criterio_1[df_criterio_1[\"Detected\"] == True][\"Alternativa\"].values)\n",
    "print(\"\\nlen(set_1)\")\n",
    "print(len(set_1))\n",
    "\n",
    "set_2 = set(df_criterio_2[df_criterio_2[\"Detected\"] == True][\"Alternativa\"].values)\n",
    "print(\"\\nlen(set_2)\")\n",
    "print(len(set_2))\n",
    "\n",
    "diff = set_1 - set_2\n",
    "print(\"\\nset_1 - set_2\")\n",
    "print(diff)\n",
    "\n",
    "diff = set_2 - set_1\n",
    "print(\"\\nset_2 - set_1\")\n",
    "print(diff)\n",
    "\n",
    "intersec = set_1.intersection(set_2)\n",
    "print(\"\\nset_1.intersection(set_2)\")\n",
    "print(intersec)"
   ]
  },
  {
   "cell_type": "code",
   "execution_count": 25,
   "id": "aca07b7c-de19-419e-ab3a-b2b77530a76e",
   "metadata": {},
   "outputs": [],
   "source": [
    "df_criterio_1 = pd.read_csv(\"./drift_results/div_criterio_pub_pub_14-17_sorted_drift_result.csv\")\n",
    "df_criterio_2 = pd.read_csv(\"./drift_results/div_criterio_pub_pub_17-21_sorted_drift_result.csv\")"
   ]
  },
  {
   "cell_type": "code",
   "execution_count": 26,
   "id": "32bc34db-cb60-4785-979e-1dcee68d43f2",
   "metadata": {},
   "outputs": [
    {
     "name": "stdout",
     "output_type": "stream",
     "text": [
      "\n",
      "len(set_1)\n",
      "33\n",
      "\n",
      "len(set_2)\n",
      "97\n",
      "\n",
      "set_1 - set_2\n",
      "{'Indígena_Cor_Raca', 'Nenhum_Disponibilidade_Professores', 'De 10 a 30 SM_Renda', 'De 1,5 a 3 SM_Renda', 'Até 1,5 SM_Renda', 'De 6 a 10 SM_Renda', 'Amarela_Cor_Raca'}\n",
      "\n",
      "set_2 - set_1\n",
      "{'Cônjuge/Filhos_Moradia', 'Todas_Condicao_Praticas', 'Muito pouco_Plano_de_Ensino', 'nulos_Situacao_Financeira', 'Não se aplica_Bolsa_de_Estudos', 'nulos_Qtde_Livros', 'Privada_Tipo_Escola_EM', 'nulos_Plano_de_Ensino', 'Tem renda/Principal_Situacao_Financeira', 'nulos_Situacao_Trabalho', 'nulos_UF_Ensino_Medio', 'Maior parte_Condicao_Praticas', 'Alguns_Disponibilidade_Professores', 'IFECT', 'Uma_Qtde_Pessoas', 'nulos_Horas_de_Estudo', 'Muito boa_Formacao', 'Sozinho_Moradia', 'nulos_Condicao_Praticas', 'Não sei responder_Condicao_Praticas', 'Todos_Dominio_Professores', 'Casado_Estado_Civil', 'Anos_Graduacao', 'Não sei responder_Disponibilidade_Professores', 'Algumas_Condicao_Salas', 'Outras pessoas_Moradia', 'nulos_Renda', 'Boa_Formacao', 'Algumas_Condicao_Praticas', 'Regular_Formacao', '40 horas ou mais_Situacao_Trabalho', 'Duas_Qtde_Pessoas', 'Amplamente_Plano_de_Ensino', 'Solteiro_Estado_Civil', 'Não contribui_Plano_de_Ensino', 'nulos_Bolsa_de_Estudos', 'Todas_Condicao_Salas', 'Eventualmente_Situacao_Trabalho', 'De 3 a 4,5 SM_Renda', 'Universidade', 'EC', 'Cinco_Qtde_Pessoas', 'nulos_Nl_Mae', 'nulos_Qtde_Pessoas', 'nulos_Formacao', 'nulos_Tipo_Escola_EM', 'Idade', 'nulos_Cor_Raca', 'nulos_Estado_Civil', 'nulos_Politica_de_Ingresso', 'Tem renda/Sustenta_Situacao_Financeira', 'Numero_Participantes', 'nulos_Dominio_Professores', 'nulos_Disponibilidade_Professores', 'Nenhuma_Nl_Pai', 'nulos_Moradia', 'nulos_Nl_Pai', 'Todos_Disponibilidade_Professores', 'Numero_Faltantes', '+12_Horas_de_Estudo', 'Parcialmente_Plano_de_Ensino', 'Maior parte_Dominio_Professores', 'Não sei responder_Condicao_Salas', '8-12_Horas_de_Estudo', 'Maior parte_Disponibilidade_Professores', 'Nenhuma_Qtde_Pessoas', 'Habitação individual/coletiva_Moradia', 'Supletivo_Modalidade_EM', 'nulos_Condicao_Salas', 'nulos_Modalidade_EM', '21 a 39 horas_Situacao_Trabalho'}\n",
      "\n",
      "set_1.intersection(set_2)\n",
      "{'Alguns_Dominio_Professores', '+8_Qtde_Livros', '3-5_Qtde_Livros', 'Até 20 horas_Situacao_Trabalho', 'Não declarado_Cor_Raca', 'Bolsa de estudos_Politica_de_Ingresso', 'Critério étnico-racial_Politica_de_Ingresso', 'Não_Situacao_Trabalho', 'Critério de renda_Politica_de_Ingresso', 'Combinação de critérios_Politica_de_Ingresso', 'Nenhum_Dominio_Professores', 'Anos_Preparacao', 'Nenhuma_Condicao_Praticas', 'Sem renda/Outros_Situacao_Financeira', 'Nenhum_Qtde_Livros', 'De 4,5 a 6 SM_Renda', 'Nenhuma_Condicao_Salas', 'Conclusao_Ensino_Medio', 'Codigo_do_Curso', 'Tradicional_Modalidade_EM', 'Tem renda/Outros_Situacao_Financeira', 'Técnico_Modalidade_EM', '6-8_Qtde_Livros', 'Não_Politica_de_Ingresso', 'Maior parte_Condicao_Salas', 'Tem renda/Independente_Situacao_Financeira'}\n"
     ]
    }
   ],
   "source": [
    "set_1 = set(df_criterio_1[df_criterio_1[\"Detected\"] == True][\"Alternativa\"].values)\n",
    "print(\"\\nlen(set_1)\")\n",
    "print(len(set_1))\n",
    "\n",
    "set_2 = set(df_criterio_2[df_criterio_2[\"Detected\"] == True][\"Alternativa\"].values)\n",
    "print(\"\\nlen(set_2)\")\n",
    "print(len(set_2))\n",
    "\n",
    "diff = set_1 - set_2\n",
    "print(\"\\nset_1 - set_2\")\n",
    "print(diff)\n",
    "\n",
    "diff = set_2 - set_1\n",
    "print(\"\\nset_2 - set_1\")\n",
    "print(diff)\n",
    "\n",
    "intersec = set_1.intersection(set_2)\n",
    "print(\"\\nset_1.intersection(set_2)\")\n",
    "print(intersec)"
   ]
  },
  {
   "cell_type": "code",
   "execution_count": 21,
   "id": "26f7de9c-367f-40d0-a3bf-02b73d3d9255",
   "metadata": {},
   "outputs": [],
   "source": [
    "df_criterio_1 = pd.read_csv(\"./drift_results/div_criterio_pub_pub_11-14_sorted_drift_result.csv\")\n",
    "df_criterio_2 = pd.read_csv(\"./drift_results/div_criterio_pub_pub_17-21_sorted_drift_result.csv\")"
   ]
  },
  {
   "cell_type": "code",
   "execution_count": 24,
   "id": "aa799fa4-7b6d-43da-bbf1-903efe90cc1b",
   "metadata": {},
   "outputs": [
    {
     "name": "stdout",
     "output_type": "stream",
     "text": [
      "\n",
      "len(set_1)\n",
      "85\n",
      "\n",
      "len(set_2)\n",
      "97\n",
      "\n",
      "set_1 - set_2\n",
      "{'De 10 a 30 SM_Renda', 'Não_Bolsa_de_Estudos', 'Não sei responder_Plano_de_Ensino', 'Não sei responder_Formacao', 'Nenhum_Disponibilidade_Professores', 'De 1,5 a 3 SM_Renda', 'Acima de 30 SM_Renda', 'Pública_Tipo_Escola_EM', 'Quatro_Qtde_Pessoas', 'Não sei responder_Dominio_Professores', 'Preta_Cor_Raca', 'BCC', '1 ou 2_Qtde_Livros', 'Fundamental 6-9_Nl_Pai', 'Exterior_Tipo_Escola_EM', '4-7_Horas_de_Estudo', 'De 6 a 10 SM_Renda', 'Fraca_Formacao', 'Sim_Bolsa_de_Estudos'}\n",
      "\n",
      "set_2 - set_1\n",
      "{'Cônjuge/Filhos_Moradia', 'Privada_Tipo_Escola_EM', 'Tem renda/Principal_Situacao_Financeira', 'IFECT', '3-5_Qtde_Livros', 'Não declarado_Cor_Raca', 'Casado_Estado_Civil', 'Anos_Graduacao', 'Outras pessoas_Moradia', 'Critério étnico-racial_Politica_de_Ingresso', '40 horas ou mais_Situacao_Trabalho', 'Não_Situacao_Trabalho', 'Amplamente_Plano_de_Ensino', 'Solteiro_Estado_Civil', 'Critério de renda_Politica_de_Ingresso', 'Universidade', 'Nenhum_Qtde_Livros', 'EC', 'Cinco_Qtde_Pessoas', 'Numero_Participantes', 'Nenhuma_Nl_Pai', 'Numero_Faltantes', '+12_Horas_de_Estudo', 'Tradicional_Modalidade_EM', 'Técnico_Modalidade_EM', '8-12_Horas_de_Estudo', '6-8_Qtde_Livros', 'Nenhuma_Qtde_Pessoas', 'Habitação individual/coletiva_Moradia', 'Supletivo_Modalidade_EM', 'Tem renda/Independente_Situacao_Financeira'}\n",
      "\n",
      "set_1.intersection(set_2)\n",
      "{'Todas_Condicao_Praticas', 'Muito pouco_Plano_de_Ensino', 'nulos_Situacao_Financeira', 'Não se aplica_Bolsa_de_Estudos', 'Alguns_Dominio_Professores', 'nulos_Qtde_Livros', 'nulos_Plano_de_Ensino', '+8_Qtde_Livros', 'nulos_Situacao_Trabalho', 'nulos_UF_Ensino_Medio', 'Maior parte_Condicao_Praticas', 'Alguns_Disponibilidade_Professores', 'Uma_Qtde_Pessoas', 'nulos_Horas_de_Estudo', 'Muito boa_Formacao', 'Sozinho_Moradia', 'nulos_Condicao_Praticas', 'Não sei responder_Condicao_Praticas', 'Até 20 horas_Situacao_Trabalho', 'Bolsa de estudos_Politica_de_Ingresso', 'Todos_Dominio_Professores', 'Não sei responder_Disponibilidade_Professores', 'Algumas_Condicao_Salas', 'nulos_Renda', 'Boa_Formacao', 'Algumas_Condicao_Praticas', 'Regular_Formacao', 'Duas_Qtde_Pessoas', 'Todas_Condicao_Salas', 'Não contribui_Plano_de_Ensino', 'Nenhum_Dominio_Professores', 'Anos_Preparacao', 'Combinação de critérios_Politica_de_Ingresso', 'nulos_Bolsa_de_Estudos', 'Eventualmente_Situacao_Trabalho', 'De 3 a 4,5 SM_Renda', 'Nenhuma_Condicao_Praticas', 'Sem renda/Outros_Situacao_Financeira', 'nulos_Nl_Mae', 'nulos_Formacao', 'nulos_Qtde_Pessoas', 'nulos_Tipo_Escola_EM', 'Idade', 'nulos_Cor_Raca', 'nulos_Estado_Civil', 'nulos_Politica_de_Ingresso', 'De 4,5 a 6 SM_Renda', 'Tem renda/Sustenta_Situacao_Financeira', 'nulos_Dominio_Professores', 'nulos_Disponibilidade_Professores', 'Nenhuma_Condicao_Salas', 'nulos_Moradia', 'Conclusao_Ensino_Medio', 'nulos_Nl_Pai', 'Codigo_do_Curso', 'Todos_Disponibilidade_Professores', 'Tem renda/Outros_Situacao_Financeira', 'Parcialmente_Plano_de_Ensino', 'Maior parte_Dominio_Professores', 'Não sei responder_Condicao_Salas', 'Maior parte_Disponibilidade_Professores', 'Não_Politica_de_Ingresso', 'nulos_Condicao_Salas', 'nulos_Modalidade_EM', 'Maior parte_Condicao_Salas', '21 a 39 horas_Situacao_Trabalho'}\n"
     ]
    }
   ],
   "source": [
    "set_1 = set(df_criterio_1[df_criterio_1[\"Detected\"] == True][\"Alternativa\"].values)\n",
    "print(\"\\nlen(set_1)\")\n",
    "print(len(set_1))\n",
    "\n",
    "set_2 = set(df_criterio_2[df_criterio_2[\"Detected\"] == True][\"Alternativa\"].values)\n",
    "print(\"\\nlen(set_2)\")\n",
    "print(len(set_2))\n",
    "\n",
    "diff = set_1 - set_2\n",
    "print(\"\\nset_1 - set_2\")\n",
    "print(diff)\n",
    "\n",
    "diff = set_2 - set_1\n",
    "print(\"\\nset_2 - set_1\")\n",
    "print(diff)\n",
    "\n",
    "intersec = set_1.intersection(set_2)\n",
    "print(\"\\nset_1.intersection(set_2)\")\n",
    "print(intersec)"
   ]
  }
 ],
 "metadata": {
  "kernelspec": {
   "display_name": "Python 3 (ipykernel)",
   "language": "python",
   "name": "python3"
  },
  "language_info": {
   "codemirror_mode": {
    "name": "ipython",
    "version": 3
   },
   "file_extension": ".py",
   "mimetype": "text/x-python",
   "name": "python",
   "nbconvert_exporter": "python",
   "pygments_lexer": "ipython3",
   "version": "3.10.9"
  }
 },
 "nbformat": 4,
 "nbformat_minor": 5
}
