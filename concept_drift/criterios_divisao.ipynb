{
 "cells": [
  {
   "cell_type": "code",
   "execution_count": 1,
   "id": "74bc1ce7-d5c5-417e-85e0-cb7aef25cbdb",
   "metadata": {},
   "outputs": [],
   "source": [
    "import pandas as pd"
   ]
  },
  {
   "cell_type": "markdown",
   "id": "e7603387-d20e-4c61-ab90-6ff13de4e88c",
   "metadata": {},
   "source": [
    "### Cursos de Categoria Administrativa \"Público\" e \"Privado\""
   ]
  },
  {
   "cell_type": "code",
   "execution_count": 12,
   "id": "7914dcac-e748-4ee3-a6eb-a1b3e5f0d0a3",
   "metadata": {},
   "outputs": [],
   "source": [
    "ano = 2011\n",
    "# ano = '11-14-17-21'"
   ]
  },
  {
   "cell_type": "code",
   "execution_count": 13,
   "id": "99c2e85d-15c5-4954-8255-dc64677abafe",
   "metadata": {},
   "outputs": [
    {
     "data": {
      "text/plain": [
       "set()"
      ]
     },
     "execution_count": 13,
     "metadata": {},
     "output_type": "execute_result"
    }
   ],
   "source": [
    "df_edicao = pd.read_csv(f'./tabelas_finais/tabela_final_{ano}_treinamento.csv')\n",
    "\n",
    "cat_adm_publicas = ['Pública Federal', 'Pública Estadual', 'Pública Municipal']\n",
    "cat_adm_privadas = ['Privada CFL', 'Privada SFL']\n",
    "\n",
    "df_publicas = []\n",
    "for cat_adm in cat_adm_publicas:\n",
    "    df_publicas.append(df_edicao[df_edicao[cat_adm] == 1])\n",
    "    \n",
    "df_publicas = pd.concat(df_publicas)\n",
    "\n",
    "df_privadas = []\n",
    "for cat_adm in cat_adm_privadas:\n",
    "    df_privadas.append(df_edicao[df_edicao[cat_adm] == 1])\n",
    "    \n",
    "df_privadas = pd.concat(df_privadas)\n",
    "\n",
    "codigo_cursos = df_edicao[\"Codigo_do_Curso\"].unique().tolist()\n",
    "codigo_cursos_privados = df_privadas[\"Codigo_do_Curso\"].unique().tolist()\n",
    "codigo_cursos_publicos = df_publicas[\"Codigo_do_Curso\"].unique().tolist()\n",
    "\n",
    "codigo_cursos_priv_pub = codigo_cursos_privados + codigo_cursos_publicos\n",
    "\n",
    "diff = set(codigo_cursos) - set(codigo_cursos_priv_pub)\n",
    "diff"
   ]
  },
  {
   "cell_type": "code",
   "execution_count": 14,
   "id": "c31a54c1-960f-4172-9104-06727ff3857f",
   "metadata": {},
   "outputs": [],
   "source": [
    "df_publicas.to_csv(f'./criterios_divisao/cursos_grad_publicos_{ano}.csv',index=False)\n",
    "df_privadas.to_csv(f'./criterios_divisao/cursos_grad_privados_{ano}.csv',index=False)"
   ]
  },
  {
   "cell_type": "markdown",
   "id": "321f1db3-d50e-4f4f-ac5a-af8aa53fe02e",
   "metadata": {},
   "source": [
    "### Cursos \"Públicos\" de Categoria de Organização Acadêmica \"Universidade\""
   ]
  },
  {
   "cell_type": "code",
   "execution_count": 10,
   "id": "bfe4318e-9383-47d6-983f-37665601a943",
   "metadata": {},
   "outputs": [],
   "source": [
    "edicao_1 = 2017\n",
    "edicao_2 = 2021\n",
    "df_edicao_1 = pd.read_csv(f'./cursos_grad_publicos_{edicao_1}.csv')\n",
    "df_edicao_2 = pd.read_csv(f'./cursos_grad_publicos_{edicao_2}.csv')\n",
    "\n",
    "df_edicao_1 = df_edicao_1[df_edicao_1[\"Universidade\"] == 1]\n",
    "df_edicao_2 = df_edicao_2[df_edicao_2[\"Universidade\"] == 1]"
   ]
  },
  {
   "cell_type": "code",
   "execution_count": 11,
   "id": "fc711a56-e4be-45c6-8f72-b9a2dae9474c",
   "metadata": {},
   "outputs": [],
   "source": [
    "df_edicao_1.to_csv(f'./cursos_grad_publicos_universidade_{edicao_1}.csv',index=False)\n",
    "df_edicao_2.to_csv(f'./cursos_grad_publicos_universidade_{edicao_2}.csv',index=False)"
   ]
  },
  {
   "cell_type": "markdown",
   "id": "590308a7-8397-40c2-a385-fb780258a3ca",
   "metadata": {},
   "source": [
    "### Cursos \"Públicos\" de Categoria de Organização Acadêmica \"IFETEC\""
   ]
  },
  {
   "cell_type": "code",
   "execution_count": 2,
   "id": "3ac8cefe-1229-4b2b-b700-ae94ae3fbd40",
   "metadata": {},
   "outputs": [],
   "source": [
    "edicao_1 = 2017\n",
    "edicao_2 = 2021\n",
    "df_edicao_1 = pd.read_csv(f'./criterios_divisao/cursos_grad_publicos_{edicao_1}.csv')\n",
    "df_edicao_2 = pd.read_csv(f'./criterios_divisao/cursos_grad_publicos_{edicao_2}.csv')\n",
    "\n",
    "df_edicao_1 = df_edicao_1[df_edicao_1[\"IFECT\"] == 1]\n",
    "df_edicao_2 = df_edicao_2[df_edicao_2[\"IFECT\"] == 1]"
   ]
  },
  {
   "cell_type": "code",
   "execution_count": 4,
   "id": "a13e6622-450a-401a-b722-639aa3f2c1b2",
   "metadata": {},
   "outputs": [],
   "source": [
    "df_edicao_1.to_csv(f'./criterios_divisao/cursos_grad_publicos_ifetec_{edicao_1}.csv',index=False)\n",
    "df_edicao_2.to_csv(f'./criterios_divisao/cursos_grad_publicos_ifetec_{edicao_2}.csv',index=False)"
   ]
  },
  {
   "cell_type": "markdown",
   "id": "4df7e714-8f7d-4dfb-9b8d-959f1c8b7c49",
   "metadata": {},
   "source": [
    "### Cursos \"Públicos\" de \"BCC\""
   ]
  },
  {
   "cell_type": "code",
   "execution_count": 15,
   "id": "1de31674-2aa2-485b-b34b-9b695b289c34",
   "metadata": {},
   "outputs": [],
   "source": [
    "edicao_1 = 2011\n",
    "edicao_2 = 2014\n",
    "df_edicao_1 = pd.read_csv(f'./criterios_divisao/cursos_grad_publicos_{edicao_1}.csv')\n",
    "df_edicao_2 = pd.read_csv(f'./criterios_divisao/cursos_grad_publicos_{edicao_2}.csv')\n",
    "\n",
    "df_edicao_1 = df_edicao_1[df_edicao_1[\"BCC\"] == 1]\n",
    "df_edicao_2 = df_edicao_2[df_edicao_2[\"BCC\"] == 1]"
   ]
  },
  {
   "cell_type": "code",
   "execution_count": 16,
   "id": "4e3c4c38-9fd2-46ff-bd77-8d4e450f7c8e",
   "metadata": {},
   "outputs": [],
   "source": [
    "df_edicao_1.to_csv(f'./criterios_divisao/cursos_grad_publicos_BCC_{edicao_1}.csv',index=False)\n",
    "df_edicao_2.to_csv(f'./criterios_divisao/cursos_grad_publicos_BCC_{edicao_2}.csv',index=False)"
   ]
  },
  {
   "cell_type": "markdown",
   "id": "e3db5631-2cff-4d6e-98c9-fc58194e30a3",
   "metadata": {},
   "source": [
    "### Cursos de diferentes Conceitos Enade"
   ]
  },
  {
   "cell_type": "code",
   "execution_count": 16,
   "id": "bcad4c61-8f41-4e8f-960c-697351517c96",
   "metadata": {},
   "outputs": [],
   "source": [
    "ano = 2021"
   ]
  },
  {
   "cell_type": "code",
   "execution_count": 17,
   "id": "64790304-7026-4fc0-b313-8556bc8a9591",
   "metadata": {},
   "outputs": [],
   "source": [
    "df_edicao = pd.read_csv(f'./tabelas_finais/tabela_final_{ano}_treinamento.csv')\n",
    "\n",
    "df_ce_1 = df_edicao[df_edicao[\"Nota_Conceito_Faixa\"] == 1].reset_index(drop=True)\n",
    "df_ce_2 = df_edicao[df_edicao[\"Nota_Conceito_Faixa\"] == 2].reset_index(drop=True)\n",
    "df_ce_3 = df_edicao[df_edicao[\"Nota_Conceito_Faixa\"] == 3].reset_index(drop=True)\n",
    "df_ce_4 = df_edicao[df_edicao[\"Nota_Conceito_Faixa\"] == 4].reset_index(drop=True)\n",
    "df_ce_5 = df_edicao[df_edicao[\"Nota_Conceito_Faixa\"] == 5].reset_index(drop=True)"
   ]
  },
  {
   "cell_type": "code",
   "execution_count": 18,
   "id": "62297cc2-6808-4ecb-9b20-66e721eb562b",
   "metadata": {},
   "outputs": [
    {
     "data": {
      "text/plain": [
       "True"
      ]
     },
     "execution_count": 18,
     "metadata": {},
     "output_type": "execute_result"
    }
   ],
   "source": [
    "len(df_ce_1) + len(df_ce_2) + len(df_ce_3) + len(df_ce_4) + len(df_ce_5) == len(df_edicao)"
   ]
  },
  {
   "cell_type": "code",
   "execution_count": 19,
   "id": "379b4af8-7d23-4041-8619-44eaaf16c464",
   "metadata": {},
   "outputs": [],
   "source": [
    "df_ce_1.to_csv(f'./criterios_divisao/CE/cursos_grad_CE1_{ano}.csv',index=False)\n",
    "df_ce_2.to_csv(f'./criterios_divisao/CE/cursos_grad_CE2_{ano}.csv',index=False)\n",
    "df_ce_3.to_csv(f'./criterios_divisao/CE/cursos_grad_CE3_{ano}.csv',index=False)\n",
    "df_ce_4.to_csv(f'./criterios_divisao/CE/cursos_grad_CE4_{ano}.csv',index=False)\n",
    "df_ce_5.to_csv(f'./criterios_divisao/CE/cursos_grad_CE5_{ano}.csv',index=False)"
   ]
  },
  {
   "cell_type": "markdown",
   "id": "62339711-c3f5-46c6-95f2-2cc865448ab5",
   "metadata": {},
   "source": [
    "### Cursos de diferentes Regiões"
   ]
  },
  {
   "cell_type": "code",
   "execution_count": 32,
   "id": "fe235ac1-3168-4e4d-a9b8-693543e4cae1",
   "metadata": {},
   "outputs": [],
   "source": [
    "ano = 2021"
   ]
  },
  {
   "cell_type": "code",
   "execution_count": 33,
   "id": "06edcdc5-b8fb-47b6-a077-3ad1328b85d0",
   "metadata": {},
   "outputs": [],
   "source": [
    "df_edicao = pd.read_csv(f'./tabelas_finais/tabela_final_{ano}_treinamento.csv')\n",
    "\n",
    "df_norte = df_edicao[df_edicao[\"N\"] == 1].reset_index(drop=True)\n",
    "df_nordeste = df_edicao[df_edicao[\"NE\"] == 1].reset_index(drop=True)\n",
    "df_sudeste = df_edicao[df_edicao[\"SE.1\"] == 1].reset_index(drop=True)\n",
    "df_sul = df_edicao[df_edicao[\"SUL\"] == 1].reset_index(drop=True)\n",
    "df_centroeste = df_edicao[df_edicao[\"CO\"] == 1].reset_index(drop=True)"
   ]
  },
  {
   "cell_type": "code",
   "execution_count": 34,
   "id": "1ee6acdb-5b01-49e9-81f7-67330fa19739",
   "metadata": {},
   "outputs": [
    {
     "data": {
      "text/plain": [
       "True"
      ]
     },
     "execution_count": 34,
     "metadata": {},
     "output_type": "execute_result"
    }
   ],
   "source": [
    "len(df_norte) + len(df_nordeste) + len(df_sudeste) + len(df_sul) + len(df_centroeste) == len(df_edicao)"
   ]
  },
  {
   "cell_type": "code",
   "execution_count": 35,
   "id": "8a90e254-b595-4b72-b990-f9275886b7a6",
   "metadata": {},
   "outputs": [],
   "source": [
    "df_norte.to_csv(f'./criterios_divisao/Regiao/cursos_grad_Norte_{ano}.csv',index=False)\n",
    "df_nordeste.to_csv(f'./criterios_divisao/Regiao/cursos_grad_Nordeste_{ano}.csv',index=False)\n",
    "df_sudeste.to_csv(f'./criterios_divisao/Regiao/cursos_grad_Sudeste_{ano}.csv',index=False)\n",
    "df_sul.to_csv(f'./criterios_divisao/Regiao/cursos_grad_Sul_{ano}.csv',index=False)\n",
    "df_centroeste.to_csv(f'./criterios_divisao/Regiao/cursos_grad_Centroeste_{ano}.csv',index=False)"
   ]
  }
 ],
 "metadata": {
  "kernelspec": {
   "display_name": "Python 3 (ipykernel)",
   "language": "python",
   "name": "python3"
  },
  "language_info": {
   "codemirror_mode": {
    "name": "ipython",
    "version": 3
   },
   "file_extension": ".py",
   "mimetype": "text/x-python",
   "name": "python",
   "nbconvert_exporter": "python",
   "pygments_lexer": "ipython3",
   "version": "3.10.9"
  }
 },
 "nbformat": 4,
 "nbformat_minor": 5
}
