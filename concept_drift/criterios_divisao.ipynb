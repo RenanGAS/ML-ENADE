{
 "cells": [
  {
   "cell_type": "markdown",
   "id": "affca3e1-06b7-4c2a-b0eb-7573f80d872d",
   "metadata": {},
   "source": [
    "## Separar por edição e dentro de cada edição fazer a seperação por critério de divisão.]Nos experimentos preliminares vimos a diferença entre os conjuntos de edições sem nenhum critério e gora podemos ver considerando alguma divisão.]# No caso vamo olhar numa única edição a diferença de distriuição de entre dois conjuntos.\n",
    "# Nisto da pra comparar a distribuição de privada ou pública, por exmplo entre duas edições diferentes pra ver se tiveram mudanças\n",
    "# Meu problema é ter duois cursos iguais numa só distribuição, mas fazendo por edição isso não acontece\n",
    "# Fazer um código genérico para filtrar vários valores que estabelecem o critério de divisão, direto nos conjuntos das edições, sem ter que fazer do zero"
   ]
  },
  {
   "cell_type": "code",
   "execution_count": null,
   "id": "99c2e85d-15c5-4954-8255-dc64677abafe",
   "metadata": {},
   "outputs": [],
   "source": [
    "df_edicao = pd.read_csv(f'./tabela_final_2011_treinamento.csv')\n",
    "\n",
    "df_edicao_publica = df_edicao[\"\n",
    "df_edicao_privada"
   ]
  }
 ],
 "metadata": {
  "kernelspec": {
   "display_name": "Python 3 (ipykernel)",
   "language": "python",
   "name": "python3"
  },
  "language_info": {
   "codemirror_mode": {
    "name": "ipython",
    "version": 3
   },
   "file_extension": ".py",
   "mimetype": "text/x-python",
   "name": "python",
   "nbconvert_exporter": "python",
   "pygments_lexer": "ipython3",
   "version": "3.10.9"
  }
 },
 "nbformat": 4,
 "nbformat_minor": 5
}
