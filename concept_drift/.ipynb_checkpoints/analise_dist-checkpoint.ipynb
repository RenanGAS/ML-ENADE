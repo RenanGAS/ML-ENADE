{
 "cells": [
  {
   "cell_type": "markdown",
   "id": "26079e2f-4793-4fa9-9a81-91b42dd5619e",
   "metadata": {},
   "source": [
    "# Análise das distribuições para resultados"
   ]
  },
  {
   "cell_type": "code",
   "execution_count": 6,
   "id": "c44046ab-3574-48d5-8394-5f46fb372b5e",
   "metadata": {},
   "outputs": [],
   "source": [
    "import pandas as pd\n",
    "import numpy as np"
   ]
  },
  {
   "cell_type": "code",
   "execution_count": 10,
   "id": "ac82dbc7-48f7-4b39-805e-56c95a43597c",
   "metadata": {},
   "outputs": [],
   "source": [
    "dados_11 = pd.read_csv('tabela_final_2011_treinamento.csv')\n",
    "dados_14 = pd.read_csv('tabela_final_2014_treinamento.csv')\n",
    "dados_17 = pd.read_csv('tabela_final_2017_treinamento.csv')\n",
    "dados_21 = pd.read_csv('tabela_final_2021_treinamento.csv')"
   ]
  },
  {
   "cell_type": "code",
   "execution_count": 16,
   "id": "24403c45-84c7-4741-9bd3-c5059cc1d290",
   "metadata": {},
   "outputs": [
    {
     "data": {
      "text/plain": [
       "count    1222.000000\n",
       "mean        0.046567\n",
       "std         0.071972\n",
       "min         0.000000\n",
       "25%         0.000000\n",
       "50%         0.021277\n",
       "75%         0.066667\n",
       "max         0.500000\n",
       "Name: Até 1,5 SM, dtype: float64"
      ]
     },
     "execution_count": 16,
     "metadata": {},
     "output_type": "execute_result"
    }
   ],
   "source": [
    "dados_11[\"Até 1,5 SM\"].describe()"
   ]
  },
  {
   "cell_type": "code",
   "execution_count": 12,
   "id": "a58cced2-b53f-45e8-a863-2c13bd503da4",
   "metadata": {},
   "outputs": [
    {
     "data": {
      "text/plain": [
       "count    1505.000000\n",
       "mean        0.546423\n",
       "std         0.231441\n",
       "min         0.000000\n",
       "25%         0.375000\n",
       "50%         0.545455\n",
       "75%         0.722222\n",
       "max         1.000000\n",
       "Name: Branca, dtype: float64"
      ]
     },
     "execution_count": 12,
     "metadata": {},
     "output_type": "execute_result"
    }
   ],
   "source": [
    "dados_14[\"Branca\"].describe()"
   ]
  },
  {
   "cell_type": "code",
   "execution_count": 13,
   "id": "dd3fba22-a2c7-4e2b-9d70-15acf12331ad",
   "metadata": {},
   "outputs": [
    {
     "data": {
      "text/plain": [
       "count    1605.000000\n",
       "mean        0.489192\n",
       "std         0.238696\n",
       "min         0.000000\n",
       "25%         0.305882\n",
       "50%         0.500000\n",
       "75%         0.666667\n",
       "max         1.000000\n",
       "Name: Branca, dtype: float64"
      ]
     },
     "execution_count": 13,
     "metadata": {},
     "output_type": "execute_result"
    }
   ],
   "source": [
    "dados_17[\"Branca\"].describe()"
   ]
  },
  {
   "cell_type": "code",
   "execution_count": 14,
   "id": "38ce698f-844c-4e17-8e0f-cc223ccf9779",
   "metadata": {},
   "outputs": [
    {
     "data": {
      "text/plain": [
       "count    1506.000000\n",
       "mean        0.477955\n",
       "std         0.230176\n",
       "min         0.000000\n",
       "25%         0.312500\n",
       "50%         0.475073\n",
       "75%         0.650000\n",
       "max         1.000000\n",
       "Name: Branca, dtype: float64"
      ]
     },
     "execution_count": 14,
     "metadata": {},
     "output_type": "execute_result"
    }
   ],
   "source": [
    "dados_21[\"Branca\"].describe()"
   ]
  }
 ],
 "metadata": {
  "kernelspec": {
   "display_name": "Python 3 (ipykernel)",
   "language": "python",
   "name": "python3"
  },
  "language_info": {
   "codemirror_mode": {
    "name": "ipython",
    "version": 3
   },
   "file_extension": ".py",
   "mimetype": "text/x-python",
   "name": "python",
   "nbconvert_exporter": "python",
   "pygments_lexer": "ipython3",
   "version": "3.10.9"
  }
 },
 "nbformat": 4,
 "nbformat_minor": 5
}
