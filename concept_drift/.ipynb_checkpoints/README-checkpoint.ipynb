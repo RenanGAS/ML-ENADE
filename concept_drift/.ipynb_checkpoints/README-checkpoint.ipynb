{
 "cells": [
  {
   "cell_type": "markdown",
   "id": "83daf562-3e4c-4fbc-b2e8-30edfa4ba137",
   "metadata": {},
   "source": [
    "### **Model Drift**\n",
    "\n",
    "**Quando um modelo têm seu desempenho prejudicado por seus dados de treinamento estarem defasados em relação aos dados de teste/validação**. São definidos dois motivos para tal defasagem: Data Drift e Concept Drift."
   ]
  },
  {
   "cell_type": "markdown",
   "id": "adad008e-1e52-4ea0-8c32-d49b19cbb069",
   "metadata": {},
   "source": [
    "### **Data drift**\n",
    "\n",
    "**Mudança de distribuição de características do conjunto**. Consiste do aumento/diminuição do número de instâncias para um valor de um atributo. Por exemplo, imaginando a predição do salário de uma pessoa e considerando que o nível de educação é uma característica com alta correlação; um programa do governo que aumentasse o nível de educação de pessoas com baixa renda, num dado momento isto quebraria a expectativa do modelo em predizer que uma pessoa com um nível de educação mais alto teria uma renda maior. Eventualmente estas pessoas obteriam salários melhores e a correlação entre alto nível de educação e renda se reestabeleceria.\n",
    "\n",
    "**Frases explicativas**:\n",
    "\n",
    "- Considerando um modelo que classifica uma imagem em \"Robalo\" ou \"Salmão\", treinado com um conjunto formado por 70% de \"Robalos\" e 30% de \"Salmões\", a realização de um teste com um conjunto formado por 15% de \"Robalos\" e 85% de \"Salmões\", provavelmente não apresentaria um bom desempenho"
   ]
  },
  {
   "cell_type": "markdown",
   "id": "b8c0ee11-c74e-42c9-948c-4c83c3da1f56",
   "metadata": {},
   "source": [
    "### **Concept drift**\n",
    "\n",
    "**Mudança na relação das características do conjunto com o valor de predição**. Por exemplo, retomando o contexto de predição de renda, caso as empresas passassem a considerar mais a experiência de trabalho do que o nível de escolaridade, a relação \"quanto maior o nível de escolaridade, maior a renda\" seria deteriorada.\n",
    "\n",
    "**Frases explicativas**:\n",
    "\n",
    "- Quando o padrão aprendido pelo modelo não é mais válido\n",
    "- Quando P_T1(Y|X) != P_T2(Y|X)\n",
    "    - \"Quando a probabilidade de classificar uma instância como Y, dado um conjunto de características X, num momento T1, é diferente da probabilidade de classificar uma instância como Y, dado o mesmo conjunto de características X, num momento posterior T2\" "
   ]
  },
  {
   "cell_type": "markdown",
   "id": "3b2f947d-253f-4376-a779-6291f5162888",
   "metadata": {},
   "source": [
    "### **Métodos de Detecção**\n",
    "\n",
    "O que é"
   ]
  },
  {
   "cell_type": "markdown",
   "id": "ee560b9f-ca1c-4823-952c-32f4694e7afb",
   "metadata": {},
   "source": [
    "#### Exemplo 1\n",
    "\n",
    "Funcionamento"
   ]
  },
  {
   "cell_type": "markdown",
   "id": "5fd0807d-4071-4ddb-bbc1-92be8be380ce",
   "metadata": {},
   "source": [
    "#### Exemplo ...\n",
    "\n",
    "Funcionamento"
   ]
  },
  {
   "cell_type": "markdown",
   "id": "d78b605d-2d95-43f7-81d6-3435322f7941",
   "metadata": {},
   "source": [
    "#### Exemplo N\n",
    "\n",
    "Funcionamento"
   ]
  },
  {
   "cell_type": "markdown",
   "id": "9f9abf9e-dd96-4f57-a0ab-7cdd79d2a55f",
   "metadata": {},
   "source": [
    "### **Métodos de Adaptação**\n",
    "\n",
    "O que é"
   ]
  },
  {
   "cell_type": "markdown",
   "id": "71aeb9b5-b1e9-4369-836f-f5a90ba44713",
   "metadata": {},
   "source": [
    "#### Exemplo 1\n",
    "\n",
    "Funcionamento"
   ]
  },
  {
   "cell_type": "markdown",
   "id": "b7ccd38a-1e7e-485e-a443-06fc670ff1b5",
   "metadata": {},
   "source": [
    "#### Exemplo ...\n",
    "\n",
    "Funcionamento"
   ]
  },
  {
   "cell_type": "markdown",
   "id": "7a6ebd86-1c70-40a8-9635-d338c1c8730f",
   "metadata": {},
   "source": [
    "#### Exemplo N\n",
    "\n",
    "Funcionamento"
   ]
  },
  {
   "cell_type": "markdown",
   "id": "32ed6319-ca20-4eda-85bb-a67741abd516",
   "metadata": {},
   "source": [
    "### **Aplicação nos microdados do Enade**\n",
    "\n",
    "Métodos testados + Código feito + Resultados"
   ]
  },
  {
   "cell_type": "markdown",
   "id": "5892be27-91af-4aac-917d-71933646e26e",
   "metadata": {},
   "source": [
    "### **Referências**"
   ]
  },
  {
   "cell_type": "code",
   "execution_count": null,
   "id": "1842b43d-252b-4617-b7ad-e896ec678e32",
   "metadata": {},
   "outputs": [],
   "source": []
  }
 ],
 "metadata": {
  "kernelspec": {
   "display_name": "Python 3 (ipykernel)",
   "language": "python",
   "name": "python3"
  },
  "language_info": {
   "codemirror_mode": {
    "name": "ipython",
    "version": 3
   },
   "file_extension": ".py",
   "mimetype": "text/x-python",
   "name": "python",
   "nbconvert_exporter": "python",
   "pygments_lexer": "ipython3",
   "version": "3.10.9"
  }
 },
 "nbformat": 4,
 "nbformat_minor": 5
}
