{
 "cells": [
  {
   "cell_type": "code",
   "execution_count": 1,
   "id": "1384363d-10f1-44ed-a3e1-8ea641351a9b",
   "metadata": {},
   "outputs": [],
   "source": [
    "import pandas as pd"
   ]
  },
  {
   "cell_type": "code",
   "execution_count": 2,
   "id": "dca10288-ba14-492d-999e-ac4a9189d220",
   "metadata": {},
   "outputs": [],
   "source": [
    "dados_21 = pd.read_csv('./tabela_final_2021_treinamento.csv')\n",
    "dados_17 = pd.read_csv('./tabela_final_2017_treinamento.csv')\n",
    "dados_14 = pd.read_csv('./tabela_final_2014_treinamento.csv')\n",
    "dados_11 = pd.read_csv('./tabela_final_2011_treinamento.csv')"
   ]
  },
  {
   "cell_type": "code",
   "execution_count": 3,
   "id": "77911db9-9eaa-4f96-ad5c-786d37efe36f",
   "metadata": {},
   "outputs": [],
   "source": [
    "dados = [dados_21, dados_17, dados_14, dados_11]\n",
    "  \n",
    "result = pd.concat(dados)"
   ]
  },
  {
   "cell_type": "code",
   "execution_count": 4,
   "id": "fa73d02e-b4a1-46c2-9a94-a7e65f9f2d3a",
   "metadata": {},
   "outputs": [],
   "source": [
    "result.to_csv('./tabela_final_inteira_treinamento.csv',index=False)"
   ]
  },
  {
   "cell_type": "code",
   "execution_count": null,
   "id": "c0b228bd-52d7-4c21-a965-7a1e3cada43b",
   "metadata": {},
   "outputs": [],
   "source": []
  }
 ],
 "metadata": {
  "kernelspec": {
   "display_name": "Python 3 (ipykernel)",
   "language": "python",
   "name": "python3"
  },
  "language_info": {
   "codemirror_mode": {
    "name": "ipython",
    "version": 3
   },
   "file_extension": ".py",
   "mimetype": "text/x-python",
   "name": "python",
   "nbconvert_exporter": "python",
   "pygments_lexer": "ipython3",
   "version": "3.9.13"
  }
 },
 "nbformat": 4,
 "nbformat_minor": 5
}
