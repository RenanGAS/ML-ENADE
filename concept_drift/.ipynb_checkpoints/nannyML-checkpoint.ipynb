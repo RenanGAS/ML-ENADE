{
 "cells": [
  {
   "cell_type": "code",
   "execution_count": 10,
   "id": "d762e095-db89-4524-8a7f-bba791472407",
   "metadata": {},
   "outputs": [],
   "source": [
    "import pandas as pd\n",
    "import nannyml as nml\n",
    "from IPython.display import display\n",
    "import re"
   ]
  },
  {
   "cell_type": "code",
   "execution_count": 19,
   "id": "69984c2b-b145-4962-a670-fc9e755ebdc1",
   "metadata": {},
   "outputs": [],
   "source": [
    "enade_treino = pd.read_csv(\"../concept_drift/tabela_final_2017_treinamento.csv\")\n",
    "enade_teste = pd.read_csv(\"../concept_drift/tabela_final_2021_treinamento.csv\")\n",
    "\n",
    "enade_treino = enade_treino.rename(columns = lambda x:re.sub('[^A-Za-z0-9_]+', '', x))\n",
    "enade_teste = enade_teste.rename(columns = lambda x:re.sub('[^A-Za-z0-9_]+', '', x))\n",
    "\n",
    "numero_caracteristicas = enade_treino.shape[1] - 1\n",
    "\n",
    "X_enade_treino = enade_treino.iloc[:, 0:numero_caracteristicas]\n",
    "X_enade_teste = enade_teste.iloc[:, 0:numero_caracteristicas]\n",
    "\n",
    "lista_caracteristicas = X_enade_treino.columns.values"
   ]
  },
  {
   "cell_type": "code",
   "execution_count": 20,
   "id": "5be3b536-59b3-4fcc-9729-d21725e36b2d",
   "metadata": {},
   "outputs": [
    {
     "data": {
      "text/html": [
       "<div>\n",
       "<style scoped>\n",
       "    .dataframe tbody tr th:only-of-type {\n",
       "        vertical-align: middle;\n",
       "    }\n",
       "\n",
       "    .dataframe tbody tr th {\n",
       "        vertical-align: top;\n",
       "    }\n",
       "\n",
       "    .dataframe thead tr th {\n",
       "        text-align: left;\n",
       "    }\n",
       "</style>\n",
       "<table border=\"1\" class=\"dataframe\">\n",
       "  <thead>\n",
       "    <tr>\n",
       "      <th></th>\n",
       "      <th colspan=\"7\" halign=\"left\">chunk</th>\n",
       "      <th colspan=\"4\" halign=\"left\">classifier_auroc</th>\n",
       "    </tr>\n",
       "    <tr>\n",
       "      <th></th>\n",
       "      <th>key</th>\n",
       "      <th>chunk_index</th>\n",
       "      <th>start_index</th>\n",
       "      <th>end_index</th>\n",
       "      <th>start_date</th>\n",
       "      <th>end_date</th>\n",
       "      <th>period</th>\n",
       "      <th>value</th>\n",
       "      <th>upper_threshold</th>\n",
       "      <th>lower_threshold</th>\n",
       "      <th>alert</th>\n",
       "    </tr>\n",
       "  </thead>\n",
       "  <tbody>\n",
       "    <tr>\n",
       "      <th>0</th>\n",
       "      <td>[0:149]</td>\n",
       "      <td>0</td>\n",
       "      <td>0</td>\n",
       "      <td>149</td>\n",
       "      <td>None</td>\n",
       "      <td>None</td>\n",
       "      <td>analysis</td>\n",
       "      <td>0.865229</td>\n",
       "      <td>0.65</td>\n",
       "      <td>0.45</td>\n",
       "      <td>True</td>\n",
       "    </tr>\n",
       "    <tr>\n",
       "      <th>1</th>\n",
       "      <td>[150:299]</td>\n",
       "      <td>1</td>\n",
       "      <td>150</td>\n",
       "      <td>299</td>\n",
       "      <td>None</td>\n",
       "      <td>None</td>\n",
       "      <td>analysis</td>\n",
       "      <td>0.841321</td>\n",
       "      <td>0.65</td>\n",
       "      <td>0.45</td>\n",
       "      <td>True</td>\n",
       "    </tr>\n",
       "    <tr>\n",
       "      <th>2</th>\n",
       "      <td>[300:449]</td>\n",
       "      <td>2</td>\n",
       "      <td>300</td>\n",
       "      <td>449</td>\n",
       "      <td>None</td>\n",
       "      <td>None</td>\n",
       "      <td>analysis</td>\n",
       "      <td>0.779526</td>\n",
       "      <td>0.65</td>\n",
       "      <td>0.45</td>\n",
       "      <td>True</td>\n",
       "    </tr>\n",
       "    <tr>\n",
       "      <th>3</th>\n",
       "      <td>[450:599]</td>\n",
       "      <td>3</td>\n",
       "      <td>450</td>\n",
       "      <td>599</td>\n",
       "      <td>None</td>\n",
       "      <td>None</td>\n",
       "      <td>analysis</td>\n",
       "      <td>0.820660</td>\n",
       "      <td>0.65</td>\n",
       "      <td>0.45</td>\n",
       "      <td>True</td>\n",
       "    </tr>\n",
       "    <tr>\n",
       "      <th>4</th>\n",
       "      <td>[600:749]</td>\n",
       "      <td>4</td>\n",
       "      <td>600</td>\n",
       "      <td>749</td>\n",
       "      <td>None</td>\n",
       "      <td>None</td>\n",
       "      <td>analysis</td>\n",
       "      <td>0.776174</td>\n",
       "      <td>0.65</td>\n",
       "      <td>0.45</td>\n",
       "      <td>True</td>\n",
       "    </tr>\n",
       "    <tr>\n",
       "      <th>5</th>\n",
       "      <td>[750:899]</td>\n",
       "      <td>5</td>\n",
       "      <td>750</td>\n",
       "      <td>899</td>\n",
       "      <td>None</td>\n",
       "      <td>None</td>\n",
       "      <td>analysis</td>\n",
       "      <td>0.854762</td>\n",
       "      <td>0.65</td>\n",
       "      <td>0.45</td>\n",
       "      <td>True</td>\n",
       "    </tr>\n",
       "    <tr>\n",
       "      <th>6</th>\n",
       "      <td>[900:1049]</td>\n",
       "      <td>6</td>\n",
       "      <td>900</td>\n",
       "      <td>1049</td>\n",
       "      <td>None</td>\n",
       "      <td>None</td>\n",
       "      <td>analysis</td>\n",
       "      <td>0.837757</td>\n",
       "      <td>0.65</td>\n",
       "      <td>0.45</td>\n",
       "      <td>True</td>\n",
       "    </tr>\n",
       "    <tr>\n",
       "      <th>7</th>\n",
       "      <td>[1050:1199]</td>\n",
       "      <td>7</td>\n",
       "      <td>1050</td>\n",
       "      <td>1199</td>\n",
       "      <td>None</td>\n",
       "      <td>None</td>\n",
       "      <td>analysis</td>\n",
       "      <td>0.788208</td>\n",
       "      <td>0.65</td>\n",
       "      <td>0.45</td>\n",
       "      <td>True</td>\n",
       "    </tr>\n",
       "    <tr>\n",
       "      <th>8</th>\n",
       "      <td>[1200:1349]</td>\n",
       "      <td>8</td>\n",
       "      <td>1200</td>\n",
       "      <td>1349</td>\n",
       "      <td>None</td>\n",
       "      <td>None</td>\n",
       "      <td>analysis</td>\n",
       "      <td>0.843751</td>\n",
       "      <td>0.65</td>\n",
       "      <td>0.45</td>\n",
       "      <td>True</td>\n",
       "    </tr>\n",
       "    <tr>\n",
       "      <th>9</th>\n",
       "      <td>[1350:1505]</td>\n",
       "      <td>9</td>\n",
       "      <td>1350</td>\n",
       "      <td>1505</td>\n",
       "      <td>None</td>\n",
       "      <td>None</td>\n",
       "      <td>analysis</td>\n",
       "      <td>0.862781</td>\n",
       "      <td>0.65</td>\n",
       "      <td>0.45</td>\n",
       "      <td>True</td>\n",
       "    </tr>\n",
       "  </tbody>\n",
       "</table>\n",
       "</div>"
      ],
      "text/plain": [
       "         chunk                                                        \\\n",
       "           key chunk_index start_index end_index start_date end_date   \n",
       "0      [0:149]           0           0       149       None     None   \n",
       "1    [150:299]           1         150       299       None     None   \n",
       "2    [300:449]           2         300       449       None     None   \n",
       "3    [450:599]           3         450       599       None     None   \n",
       "4    [600:749]           4         600       749       None     None   \n",
       "5    [750:899]           5         750       899       None     None   \n",
       "6   [900:1049]           6         900      1049       None     None   \n",
       "7  [1050:1199]           7        1050      1199       None     None   \n",
       "8  [1200:1349]           8        1200      1349       None     None   \n",
       "9  [1350:1505]           9        1350      1505       None     None   \n",
       "\n",
       "            classifier_auroc                                        \n",
       "     period            value upper_threshold lower_threshold alert  \n",
       "0  analysis         0.865229            0.65            0.45  True  \n",
       "1  analysis         0.841321            0.65            0.45  True  \n",
       "2  analysis         0.779526            0.65            0.45  True  \n",
       "3  analysis         0.820660            0.65            0.45  True  \n",
       "4  analysis         0.776174            0.65            0.45  True  \n",
       "5  analysis         0.854762            0.65            0.45  True  \n",
       "6  analysis         0.837757            0.65            0.45  True  \n",
       "7  analysis         0.788208            0.65            0.45  True  \n",
       "8  analysis         0.843751            0.65            0.45  True  \n",
       "9  analysis         0.862781            0.65            0.45  True  "
      ]
     },
     "metadata": {},
     "output_type": "display_data"
    },
    {
     "data": {
      "text/html": [
       "<div>\n",
       "<style scoped>\n",
       "    .dataframe tbody tr th:only-of-type {\n",
       "        vertical-align: middle;\n",
       "    }\n",
       "\n",
       "    .dataframe tbody tr th {\n",
       "        vertical-align: top;\n",
       "    }\n",
       "\n",
       "    .dataframe thead tr th {\n",
       "        text-align: left;\n",
       "    }\n",
       "</style>\n",
       "<table border=\"1\" class=\"dataframe\">\n",
       "  <thead>\n",
       "    <tr>\n",
       "      <th></th>\n",
       "      <th colspan=\"7\" halign=\"left\">chunk</th>\n",
       "      <th colspan=\"4\" halign=\"left\">classifier_auroc</th>\n",
       "    </tr>\n",
       "    <tr>\n",
       "      <th></th>\n",
       "      <th>key</th>\n",
       "      <th>chunk_index</th>\n",
       "      <th>start_index</th>\n",
       "      <th>end_index</th>\n",
       "      <th>start_date</th>\n",
       "      <th>end_date</th>\n",
       "      <th>period</th>\n",
       "      <th>value</th>\n",
       "      <th>upper_threshold</th>\n",
       "      <th>lower_threshold</th>\n",
       "      <th>alert</th>\n",
       "    </tr>\n",
       "  </thead>\n",
       "  <tbody>\n",
       "    <tr>\n",
       "      <th>0</th>\n",
       "      <td>[0:159]</td>\n",
       "      <td>0</td>\n",
       "      <td>0</td>\n",
       "      <td>159</td>\n",
       "      <td>None</td>\n",
       "      <td>None</td>\n",
       "      <td>reference</td>\n",
       "      <td>0.743897</td>\n",
       "      <td>0.65</td>\n",
       "      <td>0.45</td>\n",
       "      <td>True</td>\n",
       "    </tr>\n",
       "    <tr>\n",
       "      <th>1</th>\n",
       "      <td>[160:319]</td>\n",
       "      <td>1</td>\n",
       "      <td>160</td>\n",
       "      <td>319</td>\n",
       "      <td>None</td>\n",
       "      <td>None</td>\n",
       "      <td>reference</td>\n",
       "      <td>0.614663</td>\n",
       "      <td>0.65</td>\n",
       "      <td>0.45</td>\n",
       "      <td>False</td>\n",
       "    </tr>\n",
       "    <tr>\n",
       "      <th>2</th>\n",
       "      <td>[320:479]</td>\n",
       "      <td>2</td>\n",
       "      <td>320</td>\n",
       "      <td>479</td>\n",
       "      <td>None</td>\n",
       "      <td>None</td>\n",
       "      <td>reference</td>\n",
       "      <td>0.571592</td>\n",
       "      <td>0.65</td>\n",
       "      <td>0.45</td>\n",
       "      <td>False</td>\n",
       "    </tr>\n",
       "    <tr>\n",
       "      <th>3</th>\n",
       "      <td>[480:639]</td>\n",
       "      <td>3</td>\n",
       "      <td>480</td>\n",
       "      <td>639</td>\n",
       "      <td>None</td>\n",
       "      <td>None</td>\n",
       "      <td>reference</td>\n",
       "      <td>0.571189</td>\n",
       "      <td>0.65</td>\n",
       "      <td>0.45</td>\n",
       "      <td>False</td>\n",
       "    </tr>\n",
       "    <tr>\n",
       "      <th>4</th>\n",
       "      <td>[640:799]</td>\n",
       "      <td>4</td>\n",
       "      <td>640</td>\n",
       "      <td>799</td>\n",
       "      <td>None</td>\n",
       "      <td>None</td>\n",
       "      <td>reference</td>\n",
       "      <td>0.453668</td>\n",
       "      <td>0.65</td>\n",
       "      <td>0.45</td>\n",
       "      <td>False</td>\n",
       "    </tr>\n",
       "    <tr>\n",
       "      <th>5</th>\n",
       "      <td>[800:959]</td>\n",
       "      <td>5</td>\n",
       "      <td>800</td>\n",
       "      <td>959</td>\n",
       "      <td>None</td>\n",
       "      <td>None</td>\n",
       "      <td>reference</td>\n",
       "      <td>0.525515</td>\n",
       "      <td>0.65</td>\n",
       "      <td>0.45</td>\n",
       "      <td>False</td>\n",
       "    </tr>\n",
       "    <tr>\n",
       "      <th>6</th>\n",
       "      <td>[960:1119]</td>\n",
       "      <td>6</td>\n",
       "      <td>960</td>\n",
       "      <td>1119</td>\n",
       "      <td>None</td>\n",
       "      <td>None</td>\n",
       "      <td>reference</td>\n",
       "      <td>0.413361</td>\n",
       "      <td>0.65</td>\n",
       "      <td>0.45</td>\n",
       "      <td>True</td>\n",
       "    </tr>\n",
       "    <tr>\n",
       "      <th>7</th>\n",
       "      <td>[1120:1279]</td>\n",
       "      <td>7</td>\n",
       "      <td>1120</td>\n",
       "      <td>1279</td>\n",
       "      <td>None</td>\n",
       "      <td>None</td>\n",
       "      <td>reference</td>\n",
       "      <td>0.622059</td>\n",
       "      <td>0.65</td>\n",
       "      <td>0.45</td>\n",
       "      <td>False</td>\n",
       "    </tr>\n",
       "    <tr>\n",
       "      <th>8</th>\n",
       "      <td>[1280:1439]</td>\n",
       "      <td>8</td>\n",
       "      <td>1280</td>\n",
       "      <td>1439</td>\n",
       "      <td>None</td>\n",
       "      <td>None</td>\n",
       "      <td>reference</td>\n",
       "      <td>0.556055</td>\n",
       "      <td>0.65</td>\n",
       "      <td>0.45</td>\n",
       "      <td>False</td>\n",
       "    </tr>\n",
       "    <tr>\n",
       "      <th>9</th>\n",
       "      <td>[1440:1604]</td>\n",
       "      <td>9</td>\n",
       "      <td>1440</td>\n",
       "      <td>1604</td>\n",
       "      <td>None</td>\n",
       "      <td>None</td>\n",
       "      <td>reference</td>\n",
       "      <td>0.679221</td>\n",
       "      <td>0.65</td>\n",
       "      <td>0.45</td>\n",
       "      <td>True</td>\n",
       "    </tr>\n",
       "  </tbody>\n",
       "</table>\n",
       "</div>"
      ],
      "text/plain": [
       "         chunk                                                        \\\n",
       "           key chunk_index start_index end_index start_date end_date   \n",
       "0      [0:159]           0           0       159       None     None   \n",
       "1    [160:319]           1         160       319       None     None   \n",
       "2    [320:479]           2         320       479       None     None   \n",
       "3    [480:639]           3         480       639       None     None   \n",
       "4    [640:799]           4         640       799       None     None   \n",
       "5    [800:959]           5         800       959       None     None   \n",
       "6   [960:1119]           6         960      1119       None     None   \n",
       "7  [1120:1279]           7        1120      1279       None     None   \n",
       "8  [1280:1439]           8        1280      1439       None     None   \n",
       "9  [1440:1604]           9        1440      1604       None     None   \n",
       "\n",
       "             classifier_auroc                                         \n",
       "      period            value upper_threshold lower_threshold  alert  \n",
       "0  reference         0.743897            0.65            0.45   True  \n",
       "1  reference         0.614663            0.65            0.45  False  \n",
       "2  reference         0.571592            0.65            0.45  False  \n",
       "3  reference         0.571189            0.65            0.45  False  \n",
       "4  reference         0.453668            0.65            0.45  False  \n",
       "5  reference         0.525515            0.65            0.45  False  \n",
       "6  reference         0.413361            0.65            0.45   True  \n",
       "7  reference         0.622059            0.65            0.45  False  \n",
       "8  reference         0.556055            0.65            0.45  False  \n",
       "9  reference         0.679221            0.65            0.45   True  "
      ]
     },
     "metadata": {},
     "output_type": "display_data"
    },
    {
     "data": {
      "application/vnd.plotly.v1+json": {
       "config": {
        "plotlyServerURL": "https://plot.ly"
       },
       "data": [
        {
         "hoverinfo": "skip",
         "legendgroup": "metric_reference",
         "line": {
          "color": "#00c8e5",
          "shape": "hv",
          "width": 2
         },
         "mode": "lines",
         "name": "Metric",
         "showlegend": true,
         "type": "scatter",
         "x": [
          0,
          1,
          2,
          3,
          4,
          5,
          6,
          7,
          8,
          9,
          10
         ],
         "y": [
          0.7438970588235294,
          0.6146626297577855,
          0.5715916955017302,
          0.5711894463667819,
          0.4536678200692042,
          0.5255147058823529,
          0.41336072664359863,
          0.6220588235294118,
          0.5560553633217993,
          0.6792213804713805,
          0.6792213804713805
         ]
        },
        {
         "customdata": [
          [
           "Classifier AUROC ",
           "<b style=\"color:#00c8e5;line-height:60px\">Reference</b>",
           "<span style=\"color:#AD0000\">⚠ <b>Drift detected</b></span>",
           "[0:159]",
           "Chunk index: <b>0</b>",
           0.7439
          ],
          [
           "Classifier AUROC ",
           "<b style=\"color:#00c8e5;line-height:60px\">Reference</b>",
           "",
           "[160:319]",
           "Chunk index: <b>1</b>",
           0.6147
          ],
          [
           "Classifier AUROC ",
           "<b style=\"color:#00c8e5;line-height:60px\">Reference</b>",
           "",
           "[320:479]",
           "Chunk index: <b>2</b>",
           0.5716
          ],
          [
           "Classifier AUROC ",
           "<b style=\"color:#00c8e5;line-height:60px\">Reference</b>",
           "",
           "[480:639]",
           "Chunk index: <b>3</b>",
           0.5712
          ],
          [
           "Classifier AUROC ",
           "<b style=\"color:#00c8e5;line-height:60px\">Reference</b>",
           "",
           "[640:799]",
           "Chunk index: <b>4</b>",
           0.4537
          ],
          [
           "Classifier AUROC ",
           "<b style=\"color:#00c8e5;line-height:60px\">Reference</b>",
           "",
           "[800:959]",
           "Chunk index: <b>5</b>",
           0.5255
          ],
          [
           "Classifier AUROC ",
           "<b style=\"color:#00c8e5;line-height:60px\">Reference</b>",
           "<span style=\"color:#AD0000\">⚠ <b>Drift detected</b></span>",
           "[960:1119]",
           "Chunk index: <b>6</b>",
           0.4134
          ],
          [
           "Classifier AUROC ",
           "<b style=\"color:#00c8e5;line-height:60px\">Reference</b>",
           "",
           "[1120:1279]",
           "Chunk index: <b>7</b>",
           0.6221
          ],
          [
           "Classifier AUROC ",
           "<b style=\"color:#00c8e5;line-height:60px\">Reference</b>",
           "",
           "[1280:1439]",
           "Chunk index: <b>8</b>",
           0.5561
          ],
          [
           "Classifier AUROC ",
           "<b style=\"color:#00c8e5;line-height:60px\">Reference</b>",
           "<span style=\"color:#AD0000\">⚠ <b>Drift detected</b></span>",
           "[1440:1604]",
           "Chunk index: <b>9</b>",
           0.6792
          ]
         ],
         "hovertemplate": "%{customdata[1]} &nbsp; &nbsp; %{customdata[2]} <br />Chunk: <b>%{customdata[3]}</b> &nbsp; &nbsp; %{customdata[4]} <br />%{customdata[0]}: <b>%{customdata[5]}</b><b r /><extra></extra>",
         "legendgroup": "metric_reference",
         "marker": {
          "color": "#00c8e5",
          "size": 5,
          "symbol": "circle"
         },
         "mode": "markers",
         "name": "Metric",
         "showlegend": false,
         "type": "scatter",
         "x": [
          0.5,
          1.5,
          2.5,
          3.5,
          4.5,
          5.5,
          6.5,
          7.5,
          8.5,
          9.5
         ],
         "y": [
          0.7438970588235294,
          0.6146626297577855,
          0.5715916955017302,
          0.5711894463667819,
          0.4536678200692042,
          0.5255147058823529,
          0.41336072664359863,
          0.6220588235294118,
          0.5560553633217993,
          0.6792213804713805,
          0.6792213804713805
         ]
        },
        {
         "hoverinfo": "skip",
         "legendgroup": "metric_analysis",
         "line": {
          "color": "#00c8e5",
          "shape": "hv",
          "width": 2
         },
         "mode": "lines",
         "name": "Metric",
         "showlegend": false,
         "type": "scatter",
         "x": [
          10,
          11,
          12,
          13,
          14,
          15,
          16,
          17,
          18,
          19,
          20
         ],
         "y": [
          0.8652294911734164,
          0.8413208722741432,
          0.7795264797507788,
          0.8206604361370717,
          0.7761744548286604,
          0.8547622014537901,
          0.8377570093457942,
          0.7882076843198338,
          0.8437507788161994,
          0.8627805735282371,
          0.8627805735282371
         ]
        },
        {
         "customdata": [
          [
           "Classifier AUROC ",
           "<b style=\"color:#3b0280;line-height:60px\">Analysis</b>",
           "<span style=\"color:#AD0000\">⚠ <b>Drift detected</b></span>",
           "[0:149]",
           "Chunk index: <b>0</b>",
           0.8652
          ],
          [
           "Classifier AUROC ",
           "<b style=\"color:#3b0280;line-height:60px\">Analysis</b>",
           "<span style=\"color:#AD0000\">⚠ <b>Drift detected</b></span>",
           "[150:299]",
           "Chunk index: <b>1</b>",
           0.8413
          ],
          [
           "Classifier AUROC ",
           "<b style=\"color:#3b0280;line-height:60px\">Analysis</b>",
           "<span style=\"color:#AD0000\">⚠ <b>Drift detected</b></span>",
           "[300:449]",
           "Chunk index: <b>2</b>",
           0.7795
          ],
          [
           "Classifier AUROC ",
           "<b style=\"color:#3b0280;line-height:60px\">Analysis</b>",
           "<span style=\"color:#AD0000\">⚠ <b>Drift detected</b></span>",
           "[450:599]",
           "Chunk index: <b>3</b>",
           0.8207
          ],
          [
           "Classifier AUROC ",
           "<b style=\"color:#3b0280;line-height:60px\">Analysis</b>",
           "<span style=\"color:#AD0000\">⚠ <b>Drift detected</b></span>",
           "[600:749]",
           "Chunk index: <b>4</b>",
           0.7762
          ],
          [
           "Classifier AUROC ",
           "<b style=\"color:#3b0280;line-height:60px\">Analysis</b>",
           "<span style=\"color:#AD0000\">⚠ <b>Drift detected</b></span>",
           "[750:899]",
           "Chunk index: <b>5</b>",
           0.8548
          ],
          [
           "Classifier AUROC ",
           "<b style=\"color:#3b0280;line-height:60px\">Analysis</b>",
           "<span style=\"color:#AD0000\">⚠ <b>Drift detected</b></span>",
           "[900:1049]",
           "Chunk index: <b>6</b>",
           0.8378
          ],
          [
           "Classifier AUROC ",
           "<b style=\"color:#3b0280;line-height:60px\">Analysis</b>",
           "<span style=\"color:#AD0000\">⚠ <b>Drift detected</b></span>",
           "[1050:1199]",
           "Chunk index: <b>7</b>",
           0.7882
          ],
          [
           "Classifier AUROC ",
           "<b style=\"color:#3b0280;line-height:60px\">Analysis</b>",
           "<span style=\"color:#AD0000\">⚠ <b>Drift detected</b></span>",
           "[1200:1349]",
           "Chunk index: <b>8</b>",
           0.8438
          ],
          [
           "Classifier AUROC ",
           "<b style=\"color:#3b0280;line-height:60px\">Analysis</b>",
           "<span style=\"color:#AD0000\">⚠ <b>Drift detected</b></span>",
           "[1350:1505]",
           "Chunk index: <b>9</b>",
           0.8628
          ]
         ],
         "hovertemplate": "%{customdata[1]} &nbsp; &nbsp; %{customdata[2]} <br />Chunk: <b>%{customdata[3]}</b> &nbsp; &nbsp; %{customdata[4]} <br />%{customdata[0]}: <b>%{customdata[5]}</b><b r /><extra></extra>",
         "legendgroup": "metric_analysis",
         "marker": {
          "color": "#00c8e5",
          "size": 5,
          "symbol": "circle"
         },
         "mode": "markers",
         "name": "Metric",
         "showlegend": false,
         "type": "scatter",
         "x": [
          10.5,
          11.5,
          12.5,
          13.5,
          14.5,
          15.5,
          16.5,
          17.5,
          18.5,
          19.5
         ],
         "y": [
          0.8652294911734164,
          0.8413208722741432,
          0.7795264797507788,
          0.8206604361370717,
          0.7761744548286604,
          0.8547622014537901,
          0.8377570093457942,
          0.7882076843198338,
          0.8437507788161994,
          0.8627805735282371,
          0.8627805735282371
         ]
        },
        {
         "hoverinfo": "skip",
         "legendgroup": "alert",
         "marker": {
          "color": "#DD4040",
          "size": 8,
          "symbol": "diamond"
         },
         "mode": "markers",
         "name": "Alert",
         "showlegend": true,
         "type": "scatter",
         "x": [
          10.5,
          11.5,
          12.5,
          13.5,
          14.5,
          15.5,
          16.5,
          17.5,
          18.5,
          19.5
         ],
         "y": [
          0.8652294911734164,
          0.8413208722741432,
          0.7795264797507788,
          0.8206604361370717,
          0.7761744548286604,
          0.8547622014537901,
          0.8377570093457942,
          0.7882076843198338,
          0.8437507788161994,
          0.8627805735282371
         ]
        },
        {
         "hoverinfo": "skip",
         "legendgroup": "thresh",
         "line": {
          "color": "#DD4040",
          "dash": "dash",
          "width": 2
         },
         "mode": "lines",
         "name": "Threshold",
         "showlegend": false,
         "type": "scatter",
         "x": [
          0,
          1,
          2,
          3,
          4,
          5,
          6,
          7,
          8,
          9,
          10
         ],
         "y": [
          0.65,
          0.65,
          0.65,
          0.65,
          0.65,
          0.65,
          0.65,
          0.65,
          0.65,
          0.65,
          0.65
         ]
        },
        {
         "hoverinfo": "skip",
         "legendgroup": "thresh",
         "line": {
          "color": "#DD4040",
          "dash": "dash",
          "width": 2
         },
         "mode": "lines",
         "name": "Threshold",
         "showlegend": false,
         "type": "scatter",
         "x": [
          0,
          1,
          2,
          3,
          4,
          5,
          6,
          7,
          8,
          9,
          10
         ],
         "y": [
          0.45,
          0.45,
          0.45,
          0.45,
          0.45,
          0.45,
          0.45,
          0.45,
          0.45,
          0.45,
          0.45
         ]
        },
        {
         "hoverinfo": "skip",
         "legendgroup": "thresh",
         "line": {
          "color": "#DD4040",
          "dash": "dash",
          "width": 2
         },
         "mode": "lines",
         "name": "Threshold",
         "showlegend": false,
         "type": "scatter",
         "x": [
          10,
          11,
          12,
          13,
          14,
          15,
          16,
          17,
          18,
          19,
          20
         ],
         "y": [
          0.65,
          0.65,
          0.65,
          0.65,
          0.65,
          0.65,
          0.65,
          0.65,
          0.65,
          0.65,
          0.65
         ]
        },
        {
         "hoverinfo": "skip",
         "legendgroup": "thresh",
         "line": {
          "color": "#DD4040",
          "dash": "dash",
          "width": 2
         },
         "mode": "lines",
         "name": "Threshold",
         "showlegend": false,
         "type": "scatter",
         "x": [
          10,
          11,
          12,
          13,
          14,
          15,
          16,
          17,
          18,
          19,
          20
         ],
         "y": [
          0.45,
          0.45,
          0.45,
          0.45,
          0.45,
          0.45,
          0.45,
          0.45,
          0.45,
          0.45,
          0.45
         ]
        }
       ],
       "layout": {
        "annotations": [
         {
          "showarrow": false,
          "text": "Reference",
          "x": 4.5,
          "xshift": 10,
          "y": 1.01,
          "yref": "y domain"
         },
         {
          "showarrow": false,
          "text": "Analysis",
          "x": 14.5,
          "xshift": 15,
          "y": 1.01,
          "yref": "y domain"
         }
        ],
        "autosize": true,
        "hoverlabel": {
         "bgcolor": "white",
         "font": {
          "size": 14
         }
        },
        "legend": {
         "itemclick": false,
         "itemdoubleclick": false,
         "traceorder": "grouped"
        },
        "paper_bgcolor": "rgba(255,255,255,1)",
        "plot_bgcolor": "rgba(255,255,255,1)",
        "shapes": [
         {
          "layer": "below",
          "line": {
           "color": "#666666",
           "width": 1
          },
          "type": "line",
          "x0": 10,
          "x1": 10,
          "xref": "x",
          "y0": 0,
          "y1": 1,
          "yref": "y domain"
         }
        ],
        "template": {
         "data": {
          "bar": [
           {
            "error_x": {
             "color": "#2a3f5f"
            },
            "error_y": {
             "color": "#2a3f5f"
            },
            "marker": {
             "line": {
              "color": "#E5ECF6",
              "width": 0.5
             },
             "pattern": {
              "fillmode": "overlay",
              "size": 10,
              "solidity": 0.2
             }
            },
            "type": "bar"
           }
          ],
          "barpolar": [
           {
            "marker": {
             "line": {
              "color": "#E5ECF6",
              "width": 0.5
             },
             "pattern": {
              "fillmode": "overlay",
              "size": 10,
              "solidity": 0.2
             }
            },
            "type": "barpolar"
           }
          ],
          "carpet": [
           {
            "aaxis": {
             "endlinecolor": "#2a3f5f",
             "gridcolor": "white",
             "linecolor": "white",
             "minorgridcolor": "white",
             "startlinecolor": "#2a3f5f"
            },
            "baxis": {
             "endlinecolor": "#2a3f5f",
             "gridcolor": "white",
             "linecolor": "white",
             "minorgridcolor": "white",
             "startlinecolor": "#2a3f5f"
            },
            "type": "carpet"
           }
          ],
          "choropleth": [
           {
            "colorbar": {
             "outlinewidth": 0,
             "ticks": ""
            },
            "type": "choropleth"
           }
          ],
          "contour": [
           {
            "colorbar": {
             "outlinewidth": 0,
             "ticks": ""
            },
            "colorscale": [
             [
              0,
              "#0d0887"
             ],
             [
              0.1111111111111111,
              "#46039f"
             ],
             [
              0.2222222222222222,
              "#7201a8"
             ],
             [
              0.3333333333333333,
              "#9c179e"
             ],
             [
              0.4444444444444444,
              "#bd3786"
             ],
             [
              0.5555555555555556,
              "#d8576b"
             ],
             [
              0.6666666666666666,
              "#ed7953"
             ],
             [
              0.7777777777777778,
              "#fb9f3a"
             ],
             [
              0.8888888888888888,
              "#fdca26"
             ],
             [
              1,
              "#f0f921"
             ]
            ],
            "type": "contour"
           }
          ],
          "contourcarpet": [
           {
            "colorbar": {
             "outlinewidth": 0,
             "ticks": ""
            },
            "type": "contourcarpet"
           }
          ],
          "heatmap": [
           {
            "colorbar": {
             "outlinewidth": 0,
             "ticks": ""
            },
            "colorscale": [
             [
              0,
              "#0d0887"
             ],
             [
              0.1111111111111111,
              "#46039f"
             ],
             [
              0.2222222222222222,
              "#7201a8"
             ],
             [
              0.3333333333333333,
              "#9c179e"
             ],
             [
              0.4444444444444444,
              "#bd3786"
             ],
             [
              0.5555555555555556,
              "#d8576b"
             ],
             [
              0.6666666666666666,
              "#ed7953"
             ],
             [
              0.7777777777777778,
              "#fb9f3a"
             ],
             [
              0.8888888888888888,
              "#fdca26"
             ],
             [
              1,
              "#f0f921"
             ]
            ],
            "type": "heatmap"
           }
          ],
          "heatmapgl": [
           {
            "colorbar": {
             "outlinewidth": 0,
             "ticks": ""
            },
            "colorscale": [
             [
              0,
              "#0d0887"
             ],
             [
              0.1111111111111111,
              "#46039f"
             ],
             [
              0.2222222222222222,
              "#7201a8"
             ],
             [
              0.3333333333333333,
              "#9c179e"
             ],
             [
              0.4444444444444444,
              "#bd3786"
             ],
             [
              0.5555555555555556,
              "#d8576b"
             ],
             [
              0.6666666666666666,
              "#ed7953"
             ],
             [
              0.7777777777777778,
              "#fb9f3a"
             ],
             [
              0.8888888888888888,
              "#fdca26"
             ],
             [
              1,
              "#f0f921"
             ]
            ],
            "type": "heatmapgl"
           }
          ],
          "histogram": [
           {
            "marker": {
             "pattern": {
              "fillmode": "overlay",
              "size": 10,
              "solidity": 0.2
             }
            },
            "type": "histogram"
           }
          ],
          "histogram2d": [
           {
            "colorbar": {
             "outlinewidth": 0,
             "ticks": ""
            },
            "colorscale": [
             [
              0,
              "#0d0887"
             ],
             [
              0.1111111111111111,
              "#46039f"
             ],
             [
              0.2222222222222222,
              "#7201a8"
             ],
             [
              0.3333333333333333,
              "#9c179e"
             ],
             [
              0.4444444444444444,
              "#bd3786"
             ],
             [
              0.5555555555555556,
              "#d8576b"
             ],
             [
              0.6666666666666666,
              "#ed7953"
             ],
             [
              0.7777777777777778,
              "#fb9f3a"
             ],
             [
              0.8888888888888888,
              "#fdca26"
             ],
             [
              1,
              "#f0f921"
             ]
            ],
            "type": "histogram2d"
           }
          ],
          "histogram2dcontour": [
           {
            "colorbar": {
             "outlinewidth": 0,
             "ticks": ""
            },
            "colorscale": [
             [
              0,
              "#0d0887"
             ],
             [
              0.1111111111111111,
              "#46039f"
             ],
             [
              0.2222222222222222,
              "#7201a8"
             ],
             [
              0.3333333333333333,
              "#9c179e"
             ],
             [
              0.4444444444444444,
              "#bd3786"
             ],
             [
              0.5555555555555556,
              "#d8576b"
             ],
             [
              0.6666666666666666,
              "#ed7953"
             ],
             [
              0.7777777777777778,
              "#fb9f3a"
             ],
             [
              0.8888888888888888,
              "#fdca26"
             ],
             [
              1,
              "#f0f921"
             ]
            ],
            "type": "histogram2dcontour"
           }
          ],
          "mesh3d": [
           {
            "colorbar": {
             "outlinewidth": 0,
             "ticks": ""
            },
            "type": "mesh3d"
           }
          ],
          "parcoords": [
           {
            "line": {
             "colorbar": {
              "outlinewidth": 0,
              "ticks": ""
             }
            },
            "type": "parcoords"
           }
          ],
          "pie": [
           {
            "automargin": true,
            "type": "pie"
           }
          ],
          "scatter": [
           {
            "fillpattern": {
             "fillmode": "overlay",
             "size": 10,
             "solidity": 0.2
            },
            "type": "scatter"
           }
          ],
          "scatter3d": [
           {
            "line": {
             "colorbar": {
              "outlinewidth": 0,
              "ticks": ""
             }
            },
            "marker": {
             "colorbar": {
              "outlinewidth": 0,
              "ticks": ""
             }
            },
            "type": "scatter3d"
           }
          ],
          "scattercarpet": [
           {
            "marker": {
             "colorbar": {
              "outlinewidth": 0,
              "ticks": ""
             }
            },
            "type": "scattercarpet"
           }
          ],
          "scattergeo": [
           {
            "marker": {
             "colorbar": {
              "outlinewidth": 0,
              "ticks": ""
             }
            },
            "type": "scattergeo"
           }
          ],
          "scattergl": [
           {
            "marker": {
             "colorbar": {
              "outlinewidth": 0,
              "ticks": ""
             }
            },
            "type": "scattergl"
           }
          ],
          "scattermapbox": [
           {
            "marker": {
             "colorbar": {
              "outlinewidth": 0,
              "ticks": ""
             }
            },
            "type": "scattermapbox"
           }
          ],
          "scatterpolar": [
           {
            "marker": {
             "colorbar": {
              "outlinewidth": 0,
              "ticks": ""
             }
            },
            "type": "scatterpolar"
           }
          ],
          "scatterpolargl": [
           {
            "marker": {
             "colorbar": {
              "outlinewidth": 0,
              "ticks": ""
             }
            },
            "type": "scatterpolargl"
           }
          ],
          "scatterternary": [
           {
            "marker": {
             "colorbar": {
              "outlinewidth": 0,
              "ticks": ""
             }
            },
            "type": "scatterternary"
           }
          ],
          "surface": [
           {
            "colorbar": {
             "outlinewidth": 0,
             "ticks": ""
            },
            "colorscale": [
             [
              0,
              "#0d0887"
             ],
             [
              0.1111111111111111,
              "#46039f"
             ],
             [
              0.2222222222222222,
              "#7201a8"
             ],
             [
              0.3333333333333333,
              "#9c179e"
             ],
             [
              0.4444444444444444,
              "#bd3786"
             ],
             [
              0.5555555555555556,
              "#d8576b"
             ],
             [
              0.6666666666666666,
              "#ed7953"
             ],
             [
              0.7777777777777778,
              "#fb9f3a"
             ],
             [
              0.8888888888888888,
              "#fdca26"
             ],
             [
              1,
              "#f0f921"
             ]
            ],
            "type": "surface"
           }
          ],
          "table": [
           {
            "cells": {
             "fill": {
              "color": "#EBF0F8"
             },
             "line": {
              "color": "white"
             }
            },
            "header": {
             "fill": {
              "color": "#C8D4E3"
             },
             "line": {
              "color": "white"
             }
            },
            "type": "table"
           }
          ]
         },
         "layout": {
          "annotationdefaults": {
           "arrowcolor": "#2a3f5f",
           "arrowhead": 0,
           "arrowwidth": 1
          },
          "autotypenumbers": "strict",
          "coloraxis": {
           "colorbar": {
            "outlinewidth": 0,
            "ticks": ""
           }
          },
          "colorscale": {
           "diverging": [
            [
             0,
             "#8e0152"
            ],
            [
             0.1,
             "#c51b7d"
            ],
            [
             0.2,
             "#de77ae"
            ],
            [
             0.3,
             "#f1b6da"
            ],
            [
             0.4,
             "#fde0ef"
            ],
            [
             0.5,
             "#f7f7f7"
            ],
            [
             0.6,
             "#e6f5d0"
            ],
            [
             0.7,
             "#b8e186"
            ],
            [
             0.8,
             "#7fbc41"
            ],
            [
             0.9,
             "#4d9221"
            ],
            [
             1,
             "#276419"
            ]
           ],
           "sequential": [
            [
             0,
             "#0d0887"
            ],
            [
             0.1111111111111111,
             "#46039f"
            ],
            [
             0.2222222222222222,
             "#7201a8"
            ],
            [
             0.3333333333333333,
             "#9c179e"
            ],
            [
             0.4444444444444444,
             "#bd3786"
            ],
            [
             0.5555555555555556,
             "#d8576b"
            ],
            [
             0.6666666666666666,
             "#ed7953"
            ],
            [
             0.7777777777777778,
             "#fb9f3a"
            ],
            [
             0.8888888888888888,
             "#fdca26"
            ],
            [
             1,
             "#f0f921"
            ]
           ],
           "sequentialminus": [
            [
             0,
             "#0d0887"
            ],
            [
             0.1111111111111111,
             "#46039f"
            ],
            [
             0.2222222222222222,
             "#7201a8"
            ],
            [
             0.3333333333333333,
             "#9c179e"
            ],
            [
             0.4444444444444444,
             "#bd3786"
            ],
            [
             0.5555555555555556,
             "#d8576b"
            ],
            [
             0.6666666666666666,
             "#ed7953"
            ],
            [
             0.7777777777777778,
             "#fb9f3a"
            ],
            [
             0.8888888888888888,
             "#fdca26"
            ],
            [
             1,
             "#f0f921"
            ]
           ]
          },
          "colorway": [
           "#636efa",
           "#EF553B",
           "#00cc96",
           "#ab63fa",
           "#FFA15A",
           "#19d3f3",
           "#FF6692",
           "#B6E880",
           "#FF97FF",
           "#FECB52"
          ],
          "font": {
           "color": "#2a3f5f"
          },
          "geo": {
           "bgcolor": "white",
           "lakecolor": "white",
           "landcolor": "#E5ECF6",
           "showlakes": true,
           "showland": true,
           "subunitcolor": "white"
          },
          "hoverlabel": {
           "align": "left"
          },
          "hovermode": "closest",
          "mapbox": {
           "style": "light"
          },
          "paper_bgcolor": "white",
          "plot_bgcolor": "#E5ECF6",
          "polar": {
           "angularaxis": {
            "gridcolor": "white",
            "linecolor": "white",
            "ticks": ""
           },
           "bgcolor": "#E5ECF6",
           "radialaxis": {
            "gridcolor": "white",
            "linecolor": "white",
            "ticks": ""
           }
          },
          "scene": {
           "xaxis": {
            "backgroundcolor": "#E5ECF6",
            "gridcolor": "white",
            "gridwidth": 2,
            "linecolor": "white",
            "showbackground": true,
            "ticks": "",
            "zerolinecolor": "white"
           },
           "yaxis": {
            "backgroundcolor": "#E5ECF6",
            "gridcolor": "white",
            "gridwidth": 2,
            "linecolor": "white",
            "showbackground": true,
            "ticks": "",
            "zerolinecolor": "white"
           },
           "zaxis": {
            "backgroundcolor": "#E5ECF6",
            "gridcolor": "white",
            "gridwidth": 2,
            "linecolor": "white",
            "showbackground": true,
            "ticks": "",
            "zerolinecolor": "white"
           }
          },
          "shapedefaults": {
           "line": {
            "color": "#2a3f5f"
           }
          },
          "ternary": {
           "aaxis": {
            "gridcolor": "white",
            "linecolor": "white",
            "ticks": ""
           },
           "baxis": {
            "gridcolor": "white",
            "linecolor": "white",
            "ticks": ""
           },
           "bgcolor": "#E5ECF6",
           "caxis": {
            "gridcolor": "white",
            "linecolor": "white",
            "ticks": ""
           }
          },
          "title": {
           "x": 0.05
          },
          "xaxis": {
           "automargin": true,
           "gridcolor": "white",
           "linecolor": "white",
           "ticks": "",
           "title": {
            "standoff": 15
           },
           "zerolinecolor": "white",
           "zerolinewidth": 2
          },
          "yaxis": {
           "automargin": true,
           "gridcolor": "white",
           "linecolor": "white",
           "ticks": "",
           "title": {
            "standoff": 15
           },
           "zerolinecolor": "white",
           "zerolinewidth": 2
          }
         }
        },
        "title": {
         "text": "Classifier for Drift Detection"
        },
        "xaxis": {
         "autorange": true,
         "linecolor": "#3b0280",
         "matches": "x",
         "mirror": true,
         "range": [
          -0.6151006637895149,
          20.646318487523825
         ],
         "showgrid": false,
         "title": {
          "text": "Chunk"
         },
         "type": "linear",
         "zeroline": false
        },
        "yaxis": {
         "autorange": true,
         "linecolor": "#3b0280",
         "mirror": true,
         "range": [
          0.37775449580737414,
          0.906341840180191
         ],
         "showgrid": false,
         "title": {
          "text": "Classifier AUROC "
         },
         "type": "linear",
         "zeroline": false
        }
       }
      },
      "image/png": "[encoded data removed]",
      "text/html": [
       "<div>                            <div id=\"192d37ee-1f37-4561-99aa-2c0c04871d61\" class=\"plotly-graph-div\" style=\"height:525px; width:100%;\"></div>            <script type=\"text/javascript\">                require([\"plotly\"], function(Plotly) {                    window.PLOTLYENV=window.PLOTLYENV || {};                                    if (document.getElementById(\"192d37ee-1f37-4561-99aa-2c0c04871d61\")) {                    Plotly.newPlot(                        \"192d37ee-1f37-4561-99aa-2c0c04871d61\",                        [{\"hoverinfo\":\"skip\",\"legendgroup\":\"metric_reference\",\"line\":{\"color\":\"#00c8e5\",\"shape\":\"hv\",\"width\":2},\"mode\":\"lines\",\"name\":\"Metric\",\"showlegend\":true,\"x\":[0,1,2,3,4,5,6,7,8,9,10],\"y\":[0.7438970588235294,0.6146626297577855,0.5715916955017302,0.5711894463667819,0.4536678200692042,0.5255147058823529,0.41336072664359863,0.6220588235294118,0.5560553633217993,0.6792213804713805,0.6792213804713805],\"type\":\"scatter\"},{\"customdata\":[[\"Classifier AUROC \",\"\\u003cb style=\\\"color:#00c8e5;line-height:60px\\\"\\u003eReference\\u003c\\u002fb\\u003e\",\"\\u003cspan style=\\\"color:#AD0000\\\"\\u003e\\u26a0 \\u003cb\\u003eDrift detected\\u003c\\u002fb\\u003e\\u003c\\u002fspan\\u003e\",\"[0:159]\",\"Chunk index: \\u003cb\\u003e0\\u003c\\u002fb\\u003e\",0.7439],[\"Classifier AUROC \",\"\\u003cb style=\\\"color:#00c8e5;line-height:60px\\\"\\u003eReference\\u003c\\u002fb\\u003e\",\"\",\"[160:319]\",\"Chunk index: \\u003cb\\u003e1\\u003c\\u002fb\\u003e\",0.6147],[\"Classifier AUROC \",\"\\u003cb style=\\\"color:#00c8e5;line-height:60px\\\"\\u003eReference\\u003c\\u002fb\\u003e\",\"\",\"[320:479]\",\"Chunk index: \\u003cb\\u003e2\\u003c\\u002fb\\u003e\",0.5716],[\"Classifier AUROC \",\"\\u003cb style=\\\"color:#00c8e5;line-height:60px\\\"\\u003eReference\\u003c\\u002fb\\u003e\",\"\",\"[480:639]\",\"Chunk index: \\u003cb\\u003e3\\u003c\\u002fb\\u003e\",0.5712],[\"Classifier AUROC \",\"\\u003cb style=\\\"color:#00c8e5;line-height:60px\\\"\\u003eReference\\u003c\\u002fb\\u003e\",\"\",\"[640:799]\",\"Chunk index: \\u003cb\\u003e4\\u003c\\u002fb\\u003e\",0.4537],[\"Classifier AUROC \",\"\\u003cb style=\\\"color:#00c8e5;line-height:60px\\\"\\u003eReference\\u003c\\u002fb\\u003e\",\"\",\"[800:959]\",\"Chunk index: \\u003cb\\u003e5\\u003c\\u002fb\\u003e\",0.5255],[\"Classifier AUROC \",\"\\u003cb style=\\\"color:#00c8e5;line-height:60px\\\"\\u003eReference\\u003c\\u002fb\\u003e\",\"\\u003cspan style=\\\"color:#AD0000\\\"\\u003e\\u26a0 \\u003cb\\u003eDrift detected\\u003c\\u002fb\\u003e\\u003c\\u002fspan\\u003e\",\"[960:1119]\",\"Chunk index: \\u003cb\\u003e6\\u003c\\u002fb\\u003e\",0.4134],[\"Classifier AUROC \",\"\\u003cb style=\\\"color:#00c8e5;line-height:60px\\\"\\u003eReference\\u003c\\u002fb\\u003e\",\"\",\"[1120:1279]\",\"Chunk index: \\u003cb\\u003e7\\u003c\\u002fb\\u003e\",0.6221],[\"Classifier AUROC \",\"\\u003cb style=\\\"color:#00c8e5;line-height:60px\\\"\\u003eReference\\u003c\\u002fb\\u003e\",\"\",\"[1280:1439]\",\"Chunk index: \\u003cb\\u003e8\\u003c\\u002fb\\u003e\",0.5561],[\"Classifier AUROC \",\"\\u003cb style=\\\"color:#00c8e5;line-height:60px\\\"\\u003eReference\\u003c\\u002fb\\u003e\",\"\\u003cspan style=\\\"color:#AD0000\\\"\\u003e\\u26a0 \\u003cb\\u003eDrift detected\\u003c\\u002fb\\u003e\\u003c\\u002fspan\\u003e\",\"[1440:1604]\",\"Chunk index: \\u003cb\\u003e9\\u003c\\u002fb\\u003e\",0.6792]],\"hovertemplate\":\"%{customdata[1]} &nbsp; &nbsp; %{customdata[2]} \\u003cbr \\u002f\\u003eChunk: \\u003cb\\u003e%{customdata[3]}\\u003c\\u002fb\\u003e &nbsp; &nbsp; %{customdata[4]} \\u003cbr \\u002f\\u003e%{customdata[0]}: \\u003cb\\u003e%{customdata[5]}\\u003c\\u002fb\\u003e\\u003cb r \\u002f\\u003e\\u003cextra\\u003e\\u003c\\u002fextra\\u003e\",\"legendgroup\":\"metric_reference\",\"marker\":{\"color\":\"#00c8e5\",\"size\":5,\"symbol\":\"circle\"},\"mode\":\"markers\",\"name\":\"Metric\",\"showlegend\":false,\"x\":[0.5,1.5,2.5,3.5,4.5,5.5,6.5,7.5,8.5,9.5],\"y\":[0.7438970588235294,0.6146626297577855,0.5715916955017302,0.5711894463667819,0.4536678200692042,0.5255147058823529,0.41336072664359863,0.6220588235294118,0.5560553633217993,0.6792213804713805,0.6792213804713805],\"type\":\"scatter\"},{\"hoverinfo\":\"skip\",\"legendgroup\":\"metric_analysis\",\"line\":{\"color\":\"#00c8e5\",\"shape\":\"hv\",\"width\":2},\"mode\":\"lines\",\"name\":\"Metric\",\"showlegend\":false,\"x\":[10,11,12,13,14,15,16,17,18,19,20],\"y\":[0.8652294911734164,0.8413208722741432,0.7795264797507788,0.8206604361370717,0.7761744548286604,0.8547622014537901,0.8377570093457942,0.7882076843198338,0.8437507788161994,0.8627805735282371,0.8627805735282371],\"type\":\"scatter\"},{\"customdata\":[[\"Classifier AUROC \",\"\\u003cb style=\\\"color:#3b0280;line-height:60px\\\"\\u003eAnalysis\\u003c\\u002fb\\u003e\",\"\\u003cspan style=\\\"color:#AD0000\\\"\\u003e\\u26a0 \\u003cb\\u003eDrift detected\\u003c\\u002fb\\u003e\\u003c\\u002fspan\\u003e\",\"[0:149]\",\"Chunk index: \\u003cb\\u003e0\\u003c\\u002fb\\u003e\",0.8652],[\"Classifier AUROC \",\"\\u003cb style=\\\"color:#3b0280;line-height:60px\\\"\\u003eAnalysis\\u003c\\u002fb\\u003e\",\"\\u003cspan style=\\\"color:#AD0000\\\"\\u003e\\u26a0 \\u003cb\\u003eDrift detected\\u003c\\u002fb\\u003e\\u003c\\u002fspan\\u003e\",\"[150:299]\",\"Chunk index: \\u003cb\\u003e1\\u003c\\u002fb\\u003e\",0.8413],[\"Classifier AUROC \",\"\\u003cb style=\\\"color:#3b0280;line-height:60px\\\"\\u003eAnalysis\\u003c\\u002fb\\u003e\",\"\\u003cspan style=\\\"color:#AD0000\\\"\\u003e\\u26a0 \\u003cb\\u003eDrift detected\\u003c\\u002fb\\u003e\\u003c\\u002fspan\\u003e\",\"[300:449]\",\"Chunk index: \\u003cb\\u003e2\\u003c\\u002fb\\u003e\",0.7795],[\"Classifier AUROC \",\"\\u003cb style=\\\"color:#3b0280;line-height:60px\\\"\\u003eAnalysis\\u003c\\u002fb\\u003e\",\"\\u003cspan style=\\\"color:#AD0000\\\"\\u003e\\u26a0 \\u003cb\\u003eDrift detected\\u003c\\u002fb\\u003e\\u003c\\u002fspan\\u003e\",\"[450:599]\",\"Chunk index: \\u003cb\\u003e3\\u003c\\u002fb\\u003e\",0.8207],[\"Classifier AUROC \",\"\\u003cb style=\\\"color:#3b0280;line-height:60px\\\"\\u003eAnalysis\\u003c\\u002fb\\u003e\",\"\\u003cspan style=\\\"color:#AD0000\\\"\\u003e\\u26a0 \\u003cb\\u003eDrift detected\\u003c\\u002fb\\u003e\\u003c\\u002fspan\\u003e\",\"[600:749]\",\"Chunk index: \\u003cb\\u003e4\\u003c\\u002fb\\u003e\",0.7762],[\"Classifier AUROC \",\"\\u003cb style=\\\"color:#3b0280;line-height:60px\\\"\\u003eAnalysis\\u003c\\u002fb\\u003e\",\"\\u003cspan style=\\\"color:#AD0000\\\"\\u003e\\u26a0 \\u003cb\\u003eDrift detected\\u003c\\u002fb\\u003e\\u003c\\u002fspan\\u003e\",\"[750:899]\",\"Chunk index: \\u003cb\\u003e5\\u003c\\u002fb\\u003e\",0.8548],[\"Classifier AUROC \",\"\\u003cb style=\\\"color:#3b0280;line-height:60px\\\"\\u003eAnalysis\\u003c\\u002fb\\u003e\",\"\\u003cspan style=\\\"color:#AD0000\\\"\\u003e\\u26a0 \\u003cb\\u003eDrift detected\\u003c\\u002fb\\u003e\\u003c\\u002fspan\\u003e\",\"[900:1049]\",\"Chunk index: \\u003cb\\u003e6\\u003c\\u002fb\\u003e\",0.8378],[\"Classifier AUROC \",\"\\u003cb style=\\\"color:#3b0280;line-height:60px\\\"\\u003eAnalysis\\u003c\\u002fb\\u003e\",\"\\u003cspan style=\\\"color:#AD0000\\\"\\u003e\\u26a0 \\u003cb\\u003eDrift detected\\u003c\\u002fb\\u003e\\u003c\\u002fspan\\u003e\",\"[1050:1199]\",\"Chunk index: \\u003cb\\u003e7\\u003c\\u002fb\\u003e\",0.7882],[\"Classifier AUROC \",\"\\u003cb style=\\\"color:#3b0280;line-height:60px\\\"\\u003eAnalysis\\u003c\\u002fb\\u003e\",\"\\u003cspan style=\\\"color:#AD0000\\\"\\u003e\\u26a0 \\u003cb\\u003eDrift detected\\u003c\\u002fb\\u003e\\u003c\\u002fspan\\u003e\",\"[1200:1349]\",\"Chunk index: \\u003cb\\u003e8\\u003c\\u002fb\\u003e\",0.8438],[\"Classifier AUROC \",\"\\u003cb style=\\\"color:#3b0280;line-height:60px\\\"\\u003eAnalysis\\u003c\\u002fb\\u003e\",\"\\u003cspan style=\\\"color:#AD0000\\\"\\u003e\\u26a0 \\u003cb\\u003eDrift detected\\u003c\\u002fb\\u003e\\u003c\\u002fspan\\u003e\",\"[1350:1505]\",\"Chunk index: \\u003cb\\u003e9\\u003c\\u002fb\\u003e\",0.8628]],\"hovertemplate\":\"%{customdata[1]} &nbsp; &nbsp; %{customdata[2]} \\u003cbr \\u002f\\u003eChunk: \\u003cb\\u003e%{customdata[3]}\\u003c\\u002fb\\u003e &nbsp; &nbsp; %{customdata[4]} \\u003cbr \\u002f\\u003e%{customdata[0]}: \\u003cb\\u003e%{customdata[5]}\\u003c\\u002fb\\u003e\\u003cb r \\u002f\\u003e\\u003cextra\\u003e\\u003c\\u002fextra\\u003e\",\"legendgroup\":\"metric_analysis\",\"marker\":{\"color\":\"#00c8e5\",\"size\":5,\"symbol\":\"circle\"},\"mode\":\"markers\",\"name\":\"Metric\",\"showlegend\":false,\"x\":[10.5,11.5,12.5,13.5,14.5,15.5,16.5,17.5,18.5,19.5],\"y\":[0.8652294911734164,0.8413208722741432,0.7795264797507788,0.8206604361370717,0.7761744548286604,0.8547622014537901,0.8377570093457942,0.7882076843198338,0.8437507788161994,0.8627805735282371,0.8627805735282371],\"type\":\"scatter\"},{\"hoverinfo\":\"skip\",\"legendgroup\":\"alert\",\"marker\":{\"color\":\"#DD4040\",\"size\":8,\"symbol\":\"diamond\"},\"mode\":\"markers\",\"name\":\"Alert\",\"showlegend\":true,\"x\":[10.5,11.5,12.5,13.5,14.5,15.5,16.5,17.5,18.5,19.5],\"y\":[0.8652294911734164,0.8413208722741432,0.7795264797507788,0.8206604361370717,0.7761744548286604,0.8547622014537901,0.8377570093457942,0.7882076843198338,0.8437507788161994,0.8627805735282371],\"type\":\"scatter\"},{\"hoverinfo\":\"skip\",\"legendgroup\":\"thresh\",\"line\":{\"color\":\"#DD4040\",\"dash\":\"dash\",\"width\":2},\"mode\":\"lines\",\"name\":\"Threshold\",\"showlegend\":false,\"x\":[0,1,2,3,4,5,6,7,8,9,10],\"y\":[0.65,0.65,0.65,0.65,0.65,0.65,0.65,0.65,0.65,0.65,0.65],\"type\":\"scatter\"},{\"hoverinfo\":\"skip\",\"legendgroup\":\"thresh\",\"line\":{\"color\":\"#DD4040\",\"dash\":\"dash\",\"width\":2},\"mode\":\"lines\",\"name\":\"Threshold\",\"showlegend\":false,\"x\":[0,1,2,3,4,5,6,7,8,9,10],\"y\":[0.45,0.45,0.45,0.45,0.45,0.45,0.45,0.45,0.45,0.45,0.45],\"type\":\"scatter\"},{\"hoverinfo\":\"skip\",\"legendgroup\":\"thresh\",\"line\":{\"color\":\"#DD4040\",\"dash\":\"dash\",\"width\":2},\"mode\":\"lines\",\"name\":\"Threshold\",\"showlegend\":false,\"x\":[10,11,12,13,14,15,16,17,18,19,20],\"y\":[0.65,0.65,0.65,0.65,0.65,0.65,0.65,0.65,0.65,0.65,0.65],\"type\":\"scatter\"},{\"hoverinfo\":\"skip\",\"legendgroup\":\"thresh\",\"line\":{\"color\":\"#DD4040\",\"dash\":\"dash\",\"width\":2},\"mode\":\"lines\",\"name\":\"Threshold\",\"showlegend\":false,\"x\":[10,11,12,13,14,15,16,17,18,19,20],\"y\":[0.45,0.45,0.45,0.45,0.45,0.45,0.45,0.45,0.45,0.45,0.45],\"type\":\"scatter\"}],                        {\"hoverlabel\":{\"bgcolor\":\"white\",\"font\":{\"size\":14}},\"legend\":{\"itemclick\":false,\"itemdoubleclick\":false,\"traceorder\":\"grouped\"},\"paper_bgcolor\":\"rgba(255,255,255,1)\",\"plot_bgcolor\":\"rgba(255,255,255,1)\",\"title\":{\"text\":\"Classifier for Drift Detection\"},\"xaxis\":{\"linecolor\":\"#3b0280\",\"mirror\":true,\"showgrid\":false,\"title\":{\"text\":\"Chunk\"},\"zeroline\":false,\"matches\":\"x\"},\"yaxis\":{\"linecolor\":\"#3b0280\",\"mirror\":true,\"showgrid\":false,\"title\":{\"text\":\"Classifier AUROC \"},\"zeroline\":false},\"template\":{\"data\":{\"histogram2dcontour\":[{\"type\":\"histogram2dcontour\",\"colorbar\":{\"outlinewidth\":0,\"ticks\":\"\"},\"colorscale\":[[0.0,\"#0d0887\"],[0.1111111111111111,\"#46039f\"],[0.2222222222222222,\"#7201a8\"],[0.3333333333333333,\"#9c179e\"],[0.4444444444444444,\"#bd3786\"],[0.5555555555555556,\"#d8576b\"],[0.6666666666666666,\"#ed7953\"],[0.7777777777777778,\"#fb9f3a\"],[0.8888888888888888,\"#fdca26\"],[1.0,\"#f0f921\"]]}],\"choropleth\":[{\"type\":\"choropleth\",\"colorbar\":{\"outlinewidth\":0,\"ticks\":\"\"}}],\"histogram2d\":[{\"type\":\"histogram2d\",\"colorbar\":{\"outlinewidth\":0,\"ticks\":\"\"},\"colorscale\":[[0.0,\"#0d0887\"],[0.1111111111111111,\"#46039f\"],[0.2222222222222222,\"#7201a8\"],[0.3333333333333333,\"#9c179e\"],[0.4444444444444444,\"#bd3786\"],[0.5555555555555556,\"#d8576b\"],[0.6666666666666666,\"#ed7953\"],[0.7777777777777778,\"#fb9f3a\"],[0.8888888888888888,\"#fdca26\"],[1.0,\"#f0f921\"]]}],\"heatmap\":[{\"type\":\"heatmap\",\"colorbar\":{\"outlinewidth\":0,\"ticks\":\"\"},\"colorscale\":[[0.0,\"#0d0887\"],[0.1111111111111111,\"#46039f\"],[0.2222222222222222,\"#7201a8\"],[0.3333333333333333,\"#9c179e\"],[0.4444444444444444,\"#bd3786\"],[0.5555555555555556,\"#d8576b\"],[0.6666666666666666,\"#ed7953\"],[0.7777777777777778,\"#fb9f3a\"],[0.8888888888888888,\"#fdca26\"],[1.0,\"#f0f921\"]]}],\"heatmapgl\":[{\"type\":\"heatmapgl\",\"colorbar\":{\"outlinewidth\":0,\"ticks\":\"\"},\"colorscale\":[[0.0,\"#0d0887\"],[0.1111111111111111,\"#46039f\"],[0.2222222222222222,\"#7201a8\"],[0.3333333333333333,\"#9c179e\"],[0.4444444444444444,\"#bd3786\"],[0.5555555555555556,\"#d8576b\"],[0.6666666666666666,\"#ed7953\"],[0.7777777777777778,\"#fb9f3a\"],[0.8888888888888888,\"#fdca26\"],[1.0,\"#f0f921\"]]}],\"contourcarpet\":[{\"type\":\"contourcarpet\",\"colorbar\":{\"outlinewidth\":0,\"ticks\":\"\"}}],\"contour\":[{\"type\":\"contour\",\"colorbar\":{\"outlinewidth\":0,\"ticks\":\"\"},\"colorscale\":[[0.0,\"#0d0887\"],[0.1111111111111111,\"#46039f\"],[0.2222222222222222,\"#7201a8\"],[0.3333333333333333,\"#9c179e\"],[0.4444444444444444,\"#bd3786\"],[0.5555555555555556,\"#d8576b\"],[0.6666666666666666,\"#ed7953\"],[0.7777777777777778,\"#fb9f3a\"],[0.8888888888888888,\"#fdca26\"],[1.0,\"#f0f921\"]]}],\"surface\":[{\"type\":\"surface\",\"colorbar\":{\"outlinewidth\":0,\"ticks\":\"\"},\"colorscale\":[[0.0,\"#0d0887\"],[0.1111111111111111,\"#46039f\"],[0.2222222222222222,\"#7201a8\"],[0.3333333333333333,\"#9c179e\"],[0.4444444444444444,\"#bd3786\"],[0.5555555555555556,\"#d8576b\"],[0.6666666666666666,\"#ed7953\"],[0.7777777777777778,\"#fb9f3a\"],[0.8888888888888888,\"#fdca26\"],[1.0,\"#f0f921\"]]}],\"mesh3d\":[{\"type\":\"mesh3d\",\"colorbar\":{\"outlinewidth\":0,\"ticks\":\"\"}}],\"scatter\":[{\"fillpattern\":{\"fillmode\":\"overlay\",\"size\":10,\"solidity\":0.2},\"type\":\"scatter\"}],\"parcoords\":[{\"type\":\"parcoords\",\"line\":{\"colorbar\":{\"outlinewidth\":0,\"ticks\":\"\"}}}],\"scatterpolargl\":[{\"type\":\"scatterpolargl\",\"marker\":{\"colorbar\":{\"outlinewidth\":0,\"ticks\":\"\"}}}],\"bar\":[{\"error_x\":{\"color\":\"#2a3f5f\"},\"error_y\":{\"color\":\"#2a3f5f\"},\"marker\":{\"line\":{\"color\":\"#E5ECF6\",\"width\":0.5},\"pattern\":{\"fillmode\":\"overlay\",\"size\":10,\"solidity\":0.2}},\"type\":\"bar\"}],\"scattergeo\":[{\"type\":\"scattergeo\",\"marker\":{\"colorbar\":{\"outlinewidth\":0,\"ticks\":\"\"}}}],\"scatterpolar\":[{\"type\":\"scatterpolar\",\"marker\":{\"colorbar\":{\"outlinewidth\":0,\"ticks\":\"\"}}}],\"histogram\":[{\"marker\":{\"pattern\":{\"fillmode\":\"overlay\",\"size\":10,\"solidity\":0.2}},\"type\":\"histogram\"}],\"scattergl\":[{\"type\":\"scattergl\",\"marker\":{\"colorbar\":{\"outlinewidth\":0,\"ticks\":\"\"}}}],\"scatter3d\":[{\"type\":\"scatter3d\",\"line\":{\"colorbar\":{\"outlinewidth\":0,\"ticks\":\"\"}},\"marker\":{\"colorbar\":{\"outlinewidth\":0,\"ticks\":\"\"}}}],\"scattermapbox\":[{\"type\":\"scattermapbox\",\"marker\":{\"colorbar\":{\"outlinewidth\":0,\"ticks\":\"\"}}}],\"scatterternary\":[{\"type\":\"scatterternary\",\"marker\":{\"colorbar\":{\"outlinewidth\":0,\"ticks\":\"\"}}}],\"scattercarpet\":[{\"type\":\"scattercarpet\",\"marker\":{\"colorbar\":{\"outlinewidth\":0,\"ticks\":\"\"}}}],\"carpet\":[{\"aaxis\":{\"endlinecolor\":\"#2a3f5f\",\"gridcolor\":\"white\",\"linecolor\":\"white\",\"minorgridcolor\":\"white\",\"startlinecolor\":\"#2a3f5f\"},\"baxis\":{\"endlinecolor\":\"#2a3f5f\",\"gridcolor\":\"white\",\"linecolor\":\"white\",\"minorgridcolor\":\"white\",\"startlinecolor\":\"#2a3f5f\"},\"type\":\"carpet\"}],\"table\":[{\"cells\":{\"fill\":{\"color\":\"#EBF0F8\"},\"line\":{\"color\":\"white\"}},\"header\":{\"fill\":{\"color\":\"#C8D4E3\"},\"line\":{\"color\":\"white\"}},\"type\":\"table\"}],\"barpolar\":[{\"marker\":{\"line\":{\"color\":\"#E5ECF6\",\"width\":0.5},\"pattern\":{\"fillmode\":\"overlay\",\"size\":10,\"solidity\":0.2}},\"type\":\"barpolar\"}],\"pie\":[{\"automargin\":true,\"type\":\"pie\"}]},\"layout\":{\"autotypenumbers\":\"strict\",\"colorway\":[\"#636efa\",\"#EF553B\",\"#00cc96\",\"#ab63fa\",\"#FFA15A\",\"#19d3f3\",\"#FF6692\",\"#B6E880\",\"#FF97FF\",\"#FECB52\"],\"font\":{\"color\":\"#2a3f5f\"},\"hovermode\":\"closest\",\"hoverlabel\":{\"align\":\"left\"},\"paper_bgcolor\":\"white\",\"plot_bgcolor\":\"#E5ECF6\",\"polar\":{\"bgcolor\":\"#E5ECF6\",\"angularaxis\":{\"gridcolor\":\"white\",\"linecolor\":\"white\",\"ticks\":\"\"},\"radialaxis\":{\"gridcolor\":\"white\",\"linecolor\":\"white\",\"ticks\":\"\"}},\"ternary\":{\"bgcolor\":\"#E5ECF6\",\"aaxis\":{\"gridcolor\":\"white\",\"linecolor\":\"white\",\"ticks\":\"\"},\"baxis\":{\"gridcolor\":\"white\",\"linecolor\":\"white\",\"ticks\":\"\"},\"caxis\":{\"gridcolor\":\"white\",\"linecolor\":\"white\",\"ticks\":\"\"}},\"coloraxis\":{\"colorbar\":{\"outlinewidth\":0,\"ticks\":\"\"}},\"colorscale\":{\"sequential\":[[0.0,\"#0d0887\"],[0.1111111111111111,\"#46039f\"],[0.2222222222222222,\"#7201a8\"],[0.3333333333333333,\"#9c179e\"],[0.4444444444444444,\"#bd3786\"],[0.5555555555555556,\"#d8576b\"],[0.6666666666666666,\"#ed7953\"],[0.7777777777777778,\"#fb9f3a\"],[0.8888888888888888,\"#fdca26\"],[1.0,\"#f0f921\"]],\"sequentialminus\":[[0.0,\"#0d0887\"],[0.1111111111111111,\"#46039f\"],[0.2222222222222222,\"#7201a8\"],[0.3333333333333333,\"#9c179e\"],[0.4444444444444444,\"#bd3786\"],[0.5555555555555556,\"#d8576b\"],[0.6666666666666666,\"#ed7953\"],[0.7777777777777778,\"#fb9f3a\"],[0.8888888888888888,\"#fdca26\"],[1.0,\"#f0f921\"]],\"diverging\":[[0,\"#8e0152\"],[0.1,\"#c51b7d\"],[0.2,\"#de77ae\"],[0.3,\"#f1b6da\"],[0.4,\"#fde0ef\"],[0.5,\"#f7f7f7\"],[0.6,\"#e6f5d0\"],[0.7,\"#b8e186\"],[0.8,\"#7fbc41\"],[0.9,\"#4d9221\"],[1,\"#276419\"]]},\"xaxis\":{\"gridcolor\":\"white\",\"linecolor\":\"white\",\"ticks\":\"\",\"title\":{\"standoff\":15},\"zerolinecolor\":\"white\",\"automargin\":true,\"zerolinewidth\":2},\"yaxis\":{\"gridcolor\":\"white\",\"linecolor\":\"white\",\"ticks\":\"\",\"title\":{\"standoff\":15},\"zerolinecolor\":\"white\",\"automargin\":true,\"zerolinewidth\":2},\"scene\":{\"xaxis\":{\"backgroundcolor\":\"#E5ECF6\",\"gridcolor\":\"white\",\"linecolor\":\"white\",\"showbackground\":true,\"ticks\":\"\",\"zerolinecolor\":\"white\",\"gridwidth\":2},\"yaxis\":{\"backgroundcolor\":\"#E5ECF6\",\"gridcolor\":\"white\",\"linecolor\":\"white\",\"showbackground\":true,\"ticks\":\"\",\"zerolinecolor\":\"white\",\"gridwidth\":2},\"zaxis\":{\"backgroundcolor\":\"#E5ECF6\",\"gridcolor\":\"white\",\"linecolor\":\"white\",\"showbackground\":true,\"ticks\":\"\",\"zerolinecolor\":\"white\",\"gridwidth\":2}},\"shapedefaults\":{\"line\":{\"color\":\"#2a3f5f\"}},\"annotationdefaults\":{\"arrowcolor\":\"#2a3f5f\",\"arrowhead\":0,\"arrowwidth\":1},\"geo\":{\"bgcolor\":\"white\",\"landcolor\":\"#E5ECF6\",\"subunitcolor\":\"white\",\"showland\":true,\"showlakes\":true,\"lakecolor\":\"white\"},\"title\":{\"x\":0.05},\"mapbox\":{\"style\":\"light\"}}},\"shapes\":[{\"layer\":\"below\",\"line\":{\"color\":\"#666666\",\"width\":1},\"type\":\"line\",\"x0\":10,\"x1\":10,\"xref\":\"x\",\"y0\":0,\"y1\":1,\"yref\":\"y domain\"}],\"annotations\":[{\"showarrow\":false,\"text\":\"Reference\",\"x\":4.5,\"xshift\":10,\"y\":1.01,\"yref\":\"y domain\"},{\"showarrow\":false,\"text\":\"Analysis\",\"x\":14.5,\"xshift\":15,\"y\":1.01,\"yref\":\"y domain\"}]},                        {\"responsive\": true}                    ).then(function(){\n",
       "                            \n",
       "var gd = document.getElementById('192d37ee-1f37-4561-99aa-2c0c04871d61');\n",
       "var x = new MutationObserver(function (mutations, observer) {{\n",
       "        var display = window.getComputedStyle(gd).display;\n",
       "        if (!display || display === 'none') {{\n",
       "            console.log([gd, 'removed!']);\n",
       "            Plotly.purge(gd);\n",
       "            observer.disconnect();\n",
       "        }}\n",
       "}});\n",
       "\n",
       "// Listen for the removal of the full notebook cells\n",
       "var notebookContainer = gd.closest('#notebook-container');\n",
       "if (notebookContainer) {{\n",
       "    x.observe(notebookContainer, {childList: true});\n",
       "}}\n",
       "\n",
       "// Listen for the clearing of the current output cell\n",
       "var outputEl = gd.closest('.output');\n",
       "if (outputEl) {{\n",
       "    x.observe(outputEl, {childList: true});\n",
       "}}\n",
       "\n",
       "                        })                };                });            </script>        </div>"
      ]
     },
     "metadata": {},
     "output_type": "display_data"
    }
   ],
   "source": [
    "calc = nml.DriftDetectionClassifierCalculator(feature_column_names=lista_caracteristicas)\n",
    "\n",
    "# reference data\n",
    "calc.fit(X_enade_treino)\n",
    "\n",
    "# analysis data\n",
    "results = calc.calculate(X_enade_teste)\n",
    "\n",
    "display(results.filter(period='analysis').to_df())\n",
    "\n",
    "display(results.filter(period='reference').to_df())\n",
    "\n",
    "figure = results.plot()\n",
    "figure.show()"
   ]
  }
 ],
 "metadata": {
  "kernelspec": {
   "display_name": "Python 3 (ipykernel)",
   "language": "python",
   "name": "python3"
  },
  "language_info": {
   "codemirror_mode": {
    "name": "ipython",
    "version": 3
   },
   "file_extension": ".py",
   "mimetype": "text/x-python",
   "name": "python",
   "nbconvert_exporter": "python",
   "pygments_lexer": "ipython3",
   "version": "3.10.9"
  }
 },
 "nbformat": 4,
 "nbformat_minor": 5
}
