{
 "cells": [
  {
   "cell_type": "code",
   "execution_count": 12,
   "id": "9369b34b-e4af-4ecb-91ec-10c1af31ab6b",
   "metadata": {},
   "outputs": [],
   "source": [
    "import numpy as np\n",
    "import pandas as pd\n",
    "\n",
    "from skmultiflow.meta import OzaBaggingADWINClassifier\n",
    "from skmultiflow.lazy import KNNClassifier\n",
    "from sklearn.preprocessing import StandardScaler"
   ]
  },
  {
   "cell_type": "markdown",
   "id": "d1c06851-c1cf-4ba5-85e5-d4cd194b6420",
   "metadata": {},
   "source": [
    "### Uso do KNN com um método de detecção de Drift"
   ]
  },
  {
   "cell_type": "code",
   "execution_count": 13,
   "id": "bd8f5af7-26ed-4763-a9f4-d094ccb1a37d",
   "metadata": {},
   "outputs": [],
   "source": [
    "clf = OzaBaggingADWINClassifier(base_estimator=KNNClassifier(metric='euclidean', n_neighbors=3), n_estimators=2)\n",
    "sample_count = 0\n",
    "corrects = 0"
   ]
  },
  {
   "cell_type": "markdown",
   "id": "51b2c985-0b42-4faa-b7b9-bfdc40481829",
   "metadata": {},
   "source": [
    "### Carregamento dos dados de 2011"
   ]
  },
  {
   "cell_type": "code",
   "execution_count": 14,
   "id": "421d5568-874a-47d8-89c7-f117e08aeaff",
   "metadata": {},
   "outputs": [],
   "source": [
    "enade_treino = pd.read_csv(\"../concept_drift/tabela_final_2011_treinamento.csv\")\n",
    "\n",
    "numero_caracteristicas = enade_treino.shape[1] - 1\n",
    "X_enade_treino = enade_treino.iloc[:, 0:numero_caracteristicas]\n",
    "y_enade_treino = enade_treino.iloc[:, -1]\n",
    "\n",
    "normalizador_treinamento = StandardScaler()\n",
    "\n",
    "normalizador_treinamento.fit(X_enade_treino)\n",
    "treinamento_normalizado = normalizador_treinamento.transform(X_enade_treino)\n",
    "\n",
    "clf = clf.partial_fit(treinamento_normalizado, y_enade_treino, classes=[1,2,3,4,5])"
   ]
  },
  {
   "cell_type": "markdown",
   "id": "e05b71e2-8e70-4023-bba8-41c9c2dc1706",
   "metadata": {},
   "source": [
    "### Carregamento dos dados de 2014, 2017 e 2021"
   ]
  },
  {
   "cell_type": "code",
   "execution_count": 16,
   "id": "905476a0-a937-4040-9566-6fcf47d6e820",
   "metadata": {},
   "outputs": [
    {
     "name": "stdout",
     "output_type": "stream",
     "text": [
      "<class 'pandas.core.series.Series'>\n"
     ]
    }
   ],
   "source": [
    "enade_teste = pd.read_csv(\"../concept_drift/tabela_final_14-17-21_treinamento.csv\")\n",
    "\n",
    "numero_caracteristicas = enade_teste.shape[1] - 1\n",
    "X_enade_teste = enade_teste.iloc[:, 0:numero_caracteristicas]\n",
    "y_enade_teste = enade_teste.iloc[:, -1]\n",
    "\n",
    "normalizador_teste = StandardScaler()\n",
    "\n",
    "normalizador_teste.fit(X_enade_teste)\n",
    "teste_normalizado = normalizador_teste.transform(X_enade_teste)"
   ]
  },
  {
   "cell_type": "markdown",
   "id": "91c027d2-03a9-4bc4-a3e7-764cce28f86b",
   "metadata": {},
   "source": [
    "### Execução do código quickstart (falha)"
   ]
  },
  {
   "cell_type": "code",
   "execution_count": 65,
   "id": "983bf8ae-66a8-45a5-bc54-f2a5fc0025bd",
   "metadata": {},
   "outputs": [
    {
     "ename": "ValueError",
     "evalue": "Inconsistent number of features in X: 1, previously observed 168.",
     "output_type": "error",
     "traceback": [
      "\u001b[0;31m---------------------------------------------------------------------------\u001b[0m",
      "\u001b[0;31mValueError\u001b[0m                                Traceback (most recent call last)",
      "\u001b[0;32m/tmp/ipykernel_69592/1581023144.py\u001b[0m in \u001b[0;36m<cell line: 1>\u001b[0;34m()\u001b[0m\n\u001b[1;32m      1\u001b[0m \u001b[0;32mfor\u001b[0m \u001b[0mindex\u001b[0m\u001b[0;34m,\u001b[0m \u001b[0mlinha\u001b[0m \u001b[0;32min\u001b[0m \u001b[0menumerate\u001b[0m\u001b[0;34m(\u001b[0m\u001b[0mteste_normalizado\u001b[0m\u001b[0;34m)\u001b[0m\u001b[0;34m:\u001b[0m\u001b[0;34m\u001b[0m\u001b[0;34m\u001b[0m\u001b[0m\n\u001b[1;32m      2\u001b[0m     \u001b[0mpred\u001b[0m \u001b[0;34m=\u001b[0m \u001b[0mclf\u001b[0m\u001b[0;34m.\u001b[0m\u001b[0mpredict\u001b[0m\u001b[0;34m(\u001b[0m\u001b[0mlinha\u001b[0m\u001b[0;34m)\u001b[0m\u001b[0;34m\u001b[0m\u001b[0;34m\u001b[0m\u001b[0m\n\u001b[0;32m----> 3\u001b[0;31m     \u001b[0mclf\u001b[0m \u001b[0;34m=\u001b[0m \u001b[0mclf\u001b[0m\u001b[0;34m.\u001b[0m\u001b[0mpartial_fit\u001b[0m\u001b[0;34m(\u001b[0m\u001b[0mpd\u001b[0m\u001b[0;34m.\u001b[0m\u001b[0mDataFrame\u001b[0m\u001b[0;34m(\u001b[0m\u001b[0;34m[\u001b[0m\u001b[0mlinha\u001b[0m\u001b[0;34m]\u001b[0m\u001b[0;34m,\u001b[0m \u001b[0mcolumns\u001b[0m\u001b[0;34m=\u001b[0m\u001b[0mnp\u001b[0m\u001b[0;34m.\u001b[0m\u001b[0marange\u001b[0m\u001b[0;34m(\u001b[0m\u001b[0;36m168\u001b[0m\u001b[0;34m)\u001b[0m\u001b[0;34m)\u001b[0m\u001b[0;34m,\u001b[0m \u001b[0;34m[\u001b[0m\u001b[0my_enade_teste\u001b[0m\u001b[0;34m.\u001b[0m\u001b[0mvalues\u001b[0m\u001b[0;34m[\u001b[0m\u001b[0mindex\u001b[0m\u001b[0;34m]\u001b[0m\u001b[0;34m]\u001b[0m\u001b[0;34m)\u001b[0m\u001b[0;34m\u001b[0m\u001b[0;34m\u001b[0m\u001b[0m\n\u001b[0m\u001b[1;32m      4\u001b[0m     \u001b[0;32mif\u001b[0m \u001b[0mpred\u001b[0m \u001b[0;32mis\u001b[0m \u001b[0;32mnot\u001b[0m \u001b[0;32mNone\u001b[0m\u001b[0;34m:\u001b[0m\u001b[0;34m\u001b[0m\u001b[0;34m\u001b[0m\u001b[0m\n\u001b[1;32m      5\u001b[0m         \u001b[0;32mif\u001b[0m \u001b[0my_enade_teste\u001b[0m\u001b[0;34m.\u001b[0m\u001b[0mvalues\u001b[0m\u001b[0;34m[\u001b[0m\u001b[0mindex\u001b[0m\u001b[0;34m]\u001b[0m \u001b[0;34m==\u001b[0m \u001b[0mpred\u001b[0m\u001b[0;34m[\u001b[0m\u001b[0;36m0\u001b[0m\u001b[0;34m]\u001b[0m\u001b[0;34m:\u001b[0m\u001b[0;34m\u001b[0m\u001b[0;34m\u001b[0m\u001b[0m\n",
      "\u001b[0;32m~/miniconda3/lib/python3.10/site-packages/skmultiflow/meta/oza_bagging_adwin.py\u001b[0m in \u001b[0;36mpartial_fit\u001b[0;34m(self, X, y, classes, sample_weight)\u001b[0m\n\u001b[1;32m    167\u001b[0m             \u001b[0;32mif\u001b[0m \u001b[0mk\u001b[0m \u001b[0;34m>\u001b[0m \u001b[0;36m0\u001b[0m\u001b[0;34m:\u001b[0m\u001b[0;34m\u001b[0m\u001b[0;34m\u001b[0m\u001b[0m\n\u001b[1;32m    168\u001b[0m                 \u001b[0;32mfor\u001b[0m \u001b[0mb\u001b[0m \u001b[0;32min\u001b[0m \u001b[0mrange\u001b[0m\u001b[0;34m(\u001b[0m\u001b[0mk\u001b[0m\u001b[0;34m)\u001b[0m\u001b[0;34m:\u001b[0m\u001b[0;34m\u001b[0m\u001b[0;34m\u001b[0m\u001b[0m\n\u001b[0;32m--> 169\u001b[0;31m                     \u001b[0mself\u001b[0m\u001b[0;34m.\u001b[0m\u001b[0mensemble\u001b[0m\u001b[0;34m[\u001b[0m\u001b[0mi\u001b[0m\u001b[0;34m]\u001b[0m\u001b[0;34m.\u001b[0m\u001b[0mpartial_fit\u001b[0m\u001b[0;34m(\u001b[0m\u001b[0mX\u001b[0m\u001b[0;34m,\u001b[0m \u001b[0my\u001b[0m\u001b[0;34m,\u001b[0m \u001b[0mclasses\u001b[0m\u001b[0;34m,\u001b[0m \u001b[0msample_weight\u001b[0m\u001b[0;34m)\u001b[0m\u001b[0;34m\u001b[0m\u001b[0;34m\u001b[0m\u001b[0m\n\u001b[0m\u001b[1;32m    170\u001b[0m \u001b[0;34m\u001b[0m\u001b[0m\n\u001b[1;32m    171\u001b[0m             \u001b[0;32mtry\u001b[0m\u001b[0;34m:\u001b[0m\u001b[0;34m\u001b[0m\u001b[0;34m\u001b[0m\u001b[0m\n",
      "\u001b[0;32m~/miniconda3/lib/python3.10/site-packages/skmultiflow/lazy/knn_classifier.py\u001b[0m in \u001b[0;36mpartial_fit\u001b[0;34m(self, X, y, classes, sample_weight)\u001b[0m\n\u001b[1;32m    128\u001b[0m \u001b[0;34m\u001b[0m\u001b[0m\n\u001b[1;32m    129\u001b[0m         \u001b[0;32mfor\u001b[0m \u001b[0mi\u001b[0m \u001b[0;32min\u001b[0m \u001b[0mrange\u001b[0m\u001b[0;34m(\u001b[0m\u001b[0mr\u001b[0m\u001b[0;34m)\u001b[0m\u001b[0;34m:\u001b[0m\u001b[0;34m\u001b[0m\u001b[0;34m\u001b[0m\u001b[0m\n\u001b[0;32m--> 130\u001b[0;31m             \u001b[0mself\u001b[0m\u001b[0;34m.\u001b[0m\u001b[0mdata_window\u001b[0m\u001b[0;34m.\u001b[0m\u001b[0madd_sample\u001b[0m\u001b[0;34m(\u001b[0m\u001b[0mX\u001b[0m\u001b[0;34m[\u001b[0m\u001b[0mi\u001b[0m\u001b[0;34m]\u001b[0m\u001b[0;34m,\u001b[0m \u001b[0my\u001b[0m\u001b[0;34m[\u001b[0m\u001b[0mi\u001b[0m\u001b[0;34m]\u001b[0m\u001b[0;34m)\u001b[0m\u001b[0;34m\u001b[0m\u001b[0;34m\u001b[0m\u001b[0m\n\u001b[0m\u001b[1;32m    131\u001b[0m         \u001b[0;32mreturn\u001b[0m \u001b[0mself\u001b[0m\u001b[0;34m\u001b[0m\u001b[0;34m\u001b[0m\u001b[0m\n\u001b[1;32m    132\u001b[0m \u001b[0;34m\u001b[0m\u001b[0m\n",
      "\u001b[0;32m~/miniconda3/lib/python3.10/site-packages/skmultiflow/utils/data_structures.py\u001b[0m in \u001b[0;36madd_sample\u001b[0;34m(self, X, y)\u001b[0m\n\u001b[1;32m    943\u001b[0m \u001b[0;34m\u001b[0m\u001b[0m\n\u001b[1;32m    944\u001b[0m         \u001b[0;32mif\u001b[0m \u001b[0mself\u001b[0m\u001b[0;34m.\u001b[0m\u001b[0m_n_features\u001b[0m \u001b[0;34m!=\u001b[0m \u001b[0mget_dimensions\u001b[0m\u001b[0;34m(\u001b[0m\u001b[0mX\u001b[0m\u001b[0;34m)\u001b[0m\u001b[0;34m[\u001b[0m\u001b[0;36m1\u001b[0m\u001b[0;34m]\u001b[0m\u001b[0;34m:\u001b[0m\u001b[0;34m\u001b[0m\u001b[0;34m\u001b[0m\u001b[0m\n\u001b[0;32m--> 945\u001b[0;31m             raise ValueError(\"Inconsistent number of features in X: {}, previously observed {}.\".\n\u001b[0m\u001b[1;32m    946\u001b[0m                              format(get_dimensions(X)[1], self._n_features))\n\u001b[1;32m    947\u001b[0m \u001b[0;34m\u001b[0m\u001b[0m\n",
      "\u001b[0;31mValueError\u001b[0m: Inconsistent number of features in X: 1, previously observed 168."
     ]
    }
   ],
   "source": [
    "for index, linha in enumerate(teste_normalizado):\n",
    "    pred = clf.predict(linha)\n",
    "    clf = clf.partial_fit(pd.DataFrame([linha], columns=np.arange(168)), [y_enade_teste.values[index]])\n",
    "    if pred is not None:\n",
    "        if y_enade_teste.values[index] == pred[0]:\n",
    "            corrects += 1\n",
    "    sample_count += 1"
   ]
  },
  {
   "cell_type": "code",
   "execution_count": null,
   "id": "d4a49e13-0818-460c-91b7-32cebe9c286f",
   "metadata": {},
   "outputs": [],
   "source": [
    "print(str(sample_count) + ' samples analyzed.')\n",
    "print('OzaBaggingADWINClassifier performance: ' + str(corrects / sample_count))"
   ]
  }
 ],
 "metadata": {
  "kernelspec": {
   "display_name": "Python 3 (ipykernel)",
   "language": "python",
   "name": "python3"
  },
  "language_info": {
   "codemirror_mode": {
    "name": "ipython",
    "version": 3
   },
   "file_extension": ".py",
   "mimetype": "text/x-python",
   "name": "python",
   "nbconvert_exporter": "python",
   "pygments_lexer": "ipython3",
   "version": "3.10.9"
  }
 },
 "nbformat": 4,
 "nbformat_minor": 5
}
