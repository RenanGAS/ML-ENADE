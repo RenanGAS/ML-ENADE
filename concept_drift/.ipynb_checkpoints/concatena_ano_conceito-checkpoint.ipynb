{
 "cells": [
  {
   "cell_type": "code",
   "execution_count": 1,
   "id": "ac50071a-3478-433e-ac98-ff6d3f42bd5a",
   "metadata": {},
   "outputs": [],
   "source": [
    "import pandas as pd"
   ]
  },
  {
   "cell_type": "code",
   "execution_count": 21,
   "id": "02d9e1b8-8819-41f3-a72a-64e21af2bfbc",
   "metadata": {},
   "outputs": [],
   "source": [
    "ano = 2011"
   ]
  },
  {
   "cell_type": "code",
   "execution_count": 22,
   "id": "98148e4a-11b4-4ad4-894b-edba77415e94",
   "metadata": {},
   "outputs": [],
   "source": [
    "df_conceito = pd.read_csv(f'../conceito_enade_{ano}.csv')\n",
    "\n",
    "df_conceito_faixa = df_conceito[['Nota_Conceito_Faixa']].copy()"
   ]
  },
  {
   "cell_type": "code",
   "execution_count": 23,
   "id": "8c6b3551-dc0f-4961-947a-69b57f1c706c",
   "metadata": {},
   "outputs": [
    {
     "data": {
      "text/html": [
       "<div>\n",
       "<style scoped>\n",
       "    .dataframe tbody tr th:only-of-type {\n",
       "        vertical-align: middle;\n",
       "    }\n",
       "\n",
       "    .dataframe tbody tr th {\n",
       "        vertical-align: top;\n",
       "    }\n",
       "\n",
       "    .dataframe thead th {\n",
       "        text-align: right;\n",
       "    }\n",
       "</style>\n",
       "<table border=\"1\" class=\"dataframe\">\n",
       "  <thead>\n",
       "    <tr style=\"text-align: right;\">\n",
       "      <th></th>\n",
       "      <th>Nota_Conceito_Faixa</th>\n",
       "    </tr>\n",
       "  </thead>\n",
       "  <tbody>\n",
       "    <tr>\n",
       "      <th>0</th>\n",
       "      <td>3</td>\n",
       "    </tr>\n",
       "    <tr>\n",
       "      <th>1</th>\n",
       "      <td>4</td>\n",
       "    </tr>\n",
       "    <tr>\n",
       "      <th>2</th>\n",
       "      <td>3</td>\n",
       "    </tr>\n",
       "    <tr>\n",
       "      <th>3</th>\n",
       "      <td>3</td>\n",
       "    </tr>\n",
       "    <tr>\n",
       "      <th>4</th>\n",
       "      <td>3</td>\n",
       "    </tr>\n",
       "    <tr>\n",
       "      <th>...</th>\n",
       "      <td>...</td>\n",
       "    </tr>\n",
       "    <tr>\n",
       "      <th>1217</th>\n",
       "      <td>3</td>\n",
       "    </tr>\n",
       "    <tr>\n",
       "      <th>1218</th>\n",
       "      <td>2</td>\n",
       "    </tr>\n",
       "    <tr>\n",
       "      <th>1219</th>\n",
       "      <td>4</td>\n",
       "    </tr>\n",
       "    <tr>\n",
       "      <th>1220</th>\n",
       "      <td>5</td>\n",
       "    </tr>\n",
       "    <tr>\n",
       "      <th>1221</th>\n",
       "      <td>5</td>\n",
       "    </tr>\n",
       "  </tbody>\n",
       "</table>\n",
       "<p>1222 rows × 1 columns</p>\n",
       "</div>"
      ],
      "text/plain": [
       "      Nota_Conceito_Faixa\n",
       "0                       3\n",
       "1                       4\n",
       "2                       3\n",
       "3                       3\n",
       "4                       3\n",
       "...                   ...\n",
       "1217                    3\n",
       "1218                    2\n",
       "1219                    4\n",
       "1220                    5\n",
       "1221                    5\n",
       "\n",
       "[1222 rows x 1 columns]"
      ]
     },
     "execution_count": 23,
     "metadata": {},
     "output_type": "execute_result"
    }
   ],
   "source": [
    "df_conceito_faixa"
   ]
  },
  {
   "cell_type": "code",
   "execution_count": 24,
   "id": "074caee0-cf14-4375-a5cf-ec50e9381359",
   "metadata": {},
   "outputs": [],
   "source": [
    "df_enade = pd.read_csv(f'./tabela_final_{ano}.csv')"
   ]
  },
  {
   "cell_type": "code",
   "execution_count": 25,
   "id": "839686d5-a8f7-49d4-8354-30638bdf9ab2",
   "metadata": {},
   "outputs": [],
   "source": [
    "df_tabela_final_treinamento = pd.concat([df_enade, df_conceito_faixa], axis=1)"
   ]
  },
  {
   "cell_type": "code",
   "execution_count": 26,
   "id": "d074cf55-2612-46ab-ac2d-fe640c36f5c1",
   "metadata": {},
   "outputs": [],
   "source": [
    "df_tabela_final_treinamento.to_csv(f'./tabela_final_{ano}_treinamento.csv',index=False)"
   ]
  },
  {
   "cell_type": "code",
   "execution_count": null,
   "id": "1ea7b5b0-533c-421d-89b6-5a3b20ad5156",
   "metadata": {},
   "outputs": [],
   "source": []
  }
 ],
 "metadata": {
  "kernelspec": {
   "display_name": "Python 3 (ipykernel)",
   "language": "python",
   "name": "python3"
  },
  "language_info": {
   "codemirror_mode": {
    "name": "ipython",
    "version": 3
   },
   "file_extension": ".py",
   "mimetype": "text/x-python",
   "name": "python",
   "nbconvert_exporter": "python",
   "pygments_lexer": "ipython3",
   "version": "3.10.9"
  }
 },
 "nbformat": 4,
 "nbformat_minor": 5
}
