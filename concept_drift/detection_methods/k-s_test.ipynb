{
 "cells": [
  {
   "cell_type": "markdown",
   "id": "68c5b08e-2f1b-423e-84a2-9abe2163612d",
   "metadata": {},
   "source": [
    "## **Análise dos métodos de detecção de Data drift da biblioteca Deepchecks**"
   ]
  },
  {
   "cell_type": "code",
   "execution_count": 1,
   "id": "83338fa2-4186-47a3-b233-bd3f66fc6ec3",
   "metadata": {},
   "outputs": [],
   "source": [
    "import pandas as pd\n",
    "import numpy as np\n",
    "\n",
    "import matplotlib.pyplot as plt\n",
    "import seaborn as sns\n",
    "import seaborn as sns1"
   ]
  },
  {
   "cell_type": "markdown",
   "id": "79760c59-04d8-4d71-a5e9-d776aef2067c",
   "metadata": {},
   "source": [
    "### **Feature Drift**"
   ]
  },
  {
   "cell_type": "markdown",
   "id": "546fdfc1-c2ba-4b1c-8295-96c7a9f5b66a",
   "metadata": {},
   "source": [
    "#### **Característica alvo: \"Nenhum\"**"
   ]
  },
  {
   "cell_type": "code",
   "execution_count": 2,
   "id": "09a2d0aa-45f9-41e4-8489-0bf276dfbb51",
   "metadata": {},
   "outputs": [
    {
     "name": "stdout",
     "output_type": "stream",
     "text": [
      "0.829518283954788\n",
      "1605\n"
     ]
    }
   ],
   "source": [
    "enade_treino = pd.read_csv(\"../../concept_drift/tabela_final_2017_treinamento.csv\")\n",
    "print(enade_treino[\"Numero_Participantes\"].mean())\n",
    "print(len(enade_treino[\"Numero_Participantes\"]))"
   ]
  },
  {
   "cell_type": "code",
   "execution_count": 3,
   "id": "53cbfac4-1a4f-4fc2-b028-708e9fcbfd18",
   "metadata": {},
   "outputs": [
    {
     "name": "stdout",
     "output_type": "stream",
     "text": [
      "0.7650466057487378\n",
      "1506\n"
     ]
    }
   ],
   "source": [
    "enade_teste = pd.read_csv(\"../../concept_drift/tabela_final_2021_treinamento.csv\")\n",
    "print(enade_teste[\"Numero_Participantes\"].mean())\n",
    "print(len(enade_teste[\"Numero_Participantes\"]))"
   ]
  },
  {
   "cell_type": "markdown",
   "id": "7eedd36c-7b50-4e84-82b0-1c2d848ea638",
   "metadata": {},
   "source": [
    "### **ECDF** (Empirical Cumulative Distribution Function)"
   ]
  },
  {
   "cell_type": "markdown",
   "id": "2d7aed51-3213-4721-9d13-f82a849eac89",
   "metadata": {},
   "source": [
    "An empirical distribution function is the function associated with the empirical measure of a sample. This cumulative distribution function is a step function that jumps up by 1/n at each of the n data points. Its value at any **specified value** of the measured variable is **the fraction of observations** of the measured variable that are **less than or equal to the specified value**."
   ]
  },
  {
   "cell_type": "markdown",
   "id": "aa5a9ec3-b091-418e-a9ff-e897294c1974",
   "metadata": {},
   "source": [
    "No contexto do Enade, temos que o ECDF apresenta a fração $\\mathcal{Y}$ de cursos de computação que apresentam uma porcentagem menor ou igual a $\\mathcal{X}$ de alunos que escolheram a alternativa \"Nenhum\" para uma determinada questão.\n",
    "\n",
    "Pergunta: Se não tivéssemos feito a transformação dos valores para porcentagens, estaria tudo certo? Ou transformar para porcentagens foi necessário? A normalização faria mesma coisa? Como a normalização faz parte do Pipeline de treinamento do modelo e não da formação do conjunto em si, talvez a transformação como operação canônica para formação do conjunto tem seu valor?"
   ]
  },
  {
   "cell_type": "markdown",
   "id": "7b6152fb-98de-4fb5-ba81-44daeb181aa0",
   "metadata": {},
   "source": [
    "- Forma antiga de calcular o **ECDF** utilizando a biblioteca Seaborn:"
   ]
  },
  {
   "cell_type": "code",
   "execution_count": null,
   "id": "5d2b60ba-d470-4d2d-897d-e7163a6c42f8",
   "metadata": {},
   "outputs": [],
   "source": [
    "teste = sns.ecdfplot(enade_teste[\"Nenhum\"]).get_lines()[0].get_data()\n",
    "treino = sns1.ecdfplot(enade_treino[\"Nenhum\"]).get_lines()[0].get_data()"
   ]
  },
  {
   "cell_type": "code",
   "execution_count": null,
   "id": "8d810173-0918-43c7-ac24-c49c58de9c38",
   "metadata": {},
   "outputs": [],
   "source": [
    "data_points_teste = sns.ecdfplot(enade_teste[\"Nenhum\"]).get_lines()[0].get_data()[0]\n",
    "data_points_treino = sns.ecdfplot(enade_treino[\"Nenhum\"]).get_lines()[0].get_data()[0]"
   ]
  },
  {
   "cell_type": "code",
   "execution_count": null,
   "id": "f537d0ba-a40b-405a-8a47-10c24f468e50",
   "metadata": {},
   "outputs": [],
   "source": [
    "common_set = set(data_points_teste) & set(data_points_treino)"
   ]
  },
  {
   "cell_type": "markdown",
   "id": "3bfcb7ef-482d-49e7-a7e3-582f38eaf0d5",
   "metadata": {},
   "source": [
    "- Forma antiga de calcular a métrica **K-S test**:"
   ]
  },
  {
   "cell_type": "code",
   "execution_count": null,
   "id": "8048d05c-4087-49d0-a8ad-a8fa48b3ff59",
   "metadata": {},
   "outputs": [],
   "source": [
    "# Calculate the K-S test metric for two CDF 'teste' e 'treino' on the measured variable \"Nenhum\"\n",
    "\n",
    "max = 0\n",
    "\n",
    "for i in common_set:\n",
    "    print(i)\n",
    "    index_teste = np.where(teste[0] == i)[0][0]\n",
    "    print(index_teste[0][0])\n",
    "    index_treino = np.where(treino[0] == i)[0][0]\n",
    "    print(index_treino)\n",
    "    \n",
    "    diff = teste[1][index_teste] - treino[1][index_treino]\n",
    "    \n",
    "    if diff < 0:\n",
    "        diff = diff * -1\n",
    "   \n",
    "    if diff > max:\n",
    "        max = diff\n",
    "\n",
    "print(max)"
   ]
  },
  {
   "cell_type": "markdown",
   "id": "e410e9c2-c1a0-4b6e-a7e8-139843db62c6",
   "metadata": {},
   "source": [
    "- Nova forma de calcular o **ECDF**:"
   ]
  },
  {
   "cell_type": "code",
   "execution_count": 4,
   "id": "dc32a352-f921-4983-b46c-79a2ade7818d",
   "metadata": {},
   "outputs": [],
   "source": [
    "# Create a sorted series of unique data (from the measured variable \"Nenhum\")\n",
    "# The unique operation is done for the sake of the evenly spaced sequence operation below\n",
    "# The sorting is for the probability calculation of each x_values in the loop\n",
    "data_points = np.sort(enade_treino[\"Numero_Participantes\"].unique())\n",
    "\n",
    "# X-data for the ECDF: evenly spaced sequence of the uniques\n",
    "# By doing this (evenly spaced sequence), the graph is smooth until the end\n",
    "# Step function (for the evenly spaced sequence): (stop - start)/(num - 1)\n",
    "x_values = np.linspace(start=min(data_points), stop=max(data_points),num=len(data_points))"
   ]
  },
  {
   "cell_type": "code",
   "execution_count": 5,
   "id": "62c147a1-16aa-4133-97ff-66ad7ff4d210",
   "metadata": {},
   "outputs": [],
   "source": [
    "# Total number of observations\n",
    "data_size_treino = enade_treino[\"Numero_Participantes\"].size\n",
    "\n",
    "# Y-data for the ECDF:\n",
    "y_values_treino = []\n",
    "\n",
    "for i in x_values:\n",
    "    # All the values in raw data less than the ith value in x_values\n",
    "    temp = enade_treino[\"Numero_Participantes\"][enade_treino[\"Numero_Participantes\"] <= i]\n",
    "    \n",
    "    # Fraction of that range of values with respect to the total number of observations\n",
    "    value = temp.size / data_size_treino\n",
    "    \n",
    "    # Pushing the fraction (cumulative probability of the ith value in x_values) in the y_values\n",
    "    y_values_treino.append(value)"
   ]
  },
  {
   "cell_type": "code",
   "execution_count": 6,
   "id": "25e762e5-7c23-46da-9817-4eadf5ff9e8c",
   "metadata": {},
   "outputs": [],
   "source": [
    "# Total number of observations\n",
    "data_size_teste = enade_teste[\"Numero_Participantes\"].size\n",
    "\n",
    "# Y-data for the ECDF:\n",
    "y_values_teste = []\n",
    "\n",
    "for i in x_values:\n",
    "    # All the values in raw data less than the ith value in x_values\n",
    "    temp = enade_teste[\"Numero_Participantes\"][enade_teste[\"Numero_Participantes\"] <= i]\n",
    "    \n",
    "    # Fraction of that range of values with respect to the total number of observations\n",
    "    value = temp.size / data_size_teste\n",
    "    \n",
    "    # Pushing the fraction (cumulative probability of the ith value in x_values) in the y_values\n",
    "    y_values_teste.append(value)"
   ]
  },
  {
   "cell_type": "code",
   "execution_count": 7,
   "id": "59b67c76-b8a4-4bd2-8fc5-8a5d330c5fe8",
   "metadata": {},
   "outputs": [
    {
     "name": "stdout",
     "output_type": "stream",
     "text": [
      "0.2159883829169304\n"
     ]
    }
   ],
   "source": [
    "# Calculate the K-S test metric for two CDF 'teste' e 'treino' on the measured variable \"Nenhum\"\n",
    "\n",
    "max = 0\n",
    "\n",
    "for i in range(0, len(x_values)):\n",
    "    diff = y_values_teste[i] - y_values_treino[i]\n",
    "    \n",
    "    if diff < 0:\n",
    "        diff = diff * -1\n",
    "   \n",
    "    if diff > max:\n",
    "        max = diff\n",
    "\n",
    "print(max)"
   ]
  },
  {
   "cell_type": "code",
   "execution_count": null,
   "id": "1e7c5cda-7dcc-4488-aeda-b2a8a773bc2b",
   "metadata": {},
   "outputs": [],
   "source": [
    "_ = plt.plot(x_values, y_values_treino, marker='.', linestyle='none')\n",
    "_ = plt.xlabel('Percentage of students who choose the \\'Nenhum\\' option')\n",
    "_ = plt.ylabel('Percentage of computer courses')\n",
    "plt.margins(0.02)"
   ]
  }
 ],
 "metadata": {
  "kernelspec": {
   "display_name": "Python 3 (ipykernel)",
   "language": "python",
   "name": "python3"
  },
  "language_info": {
   "codemirror_mode": {
    "name": "ipython",
    "version": 3
   },
   "file_extension": ".py",
   "mimetype": "text/x-python",
   "name": "python",
   "nbconvert_exporter": "python",
   "pygments_lexer": "ipython3",
   "version": "3.10.9"
  }
 },
 "nbformat": 4,
 "nbformat_minor": 5
}
