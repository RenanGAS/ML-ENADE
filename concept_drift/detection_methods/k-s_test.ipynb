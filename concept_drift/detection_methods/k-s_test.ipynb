{
 "cells": [
  {
   "cell_type": "markdown",
   "id": "7eedd36c-7b50-4e84-82b0-1c2d848ea638",
   "metadata": {},
   "source": [
    "### **ECDF** (Empirical Cumulative Distribution Function)"
   ]
  },
  {
   "cell_type": "markdown",
   "id": "2d7aed51-3213-4721-9d13-f82a849eac89",
   "metadata": {},
   "source": [
    "An empirical distribution function is the function associated with the empirical measure of a sample. This cumulative distribution function is a step function that jumps up by 1/n at each of the n data points. Its value at any **specified value** of the measured variable is **the fraction of observations** of the measured variable that are **less than or equal to the specified value**."
   ]
  },
  {
   "cell_type": "markdown",
   "id": "aa5a9ec3-b091-418e-a9ff-e897294c1974",
   "metadata": {},
   "source": [
    "No contexto do Enade, temos que o ECDF apresenta a fração $\\mathcal{Y}$ de cursos de computação que apresentam uma porcentagem menor ou igual a $\\mathcal{X}$ de alunos que escolheram a alternativa \"Nenhum\" para uma determinada questão.\n",
    "\n",
    "Pergunta: Se não tivéssemos feito a transformação dos valores para porcentagens, estaria tudo certo? Ou transformar para porcentagens foi necessário? A normalização faria mesma coisa? Como a normalização faz parte do Pipeline de treinamento do modelo e não da formação do conjunto em si, talvez a transformação como operação canônica para formação do conjunto tem seu valor?"
   ]
  },
  {
   "cell_type": "code",
   "execution_count": 1,
   "id": "83338fa2-4186-47a3-b233-bd3f66fc6ec3",
   "metadata": {},
   "outputs": [],
   "source": [
    "import pandas as pd\n",
    "import numpy as np\n",
    "\n",
    "import matplotlib.pyplot as plt\n",
    "import seaborn as sns\n",
    "import seaborn as sns1\n",
    "\n",
    "from scipy import stats, special\n",
    "\n",
    "from scipy.stats import kstwo\n",
    "import matplotlib.pyplot as plt1\n",
    "import matplotlib.pyplot as plt2\n",
    "import math"
   ]
  },
  {
   "cell_type": "markdown",
   "id": "7b9e71a8-06a5-4150-af08-65c38fccc003",
   "metadata": {},
   "source": [
    "### **K-S Test do zero**"
   ]
  },
  {
   "cell_type": "code",
   "execution_count": 2,
   "id": "09a2d0aa-45f9-41e4-8489-0bf276dfbb51",
   "metadata": {},
   "outputs": [
    {
     "name": "stdout",
     "output_type": "stream",
     "text": [
      "0.8597225539524855\n",
      "241\n"
     ]
    }
   ],
   "source": [
    "# enade_treino = pd.read_csv(\"../../concept_drift/tabela_final_2017_tres_anos_treinamento.csv\")\n",
    "enade_treino = pd.read_csv(\"../../concept_drift/cursos_grad_publicos_2011.csv\")\n",
    "print(enade_treino[\"Numero_Participantes\"].mean())\n",
    "print(len(enade_treino[\"Numero_Participantes\"]))"
   ]
  },
  {
   "cell_type": "code",
   "execution_count": 3,
   "id": "53cbfac4-1a4f-4fc2-b028-708e9fcbfd18",
   "metadata": {},
   "outputs": [
    {
     "name": "stdout",
     "output_type": "stream",
     "text": [
      "0.8590378724020027\n",
      "400\n"
     ]
    }
   ],
   "source": [
    "# enade_teste = pd.read_csv(\"../../concept_drift/tabela_final_2021_tres_anos_treinamento.csv\")\n",
    "enade_teste = pd.read_csv(\"../../concept_drift/cursos_grad_publicos_2014.csv\")\n",
    "print(enade_teste[\"Numero_Participantes\"].mean())\n",
    "print(len(enade_teste[\"Numero_Participantes\"]))"
   ]
  },
  {
   "cell_type": "code",
   "execution_count": 47,
   "id": "cfa9b914-020d-4c42-8322-af60fc767e53",
   "metadata": {},
   "outputs": [],
   "source": [
    "atributo = \"Não se aplica.1\""
   ]
  },
  {
   "cell_type": "code",
   "execution_count": 48,
   "id": "dc32a352-f921-4983-b46c-79a2ade7818d",
   "metadata": {},
   "outputs": [],
   "source": [
    "# Create a sorted series of unique data (from the measured variable \"Nenhum\")\n",
    "# The unique operation is done for the sake of the evenly spaced sequence operation below\n",
    "# The sorting is for the probability calculation of each x_values in the loop\n",
    "data_points = np.sort(enade_treino[atributo].unique())\n",
    "\n",
    "# X-data for the ECDF: evenly spaced sequence of the uniques\n",
    "# By doing this (evenly spaced sequence), the graph is smooth until the end\n",
    "# Step function (for the evenly spaced sequence): (stop - start)/(num - 1)\n",
    "x_values = np.linspace(start=min(data_points), stop=max(data_points),num=len(data_points))"
   ]
  },
  {
   "cell_type": "code",
   "execution_count": 49,
   "id": "62c147a1-16aa-4133-97ff-66ad7ff4d210",
   "metadata": {},
   "outputs": [],
   "source": [
    "# Total number of observations\n",
    "data_size_treino = enade_treino[atributo].size\n",
    "\n",
    "# Y-data for the ECDF:\n",
    "y_values_treino = []\n",
    "\n",
    "for i in x_values:\n",
    "    # All the values in raw data less than the ith value in x_values\n",
    "    temp = enade_treino[atributo][enade_treino[atributo] <= i]\n",
    "    \n",
    "    # Fraction of that range of values with respect to the total number of observations\n",
    "    value = temp.size / data_size_treino\n",
    "    \n",
    "    # Pushing the fraction (cumulative probability of the ith value in x_values) in the y_values\n",
    "    y_values_treino.append(value)"
   ]
  },
  {
   "cell_type": "code",
   "execution_count": 50,
   "id": "25e762e5-7c23-46da-9817-4eadf5ff9e8c",
   "metadata": {},
   "outputs": [],
   "source": [
    "# Total number of observations\n",
    "data_size_teste = enade_teste[atributo].size\n",
    "\n",
    "# Y-data for the ECDF:\n",
    "y_values_teste = []\n",
    "\n",
    "for i in x_values:\n",
    "    # All the values in raw data less than the ith value in x_values\n",
    "    temp = enade_teste[atributo][enade_teste[atributo] <= i]\n",
    "    \n",
    "    # Fraction of that range of values with respect to the total number of observations\n",
    "    value = temp.size / data_size_teste\n",
    "    \n",
    "    # Pushing the fraction (cumulative probability of the ith value in x_values) in the y_values\n",
    "    y_values_teste.append(value)"
   ]
  },
  {
   "cell_type": "code",
   "execution_count": 51,
   "id": "59b67c76-b8a4-4bd2-8fc5-8a5d330c5fe8",
   "metadata": {},
   "outputs": [
    {
     "name": "stdout",
     "output_type": "stream",
     "text": [
      "0.9562766643010384\n"
     ]
    }
   ],
   "source": [
    "# Calculate the K-S test metric for two CDF 'teste' e 'treino' on the measured variable\n",
    "\n",
    "differences = []\n",
    "maxx = 0\n",
    "\n",
    "for i in range(0, len(x_values)):\n",
    "    diff = y_values_teste[i] - y_values_treino[i]\n",
    "    differences\n",
    "    \n",
    "    if diff < 0:\n",
    "        diff = diff * -1\n",
    "   \n",
    "    if diff > maxx:\n",
    "        maxx = diff\n",
    "\n",
    "print(maxx)"
   ]
  },
  {
   "cell_type": "markdown",
   "id": "e769f672-d855-4353-95d6-7c209efa1002",
   "metadata": {},
   "source": [
    "#### **Gráficos**"
   ]
  },
  {
   "cell_type": "code",
   "execution_count": 53,
   "id": "937c88c2-367c-41b8-a214-d72ec36f864d",
   "metadata": {},
   "outputs": [
    {
     "data": {
      "text/plain": [
       "<Axes: ylabel='Frequency'>"
      ]
     },
     "execution_count": 53,
     "metadata": {},
     "output_type": "execute_result"
    },
    {
     "data": {
      "image/png": "[encoded data removed]",
      "text/plain": [
       "<Figure size 640x480 with 1 Axes>"
      ]
     },
     "metadata": {},
     "output_type": "display_data"
    }
   ],
   "source": [
    "enade_treino[atributo].plot(kind='hist', edgecolor='black')"
   ]
  },
  {
   "cell_type": "code",
   "execution_count": 54,
   "id": "9adb9a0f-0ffe-4c41-9156-e06bd71c46b8",
   "metadata": {},
   "outputs": [
    {
     "data": {
      "text/plain": [
       "<Axes: ylabel='Frequency'>"
      ]
     },
     "execution_count": 54,
     "metadata": {},
     "output_type": "execute_result"
    },
    {
     "data": {
      "image/png": "[encoded data removed]",
      "text/plain": [
       "<Figure size 640x480 with 1 Axes>"
      ]
     },
     "metadata": {},
     "output_type": "display_data"
    }
   ],
   "source": [
    "enade_teste[atributo].plot(kind='hist', edgecolor='black')"
   ]
  },
  {
   "cell_type": "code",
   "execution_count": 55,
   "id": "1e7c5cda-7dcc-4488-aeda-b2a8a773bc2b",
   "metadata": {},
   "outputs": [
    {
     "data": {
      "image/png": "[encoded data removed]",
      "text/plain": [
       "<Figure size 640x480 with 1 Axes>"
      ]
     },
     "metadata": {},
     "output_type": "display_data"
    }
   ],
   "source": [
    "fig, ax = plt.subplots()\n",
    "\n",
    "ax.plot(x_values, y_values_treino, marker='.', linestyle='none', label='Training Data')\n",
    "ax.plot(x_values, y_values_teste, marker='.', linestyle='none', label='Test Data')\n",
    "\n",
    "ax.set_xlabel(f\"Percentage of students who choose the {atributo} option\")\n",
    "ax.set_ylabel(\"Percentage of computer courses\")\n",
    "ax.legend()\n",
    "ax.margins(0.02)\n",
    "\n",
    "plt.show()"
   ]
  },
  {
   "cell_type": "markdown",
   "id": "ed899fad-306e-4a1e-8bcf-925c2cb15f06",
   "metadata": {},
   "source": [
    "### **K-S Test usando a biblioteca Scipy**"
   ]
  },
  {
   "cell_type": "code",
   "execution_count": 2,
   "id": "8b9a24e2-32ec-4e00-9d6f-77c4a4648ecd",
   "metadata": {},
   "outputs": [],
   "source": [
    "import pandas as pd\n",
    "import numpy as np\n",
    "\n",
    "import matplotlib.pyplot as plt\n",
    "import seaborn as sns\n",
    "import seaborn as sns1\n",
    "\n",
    "from scipy import stats, special\n",
    "\n",
    "from scipy.stats import kstwo\n",
    "import matplotlib.pyplot as plt1\n",
    "import matplotlib.pyplot as plt2\n",
    "import math"
   ]
  },
  {
   "cell_type": "markdown",
   "id": "21366475-9a2e-49d6-9380-21790c698cb3",
   "metadata": {},
   "source": [
    "#### Criterio de divisão: Público/Privado"
   ]
  },
  {
   "cell_type": "code",
   "execution_count": 9,
   "id": "0aee1ad0-d08e-41c0-8d4b-e8ca499ba721",
   "metadata": {},
   "outputs": [],
   "source": [
    "# enade_treino = pd.read_csv(\"../criterios_divisao/Publico_Privado/cursos_grad_publicos_2017.csv\")\n",
    "# enade_teste = pd.read_csv(\"../criterios_divisao/Publico_Privado/cursos_grad_publicos_2021.csv\")\n",
    "\n",
    "# enade_treino = pd.read_csv(\"../criterios_divisao/Publico_Privado/cursos_grad_publicos_universidade_2017.csv\")\n",
    "# enade_teste = pd.read_csv(\"../criterios_divisao/Publico_Privado/cursos_grad_publicos_universidade_2021.csv\")"
   ]
  },
  {
   "cell_type": "markdown",
   "id": "77ea6b18-18d9-4db8-a6d0-13c1ea87ee52",
   "metadata": {},
   "source": [
    "#### Criterio de divisão: CE"
   ]
  },
  {
   "cell_type": "code",
   "execution_count": 33,
   "id": "db3bd6ac-8944-444d-9d53-523a8fdd6159",
   "metadata": {},
   "outputs": [],
   "source": [
    "enade_treino = pd.read_csv(\"../criterios_divisao/CE/cursos_grad_CE2_2011.csv\")\n",
    "enade_teste = pd.read_csv(\"../criterios_divisao/CE/cursos_grad_CE2_2014.csv\")"
   ]
  },
  {
   "cell_type": "code",
   "execution_count": 34,
   "id": "07294885-5a40-4b4c-8568-fc72116f768a",
   "metadata": {},
   "outputs": [],
   "source": [
    "column_names = enade_treino.columns"
   ]
  },
  {
   "cell_type": "code",
   "execution_count": 35,
   "id": "e6d9eca4-4ee0-48c6-8776-3d556ee86937",
   "metadata": {},
   "outputs": [
    {
     "data": {
      "text/plain": [
       "227"
      ]
     },
     "execution_count": 35,
     "metadata": {},
     "output_type": "execute_result"
    }
   ],
   "source": [
    "len(column_names)"
   ]
  },
  {
   "cell_type": "markdown",
   "id": "45d182d8-0887-4e15-99e9-961c6893dc78",
   "metadata": {},
   "source": [
    "### Utilizando P-value 0,5 como threshold "
   ]
  },
  {
   "cell_type": "code",
   "execution_count": 103,
   "id": "fa2bddb3-b00a-4f76-b0ef-9b327541e379",
   "metadata": {},
   "outputs": [],
   "source": [
    "drifted_columns_threshold_pvalue = {}\n",
    "\n",
    "pvalue = 0.05\n",
    "\n",
    "for index in range(enade_treino.shape[1] - 1):\n",
    "    valores_treino = enade_treino.iloc[:, index]\n",
    "    valores_teste = enade_teste.iloc[:, index]\n",
    "    \n",
    "    result = stats.ks_2samp(valores_treino, valores_teste)\n",
    "    \n",
    "    if result.pvalue < pvalue:\n",
    "        drifted_columns_threshold_pvalue[column_names[index]] = (result.statistic, result.pvalue, True)\n",
    "    else:\n",
    "        drifted_columns_threshold_pvalue[column_names[index]] = (result.statistic, result.pvalue, True)\n",
    "\n",
    "list_drifted_columns_threshold_pvalue = list(drifted_columns_threshold_pvalue.items())\n",
    "sorted_drifted_columns_threshold_pvalue = sorted(drifted_columns_threshold_pvalue.items(), key=lambda column:column[1])"
   ]
  },
  {
   "cell_type": "markdown",
   "id": "b21a93a0-47b4-4809-8fb9-688c5541a1ce",
   "metadata": {},
   "source": [
    "### Utilizando Valor Crítico como threshold "
   ]
  },
  {
   "cell_type": "code",
   "execution_count": 36,
   "id": "4470b085-6f2a-46ce-a531-66933d602a86",
   "metadata": {},
   "outputs": [],
   "source": [
    "m = len(enade_treino)\n",
    "n = len(enade_teste)"
   ]
  },
  {
   "cell_type": "code",
   "execution_count": 37,
   "id": "d8fa3bb8-c7b9-464e-bb1f-8649cc1cea2a",
   "metadata": {},
   "outputs": [],
   "source": [
    "drifted_columns_criticalvalue = {}\n",
    "\n",
    "critical_value = 1.36 * math.sqrt((m + n)/(m*n))\n",
    "\n",
    "for index in range(enade_treino.shape[1]):\n",
    "    valores_treino = enade_treino.iloc[:, index]\n",
    "    valores_teste = enade_teste.iloc[:, index]\n",
    "    \n",
    "    result = stats.ks_2samp(valores_treino, valores_teste)\n",
    "    \n",
    "    if result.statistic >= critical_value:\n",
    "        drifted_columns_criticalvalue[column_names[index]] = (result.statistic, result.pvalue, True)\n",
    "    else:\n",
    "        drifted_columns_criticalvalue[column_names[index]] = (result.statistic, result.pvalue, False)\n",
    "\n",
    "list_drifted_columns_criticalvalue = list(drifted_columns_criticalvalue.items())\n",
    "\n",
    "sorted_drifted_columns_criticalvalue = sorted(drifted_columns_criticalvalue.items(), reverse=True, key=lambda column:column[1])\n",
    "\n",
    "atributos_curso = ['ADS', 'BCC', 'EC', 'GTI', 'LCC', 'RC', 'SI',\n",
    "                  'RO','AC', 'AM','RR','PA','AP','TO','MA','PI',\n",
    "                   'CE','RN','PB','PE','AL','SE','BA','MG','ES',\n",
    "                   'RJ','SP','PR','SC','RS','MS','MT','GO', 'DF',\n",
    "                  'N', 'NE', 'SE', 'SUL', 'CO', 'Pública Federal', \n",
    "                   'Pública Estadual', 'Pública Municipal', 'Privada CFL', \n",
    "                   'Privada SFL', 'CEFET', 'Centro Universitário', 'Faculdade', \n",
    "                   'IFECT', 'Universidade', 'Matutino', 'Vespertino', 'Integral', 'Noturno']\n",
    "\n",
    "course_drift_results = {atributo: drifted_columns_criticalvalue[atributo] for atributo in atributos_curso}\n",
    "sorted_course_drift_results = sorted(course_drift_results.items(), reverse=True, key=lambda column:column[1])"
   ]
  },
  {
   "cell_type": "markdown",
   "id": "a147e3c8-30d7-421c-bca4-7e83c7d3378c",
   "metadata": {},
   "source": [
    "### Resultados"
   ]
  },
  {
   "cell_type": "code",
   "execution_count": 38,
   "id": "29b7d141-ce23-45b6-a83c-13535812a095",
   "metadata": {},
   "outputs": [],
   "source": [
    "df_drift_scores_edicao = pd.DataFrame(list_drifted_columns_criticalvalue, columns=['Alternativa', 'Resultado'])\n",
    "df_drift_scores_edicao[['Drift_Score', 'P-value', 'Detected']] = pd.DataFrame(df_drift_scores_edicao['Resultado'].tolist(), index=df_drift_scores_edicao.index)\n",
    "df_drift_scores_edicao = df_drift_scores_edicao.drop('Resultado', axis=1)"
   ]
  },
  {
   "cell_type": "code",
   "execution_count": 39,
   "id": "4fb44f04-e891-4a39-abdc-21fe69aa5baf",
   "metadata": {},
   "outputs": [],
   "source": [
    "sorted_df_drift_scores_edicao = pd.DataFrame(sorted_drifted_columns_criticalvalue, columns=['Alternativa', 'Resultado'])\n",
    "sorted_df_drift_scores_edicao[['Drift_Score', 'P-value', 'Detected']] = pd.DataFrame(sorted_df_drift_scores_edicao['Resultado'].tolist(), index=sorted_df_drift_scores_edicao.index)\n",
    "sorted_df_drift_scores_edicao = sorted_df_drift_scores_edicao.drop('Resultado', axis=1)"
   ]
  },
  {
   "cell_type": "code",
   "execution_count": 40,
   "id": "ef361d72-4b8f-4ba0-9604-b588875552bb",
   "metadata": {},
   "outputs": [],
   "source": [
    "sorted_df_drift_scores_course_attributes = pd.DataFrame(sorted_course_drift_results, columns=['Alternativa', 'Resultado'])\n",
    "sorted_df_drift_scores_course_attributes[['Drift_Score', 'P-value', 'Detected']] = pd.DataFrame(sorted_df_drift_scores_course_attributes['Resultado'].tolist(), index=sorted_df_drift_scores_course_attributes.index)\n",
    "sorted_df_drift_scores_course_attributes = sorted_df_drift_scores_course_attributes.drop('Resultado', axis=1)"
   ]
  },
  {
   "cell_type": "code",
   "execution_count": 41,
   "id": "7949c6a1-8046-4d64-a9af-765da9a4080b",
   "metadata": {},
   "outputs": [
    {
     "data": {
      "text/html": [
       "<div>\n",
       "<style scoped>\n",
       "    .dataframe tbody tr th:only-of-type {\n",
       "        vertical-align: middle;\n",
       "    }\n",
       "\n",
       "    .dataframe tbody tr th {\n",
       "        vertical-align: top;\n",
       "    }\n",
       "\n",
       "    .dataframe thead th {\n",
       "        text-align: right;\n",
       "    }\n",
       "</style>\n",
       "<table border=\"1\" class=\"dataframe\">\n",
       "  <thead>\n",
       "    <tr style=\"text-align: right;\">\n",
       "      <th></th>\n",
       "      <th>Alternativa</th>\n",
       "      <th>Drift_Score</th>\n",
       "      <th>P-value</th>\n",
       "      <th>Detected</th>\n",
       "    </tr>\n",
       "  </thead>\n",
       "  <tbody>\n",
       "    <tr>\n",
       "      <th>0</th>\n",
       "      <td>Codigo_do_Curso</td>\n",
       "      <td>0.216667</td>\n",
       "      <td>0.079330</td>\n",
       "      <td>False</td>\n",
       "    </tr>\n",
       "    <tr>\n",
       "      <th>1</th>\n",
       "      <td>Numero_Notas_Invalidas</td>\n",
       "      <td>0.013889</td>\n",
       "      <td>1.000000</td>\n",
       "      <td>False</td>\n",
       "    </tr>\n",
       "    <tr>\n",
       "      <th>2</th>\n",
       "      <td>Numero_Faltantes</td>\n",
       "      <td>0.277778</td>\n",
       "      <td>0.010226</td>\n",
       "      <td>True</td>\n",
       "    </tr>\n",
       "    <tr>\n",
       "      <th>3</th>\n",
       "      <td>Numero_Participantes</td>\n",
       "      <td>0.280556</td>\n",
       "      <td>0.009202</td>\n",
       "      <td>True</td>\n",
       "    </tr>\n",
       "    <tr>\n",
       "      <th>4</th>\n",
       "      <td>ADS</td>\n",
       "      <td>0.083333</td>\n",
       "      <td>0.961420</td>\n",
       "      <td>False</td>\n",
       "    </tr>\n",
       "    <tr>\n",
       "      <th>...</th>\n",
       "      <td>...</td>\n",
       "      <td>...</td>\n",
       "      <td>...</td>\n",
       "      <td>...</td>\n",
       "    </tr>\n",
       "    <tr>\n",
       "      <th>222</th>\n",
       "      <td>Regular_Formacao</td>\n",
       "      <td>0.150000</td>\n",
       "      <td>0.411210</td>\n",
       "      <td>False</td>\n",
       "    </tr>\n",
       "    <tr>\n",
       "      <th>223</th>\n",
       "      <td>Fraca_Formacao</td>\n",
       "      <td>0.088889</td>\n",
       "      <td>0.936405</td>\n",
       "      <td>False</td>\n",
       "    </tr>\n",
       "    <tr>\n",
       "      <th>224</th>\n",
       "      <td>Muito fraca_Formacao</td>\n",
       "      <td>0.088889</td>\n",
       "      <td>0.936405</td>\n",
       "      <td>False</td>\n",
       "    </tr>\n",
       "    <tr>\n",
       "      <th>225</th>\n",
       "      <td>Não sei responder_Formacao</td>\n",
       "      <td>0.108333</td>\n",
       "      <td>0.795734</td>\n",
       "      <td>False</td>\n",
       "    </tr>\n",
       "    <tr>\n",
       "      <th>226</th>\n",
       "      <td>Nota_Conceito_Faixa</td>\n",
       "      <td>0.000000</td>\n",
       "      <td>1.000000</td>\n",
       "      <td>False</td>\n",
       "    </tr>\n",
       "  </tbody>\n",
       "</table>\n",
       "<p>227 rows × 4 columns</p>\n",
       "</div>"
      ],
      "text/plain": [
       "                    Alternativa  Drift_Score   P-value  Detected\n",
       "0               Codigo_do_Curso     0.216667  0.079330     False\n",
       "1        Numero_Notas_Invalidas     0.013889  1.000000     False\n",
       "2              Numero_Faltantes     0.277778  0.010226      True\n",
       "3          Numero_Participantes     0.280556  0.009202      True\n",
       "4                           ADS     0.083333  0.961420     False\n",
       "..                          ...          ...       ...       ...\n",
       "222            Regular_Formacao     0.150000  0.411210     False\n",
       "223              Fraca_Formacao     0.088889  0.936405     False\n",
       "224        Muito fraca_Formacao     0.088889  0.936405     False\n",
       "225  Não sei responder_Formacao     0.108333  0.795734     False\n",
       "226         Nota_Conceito_Faixa     0.000000  1.000000     False\n",
       "\n",
       "[227 rows x 4 columns]"
      ]
     },
     "execution_count": 41,
     "metadata": {},
     "output_type": "execute_result"
    }
   ],
   "source": [
    "df_drift_scores_edicao"
   ]
  },
  {
   "cell_type": "code",
   "execution_count": 42,
   "id": "9357c578-ad20-439d-9693-80d4518e0562",
   "metadata": {},
   "outputs": [
    {
     "data": {
      "text/html": [
       "<div>\n",
       "<style scoped>\n",
       "    .dataframe tbody tr th:only-of-type {\n",
       "        vertical-align: middle;\n",
       "    }\n",
       "\n",
       "    .dataframe tbody tr th {\n",
       "        vertical-align: top;\n",
       "    }\n",
       "\n",
       "    .dataframe thead th {\n",
       "        text-align: right;\n",
       "    }\n",
       "</style>\n",
       "<table border=\"1\" class=\"dataframe\">\n",
       "  <thead>\n",
       "    <tr style=\"text-align: right;\">\n",
       "      <th></th>\n",
       "      <th>Alternativa</th>\n",
       "      <th>Drift_Score</th>\n",
       "      <th>P-value</th>\n",
       "      <th>Detected</th>\n",
       "    </tr>\n",
       "  </thead>\n",
       "  <tbody>\n",
       "    <tr>\n",
       "      <th>0</th>\n",
       "      <td>Não sei responder_Condicao_Salas</td>\n",
       "      <td>0.305556</td>\n",
       "      <td>0.003389</td>\n",
       "      <td>True</td>\n",
       "    </tr>\n",
       "    <tr>\n",
       "      <th>1</th>\n",
       "      <td>3-5_Qtde_Livros</td>\n",
       "      <td>0.291667</td>\n",
       "      <td>0.005969</td>\n",
       "      <td>True</td>\n",
       "    </tr>\n",
       "    <tr>\n",
       "      <th>2</th>\n",
       "      <td>Não sei responder_Condicao_Praticas</td>\n",
       "      <td>0.291667</td>\n",
       "      <td>0.005969</td>\n",
       "      <td>True</td>\n",
       "    </tr>\n",
       "    <tr>\n",
       "      <th>3</th>\n",
       "      <td>Numero_Participantes</td>\n",
       "      <td>0.280556</td>\n",
       "      <td>0.009202</td>\n",
       "      <td>True</td>\n",
       "    </tr>\n",
       "    <tr>\n",
       "      <th>4</th>\n",
       "      <td>Fundamental 6-9_Nl_Mae</td>\n",
       "      <td>0.280556</td>\n",
       "      <td>0.009202</td>\n",
       "      <td>True</td>\n",
       "    </tr>\n",
       "    <tr>\n",
       "      <th>...</th>\n",
       "      <td>...</td>\n",
       "      <td>...</td>\n",
       "      <td>...</td>\n",
       "      <td>...</td>\n",
       "    </tr>\n",
       "    <tr>\n",
       "      <th>222</th>\n",
       "      <td>SUL</td>\n",
       "      <td>0.000000</td>\n",
       "      <td>1.000000</td>\n",
       "      <td>False</td>\n",
       "    </tr>\n",
       "    <tr>\n",
       "      <th>223</th>\n",
       "      <td>CEFET</td>\n",
       "      <td>0.000000</td>\n",
       "      <td>1.000000</td>\n",
       "      <td>False</td>\n",
       "    </tr>\n",
       "    <tr>\n",
       "      <th>224</th>\n",
       "      <td>nulos_Sexo</td>\n",
       "      <td>0.000000</td>\n",
       "      <td>1.000000</td>\n",
       "      <td>False</td>\n",
       "    </tr>\n",
       "    <tr>\n",
       "      <th>225</th>\n",
       "      <td>Nenhuma_Horas_de_Estudo</td>\n",
       "      <td>0.000000</td>\n",
       "      <td>1.000000</td>\n",
       "      <td>False</td>\n",
       "    </tr>\n",
       "    <tr>\n",
       "      <th>226</th>\n",
       "      <td>Nota_Conceito_Faixa</td>\n",
       "      <td>0.000000</td>\n",
       "      <td>1.000000</td>\n",
       "      <td>False</td>\n",
       "    </tr>\n",
       "  </tbody>\n",
       "</table>\n",
       "<p>227 rows × 4 columns</p>\n",
       "</div>"
      ],
      "text/plain": [
       "                             Alternativa  Drift_Score   P-value  Detected\n",
       "0       Não sei responder_Condicao_Salas     0.305556  0.003389      True\n",
       "1                        3-5_Qtde_Livros     0.291667  0.005969      True\n",
       "2    Não sei responder_Condicao_Praticas     0.291667  0.005969      True\n",
       "3                   Numero_Participantes     0.280556  0.009202      True\n",
       "4                 Fundamental 6-9_Nl_Mae     0.280556  0.009202      True\n",
       "..                                   ...          ...       ...       ...\n",
       "222                                  SUL     0.000000  1.000000     False\n",
       "223                                CEFET     0.000000  1.000000     False\n",
       "224                           nulos_Sexo     0.000000  1.000000     False\n",
       "225              Nenhuma_Horas_de_Estudo     0.000000  1.000000     False\n",
       "226                  Nota_Conceito_Faixa     0.000000  1.000000     False\n",
       "\n",
       "[227 rows x 4 columns]"
      ]
     },
     "execution_count": 42,
     "metadata": {},
     "output_type": "execute_result"
    }
   ],
   "source": [
    "sorted_df_drift_scores_edicao"
   ]
  },
  {
   "cell_type": "code",
   "execution_count": 43,
   "id": "b264c688-4733-4c62-b8ea-c6898d655ce4",
   "metadata": {},
   "outputs": [
    {
     "data": {
      "text/html": [
       "<div>\n",
       "<style scoped>\n",
       "    .dataframe tbody tr th:only-of-type {\n",
       "        vertical-align: middle;\n",
       "    }\n",
       "\n",
       "    .dataframe tbody tr th {\n",
       "        vertical-align: top;\n",
       "    }\n",
       "\n",
       "    .dataframe thead th {\n",
       "        text-align: right;\n",
       "    }\n",
       "</style>\n",
       "<table border=\"1\" class=\"dataframe\">\n",
       "  <thead>\n",
       "    <tr style=\"text-align: right;\">\n",
       "      <th></th>\n",
       "      <th>Alternativa</th>\n",
       "      <th>Drift_Score</th>\n",
       "      <th>P-value</th>\n",
       "      <th>Detected</th>\n",
       "    </tr>\n",
       "  </thead>\n",
       "  <tbody>\n",
       "    <tr>\n",
       "      <th>226</th>\n",
       "      <td>Nota_Conceito_Faixa</td>\n",
       "      <td>0.0</td>\n",
       "      <td>1.0</td>\n",
       "      <td>False</td>\n",
       "    </tr>\n",
       "  </tbody>\n",
       "</table>\n",
       "</div>"
      ],
      "text/plain": [
       "             Alternativa  Drift_Score  P-value  Detected\n",
       "226  Nota_Conceito_Faixa          0.0      1.0     False"
      ]
     },
     "execution_count": 43,
     "metadata": {},
     "output_type": "execute_result"
    }
   ],
   "source": [
    "sorted_df_drift_scores_edicao.query(\"Alternativa == 'Nota_Conceito_Faixa'\")"
   ]
  },
  {
   "cell_type": "code",
   "execution_count": 44,
   "id": "ae123a8a-ea0f-4b09-a493-c8e6eda54238",
   "metadata": {},
   "outputs": [
    {
     "data": {
      "text/html": [
       "<div>\n",
       "<style scoped>\n",
       "    .dataframe tbody tr th:only-of-type {\n",
       "        vertical-align: middle;\n",
       "    }\n",
       "\n",
       "    .dataframe tbody tr th {\n",
       "        vertical-align: top;\n",
       "    }\n",
       "\n",
       "    .dataframe thead th {\n",
       "        text-align: right;\n",
       "    }\n",
       "</style>\n",
       "<table border=\"1\" class=\"dataframe\">\n",
       "  <thead>\n",
       "    <tr style=\"text-align: right;\">\n",
       "      <th></th>\n",
       "      <th>Alternativa</th>\n",
       "      <th>Drift_Score</th>\n",
       "      <th>P-value</th>\n",
       "      <th>Detected</th>\n",
       "    </tr>\n",
       "  </thead>\n",
       "  <tbody>\n",
       "    <tr>\n",
       "      <th>0</th>\n",
       "      <td>Privada CFL</td>\n",
       "      <td>0.191667</td>\n",
       "      <td>0.158171</td>\n",
       "      <td>False</td>\n",
       "    </tr>\n",
       "    <tr>\n",
       "      <th>1</th>\n",
       "      <td>Privada SFL</td>\n",
       "      <td>0.166667</td>\n",
       "      <td>0.289206</td>\n",
       "      <td>False</td>\n",
       "    </tr>\n",
       "    <tr>\n",
       "      <th>2</th>\n",
       "      <td>EC</td>\n",
       "      <td>0.100000</td>\n",
       "      <td>0.864512</td>\n",
       "      <td>False</td>\n",
       "    </tr>\n",
       "    <tr>\n",
       "      <th>3</th>\n",
       "      <td>SP</td>\n",
       "      <td>0.100000</td>\n",
       "      <td>0.864512</td>\n",
       "      <td>False</td>\n",
       "    </tr>\n",
       "    <tr>\n",
       "      <th>4</th>\n",
       "      <td>GTI</td>\n",
       "      <td>0.097222</td>\n",
       "      <td>0.884711</td>\n",
       "      <td>False</td>\n",
       "    </tr>\n",
       "    <tr>\n",
       "      <th>5</th>\n",
       "      <td>Faculdade</td>\n",
       "      <td>0.094444</td>\n",
       "      <td>0.903699</td>\n",
       "      <td>False</td>\n",
       "    </tr>\n",
       "    <tr>\n",
       "      <th>6</th>\n",
       "      <td>ADS</td>\n",
       "      <td>0.083333</td>\n",
       "      <td>0.961420</td>\n",
       "      <td>False</td>\n",
       "    </tr>\n",
       "    <tr>\n",
       "      <th>7</th>\n",
       "      <td>DF</td>\n",
       "      <td>0.066667</td>\n",
       "      <td>0.996355</td>\n",
       "      <td>False</td>\n",
       "    </tr>\n",
       "    <tr>\n",
       "      <th>8</th>\n",
       "      <td>MG</td>\n",
       "      <td>0.063889</td>\n",
       "      <td>0.997930</td>\n",
       "      <td>False</td>\n",
       "    </tr>\n",
       "    <tr>\n",
       "      <th>9</th>\n",
       "      <td>N</td>\n",
       "      <td>0.061111</td>\n",
       "      <td>0.998908</td>\n",
       "      <td>False</td>\n",
       "    </tr>\n",
       "    <tr>\n",
       "      <th>10</th>\n",
       "      <td>Matutino</td>\n",
       "      <td>0.061111</td>\n",
       "      <td>0.998908</td>\n",
       "      <td>False</td>\n",
       "    </tr>\n",
       "    <tr>\n",
       "      <th>11</th>\n",
       "      <td>Integral</td>\n",
       "      <td>0.055556</td>\n",
       "      <td>0.999786</td>\n",
       "      <td>False</td>\n",
       "    </tr>\n",
       "    <tr>\n",
       "      <th>12</th>\n",
       "      <td>Centro Universitário</td>\n",
       "      <td>0.052778</td>\n",
       "      <td>0.999924</td>\n",
       "      <td>False</td>\n",
       "    </tr>\n",
       "    <tr>\n",
       "      <th>13</th>\n",
       "      <td>SI</td>\n",
       "      <td>0.047222</td>\n",
       "      <td>0.999994</td>\n",
       "      <td>False</td>\n",
       "    </tr>\n",
       "    <tr>\n",
       "      <th>14</th>\n",
       "      <td>Universidade</td>\n",
       "      <td>0.047222</td>\n",
       "      <td>0.999994</td>\n",
       "      <td>False</td>\n",
       "    </tr>\n",
       "    <tr>\n",
       "      <th>15</th>\n",
       "      <td>NE</td>\n",
       "      <td>0.041667</td>\n",
       "      <td>1.000000</td>\n",
       "      <td>False</td>\n",
       "    </tr>\n",
       "    <tr>\n",
       "      <th>16</th>\n",
       "      <td>Noturno</td>\n",
       "      <td>0.041667</td>\n",
       "      <td>1.000000</td>\n",
       "      <td>False</td>\n",
       "    </tr>\n",
       "    <tr>\n",
       "      <th>17</th>\n",
       "      <td>LCC</td>\n",
       "      <td>0.038889</td>\n",
       "      <td>1.000000</td>\n",
       "      <td>False</td>\n",
       "    </tr>\n",
       "    <tr>\n",
       "      <th>18</th>\n",
       "      <td>BA</td>\n",
       "      <td>0.038889</td>\n",
       "      <td>1.000000</td>\n",
       "      <td>False</td>\n",
       "    </tr>\n",
       "    <tr>\n",
       "      <th>19</th>\n",
       "      <td>RJ</td>\n",
       "      <td>0.038889</td>\n",
       "      <td>1.000000</td>\n",
       "      <td>False</td>\n",
       "    </tr>\n",
       "    <tr>\n",
       "      <th>20</th>\n",
       "      <td>CO</td>\n",
       "      <td>0.038889</td>\n",
       "      <td>1.000000</td>\n",
       "      <td>False</td>\n",
       "    </tr>\n",
       "    <tr>\n",
       "      <th>21</th>\n",
       "      <td>Pública Municipal</td>\n",
       "      <td>0.036111</td>\n",
       "      <td>1.000000</td>\n",
       "      <td>False</td>\n",
       "    </tr>\n",
       "    <tr>\n",
       "      <th>22</th>\n",
       "      <td>RO</td>\n",
       "      <td>0.033333</td>\n",
       "      <td>1.000000</td>\n",
       "      <td>False</td>\n",
       "    </tr>\n",
       "    <tr>\n",
       "      <th>23</th>\n",
       "      <td>AM</td>\n",
       "      <td>0.033333</td>\n",
       "      <td>1.000000</td>\n",
       "      <td>False</td>\n",
       "    </tr>\n",
       "    <tr>\n",
       "      <th>24</th>\n",
       "      <td>TO</td>\n",
       "      <td>0.025000</td>\n",
       "      <td>1.000000</td>\n",
       "      <td>False</td>\n",
       "    </tr>\n",
       "    <tr>\n",
       "      <th>25</th>\n",
       "      <td>PR</td>\n",
       "      <td>0.025000</td>\n",
       "      <td>1.000000</td>\n",
       "      <td>False</td>\n",
       "    </tr>\n",
       "    <tr>\n",
       "      <th>26</th>\n",
       "      <td>SC</td>\n",
       "      <td>0.022222</td>\n",
       "      <td>1.000000</td>\n",
       "      <td>False</td>\n",
       "    </tr>\n",
       "    <tr>\n",
       "      <th>27</th>\n",
       "      <td>GO</td>\n",
       "      <td>0.022222</td>\n",
       "      <td>1.000000</td>\n",
       "      <td>False</td>\n",
       "    </tr>\n",
       "    <tr>\n",
       "      <th>28</th>\n",
       "      <td>Pública Federal</td>\n",
       "      <td>0.022222</td>\n",
       "      <td>1.000000</td>\n",
       "      <td>False</td>\n",
       "    </tr>\n",
       "    <tr>\n",
       "      <th>29</th>\n",
       "      <td>RR</td>\n",
       "      <td>0.016667</td>\n",
       "      <td>1.000000</td>\n",
       "      <td>False</td>\n",
       "    </tr>\n",
       "    <tr>\n",
       "      <th>30</th>\n",
       "      <td>CE</td>\n",
       "      <td>0.016667</td>\n",
       "      <td>1.000000</td>\n",
       "      <td>False</td>\n",
       "    </tr>\n",
       "    <tr>\n",
       "      <th>31</th>\n",
       "      <td>RN</td>\n",
       "      <td>0.016667</td>\n",
       "      <td>1.000000</td>\n",
       "      <td>False</td>\n",
       "    </tr>\n",
       "    <tr>\n",
       "      <th>32</th>\n",
       "      <td>SE</td>\n",
       "      <td>0.016667</td>\n",
       "      <td>1.000000</td>\n",
       "      <td>False</td>\n",
       "    </tr>\n",
       "    <tr>\n",
       "      <th>33</th>\n",
       "      <td>ES</td>\n",
       "      <td>0.016667</td>\n",
       "      <td>1.000000</td>\n",
       "      <td>False</td>\n",
       "    </tr>\n",
       "    <tr>\n",
       "      <th>34</th>\n",
       "      <td>Vespertino</td>\n",
       "      <td>0.016667</td>\n",
       "      <td>1.000000</td>\n",
       "      <td>False</td>\n",
       "    </tr>\n",
       "    <tr>\n",
       "      <th>35</th>\n",
       "      <td>MA</td>\n",
       "      <td>0.013889</td>\n",
       "      <td>1.000000</td>\n",
       "      <td>False</td>\n",
       "    </tr>\n",
       "    <tr>\n",
       "      <th>36</th>\n",
       "      <td>PE</td>\n",
       "      <td>0.013889</td>\n",
       "      <td>1.000000</td>\n",
       "      <td>False</td>\n",
       "    </tr>\n",
       "    <tr>\n",
       "      <th>37</th>\n",
       "      <td>AL</td>\n",
       "      <td>0.013889</td>\n",
       "      <td>1.000000</td>\n",
       "      <td>False</td>\n",
       "    </tr>\n",
       "    <tr>\n",
       "      <th>38</th>\n",
       "      <td>PI</td>\n",
       "      <td>0.011111</td>\n",
       "      <td>1.000000</td>\n",
       "      <td>False</td>\n",
       "    </tr>\n",
       "    <tr>\n",
       "      <th>39</th>\n",
       "      <td>Pública Estadual</td>\n",
       "      <td>0.011111</td>\n",
       "      <td>1.000000</td>\n",
       "      <td>False</td>\n",
       "    </tr>\n",
       "    <tr>\n",
       "      <th>40</th>\n",
       "      <td>BCC</td>\n",
       "      <td>0.008333</td>\n",
       "      <td>1.000000</td>\n",
       "      <td>False</td>\n",
       "    </tr>\n",
       "    <tr>\n",
       "      <th>41</th>\n",
       "      <td>RC</td>\n",
       "      <td>0.008333</td>\n",
       "      <td>1.000000</td>\n",
       "      <td>False</td>\n",
       "    </tr>\n",
       "    <tr>\n",
       "      <th>42</th>\n",
       "      <td>MT</td>\n",
       "      <td>0.005556</td>\n",
       "      <td>1.000000</td>\n",
       "      <td>False</td>\n",
       "    </tr>\n",
       "    <tr>\n",
       "      <th>43</th>\n",
       "      <td>IFECT</td>\n",
       "      <td>0.005556</td>\n",
       "      <td>1.000000</td>\n",
       "      <td>False</td>\n",
       "    </tr>\n",
       "    <tr>\n",
       "      <th>44</th>\n",
       "      <td>AP</td>\n",
       "      <td>0.002778</td>\n",
       "      <td>1.000000</td>\n",
       "      <td>False</td>\n",
       "    </tr>\n",
       "    <tr>\n",
       "      <th>45</th>\n",
       "      <td>RS</td>\n",
       "      <td>0.002778</td>\n",
       "      <td>1.000000</td>\n",
       "      <td>False</td>\n",
       "    </tr>\n",
       "    <tr>\n",
       "      <th>46</th>\n",
       "      <td>AC</td>\n",
       "      <td>0.000000</td>\n",
       "      <td>1.000000</td>\n",
       "      <td>False</td>\n",
       "    </tr>\n",
       "    <tr>\n",
       "      <th>47</th>\n",
       "      <td>PA</td>\n",
       "      <td>0.000000</td>\n",
       "      <td>1.000000</td>\n",
       "      <td>False</td>\n",
       "    </tr>\n",
       "    <tr>\n",
       "      <th>48</th>\n",
       "      <td>PB</td>\n",
       "      <td>0.000000</td>\n",
       "      <td>1.000000</td>\n",
       "      <td>False</td>\n",
       "    </tr>\n",
       "    <tr>\n",
       "      <th>49</th>\n",
       "      <td>MS</td>\n",
       "      <td>0.000000</td>\n",
       "      <td>1.000000</td>\n",
       "      <td>False</td>\n",
       "    </tr>\n",
       "    <tr>\n",
       "      <th>50</th>\n",
       "      <td>SUL</td>\n",
       "      <td>0.000000</td>\n",
       "      <td>1.000000</td>\n",
       "      <td>False</td>\n",
       "    </tr>\n",
       "    <tr>\n",
       "      <th>51</th>\n",
       "      <td>CEFET</td>\n",
       "      <td>0.000000</td>\n",
       "      <td>1.000000</td>\n",
       "      <td>False</td>\n",
       "    </tr>\n",
       "  </tbody>\n",
       "</table>\n",
       "</div>"
      ],
      "text/plain": [
       "             Alternativa  Drift_Score   P-value  Detected\n",
       "0            Privada CFL     0.191667  0.158171     False\n",
       "1            Privada SFL     0.166667  0.289206     False\n",
       "2                     EC     0.100000  0.864512     False\n",
       "3                     SP     0.100000  0.864512     False\n",
       "4                    GTI     0.097222  0.884711     False\n",
       "5              Faculdade     0.094444  0.903699     False\n",
       "6                    ADS     0.083333  0.961420     False\n",
       "7                     DF     0.066667  0.996355     False\n",
       "8                     MG     0.063889  0.997930     False\n",
       "9                      N     0.061111  0.998908     False\n",
       "10              Matutino     0.061111  0.998908     False\n",
       "11              Integral     0.055556  0.999786     False\n",
       "12  Centro Universitário     0.052778  0.999924     False\n",
       "13                    SI     0.047222  0.999994     False\n",
       "14          Universidade     0.047222  0.999994     False\n",
       "15                    NE     0.041667  1.000000     False\n",
       "16               Noturno     0.041667  1.000000     False\n",
       "17                   LCC     0.038889  1.000000     False\n",
       "18                    BA     0.038889  1.000000     False\n",
       "19                    RJ     0.038889  1.000000     False\n",
       "20                    CO     0.038889  1.000000     False\n",
       "21     Pública Municipal     0.036111  1.000000     False\n",
       "22                    RO     0.033333  1.000000     False\n",
       "23                    AM     0.033333  1.000000     False\n",
       "24                    TO     0.025000  1.000000     False\n",
       "25                    PR     0.025000  1.000000     False\n",
       "26                    SC     0.022222  1.000000     False\n",
       "27                    GO     0.022222  1.000000     False\n",
       "28       Pública Federal     0.022222  1.000000     False\n",
       "29                    RR     0.016667  1.000000     False\n",
       "30                    CE     0.016667  1.000000     False\n",
       "31                    RN     0.016667  1.000000     False\n",
       "32                    SE     0.016667  1.000000     False\n",
       "33                    ES     0.016667  1.000000     False\n",
       "34            Vespertino     0.016667  1.000000     False\n",
       "35                    MA     0.013889  1.000000     False\n",
       "36                    PE     0.013889  1.000000     False\n",
       "37                    AL     0.013889  1.000000     False\n",
       "38                    PI     0.011111  1.000000     False\n",
       "39      Pública Estadual     0.011111  1.000000     False\n",
       "40                   BCC     0.008333  1.000000     False\n",
       "41                    RC     0.008333  1.000000     False\n",
       "42                    MT     0.005556  1.000000     False\n",
       "43                 IFECT     0.005556  1.000000     False\n",
       "44                    AP     0.002778  1.000000     False\n",
       "45                    RS     0.002778  1.000000     False\n",
       "46                    AC     0.000000  1.000000     False\n",
       "47                    PA     0.000000  1.000000     False\n",
       "48                    PB     0.000000  1.000000     False\n",
       "49                    MS     0.000000  1.000000     False\n",
       "50                   SUL     0.000000  1.000000     False\n",
       "51                 CEFET     0.000000  1.000000     False"
      ]
     },
     "execution_count": 44,
     "metadata": {},
     "output_type": "execute_result"
    }
   ],
   "source": [
    "sorted_df_drift_scores_course_attributes"
   ]
  },
  {
   "cell_type": "code",
   "execution_count": 45,
   "id": "2f068ae1-0fa2-41b5-b679-66976fa8d639",
   "metadata": {},
   "outputs": [],
   "source": [
    "df_drift_scores_edicao.to_csv(f'../drift_results/CE/div_criterio_CE1_17-21_drift_result.csv',index=False)"
   ]
  },
  {
   "cell_type": "code",
   "execution_count": 46,
   "id": "1f79fde5-3482-4e07-9a67-3658d3ee7db1",
   "metadata": {},
   "outputs": [],
   "source": [
    "sorted_df_drift_scores_edicao.to_csv(f'../drift_results/CE/div_criterio_CE1_17-21_sorted_drift_result.csv',index=False)"
   ]
  },
  {
   "cell_type": "code",
   "execution_count": 47,
   "id": "c429fa5b-a4fd-4e7a-8f35-5dc3266bf33b",
   "metadata": {},
   "outputs": [],
   "source": [
    "sorted_df_drift_scores_course_attributes.to_csv(f'../drift_results/CE/div_criterio_CE1_17-21_sorted_drift_result_courses_att.csv',index=False)"
   ]
  },
  {
   "cell_type": "markdown",
   "id": "c204ab7d-8955-4497-8daa-6ef09b437b98",
   "metadata": {},
   "source": [
    "### Automatização"
   ]
  },
  {
   "cell_type": "markdown",
   "id": "a55b2b68-b72f-4831-afa4-be44f30b036c",
   "metadata": {},
   "source": [
    "#### Entre mesmas categorias"
   ]
  },
  {
   "cell_type": "code",
   "execution_count": 56,
   "id": "c11c5dad-f5e1-4042-a790-2a854d82e121",
   "metadata": {},
   "outputs": [],
   "source": [
    "Regiao = \"Centroeste\"\n",
    "\n",
    "for par_edicao in [(2011, 2014, \"11-14\"), (2014, 2017, \"14-17\"), (2017, 2021, \"17-21\")]:\n",
    "    enade_treino = pd.read_csv(f\"../criterios_divisao/Regiao/cursos_grad_{Regiao}_{par_edicao[0]}.csv\")\n",
    "    enade_teste = pd.read_csv(f\"../criterios_divisao/Regiao/cursos_grad_{Regiao}_{par_edicao[1]}.csv\")\n",
    "    column_names = enade_treino.columns\n",
    "\n",
    "    m = len(enade_treino)\n",
    "    n = len(enade_teste)\n",
    "\n",
    "    drifted_columns_criticalvalue = {}\n",
    "\n",
    "    critical_value = 1.36 * math.sqrt((m + n)/(m*n))\n",
    "\n",
    "    for index in range(enade_treino.shape[1]):\n",
    "        valores_treino = enade_treino.iloc[:, index]\n",
    "        valores_teste = enade_teste.iloc[:, index]\n",
    "\n",
    "        result = stats.ks_2samp(valores_treino, valores_teste)\n",
    "\n",
    "        if result.statistic >= critical_value:\n",
    "            drifted_columns_criticalvalue[column_names[index]] = (result.statistic, result.pvalue, True)\n",
    "        else:\n",
    "            drifted_columns_criticalvalue[column_names[index]] = (result.statistic, result.pvalue, False)\n",
    "\n",
    "    list_drifted_columns_criticalvalue = list(drifted_columns_criticalvalue.items())\n",
    "\n",
    "    sorted_drifted_columns_criticalvalue = sorted(drifted_columns_criticalvalue.items(), reverse=True, key=lambda column:column[1])\n",
    "\n",
    "    atributos_curso = ['ADS', 'BCC', 'EC', 'GTI', 'LCC', 'RC', 'SI',\n",
    "                      'RO','AC', 'AM','RR','PA','AP','TO','MA','PI',\n",
    "                       'CE','RN','PB','PE','AL','SE','BA','MG','ES',\n",
    "                       'RJ','SP','PR','SC','RS','MS','MT','GO', 'DF',\n",
    "                      'N', 'NE', 'SE', 'SUL', 'CO', 'Pública Federal', \n",
    "                       'Pública Estadual', 'Pública Municipal', 'Privada CFL', \n",
    "                       'Privada SFL', 'CEFET', 'Centro Universitário', 'Faculdade', \n",
    "                       'IFECT', 'Universidade', 'Matutino', 'Vespertino', 'Integral', 'Noturno']\n",
    "\n",
    "    course_drift_results = {atributo: drifted_columns_criticalvalue[atributo] for atributo in atributos_curso}\n",
    "    sorted_course_drift_results = sorted(course_drift_results.items(), reverse=True, key=lambda column:column[1])\n",
    "\n",
    "    df_drift_scores_edicao = pd.DataFrame(list_drifted_columns_criticalvalue, columns=['Alternativa', 'Resultado'])\n",
    "    df_drift_scores_edicao[['Drift_Score', 'P-value', 'Detected']] = pd.DataFrame(df_drift_scores_edicao['Resultado'].tolist(), index=df_drift_scores_edicao.index)\n",
    "    df_drift_scores_edicao = df_drift_scores_edicao.drop('Resultado', axis=1)\n",
    "\n",
    "    sorted_df_drift_scores_edicao = pd.DataFrame(sorted_drifted_columns_criticalvalue, columns=['Alternativa', 'Resultado'])\n",
    "    sorted_df_drift_scores_edicao[['Drift_Score', 'P-value', 'Detected']] = pd.DataFrame(sorted_df_drift_scores_edicao['Resultado'].tolist(), index=sorted_df_drift_scores_edicao.index)\n",
    "    sorted_df_drift_scores_edicao = sorted_df_drift_scores_edicao.drop('Resultado', axis=1)\n",
    "\n",
    "    sorted_df_drift_scores_course_attributes = pd.DataFrame(sorted_course_drift_results, columns=['Alternativa', 'Resultado'])\n",
    "    sorted_df_drift_scores_course_attributes[['Drift_Score', 'P-value', 'Detected']] = pd.DataFrame(sorted_df_drift_scores_course_attributes['Resultado'].tolist(), index=sorted_df_drift_scores_course_attributes.index)\n",
    "    sorted_df_drift_scores_course_attributes = sorted_df_drift_scores_course_attributes.drop('Resultado', axis=1)\n",
    "\n",
    "    df_drift_scores_edicao.to_csv(f'../drift_results/Regiao/div_criterio_{Regiao}_{par_edicao[2]}_drift_result.csv',index=False)\n",
    "    sorted_df_drift_scores_edicao.to_csv(f'../drift_results/Regiao/div_criterio_{Regiao}_{par_edicao[2]}_sorted_drift_result.csv',index=False)\n",
    "    sorted_df_drift_scores_course_attributes.to_csv(f'../drift_results/Regiao/div_criterio_{Regiao}_{par_edicao[2]}_sorted_drift_result_courses_att.csv',index=False)"
   ]
  },
  {
   "cell_type": "markdown",
   "id": "41fd6cf4-a3f8-4e93-bb67-c81fb281873c",
   "metadata": {},
   "source": [
    "#### Entre categorias diferentes"
   ]
  },
  {
   "cell_type": "code",
   "execution_count": 59,
   "id": "c8058e8c-506e-470e-aa2b-8b992b480104",
   "metadata": {},
   "outputs": [],
   "source": [
    "CE_3 = \"CE3\"\n",
    "CE_4 = \"CE4\"\n",
    "\n",
    "for edicao in [2011, 2014, 2017, 2021]:\n",
    "    enade_treino = pd.read_csv(f\"../criterios_divisao/CE/cursos_grad_{CE_3}_{edicao}.csv\")\n",
    "    enade_teste = pd.read_csv(f\"../criterios_divisao/CE/cursos_grad_{CE_4}_{edicao}.csv\")\n",
    "    column_names = enade_treino.columns\n",
    "\n",
    "    m = len(enade_treino)\n",
    "    n = len(enade_teste)\n",
    "\n",
    "    drifted_columns_criticalvalue = {}\n",
    "\n",
    "    critical_value = 1.36 * math.sqrt((m + n)/(m*n))\n",
    "\n",
    "    for index in range(enade_treino.shape[1]):\n",
    "        valores_treino = enade_treino.iloc[:, index]\n",
    "        valores_teste = enade_teste.iloc[:, index]\n",
    "\n",
    "        result = stats.ks_2samp(valores_treino, valores_teste)\n",
    "\n",
    "        if result.statistic >= critical_value:\n",
    "            drifted_columns_criticalvalue[column_names[index]] = (result.statistic, result.pvalue, True)\n",
    "        else:\n",
    "            drifted_columns_criticalvalue[column_names[index]] = (result.statistic, result.pvalue, False)\n",
    "\n",
    "    list_drifted_columns_criticalvalue = list(drifted_columns_criticalvalue.items())\n",
    "\n",
    "    sorted_drifted_columns_criticalvalue = sorted(drifted_columns_criticalvalue.items(), reverse=True, key=lambda column:column[1])\n",
    "\n",
    "    atributos_curso = ['ADS', 'BCC', 'EC', 'GTI', 'LCC', 'RC', 'SI',\n",
    "                      'RO','AC', 'AM','RR','PA','AP','TO','MA','PI',\n",
    "                       'CE','RN','PB','PE','AL','SE','BA','MG','ES',\n",
    "                       'RJ','SP','PR','SC','RS','MS','MT','GO', 'DF',\n",
    "                      'N', 'NE', 'SE', 'SUL', 'CO', 'Pública Federal', \n",
    "                       'Pública Estadual', 'Pública Municipal', 'Privada CFL', \n",
    "                       'Privada SFL', 'CEFET', 'Centro Universitário', 'Faculdade', \n",
    "                       'IFECT', 'Universidade', 'Matutino', 'Vespertino', 'Integral', 'Noturno']\n",
    "\n",
    "    course_drift_results = {atributo: drifted_columns_criticalvalue[atributo] for atributo in atributos_curso}\n",
    "    sorted_course_drift_results = sorted(course_drift_results.items(), reverse=True, key=lambda column:column[1])\n",
    "\n",
    "    df_drift_scores_edicao = pd.DataFrame(list_drifted_columns_criticalvalue, columns=['Alternativa', 'Resultado'])\n",
    "    df_drift_scores_edicao[['Drift_Score', 'P-value', 'Detected']] = pd.DataFrame(df_drift_scores_edicao['Resultado'].tolist(), index=df_drift_scores_edicao.index)\n",
    "    df_drift_scores_edicao = df_drift_scores_edicao.drop('Resultado', axis=1)\n",
    "\n",
    "    sorted_df_drift_scores_edicao = pd.DataFrame(sorted_drifted_columns_criticalvalue, columns=['Alternativa', 'Resultado'])\n",
    "    sorted_df_drift_scores_edicao[['Drift_Score', 'P-value', 'Detected']] = pd.DataFrame(sorted_df_drift_scores_edicao['Resultado'].tolist(), index=sorted_df_drift_scores_edicao.index)\n",
    "    sorted_df_drift_scores_edicao = sorted_df_drift_scores_edicao.drop('Resultado', axis=1)\n",
    "\n",
    "    sorted_df_drift_scores_course_attributes = pd.DataFrame(sorted_course_drift_results, columns=['Alternativa', 'Resultado'])\n",
    "    sorted_df_drift_scores_course_attributes[['Drift_Score', 'P-value', 'Detected']] = pd.DataFrame(sorted_df_drift_scores_course_attributes['Resultado'].tolist(), index=sorted_df_drift_scores_course_attributes.index)\n",
    "    sorted_df_drift_scores_course_attributes = sorted_df_drift_scores_course_attributes.drop('Resultado', axis=1)\n",
    "\n",
    "    df_drift_scores_edicao.to_csv(f'../drift_results/CE/div_criterio_{CE_3}_{CE_4}_{edicao}_drift_result.csv',index=False)\n",
    "    sorted_df_drift_scores_edicao.to_csv(f'../drift_results/CE/div_criterio_{CE_3}_{CE_4}_{edicao}_sorted_drift_result.csv',index=False)\n",
    "    sorted_df_drift_scores_course_attributes.to_csv(f'../drift_results/CE/div_criterio_{CE_3}_{CE_4}_{edicao}_sorted_drift_result_courses_att.csv',index=False)"
   ]
  },
  {
   "cell_type": "markdown",
   "id": "07c4cbae-4945-4c77-a484-6c8adeae818d",
   "metadata": {},
   "source": [
    "#### **Gráficos**"
   ]
  },
  {
   "cell_type": "code",
   "execution_count": 163,
   "id": "ff934785-35ad-477c-adce-eb1390bd5b80",
   "metadata": {},
   "outputs": [
    {
     "name": "stdout",
     "output_type": "stream",
     "text": [
      "326\n",
      "0.9562766643010384 0.8859196175839594\n"
     ]
    }
   ],
   "source": [
    "coefN = round(float(m * n) / (m + n))\n",
    "top1_drift_score = float(sorted_drift_score_results[-1][1])\n",
    "top2_drift_score = float(sorted_drift_score_results[-2][1])\n",
    "\n",
    "print(coefN)\n",
    "print(top1_drift_score, top2_drift_score)"
   ]
  },
  {
   "cell_type": "code",
   "execution_count": 164,
   "id": "eeaa5c29-dd50-4eaa-b806-dc73ad64c3b5",
   "metadata": {},
   "outputs": [
    {
     "data": {
      "image/png": "[encoded data removed]",
      "text/plain": [
       "<Figure size 640x480 with 1 Axes>"
      ]
     },
     "metadata": {},
     "output_type": "display_data"
    }
   ],
   "source": [
    "fig1, ax1 = plt1.subplots(1, 1)\n",
    "x = np.linspace(0.01, 1, 100)\n",
    "ax1.plot(x, stats.kstwo.pdf(x, coefN), 'b-', lw=2, alpha=0.6, label='kstwo pdf')\n",
    "plt1.plot(top1_drift_score,stats.kstwo.pdf(top1_drift_score, coefN), color=\"red\", marker='o')\n",
    "plt1.plot(top2_drift_score,stats.kstwo.pdf(top2_drift_score, coefN), color=\"red\", marker='o')\n",
    "\n",
    "ax1.set_xlabel(\"Pontuação de drift\")\n",
    "ax1.set_ylabel(\"Densidade de probabilidade\")\n",
    "fig1.suptitle(r'Distribuição de Kolmogorov-Smirnov para $\\frac{nm}{n+m}$ = '+f'{coefN}', fontsize=14)\n",
    "\n",
    "plt1.savefig(\"distr_ks_674.png\")\n",
    "plt1.show()"
   ]
  },
  {
   "cell_type": "code",
   "execution_count": 165,
   "id": "1e0fcee8-7c2b-4dca-82b1-5b20671b8f2e",
   "metadata": {},
   "outputs": [
    {
     "name": "stdout",
     "output_type": "stream",
     "text": [
      "2.2078802787043657e-10\n"
     ]
    }
   ],
   "source": [
    "# p-value\n",
    "print(stats.kstwo.sf(0.18634012839651193, n))"
   ]
  }
 ],
 "metadata": {
  "kernelspec": {
   "display_name": "Python 3 (ipykernel)",
   "language": "python",
   "name": "python3"
  },
  "language_info": {
   "codemirror_mode": {
    "name": "ipython",
    "version": 3
   },
   "file_extension": ".py",
   "mimetype": "text/x-python",
   "name": "python",
   "nbconvert_exporter": "python",
   "pygments_lexer": "ipython3",
   "version": "3.10.9"
  }
 },
 "nbformat": 4,
 "nbformat_minor": 5
}
