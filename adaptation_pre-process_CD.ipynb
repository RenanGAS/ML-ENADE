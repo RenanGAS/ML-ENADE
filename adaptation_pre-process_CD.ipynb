{
 "cells": [
  {
   "cell_type": "code",
   "execution_count": 2,
   "id": "22f4a66e-05dd-47f9-8cd3-d27349640c96",
   "metadata": {},
   "outputs": [],
   "source": [
    "import pandas as pd\n",
    "import numpy as np"
   ]
  },
  {
   "cell_type": "code",
   "execution_count": 3,
   "id": "23852f68-ccb4-453a-a7a3-c91ec492f002",
   "metadata": {},
   "outputs": [],
   "source": [
    "ano = '2021'\n",
    "conjunto = pd.read_csv(f'pre-process_{ano}.csv')"
   ]
  },
  {
   "cell_type": "code",
   "execution_count": 4,
   "id": "2a9085f9-afa8-4af6-bed7-8f2539a4627d",
   "metadata": {},
   "outputs": [],
   "source": [
    "# Exclusão das características que não foram incluídas no conjunto final\n",
    "\n",
    "conjunto.drop(\"Ano\", axis='columns', inplace=True)\n",
    "conjunto.drop(\"Codigo_do_Curso\", axis='columns', inplace=True)\n",
    "conjunto.drop(\"Tipo_Presenca\", axis='columns', inplace=True)\n",
    "conjunto.drop(\"Nota_FG\", axis='columns', inplace=True)\n",
    "conjunto.drop(\"Nota_CE\", axis='columns', inplace=True)"
   ]
  },
  {
   "cell_type": "code",
   "execution_count": 6,
   "id": "75691cf8-3aa6-4a8b-855d-13b3b7340791",
   "metadata": {},
   "outputs": [],
   "source": [
    "conjunto.to_csv('./{}.csv'.format(f'pre-process_CD_{ano}'),index=False)"
   ]
  }
 ],
 "metadata": {
  "kernelspec": {
   "display_name": "Python 3 (ipykernel)",
   "language": "python",
   "name": "python3"
  },
  "language_info": {
   "codemirror_mode": {
    "name": "ipython",
    "version": 3
   },
   "file_extension": ".py",
   "mimetype": "text/x-python",
   "name": "python",
   "nbconvert_exporter": "python",
   "pygments_lexer": "ipython3",
   "version": "3.10.9"
  }
 },
 "nbformat": 4,
 "nbformat_minor": 5
}
