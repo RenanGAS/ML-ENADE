{
 "cells": [
  {
   "cell_type": "code",
   "execution_count": 1,
   "id": "22f4a66e-05dd-47f9-8cd3-d27349640c96",
   "metadata": {},
   "outputs": [],
   "source": [
    "import pandas as pd\n",
    "import numpy as np"
   ]
  },
  {
   "cell_type": "code",
   "execution_count": 2,
   "id": "23852f68-ccb4-453a-a7a3-c91ec492f002",
   "metadata": {},
   "outputs": [],
   "source": [
    "dados_21 = pd.read_csv('computacao_enade_2021.csv')"
   ]
  },
  {
   "cell_type": "code",
   "execution_count": null,
   "id": "2a9085f9-afa8-4af6-bed7-8f2539a4627d",
   "metadata": {},
   "outputs": [],
   "source": [
    "dados_21"
   ]
  },
  {
   "cell_type": "code",
   "execution_count": null,
   "id": "3b609b53-7eaf-4ee0-8303-1aeae50762f4",
   "metadata": {},
   "outputs": [],
   "source": [
    "dados_21['CO_GRUPO'].dtype # Ver se o formato Object pra string é válido"
   ]
  },
  {
   "cell_type": "code",
   "execution_count": 3,
   "id": "b536e8c4-4aa9-4f38-81da-00a36840e84d",
   "metadata": {},
   "outputs": [],
   "source": [
    "dados_21.replace({'CO_GRUPO': {72: 'ADS', 4004: 'BCC', 6409: 'GTI', 4005: 'LCC', 79: 'RC', 4006: 'SI'}}, inplace=True) # inplace=True permite que o df seja modificado diretamente\n",
    "\n",
    "# dft1 = dft1.astype({\"a\": np.bool_, \"c\": np.float64})\n",
    "dados_21 = dados_21.astype({'CO_GRUPO':str})"
   ]
  },
  {
   "cell_type": "code",
   "execution_count": 4,
   "id": "3b28d855-2d35-4b48-b2b3-a1ef2e21ae0c",
   "metadata": {},
   "outputs": [],
   "source": [
    "estado_dict = {\n",
    "11 : 'RO',12 : 'AC', \n",
    "13 : 'AM',14 : 'RR',\n",
    "15 : 'PA',16 : 'AP',\n",
    "17 : 'TO',21 : 'MA',\n",
    "22 : 'PI',23 : 'CE',\n",
    "24 : 'RN',25 : 'PB',\n",
    "26 : 'PE',27 : 'AL',\n",
    "28 : 'SE',29 : 'BA',\n",
    "31 : 'MG',32 : 'ES',\n",
    "33 : 'RJ',35 : 'SP',\n",
    "41 : 'PR',42 : 'SC',\n",
    "43 : 'RS',50 : 'MS',\n",
    "51 : 'MT',52 : 'GO', \n",
    "53 : 'DF'\n",
    "}"
   ]
  },
  {
   "cell_type": "code",
   "execution_count": 5,
   "id": "bbae9d32-dae5-4fae-a0a3-185f6da17af2",
   "metadata": {},
   "outputs": [],
   "source": [
    "dados_21['CO_UF_CURSO'].replace(estado_dict,inplace=True)\n",
    "dados_21 = dados_21.astype({'CO_UF_CURSO':str})"
   ]
  },
  {
   "cell_type": "code",
   "execution_count": 6,
   "id": "8e8596db-aaab-4300-864e-65ff0b6d343c",
   "metadata": {},
   "outputs": [],
   "source": [
    "regiao_dict = {\n",
    "1 : 'N',2 : 'NE', \n",
    "3 : 'SE',4 : 'SUL',\n",
    "5 : 'CO'\n",
    "}"
   ]
  },
  {
   "cell_type": "code",
   "execution_count": 7,
   "id": "688b991e-69da-47e0-ab27-1be9a6129e57",
   "metadata": {},
   "outputs": [],
   "source": [
    "dados_21['CO_REGIAO_CURSO'].replace(regiao_dict,inplace=True)\n",
    "dados_21 = dados_21.astype({'CO_REGIAO_CURSO':str})"
   ]
  },
  {
   "cell_type": "code",
   "execution_count": null,
   "id": "434c0fbc-1e7e-412b-a652-0d628d12edc0",
   "metadata": {},
   "outputs": [],
   "source": [
    "# Não há IESes do tipo especial\n",
    "\n",
    "# ies_especial = dados_21[dados_21[\"CO_CATEGAD\"] == 6]\n",
    "# ies_especial"
   ]
  },
  {
   "cell_type": "code",
   "execution_count": 8,
   "id": "eab60198-6314-48d1-a740-3419c3eb0588",
   "metadata": {},
   "outputs": [],
   "source": [
    "cat_adm_dict = {\n",
    "1 : 'Pública Federal',2 : 'Pública Estadual', \n",
    "3 : 'Pública Municipal',4 : 'Privada CFL',\n",
    "5 : 'Privada SFL'\n",
    "}"
   ]
  },
  {
   "cell_type": "code",
   "execution_count": 9,
   "id": "3ac1afe4-4fa6-45d9-bb34-0a4a41b14cd3",
   "metadata": {},
   "outputs": [],
   "source": [
    "dados_21['CO_CATEGAD'].replace(cat_adm_dict,inplace=True)\n",
    "dados_21 = dados_21.astype({'CO_CATEGAD':str})"
   ]
  },
  {
   "cell_type": "code",
   "execution_count": 10,
   "id": "91d3f1c1-61b8-4266-bc49-24eb363c08a2",
   "metadata": {},
   "outputs": [],
   "source": [
    "# cefet = dados_21[dados_21['CO_ORGACAD'] == 10019]\n",
    "# cefet\n",
    "\n",
    "cat_org_dict = {\n",
    "10019 : 'CEFET',10020 : 'Centro Universitário', \n",
    "10022 : 'Faculdade',10026 : 'IFECT',\n",
    "10028 : 'Universidade'\n",
    "}"
   ]
  },
  {
   "cell_type": "code",
   "execution_count": 11,
   "id": "4218d162-7293-4c48-9a24-969cfb639f90",
   "metadata": {},
   "outputs": [],
   "source": [
    "dados_21['CO_ORGACAD'].replace(cat_org_dict,inplace=True)\n",
    "dados_21 = dados_21.astype({'CO_ORGACAD':str})"
   ]
  },
  {
   "cell_type": "code",
   "execution_count": 12,
   "id": "6d5780a3-9bee-47d8-822a-22288cc314e0",
   "metadata": {},
   "outputs": [],
   "source": [
    "turno_dict = {\n",
    "1 : 'Matutino',2 : 'Vespertino', \n",
    "3 : 'Integral',4 : 'Noturno'\n",
    "}"
   ]
  },
  {
   "cell_type": "code",
   "execution_count": 13,
   "id": "a0f6f343-c353-447a-a47b-a99c373d5696",
   "metadata": {},
   "outputs": [],
   "source": [
    "dados_21['CO_TURNO_GRADUACAO'].replace(turno_dict,inplace=True)\n",
    "dados_21 = dados_21.astype({'CO_TURNO_GRADUACAO':str})"
   ]
  },
  {
   "cell_type": "code",
   "execution_count": null,
   "id": "1a789640-6c9e-4012-a052-3f31135521e1",
   "metadata": {},
   "outputs": [],
   "source": [
    "# Análise dos atributos ANO_FIM_EM e ANO_IN_GRAD"
   ]
  },
  {
   "cell_type": "code",
   "execution_count": null,
   "id": "bbf6a1b5-ca0c-4ffa-8c59-638946e74d54",
   "metadata": {},
   "outputs": [],
   "source": [
    "outliers_afem = dados_21[(dados_21['ANO_FIM_EM'] < 1951) | (dados_21['ANO_FIM_EM'] > 2021)]\n",
    "outliers_afem\n",
    "\n",
    "outliers_aig = dados_21[(dados_21['ANO_IN_GRAD'] < 1971) | (dados_21['ANO_IN_GRAD'] > 2017)]\n",
    "outliers_aig"
   ]
  },
  {
   "cell_type": "code",
   "execution_count": null,
   "id": "d34947d9-cbe6-4249-a124-1d5ab33ce671",
   "metadata": {},
   "outputs": [],
   "source": [
    "media_afem = dados_21['ANO_FIM_EM'].mean()\n",
    "media_afem\n",
    "\n",
    "media_aig = dados_21['ANO_IN_GRAD'].mean()\n",
    "media_aig"
   ]
  },
  {
   "cell_type": "code",
   "execution_count": null,
   "id": "7b8cbbda-823b-4fa4-a225-27fbfd81488e",
   "metadata": {},
   "outputs": [],
   "source": [
    "#-------------------------------#"
   ]
  },
  {
   "cell_type": "code",
   "execution_count": 14,
   "id": "1b1ef8ca-6282-458b-8fcb-edd4707402b0",
   "metadata": {},
   "outputs": [],
   "source": [
    "tipo_em_dict = {\n",
    "'A' : 'Pública','B' : 'Privada', \n",
    "'C' : 'Exterior', 'D' : 'Maior parte pública',\n",
    "'E':'Maior parte privada', 'F': 'Brasil e exterior'\n",
    "}"
   ]
  },
  {
   "cell_type": "code",
   "execution_count": 15,
   "id": "cbc0c413-59fa-448d-b1fc-b40581d9a37c",
   "metadata": {},
   "outputs": [],
   "source": [
    "dados_21['QE_I17'].replace(tipo_em_dict,inplace=True)\n",
    "dados_21 = dados_21.astype({'QE_I17':str})"
   ]
  },
  {
   "cell_type": "code",
   "execution_count": 16,
   "id": "f92916e0-1653-4f8d-8724-5bf51d818d02",
   "metadata": {},
   "outputs": [],
   "source": [
    "mod_em_dict = {\n",
    "'A' : 'Tradicional','B' : 'Técnico', \n",
    "'C' : 'Magistério', 'D' : 'Supletivo',\n",
    "'E':'Outra'\n",
    "}"
   ]
  },
  {
   "cell_type": "code",
   "execution_count": 17,
   "id": "8e3a583b-b918-407d-9dcf-7809c85d77ae",
   "metadata": {},
   "outputs": [],
   "source": [
    "dados_21['QE_I18'].replace(mod_em_dict,inplace=True)\n",
    "dados_21 = dados_21.astype({'QE_I18':str})"
   ]
  },
  {
   "cell_type": "code",
   "execution_count": null,
   "id": "14a1dced-9827-49e2-96b0-678523e2538a",
   "metadata": {},
   "outputs": [],
   "source": [
    "dados_21[['QE_I17', 'QE_I18', 'QE_I02']]"
   ]
  },
  {
   "cell_type": "code",
   "execution_count": 32,
   "id": "10e60f40-a67a-4cfa-953e-0d31861b1ca4",
   "metadata": {},
   "outputs": [
    {
     "data": {
      "text/html": [
       "<div>\n",
       "<style scoped>\n",
       "    .dataframe tbody tr th:only-of-type {\n",
       "        vertical-align: middle;\n",
       "    }\n",
       "\n",
       "    .dataframe tbody tr th {\n",
       "        vertical-align: top;\n",
       "    }\n",
       "\n",
       "    .dataframe thead th {\n",
       "        text-align: right;\n",
       "    }\n",
       "</style>\n",
       "<table border=\"1\" class=\"dataframe\">\n",
       "  <thead>\n",
       "    <tr style=\"text-align: right;\">\n",
       "      <th></th>\n",
       "      <th>NU_ANO</th>\n",
       "      <th>CO_GRUPO</th>\n",
       "      <th>CO_UF_CURSO</th>\n",
       "      <th>CO_REGIAO_CURSO</th>\n",
       "      <th>CO_CATEGAD</th>\n",
       "      <th>CO_ORGACAD</th>\n",
       "      <th>CO_TURNO_GRADUACAO</th>\n",
       "      <th>NT_GER</th>\n",
       "      <th>ANO_FIM_EM</th>\n",
       "      <th>ANO_IN_GRAD</th>\n",
       "      <th>...</th>\n",
       "      <th>QE_I06</th>\n",
       "      <th>QE_I07</th>\n",
       "      <th>QE_I15</th>\n",
       "      <th>QE_I10</th>\n",
       "      <th>QE_I22</th>\n",
       "      <th>QE_I23</th>\n",
       "      <th>QE_I61</th>\n",
       "      <th>QE_I62</th>\n",
       "      <th>QE_I38</th>\n",
       "      <th>QE_I27</th>\n",
       "    </tr>\n",
       "  </thead>\n",
       "  <tbody>\n",
       "    <tr>\n",
       "      <th>0</th>\n",
       "      <td>2021</td>\n",
       "      <td>BCC</td>\n",
       "      <td>MT</td>\n",
       "      <td>CO</td>\n",
       "      <td>Pública Federal</td>\n",
       "      <td>Universidade</td>\n",
       "      <td>Integral</td>\n",
       "      <td>26.9</td>\n",
       "      <td>2017.0</td>\n",
       "      <td>2018.0</td>\n",
       "      <td>...</td>\n",
       "      <td>Parentes</td>\n",
       "      <td>Uma</td>\n",
       "      <td>B</td>\n",
       "      <td>A</td>\n",
       "      <td>E</td>\n",
       "      <td>A</td>\n",
       "      <td>6.0</td>\n",
       "      <td>6.0</td>\n",
       "      <td>6.0</td>\n",
       "      <td>6.0</td>\n",
       "    </tr>\n",
       "    <tr>\n",
       "      <th>1</th>\n",
       "      <td>2021</td>\n",
       "      <td>BCC</td>\n",
       "      <td>MT</td>\n",
       "      <td>CO</td>\n",
       "      <td>Pública Federal</td>\n",
       "      <td>Universidade</td>\n",
       "      <td>Integral</td>\n",
       "      <td>17.2</td>\n",
       "      <td>2015.0</td>\n",
       "      <td>2016.0</td>\n",
       "      <td>...</td>\n",
       "      <td>Outras pessoas</td>\n",
       "      <td>Duas</td>\n",
       "      <td>A</td>\n",
       "      <td>D</td>\n",
       "      <td>NaN</td>\n",
       "      <td>C</td>\n",
       "      <td>6.0</td>\n",
       "      <td>5.0</td>\n",
       "      <td>4.0</td>\n",
       "      <td>4.0</td>\n",
       "    </tr>\n",
       "    <tr>\n",
       "      <th>2</th>\n",
       "      <td>2021</td>\n",
       "      <td>BCC</td>\n",
       "      <td>MT</td>\n",
       "      <td>CO</td>\n",
       "      <td>Pública Federal</td>\n",
       "      <td>Universidade</td>\n",
       "      <td>Integral</td>\n",
       "      <td>43.9</td>\n",
       "      <td>2014.0</td>\n",
       "      <td>2015.0</td>\n",
       "      <td>...</td>\n",
       "      <td>Parentes</td>\n",
       "      <td>Nenhuma</td>\n",
       "      <td>A</td>\n",
       "      <td>A</td>\n",
       "      <td>A</td>\n",
       "      <td>C</td>\n",
       "      <td>4.0</td>\n",
       "      <td>4.0</td>\n",
       "      <td>4.0</td>\n",
       "      <td>4.0</td>\n",
       "    </tr>\n",
       "    <tr>\n",
       "      <th>3</th>\n",
       "      <td>2021</td>\n",
       "      <td>BCC</td>\n",
       "      <td>MT</td>\n",
       "      <td>CO</td>\n",
       "      <td>Pública Federal</td>\n",
       "      <td>Universidade</td>\n",
       "      <td>Integral</td>\n",
       "      <td>40.7</td>\n",
       "      <td>2014.0</td>\n",
       "      <td>2015.0</td>\n",
       "      <td>...</td>\n",
       "      <td>Parentes</td>\n",
       "      <td>Duas</td>\n",
       "      <td>A</td>\n",
       "      <td>A</td>\n",
       "      <td>B</td>\n",
       "      <td>D</td>\n",
       "      <td>NaN</td>\n",
       "      <td>NaN</td>\n",
       "      <td>NaN</td>\n",
       "      <td>NaN</td>\n",
       "    </tr>\n",
       "    <tr>\n",
       "      <th>4</th>\n",
       "      <td>2021</td>\n",
       "      <td>BCC</td>\n",
       "      <td>MT</td>\n",
       "      <td>CO</td>\n",
       "      <td>Pública Federal</td>\n",
       "      <td>Universidade</td>\n",
       "      <td>Integral</td>\n",
       "      <td>21.7</td>\n",
       "      <td>2017.0</td>\n",
       "      <td>2018.0</td>\n",
       "      <td>...</td>\n",
       "      <td>Parentes</td>\n",
       "      <td>Cinco</td>\n",
       "      <td>A</td>\n",
       "      <td>E</td>\n",
       "      <td>NaN</td>\n",
       "      <td>B</td>\n",
       "      <td>2.0</td>\n",
       "      <td>1.0</td>\n",
       "      <td>2.0</td>\n",
       "      <td>4.0</td>\n",
       "    </tr>\n",
       "    <tr>\n",
       "      <th>...</th>\n",
       "      <td>...</td>\n",
       "      <td>...</td>\n",
       "      <td>...</td>\n",
       "      <td>...</td>\n",
       "      <td>...</td>\n",
       "      <td>...</td>\n",
       "      <td>...</td>\n",
       "      <td>...</td>\n",
       "      <td>...</td>\n",
       "      <td>...</td>\n",
       "      <td>...</td>\n",
       "      <td>...</td>\n",
       "      <td>...</td>\n",
       "      <td>...</td>\n",
       "      <td>...</td>\n",
       "      <td>...</td>\n",
       "      <td>...</td>\n",
       "      <td>...</td>\n",
       "      <td>...</td>\n",
       "      <td>...</td>\n",
       "      <td>...</td>\n",
       "    </tr>\n",
       "    <tr>\n",
       "      <th>62026</th>\n",
       "      <td>2021</td>\n",
       "      <td>ADS</td>\n",
       "      <td>PE</td>\n",
       "      <td>NE</td>\n",
       "      <td>Privada SFL</td>\n",
       "      <td>Faculdade</td>\n",
       "      <td>Noturno</td>\n",
       "      <td>18.9</td>\n",
       "      <td>2003.0</td>\n",
       "      <td>2019.0</td>\n",
       "      <td>...</td>\n",
       "      <td>Parentes</td>\n",
       "      <td>Nenhuma</td>\n",
       "      <td>A</td>\n",
       "      <td>E</td>\n",
       "      <td>E</td>\n",
       "      <td>B</td>\n",
       "      <td>6.0</td>\n",
       "      <td>6.0</td>\n",
       "      <td>1.0</td>\n",
       "      <td>2.0</td>\n",
       "    </tr>\n",
       "    <tr>\n",
       "      <th>62027</th>\n",
       "      <td>2021</td>\n",
       "      <td>ADS</td>\n",
       "      <td>PE</td>\n",
       "      <td>NE</td>\n",
       "      <td>Privada SFL</td>\n",
       "      <td>Faculdade</td>\n",
       "      <td>Noturno</td>\n",
       "      <td>20.1</td>\n",
       "      <td>2008.0</td>\n",
       "      <td>2020.0</td>\n",
       "      <td>...</td>\n",
       "      <td>Parentes</td>\n",
       "      <td>Duas</td>\n",
       "      <td>A</td>\n",
       "      <td>E</td>\n",
       "      <td>C</td>\n",
       "      <td>B</td>\n",
       "      <td>6.0</td>\n",
       "      <td>6.0</td>\n",
       "      <td>6.0</td>\n",
       "      <td>5.0</td>\n",
       "    </tr>\n",
       "    <tr>\n",
       "      <th>62028</th>\n",
       "      <td>2021</td>\n",
       "      <td>ADS</td>\n",
       "      <td>PE</td>\n",
       "      <td>NE</td>\n",
       "      <td>Privada SFL</td>\n",
       "      <td>Faculdade</td>\n",
       "      <td>Noturno</td>\n",
       "      <td>18.9</td>\n",
       "      <td>2007.0</td>\n",
       "      <td>2019.0</td>\n",
       "      <td>...</td>\n",
       "      <td>Parentes</td>\n",
       "      <td>Três</td>\n",
       "      <td>A</td>\n",
       "      <td>E</td>\n",
       "      <td>C</td>\n",
       "      <td>D</td>\n",
       "      <td>4.0</td>\n",
       "      <td>4.0</td>\n",
       "      <td>3.0</td>\n",
       "      <td>3.0</td>\n",
       "    </tr>\n",
       "    <tr>\n",
       "      <th>62029</th>\n",
       "      <td>2021</td>\n",
       "      <td>ADS</td>\n",
       "      <td>PE</td>\n",
       "      <td>NE</td>\n",
       "      <td>Privada SFL</td>\n",
       "      <td>Faculdade</td>\n",
       "      <td>Noturno</td>\n",
       "      <td>27.1</td>\n",
       "      <td>2016.0</td>\n",
       "      <td>2019.0</td>\n",
       "      <td>...</td>\n",
       "      <td>Parentes</td>\n",
       "      <td>Quatro</td>\n",
       "      <td>A</td>\n",
       "      <td>E</td>\n",
       "      <td>B</td>\n",
       "      <td>C</td>\n",
       "      <td>5.0</td>\n",
       "      <td>6.0</td>\n",
       "      <td>4.0</td>\n",
       "      <td>3.0</td>\n",
       "    </tr>\n",
       "    <tr>\n",
       "      <th>62030</th>\n",
       "      <td>2021</td>\n",
       "      <td>ADS</td>\n",
       "      <td>SC</td>\n",
       "      <td>SUL</td>\n",
       "      <td>Privada SFL</td>\n",
       "      <td>Faculdade</td>\n",
       "      <td>nan</td>\n",
       "      <td>NaN</td>\n",
       "      <td>NaN</td>\n",
       "      <td>NaN</td>\n",
       "      <td>...</td>\n",
       "      <td>nan</td>\n",
       "      <td>nan</td>\n",
       "      <td>NaN</td>\n",
       "      <td>NaN</td>\n",
       "      <td>NaN</td>\n",
       "      <td>NaN</td>\n",
       "      <td>NaN</td>\n",
       "      <td>NaN</td>\n",
       "      <td>NaN</td>\n",
       "      <td>NaN</td>\n",
       "    </tr>\n",
       "  </tbody>\n",
       "</table>\n",
       "<p>62031 rows × 29 columns</p>\n",
       "</div>"
      ],
      "text/plain": [
       "       NU_ANO CO_GRUPO CO_UF_CURSO CO_REGIAO_CURSO       CO_CATEGAD  \\\n",
       "0        2021      BCC          MT              CO  Pública Federal   \n",
       "1        2021      BCC          MT              CO  Pública Federal   \n",
       "2        2021      BCC          MT              CO  Pública Federal   \n",
       "3        2021      BCC          MT              CO  Pública Federal   \n",
       "4        2021      BCC          MT              CO  Pública Federal   \n",
       "...       ...      ...         ...             ...              ...   \n",
       "62026    2021      ADS          PE              NE      Privada SFL   \n",
       "62027    2021      ADS          PE              NE      Privada SFL   \n",
       "62028    2021      ADS          PE              NE      Privada SFL   \n",
       "62029    2021      ADS          PE              NE      Privada SFL   \n",
       "62030    2021      ADS          SC             SUL      Privada SFL   \n",
       "\n",
       "         CO_ORGACAD CO_TURNO_GRADUACAO  NT_GER  ANO_FIM_EM  ANO_IN_GRAD  ...  \\\n",
       "0      Universidade           Integral    26.9      2017.0       2018.0  ...   \n",
       "1      Universidade           Integral    17.2      2015.0       2016.0  ...   \n",
       "2      Universidade           Integral    43.9      2014.0       2015.0  ...   \n",
       "3      Universidade           Integral    40.7      2014.0       2015.0  ...   \n",
       "4      Universidade           Integral    21.7      2017.0       2018.0  ...   \n",
       "...             ...                ...     ...         ...          ...  ...   \n",
       "62026     Faculdade            Noturno    18.9      2003.0       2019.0  ...   \n",
       "62027     Faculdade            Noturno    20.1      2008.0       2020.0  ...   \n",
       "62028     Faculdade            Noturno    18.9      2007.0       2019.0  ...   \n",
       "62029     Faculdade            Noturno    27.1      2016.0       2019.0  ...   \n",
       "62030     Faculdade                nan     NaN         NaN          NaN  ...   \n",
       "\n",
       "               QE_I06   QE_I07  QE_I15 QE_I10 QE_I22 QE_I23 QE_I61 QE_I62  \\\n",
       "0            Parentes      Uma       B      A      E      A    6.0    6.0   \n",
       "1      Outras pessoas     Duas       A      D    NaN      C    6.0    5.0   \n",
       "2            Parentes  Nenhuma       A      A      A      C    4.0    4.0   \n",
       "3            Parentes     Duas       A      A      B      D    NaN    NaN   \n",
       "4            Parentes    Cinco       A      E    NaN      B    2.0    1.0   \n",
       "...               ...      ...     ...    ...    ...    ...    ...    ...   \n",
       "62026        Parentes  Nenhuma       A      E      E      B    6.0    6.0   \n",
       "62027        Parentes     Duas       A      E      C      B    6.0    6.0   \n",
       "62028        Parentes     Três       A      E      C      D    4.0    4.0   \n",
       "62029        Parentes   Quatro       A      E      B      C    5.0    6.0   \n",
       "62030             nan      nan     NaN    NaN    NaN    NaN    NaN    NaN   \n",
       "\n",
       "      QE_I38 QE_I27  \n",
       "0        6.0    6.0  \n",
       "1        4.0    4.0  \n",
       "2        4.0    4.0  \n",
       "3        NaN    NaN  \n",
       "4        2.0    4.0  \n",
       "...      ...    ...  \n",
       "62026    1.0    2.0  \n",
       "62027    6.0    5.0  \n",
       "62028    3.0    3.0  \n",
       "62029    4.0    3.0  \n",
       "62030    NaN    NaN  \n",
       "\n",
       "[62031 rows x 29 columns]"
      ]
     },
     "execution_count": 32,
     "metadata": {},
     "output_type": "execute_result"
    }
   ],
   "source": [
    "dados_21"
   ]
  },
  {
   "cell_type": "code",
   "execution_count": 18,
   "id": "b2717bd4-f67b-4fd4-a814-20ff02d4b267",
   "metadata": {},
   "outputs": [],
   "source": [
    "raca_dict = {\n",
    "'A' : 'Branca','B' : 'Preta', \n",
    "'C' : 'Amarela', 'D' : 'Parda',\n",
    "'E': 'Indígena', 'F': 'Não declarado'\n",
    "}"
   ]
  },
  {
   "cell_type": "code",
   "execution_count": 19,
   "id": "5c5d94b2-8bb0-47b8-b91d-25b011acd98d",
   "metadata": {},
   "outputs": [],
   "source": [
    "dados_21['QE_I02'].replace(raca_dict,inplace=True)\n",
    "dados_21 = dados_21.astype({'QE_I02':str})"
   ]
  },
  {
   "cell_type": "code",
   "execution_count": 20,
   "id": "b6657c30-4739-4555-b695-c7148c536c2b",
   "metadata": {},
   "outputs": [],
   "source": [
    "est_civil_dict = {\n",
    "'A' : 'Solteiro','B' : 'Casado', \n",
    "'C' : 'Separado', 'D' : 'Viúvo',\n",
    "'E': 'Outro'\n",
    "}"
   ]
  },
  {
   "cell_type": "code",
   "execution_count": 21,
   "id": "f3336c8a-899b-47ba-a80d-3c2d851dd86d",
   "metadata": {},
   "outputs": [],
   "source": [
    "dados_21['QE_I01'].replace(est_civil_dict,inplace=True)\n",
    "dados_21 = dados_21.astype({'QE_I01':str})"
   ]
  },
  {
   "cell_type": "code",
   "execution_count": 22,
   "id": "36306703-5fab-4ec3-ba28-6cc3d3b94a73",
   "metadata": {},
   "outputs": [],
   "source": [
    "nl_pai_mae_dict = {\n",
    "'A' : 'Nenhuma','B' : 'Fundamental 1-5', \n",
    "'C' : 'Fundamental 6-9', 'D' : 'Médio',\n",
    "'E': 'Superior', 'F': 'Pós-graduação'\n",
    "}"
   ]
  },
  {
   "cell_type": "code",
   "execution_count": 23,
   "id": "8a5c4eb6-9c6c-4a9c-9330-3754be67ce10",
   "metadata": {},
   "outputs": [],
   "source": [
    "dados_21['QE_I04'].replace(nl_pai_mae_dict,inplace=True)\n",
    "dados_21 = dados_21.astype({'QE_I04':str})"
   ]
  },
  {
   "cell_type": "code",
   "execution_count": 24,
   "id": "34431163-926c-4463-832f-4edde0480b50",
   "metadata": {},
   "outputs": [],
   "source": [
    "dados_21['QE_I05'].replace(nl_pai_mae_dict,inplace=True)\n",
    "dados_21 = dados_21.astype({'QE_I05':str})"
   ]
  },
  {
   "cell_type": "code",
   "execution_count": 25,
   "id": "8809d9b2-7e63-4f3d-94ef-1631b3b94cfc",
   "metadata": {},
   "outputs": [],
   "source": [
    "renda_dict = {\n",
    "'A' : 'Até 1,5 SM','B' : 'De 1,5 a 3 SM', \n",
    "'C' : 'De 3 a 4,5 SM', 'D' : 'De 4,5 a 6 SM',\n",
    "'E': 'De 6 a 10 SM', 'F': 'De 10 a 30 SM',\n",
    "'G': 'Acima de 30 SM'\n",
    "}"
   ]
  },
  {
   "cell_type": "code",
   "execution_count": 27,
   "id": "85ad9199-610c-4e39-b568-17853be7becd",
   "metadata": {},
   "outputs": [],
   "source": [
    "dados_21['QE_I08'].replace(renda_dict,inplace=True)\n",
    "dados_21 = dados_21.astype({'QE_I08':str})"
   ]
  },
  {
   "cell_type": "code",
   "execution_count": 28,
   "id": "4d2f2be1-c3ad-4d63-9179-3a67888a065e",
   "metadata": {},
   "outputs": [],
   "source": [
    "moradia_dict = {\n",
    "'A' : 'Sozinho','B' : 'Parentes', \n",
    "'C' : 'Cônjuge/Filhos', 'D' : 'Outras pessoas',\n",
    "'E': 'Universidade', 'F': 'Habitação individual/coletiva'\n",
    "}"
   ]
  },
  {
   "cell_type": "code",
   "execution_count": 29,
   "id": "c8050cff-2252-4a4b-a493-70d53551d326",
   "metadata": {},
   "outputs": [],
   "source": [
    "dados_21['QE_I06'].replace(moradia_dict,inplace=True)\n",
    "dados_21 = dados_21.astype({'QE_I06':str})"
   ]
  },
  {
   "cell_type": "code",
   "execution_count": 30,
   "id": "d7039dd7-6f61-4a57-9291-2f92da0a83db",
   "metadata": {},
   "outputs": [],
   "source": [
    "qtde_moradia_dict = {\n",
    "'A' : 'Nenhuma','B' : 'Uma', \n",
    "'C' : 'Duas', 'D' : 'Três',\n",
    "'E': 'Quatro', 'F': 'Cinco',\n",
    "'G': 'Seis', 'H': 'Sete ou mais'\n",
    "}"
   ]
  },
  {
   "cell_type": "code",
   "execution_count": 31,
   "id": "692d95dc-c7f5-44a2-8491-650f76939161",
   "metadata": {},
   "outputs": [],
   "source": [
    "dados_21['QE_I07'].replace(qtde_moradia_dict,inplace=True)\n",
    "dados_21 = dados_21.astype({'QE_I07':str})"
   ]
  },
  {
   "cell_type": "code",
   "execution_count": null,
   "id": "73c46ce2-1f1f-41e1-bb9c-e4d8b16404f5",
   "metadata": {},
   "outputs": [],
   "source": [
    "# Política de ação afirmativa"
   ]
  }
 ],
 "metadata": {
  "kernelspec": {
   "display_name": "Python 3 (ipykernel)",
   "language": "python",
   "name": "python3"
  },
  "language_info": {
   "codemirror_mode": {
    "name": "ipython",
    "version": 3
   },
   "file_extension": ".py",
   "mimetype": "text/x-python",
   "name": "python",
   "nbconvert_exporter": "python",
   "pygments_lexer": "ipython3",
   "version": "3.9.13"
  }
 },
 "nbformat": 4,
 "nbformat_minor": 5
}
