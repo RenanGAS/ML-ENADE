{
 "cells": [
  {
   "cell_type": "code",
   "execution_count": 1,
   "id": "6ced60e7-43bf-4093-82d6-ca09c6cee6ff",
   "metadata": {},
   "outputs": [],
   "source": [
    "import pandas as pd\n",
    "import numpy as np"
   ]
  },
  {
   "cell_type": "code",
   "execution_count": null,
   "id": "b33a3d5b-6708-4155-9a87-0debfb0aad41",
   "metadata": {},
   "outputs": [],
   "source": [
    "dados_11 = pd.read_csv('computacao_enade_2011.csv')"
   ]
  },
  {
   "cell_type": "code",
   "execution_count": null,
   "id": "1d35b20a-f061-4ea9-8dc7-3be426b8201a",
   "metadata": {},
   "outputs": [],
   "source": [
    "dados_21 = pd.read_csv('pre-process_2021.csv')"
   ]
  },
  {
   "cell_type": "code",
   "execution_count": null,
   "id": "f5b9cab9-d71c-47fe-961f-199578d8f319",
   "metadata": {},
   "outputs": [],
   "source": [
    "dados = pd.read_csv('merge.csv')"
   ]
  },
  {
   "cell_type": "code",
   "execution_count": null,
   "id": "3e427439-a396-485d-889c-2375dc9c6007",
   "metadata": {},
   "outputs": [],
   "source": [
    "# Nenhuma renda familiar\n",
    "\n",
    "dados_11_Nenhum_Salario = dados_11[dados_11[\"QE_I05\"] == \"A\"]\n",
    "len_Tipo_EM_E = len(dados_11_Nenhum_Salario)\n",
    "\n",
    "len_Tipo_EM_E"
   ]
  },
  {
   "cell_type": "code",
   "execution_count": 24,
   "id": "e6035fe5-faf9-4d60-8872-cf60657738ce",
   "metadata": {},
   "outputs": [
    {
     "data": {
      "text/plain": [
       "202"
      ]
     },
     "execution_count": 24,
     "metadata": {},
     "output_type": "execute_result"
    }
   ],
   "source": [
    "# J = Mais de um dos tipos de bolsa ou financiamento citados.\n",
    "\n",
    "dados_11_Mais_de_um = dados_11[dados_11[\"QE_I10\"] == \"J\"]\n",
    "len_Mais_de_um = len(dados_11_Mais_de_um)\n",
    "\n",
    "len_Mais_de_um"
   ]
  },
  {
   "cell_type": "code",
   "execution_count": 21,
   "id": "0be042ed-bb1c-42b6-94fa-f2f4c69fbaba",
   "metadata": {},
   "outputs": [
    {
     "data": {
      "text/plain": [
       "30306"
      ]
     },
     "execution_count": 21,
     "metadata": {},
     "output_type": "execute_result"
    }
   ],
   "source": [
    "# Repondeu \"Não se aplica\", \"Não\" ou apenas não respondeu a questão QE_I10\n",
    "\n",
    "dados_11_Sem_Bolsa = dados_11[dados_11[\"QE_I10\"].isnull()]\n",
    "len_Sem_Bolsa = len(dados_11_Sem_Bolsa)\n",
    "\n",
    "len_Sem_Bolsa"
   ]
  },
  {
   "cell_type": "code",
   "execution_count": 25,
   "id": "8e34664c-3725-49ce-88b3-44a381c1fdb9",
   "metadata": {},
   "outputs": [
    {
     "data": {
      "text/plain": [
       "29855"
      ]
     },
     "execution_count": 25,
     "metadata": {},
     "output_type": "execute_result"
    }
   ],
   "source": [
    "# Repondeu \"Não se aplica\" ou \"Não\" em QE_I09\n",
    "\n",
    "dados_11_Nao_Bolsa = dados_11[(dados_11[\"QE_I09\"] == \"B\") | (dados_11[\"QE_I09\"] == \"C\") | (dados_11[\"QE_I09\"].isnull())]\n",
    "len_Nao_Bolsa = len(dados_11_Nao_Bolsa)\n",
    "\n",
    "len_Nao_Bolsa"
   ]
  },
  {
   "cell_type": "code",
   "execution_count": 5,
   "id": "5db690de-402f-494e-a7d5-ba40c82b5e67",
   "metadata": {},
   "outputs": [
    {
     "data": {
      "text/html": [
       "<div>\n",
       "<style scoped>\n",
       "    .dataframe tbody tr th:only-of-type {\n",
       "        vertical-align: middle;\n",
       "    }\n",
       "\n",
       "    .dataframe tbody tr th {\n",
       "        vertical-align: top;\n",
       "    }\n",
       "\n",
       "    .dataframe thead th {\n",
       "        text-align: right;\n",
       "    }\n",
       "</style>\n",
       "<table border=\"1\" class=\"dataframe\">\n",
       "  <thead>\n",
       "    <tr style=\"text-align: right;\">\n",
       "      <th></th>\n",
       "      <th>Atributo 1</th>\n",
       "      <th>Atributo 2</th>\n",
       "      <th>Atributo 3</th>\n",
       "    </tr>\n",
       "  </thead>\n",
       "  <tbody>\n",
       "  </tbody>\n",
       "</table>\n",
       "</div>"
      ],
      "text/plain": [
       "Empty DataFrame\n",
       "Columns: [Atributo 1, Atributo 2, Atributo 3]\n",
       "Index: []"
      ]
     },
     "execution_count": 5,
     "metadata": {},
     "output_type": "execute_result"
    }
   ],
   "source": [
    "df = pd.DataFrame(columns = [\"Atributo 1\", \"Atributo 2\", \"Atributo 3\"])\n",
    "\n",
    "df[\"Atributo 1\"] = \"Renan\"\n",
    "df[\"Atributo 2\"] = 0\n",
    "df[\"Atributo 3\"] = 2002\n",
    "\n",
    "df"
   ]
  },
  {
   "cell_type": "code",
   "execution_count": 17,
   "id": "a4c88af7-5f71-475a-9798-61292e389707",
   "metadata": {},
   "outputs": [
    {
     "ename": "TypeError",
     "evalue": "'list' object cannot be interpreted as an integer",
     "output_type": "error",
     "traceback": [
      "\u001b[0;31m---------------------------------------------------------------------------\u001b[0m",
      "\u001b[0;31mTypeError\u001b[0m                                 Traceback (most recent call last)",
      "\u001b[0;32m/tmp/ipykernel_9743/1352929621.py\u001b[0m in \u001b[0;36m<module>\u001b[0;34m\u001b[0m\n\u001b[1;32m      1\u001b[0m \u001b[0mnumpy_array\u001b[0m \u001b[0;34m=\u001b[0m \u001b[0mnp\u001b[0m\u001b[0;34m.\u001b[0m\u001b[0marray\u001b[0m\u001b[0;34m(\u001b[0m\u001b[0;34m[\u001b[0m\u001b[0;36m10\u001b[0m\u001b[0;34m,\u001b[0m\u001b[0;36m20\u001b[0m\u001b[0;34m,\u001b[0m\u001b[0;36m30\u001b[0m\u001b[0;34m,\u001b[0m\u001b[0;36m40\u001b[0m\u001b[0;34m,\u001b[0m\u001b[0;36m50\u001b[0m\u001b[0;34m]\u001b[0m\u001b[0;34m)\u001b[0m\u001b[0;34m\u001b[0m\u001b[0;34m\u001b[0m\u001b[0m\n\u001b[0;32m----> 2\u001b[0;31m \u001b[0mnp\u001b[0m\u001b[0;34m.\u001b[0m\u001b[0mconcatenate\u001b[0m\u001b[0;34m(\u001b[0m\u001b[0mnumpy_array\u001b[0m\u001b[0;34m,\u001b[0m\u001b[0;34m[\u001b[0m\u001b[0;36m60\u001b[0m\u001b[0;34m,\u001b[0m\u001b[0;36m80\u001b[0m\u001b[0;34m,\u001b[0m\u001b[0;36m90\u001b[0m\u001b[0;34m]\u001b[0m\u001b[0;34m)\u001b[0m\u001b[0;34m\u001b[0m\u001b[0;34m\u001b[0m\u001b[0m\n\u001b[0m\u001b[1;32m      3\u001b[0m \u001b[0;34m\u001b[0m\u001b[0m\n\u001b[1;32m      4\u001b[0m \u001b[0mnumpy_array\u001b[0m\u001b[0;34m\u001b[0m\u001b[0;34m\u001b[0m\u001b[0m\n",
      "\u001b[0;32m~/.local/lib/python3.9/site-packages/numpy/core/overrides.py\u001b[0m in \u001b[0;36mconcatenate\u001b[0;34m(*args, **kwargs)\u001b[0m\n",
      "\u001b[0;31mTypeError\u001b[0m: 'list' object cannot be interpreted as an integer"
     ]
    }
   ],
   "source": [
    "numpy_array = np.array([10,20,30,40,50])\n",
    "np.concatenate(numpy_array,[60,80,90])\n",
    "\n",
    "numpy_array"
   ]
  },
  {
   "cell_type": "code",
   "execution_count": null,
   "id": "2a46bfa9-936d-4d1e-833c-1c600432fda9",
   "metadata": {},
   "outputs": [],
   "source": [
    "# Mexendo com np array para colocar em posições especificas de acordo com a cópia do data frame"
   ]
  }
 ],
 "metadata": {
  "kernelspec": {
   "display_name": "Python 3 (ipykernel)",
   "language": "python",
   "name": "python3"
  },
  "language_info": {
   "codemirror_mode": {
    "name": "ipython",
    "version": 3
   },
   "file_extension": ".py",
   "mimetype": "text/x-python",
   "name": "python",
   "nbconvert_exporter": "python",
   "pygments_lexer": "ipython3",
   "version": "3.9.13"
  }
 },
 "nbformat": 4,
 "nbformat_minor": 5
}
