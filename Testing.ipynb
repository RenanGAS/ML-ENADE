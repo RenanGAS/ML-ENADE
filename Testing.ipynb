{
 "cells": [
  {
   "cell_type": "code",
   "execution_count": 2,
   "id": "6ced60e7-43bf-4093-82d6-ca09c6cee6ff",
   "metadata": {},
   "outputs": [],
   "source": [
    "import pandas as pd\n",
    "import numpy as np"
   ]
  },
  {
   "cell_type": "code",
   "execution_count": 3,
   "id": "b33a3d5b-6708-4155-9a87-0debfb0aad41",
   "metadata": {},
   "outputs": [],
   "source": [
    "dados_11 = pd.read_csv('pre-process_2011.csv')"
   ]
  },
  {
   "cell_type": "code",
   "execution_count": null,
   "id": "1d35b20a-f061-4ea9-8dc7-3be426b8201a",
   "metadata": {},
   "outputs": [],
   "source": [
    "dados_21 = pd.read_csv('pre-process_2021.csv')"
   ]
  },
  {
   "cell_type": "code",
   "execution_count": null,
   "id": "f5b9cab9-d71c-47fe-961f-199578d8f319",
   "metadata": {},
   "outputs": [],
   "source": [
    "dados = pd.read_csv('merge.csv')"
   ]
  },
  {
   "cell_type": "code",
   "execution_count": 4,
   "id": "c81985a6-de5f-45fa-b1a8-abde47d67ec8",
   "metadata": {},
   "outputs": [
    {
     "data": {
      "text/plain": [
       "747"
      ]
     },
     "execution_count": 4,
     "metadata": {},
     "output_type": "execute_result"
    }
   ],
   "source": [
    "dados_11_Privada_Publica = dados_11[dados_11[\"Tipo_Escola_EM\"] == \"Inválido\"]\n",
    "len_Tipo_EM_E = len(dados_11_Privada_Publica)\n",
    "\n",
    "len_Tipo_EM_E"
   ]
  },
  {
   "cell_type": "code",
   "execution_count": 5,
   "id": "25a666db-d2e5-4e60-9315-bdab52e3bdba",
   "metadata": {},
   "outputs": [
    {
     "data": {
      "text/plain": [
       "373.5"
      ]
     },
     "execution_count": 5,
     "metadata": {},
     "output_type": "execute_result"
    }
   ],
   "source": [
    "metade_len = len_Tipo_EM_E / 2\n",
    "metade_len\n"
   ]
  },
  {
   "cell_type": "code",
   "execution_count": 6,
   "id": "ed2c5e78-674c-4652-9369-645f138f0f63",
   "metadata": {},
   "outputs": [],
   "source": [
    "\n",
    "count = 0\n",
    "turn = 0\n",
    "\n",
    "for i, j in dados_11.iterrows():\n",
    "    if count >= metade_len:\n",
    "        turn = 1;\n",
    "  \n",
    "    if dados_11.at[i,\"Tipo_Escola_EM\"] == \"Inválido\":\n",
    "        if not(turn):\n",
    "            dados_11.at[i,\"Tipo_Escola_EM\"] = \"Pública\"\n",
    "        else:\n",
    "            dados_11.at[i,\"Tipo_Escola_EM\"] = \"Privada\"\n",
    "            \n",
    "        count += 1\n",
    "        "
   ]
  },
  {
   "cell_type": "code",
   "execution_count": 7,
   "id": "ba91ce3b-87f1-4632-a183-7057289efa73",
   "metadata": {},
   "outputs": [
    {
     "data": {
      "text/plain": [
       "0"
      ]
     },
     "execution_count": 7,
     "metadata": {},
     "output_type": "execute_result"
    }
   ],
   "source": [
    "novos_dados_11_Privada_Publica = dados_11[dados_11[\"Tipo_Escola_EM\"] == \"Inválido\"]\n",
    "\n",
    "novo_len_dados_11 = len(novos_dados_11_Privada_Publica)\n",
    "novo_len_dados_11"
   ]
  },
  {
   "cell_type": "code",
   "execution_count": null,
   "id": "424e2ea7-f0c5-48bb-94dd-f14597cc77c0",
   "metadata": {},
   "outputs": [],
   "source": [
    "dados_11_Tipo_Escola_EM = dados_11[\"Tipo_Escola_EM\"]\n",
    "\n",
    "dados_11_Tipo_Escola_EM"
   ]
  },
  {
   "cell_type": "code",
   "execution_count": null,
   "id": "7730fce2-2adb-4c63-b3d0-cbae91912c36",
   "metadata": {},
   "outputs": [],
   "source": [
    "dados_Exterior = dados[dados[\"Tipo_Escola_EM\"] == \"Brasil e exterior\"]\n",
    "dados_Exterior"
   ]
  },
  {
   "cell_type": "code",
   "execution_count": null,
   "id": "3e427439-a396-485d-889c-2375dc9c6007",
   "metadata": {},
   "outputs": [],
   "source": []
  }
 ],
 "metadata": {
  "kernelspec": {
   "display_name": "Python 3 (ipykernel)",
   "language": "python",
   "name": "python3"
  },
  "language_info": {
   "codemirror_mode": {
    "name": "ipython",
    "version": 3
   },
   "file_extension": ".py",
   "mimetype": "text/x-python",
   "name": "python",
   "nbconvert_exporter": "python",
   "pygments_lexer": "ipython3",
   "version": "3.9.13"
  }
 },
 "nbformat": 4,
 "nbformat_minor": 5
}
