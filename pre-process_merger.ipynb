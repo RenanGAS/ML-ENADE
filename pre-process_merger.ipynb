{
 "cells": [
  {
   "cell_type": "code",
   "execution_count": null,
   "id": "8ce1b438-a475-451e-acdc-9df0a2c5d54c",
   "metadata": {},
   "outputs": [],
   "source": [
    "import pandas as pd\n",
    "import numpy as np"
   ]
  },
  {
   "cell_type": "code",
   "execution_count": null,
   "id": "6761bd2d-664a-40f7-af9b-9d25e0e037cb",
   "metadata": {},
   "outputs": [],
   "source": [
    "dados = pd.read_csv('merge.csv')"
   ]
  },
  {
   "cell_type": "code",
   "execution_count": null,
   "id": "71ab6dea-cd29-495f-b7be-67d4204ec8c3",
   "metadata": {},
   "outputs": [],
   "source": [
    "codigoCursos = dados[\"Codigo_do_Curso\"].unique()"
   ]
  },
  {
   "cell_type": "code",
   "execution_count": null,
   "id": "2e3ef58e-0b23-419a-825a-94440a1827cf",
   "metadata": {},
   "outputs": [],
   "source": [
    "len(codigoCursos)"
   ]
  },
  {
   "cell_type": "code",
   "execution_count": null,
   "id": "dcb72031-2c94-427b-8056-dd5def1df36f",
   "metadata": {},
   "outputs": [],
   "source": [
    "novoConjunto = []\n",
    "\n",
    "for codigo in codigoCursos:\n",
    "    subconjuntoCurso = dados.loc[dados['Codigo_do_Curso'] == codigo]\n",
    "    subconjuntoCurso = subconjuntoCurso.reset_index(drop=True) \n",
    "    dadosCurso = []\n",
    "    dadosCurso.extend([codigo, subconjuntoCurso._get_value(0, 'Curso')])\n",
    "    novoConjunto.append(dadosCurso)\n",
    "\n",
    "novosDados = pd.DataFrame(novoConjunto)\n",
    "    "
   ]
  },
  {
   "cell_type": "code",
   "execution_count": null,
   "id": "c55de4f8-5502-46b0-9439-17aa31e1f20e",
   "metadata": {},
   "outputs": [],
   "source": [
    "novosDados"
   ]
  },
  {
   "cell_type": "code",
   "execution_count": null,
   "id": "be6cf277-bdc7-4c3a-8942-ad48f6d9aec8",
   "metadata": {},
   "outputs": [],
   "source": []
  }
 ],
 "metadata": {
  "kernelspec": {
   "display_name": "Python 3 (ipykernel)",
   "language": "python",
   "name": "python3"
  },
  "language_info": {
   "codemirror_mode": {
    "name": "ipython",
    "version": 3
   },
   "file_extension": ".py",
   "mimetype": "text/x-python",
   "name": "python",
   "nbconvert_exporter": "python",
   "pygments_lexer": "ipython3",
   "version": "3.9.13"
  }
 },
 "nbformat": 4,
 "nbformat_minor": 5
}
