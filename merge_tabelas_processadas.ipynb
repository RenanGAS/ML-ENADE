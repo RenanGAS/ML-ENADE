{
 "cells": [
  {
   "cell_type": "code",
   "execution_count": 1,
   "id": "118d28cc-2864-409c-ba25-51807bd4445c",
   "metadata": {},
   "outputs": [],
   "source": [
    "import pandas as pd\n",
    "import numpy as np"
   ]
  },
  {
   "cell_type": "code",
   "execution_count": 2,
   "id": "03817265-26a9-416e-ae25-f85884af5bdf",
   "metadata": {},
   "outputs": [],
   "source": [
    "dados_21 = pd.read_csv('pre-process_2021.csv')\n",
    "dados_17 = pd.read_csv('pre-process_2017.csv')\n",
    "dados_14 = pd.read_csv('pre-process_2014.csv')\n",
    "dados_11 = pd.read_csv('pre-process_2011.csv')"
   ]
  },
  {
   "cell_type": "code",
   "execution_count": 3,
   "id": "f81685b2-60f1-4b9d-8d4d-45f84afccb3e",
   "metadata": {},
   "outputs": [],
   "source": [
    "dados = [dados_21, dados_17, dados_14, dados_11]\n",
    "  \n",
    "result = pd.concat(dados)"
   ]
  },
  {
   "cell_type": "code",
   "execution_count": 4,
   "id": "dc65296e-dcaa-4b91-aecb-587df9c3f6f6",
   "metadata": {},
   "outputs": [],
   "source": [
    "result.to_csv('./{}.csv'.format('merge_tabelas'),index=False)"
   ]
  },
  {
   "cell_type": "code",
   "execution_count": 5,
   "id": "ccbe5baf-f4b5-4f92-9384-113ae74d19be",
   "metadata": {},
   "outputs": [
    {
     "data": {
      "text/plain": [
       "205837"
      ]
     },
     "execution_count": 5,
     "metadata": {},
     "output_type": "execute_result"
    }
   ],
   "source": [
    "len(result)"
   ]
  },
  {
   "cell_type": "code",
   "execution_count": null,
   "id": "54338ae6-24ec-4976-aaf4-4ddfd5bb793a",
   "metadata": {},
   "outputs": [],
   "source": []
  }
 ],
 "metadata": {
  "kernelspec": {
   "display_name": "Python 3 (ipykernel)",
   "language": "python",
   "name": "python3"
  },
  "language_info": {
   "codemirror_mode": {
    "name": "ipython",
    "version": 3
   },
   "file_extension": ".py",
   "mimetype": "text/x-python",
   "name": "python",
   "nbconvert_exporter": "python",
   "pygments_lexer": "ipython3",
   "version": "3.9.13"
  }
 },
 "nbformat": 4,
 "nbformat_minor": 5
}
